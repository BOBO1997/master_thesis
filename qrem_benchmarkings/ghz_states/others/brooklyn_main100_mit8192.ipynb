{
 "cells": [
  {
   "cell_type": "code",
   "execution_count": 1,
   "id": "faced-commonwealth",
   "metadata": {},
   "outputs": [],
   "source": [
    "import sys\n",
    "sys.path.append('../../libmitigation')"
   ]
  },
  {
   "cell_type": "code",
   "execution_count": 2,
   "id": "broke-graduate",
   "metadata": {},
   "outputs": [],
   "source": [
    "import numpy as np\n",
    "import matplotlib.pyplot as plt\n",
    "%matplotlib inline\n",
    "from IPython.display import Image, display\n",
    "import pickle\n",
    "import pprint\n",
    "import time"
   ]
  },
  {
   "cell_type": "code",
   "execution_count": 3,
   "id": "filled-filename",
   "metadata": {},
   "outputs": [],
   "source": [
    "import qiskit\n",
    "from qiskit import QuantumCircuit, QuantumRegister, ClassicalRegister, Aer, execute, IBMQ\n",
    "from qiskit.tools.visualization import plot_histogram\n",
    "from qiskit.tools.monitor import job_monitor\n",
    "import qiskit.ignis.mitigation as mit\n",
    "import qiskit.quantum_info as qi"
   ]
  },
  {
   "cell_type": "code",
   "execution_count": 4,
   "id": "honey-israel",
   "metadata": {},
   "outputs": [],
   "source": [
    "import qiskit.ignis.mitigation as mit\n",
    "from qiskit.ignis.mitigation.measurement import tensored_meas_cal, TensoredMeasFitter\n",
    "import importlib"
   ]
  },
  {
   "cell_type": "code",
   "execution_count": 5,
   "id": "angry-contrary",
   "metadata": {},
   "outputs": [
    {
     "name": "stdout",
     "output_type": "stream",
     "text": [
      "<AccountProvider for IBMQ(hub='ibm-q-utokyo', group='internal', project='hirashi-jst')>\n"
     ]
    }
   ],
   "source": [
    "IBMQ.load_account()\n",
    "provider = IBMQ.get_provider(hub='ibm-q-utokyo', group='internal', project='hirashi-jst')\n",
    "print(provider)"
   ]
  },
  {
   "cell_type": "code",
   "execution_count": 6,
   "id": "popular-bride",
   "metadata": {},
   "outputs": [],
   "source": [
    "# qubit layout\n",
    "vertex_list =  [33, # 0\n",
    "                32, # 1\n",
    "                25, 31, # 2, 3\n",
    "                34, 19, 39, # 4, 5, 6\n",
    "                30, 35, 18, 45, # 7, 8, 9, 10\n",
    "                20, 29, 40, 17, 46, # 11, 12, 13, 14, 15\n",
    "                36, 44, 21, 28, 49, 16, 47, # 16, 17, 18, 19, 20, 21, 22\n",
    "                24, 11, 37, 43, 12, 27, 50, 15, 53, # 23, 24, 25, 26, 27, 28, 29, 30, 31\n",
    "                22, 48,  4, 26, 52,  8, 38, 51, 14, 60, # 32, 33, 34, 35, 36, 37, 38, 39, 40, 41\n",
    "                42, 23,  3, 56,  7, 41, 54, 13, 59, # 42, 43, 44, 45, 46, 47, 48, 49, 50\n",
    "                 5,  9, 61,  2, 55,  6, 64, 10, 58, # 51, 52, 53, 54, 55, 56, 57, 58, 59\n",
    "                57, 62,  1, 63,  0] # 60, 61, 62, 63, 64\n",
    "def is_permutation(seq):\n",
    "    return len(seq) == len(set(seq))\n",
    "assert is_permutation(vertex_list)\n",
    "max_size = len(vertex_list) # largest graph size\n",
    "shots_per_circuit = 1 << 13 # shots per one execution\n",
    "system_size = len(vertex_list)"
   ]
  },
  {
   "cell_type": "code",
   "execution_count": 7,
   "id": "indirect-point",
   "metadata": {},
   "outputs": [
    {
     "name": "stdout",
     "output_type": "stream",
     "text": [
      "max_size: 65\n",
      "system_size: 65\n",
      "shots_per_circuit: 8192\n"
     ]
    }
   ],
   "source": [
    "print(\"max_size:\", max_size)\n",
    "print(\"system_size:\", system_size)\n",
    "print(\"shots_per_circuit:\", shots_per_circuit)"
   ]
  },
  {
   "cell_type": "code",
   "execution_count": 8,
   "id": "small-massachusetts",
   "metadata": {},
   "outputs": [],
   "source": [
    "# indicate how to connect qubits\n",
    "order = [[0,1], # 2\n",
    "         [0,2],  [1,3], # 3\n",
    "         [0,4],  [2,5],  [3,6], # 4\n",
    "         [3,7],  [4,8],  [5,9],  [6,10], # 5\n",
    "         [5,11], [7,12], [8,13], [9,14], [10,15], # 6\n",
    "         [8,16], [10,17],[11,18],[12,19],[13,20],[14,21],[15,22], # 7\n",
    "         [12,23],[14,24],[16,25],[17,26],[18,27],[19,28],[20,29],[21,30],[22,31], # 8\n",
    "         [18,32],[20,33],[24,34],[25,35],[26,36],[27,37],[28,38],[29,39],[30,40],[31,41], # 9\n",
    "         [26,42],[32,43],[34,44],[36,45],[37,46],[38,47],[39,48],[40,49],[41,50], # 10\n",
    "         [34,51],[37,52],[41,53],[44,54],[45,55],[46,56],[48,57],[49,58],[50,59], # 11\n",
    "         [45,60],[53,61],[54,62],[57,63],[58,64]] # 12"
   ]
  },
  {
   "cell_type": "code",
   "execution_count": 9,
   "id": "tropical-netherlands",
   "metadata": {},
   "outputs": [
    {
     "name": "stdout",
     "output_type": "stream",
     "text": [
      "[0, 1, 2, 2, 3, 3, 3, 4, 4, 4, 4, 5, 5, 5, 5, 5, 6, 6, 6, 6, 6, 6, 6, 7, 7, 7, 7, 7, 7, 7, 7, 7, 8, 8, 8, 8, 8, 8, 8, 8, 8, 8, 9, 9, 9, 9, 9, 9, 9, 9, 9, 10, 10, 10, 10, 10, 10, 10, 10, 10, 11, 11, 11, 11, 11]\n",
      "65\n"
     ]
    }
   ],
   "source": [
    "qubit_depths = [0, \n",
    "                1, \n",
    "                2, 2,\n",
    "                3, 3, 3, \n",
    "                4, 4, 4, 4, \n",
    "                5, 5, 5, 5, 5, \n",
    "                6, 6, 6, 6, 6, 6, 6, \n",
    "                7, 7, 7, 7, 7, 7, 7, 7, 7,\n",
    "                8, 8, 8, 8, 8, 8, 8, 8, 8, 8,\n",
    "                9, 9, 9, 9, 9, 9, 9, 9, 9,\n",
    "                10,10,10,10,10,10,10,10,10,\n",
    "                11,11,11,11,11]\n",
    "print(qubit_depths)\n",
    "print(len(qubit_depths))"
   ]
  },
  {
   "cell_type": "code",
   "execution_count": 10,
   "id": "divided-anthony",
   "metadata": {},
   "outputs": [],
   "source": [
    "def ghz_state(size, order, qubit_depths):\n",
    "    qc = QuantumCircuit(size)\n",
    "    if size <= 1:\n",
    "        qc.measure_all()\n",
    "        return qc\n",
    "    qc.h(0)\n",
    "    depth = 0\n",
    "    for i, j in order:\n",
    "        if depth != qubit_depths[j]:\n",
    "            qc.barrier()\n",
    "            depth += 1\n",
    "        qc.cx(i, j)\n",
    "    qc.barrier()\n",
    "    qc.measure_all()\n",
    "    return qc"
   ]
  },
  {
   "cell_type": "code",
   "execution_count": 11,
   "id": "individual-volume",
   "metadata": {},
   "outputs": [],
   "source": [
    "qcs = [ghz_state(size, order[:size-1], qubit_depths[:size]) for size in range(1, max_size+1)]"
   ]
  },
  {
   "cell_type": "code",
   "execution_count": 12,
   "id": "fleet-syria",
   "metadata": {},
   "outputs": [],
   "source": [
    "def make_qcs_list(qcs):\n",
    "    qcs_list = []\n",
    "    mit_patterns = []\n",
    "    for i in range(len(qcs)):\n",
    "        qr = QuantumRegister(qcs[i].num_qubits)\n",
    "        mit_pattern = [[i] for i in range(qcs[i].num_qubits)]\n",
    "        meas_calibs, state_labels = tensored_meas_cal(mit_pattern=mit_pattern, qr=qr, circlabel='mcal')\n",
    "        qcs_list.append(qcs[i])\n",
    "        qcs_list += meas_calibs\n",
    "        mit_patterns.append(mit_pattern)\n",
    "    return qcs_list, mit_patterns"
   ]
  },
  {
   "cell_type": "code",
   "execution_count": 13,
   "id": "protecting-empire",
   "metadata": {},
   "outputs": [],
   "source": [
    "initial_layouts = []\n",
    "for i in range(len(qcs)):\n",
    "    initial_layouts.append( vertex_list[:qcs[i].num_qubits] )"
   ]
  },
  {
   "cell_type": "code",
   "execution_count": 14,
   "id": "efficient-doctor",
   "metadata": {},
   "outputs": [
    {
     "name": "stderr",
     "output_type": "stream",
     "text": [
      "/var/folders/vr/d82vcp297v78vk4sb0_nzzdc0000gn/T/ipykernel_91014/3224781028.py:1: DeprecationWarning: The `backends` provider attribute is deprecated. Please use `provider.backend` (singular) instead. You can continue to use `provider.backends()` to retrieve all backends.\n",
      "  device = provider.backends.ibmq_brooklyn\n"
     ]
    }
   ],
   "source": [
    "device = provider.backend.ibmq_brooklyn\n",
    "backend = provider.get_backend('ibmq_brooklyn')"
   ]
  },
  {
   "cell_type": "code",
   "execution_count": 15,
   "id": "visible-movement",
   "metadata": {},
   "outputs": [],
   "source": [
    "qr = QuantumRegister(qcs[i].num_qubits)\n",
    "mit_pattern = [[i] for i in range(qcs[-1].num_qubits)]\n",
    "meas_calibs, state_labels = tensored_meas_cal(mit_pattern=mit_pattern, qr=qr, circlabel='mcal')"
   ]
  },
  {
   "cell_type": "code",
   "execution_count": 16,
   "id": "stable-medicare",
   "metadata": {},
   "outputs": [
    {
     "name": "stdout",
     "output_type": "stream",
     "text": [
      "job id: 619ea95b68476d42528aa440\n"
     ]
    }
   ],
   "source": [
    "job_cal = execute(meas_calibs, # qcs_list,\n",
    "               backend=backend, \n",
    "               shots=shots_per_circuit, # 8192\n",
    "               optimization_level=1,\n",
    "               initial_layout=[vertex_list, vertex_list])\n",
    "print(\"job id:\", job_cal.job_id())"
   ]
  },
  {
   "cell_type": "code",
   "execution_count": 17,
   "id": "solar-framing",
   "metadata": {
    "scrolled": true
   },
   "outputs": [
    {
     "name": "stdout",
     "output_type": "stream",
     "text": [
      "job id: 619ea964a6df2a384db9505e\n"
     ]
    }
   ],
   "source": [
    "job = execute(qcs, # qcs_list,\n",
    "               backend=backend, \n",
    "               shots=100,\n",
    "               optimization_level=1,\n",
    "               initial_layout=initial_layouts)\n",
    "print(\"job id:\", job.job_id())"
   ]
  },
  {
   "cell_type": "code",
   "execution_count": 16,
   "id": "47ed709c",
   "metadata": {},
   "outputs": [],
   "source": [
    "def job_ids_to_jobs(job_ids):\n",
    "    jobs = []\n",
    "    for job_id in job_ids:\n",
    "        jobs.append(device.retreive_job(job_id))\n",
    "    return jobs\n",
    "# job = device.retreive_job(\"612328f097779a7ef2947a5b\")\n",
    "# job_cal = device.retreive_job(\"612328f59d8e993d22f37c23\")"
   ]
  },
  {
   "cell_type": "code",
   "execution_count": 17,
   "id": "8e0939f9",
   "metadata": {},
   "outputs": [],
   "source": [
    "with open(\"pkls/brooklyn_main100_mit8192.pkl\", \"rb\") as f:\n",
    "    job, job_cal = pickle.load(f)"
   ]
  },
  {
   "cell_type": "code",
   "execution_count": 18,
   "id": "acceptable-farmer",
   "metadata": {},
   "outputs": [],
   "source": [
    "result = job.result()\n",
    "result_cal = job_cal.result()"
   ]
  },
  {
   "cell_type": "code",
   "execution_count": 19,
   "id": "durable-repair",
   "metadata": {},
   "outputs": [],
   "source": [
    "meas_fitter = TensoredMeasFitter(result_cal, mit_pattern=mit_pattern)"
   ]
  },
  {
   "cell_type": "code",
   "execution_count": 20,
   "id": "9b31a303",
   "metadata": {},
   "outputs": [],
   "source": [
    "from mitigation import QREM_Filter_Cython"
   ]
  },
  {
   "cell_type": "code",
   "execution_count": null,
   "id": "156c3d2f",
   "metadata": {},
   "outputs": [],
   "source": [
    "meas_filter = "
   ]
  }
 ],
 "metadata": {
  "kernelspec": {
   "display_name": "Python 3 (ipykernel)",
   "language": "python",
   "name": "python3"
  },
  "language_info": {
   "codemirror_mode": {
    "name": "ipython",
    "version": 3
   },
   "file_extension": ".py",
   "mimetype": "text/x-python",
   "name": "python",
   "nbconvert_exporter": "python",
   "pygments_lexer": "ipython3",
   "version": "3.9.7"
  }
 },
 "nbformat": 4,
 "nbformat_minor": 5
}

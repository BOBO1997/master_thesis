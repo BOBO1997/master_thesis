{
 "cells": [
  {
   "cell_type": "code",
   "execution_count": 1,
   "metadata": {},
   "outputs": [],
   "source": [
    "import sys\n",
    "import time\n",
    "import numpy as np\n",
    "import pickle\n",
    "import importlib"
   ]
  },
  {
   "cell_type": "code",
   "execution_count": 2,
   "metadata": {},
   "outputs": [],
   "source": [
    "from qiskit import Aer, IBMQ\n",
    "from qiskit.ignis.mitigation.measurement import TensoredMeasFitter"
   ]
  },
  {
   "cell_type": "code",
   "execution_count": 3,
   "metadata": {},
   "outputs": [],
   "source": [
    "max_size = 57\n",
    "max_length = 56"
   ]
  },
  {
   "cell_type": "code",
   "execution_count": 4,
   "metadata": {},
   "outputs": [],
   "source": [
    "with open(\"pkls/raw_hist_list.pkl\", \"rb\") as f:\n",
    "    raw_hist_list = pickle.load(f)\n",
    "with open(\"pkls/results_meas_cal.pkl\", \"rb\") as f:\n",
    "    results_meas_cal = pickle.load(f)"
   ]
  },
  {
   "cell_type": "code",
   "execution_count": 5,
   "metadata": {},
   "outputs": [],
   "source": [
    "import libs_qrem\n",
    "importlib.reload(libs_qrem)\n",
    "from libs_qrem import QREM_Filter_3"
   ]
  },
  {
   "cell_type": "code",
   "execution_count": 6,
   "metadata": {},
   "outputs": [
    {
     "name": "stdout",
     "output_type": "stream",
     "text": [
      "size 10 finished\n",
      "size 20 finished\n",
      "size 30 finished\n",
      "size 40 finished\n",
      "size 50 finished\n",
      "length of xz_mooney01_mitigator_list:  56\n"
     ]
    }
   ],
   "source": [
    "xz_mooney01_mitigator_list = []\n",
    "for n in range(2, max_size + 1): # [2, ..., 57]\n",
    "    mit_pattern = [[i] for i in range(n)]\n",
    "    meas_fitter = TensoredMeasFitter(results_meas_cal[n - 2], mit_pattern=mit_pattern)\n",
    "    xz_mooney01_mitigator_list.append(QREM_Filter_3(n, meas_fitter.cal_matrices))\n",
    "    if n % 10 == 0:\n",
    "        print(\"size\", n, \"finished\")\n",
    "print(\"length of xz_mooney01_mitigator_list: \", len(xz_mooney01_mitigator_list))"
   ]
  },
  {
   "cell_type": "code",
   "execution_count": 7,
   "metadata": {},
   "outputs": [
    {
     "name": "stdout",
     "output_type": "stream",
     "text": [
      "size 10 finished\n",
      "size 20 finished\n",
      "size 30 finished\n",
      "size 40 finished\n",
      "size 50 finished\n",
      "length of zx_mooney01_mitigator_list:  56\n"
     ]
    }
   ],
   "source": [
    "zx_mooney01_mitigator_list = []\n",
    "for n in range(2, max_size + 1): # [2, ..., 57]\n",
    "    mit_pattern = [[i] for i in range(n)]\n",
    "    meas_fitter = TensoredMeasFitter(results_meas_cal[n - 2], mit_pattern=mit_pattern)\n",
    "    zx_mooney01_mitigator_list.append(QREM_Filter_3(n, meas_fitter.cal_matrices))\n",
    "    if n % 10 == 0:\n",
    "        print(\"size\", n, \"finished\")\n",
    "print(\"length of zx_mooney01_mitigator_list: \", len(zx_mooney01_mitigator_list))"
   ]
  },
  {
   "cell_type": "code",
   "execution_count": 8,
   "metadata": {},
   "outputs": [
    {
     "name": "stdout",
     "output_type": "stream",
     "text": [
      "2 qubits\n",
      "xz 0.00013308899997355184 s\n",
      "zx accumulator is positive, we might even ignoring the necessal positive values.\n",
      "4.94780006192741e-05 s\n",
      "\n",
      "3 qubits\n",
      "xz 0.00012678799976129085 s\n",
      "zx 8.641299973533023e-05 s\n",
      "\n",
      "4 qubits\n",
      "xz 0.0001574790003360249 s\n",
      "zx 0.0001790469996194588 s\n",
      "\n",
      "5accumulator is positive, we might even ignoring the necessal positive values.\n",
      "accumulator is positive, we might even ignoring the necessal positive values.\n",
      "accumulator is positive, we might even ignoring the necessal positive values.\n",
      "accumulator is positive, we might even ignoring the necessal positive values.\n",
      "accumulator is positive, we might even ignoring the necessal positive values.\n",
      " qubits\n",
      "xz 0.0003765299998121918 s\n",
      "zx 0.0003424030001042411 s\n",
      "\n",
      "6 qubits\n",
      "xzaccumulator is positive, we might even ignoring the necessal positive values.\n",
      "accumulator is positive, we might even ignoring the necessal positive values.\n",
      "accumulator is positive, we might even ignoring the necessal positive values.\n",
      " 0.0007382439998764312 s\n",
      "zx 0.0007534829992437153 s\n",
      "\n",
      "7accumulator is positive, we might even ignoring the necessal positive values.\n",
      " qubits\n",
      "xzaccumulator is positive, we might even ignoring the necessal positive values.\n",
      " 0.0015674589994887356 s\n",
      "zxaccumulator is positive, we might even ignoring the necessal positive values.\n",
      " 0.0017208299996127607 s\n",
      "\n",
      "8 qubits\n",
      "xzaccumulator is positive, we might even ignoring the necessal positive values.\n",
      " 0.004211438999845996 s\n",
      "zx 0.002841774999978952 s\n",
      "\n",
      "9accumulator is positive, we might even ignoring the necessal positive values.\n",
      " qubits\n",
      "xzaccumulator is positive, we might even ignoring the necessal positive values.\n",
      " 0.004953163000209315 s\n",
      "zxaccumulator is positive, we might even ignoring the necessal positive values.\n",
      " 0.0059866809997402015 s\n",
      "\n",
      "10 qubits\n",
      "xzaccumulator is positive, we might even ignoring the necessal positive values.\n",
      " 0.006096121000155108 s\n",
      "zx accumulator is positive, we might even ignoring the necessal positive values.\n",
      "0.004383037000479817 s\n",
      "\n",
      "11 qubits\n",
      "accumulator is positive, we might even ignoring the necessal positive values.\n",
      "xz 0.005622781999591098 s\n",
      "zxaccumulator is positive, we might even ignoring the necessal positive values.\n",
      " 0.007671354999729374 s\n",
      "\n",
      "12 qubits\n",
      "xzaccumulator is positive, we might even ignoring the necessal positive values.\n",
      " 0.009276760999455291 s\n",
      "accumulator is positive, we might even ignoring the necessal positive values.\n",
      "zx 0.009038767000674852 s\n",
      "\n",
      "13 qubits\n",
      "accumulator is positive, we might even ignoring the necessal positive values.\n",
      "xz 0.011456983000243781 s\n",
      "zxaccumulator is positive, we might even ignoring the necessal positive values.\n",
      " 0.01566749100038578 s\n",
      "\n",
      "14 qubits\n",
      "xzaccumulator is positive, we might even ignoring the necessal positive values.\n",
      " 0.019110651999653783 s\n",
      "zxaccumulator is positive, we might even ignoring the necessal positive values.\n",
      " 0.020567694999954256 s\n",
      "\n",
      "15 qubits\n",
      "accumulator is positive, we might even ignoring the necessal positive values.\n",
      "xz 0.0237448959996982 s\n",
      "accumulator is positive, we might even ignoring the necessal positive values.\n",
      "zx 0.03809863900005439 s\n",
      "\n",
      "16 qubits\n",
      "accumulator is positive, we might even ignoring the necessal positive values.\n",
      "xz 0.052756039000087185 s\n",
      "zxaccumulator is positive, we might even ignoring the necessal positive values.\n",
      " 0.04166554699986591 s\n",
      "\n",
      "17 qubits\n",
      "xzaccumulator is positive, we might even ignoring the necessal positive values.\n",
      " 0.0605165830002079 s\n",
      "accumulator is positive, we might even ignoring the necessal positive values.\n",
      "zx 0.0546944319994509 s\n",
      "\n",
      "18 qubits\n",
      "accumulator is positive, we might even ignoring the necessal positive values.\n",
      "xz 0.07775639800001954 s\n",
      "zxaccumulator is positive, we might even ignoring the necessal positive values.\n",
      " 0.062019717000111996 s\n",
      "\n",
      "19 qubits\n",
      "xzaccumulator is positive, we might even ignoring the necessal positive values.\n",
      " 0.06922702200063213 s\n",
      "accumulator is positive, we might even ignoring the necessal positive values.\n",
      "zx 0.09445310800037987 s\n",
      "\n",
      "20 qubits\n",
      "accumulator is positive, we might even ignoring the necessal positive values.\n",
      "xz 0.1204074759998548 s\n",
      "zxaccumulator is positive, we might even ignoring the necessal positive values.\n",
      " 0.09777104200020403 s\n",
      "\n",
      "21 qubits\n",
      "xz 0.16468098099994677 s\n",
      "zxaccumulator is positive, we might even ignoring the necessal positive values.\n",
      "accumulator is positive, we might even ignoring the necessal positive values.\n",
      " 0.1485312899994824 s\n",
      "\n",
      "22 qubits\n",
      "xzaccumulator is positive, we might even ignoring the necessal positive values.\n",
      " 0.1569319889995313 s\n",
      "accumulator is positive, we might even ignoring the necessal positive values.\n",
      "zx 0.14087106500028312 s\n",
      "\n",
      "23 qubits\n",
      "accumulator is positive, we might even ignoring the necessal positive values.\n",
      "xz 0.3293592489999355 s\n",
      "accumulator is positive, we might even ignoring the necessal positive values.\n",
      "zx 0.23438338800042402 s\n",
      "\n",
      "24 qubits\n",
      "accumulator is positive, we might even ignoring the necessal positive values.\n",
      "xz 0.2988334620004025 s\n",
      "accumulator is positive, we might even ignoring the necessal positive values.\n",
      "zx 0.37492496100003336 s\n",
      "\n",
      "25 qubits\n",
      "accumulator is positive, we might even ignoring the necessal positive values.\n",
      "xz 0.29983897900001466 s\n",
      "zxaccumulator is positive, we might even ignoring the necessal positive values.\n",
      " 0.36158449400045356 s\n",
      "\n",
      "26 qubits\n",
      "accumulator is positive, we might even ignoring the necessal positive values.\n",
      "xz 0.6736578760001066 s\n",
      "accumulator is positive, we might even ignoring the necessal positive values.\n",
      "zx 0.6877492140001777 s\n",
      "\n",
      "27 qubits\n",
      "accumulator is positive, we might even ignoring the necessal positive values.\n",
      "xz 0.7976470570001766 s\n",
      "zxaccumulator is positive, we might even ignoring the necessal positive values.\n",
      " 0.741137133999473 s\n",
      "\n",
      "28 qubits\n",
      "xz accumulator is positive, we might even ignoring the necessal positive values.\n",
      "0.7731922970006053 s\n",
      "accumulator is positive, we might even ignoring the necessal positive values.\n",
      "zx 0.7678570490006678 s\n",
      "\n",
      "29 qubits\n",
      "accumulator is positive, we might even ignoring the necessal positive values.\n",
      "xz 0.8182695850000528 s\n",
      "accumulator is positive, we might even ignoring the necessal positive values.\n",
      "zx 0.8993490299999394 s\n",
      "\n",
      "30 qubits\n",
      "xzaccumulator is positive, we might even ignoring the necessal positive values.\n",
      " 0.47566073600046366 s\n",
      "accumulator is positive, we might even ignoring the necessal positive values.\n",
      "zx 0.5353943270001764 s\n",
      "\n"
     ]
    }
   ],
   "source": [
    "mooney01_hist_list = []\n",
    "xz_mooney01_total_times = []\n",
    "zx_mooney01_total_times = []\n",
    "for i in range(29):\n",
    "    print(i + 2, \"qubits\")\n",
    "    \n",
    "    t1 = time.perf_counter()\n",
    "    mooney01_hist_list.append( xz_mooney01_mitigator_list[i].apply(raw_hist_list[2 * i]) )\n",
    "    t2 = time.perf_counter()\n",
    "    xz_mooney01_total_times.append(t2 - t1)\n",
    "    print(\"xz\", t2 - t1, \"s\")\n",
    "    \n",
    "    t3 = time.perf_counter()\n",
    "    mooney01_hist_list.append( zx_mooney01_mitigator_list[i].apply(raw_hist_list[2 * i + 1]) )\n",
    "    t4 = time.perf_counter()\n",
    "    zx_mooney01_total_times.append(t4 - t3)\n",
    "    print(\"zx\", t4 - t3, \"s\")\n",
    "    \n",
    "    print()"
   ]
  },
  {
   "cell_type": "code",
   "execution_count": 9,
   "metadata": {},
   "outputs": [],
   "source": [
    "with open(\"./pkls/mooney01_hist_list.pkl\", \"wb\") as f:\n",
    "    pickle.dump(mooney01_hist_list, f)"
   ]
  },
  {
   "cell_type": "code",
   "execution_count": 10,
   "metadata": {},
   "outputs": [],
   "source": [
    "with open(\"./pkls/mooney01_total_times.pkl\", \"wb\") as f:\n",
    "    pickle.dump({\"xz\": xz_mooney01_total_times, \"zx\": zx_mooney01_total_times}, f)"
   ]
  },
  {
   "cell_type": "code",
   "execution_count": 11,
   "metadata": {},
   "outputs": [],
   "source": [
    "xz_mooney01_times = []\n",
    "zx_mooney01_times = []\n",
    "for i in range(29):\n",
    "    xz_mooney01_times.append( xz_mooney01_mitigator_list[i].times() )\n",
    "    zx_mooney01_times.append( zx_mooney01_mitigator_list[i].times() )"
   ]
  },
  {
   "cell_type": "code",
   "execution_count": 12,
   "metadata": {},
   "outputs": [],
   "source": [
    "with open(\"./pkls/mooney01_times.pkl\", \"wb\") as f:\n",
    "    pickle.dump({\"xz\": xz_mooney01_times, \"zx\": zx_mooney01_times}, f)"
   ]
  },
  {
   "cell_type": "code",
   "execution_count": 14,
   "metadata": {
    "scrolled": true
   },
   "outputs": [
    {
     "name": "stdout",
     "output_type": "stream",
     "text": [
      "0 finished\n",
      "1 finished\n",
      "2 finished\n",
      "3 finished\n",
      "4 finished\n",
      "5 finished\n",
      "6 finished\n",
      "7 finished\n",
      "8 finished\n",
      "9 finished\n",
      "10 finished\n",
      "11 finished\n",
      "12 finished\n",
      "13 finished\n",
      "14 finished\n",
      "15 finished\n",
      "16 finished\n",
      "17 finished\n",
      "18 finished\n",
      "19 finished\n",
      "20 finished\n",
      "21 finished\n",
      "22 finished\n",
      "23 finished\n",
      "24 finished\n",
      "25 finished\n",
      "26 finished\n",
      "27 finished\n",
      "28 finished\n"
     ]
    }
   ],
   "source": [
    "xz_mooney01_mitigators = []\n",
    "for i in range(29):\n",
    "    xz_mooney01_mitigators.append({\"indices_to_keys_vector\":xz_mooney01_mitigator_list[i].indices_to_keys_vector(),\n",
    "                              # \"mitigated_hist\":xz_mooney01_mitigator_list[i].mitigated_hist(),\n",
    "                              # \"one_norm\":xz_mooney01_mitigator_list[i].one_norm(),\n",
    "                              # \"reduced_inv_A\":xz_mooney01_mitigator_list[i].reduced_inv_A(),\n",
    "                              \"sum_of_x\":xz_mooney01_mitigator_list[i].sum_of_x(),\n",
    "                              # \"sum_of_x_hat\":xz_mooney01_mitigator_list[i].sum_of_x_hat(),\n",
    "                              \"sum_of_x_tilde\":xz_mooney01_mitigator_list[i].sum_of_x_tilde(),\n",
    "                              # \"times\":xz_mooney01_mitigator_list[i].times(),\n",
    "                              \"x_s\":xz_mooney01_mitigator_list[i].x_s(),\n",
    "                              # \"x_hat\":xz_mooney01_mitigator_list[i].x_hat(),\n",
    "                              \"x_tilde\":xz_mooney01_mitigator_list[i].x_tilde(),\n",
    "                              })\n",
    "    print(i, \"finished\")"
   ]
  },
  {
   "cell_type": "code",
   "execution_count": 15,
   "metadata": {
    "scrolled": true
   },
   "outputs": [
    {
     "name": "stdout",
     "output_type": "stream",
     "text": [
      "0 finished\n",
      "1 finished\n",
      "2 finished\n",
      "3 finished\n",
      "4 finished\n",
      "5 finished\n",
      "6 finished\n",
      "7 finished\n",
      "8 finished\n",
      "9 finished\n",
      "10 finished\n",
      "11 finished\n",
      "12 finished\n",
      "13 finished\n",
      "14 finished\n",
      "15 finished\n",
      "16 finished\n",
      "17 finished\n",
      "18 finished\n",
      "19 finished\n",
      "20 finished\n",
      "21 finished\n",
      "22 finished\n",
      "23 finished\n",
      "24 finished\n",
      "25 finished\n",
      "26 finished\n",
      "27 finished\n",
      "28 finished\n"
     ]
    }
   ],
   "source": [
    "zx_mooney01_mitigators = []\n",
    "for i in range(29):\n",
    "    zx_mooney01_mitigators.append({\"indices_to_keys_vector\":zx_mooney01_mitigator_list[i].indices_to_keys_vector(),\n",
    "                              # \"mitigated_hist\":zx_mooney01_mitigator_list[i].mitigated_hist(),\n",
    "                              # \"one_norm\":zx_mooney01_mitigator_list[i].one_norm(),\n",
    "                              # \"reduced_inv_A\":zx_mooney01_mitigator_list[i].reduced_inv_A(),\n",
    "                              \"sum_of_x\":zx_mooney01_mitigator_list[i].sum_of_x(),\n",
    "                              # \"sum_of_x_hat\":zx_mooney01_mitigator_list[i].sum_of_x_hat(),\n",
    "                              \"sum_of_x_tilde\":zx_mooney01_mitigator_list[i].sum_of_x_tilde(),\n",
    "                              # \"times\":zx_mooney01_mitigator_list[i].times(),\n",
    "                              \"x_s\":zx_mooney01_mitigator_list[i].x_s(),\n",
    "                              # \"x_hat\":zx_mooney01_mitigator_list[i].x_hat(),\n",
    "                              \"x_tilde\":zx_mooney01_mitigator_list[i].x_tilde(),\n",
    "                              })\n",
    "    print(i, \"finished\")"
   ]
  },
  {
   "cell_type": "code",
   "execution_count": 16,
   "metadata": {},
   "outputs": [],
   "source": [
    "with open(\"./pkls/mooney01_mitigator_list.pkl\", \"wb\") as f:\n",
    "    pickle.dump({\"xz\": xz_mooney01_mitigators, \"zx\": zx_mooney01_mitigators}, f)"
   ]
  },
  {
   "cell_type": "code",
   "execution_count": null,
   "metadata": {},
   "outputs": [],
   "source": []
  }
 ],
 "metadata": {
  "kernelspec": {
   "display_name": "Python 3 (ipykernel)",
   "language": "python",
   "name": "python3"
  },
  "language_info": {
   "codemirror_mode": {
    "name": "ipython",
    "version": 3
   },
   "file_extension": ".py",
   "mimetype": "text/x-python",
   "name": "python",
   "nbconvert_exporter": "python",
   "pygments_lexer": "ipython3",
   "version": "3.9.7"
  }
 },
 "nbformat": 4,
 "nbformat_minor": 4
}

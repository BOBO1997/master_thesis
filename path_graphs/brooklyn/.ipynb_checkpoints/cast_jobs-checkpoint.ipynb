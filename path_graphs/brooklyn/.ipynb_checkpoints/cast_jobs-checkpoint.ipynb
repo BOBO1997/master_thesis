{
 "cells": [
  {
   "cell_type": "code",
   "execution_count": 1,
   "id": "efce9d92",
   "metadata": {},
   "outputs": [],
   "source": [
    "import sys\n",
    "import pickle\n",
    "from pprint import pprint\n",
    "import time\n",
    "import datetime"
   ]
  },
  {
   "cell_type": "code",
   "execution_count": 2,
   "id": "b9d5b22f",
   "metadata": {},
   "outputs": [],
   "source": [
    "from qiskit import IBMQ"
   ]
  },
  {
   "cell_type": "code",
   "execution_count": 3,
   "id": "14983c70",
   "metadata": {},
   "outputs": [],
   "source": [
    "IBMQ.load_account()\n",
    "provider = IBMQ.get_provider(hub='ibm-q-utokyo', group='internal', project='hirashi-jst')\n",
    "backend = provider.get_backend(\"ibmq_brooklyn\")\n",
    "device = provider.backend.ibmq_brooklyn"
   ]
  },
  {
   "cell_type": "code",
   "execution_count": 4,
   "id": "6b032c28",
   "metadata": {},
   "outputs": [],
   "source": [
    "sys.path.append(\"../../libs_bell/\")\n",
    "from lib_graph_states import adjacency_list_for_path_graph, list_to_matrix, path_graph_state"
   ]
  },
  {
   "cell_type": "code",
   "execution_count": 5,
   "id": "1f2c287f",
   "metadata": {},
   "outputs": [],
   "source": [
    "vertex_list = [11, 17, 18, 19, 25,\n",
    "               33, 32, 31, 39, 45,\n",
    "               46, 47, 48, 49, 40,\n",
    "               35, 36, 37, 26, 23,\n",
    "               22, 21, 12,  8,  7,\n",
    "                6,  5,  4,  3,  2,\n",
    "                1,  0, 10, 13, 14,\n",
    "               15, 24, 29, 28, 27,\n",
    "               38, 41, 42, 43, 52,\n",
    "               56, 57, 58, 59, 60,\n",
    "               61, 62, 63, 64, 54,\n",
    "               51, 50] # 57 qubits # simulator\n",
    "max_size = len(vertex_list) # largest graph size\n",
    "# vertex_list += [9,16,20,30,34,44,53,55] # add extra qubits up to 65\n",
    "initial_layouts = [vertex_list[:n] for n in range(1, max_size + 1)] # initial_layouts\n",
    "F_list = [3 * i + 1 for i in range(max_size // 3)] # subset of focused vertices of graph size max_size\n",
    "Fs = [F_list[:(n+1) // 3] for n in range(1, max_size + 1)] # subsets of focused vertices of graph size 1 to max_size\n",
    "adj_lists = [adjacency_list_for_path_graph(n) for n in range(1, max_size + 1)] # adjacency list of graph size 1 to max_size\n",
    "graphs = [list_to_matrix(adj_list) for adj_list in adj_lists] # adjacency matrix of graph size 1 to max_size\n",
    "shots_per_circuit = 1 << 13 # shots per one execution"
   ]
  },
  {
   "cell_type": "code",
   "execution_count": 6,
   "id": "a78764b8",
   "metadata": {},
   "outputs": [
    {
     "name": "stdout",
     "output_type": "stream",
     "text": [
      "max_size: 57\n",
      "shots_per_circuit: 8192\n",
      "F_list: [1, 4, 7, 10, 13, 16, 19, 22, 25, 28, 31, 34, 37, 40, 43, 46, 49, 52, 55]\n",
      "lengths of initial_layout: [1, 2, 3, 4, 5, 6, 7, 8, 9, 10, 11, 12, 13, 14, 15, 16, 17, 18, 19, 20, 21, 22, 23, 24, 25, 26, 27, 28, 29, 30, 31, 32, 33, 34, 35, 36, 37, 38, 39, 40, 41, 42, 43, 44, 45, 46, 47, 48, 49, 50, 51, 52, 53, 54, 55, 56, 57]\n",
      "[[11],\n",
      " [11, 17, 18],\n",
      " [11, 17, 18, 19, 25],\n",
      " [11, 17, 18, 19, 25, 33, 32],\n",
      " [11, 17, 18, 19, 25, 33, 32, 31, 39]]\n"
     ]
    }
   ],
   "source": [
    "print(\"max_size:\", max_size)\n",
    "print(\"shots_per_circuit:\", shots_per_circuit)\n",
    "print(\"F_list:\", F_list)\n",
    "print(\"lengths of initial_layout:\", [len(i) for i in initial_layouts])\n",
    "pprint(initial_layouts[:10:2])"
   ]
  },
  {
   "cell_type": "code",
   "execution_count": 7,
   "id": "e18583ab",
   "metadata": {},
   "outputs": [
    {
     "name": "stdout",
     "output_type": "stream",
     "text": [
      "57 qcs\n"
     ]
    }
   ],
   "source": [
    "qcs = [path_graph_state(size) for size in range(1, max_size+1)]\n",
    "print(len(qcs), \"qcs\")"
   ]
  },
  {
   "cell_type": "code",
   "execution_count": 8,
   "id": "8593dab4",
   "metadata": {},
   "outputs": [],
   "source": [
    "from lib_path_graphs import prepare_path_graph_qcs_list, execute_circuits"
   ]
  },
  {
   "cell_type": "code",
   "execution_count": 9,
   "id": "ba955fee",
   "metadata": {},
   "outputs": [
    {
     "name": "stderr",
     "output_type": "stream",
     "text": [
      "/Users/yangbo/opt/anaconda3/envs/qiskitenv/lib/python3.9/site-packages/qiskit/circuit/quantumcircuit.py:942: DeprecationWarning: The QuantumCircuit.extend() method is being deprecated. Use the compose() (potentially with the inplace=True argument) and tensor() methods which are more flexible w.r.t circuit register compatibility.\n",
      "  return self.extend(rhs)\n"
     ]
    },
    {
     "name": "stdout",
     "output_type": "stream",
     "text": [
      "the number of graph state circuits is:  224\n"
     ]
    }
   ],
   "source": [
    "qcs_list, nums_divide_list, nums_meas_cal_list, initial_layouts_list = \\\n",
    "    prepare_path_graph_qcs_list(qcs, \n",
    "                                adj_lists, \n",
    "                                backend,\n",
    "                                optimization_level=3,\n",
    "                                initial_layouts=[vertex_list[:qc.num_qubits] for qc in qcs])\n",
    "print(\"the number of graph state circuits is: \", len(qcs_list))"
   ]
  },
  {
   "cell_type": "code",
   "execution_count": null,
   "id": "957f8bcf",
   "metadata": {},
   "outputs": [],
   "source": [
    "jobs = execute_circuits(qcs_list,\n",
    "                        backend=backend,\n",
    "                        shots=shots_per_circuit,\n",
    "                        max_experiments=900,\n",
    "                        optimization_level=0)\n",
    "print(len(jobs), \"jobs\")\n",
    "print(\"job_id:\", jobs[0].job_id())"
   ]
  },
  {
   "cell_type": "code",
   "execution_count": null,
   "id": "7a229b05",
   "metadata": {},
   "outputs": [],
   "source": [
    "dt_now = datetime.datetime.now()\n",
    "job_ids_filename = \"job_ids_\" + dt_now.strftime('%Y%m%d_%H%M%S') + \".pkl\""
   ]
  },
  {
   "cell_type": "code",
   "execution_count": null,
   "id": "46665b97",
   "metadata": {},
   "outputs": [],
   "source": [
    "with open(job_ids_filename, \"wb\") as f:\n",
    "    pickle.dump([job.job_id() for job in jobs], f)"
   ]
  },
  {
   "cell_type": "code",
   "execution_count": null,
   "id": "075dc6f1",
   "metadata": {},
   "outputs": [],
   "source": [
    "with open(\"properties_\" + dt_now.strftime('%Y%m%d_%H%M%S') + \".pkl\", \"wb\") as f:\n",
    "    pickle.dump(device.properties(), f)"
   ]
  }
 ],
 "metadata": {
  "kernelspec": {
   "display_name": "Python 3 (ipykernel)",
   "language": "python",
   "name": "python3"
  },
  "language_info": {
   "codemirror_mode": {
    "name": "ipython",
    "version": 3
   },
   "file_extension": ".py",
   "mimetype": "text/x-python",
   "name": "python",
   "nbconvert_exporter": "python",
   "pygments_lexer": "ipython3",
   "version": "3.9.7"
  }
 },
 "nbformat": 4,
 "nbformat_minor": 5
}

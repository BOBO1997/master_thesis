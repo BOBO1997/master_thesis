{
 "cells": [
  {
   "cell_type": "code",
   "execution_count": 1,
   "metadata": {},
   "outputs": [],
   "source": [
    "import sys\n",
    "import time\n",
    "import numpy as np\n",
    "import pickle\n",
    "import importlib"
   ]
  },
  {
   "cell_type": "code",
   "execution_count": 2,
   "metadata": {},
   "outputs": [],
   "source": [
    "from qiskit import Aer, IBMQ\n",
    "from qiskit.ignis.mitigation.measurement import TensoredMeasFitter"
   ]
  },
  {
   "cell_type": "code",
   "execution_count": 3,
   "metadata": {},
   "outputs": [],
   "source": [
    "max_size = 57\n",
    "max_length = 56"
   ]
  },
  {
   "cell_type": "code",
   "execution_count": 4,
   "metadata": {},
   "outputs": [],
   "source": [
    "with open(\"pkls/raw_hist_list.pkl\", \"rb\") as f:\n",
    "    raw_hist_list = pickle.load(f)\n",
    "with open(\"pkls/results_meas_cal.pkl\", \"rb\") as f:\n",
    "    results_meas_cal = pickle.load(f)"
   ]
  },
  {
   "cell_type": "code",
   "execution_count": 5,
   "metadata": {},
   "outputs": [],
   "source": [
    "import mthree\n",
    "from qiskit.test.mock import FakeManhattan"
   ]
  },
  {
   "cell_type": "code",
   "execution_count": 6,
   "metadata": {},
   "outputs": [
    {
     "name": "stdout",
     "output_type": "stream",
     "text": [
      "size 10 finished\n",
      "size 20 finished\n",
      "size 30 finished\n",
      "size 40 finished\n",
      "size 50 finished\n",
      "length of xz_nation_mitigator_list:  56\n"
     ]
    }
   ],
   "source": [
    "xz_nation_mitigator_list = []\n",
    "for n in range(2, max_size + 1): # [2, ..., 57]\n",
    "    mit_pattern = [[i] for i in range(n)]\n",
    "    meas_fitter = TensoredMeasFitter(results_meas_cal[n - 2], mit_pattern=mit_pattern)\n",
    "    mit = mthree.M3Mitigation(FakeManhattan())\n",
    "    mit.single_qubit_cals = meas_fitter.cal_matrices\n",
    "    xz_nation_mitigator_list.append(mit)\n",
    "    if n % 10 == 0:\n",
    "        print(\"size\", n, \"finished\")\n",
    "print(\"length of xz_nation_mitigator_list: \", len(xz_nation_mitigator_list))"
   ]
  },
  {
   "cell_type": "code",
   "execution_count": 7,
   "metadata": {},
   "outputs": [
    {
     "name": "stdout",
     "output_type": "stream",
     "text": [
      "size 10 finished\n",
      "size 20 finished\n",
      "size 30 finished\n",
      "size 40 finished\n",
      "size 50 finished\n",
      "length of zx_nation_mitigator_list:  56\n"
     ]
    }
   ],
   "source": [
    "zx_nation_mitigator_list = []\n",
    "for n in range(2, max_size + 1): # [2, ..., 57]\n",
    "    mit_pattern = [[i] for i in range(n)]\n",
    "    meas_fitter = TensoredMeasFitter(results_meas_cal[n - 2], mit_pattern=mit_pattern)\n",
    "    mit = mthree.M3Mitigation(FakeManhattan())\n",
    "    mit.single_qubit_cals = meas_fitter.cal_matrices\n",
    "    zx_nation_mitigator_list.append(mit)\n",
    "    if n % 10 == 0:\n",
    "        print(\"size\", n, \"finished\")\n",
    "print(\"length of zx_nation_mitigator_list: \", len(zx_nation_mitigator_list))"
   ]
  },
  {
   "cell_type": "code",
   "execution_count": 8,
   "metadata": {},
   "outputs": [
    {
     "name": "stdout",
     "output_type": "stream",
     "text": [
      "2 qubits\n",
      "xz 0.002942315000000306 s\n",
      "zx 0.0025565000000007387 s\n",
      "\n",
      "3 qubits\n",
      "xz 0.003596662000001416 s\n",
      "zx 0.0023117560000009973 s\n",
      "\n",
      "4 qubits\n",
      "xz 0.00620889899999888 s\n",
      "zx 0.005476338999999442 s\n",
      "\n",
      "5 qubits\n",
      "xz 0.0037291950000000185 s\n",
      "zx 0.003384313999999833 s\n",
      "\n",
      "6 qubits\n",
      "xz 0.006252922000001604 s\n",
      "zx 0.005341793999999567 s\n",
      "\n",
      "7 qubits\n",
      "xz 0.0074317999999991 s\n",
      "zx 0.015056847000000317 s\n",
      "\n",
      "8 qubits\n",
      "xz 0.023282721999999367 s\n",
      "zx 0.037620580999998765 s\n",
      "\n",
      "9 qubits\n",
      "xz 0.051457943999999145 s\n",
      "zx 0.10793775800000027 s\n",
      "\n",
      "10 qubits\n",
      "xz 0.14147281000000156 s\n",
      "zx 0.1944828480000016 s\n",
      "\n",
      "11 qubits\n",
      "xz 0.1980832380000006 s\n",
      "zx 0.5488970630000001 s\n",
      "\n",
      "12 qubits\n",
      "xz 0.5353693309999983 s\n",
      "zx 1.1217726900000002 s\n",
      "\n",
      "13 qubits\n",
      "xz 0.9925784159999971 s\n",
      "zx 1.42001651 s\n",
      "\n",
      "14 qubits\n",
      "xz 2.5187476019999977 s\n",
      "zx 3.7429123779999998 s\n",
      "\n",
      "15 qubits\n",
      "xz 3.7182513640000003 s\n",
      "zx 5.735519133999997 s\n",
      "\n",
      "16 qubits\n",
      "xz 5.410762527999999 s\n",
      "zx 7.003744378 s\n",
      "\n",
      "17 qubits\n",
      "xz 8.140039127999998 s\n",
      "zx 11.262174778000002 s\n",
      "\n",
      "18 qubits\n",
      "xz 12.166726834999992 s\n",
      "zx 17.445713282 s\n",
      "\n",
      "19 qubits\n",
      "xz 21.04942729700001 s\n",
      "zx 20.611908899000014 s\n",
      "\n",
      "20 qubits\n",
      "xz 18.06647350099999 s\n",
      "zx 32.60309272699999 s\n",
      "\n",
      "21 qubits\n",
      "xz 20.879063022999986 s\n",
      "zx 29.402984113000002 s\n",
      "\n",
      "22 qubits\n",
      "xz 31.559983154000008 s\n",
      "zx 40.648346437999976 s\n",
      "\n",
      "23 qubits\n",
      "xz 33.32946098899998 s\n",
      "zx 40.78028363300001 s\n",
      "\n",
      "24 qubits\n",
      "xz 41.80941033900001 s\n",
      "zx 42.182691053999974 s\n",
      "\n",
      "25 qubits\n",
      "xz 61.27950714299999 s\n",
      "zx 49.21957505299997 s\n",
      "\n",
      "26 qubits\n",
      "xz 52.58680421299994 s\n",
      "zx 109.88734058599994 s\n",
      "\n",
      "27 qubits\n",
      "xz 56.88577078399999 s\n",
      "zx 62.917505645000006 s\n",
      "\n",
      "28 qubits\n",
      "xz 60.203994947999945 s\n",
      "zx 60.916323638999984 s\n",
      "\n",
      "29 qubits\n",
      "xz 62.26592128899995 s\n",
      "zx 59.68145998199998 s\n",
      "\n",
      "30 qubits\n",
      "xz 62.68310291700004 s\n",
      "zx 80.34048711299988 s\n",
      "\n"
     ]
    }
   ],
   "source": [
    "nation_hist_tuple_list = []\n",
    "xz_nation_total_times = []\n",
    "zx_nation_total_times = []\n",
    "for i in range(29):\n",
    "    print(i + 2, \"qubits\")\n",
    "    meas_layout = [i for i in range(i + 2)]\n",
    "    \n",
    "    t1 = time.perf_counter()\n",
    "    nation_hist_tuple_list.append( xz_nation_mitigator_list[i].apply_correction(raw_hist_list[2 * i], \n",
    "                                                                       meas_layout, \n",
    "                                                                       distance=None,\n",
    "                                                                       method='iterative',\n",
    "                                                                       max_iter=25, \n",
    "                                                                       tol=1e-5,\n",
    "                                                                       return_mitigation_overhead=True,\n",
    "                                                                       details=True) )\n",
    "    t2 = time.perf_counter()\n",
    "    xz_nation_total_times.append(t2 - t1)\n",
    "    print(\"xz\", t2 - t1, \"s\")\n",
    "    \n",
    "    t3 = time.perf_counter()\n",
    "    nation_hist_tuple_list.append( zx_nation_mitigator_list[i].apply_correction(raw_hist_list[2 * i + 1], \n",
    "                                                                       meas_layout, \n",
    "                                                                       distance=None,\n",
    "                                                                       method='iterative',\n",
    "                                                                       max_iter=25, \n",
    "                                                                       tol=1e-5,\n",
    "                                                                       return_mitigation_overhead=True,\n",
    "                                                                       details=True) )\n",
    "    t4 = time.perf_counter()\n",
    "    zx_nation_total_times.append(t4 - t3)\n",
    "    print(\"zx\", t4 - t3, \"s\")\n",
    "    \n",
    "    print()"
   ]
  },
  {
   "cell_type": "code",
   "execution_count": 9,
   "metadata": {},
   "outputs": [],
   "source": [
    "nation_hist_list = []\n",
    "nation_info_list = []\n",
    "for i in range(29 * 2):\n",
    "    nation_hist_list.append(nation_hist_tuple_list[i][0])\n",
    "    nation_info_list.append(nation_hist_tuple_list[i][1])"
   ]
  },
  {
   "cell_type": "code",
   "execution_count": 10,
   "metadata": {},
   "outputs": [],
   "source": [
    "with open(\"./pkls/nation_hist_list.pkl\", \"wb\") as f:\n",
    "    pickle.dump(nation_hist_list, f)"
   ]
  },
  {
   "cell_type": "code",
   "execution_count": 11,
   "metadata": {},
   "outputs": [],
   "source": [
    "with open(\"./pkls/nation_info_list.pkl\", \"wb\") as f:\n",
    "    pickle.dump(nation_info_list, f)"
   ]
  },
  {
   "cell_type": "code",
   "execution_count": 12,
   "metadata": {},
   "outputs": [],
   "source": [
    "with open(\"./pkls/nation_total_times.pkl\", \"wb\") as f:\n",
    "    pickle.dump({\"xz\": xz_nation_total_times, \"zx\": zx_nation_total_times}, f)"
   ]
  }
 ],
 "metadata": {
  "kernelspec": {
   "display_name": "Python 3 (ipykernel)",
   "language": "python",
   "name": "python3"
  },
  "language_info": {
   "codemirror_mode": {
    "name": "ipython",
    "version": 3
   },
   "file_extension": ".py",
   "mimetype": "text/x-python",
   "name": "python",
   "nbconvert_exporter": "python",
   "pygments_lexer": "ipython3",
   "version": "3.9.7"
  }
 },
 "nbformat": 4,
 "nbformat_minor": 4
}

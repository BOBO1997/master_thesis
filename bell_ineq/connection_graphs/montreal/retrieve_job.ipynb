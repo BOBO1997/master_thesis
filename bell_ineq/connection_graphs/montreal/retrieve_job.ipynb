{
 "cells": [
  {
   "cell_type": "code",
   "execution_count": 1,
   "id": "0d114dad",
   "metadata": {},
   "outputs": [],
   "source": [
    "import sys\n",
    "import numpy as np\n",
    "import pickle"
   ]
  },
  {
   "cell_type": "code",
   "execution_count": 2,
   "id": "73820f84",
   "metadata": {},
   "outputs": [],
   "source": [
    "from qiskit import Aer, IBMQ\n",
    "IBMQ.load_account()\n",
    "provider = IBMQ.get_provider(hub='ibm-q-utokyo', group='internal', project='hirashi-jst')\n",
    "device = provider.backend.ibmq_montreal"
   ]
  },
  {
   "cell_type": "code",
   "execution_count": 3,
   "id": "3714f565",
   "metadata": {},
   "outputs": [],
   "source": [
    "sys.path.append(\"../../libs_bell/\")\n",
    "from lib_preprocessing import separate_results, merge_results, arrange_results_list_tensored4"
   ]
  },
  {
   "cell_type": "code",
   "execution_count": 4,
   "id": "2c079d6b",
   "metadata": {},
   "outputs": [
    {
     "name": "stdout",
     "output_type": "stream",
     "text": [
      "length of raw_hist_list:  2\n",
      "length of results_meas_cal:  1\n"
     ]
    }
   ],
   "source": [
    "file_path = \"pkls/job_id_20220116_070947.pkl\"\n",
    "with open(file_path, \"rb\") as f:\n",
    "    job_id = pickle.load(f)\n",
    "results = device.retrieve_job(job_id).result()\n",
    "result_list = separate_results(results)\n",
    "raw_result_list, results_meas_cal = arrange_results_list_tensored4(result_list)\n",
    "raw_hist_list = [result.get_counts() for result in raw_result_list]\n",
    "print(\"length of raw_hist_list: \", len(raw_hist_list))\n",
    "print(\"length of results_meas_cal: \", len(results_meas_cal))"
   ]
  },
  {
   "cell_type": "code",
   "execution_count": 5,
   "id": "507b389c",
   "metadata": {},
   "outputs": [],
   "source": [
    "with open(\"pkls/raw_hist_list.pkl\", \"wb\") as f:\n",
    "    pickle.dump(raw_hist_list, f)\n",
    "with open(\"pkls/results_meas_cal.pkl\", \"wb\") as f:\n",
    "    pickle.dump(results_meas_cal, f)"
   ]
  }
 ],
 "metadata": {
  "kernelspec": {
   "display_name": "Python 3 (ipykernel)",
   "language": "python",
   "name": "python3"
  },
  "language_info": {
   "codemirror_mode": {
    "name": "ipython",
    "version": 3
   },
   "file_extension": ".py",
   "mimetype": "text/x-python",
   "name": "python",
   "nbconvert_exporter": "python",
   "pygments_lexer": "ipython3",
   "version": "3.9.7"
  }
 },
 "nbformat": 4,
 "nbformat_minor": 5
}

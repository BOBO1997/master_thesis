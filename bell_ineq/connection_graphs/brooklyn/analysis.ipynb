{
 "cells": [
  {
   "cell_type": "code",
   "execution_count": 1,
   "id": "6694aa11",
   "metadata": {},
   "outputs": [],
   "source": [
    "import sys\n",
    "sys.path.append(\"../../libs_bell\")\n",
    "import pickle\n",
    "from pprint import pprint\n",
    "import numpy as np"
   ]
  },
  {
   "cell_type": "code",
   "execution_count": 2,
   "id": "e2421642",
   "metadata": {},
   "outputs": [],
   "source": [
    "edges_order = [[[0,1],[2,3],[4,5],[6,7],[8,9],[10,13],[11,17],[12,21],[14,15],[18,19],[22,23],[24,29],[25,33],[26,37],[27,28],[30,31],[35,40],[38,41],[39,45],[42,43],[49,50],[47,53],[51,54],[52,56],[57,58],[59,60],[61,62],[63,64]],\n",
    "               [[0,10],[1,2],[3,4],[5,6],[7,8],[13,14],[15,16],[17,18],[19,20],[21,22],[23,26],[27,38],[29,30],[31,39],[32,33],[34,35],[36,37],[41,42],[43,52],[44,45],[46,47],[48,49],[50,51],[54,64],[56,57],[58,59],[60,61],[62,63]],\n",
    "               [[4,11],[8,12],[15,24],[16,17],[19,25],[20,21],[28,29],[31,32],[33,34],[35,36],[40,49],[43,44],[45,46],[47,48],[53,60],[55,56]]]"
   ]
  },
  {
   "cell_type": "code",
   "execution_count": 3,
   "id": "f0594801",
   "metadata": {},
   "outputs": [],
   "source": [
    "def adjacency_list(size, edges):\n",
    "    adj_list = [[] for _ in range(size)]\n",
    "    for i, j in edges:\n",
    "        adj_list[i].append(j)\n",
    "        adj_list[j].append(i)\n",
    "    return adj_list"
   ]
  },
  {
   "cell_type": "code",
   "execution_count": 4,
   "id": "febe888c",
   "metadata": {},
   "outputs": [],
   "source": [
    "def flatten(list_of_list, level=1):\n",
    "    ret_list = []\n",
    "    for sub_list in list_of_list:\n",
    "        if level > 1:\n",
    "            sub_list = flatten(sub_list, level=level-1)\n",
    "        ret_list += sub_list\n",
    "    return ret_list"
   ]
  },
  {
   "cell_type": "code",
   "execution_count": 5,
   "id": "db8779ba",
   "metadata": {},
   "outputs": [
    {
     "name": "stdout",
     "output_type": "stream",
     "text": [
      "size: 65\n",
      "shots: 8192\n",
      "F: [3, 6, 9, 10, 17, 21, 24, 25, 26, 31, 35, 38, 44, 47, 54, 56, 59, 62] (size: 18 )\n"
     ]
    }
   ],
   "source": [
    "size = 65\n",
    "vertex_list = list(range(size))\n",
    "initial_layout = vertex_list # initial_layouts\n",
    "F = [3,6,9,10,17,21,24,25,26,31,35,38,44,47,54,56,59,62]  # subsets of focused vertices of graph size 1 to size\n",
    "adj_list = adjacency_list(size, flatten(edges_order)) # adjacency list of graph size 1 to size\n",
    "shots = 1 << 13 # shots per one execution\n",
    "\n",
    "print(\"size:\", size)\n",
    "print(\"shots:\", shots)\n",
    "print(\"F:\", F, \"(size:\", len(F), \")\")"
   ]
  },
  {
   "cell_type": "code",
   "execution_count": 6,
   "id": "025b65ec",
   "metadata": {},
   "outputs": [],
   "source": [
    "base_type1 = [ 0,  2,  4,  6,  8, \n",
    "              13, 15, 17, 19, 21, 23,\n",
    "              27, 29, 31, 33, 35, 37,\n",
    "              41, 43, 45, 47, 49, 51,\n",
    "              56, 58, 60, 62, 64]\n",
    "base_type2 = [ 1,  3,  5,  7,  9,\n",
    "              10, 11, 12,\n",
    "              14, 16, 18, 20, 22,\n",
    "              24, 25, 26,\n",
    "              28, 30, 32, 34, 36,\n",
    "              38, 39, 40,\n",
    "              42, 44, 46, 48, 50,\n",
    "              52, 53, 54,\n",
    "              55, 57, 59, 61, 63]\n",
    "assert len(base_type1) == len(set(base_type1))\n",
    "assert len(base_type2) == len(set(base_type2))\n",
    "assert len(base_type1 + base_type2) == len(set(base_type1 + base_type2))"
   ]
  },
  {
   "cell_type": "code",
   "execution_count": 7,
   "id": "542b94d4",
   "metadata": {},
   "outputs": [],
   "source": [
    "from lib_connection_graphs import correlation_of_connection_graphs"
   ]
  },
  {
   "cell_type": "code",
   "execution_count": 8,
   "id": "3167ef36",
   "metadata": {},
   "outputs": [],
   "source": [
    "with open(\"pkls/raw_hist_list.pkl\", \"rb\") as f:\n",
    "    raw_hist_list = pickle.load(f)"
   ]
  },
  {
   "cell_type": "code",
   "execution_count": 9,
   "id": "2ddd7ce0",
   "metadata": {},
   "outputs": [],
   "source": [
    "with open(\"pkls/lnp_mitigator_info.pkl\", \"rb\") as f:\n",
    "    lnp_mitigator_info = pickle.load(f)"
   ]
  },
  {
   "cell_type": "code",
   "execution_count": 10,
   "id": "13abbfb9",
   "metadata": {},
   "outputs": [],
   "source": [
    "lnp_hist_list = [lnp_mitigator_info[\"xz\"][\"mitigated_hist\"], lnp_mitigator_info[\"zx\"][\"mitigated_hist\"]]"
   ]
  },
  {
   "cell_type": "code",
   "execution_count": 11,
   "id": "4a86d1b9",
   "metadata": {},
   "outputs": [
    {
     "name": "stdout",
     "output_type": "stream",
     "text": [
      "88\n",
      "121.96551211459382\n",
      "1.3859717285749298\n"
     ]
    }
   ],
   "source": [
    "c_bound = sum([len(adj_list[v]) for v in F]) + size - len(F)\n",
    "q_bound = (2 * np.sqrt(2) - 1) * sum([len(adj_list[v]) for v in F]) + size - len(F)\n",
    "print(c_bound)\n",
    "print(q_bound)\n",
    "print(q_bound / c_bound)"
   ]
  },
  {
   "cell_type": "code",
   "execution_count": 12,
   "id": "ad27473b",
   "metadata": {},
   "outputs": [
    {
     "name": "stdout",
     "output_type": "stream",
     "text": [
      "graph size: 65\n",
      "total correlation: 94.57726253479045 \n",
      "\n"
     ]
    }
   ],
   "source": [
    "raw_corr_all, raw_stddev_all, raw_Ds_all, raw_Es_all = correlation_of_connection_graphs(adj_list, F, raw_hist_list, base_type1, base_type2)"
   ]
  },
  {
   "cell_type": "code",
   "execution_count": 13,
   "id": "96460d30",
   "metadata": {},
   "outputs": [
    {
     "name": "stdout",
     "output_type": "stream",
     "text": [
      "graph size: 65\n",
      "total correlation: 96.77898670263062 \n",
      "\n"
     ]
    }
   ],
   "source": [
    "lnp_corr_all, lnp_stddev_all, lnp_Ds_all, lnp_Es_all = correlation_of_connection_graphs(adj_list, F, lnp_hist_list, base_type1, base_type2)"
   ]
  },
  {
   "cell_type": "code",
   "execution_count": 14,
   "id": "5b9795eb",
   "metadata": {},
   "outputs": [
    {
     "name": "stdout",
     "output_type": "stream",
     "text": [
      "94.57726253479045 0.1229467839033736\n",
      "96.77898670263062 0.1199617092447429\n"
     ]
    }
   ],
   "source": [
    "print(raw_corr_all, raw_stddev_all)\n",
    "print(lnp_corr_all, lnp_stddev_all)"
   ]
  }
 ],
 "metadata": {
  "kernelspec": {
   "display_name": "Python 3 (ipykernel)",
   "language": "python",
   "name": "python3"
  },
  "language_info": {
   "codemirror_mode": {
    "name": "ipython",
    "version": 3
   },
   "file_extension": ".py",
   "mimetype": "text/x-python",
   "name": "python",
   "nbconvert_exporter": "python",
   "pygments_lexer": "ipython3",
   "version": "3.9.7"
  }
 },
 "nbformat": 4,
 "nbformat_minor": 5
}

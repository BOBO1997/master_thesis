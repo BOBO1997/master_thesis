{
 "cells": [
  {
   "cell_type": "code",
   "execution_count": 1,
   "metadata": {},
   "outputs": [],
   "source": [
    "import sys\n",
    "import time\n",
    "import pickle"
   ]
  },
  {
   "cell_type": "code",
   "execution_count": 2,
   "metadata": {},
   "outputs": [],
   "source": [
    "from qiskit.ignis.mitigation.measurement import TensoredMeasFitter"
   ]
  },
  {
   "cell_type": "code",
   "execution_count": 3,
   "metadata": {},
   "outputs": [],
   "source": [
    "with open(\"pkls/raw_hist_list.pkl\", \"rb\") as f:\n",
    "    raw_hist_list = pickle.load(f)\n",
    "with open(\"pkls/results_meas_cal.pkl\", \"rb\") as f:\n",
    "    results_meas_cal = pickle.load(f)"
   ]
  },
  {
   "cell_type": "code",
   "execution_count": 4,
   "metadata": {},
   "outputs": [
    {
     "name": "stdout",
     "output_type": "stream",
     "text": [
      "size: 65\n"
     ]
    }
   ],
   "source": [
    "size = 65\n",
    "print(\"size:\", size)"
   ]
  },
  {
   "cell_type": "code",
   "execution_count": 5,
   "metadata": {},
   "outputs": [],
   "source": [
    "from libs_qrem import LeastNormFilter"
   ]
  },
  {
   "cell_type": "code",
   "execution_count": 6,
   "metadata": {},
   "outputs": [],
   "source": [
    "meas_fitter = TensoredMeasFitter(results_meas_cal, mit_pattern=[[i] for i in range(size)])\n",
    "xz_lnp_mitigator = LeastNormFilter(size, meas_fitter.cal_matrices)\n",
    "zx_lnp_mitigator = LeastNormFilter(size, meas_fitter.cal_matrices)"
   ]
  },
  {
   "cell_type": "code",
   "execution_count": 7,
   "metadata": {
    "scrolled": true
   },
   "outputs": [
    {
     "name": "stdout",
     "output_type": "stream",
     "text": [
      "xz 7.050431067 s\n",
      "zx 6.655040634000001 s\n"
     ]
    }
   ],
   "source": [
    "t1 = time.perf_counter()\n",
    "xz_lnp_mitigator.apply(raw_hist_list[0])\n",
    "t2 = time.perf_counter()\n",
    "print(\"xz\", t2 - t1, \"s\")\n",
    "t3 = time.perf_counter()\n",
    "zx_lnp_mitigator.apply(raw_hist_list[1])\n",
    "t4 = time.perf_counter()\n",
    "print(\"zx\", t4 - t3, \"s\")"
   ]
  },
  {
   "cell_type": "code",
   "execution_count": 8,
   "metadata": {
    "scrolled": true
   },
   "outputs": [],
   "source": [
    "xz_lnp_mitigator_info = {\"indices_to_keys_vector\":xz_lnp_mitigator.indices_to_keys_vector(),\n",
    "                          \"mitigated_hist\":xz_lnp_mitigator.mitigated_hist(),\n",
    "                          \"exact_one_norm_of_reduced_inv_A\":xz_lnp_mitigator.exact_one_norm_of_reduced_inv_A(),\n",
    "                          # \"reduced_inv_A\":xz_lnp_mitigator.reduced_inv_A(),\n",
    "                          \"sum_of_x\":xz_lnp_mitigator.sum_of_x(),\n",
    "                          \"sum_of_x_hat\":xz_lnp_mitigator.sum_of_x_hat(),\n",
    "                          \"sum_of_x_tilde\":xz_lnp_mitigator.sum_of_x_tilde(),\n",
    "                          # \"times\":xz_lnp_mitigator.times(),\n",
    "                          \"x_s\":xz_lnp_mitigator.x_s(),\n",
    "                          \"x_hat\":xz_lnp_mitigator.x_hat(),\n",
    "                          \"x_tilde\":xz_lnp_mitigator.x_tilde(),\n",
    "                          }"
   ]
  },
  {
   "cell_type": "code",
   "execution_count": 9,
   "metadata": {
    "scrolled": true
   },
   "outputs": [],
   "source": [
    "zx_lnp_mitigator_info = {\"indices_to_keys_vector\":zx_lnp_mitigator.indices_to_keys_vector(),\n",
    "                          \"mitigated_hist\":zx_lnp_mitigator.mitigated_hist(),\n",
    "                          \"exact_one_norm_of_reduced_inv_A\":zx_lnp_mitigator.exact_one_norm_of_reduced_inv_A(),\n",
    "                          # \"reduced_inv_A\":zx_lnp_mitigator.reduced_inv_A(),\n",
    "                          \"sum_of_x\":zx_lnp_mitigator.sum_of_x(),\n",
    "                          \"sum_of_x_hat\":zx_lnp_mitigator.sum_of_x_hat(),\n",
    "                          \"sum_of_x_tilde\":zx_lnp_mitigator.sum_of_x_tilde(),\n",
    "                          # \"times\":zx_lnp_mitigator.times(),\n",
    "                          \"x_s\":zx_lnp_mitigator.x_s(),\n",
    "                          \"x_hat\":zx_lnp_mitigator.x_hat(),\n",
    "                          \"x_tilde\":zx_lnp_mitigator.x_tilde(),\n",
    "                          }"
   ]
  },
  {
   "cell_type": "code",
   "execution_count": 10,
   "metadata": {},
   "outputs": [],
   "source": [
    "with open(\"./pkls/lnp_mitigator_info.pkl\", \"wb\") as f:\n",
    "    pickle.dump({\"xz\": xz_lnp_mitigator_info, \"zx\": zx_lnp_mitigator_info}, f)"
   ]
  }
 ],
 "metadata": {
  "kernelspec": {
   "display_name": "Python 3 (ipykernel)",
   "language": "python",
   "name": "python3"
  },
  "language_info": {
   "codemirror_mode": {
    "name": "ipython",
    "version": 3
   },
   "file_extension": ".py",
   "mimetype": "text/x-python",
   "name": "python",
   "nbconvert_exporter": "python",
   "pygments_lexer": "ipython3",
   "version": "3.9.7"
  }
 },
 "nbformat": 4,
 "nbformat_minor": 4
}

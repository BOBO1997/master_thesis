{
 "cells": [
  {
   "cell_type": "code",
   "execution_count": 1,
   "id": "6694aa11",
   "metadata": {},
   "outputs": [],
   "source": [
    "import sys\n",
    "sys.path.append(\"../../libs_bell\")\n",
    "import pickle\n",
    "from pprint import pprint\n",
    "import numpy as np"
   ]
  },
  {
   "cell_type": "code",
   "execution_count": 2,
   "id": "e2421642",
   "metadata": {},
   "outputs": [],
   "source": [
    "edges_order = [[[0,1],[3,5],[4,7],[8,11],[10,12],[14,16],[15,18],[19,22],[21,23],[24,25]],\n",
    "               [[1,4],[2,3],[5,8],[7,10],[11,14],[12,13],[16,19],[18,21],[22,25],[23,24]],\n",
    "               [[1,2],[6,7],[8,9],[12,15],[13,14],[17,18],[19,20],[25,26]]]"
   ]
  },
  {
   "cell_type": "code",
   "execution_count": 3,
   "id": "f0594801",
   "metadata": {},
   "outputs": [],
   "source": [
    "def adjacency_list(size, edges):\n",
    "    adj_list = [[] for _ in range(size)]\n",
    "    for i, j in edges:\n",
    "        adj_list[i].append(j)\n",
    "        adj_list[j].append(i)\n",
    "    return adj_list"
   ]
  },
  {
   "cell_type": "code",
   "execution_count": 4,
   "id": "febe888c",
   "metadata": {},
   "outputs": [],
   "source": [
    "def flatten(list_of_list, level=1):\n",
    "    ret_list = []\n",
    "    for sub_list in list_of_list:\n",
    "        if level > 1:\n",
    "            sub_list = flatten(sub_list, level=level-1)\n",
    "        ret_list += sub_list\n",
    "    return ret_list"
   ]
  },
  {
   "cell_type": "code",
   "execution_count": 5,
   "id": "db8779ba",
   "metadata": {},
   "outputs": [
    {
     "name": "stdout",
     "output_type": "stream",
     "text": [
      "size: 27\n",
      "shots: 8192\n",
      "F: [1, 6, 8, 12, 17, 19, 23, 26] (size: 8 )\n"
     ]
    }
   ],
   "source": [
    "size = 27\n",
    "vertex_list = list(range(size))\n",
    "initial_layout = vertex_list # initial_layouts\n",
    "F = [1,6,8,12,17,19,23,26] # subsets of focused vertices of graph size 1 to size\n",
    "adj_list = adjacency_list(size, flatten(edges_order)) # adjacency list of graph size 1 to size\n",
    "shots = 1 << 13 # shots per one execution\n",
    "\n",
    "print(\"size:\", size)\n",
    "print(\"shots:\", shots)\n",
    "print(\"F:\", F, \"(size:\", len(F), \")\")"
   ]
  },
  {
   "cell_type": "code",
   "execution_count": 6,
   "id": "025b65ec",
   "metadata": {},
   "outputs": [],
   "source": [
    "base_type1 = [ 6, 17,\n",
    "               0,  4, 10, 15, 21, \n",
    "               2, 13, 24,\n",
    "               5, 11, 16, 22, 26,\n",
    "               9, 20]\n",
    "base_type2 = [ 1,  7, 12, 18, 23,\n",
    "               3,  8, 14, 19, 25]\n",
    "assert len(base_type1) == len(set(base_type1))\n",
    "assert len(base_type2) == len(set(base_type2))\n",
    "assert len(base_type1 + base_type2) == len(set(base_type1 + base_type2)) == size"
   ]
  },
  {
   "cell_type": "code",
   "execution_count": 7,
   "id": "542b94d4",
   "metadata": {},
   "outputs": [],
   "source": [
    "from lib_connection_graphs import correlation_of_connection_graphs"
   ]
  },
  {
   "cell_type": "code",
   "execution_count": 8,
   "id": "3167ef36",
   "metadata": {},
   "outputs": [],
   "source": [
    "with open(\"pkls/raw_hist_list.pkl\", \"rb\") as f:\n",
    "    raw_hist_list = pickle.load(f)"
   ]
  },
  {
   "cell_type": "code",
   "execution_count": 9,
   "id": "2ddd7ce0",
   "metadata": {},
   "outputs": [],
   "source": [
    "with open(\"pkls/lnp_mitigator_info.pkl\", \"rb\") as f:\n",
    "    lnp_mitigator_info = pickle.load(f)"
   ]
  },
  {
   "cell_type": "code",
   "execution_count": 10,
   "id": "13abbfb9",
   "metadata": {},
   "outputs": [],
   "source": [
    "lnp_hist_list = [lnp_mitigator_info[\"xz\"][\"mitigated_hist\"], lnp_mitigator_info[\"zx\"][\"mitigated_hist\"]]"
   ]
  },
  {
   "cell_type": "code",
   "execution_count": 11,
   "id": "4a86d1b9",
   "metadata": {},
   "outputs": [
    {
     "name": "stdout",
     "output_type": "stream",
     "text": [
      "36\n",
      "50.083261120685236\n",
      "1.391201697796812\n"
     ]
    }
   ],
   "source": [
    "c_bound = sum([len(adj_list[v]) for v in F]) + size - len(F)\n",
    "q_bound = (2 * np.sqrt(2) - 1) * sum([len(adj_list[v]) for v in F]) + size - len(F)\n",
    "print(c_bound)\n",
    "print(q_bound)\n",
    "print(q_bound / c_bound)"
   ]
  },
  {
   "cell_type": "code",
   "execution_count": 12,
   "id": "ad27473b",
   "metadata": {},
   "outputs": [
    {
     "name": "stdout",
     "output_type": "stream",
     "text": [
      "graph size: 27\n",
      "total correlation: 41.0537949263896 \n",
      "\n"
     ]
    }
   ],
   "source": [
    "raw_corr_all, raw_stddev_all, raw_Ds_all, raw_Es_all = correlation_of_connection_graphs(adj_list, F, raw_hist_list, base_type1, base_type2)"
   ]
  },
  {
   "cell_type": "code",
   "execution_count": 13,
   "id": "96460d30",
   "metadata": {},
   "outputs": [
    {
     "name": "stdout",
     "output_type": "stream",
     "text": [
      "graph size: 27\n",
      "total correlation: 41.39281257686961 \n",
      "\n"
     ]
    }
   ],
   "source": [
    "lnp_corr_all, lnp_stddev_all, lnp_Ds_all, lnp_Es_all = correlation_of_connection_graphs(adj_list, F, lnp_hist_list, base_type1, base_type2)"
   ]
  },
  {
   "cell_type": "code",
   "execution_count": 14,
   "id": "5b9795eb",
   "metadata": {},
   "outputs": [
    {
     "name": "stdout",
     "output_type": "stream",
     "text": [
      "41.0537949263896 0.07476903627700797\n",
      "41.39281257686961 0.07408608041506279\n"
     ]
    }
   ],
   "source": [
    "print(raw_corr_all, raw_stddev_all)\n",
    "print(lnp_corr_all, lnp_stddev_all)"
   ]
  }
 ],
 "metadata": {
  "kernelspec": {
   "display_name": "Python 3 (ipykernel)",
   "language": "python",
   "name": "python3"
  },
  "language_info": {
   "codemirror_mode": {
    "name": "ipython",
    "version": 3
   },
   "file_extension": ".py",
   "mimetype": "text/x-python",
   "name": "python",
   "nbconvert_exporter": "python",
   "pygments_lexer": "ipython3",
   "version": "3.9.7"
  }
 },
 "nbformat": 4,
 "nbformat_minor": 5
}

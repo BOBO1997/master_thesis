{
 "cells": [
  {
   "cell_type": "code",
   "execution_count": 1,
   "metadata": {},
   "outputs": [],
   "source": [
    "import sys\n",
    "import time\n",
    "import numpy as np\n",
    "import pickle\n",
    "import importlib"
   ]
  },
  {
   "cell_type": "code",
   "execution_count": 2,
   "metadata": {},
   "outputs": [
    {
     "name": "stderr",
     "output_type": "stream",
     "text": [
      "/var/folders/vr/d82vcp297v78vk4sb0_nzzdc0000gn/T/ipykernel_6483/2243832710.py:2: DeprecationWarning: The qiskit.ignis package is deprecated and has been supersceded by the qiskit-experiments project. Refer to the migration guide: https://github.com/Qiskit/qiskit-ignis#migration-guide on how to migrate to the new project.\n",
      "  from qiskit.ignis.mitigation.measurement import TensoredMeasFitter\n"
     ]
    }
   ],
   "source": [
    "from qiskit import Aer, IBMQ\n",
    "from qiskit.ignis.mitigation.measurement import TensoredMeasFitter"
   ]
  },
  {
   "cell_type": "code",
   "execution_count": 3,
   "metadata": {},
   "outputs": [],
   "source": [
    "min_size = 40\n",
    "max_size = 105"
   ]
  },
  {
   "cell_type": "code",
   "execution_count": 4,
   "metadata": {},
   "outputs": [],
   "source": [
    "with open(\"pkls/raw_hist_list.pkl\", \"rb\") as f:\n",
    "    raw_hist_list = pickle.load(f)\n",
    "with open(\"pkls/results_meas_cal.pkl\", \"rb\") as f:\n",
    "    results_meas_cal = pickle.load(f)"
   ]
  },
  {
   "cell_type": "code",
   "execution_count": 5,
   "metadata": {},
   "outputs": [],
   "source": [
    "import libs_qrem\n",
    "importlib.reload(libs_qrem)\n",
    "from libs_qrem import LeastNormFilter"
   ]
  },
  {
   "cell_type": "code",
   "execution_count": 6,
   "metadata": {},
   "outputs": [
    {
     "name": "stdout",
     "output_type": "stream",
     "text": [
      "size 100 finished\n",
      "length of xz_lnp_mitigator_list:  6\n"
     ]
    }
   ],
   "source": [
    "xz_lnp_mitigator_list = []\n",
    "for i, n in enumerate(range(min_size + 60, max_size + 1)):\n",
    "    mit_pattern = [[j] for j in range(n)]\n",
    "    meas_fitter = TensoredMeasFitter(results_meas_cal[i + 60], mit_pattern=mit_pattern)\n",
    "    xz_lnp_mitigator_list.append(LeastNormFilter(n, meas_fitter.cal_matrices))\n",
    "    if n % 10 == 0:\n",
    "        print(\"size\", n, \"finished\")\n",
    "print(\"length of xz_lnp_mitigator_list: \", len(xz_lnp_mitigator_list))"
   ]
  },
  {
   "cell_type": "code",
   "execution_count": 7,
   "metadata": {},
   "outputs": [
    {
     "name": "stdout",
     "output_type": "stream",
     "text": [
      "size 100 finished\n",
      "length of zx_lnp_mitigator_list:  6\n"
     ]
    }
   ],
   "source": [
    "zx_lnp_mitigator_list = []\n",
    "for i, n in enumerate(range(min_size + 60, max_size + 1)):\n",
    "    mit_pattern = [[j] for j in range(n)]\n",
    "    meas_fitter = TensoredMeasFitter(results_meas_cal[i + 60], mit_pattern=mit_pattern)\n",
    "    zx_lnp_mitigator_list.append(LeastNormFilter(n, meas_fitter.cal_matrices))\n",
    "    if n % 10 == 0:\n",
    "        print(\"size\", n, \"finished\")\n",
    "print(\"length of zx_lnp_mitigator_list: \", len(zx_lnp_mitigator_list))"
   ]
  },
  {
   "cell_type": "code",
   "execution_count": 9,
   "metadata": {},
   "outputs": [
    {
     "name": "stdout",
     "output_type": "stream",
     "text": [
      "100 qubits\n",
      "mitigation time (xz):  9.538738969 s\n",
      "mitigation time (zx):  10.204448985000006 s\n",
      "\n",
      "101 qubits\n",
      "mitigation time (xz):  10.648341267000006 s\n",
      "mitigation time (zx):  11.062919594000007 s\n",
      "\n",
      "102 qubits\n",
      "mitigation time (xz):  11.263696632999995 s\n",
      "mitigation time (zx):  11.117270216999998 s\n",
      "\n",
      "103 qubits\n",
      "mitigation time (xz):  11.173413772000004 s\n",
      "mitigation time (zx):  11.361627388000002 s\n",
      "\n",
      "104 qubits\n",
      "mitigation time (xz):  11.342945192999991 s\n",
      "mitigation time (zx):  11.234107018999993 s\n",
      "\n",
      "105 qubits\n",
      "mitigation time (xz):  11.08206006200001 s\n",
      "mitigation time (zx):  11.275758731999986 s\n",
      "\n"
     ]
    }
   ],
   "source": [
    "lnp_hist_list = []\n",
    "xz_lnp_total_times = []\n",
    "zx_lnp_total_times = []\n",
    "for i, n in enumerate(range(min_size + 60, max_size + 1)):\n",
    "    print(n, \"qubits\")\n",
    "    \n",
    "    t1 = time.perf_counter()\n",
    "    lnp_hist_list.append( xz_lnp_mitigator_list[i].apply(raw_hist_list[2 * i + 60]) )\n",
    "    t2 = time.perf_counter()\n",
    "    xz_lnp_total_times.append(t2 - t1)\n",
    "    print(\"mitigation time (xz): \", t2 - t1, \"s\")\n",
    "    \n",
    "    t3 = time.perf_counter()\n",
    "    lnp_hist_list.append( zx_lnp_mitigator_list[i].apply(raw_hist_list[2 * i + 1 + 60]) )\n",
    "    t4 = time.perf_counter()\n",
    "    zx_lnp_total_times.append(t4 - t3)\n",
    "    print(\"mitigation time (zx): \", t4 - t3, \"s\")\n",
    "    \n",
    "    print()"
   ]
  },
  {
   "cell_type": "code",
   "execution_count": 10,
   "metadata": {},
   "outputs": [],
   "source": [
    "with open(\"./pkls/lnp_hist_list.pkl\", \"wb\") as f:\n",
    "    pickle.dump(lnp_hist_list, f)"
   ]
  },
  {
   "cell_type": "code",
   "execution_count": 11,
   "metadata": {},
   "outputs": [],
   "source": [
    "with open(\"./pkls/lnp_total_times.pkl\", \"wb\") as f:\n",
    "    pickle.dump({\"xz\": xz_lnp_total_times, \"zx\": zx_lnp_total_times}, f)"
   ]
  },
  {
   "cell_type": "code",
   "execution_count": 13,
   "metadata": {},
   "outputs": [],
   "source": [
    "xz_lnp_times = []\n",
    "zx_lnp_times = []\n",
    "for i, n in enumerate(range(min_size + 60, max_size)):\n",
    "    xz_lnp_times.append( xz_lnp_mitigator_list[i].times() )\n",
    "    zx_lnp_times.append( zx_lnp_mitigator_list[i].times() )"
   ]
  },
  {
   "cell_type": "code",
   "execution_count": 14,
   "metadata": {},
   "outputs": [],
   "source": [
    "with open(\"./pkls/lnp_times.pkl\", \"wb\") as f:\n",
    "    pickle.dump({\"xz\": xz_lnp_times, \"zx\": zx_lnp_times}, f)"
   ]
  },
  {
   "cell_type": "code",
   "execution_count": 16,
   "metadata": {
    "scrolled": true
   },
   "outputs": [
    {
     "name": "stdout",
     "output_type": "stream",
     "text": [
      "0 finished\n",
      "1 finished\n",
      "2 finished\n",
      "3 finished\n",
      "4 finished\n"
     ]
    }
   ],
   "source": [
    "xz_lnp_mitigators = []\n",
    "for i, n in enumerate(range(min_size + 60, max_size)):\n",
    "    xz_lnp_mitigators.append({\"indices_to_keys_vector\":xz_lnp_mitigator_list[i].indices_to_keys_vector(),\n",
    "                              # \"mitigated_hist\":xz_lnp_mitigator_list[i].mitigated_hist(),\n",
    "                              \"one_norm\":xz_lnp_mitigator_list[i].exact_one_norm_of_reduced_inv_A(),\n",
    "                              # \"reduced_inv_A\":xz_lnp_mitigator_list[i].reduced_inv_A(),\n",
    "                              \"sum_of_x\":xz_lnp_mitigator_list[i].sum_of_x(),\n",
    "                              \"sum_of_x_hat\":xz_lnp_mitigator_list[i].sum_of_x_hat(),\n",
    "                              \"sum_of_x_tilde\":xz_lnp_mitigator_list[i].sum_of_x_tilde(),\n",
    "                              # \"times\":xz_lnp_mitigator_list[i].times(),\n",
    "                              \"x_s\":xz_lnp_mitigator_list[i].x_s(),\n",
    "                              \"x_hat\":xz_lnp_mitigator_list[i].x_hat(),\n",
    "                              \"x_tilde\":xz_lnp_mitigator_list[i].x_tilde(),\n",
    "                              })\n",
    "    print(i, \"finished\")"
   ]
  },
  {
   "cell_type": "code",
   "execution_count": 17,
   "metadata": {
    "scrolled": true
   },
   "outputs": [
    {
     "name": "stdout",
     "output_type": "stream",
     "text": [
      "0 finished\n",
      "1 finished\n",
      "2 finished\n",
      "3 finished\n",
      "4 finished\n"
     ]
    }
   ],
   "source": [
    "zx_lnp_mitigators = []\n",
    "for i, n in enumerate(range(min_size + 60, max_size)):\n",
    "    zx_lnp_mitigators.append({\"indices_to_keys_vector\":zx_lnp_mitigator_list[i].indices_to_keys_vector(),\n",
    "                              # \"mitigated_hist\":zx_lnp_mitigator_list[i].mitigated_hist(),\n",
    "                              \"one_norm\":zx_lnp_mitigator_list[i].exact_one_norm_of_reduced_inv_A(),\n",
    "                              # \"reduced_inv_A\":zx_lnp_mitigator_list[i].reduced_inv_A(),\n",
    "                              \"sum_of_x\":zx_lnp_mitigator_list[i].sum_of_x(),\n",
    "                              \"sum_of_x_hat\":zx_lnp_mitigator_list[i].sum_of_x_hat(),\n",
    "                              \"sum_of_x_tilde\":zx_lnp_mitigator_list[i].sum_of_x_tilde(),\n",
    "                              # \"times\":zx_lnp_mitigator_list[i].times(),\n",
    "                              \"x_s\":zx_lnp_mitigator_list[i].x_s(),\n",
    "                              \"x_hat\":zx_lnp_mitigator_list[i].x_hat(),\n",
    "                              \"x_tilde\":zx_lnp_mitigator_list[i].x_tilde(),\n",
    "                              })\n",
    "    print(i, \"finished\")"
   ]
  },
  {
   "cell_type": "code",
   "execution_count": 18,
   "metadata": {},
   "outputs": [],
   "source": [
    "with open(\"./pkls/lnp_mitigator_list.pkl\", \"wb\") as f:\n",
    "    pickle.dump({\"xz\": xz_lnp_mitigators, \"zx\": zx_lnp_mitigators}, f)"
   ]
  }
 ],
 "metadata": {
  "kernelspec": {
   "display_name": "Python 3 (ipykernel)",
   "language": "python",
   "name": "python3"
  },
  "language_info": {
   "codemirror_mode": {
    "name": "ipython",
    "version": 3
   },
   "file_extension": ".py",
   "mimetype": "text/x-python",
   "name": "python",
   "nbconvert_exporter": "python",
   "pygments_lexer": "ipython3",
   "version": "3.9.7"
  }
 },
 "nbformat": 4,
 "nbformat_minor": 4
}

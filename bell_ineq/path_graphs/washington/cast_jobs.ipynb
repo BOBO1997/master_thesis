{
 "cells": [
  {
   "cell_type": "code",
   "execution_count": 1,
   "id": "efce9d92",
   "metadata": {},
   "outputs": [],
   "source": [
    "import sys\n",
    "import pickle\n",
    "from pprint import pprint\n",
    "import time\n",
    "import datetime"
   ]
  },
  {
   "cell_type": "code",
   "execution_count": 2,
   "id": "b9d5b22f",
   "metadata": {},
   "outputs": [],
   "source": [
    "from qiskit import IBMQ"
   ]
  },
  {
   "cell_type": "code",
   "execution_count": 3,
   "id": "14983c70",
   "metadata": {},
   "outputs": [],
   "source": [
    "IBMQ.load_account()\n",
    "provider = IBMQ.get_provider(hub='ibm-q-utokyo', group='internal', project='hirashi-jst')\n",
    "backend = provider.get_backend(\"ibm_washington\")\n",
    "device = provider.backend.ibm_washington"
   ]
  },
  {
   "cell_type": "code",
   "execution_count": 4,
   "id": "6b032c28",
   "metadata": {},
   "outputs": [],
   "source": [
    "sys.path.append(\"../../libs_bell/\")\n",
    "from lib_graph_states import adjacency_list_for_path_graph, list_to_matrix, path_graph_state"
   ]
  },
  {
   "cell_type": "code",
   "execution_count": 5,
   "id": "1f2c287f",
   "metadata": {},
   "outputs": [],
   "source": [
    "vertex_list = [16] + list(range(0,9)[::-1]) \\\n",
    "            + [14] + list(range(18,33))\\\n",
    "            + [36] + list(range(37,52)[::-1])\\\n",
    "            + [52] + list(range(56,71))\\\n",
    "            + [71] + list(range(75,90))[::-1]\\\n",
    "            + [90] + list(range(94,109))\\\n",
    "            + [112] + list(range(113,127)[::-1])\n",
    "min_size = 40\n",
    "max_size = len(vertex_list) # largest graph size\n",
    "initial_layouts = [vertex_list[:n] for n in range(min_size, max_size + 1)] # initial_layouts\n",
    "adj_lists = [adjacency_list_for_path_graph(n) for n in range(min_size, max_size + 1)] # adjacency list of graph size 1 to max_size\n",
    "graphs = [list_to_matrix(adj_list) for adj_list in adj_lists] # adjacency matrix of graph size 1 to max_size\n",
    "shots_per_circuit = 1 << 13 # shots per one execution"
   ]
  },
  {
   "cell_type": "code",
   "execution_count": 6,
   "id": "a78764b8",
   "metadata": {},
   "outputs": [
    {
     "name": "stdout",
     "output_type": "stream",
     "text": [
      "max_size: 105\n",
      "shots_per_circuit: 8192\n",
      "F_list: [1, 4, 7, 10, 13, 16, 19, 22, 25, 28, 31, 34, 37, 40, 43, 46, 49, 52, 55, 58, 61, 64, 67, 70, 73, 76, 79, 82, 85, 88, 91, 94, 97, 100, 103]\n",
      "lengths of initial_layout: [40, 41, 42, 43, 44, 45, 46, 47, 48, 49, 50, 51, 52, 53, 54, 55, 56, 57, 58, 59, 60, 61, 62, 63, 64, 65, 66, 67, 68, 69, 70, 71, 72, 73, 74, 75, 76, 77, 78, 79, 80, 81, 82, 83, 84, 85, 86, 87, 88, 89, 90, 91, 92, 93, 94, 95, 96, 97, 98, 99, 100, 101, 102, 103, 104, 105]\n",
      "[[16,\n",
      "  8,\n",
      "  7,\n",
      "  6,\n",
      "  5,\n",
      "  4,\n",
      "  3,\n",
      "  2,\n",
      "  1,\n",
      "  0,\n",
      "  14,\n",
      "  18,\n",
      "  19,\n",
      "  20,\n",
      "  21,\n",
      "  22,\n",
      "  23,\n",
      "  24,\n",
      "  25,\n",
      "  26,\n",
      "  27,\n",
      "  28,\n",
      "  29,\n",
      "  30,\n",
      "  31,\n",
      "  32,\n",
      "  36,\n",
      "  51,\n",
      "  50,\n",
      "  49,\n",
      "  48,\n",
      "  47,\n",
      "  46,\n",
      "  45,\n",
      "  44,\n",
      "  43,\n",
      "  42,\n",
      "  41,\n",
      "  40,\n",
      "  39],\n",
      " [16,\n",
      "  8,\n",
      "  7,\n",
      "  6,\n",
      "  5,\n",
      "  4,\n",
      "  3,\n",
      "  2,\n",
      "  1,\n",
      "  0,\n",
      "  14,\n",
      "  18,\n",
      "  19,\n",
      "  20,\n",
      "  21,\n",
      "  22,\n",
      "  23,\n",
      "  24,\n",
      "  25,\n",
      "  26,\n",
      "  27,\n",
      "  28,\n",
      "  29,\n",
      "  30,\n",
      "  31,\n",
      "  32,\n",
      "  36,\n",
      "  51,\n",
      "  50,\n",
      "  49,\n",
      "  48,\n",
      "  47,\n",
      "  46,\n",
      "  45,\n",
      "  44,\n",
      "  43,\n",
      "  42,\n",
      "  41,\n",
      "  40,\n",
      "  39,\n",
      "  38,\n",
      "  37],\n",
      " [16,\n",
      "  8,\n",
      "  7,\n",
      "  6,\n",
      "  5,\n",
      "  4,\n",
      "  3,\n",
      "  2,\n",
      "  1,\n",
      "  0,\n",
      "  14,\n",
      "  18,\n",
      "  19,\n",
      "  20,\n",
      "  21,\n",
      "  22,\n",
      "  23,\n",
      "  24,\n",
      "  25,\n",
      "  26,\n",
      "  27,\n",
      "  28,\n",
      "  29,\n",
      "  30,\n",
      "  31,\n",
      "  32,\n",
      "  36,\n",
      "  51,\n",
      "  50,\n",
      "  49,\n",
      "  48,\n",
      "  47,\n",
      "  46,\n",
      "  45,\n",
      "  44,\n",
      "  43,\n",
      "  42,\n",
      "  41,\n",
      "  40,\n",
      "  39,\n",
      "  38,\n",
      "  37,\n",
      "  52,\n",
      "  56],\n",
      " [16,\n",
      "  8,\n",
      "  7,\n",
      "  6,\n",
      "  5,\n",
      "  4,\n",
      "  3,\n",
      "  2,\n",
      "  1,\n",
      "  0,\n",
      "  14,\n",
      "  18,\n",
      "  19,\n",
      "  20,\n",
      "  21,\n",
      "  22,\n",
      "  23,\n",
      "  24,\n",
      "  25,\n",
      "  26,\n",
      "  27,\n",
      "  28,\n",
      "  29,\n",
      "  30,\n",
      "  31,\n",
      "  32,\n",
      "  36,\n",
      "  51,\n",
      "  50,\n",
      "  49,\n",
      "  48,\n",
      "  47,\n",
      "  46,\n",
      "  45,\n",
      "  44,\n",
      "  43,\n",
      "  42,\n",
      "  41,\n",
      "  40,\n",
      "  39,\n",
      "  38,\n",
      "  37,\n",
      "  52,\n",
      "  56,\n",
      "  57,\n",
      "  58],\n",
      " [16,\n",
      "  8,\n",
      "  7,\n",
      "  6,\n",
      "  5,\n",
      "  4,\n",
      "  3,\n",
      "  2,\n",
      "  1,\n",
      "  0,\n",
      "  14,\n",
      "  18,\n",
      "  19,\n",
      "  20,\n",
      "  21,\n",
      "  22,\n",
      "  23,\n",
      "  24,\n",
      "  25,\n",
      "  26,\n",
      "  27,\n",
      "  28,\n",
      "  29,\n",
      "  30,\n",
      "  31,\n",
      "  32,\n",
      "  36,\n",
      "  51,\n",
      "  50,\n",
      "  49,\n",
      "  48,\n",
      "  47,\n",
      "  46,\n",
      "  45,\n",
      "  44,\n",
      "  43,\n",
      "  42,\n",
      "  41,\n",
      "  40,\n",
      "  39,\n",
      "  38,\n",
      "  37,\n",
      "  52,\n",
      "  56,\n",
      "  57,\n",
      "  58,\n",
      "  59,\n",
      "  60]]\n"
     ]
    }
   ],
   "source": [
    "print(\"max_size:\", max_size)\n",
    "print(\"shots_per_circuit:\", shots_per_circuit)\n",
    "print(\"lengths of initial_layout:\", [len(i) for i in initial_layouts])\n",
    "pprint(initial_layouts[:10:2])"
   ]
  },
  {
   "cell_type": "code",
   "execution_count": 7,
   "id": "e18583ab",
   "metadata": {},
   "outputs": [
    {
     "name": "stdout",
     "output_type": "stream",
     "text": [
      "66 qcs\n"
     ]
    }
   ],
   "source": [
    "qcs = [path_graph_state(size) for size in range(min_size, max_size+1)]\n",
    "print(len(qcs), \"qcs\")"
   ]
  },
  {
   "cell_type": "code",
   "execution_count": 8,
   "id": "8593dab4",
   "metadata": {},
   "outputs": [],
   "source": [
    "from lib_path_graphs import prepare_path_graph_qcs_list, execute_circuits"
   ]
  },
  {
   "cell_type": "code",
   "execution_count": 9,
   "id": "ba955fee",
   "metadata": {},
   "outputs": [
    {
     "name": "stdout",
     "output_type": "stream",
     "text": [
      "the number of graph state circuits is:  264\n"
     ]
    }
   ],
   "source": [
    "qcs_list, nums_divide_list, nums_meas_cal_list, initial_layouts_list = \\\n",
    "    prepare_path_graph_qcs_list(qcs, \n",
    "                                adj_lists, \n",
    "                                backend,\n",
    "                                optimization_level=1,\n",
    "                                initial_layouts=[vertex_list[:qc.num_qubits] for qc in qcs])\n",
    "print(\"the number of graph state circuits is: \", len(qcs_list))"
   ]
  },
  {
   "cell_type": "code",
   "execution_count": 10,
   "id": "957f8bcf",
   "metadata": {},
   "outputs": [
    {
     "name": "stdout",
     "output_type": "stream",
     "text": [
      "running on ibm_washington\n",
      "circuits from 0 to 264 are put on the real device.\n",
      "1 jobs\n",
      "job_id: 622c7f7a25b05bd1b876f9cb\n"
     ]
    }
   ],
   "source": [
    "jobs = execute_circuits(qcs_list,\n",
    "                        backend=backend,\n",
    "                        shots=shots_per_circuit,\n",
    "                        max_experiments=900,\n",
    "                        optimization_level=0)\n",
    "print(len(jobs), \"jobs\")\n",
    "print(\"job_id:\", jobs[0].job_id())"
   ]
  },
  {
   "cell_type": "code",
   "execution_count": 11,
   "id": "7a229b05",
   "metadata": {},
   "outputs": [],
   "source": [
    "dt_now = datetime.datetime.now()\n",
    "job_ids_filename = \"job_ids_\" + dt_now.strftime('%Y%m%d_%H%M%S') + \".pkl\""
   ]
  },
  {
   "cell_type": "code",
   "execution_count": 12,
   "id": "46665b97",
   "metadata": {},
   "outputs": [],
   "source": [
    "with open(\"./pkls/\" + job_ids_filename, \"wb\") as f:\n",
    "    pickle.dump([job.job_id() for job in jobs], f)"
   ]
  },
  {
   "cell_type": "code",
   "execution_count": 13,
   "id": "075dc6f1",
   "metadata": {},
   "outputs": [],
   "source": [
    "with open(\"./pkls/\" + \"properties_\" + dt_now.strftime('%Y%m%d_%H%M%S') + \".pkl\", \"wb\") as f:\n",
    "    pickle.dump(device.properties(), f)"
   ]
  },
  {
   "cell_type": "code",
   "execution_count": 14,
   "id": "a634090e",
   "metadata": {},
   "outputs": [
    {
     "data": {
      "image/png": "[encoded data removed]",
      "text/plain": [
       "<Figure size 360x360 with 1 Axes>"
      ]
     },
     "execution_count": 14,
     "metadata": {},
     "output_type": "execute_result"
    },
    {
     "data": {
      "image/png": "[encoded data removed]",
      "text/plain": [
       "<Figure size 360x360 with 1 Axes>"
      ]
     },
     "metadata": {
      "needs_background": "light"
     },
     "output_type": "display_data"
    }
   ],
   "source": [
    "# from qiskit.visualization import plot_circuit_layout\n",
    "# from qiskit import transpile\n",
    "# qc_on_device = transpile(qcs[-1], backend=backend, optimization_level=1, initial_layout=vertex_list)\n",
    "# plot_circuit_layout(qc_on_device, backend)"
   ]
  },
  {
   "cell_type": "code",
   "execution_count": 15,
   "id": "3acc155b",
   "metadata": {},
   "outputs": [
    {
     "ename": "UnboundLocalError",
     "evalue": "local variable 'grid_data' referenced before assignment",
     "output_type": "error",
     "traceback": [
      "\u001b[0;31m---------------------------------------------------------------------------\u001b[0m",
      "\u001b[0;31mUnboundLocalError\u001b[0m                         Traceback (most recent call last)",
      "\u001b[0;32m/var/folders/vr/d82vcp297v78vk4sb0_nzzdc0000gn/T/ipykernel_18341/1240606557.py\u001b[0m in \u001b[0;36m<module>\u001b[0;34m\u001b[0m\n\u001b[1;32m      1\u001b[0m \u001b[0;32mfrom\u001b[0m \u001b[0mqiskit\u001b[0m\u001b[0;34m.\u001b[0m\u001b[0mvisualization\u001b[0m \u001b[0;32mimport\u001b[0m \u001b[0mplot_error_map\u001b[0m\u001b[0;34m\u001b[0m\u001b[0;34m\u001b[0m\u001b[0m\n\u001b[0;32m----> 2\u001b[0;31m \u001b[0mplot_error_map\u001b[0m\u001b[0;34m(\u001b[0m\u001b[0mdevice\u001b[0m\u001b[0;34m)\u001b[0m\u001b[0;34m\u001b[0m\u001b[0;34m\u001b[0m\u001b[0m\n\u001b[0m",
      "\u001b[0;32m~/opt/anaconda3/envs/qiskitenv/lib/python3.9/site-packages/qiskit/visualization/gate_map.py\u001b[0m in \u001b[0;36mplot_error_map\u001b[0;34m(backend, figsize, show_title)\u001b[0m\n\u001b[1;32m    815\u001b[0m     \u001b[0;32mif\u001b[0m \u001b[0mnum_qubits\u001b[0m \u001b[0;34m<=\u001b[0m \u001b[0;36m5\u001b[0m\u001b[0;34m:\u001b[0m\u001b[0;34m\u001b[0m\u001b[0;34m\u001b[0m\u001b[0m\n\u001b[1;32m    816\u001b[0m         \u001b[0mqubit_size\u001b[0m \u001b[0;34m=\u001b[0m \u001b[0;36m20\u001b[0m\u001b[0;34m\u001b[0m\u001b[0;34m\u001b[0m\u001b[0m\n\u001b[0;32m--> 817\u001b[0;31m     plot_gate_map(\n\u001b[0m\u001b[1;32m    818\u001b[0m         \u001b[0mbackend\u001b[0m\u001b[0;34m,\u001b[0m\u001b[0;34m\u001b[0m\u001b[0;34m\u001b[0m\u001b[0m\n\u001b[1;32m    819\u001b[0m         \u001b[0mqubit_color\u001b[0m\u001b[0;34m=\u001b[0m\u001b[0mq_colors\u001b[0m\u001b[0;34m,\u001b[0m\u001b[0;34m\u001b[0m\u001b[0;34m\u001b[0m\u001b[0m\n",
      "\u001b[0;32m~/opt/anaconda3/envs/qiskitenv/lib/python3.9/site-packages/qiskit/visualization/gate_map.py\u001b[0m in \u001b[0;36mplot_gate_map\u001b[0;34m(backend, figsize, plot_directed, label_qubits, qubit_size, line_width, font_size, qubit_color, qubit_labels, line_color, font_color, ax, filename)\u001b[0m\n\u001b[1;32m    349\u001b[0m     \u001b[0mcoupling_map\u001b[0m \u001b[0;34m=\u001b[0m \u001b[0mconfig\u001b[0m\u001b[0;34m.\u001b[0m\u001b[0mcoupling_map\u001b[0m\u001b[0;34m\u001b[0m\u001b[0;34m\u001b[0m\u001b[0m\n\u001b[1;32m    350\u001b[0m     \u001b[0mqubit_coordinates\u001b[0m \u001b[0;34m=\u001b[0m \u001b[0mqubit_coordinates_map\u001b[0m\u001b[0;34m.\u001b[0m\u001b[0mget\u001b[0m\u001b[0;34m(\u001b[0m\u001b[0mnum_qubits\u001b[0m\u001b[0;34m)\u001b[0m\u001b[0;34m\u001b[0m\u001b[0;34m\u001b[0m\u001b[0m\n\u001b[0;32m--> 351\u001b[0;31m     return plot_coupling_map(\n\u001b[0m\u001b[1;32m    352\u001b[0m         \u001b[0mnum_qubits\u001b[0m\u001b[0;34m,\u001b[0m\u001b[0;34m\u001b[0m\u001b[0;34m\u001b[0m\u001b[0m\n\u001b[1;32m    353\u001b[0m         \u001b[0mqubit_coordinates\u001b[0m\u001b[0;34m,\u001b[0m\u001b[0;34m\u001b[0m\u001b[0;34m\u001b[0m\u001b[0m\n",
      "\u001b[0;32m~/opt/anaconda3/envs/qiskitenv/lib/python3.9/site-packages/qiskit/visualization/gate_map.py\u001b[0m in \u001b[0;36mplot_coupling_map\u001b[0;34m(num_qubits, qubit_coordinates, coupling_map, figsize, plot_directed, label_qubits, qubit_size, line_width, font_size, qubit_color, qubit_labels, line_color, font_color, ax, filename)\u001b[0m\n\u001b[1;32m    464\u001b[0m             \u001b[0;32mreturn\u001b[0m \u001b[0mfig\u001b[0m\u001b[0;34m\u001b[0m\u001b[0;34m\u001b[0m\u001b[0m\n\u001b[1;32m    465\u001b[0m \u001b[0;34m\u001b[0m\u001b[0m\n\u001b[0;32m--> 466\u001b[0;31m     \u001b[0mx_max\u001b[0m \u001b[0;34m=\u001b[0m \u001b[0mmax\u001b[0m\u001b[0;34m(\u001b[0m\u001b[0md\u001b[0m\u001b[0;34m[\u001b[0m\u001b[0;36m1\u001b[0m\u001b[0;34m]\u001b[0m \u001b[0;32mfor\u001b[0m \u001b[0md\u001b[0m \u001b[0;32min\u001b[0m \u001b[0mgrid_data\u001b[0m\u001b[0;34m)\u001b[0m\u001b[0;34m\u001b[0m\u001b[0;34m\u001b[0m\u001b[0m\n\u001b[0m\u001b[1;32m    467\u001b[0m     \u001b[0my_max\u001b[0m \u001b[0;34m=\u001b[0m \u001b[0mmax\u001b[0m\u001b[0;34m(\u001b[0m\u001b[0md\u001b[0m\u001b[0;34m[\u001b[0m\u001b[0;36m0\u001b[0m\u001b[0;34m]\u001b[0m \u001b[0;32mfor\u001b[0m \u001b[0md\u001b[0m \u001b[0;32min\u001b[0m \u001b[0mgrid_data\u001b[0m\u001b[0;34m)\u001b[0m\u001b[0;34m\u001b[0m\u001b[0;34m\u001b[0m\u001b[0m\n\u001b[1;32m    468\u001b[0m     \u001b[0mmax_dim\u001b[0m \u001b[0;34m=\u001b[0m \u001b[0mmax\u001b[0m\u001b[0;34m(\u001b[0m\u001b[0mx_max\u001b[0m\u001b[0;34m,\u001b[0m \u001b[0my_max\u001b[0m\u001b[0;34m)\u001b[0m\u001b[0;34m\u001b[0m\u001b[0;34m\u001b[0m\u001b[0m\n",
      "\u001b[0;31mUnboundLocalError\u001b[0m: local variable 'grid_data' referenced before assignment"
     ]
    },
    {
     "data": {
      "image/png": "[encoded data removed]",
      "text/plain": [
       "<Figure size 864x648 with 5 Axes>"
      ]
     },
     "metadata": {
      "needs_background": "light"
     },
     "output_type": "display_data"
    }
   ],
   "source": [
    "# from qiskit.visualization import plot_error_map\n",
    "# plot_error_map(device)"
   ]
  },
  {
   "cell_type": "code",
   "execution_count": null,
   "id": "0f138c66",
   "metadata": {},
   "outputs": [],
   "source": []
  }
 ],
 "metadata": {
  "kernelspec": {
   "display_name": "Python 3 (ipykernel)",
   "language": "python",
   "name": "python3"
  },
  "language_info": {
   "codemirror_mode": {
    "name": "ipython",
    "version": 3
   },
   "file_extension": ".py",
   "mimetype": "text/x-python",
   "name": "python",
   "nbconvert_exporter": "python",
   "pygments_lexer": "ipython3",
   "version": "3.9.7"
  }
 },
 "nbformat": 4,
 "nbformat_minor": 5
}

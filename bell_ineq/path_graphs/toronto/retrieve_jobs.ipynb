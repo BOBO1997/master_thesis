{
 "cells": [
  {
   "cell_type": "markdown",
   "metadata": {},
   "source": [
    "# Violation of Baccari et al.'s Bell inequality for path graphs from size 2 to 57 on IBM Quantum Brooklyn"
   ]
  },
  {
   "cell_type": "code",
   "execution_count": 1,
   "metadata": {},
   "outputs": [],
   "source": [
    "import sys\n",
    "import numpy as np\n",
    "import pickle"
   ]
  },
  {
   "cell_type": "code",
   "execution_count": 2,
   "metadata": {},
   "outputs": [],
   "source": [
    "from qiskit import Aer, IBMQ"
   ]
  },
  {
   "cell_type": "code",
   "execution_count": 3,
   "metadata": {},
   "outputs": [],
   "source": [
    "IBMQ.load_account()\n",
    "provider = IBMQ.get_provider(hub='ibm-q-utokyo', group='internal', project='hirashi-jst')\n",
    "device = provider.backend.ibmq_toronto"
   ]
  },
  {
   "cell_type": "code",
   "execution_count": 4,
   "metadata": {},
   "outputs": [],
   "source": [
    "sys.path.append(\"../../libs_bell/\")\n",
    "import importlib\n",
    "import lib_preprocessing\n",
    "importlib.reload(lib_preprocessing)\n",
    "from lib_preprocessing import *"
   ]
  },
  {
   "cell_type": "code",
   "execution_count": 5,
   "metadata": {},
   "outputs": [
    {
     "name": "stdout",
     "output_type": "stream",
     "text": [
      "length of results_jobs_list:  1\n",
      "length of results_list:  80\n",
      "length of results_meas_cal:  20\n",
      "length of raw_hist_list:  40\n",
      "length of raw_hist_list:  40\n",
      "length of results_meas_cal:  20\n"
     ]
    }
   ],
   "source": [
    "file_path = \"pkls/job_ids_20220113_064509.pkl\"\n",
    "raw_hist_list, results_meas_cal = job_ids_to_raw_hist_list_and_results_meas_cal(file_path, device)\n",
    "print(\"length of raw_hist_list: \", len(raw_hist_list))\n",
    "print(\"length of results_meas_cal: \", len(results_meas_cal))"
   ]
  },
  {
   "cell_type": "code",
   "execution_count": 6,
   "metadata": {},
   "outputs": [],
   "source": [
    "with open(\"pkls/raw_hist_list.pkl\", \"wb\") as f:\n",
    "    pickle.dump(raw_hist_list, f)\n",
    "with open(\"pkls/results_meas_cal.pkl\", \"wb\") as f:\n",
    "    pickle.dump(results_meas_cal, f)"
   ]
  }
 ],
 "metadata": {
  "kernelspec": {
   "display_name": "Python 3 (ipykernel)",
   "language": "python",
   "name": "python3"
  },
  "language_info": {
   "codemirror_mode": {
    "name": "ipython",
    "version": 3
   },
   "file_extension": ".py",
   "mimetype": "text/x-python",
   "name": "python",
   "nbconvert_exporter": "python",
   "pygments_lexer": "ipython3",
   "version": "3.9.7"
  }
 },
 "nbformat": 4,
 "nbformat_minor": 4
}

{
 "cells": [
  {
   "cell_type": "code",
   "execution_count": 1,
   "metadata": {},
   "outputs": [],
   "source": [
    "import sys\n",
    "import time\n",
    "import numpy as np\n",
    "import pickle\n",
    "import importlib"
   ]
  },
  {
   "cell_type": "code",
   "execution_count": 2,
   "metadata": {},
   "outputs": [],
   "source": [
    "from qiskit import Aer, IBMQ\n",
    "from qiskit.ignis.mitigation.measurement import TensoredMeasFitter"
   ]
  },
  {
   "cell_type": "code",
   "execution_count": 3,
   "metadata": {},
   "outputs": [],
   "source": [
    "max_size = 57\n",
    "max_length = 56"
   ]
  },
  {
   "cell_type": "code",
   "execution_count": 4,
   "metadata": {},
   "outputs": [],
   "source": [
    "with open(\"pkls/raw_hist_list.pkl\", \"rb\") as f:\n",
    "    raw_hist_list = pickle.load(f)\n",
    "with open(\"pkls/results_meas_cal.pkl\", \"rb\") as f:\n",
    "    results_meas_cal = pickle.load(f)"
   ]
  },
  {
   "cell_type": "code",
   "execution_count": 5,
   "metadata": {},
   "outputs": [
    {
     "data": {
      "text/plain": [
       "<module 'libs_qrem' from '/Users/yangbo/opt/anaconda3/envs/qiskitenv/lib/python3.9/site-packages/libs_qrem.cpython-39-darwin.so'>"
      ]
     },
     "execution_count": 5,
     "metadata": {},
     "output_type": "execute_result"
    }
   ],
   "source": [
    "import libs_qrem\n",
    "importlib.reload(libs_qrem)"
   ]
  },
  {
   "cell_type": "code",
   "execution_count": 6,
   "metadata": {},
   "outputs": [
    {
     "name": "stdout",
     "output_type": "stream",
     "text": [
      "size 10 finished\n",
      "size 20 finished\n",
      "size 30 finished\n",
      "size 40 finished\n",
      "size 50 finished\n",
      "length of xz_ignis_mitigator_list:  56\n"
     ]
    }
   ],
   "source": [
    "xz_ignis_mitigator_list = []\n",
    "for n in range(2, max_size + 1): # [2, ..., 57]\n",
    "    mit_pattern = [[i] for i in range(n)]\n",
    "    meas_fitter = TensoredMeasFitter(results_meas_cal[n - 2], mit_pattern=mit_pattern)\n",
    "    xz_ignis_mitigator_list.append(meas_fitter.filter)\n",
    "    if n % 10 == 0:\n",
    "        print(\"size\", n, \"finished\")\n",
    "print(\"length of xz_ignis_mitigator_list: \", len(xz_ignis_mitigator_list))"
   ]
  },
  {
   "cell_type": "code",
   "execution_count": 7,
   "metadata": {},
   "outputs": [
    {
     "name": "stdout",
     "output_type": "stream",
     "text": [
      "size 10 finished\n",
      "size 20 finished\n",
      "size 30 finished\n",
      "size 40 finished\n",
      "size 50 finished\n",
      "length of zx_ignis_mitigator_list:  56\n"
     ]
    }
   ],
   "source": [
    "zx_ignis_mitigator_list = []\n",
    "for n in range(2, max_size + 1): # [2, ..., 57]\n",
    "    mit_pattern = [[i] for i in range(n)]\n",
    "    meas_fitter = TensoredMeasFitter(results_meas_cal[n - 2], mit_pattern=mit_pattern)\n",
    "    zx_ignis_mitigator_list.append(meas_fitter.filter)\n",
    "    if n % 10 == 0:\n",
    "        print(\"size\", n, \"finished\")\n",
    "print(\"length of zx_ignis_mitigator_list: \", len(zx_ignis_mitigator_list))"
   ]
  },
  {
   "cell_type": "code",
   "execution_count": 8,
   "metadata": {},
   "outputs": [
    {
     "name": "stdout",
     "output_type": "stream",
     "text": [
      "2 qubits\n",
      "xz 0.008804213000001226 s\n",
      "zx 0.006805534999999807 s\n",
      "\n",
      "3 qubits\n",
      "xz 0.020689488000000367 s\n",
      "zx 0.023538367999998755 s\n",
      "\n",
      "4 qubits\n",
      "xz 0.08934289199999945 s\n",
      "zx 0.0849118390000001 s\n",
      "\n",
      "5 qubits\n",
      "xz 0.3463105589999991 s\n",
      "zx 0.3493858670000005 s\n",
      "\n",
      "6 qubits\n",
      "xz 1.6843746680000002 s\n",
      "zx 1.7289630030000005 s\n",
      "\n",
      "7 qubits\n",
      "xz 7.192805320999998 s\n",
      "zx 7.404717606999995 s\n",
      "\n",
      "8 qubits\n",
      "xz 32.933201098 s\n",
      "zx 32.840831463 s\n",
      "\n",
      "9 qubits\n",
      "xz 137.834563271 s\n",
      "zx 137.334000232 s\n",
      "\n",
      "10 qubits\n",
      "xz 647.125990951 s\n",
      "zx 645.6466338820001 s\n",
      "\n"
     ]
    }
   ],
   "source": [
    "ignis_hist_list = []\n",
    "xz_ignis_total_times = []\n",
    "zx_ignis_total_times = []\n",
    "for i in range(9):\n",
    "    print(i + 2, \"qubits\")\n",
    "    \n",
    "    t1 = time.perf_counter()\n",
    "    ignis_hist_list.append( xz_ignis_mitigator_list[i].apply(raw_hist_list[2 * i]) )\n",
    "    t2 = time.perf_counter()\n",
    "    xz_ignis_total_times.append(t2 - t1)\n",
    "    print(\"xz\", t2 - t1, \"s\")\n",
    "    \n",
    "    t3 = time.perf_counter()\n",
    "    ignis_hist_list.append( zx_ignis_mitigator_list[i].apply(raw_hist_list[2 * i + 1]) )\n",
    "    t4 = time.perf_counter()\n",
    "    zx_ignis_total_times.append(t4 - t3)\n",
    "    print(\"zx\", t4 - t3, \"s\")\n",
    "    \n",
    "    print()"
   ]
  },
  {
   "cell_type": "code",
   "execution_count": 9,
   "metadata": {},
   "outputs": [],
   "source": [
    "with open(\"./pkls/ignis_hist_list.pkl\", \"wb\") as f:\n",
    "    pickle.dump(ignis_hist_list, f)"
   ]
  },
  {
   "cell_type": "code",
   "execution_count": 10,
   "metadata": {},
   "outputs": [],
   "source": [
    "with open(\"./pkls/ignis_total_times.pkl\", \"wb\") as f:\n",
    "    pickle.dump({\"xz\": xz_ignis_total_times, \"zx\": zx_ignis_total_times}, f)"
   ]
  }
 ],
 "metadata": {
  "kernelspec": {
   "display_name": "Python 3 (ipykernel)",
   "language": "python",
   "name": "python3"
  },
  "language_info": {
   "codemirror_mode": {
    "name": "ipython",
    "version": 3
   },
   "file_extension": ".py",
   "mimetype": "text/x-python",
   "name": "python",
   "nbconvert_exporter": "python",
   "pygments_lexer": "ipython3",
   "version": "3.9.7"
  }
 },
 "nbformat": 4,
 "nbformat_minor": 4
}

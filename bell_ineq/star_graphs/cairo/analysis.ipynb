{
 "cells": [
  {
   "cell_type": "markdown",
   "metadata": {},
   "source": [
    "# Violation of Baccari et al.'s Bell inequality for star graphs from size 2 to 57 on IBM Quantum cairo"
   ]
  },
  {
   "cell_type": "code",
   "execution_count": 1,
   "metadata": {},
   "outputs": [],
   "source": [
    "import sys\n",
    "import time\n",
    "import numpy as np\n",
    "import pickle"
   ]
  },
  {
   "cell_type": "code",
   "execution_count": 2,
   "metadata": {},
   "outputs": [],
   "source": [
    "max_size = 27\n",
    "max_length = 26"
   ]
  },
  {
   "cell_type": "code",
   "execution_count": 3,
   "metadata": {},
   "outputs": [],
   "source": [
    "with open(\"./pkls/raw_hist_list.pkl\", \"rb\") as f:\n",
    "    raw_hist_list = pickle.load(f)\n",
    "# with open(\"./pkls/ignis_hist_list.pkl\", \"rb\") as f:\n",
    "#     ignis_hist_list = pickle.load(f)\n",
    "# with open(\"./pkls/delta_hist_list.pkl\", \"rb\") as f:\n",
    "#     delta_hist_list = pickle.load(f)\n",
    "with open(\"./pkls/lnp_hist_list.pkl\", \"rb\") as f:\n",
    "    lnp_hist_list = pickle.load(f)\n",
    "# with open(\"./pkls/mooney01_hist_list.pkl\", \"rb\") as f:\n",
    "#     mooney01_hist_list = pickle.load(f)\n",
    "# with open(\"./pkls/nation_hist_list.pkl\", \"rb\") as f:\n",
    "#     nation_hist_list = pickle.load(f)"
   ]
  },
  {
   "cell_type": "code",
   "execution_count": 4,
   "metadata": {},
   "outputs": [
    {
     "name": "stdout",
     "output_type": "stream",
     "text": [
      "max_size: 27\n",
      "F_list: [1, 4, 7, 10, 13, 16, 19, 22, 25]\n"
     ]
    }
   ],
   "source": [
    "sys.path.append(\"../../libs_bell/\")\n",
    "from lib_graph_states import adjacency_list_for_star_graph, list_to_matrix\n",
    "F_list = [3 * i + 1 for i in range(max_size // 3)] # subset of focused vertices of graph size max_size\n",
    "Fs = [F_list[:(n+1) // 3] for n in range(1, max_size + 1)] # subsets of focused vertices of graph size 1 to max_size\n",
    "adj_lists = [adjacency_list_for_star_graph(n) for n in range(1, max_size + 1)] # adjacency list of graph size 1 to max_size\n",
    "graphs = [list_to_matrix(adj_list) for adj_list in adj_lists] # adjacency matrix of graph size 1 to max_size\n",
    "print(\"max_size:\", max_size)\n",
    "print(\"F_list:\", F_list)"
   ]
  },
  {
   "cell_type": "code",
   "execution_count": 5,
   "metadata": {},
   "outputs": [],
   "source": [
    "from lib_star_graphs import correlations_of_star_graphs"
   ]
  },
  {
   "cell_type": "code",
   "execution_count": 6,
   "metadata": {
    "scrolled": true
   },
   "outputs": [
    {
     "name": "stdout",
     "output_type": "stream",
     "text": [
      "graph size: 1\n",
      "skipped\n",
      "\n",
      "graph size: 2\n",
      "first term\n",
      "second term\n",
      "total correlation: 2.244925923474088 \n",
      "\n",
      "graph size: 3\n",
      "first term\n",
      "second term\n",
      "total correlation: 4.597920412627565 \n",
      "\n",
      "graph size: 4\n",
      "first term\n",
      "second term\n",
      "total correlation: 6.531415517434532 \n",
      "\n",
      "graph size: 5\n",
      "first term\n",
      "second term\n",
      "total correlation: 8.306433077043927 \n",
      "\n",
      "graph size: 6\n",
      "first term\n",
      "second term\n",
      "total correlation: 9.862896636413534 \n",
      "\n",
      "graph size: 7\n",
      "first term\n",
      "second term\n",
      "total correlation: 11.598899026943789 \n",
      "\n",
      "graph size: 8\n",
      "first term\n",
      "second term\n",
      "total correlation: 12.77315203613102 \n",
      "\n",
      "graph size: 9\n",
      "first term\n",
      "second term\n",
      "total correlation: 12.996194507149823 \n",
      "\n",
      "graph size: 10\n",
      "first term\n",
      "second term\n",
      "total correlation: 14.191854069283131 \n",
      "\n",
      "graph size: 11\n",
      "first term\n",
      "second term\n",
      "total correlation: 13.80584558228774 \n",
      "\n",
      "graph size: 12\n",
      "first term\n",
      "second term\n",
      "total correlation: 11.323721241491798 \n",
      "\n",
      "graph size: 13\n",
      "first term\n",
      "second term\n",
      "total correlation: 11.231189690047463 \n",
      "\n",
      "graph size: 14\n",
      "first term\n",
      "second term\n",
      "total correlation: 11.077891149594912 \n",
      "\n",
      "graph size: 15\n",
      "first term\n",
      "second term\n",
      "total correlation: 11.221522214523429 \n",
      "\n",
      "graph size: 16\n",
      "first term\n",
      "second term\n",
      "total correlation: 11.977656907296153 \n",
      "\n",
      "graph size: 17\n",
      "first term\n",
      "second term\n",
      "total correlation: 13.86971997414297 \n",
      "\n",
      "graph size: 18\n",
      "first term\n",
      "second term\n",
      "total correlation: 16.77824903894545 \n",
      "\n",
      "graph size: 19\n",
      "first term\n",
      "second term\n",
      "total correlation: 19.195808453920158 \n",
      "\n",
      "graph size: 20\n",
      "first term\n",
      "second term\n",
      "total correlation: 22.001447957788265 \n",
      "\n",
      "graph size: 21\n",
      "first term\n",
      "second term\n",
      "total correlation: 23.235777422017716 \n",
      "\n",
      "graph size: 22\n",
      "first term\n",
      "second term\n",
      "total correlation: 23.537886032143803 \n",
      "\n",
      "graph size: 23\n",
      "first term\n",
      "second term\n",
      "total correlation: 23.768869643771634 \n",
      "\n",
      "graph size: 24\n",
      "first term\n",
      "second term\n",
      "total correlation: 22.174426716271892 \n",
      "\n",
      "graph size: 25\n",
      "first term\n",
      "second term\n",
      "total correlation: 23.19848858785358 \n",
      "\n",
      "graph size: 26\n",
      "first term\n",
      "second term\n",
      "total correlation: 22.97579138381778 \n",
      "\n",
      "graph size: 27\n",
      "first term\n",
      "second term\n",
      "total correlation: 22.822838110348226 \n",
      "\n"
     ]
    }
   ],
   "source": [
    "corr_list, stddev_list, Es_list, Ds_list = correlations_of_star_graphs(adj_lists, raw_hist_list)"
   ]
  },
  {
   "cell_type": "code",
   "execution_count": 7,
   "metadata": {},
   "outputs": [],
   "source": [
    "# ignis_corr_list, ignis_stddev_list, ignis_Es_list, ignis_Ds_list = correlations_of_star_graphs(adj_lists, ignis_hist_list)"
   ]
  },
  {
   "cell_type": "code",
   "execution_count": 8,
   "metadata": {},
   "outputs": [],
   "source": [
    "# delta_corr_list, delta_stddev_list, delta_Es_list, delta_Ds_list = correlations_of_star_graphs(adj_lists, delta_hist_list)"
   ]
  },
  {
   "cell_type": "code",
   "execution_count": 9,
   "metadata": {},
   "outputs": [
    {
     "name": "stdout",
     "output_type": "stream",
     "text": [
      "graph size: 1\n",
      "skipped\n",
      "\n",
      "graph size: 2\n",
      "first term\n",
      "second term\n",
      "total correlation: 2.680854230654365 \n",
      "\n",
      "graph size: 3\n",
      "first term\n",
      "second term\n",
      "total correlation: 5.327559885790596 \n",
      "\n",
      "graph size: 4\n",
      "first term\n",
      "second term\n",
      "total correlation: 7.672218752728544 \n",
      "\n",
      "graph size: 5\n",
      "first term\n",
      "second term\n",
      "total correlation: 10.28416328563501 \n",
      "\n",
      "graph size: 6\n",
      "first term\n",
      "second term\n",
      "total correlation: 12.37211465333553 \n",
      "\n",
      "graph size: 7\n",
      "first term\n",
      "second term\n",
      "total correlation: 14.708982442006286 \n",
      "\n",
      "graph size: 8\n",
      "first term\n",
      "second term\n",
      "total correlation: 16.45503223082885 \n",
      "\n",
      "graph size: 9\n",
      "first term\n",
      "second term\n",
      "total correlation: 16.34648671001801 \n",
      "\n",
      "graph size: 10\n",
      "first term\n",
      "second term\n",
      "total correlation: 18.843424007755903 \n",
      "\n",
      "graph size: 11\n",
      "first term\n",
      "second term\n",
      "total correlation: 17.38072304462786 \n",
      "\n",
      "graph size: 12\n",
      "first term\n",
      "second term\n",
      "total correlation: 12.529695588215791 \n",
      "\n",
      "graph size: 13\n",
      "first term\n",
      "second term\n",
      "total correlation: 12.58697089889214 \n",
      "\n",
      "graph size: 14\n",
      "first term\n",
      "second term\n",
      "total correlation: 11.709947020586377 \n",
      "\n",
      "graph size: 15\n",
      "first term\n",
      "second term\n",
      "total correlation: 13.066995477349975 \n",
      "\n",
      "graph size: 16\n",
      "first term\n",
      "second term\n",
      "total correlation: 14.706475099837277 \n",
      "\n",
      "graph size: 17\n",
      "first term\n",
      "second term\n",
      "total correlation: 16.449120533357195 \n",
      "\n",
      "graph size: 18\n",
      "first term\n",
      "second term\n",
      "total correlation: 20.209300161137513 \n",
      "\n",
      "graph size: 19\n",
      "first term\n",
      "second term\n",
      "total correlation: 22.83342614915996 \n",
      "\n",
      "graph size: 20\n",
      "first term\n",
      "second term\n",
      "total correlation: 25.954427695440422 \n",
      "\n",
      "graph size: 21\n",
      "first term\n",
      "second term\n",
      "total correlation: 27.24434085952986 \n",
      "\n",
      "graph size: 22\n",
      "first term\n",
      "second term\n",
      "total correlation: 27.380840773796727 \n",
      "\n",
      "graph size: 23\n",
      "first term\n",
      "second term\n",
      "total correlation: 28.334730732491728 \n",
      "\n",
      "graph size: 24\n",
      "first term\n",
      "second term\n",
      "total correlation: 26.9579313139388 \n",
      "\n",
      "graph size: 25\n",
      "first term\n",
      "second term\n",
      "total correlation: 27.64776356352051 \n",
      "\n",
      "graph size: 26\n",
      "first term\n",
      "second term\n",
      "total correlation: 28.066449224265458 \n",
      "\n",
      "graph size: 27\n",
      "first term\n",
      "second term\n",
      "total correlation: 28.44001456790349 \n",
      "\n"
     ]
    }
   ],
   "source": [
    "lnp_corr_list, lnp_stddev_list, lnp_Es_list, lnp_Ds_list = correlations_of_star_graphs(adj_lists, lnp_hist_list)"
   ]
  },
  {
   "cell_type": "code",
   "execution_count": 10,
   "metadata": {
    "scrolled": true
   },
   "outputs": [],
   "source": [
    "# mooney01_corr_list, mooney01_stddev_list, mooney01_Es_list, mooney01_Ds_list = correlations_of_star_graphs(adj_lists, mooney01_hist_list)"
   ]
  },
  {
   "cell_type": "code",
   "execution_count": 11,
   "metadata": {
    "scrolled": true
   },
   "outputs": [],
   "source": [
    "# nation_corr_list, nation_stddev_list, nation_Es_list, nation_Ds_list = correlations_of_star_graphs(adj_lists, nation_hist_list)"
   ]
  },
  {
   "cell_type": "markdown",
   "metadata": {},
   "source": [
    "## plot correlations"
   ]
  },
  {
   "cell_type": "code",
   "execution_count": 12,
   "metadata": {},
   "outputs": [],
   "source": [
    "c_bounds = [2 * i for i in range(max_size)]\n",
    "q_bounds = [2 * np.sqrt(2) * i for i in range(max_size)]"
   ]
  },
  {
   "cell_type": "code",
   "execution_count": 13,
   "metadata": {},
   "outputs": [],
   "source": [
    "from lib_plots import plot_correlations_lines, cut_corrs_list"
   ]
  },
  {
   "cell_type": "code",
   "execution_count": 14,
   "metadata": {},
   "outputs": [],
   "source": [
    "corrs_list = [np.array(corr_list), \n",
    "              # np.array(ignis_corr_list),\n",
    "              # np.array(delta_corr_list),\n",
    "              np.array(lnp_corr_list),\n",
    "              # np.array(mooney01_corr_list),\n",
    "              # np.array(nation_corr_list),\n",
    "             ]\n",
    "stddevs_list = [np.array(stddev_list),\n",
    "                # np.array(ignis_stddev_list),\n",
    "                # np.array(delta_stddev_list),\n",
    "                np.array(lnp_stddev_list),\n",
    "                # np.array(mooney01_stddev_list),\n",
    "                # np.array(nation_stddev_list),\n",
    "               ]"
   ]
  },
  {
   "cell_type": "code",
   "execution_count": 15,
   "metadata": {},
   "outputs": [
    {
     "data": {
      "image/png": "[encoded data removed]",
      "text/plain": [
       "<Figure size 432x288 with 1 Axes>"
      ]
     },
     "metadata": {
      "needs_background": "light"
     },
     "output_type": "display_data"
    }
   ],
   "source": [
    "plot_correlations_lines(max_size, \n",
    "                        c_bounds, \n",
    "                        q_bounds, \n",
    "                        corrs_list,\n",
    "                        stddevs_list,\n",
    "                        [\"raw\", \n",
    "                         # \"mitigated (ignis)\", \n",
    "                         # \"mitigated (proposed, delta)\", \n",
    "                         \"mitigated (proposed, least norm)\", \n",
    "                         # \"mitigated (Mooney et al., threshold = 0.1)\",\n",
    "                         # \"mitigated (Nation et al., iterative)\",\n",
    "                        ], \n",
    "                        # [\"*\", \"*\", \"*\", \"*\", \"*\", \"*\"], \n",
    "                        \"Correlation of Star Graphs (ibm_cairo)\")"
   ]
  },
  {
   "cell_type": "code",
   "execution_count": 16,
   "metadata": {},
   "outputs": [],
   "source": [
    "with open(\"./pkls/corrs_stddevs_list.pkl\", \"wb\") as f:\n",
    "    pickle.dump([corrs_list, stddevs_list], f)"
   ]
  },
  {
   "cell_type": "code",
   "execution_count": 17,
   "metadata": {},
   "outputs": [],
   "source": [
    "each_corr_list = [[0]] + [E_1 + Es_2 for E_1, Es_2 in Es_list[1:]]\n",
    "tp_each_corr_list = []\n",
    "for i in range(len(each_corr_list)):\n",
    "    tp_each_corr_list.append([each_corr_list[j][i] for j in range(i, len(each_corr_list))])\n",
    "# pprint.pprint(tp_each_corr_list)"
   ]
  },
  {
   "cell_type": "code",
   "execution_count": 18,
   "metadata": {},
   "outputs": [],
   "source": [
    "each_stddev_list = [[0]] + [D_1 + Ds_2 for D_1, Ds_2 in Ds_list[1:]]\n",
    "tp_each_stddev_list = []\n",
    "for i in range(len(each_stddev_list)):\n",
    "    tp_each_stddev_list.append([each_stddev_list[j][i] for j in range(i, len(each_stddev_list))])\n",
    "# pprint.pprint(tp_each_corr_list)"
   ]
  },
  {
   "cell_type": "code",
   "execution_count": 19,
   "metadata": {},
   "outputs": [
    {
     "data": {
      "image/png": "[encoded data removed]",
      "text/plain": [
       "<Figure size 432x288 with 1 Axes>"
      ]
     },
     "metadata": {},
     "output_type": "display_data"
    }
   ],
   "source": [
    "import matplotlib.pyplot as plt\n",
    "plt.style.use('ggplot')\n",
    "plt.clf()\n",
    "for i, (each_corr, each_stddev) in enumerate(zip(tp_each_corr_list, tp_each_stddev_list)):\n",
    "    if i == 0:\n",
    "        plt.plot(list(range(2, max_size + 1)), each_corr[1:], color=[min(1, 2*i/max_size), 0, min(1, 2*(1-i/max_size))])\n",
    "        plt.errorbar(list(range(2, max_size + 1)), each_corr[1:], label=str(i), color=[min(1, 2*i/max_size), 0, min(1, 2*(1-i/max_size))], fmt=\"x\", yerr=each_stddev[1:], capsize=3)\n",
    "    else:\n",
    "        plt.plot(list(range(i+1, max_size + 1)), each_corr, color=[min(1, 2*i/max_size), 0, min(1, 2*(1-i/max_size))])\n",
    "        plt.errorbar(list(range(i+1, max_size + 1)), each_corr, label=str(i), color=[min(1, 2*i/max_size), 0, min(1, 2*(1-i/max_size))], fmt=\"v\", yerr=each_stddev, capsize=3)\n",
    "#  plt.plot(list(range(1, max_size + 1)), damped_vibration, label=\"damped vibration\", color=[0, 0, 1])\n",
    "plt.legend(bbox_to_anchor=(1.05, 1), loc='upper left', borderaxespad=0)\n",
    "plt.xlabel(\"graph size\")\n",
    "plt.ylabel(\"correlation\")\n",
    "plt.xticks(list(range(max_size + 2)))\n",
    "plt.ylim([-1,1])\n",
    "plt.title(\"correlation of each term (ibm_cairo)\")\n",
    "plt.show()"
   ]
  }
 ],
 "metadata": {
  "kernelspec": {
   "display_name": "Python 3 (ipykernel)",
   "language": "python",
   "name": "python3"
  },
  "language_info": {
   "codemirror_mode": {
    "name": "ipython",
    "version": 3
   },
   "file_extension": ".py",
   "mimetype": "text/x-python",
   "name": "python",
   "nbconvert_exporter": "python",
   "pygments_lexer": "ipython3",
   "version": "3.9.7"
  }
 },
 "nbformat": 4,
 "nbformat_minor": 4
}

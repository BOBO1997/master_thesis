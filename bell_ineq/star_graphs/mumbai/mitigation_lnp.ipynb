{
 "cells": [
  {
   "cell_type": "code",
   "execution_count": 1,
   "metadata": {},
   "outputs": [],
   "source": [
    "import sys\n",
    "import time\n",
    "import numpy as np\n",
    "import pickle\n",
    "import importlib"
   ]
  },
  {
   "cell_type": "code",
   "execution_count": 2,
   "metadata": {},
   "outputs": [],
   "source": [
    "from qiskit import Aer, IBMQ\n",
    "from qiskit.ignis.mitigation.measurement import TensoredMeasFitter"
   ]
  },
  {
   "cell_type": "code",
   "execution_count": 3,
   "metadata": {},
   "outputs": [],
   "source": [
    "max_size = 27\n",
    "max_length = 26"
   ]
  },
  {
   "cell_type": "code",
   "execution_count": 4,
   "metadata": {},
   "outputs": [],
   "source": [
    "with open(\"pkls/raw_hist_list.pkl\", \"rb\") as f:\n",
    "    raw_hist_list = pickle.load(f)\n",
    "with open(\"pkls/results_meas_cal.pkl\", \"rb\") as f:\n",
    "    results_meas_cal = pickle.load(f)"
   ]
  },
  {
   "cell_type": "code",
   "execution_count": 5,
   "metadata": {},
   "outputs": [],
   "source": [
    "import libs_qrem\n",
    "importlib.reload(libs_qrem)\n",
    "from libs_qrem import LeastNormFilter"
   ]
  },
  {
   "cell_type": "code",
   "execution_count": 6,
   "metadata": {},
   "outputs": [
    {
     "name": "stdout",
     "output_type": "stream",
     "text": [
      "size 10 finished\n",
      "size 20 finished\n",
      "length of xz_lnp_mitigator_list:  26\n"
     ]
    }
   ],
   "source": [
    "xz_lnp_mitigator_list = []\n",
    "for n in range(2, max_size + 1): # [2, ..., 57]\n",
    "    mit_pattern = [[i] for i in range(n)]\n",
    "    meas_fitter = TensoredMeasFitter(results_meas_cal[n - 2], mit_pattern=mit_pattern)\n",
    "    xz_lnp_mitigator_list.append(LeastNormFilter(n, meas_fitter.cal_matrices))\n",
    "    if n % 10 == 0:\n",
    "        print(\"size\", n, \"finished\")\n",
    "print(\"length of xz_lnp_mitigator_list: \", len(xz_lnp_mitigator_list))"
   ]
  },
  {
   "cell_type": "code",
   "execution_count": 7,
   "metadata": {},
   "outputs": [
    {
     "name": "stdout",
     "output_type": "stream",
     "text": [
      "size 10 finished\n",
      "size 20 finished\n",
      "length of zx_lnp_mitigator_list:  26\n"
     ]
    }
   ],
   "source": [
    "zx_lnp_mitigator_list = []\n",
    "for n in range(2, max_size + 1): # [2, ..., 57]\n",
    "    mit_pattern = [[i] for i in range(n)]\n",
    "    meas_fitter = TensoredMeasFitter(results_meas_cal[n - 2], mit_pattern=mit_pattern)\n",
    "    zx_lnp_mitigator_list.append(LeastNormFilter(n, meas_fitter.cal_matrices))\n",
    "    if n % 10 == 0:\n",
    "        print(\"size\", n, \"finished\")\n",
    "print(\"length of zx_lnp_mitigator_list: \", len(zx_lnp_mitigator_list))"
   ]
  },
  {
   "cell_type": "code",
   "execution_count": 8,
   "metadata": {},
   "outputs": [
    {
     "name": "stdout",
     "output_type": "stream",
     "text": [
      "2 qubits\n",
      "xz 6.547400000034287e-05 s\n",
      "zx 3.121899999936062e-05 s\n",
      "\n",
      "3 qubits\n",
      "xz 4.622100000073459e-05 s\n",
      "zx 3.3986999999235934e-05 s\n",
      "\n",
      "4 qubits\n",
      "xz 8.467099999975858e-05 s\n",
      "zx 7.014599999966009e-05 s\n",
      "\n",
      "5 qubits\n",
      "xz 0.00012646699999940836 s\n",
      "zx 0.00010737800000004682 s\n",
      "\n",
      "6 qubits\n",
      "xz 0.00024272700000071978 s\n",
      "zx 0.00022198799999983976 s\n",
      "\n",
      "7 qubits\n",
      "xz 0.0006103369999994612 s\n",
      "zx 0.00043506300000029086 s\n",
      "\n",
      "8 qubits\n",
      "xz 0.001914278999999297 s\n",
      "zx 0.0007414269999994616 s\n",
      "\n",
      "9 qubits\n",
      "xz 0.005930101999999771 s\n",
      "zx 0.0011652169999996076 s\n",
      "\n",
      "10 qubits\n",
      "xz 0.019418367000000103 s\n",
      "zx 0.0020419479999995716 s\n",
      "\n",
      "11 qubits\n",
      "xz 0.0841700370000007 s\n",
      "zx 0.0042848660000007754 s\n",
      "\n",
      "12 qubits\n",
      "xz 0.26724313800000044 s\n",
      "zx 0.006611516000000428 s\n",
      "\n",
      "13 qubits\n",
      "xz 0.611066214 s\n",
      "zx 0.00748061400000033 s\n",
      "\n",
      "14 qubits\n",
      "xz 1.0939205880000005 s\n",
      "zx 0.017135259999999874 s\n",
      "\n",
      "15 qubits\n",
      "xz 1.631329505 s\n",
      "zx 0.01757486400000019 s\n",
      "\n",
      "16 qubits\n",
      "xz 2.6495782499999994 s\n",
      "zx 0.029612135000000706 s\n",
      "\n",
      "17 qubits\n",
      "xz 3.103975161000001 s\n",
      "zx 0.023938246000000163 s\n",
      "\n",
      "18 qubits\n",
      "xz 2.099631381000002 s\n",
      "zx 0.03624893299999954 s\n",
      "\n",
      "19 qubits\n",
      "xz 2.4158004050000024 s\n",
      "zx 0.04679567000000162 s\n",
      "\n",
      "20 qubits\n",
      "xz 2.283508119999997 s\n",
      "zx 0.0579357019999982 s\n",
      "\n",
      "21 qubits\n",
      "xz 3.269849163 s\n",
      "zx 0.0700241150000025 s\n",
      "\n",
      "22 qubits\n",
      "xz 2.934050407000001 s\n",
      "zx 0.1025726380000016 s\n",
      "\n",
      "23 qubits\n",
      "xz 2.4023034109999983 s\n",
      "zx 0.12681293800000049 s\n",
      "\n",
      "24 qubits\n",
      "xz 2.2422879870000045 s\n",
      "zx 0.14980061800000044 s\n",
      "\n",
      "25 qubits\n",
      "xz 2.6129864889999936 s\n",
      "zx 0.16220646499999702 s\n",
      "\n",
      "26 qubits\n",
      "xz 2.677573539000001 s\n",
      "zx 0.1905968319999971 s\n",
      "\n",
      "27 qubits\n",
      "xz 2.4162386170000048 s\n",
      "zx 0.27995206199999956 s\n",
      "\n"
     ]
    }
   ],
   "source": [
    "lnp_hist_list = []\n",
    "xz_lnp_total_times = []\n",
    "zx_lnp_total_times = []\n",
    "for i in range(max_length):\n",
    "    print(i + 2, \"qubits\")\n",
    "    \n",
    "    t1 = time.perf_counter()\n",
    "    lnp_hist_list.append( xz_lnp_mitigator_list[i].apply(raw_hist_list[2 * i]) )\n",
    "    t2 = time.perf_counter()\n",
    "    xz_lnp_total_times.append(t2 - t1)\n",
    "    print(\"xz\", t2 - t1, \"s\")\n",
    "    \n",
    "    t3 = time.perf_counter()\n",
    "    lnp_hist_list.append( zx_lnp_mitigator_list[i].apply(raw_hist_list[2 * i + 1]) )\n",
    "    t4 = time.perf_counter()\n",
    "    zx_lnp_total_times.append(t4 - t3)\n",
    "    print(\"zx\", t4 - t3, \"s\")\n",
    "    \n",
    "    print()"
   ]
  },
  {
   "cell_type": "code",
   "execution_count": 9,
   "metadata": {},
   "outputs": [],
   "source": [
    "with open(\"./pkls/lnp_hist_list.pkl\", \"wb\") as f:\n",
    "    pickle.dump(lnp_hist_list, f)"
   ]
  },
  {
   "cell_type": "code",
   "execution_count": 10,
   "metadata": {},
   "outputs": [],
   "source": [
    "with open(\"./pkls/lnp_total_times.pkl\", \"wb\") as f:\n",
    "    pickle.dump({\"xz\": xz_lnp_total_times, \"zx\": zx_lnp_total_times}, f)"
   ]
  },
  {
   "cell_type": "code",
   "execution_count": 11,
   "metadata": {},
   "outputs": [],
   "source": [
    "xz_lnp_times = []\n",
    "zx_lnp_times = []\n",
    "for i in range(max_length):\n",
    "    xz_lnp_times.append( xz_lnp_mitigator_list[i].times() )\n",
    "    zx_lnp_times.append( zx_lnp_mitigator_list[i].times() )"
   ]
  },
  {
   "cell_type": "code",
   "execution_count": 12,
   "metadata": {},
   "outputs": [],
   "source": [
    "with open(\"./pkls/lnp_times.pkl\", \"wb\") as f:\n",
    "    pickle.dump({\"xz\": xz_lnp_times, \"zx\": zx_lnp_times}, f)"
   ]
  },
  {
   "cell_type": "code",
   "execution_count": 13,
   "metadata": {
    "scrolled": true
   },
   "outputs": [
    {
     "name": "stdout",
     "output_type": "stream",
     "text": [
      "0 finished\n",
      "1 finished\n",
      "2 finished\n",
      "3 finished\n",
      "4 finished\n",
      "5 finished\n",
      "6 finished\n",
      "7 finished\n",
      "8 finished\n",
      "9 finished\n",
      "10 finished\n",
      "11 finished\n",
      "12 finished\n",
      "13 finished\n",
      "14 finished\n",
      "15 finished\n",
      "16 finished\n",
      "17 finished\n",
      "18 finished\n",
      "19 finished\n",
      "20 finished\n",
      "21 finished\n",
      "22 finished\n",
      "23 finished\n",
      "24 finished\n",
      "25 finished\n"
     ]
    }
   ],
   "source": [
    "xz_lnp_mitigators = []\n",
    "for i in range(max_length):\n",
    "    xz_lnp_mitigators.append({\"indices_to_keys_vector\":xz_lnp_mitigator_list[i].indices_to_keys_vector(),\n",
    "                              # \"mitigated_hist\":xz_lnp_mitigator_list[i].mitigated_hist(),\n",
    "                              \"exact_one_norm_of_reduced_inv_A\":xz_lnp_mitigator_list[i].exact_one_norm_of_reduced_inv_A(),\n",
    "                              # \"reduced_inv_A\":xz_lnp_mitigator_list[i].reduced_inv_A(),\n",
    "                              \"sum_of_x\":xz_lnp_mitigator_list[i].sum_of_x(),\n",
    "                              \"sum_of_x_hat\":xz_lnp_mitigator_list[i].sum_of_x_hat(),\n",
    "                              \"sum_of_x_tilde\":xz_lnp_mitigator_list[i].sum_of_x_tilde(),\n",
    "                              # \"times\":xz_lnp_mitigator_list[i].times(),\n",
    "                              \"x_s\":xz_lnp_mitigator_list[i].x_s(),\n",
    "                              \"x_hat\":xz_lnp_mitigator_list[i].x_hat(),\n",
    "                              \"x_tilde\":xz_lnp_mitigator_list[i].x_tilde(),\n",
    "                              })\n",
    "    print(i, \"finished\")"
   ]
  },
  {
   "cell_type": "code",
   "execution_count": 14,
   "metadata": {
    "scrolled": true
   },
   "outputs": [
    {
     "name": "stdout",
     "output_type": "stream",
     "text": [
      "0 finished\n",
      "1 finished\n",
      "2 finished\n",
      "3 finished\n",
      "4 finished\n",
      "5 finished\n",
      "6 finished\n",
      "7 finished\n",
      "8 finished\n",
      "9 finished\n",
      "10 finished\n",
      "11 finished\n",
      "12 finished\n",
      "13 finished\n",
      "14 finished\n",
      "15 finished\n",
      "16 finished\n",
      "17 finished\n",
      "18 finished\n",
      "19 finished\n",
      "20 finished\n",
      "21 finished\n",
      "22 finished\n",
      "23 finished\n",
      "24 finished\n",
      "25 finished\n"
     ]
    }
   ],
   "source": [
    "zx_lnp_mitigators = []\n",
    "for i in range(max_length):\n",
    "    zx_lnp_mitigators.append({\"indices_to_keys_vector\":zx_lnp_mitigator_list[i].indices_to_keys_vector(),\n",
    "                              # \"mitigated_hist\":zx_lnp_mitigator_list[i].mitigated_hist(),\n",
    "                              \"exact_one_norm_of_reduced_inv_A\":zx_lnp_mitigator_list[i].exact_one_norm_of_reduced_inv_A(),\n",
    "                              # \"reduced_inv_A\":zx_lnp_mitigator_list[i].reduced_inv_A(),\n",
    "                              \"sum_of_x\":zx_lnp_mitigator_list[i].sum_of_x(),\n",
    "                              \"sum_of_x_hat\":zx_lnp_mitigator_list[i].sum_of_x_hat(),\n",
    "                              \"sum_of_x_tilde\":zx_lnp_mitigator_list[i].sum_of_x_tilde(),\n",
    "                              # \"times\":zx_lnp_mitigator_list[i].times(),\n",
    "                              \"x_s\":zx_lnp_mitigator_list[i].x_s(),\n",
    "                              \"x_hat\":zx_lnp_mitigator_list[i].x_hat(),\n",
    "                              \"x_tilde\":zx_lnp_mitigator_list[i].x_tilde(),\n",
    "                              })\n",
    "    print(i, \"finished\")"
   ]
  },
  {
   "cell_type": "code",
   "execution_count": 15,
   "metadata": {},
   "outputs": [],
   "source": [
    "with open(\"./pkls/lnp_mitigator_list.pkl\", \"wb\") as f:\n",
    "    pickle.dump({\"xz\": xz_lnp_mitigators, \"zx\": zx_lnp_mitigators}, f)"
   ]
  }
 ],
 "metadata": {
  "kernelspec": {
   "display_name": "Python 3 (ipykernel)",
   "language": "python",
   "name": "python3"
  },
  "language_info": {
   "codemirror_mode": {
    "name": "ipython",
    "version": 3
   },
   "file_extension": ".py",
   "mimetype": "text/x-python",
   "name": "python",
   "nbconvert_exporter": "python",
   "pygments_lexer": "ipython3",
   "version": "3.9.7"
  }
 },
 "nbformat": 4,
 "nbformat_minor": 4
}

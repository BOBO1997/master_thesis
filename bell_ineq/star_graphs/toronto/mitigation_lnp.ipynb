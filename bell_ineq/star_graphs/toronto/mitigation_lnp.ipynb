{
 "cells": [
  {
   "cell_type": "code",
   "execution_count": 1,
   "metadata": {},
   "outputs": [],
   "source": [
    "import sys\n",
    "import time\n",
    "import numpy as np\n",
    "import pickle\n",
    "import importlib"
   ]
  },
  {
   "cell_type": "code",
   "execution_count": 2,
   "metadata": {},
   "outputs": [],
   "source": [
    "from qiskit import Aer, IBMQ\n",
    "from qiskit.ignis.mitigation.measurement import TensoredMeasFitter"
   ]
  },
  {
   "cell_type": "code",
   "execution_count": 3,
   "metadata": {},
   "outputs": [],
   "source": [
    "max_size = 27\n",
    "max_length = 26"
   ]
  },
  {
   "cell_type": "code",
   "execution_count": 4,
   "metadata": {},
   "outputs": [],
   "source": [
    "with open(\"pkls/raw_hist_list.pkl\", \"rb\") as f:\n",
    "    raw_hist_list = pickle.load(f)\n",
    "with open(\"pkls/results_meas_cal.pkl\", \"rb\") as f:\n",
    "    results_meas_cal = pickle.load(f)"
   ]
  },
  {
   "cell_type": "code",
   "execution_count": 5,
   "metadata": {},
   "outputs": [],
   "source": [
    "import libs_qrem\n",
    "importlib.reload(libs_qrem)\n",
    "from libs_qrem import LeastNormFilter"
   ]
  },
  {
   "cell_type": "code",
   "execution_count": 6,
   "metadata": {},
   "outputs": [
    {
     "name": "stdout",
     "output_type": "stream",
     "text": [
      "size 10 finished\n",
      "size 20 finished\n",
      "length of xz_lnp_mitigator_list:  26\n"
     ]
    }
   ],
   "source": [
    "xz_lnp_mitigator_list = []\n",
    "for n in range(2, max_size + 1): # [2, ..., 57]\n",
    "    mit_pattern = [[i] for i in range(n)]\n",
    "    meas_fitter = TensoredMeasFitter(results_meas_cal[n - 2], mit_pattern=mit_pattern)\n",
    "    xz_lnp_mitigator_list.append(LeastNormFilter(n, meas_fitter.cal_matrices))\n",
    "    if n % 10 == 0:\n",
    "        print(\"size\", n, \"finished\")\n",
    "print(\"length of xz_lnp_mitigator_list: \", len(xz_lnp_mitigator_list))"
   ]
  },
  {
   "cell_type": "code",
   "execution_count": 7,
   "metadata": {},
   "outputs": [
    {
     "name": "stdout",
     "output_type": "stream",
     "text": [
      "size 10 finished\n",
      "size 20 finished\n",
      "length of zx_lnp_mitigator_list:  26\n"
     ]
    }
   ],
   "source": [
    "zx_lnp_mitigator_list = []\n",
    "for n in range(2, max_size + 1): # [2, ..., 57]\n",
    "    mit_pattern = [[i] for i in range(n)]\n",
    "    meas_fitter = TensoredMeasFitter(results_meas_cal[n - 2], mit_pattern=mit_pattern)\n",
    "    zx_lnp_mitigator_list.append(LeastNormFilter(n, meas_fitter.cal_matrices))\n",
    "    if n % 10 == 0:\n",
    "        print(\"size\", n, \"finished\")\n",
    "print(\"length of zx_lnp_mitigator_list: \", len(zx_lnp_mitigator_list))"
   ]
  },
  {
   "cell_type": "code",
   "execution_count": 8,
   "metadata": {},
   "outputs": [
    {
     "name": "stdout",
     "output_type": "stream",
     "text": [
      "2 qubits\n",
      "xz 0.00010725800000033203 s\n",
      "zx 7.878200000011049e-05 s\n",
      "\n",
      "3 qubits\n",
      "xz 6.87399999996785e-05 s\n",
      "zx 5.5525000000056224e-05 s\n",
      "\n",
      "4 qubits\n",
      "xz 8.206799999976866e-05 s\n",
      "zx 6.691699999983314e-05 s\n",
      "\n",
      "5 qubits\n",
      "xz 0.00014773200000028908 s\n",
      "zx 0.00012345599999985524 s\n",
      "\n",
      "6 qubits\n",
      "xz 0.00023132400000003273 s\n",
      "zx 0.00016296399999982114 s\n",
      "\n",
      "7 qubits\n",
      "xz 0.0006114600000000081 s\n",
      "zx 0.00035006500000012153 s\n",
      "\n",
      "8 qubits\n",
      "xz 0.0015950349999998004 s\n",
      "zx 0.0006597700000003925 s\n",
      "\n",
      "9 qubits\n",
      "xz 0.005579036999999953 s\n",
      "zx 0.0011130760000002127 s\n",
      "\n",
      "10 qubits\n",
      "xz 0.019615812000000066 s\n",
      "zx 0.001844517000000323 s\n",
      "\n",
      "11 qubits\n",
      "xz 0.07055381300000008 s\n",
      "zx 0.0025439829999998054 s\n",
      "\n",
      "12 qubits\n",
      "xz 0.21491901299999983 s\n",
      "zx 0.0048257810000000845 s\n",
      "\n",
      "13 qubits\n",
      "xz 0.4814888690000001 s\n",
      "zx 0.008997943999999869 s\n",
      "\n",
      "14 qubits\n",
      "xz 0.8008245780000003 s\n",
      "zx 0.014877399000000402 s\n",
      "\n",
      "15 qubits\n",
      "xz 1.0724379409999996 s\n",
      "zx 0.02101035100000015 s\n",
      "\n",
      "16 qubits\n",
      "xz 1.3248243979999996 s\n",
      "zx 0.030623828999999603 s\n",
      "\n",
      "17 qubits\n",
      "xz 1.4711722480000011 s\n",
      "zx 0.050325692000001254 s\n",
      "\n",
      "18 qubits\n",
      "xz 1.5879176000000008 s\n",
      "zx 0.08542782799999848 s\n",
      "\n",
      "19 qubits\n",
      "xz 1.7699159800000004 s\n",
      "zx 0.10499079100000053 s\n",
      "\n",
      "20 qubits\n",
      "xz 1.8550098770000005 s\n",
      "zx 0.12499948299999986 s\n",
      "\n",
      "21 qubits\n",
      "xz 1.952375926000002 s\n",
      "zx 0.14671541299999902 s\n",
      "\n",
      "22 qubits\n",
      "xz 2.023338387999999 s\n",
      "zx 0.23138385000000028 s\n",
      "\n",
      "23 qubits\n",
      "xz 2.204992878999999 s\n",
      "zx 0.3310859320000006 s\n",
      "\n",
      "24 qubits\n",
      "xz 2.4237394660000007 s\n",
      "zx 0.35501191200000193 s\n",
      "\n",
      "25 qubits\n",
      "xz 2.3803200019999977 s\n",
      "zx 0.47737896599999985 s\n",
      "\n",
      "26 qubits\n",
      "xz 2.4752215070000005 s\n",
      "zx 0.6197808460000012 s\n",
      "\n",
      "27 qubits\n",
      "xz 2.5161663260000005 s\n",
      "zx 0.6863498419999985 s\n",
      "\n"
     ]
    }
   ],
   "source": [
    "lnp_hist_list = []\n",
    "xz_lnp_total_times = []\n",
    "zx_lnp_total_times = []\n",
    "for i in range(max_length):\n",
    "    print(i + 2, \"qubits\")\n",
    "    \n",
    "    t1 = time.perf_counter()\n",
    "    lnp_hist_list.append( xz_lnp_mitigator_list[i].apply(raw_hist_list[2 * i]) )\n",
    "    t2 = time.perf_counter()\n",
    "    xz_lnp_total_times.append(t2 - t1)\n",
    "    print(\"xz\", t2 - t1, \"s\")\n",
    "    \n",
    "    t3 = time.perf_counter()\n",
    "    lnp_hist_list.append( zx_lnp_mitigator_list[i].apply(raw_hist_list[2 * i + 1]) )\n",
    "    t4 = time.perf_counter()\n",
    "    zx_lnp_total_times.append(t4 - t3)\n",
    "    print(\"zx\", t4 - t3, \"s\")\n",
    "    \n",
    "    print()"
   ]
  },
  {
   "cell_type": "code",
   "execution_count": 9,
   "metadata": {},
   "outputs": [],
   "source": [
    "with open(\"./pkls/lnp_hist_list.pkl\", \"wb\") as f:\n",
    "    pickle.dump(lnp_hist_list, f)"
   ]
  },
  {
   "cell_type": "code",
   "execution_count": 10,
   "metadata": {},
   "outputs": [],
   "source": [
    "with open(\"./pkls/lnp_total_times.pkl\", \"wb\") as f:\n",
    "    pickle.dump({\"xz\": xz_lnp_total_times, \"zx\": zx_lnp_total_times}, f)"
   ]
  },
  {
   "cell_type": "code",
   "execution_count": 11,
   "metadata": {},
   "outputs": [],
   "source": [
    "xz_lnp_times = []\n",
    "zx_lnp_times = []\n",
    "for i in range(max_length):\n",
    "    xz_lnp_times.append( xz_lnp_mitigator_list[i].times() )\n",
    "    zx_lnp_times.append( zx_lnp_mitigator_list[i].times() )"
   ]
  },
  {
   "cell_type": "code",
   "execution_count": 12,
   "metadata": {},
   "outputs": [],
   "source": [
    "with open(\"./pkls/lnp_times.pkl\", \"wb\") as f:\n",
    "    pickle.dump({\"xz\": xz_lnp_times, \"zx\": zx_lnp_times}, f)"
   ]
  },
  {
   "cell_type": "code",
   "execution_count": 13,
   "metadata": {
    "scrolled": true
   },
   "outputs": [
    {
     "name": "stdout",
     "output_type": "stream",
     "text": [
      "0 finished\n",
      "1 finished\n",
      "2 finished\n",
      "3 finished\n",
      "4 finished\n",
      "5 finished\n",
      "6 finished\n",
      "7 finished\n",
      "8 finished\n",
      "9 finished\n",
      "10 finished\n",
      "11 finished\n",
      "12 finished\n",
      "13 finished\n",
      "14 finished\n",
      "15 finished\n",
      "16 finished\n",
      "17 finished\n",
      "18 finished\n",
      "19 finished\n",
      "20 finished\n",
      "21 finished\n",
      "22 finished\n",
      "23 finished\n",
      "24 finished\n",
      "25 finished\n"
     ]
    }
   ],
   "source": [
    "xz_lnp_mitigators = []\n",
    "for i in range(max_length):\n",
    "    xz_lnp_mitigators.append({\"indices_to_keys_vector\":xz_lnp_mitigator_list[i].indices_to_keys_vector(),\n",
    "                              # \"mitigated_hist\":xz_lnp_mitigator_list[i].mitigated_hist(),\n",
    "                              \"exact_one_norm_of_reduced_inv_A\":xz_lnp_mitigator_list[i].exact_one_norm_of_reduced_inv_A(),\n",
    "                              # \"reduced_inv_A\":xz_lnp_mitigator_list[i].reduced_inv_A(),\n",
    "                              \"sum_of_x\":xz_lnp_mitigator_list[i].sum_of_x(),\n",
    "                              \"sum_of_x_hat\":xz_lnp_mitigator_list[i].sum_of_x_hat(),\n",
    "                              \"sum_of_x_tilde\":xz_lnp_mitigator_list[i].sum_of_x_tilde(),\n",
    "                              # \"times\":xz_lnp_mitigator_list[i].times(),\n",
    "                              \"x_s\":xz_lnp_mitigator_list[i].x_s(),\n",
    "                              \"x_hat\":xz_lnp_mitigator_list[i].x_hat(),\n",
    "                              \"x_tilde\":xz_lnp_mitigator_list[i].x_tilde(),\n",
    "                              })\n",
    "    print(i, \"finished\")"
   ]
  },
  {
   "cell_type": "code",
   "execution_count": 14,
   "metadata": {
    "scrolled": true
   },
   "outputs": [
    {
     "name": "stdout",
     "output_type": "stream",
     "text": [
      "0 finished\n",
      "1 finished\n",
      "2 finished\n",
      "3 finished\n",
      "4 finished\n",
      "5 finished\n",
      "6 finished\n",
      "7 finished\n",
      "8 finished\n",
      "9 finished\n",
      "10 finished\n",
      "11 finished\n",
      "12 finished\n",
      "13 finished\n",
      "14 finished\n",
      "15 finished\n",
      "16 finished\n",
      "17 finished\n",
      "18 finished\n",
      "19 finished\n",
      "20 finished\n",
      "21 finished\n",
      "22 finished\n",
      "23 finished\n",
      "24 finished\n",
      "25 finished\n"
     ]
    }
   ],
   "source": [
    "zx_lnp_mitigators = []\n",
    "for i in range(max_length):\n",
    "    zx_lnp_mitigators.append({\"indices_to_keys_vector\":zx_lnp_mitigator_list[i].indices_to_keys_vector(),\n",
    "                              # \"mitigated_hist\":zx_lnp_mitigator_list[i].mitigated_hist(),\n",
    "                              \"exact_one_norm_of_reduced_inv_A\":zx_lnp_mitigator_list[i].exact_one_norm_of_reduced_inv_A(),\n",
    "                              # \"reduced_inv_A\":zx_lnp_mitigator_list[i].reduced_inv_A(),\n",
    "                              \"sum_of_x\":zx_lnp_mitigator_list[i].sum_of_x(),\n",
    "                              \"sum_of_x_hat\":zx_lnp_mitigator_list[i].sum_of_x_hat(),\n",
    "                              \"sum_of_x_tilde\":zx_lnp_mitigator_list[i].sum_of_x_tilde(),\n",
    "                              # \"times\":zx_lnp_mitigator_list[i].times(),\n",
    "                              \"x_s\":zx_lnp_mitigator_list[i].x_s(),\n",
    "                              \"x_hat\":zx_lnp_mitigator_list[i].x_hat(),\n",
    "                              \"x_tilde\":zx_lnp_mitigator_list[i].x_tilde(),\n",
    "                              })\n",
    "    print(i, \"finished\")"
   ]
  },
  {
   "cell_type": "code",
   "execution_count": 15,
   "metadata": {},
   "outputs": [],
   "source": [
    "with open(\"./pkls/lnp_mitigator_list.pkl\", \"wb\") as f:\n",
    "    pickle.dump({\"xz\": xz_lnp_mitigators, \"zx\": zx_lnp_mitigators}, f)"
   ]
  }
 ],
 "metadata": {
  "kernelspec": {
   "display_name": "Python 3 (ipykernel)",
   "language": "python",
   "name": "python3"
  },
  "language_info": {
   "codemirror_mode": {
    "name": "ipython",
    "version": 3
   },
   "file_extension": ".py",
   "mimetype": "text/x-python",
   "name": "python",
   "nbconvert_exporter": "python",
   "pygments_lexer": "ipython3",
   "version": "3.9.7"
  }
 },
 "nbformat": 4,
 "nbformat_minor": 4
}

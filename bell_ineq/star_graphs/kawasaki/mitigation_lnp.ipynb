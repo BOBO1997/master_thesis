{
 "cells": [
  {
   "cell_type": "code",
   "execution_count": 1,
   "metadata": {},
   "outputs": [],
   "source": [
    "import sys\n",
    "import time\n",
    "import numpy as np\n",
    "import pickle\n",
    "import importlib"
   ]
  },
  {
   "cell_type": "code",
   "execution_count": 2,
   "metadata": {},
   "outputs": [],
   "source": [
    "from qiskit import Aer, IBMQ\n",
    "from qiskit.ignis.mitigation.measurement import TensoredMeasFitter"
   ]
  },
  {
   "cell_type": "code",
   "execution_count": 3,
   "metadata": {},
   "outputs": [],
   "source": [
    "max_size = 27\n",
    "max_length = 26"
   ]
  },
  {
   "cell_type": "code",
   "execution_count": 4,
   "metadata": {},
   "outputs": [],
   "source": [
    "with open(\"pkls/raw_hist_list.pkl\", \"rb\") as f:\n",
    "    raw_hist_list = pickle.load(f)\n",
    "with open(\"pkls/results_meas_cal.pkl\", \"rb\") as f:\n",
    "    results_meas_cal = pickle.load(f)"
   ]
  },
  {
   "cell_type": "code",
   "execution_count": 5,
   "metadata": {},
   "outputs": [],
   "source": [
    "import libs_qrem\n",
    "importlib.reload(libs_qrem)\n",
    "from libs_qrem import LeastNormFilter"
   ]
  },
  {
   "cell_type": "code",
   "execution_count": 6,
   "metadata": {},
   "outputs": [
    {
     "name": "stdout",
     "output_type": "stream",
     "text": [
      "size 10 finished\n",
      "size 20 finished\n",
      "length of xz_lnp_mitigator_list:  26\n"
     ]
    }
   ],
   "source": [
    "xz_lnp_mitigator_list = []\n",
    "for n in range(2, max_size + 1): # [2, ..., 57]\n",
    "    mit_pattern = [[i] for i in range(n)]\n",
    "    meas_fitter = TensoredMeasFitter(results_meas_cal[n - 2], mit_pattern=mit_pattern)\n",
    "    xz_lnp_mitigator_list.append(LeastNormFilter(n, meas_fitter.cal_matrices))\n",
    "    if n % 10 == 0:\n",
    "        print(\"size\", n, \"finished\")\n",
    "print(\"length of xz_lnp_mitigator_list: \", len(xz_lnp_mitigator_list))"
   ]
  },
  {
   "cell_type": "code",
   "execution_count": 7,
   "metadata": {},
   "outputs": [
    {
     "name": "stdout",
     "output_type": "stream",
     "text": [
      "size 10 finished\n",
      "size 20 finished\n",
      "length of zx_lnp_mitigator_list:  26\n"
     ]
    }
   ],
   "source": [
    "zx_lnp_mitigator_list = []\n",
    "for n in range(2, max_size + 1): # [2, ..., 57]\n",
    "    mit_pattern = [[i] for i in range(n)]\n",
    "    meas_fitter = TensoredMeasFitter(results_meas_cal[n - 2], mit_pattern=mit_pattern)\n",
    "    zx_lnp_mitigator_list.append(LeastNormFilter(n, meas_fitter.cal_matrices))\n",
    "    if n % 10 == 0:\n",
    "        print(\"size\", n, \"finished\")\n",
    "print(\"length of zx_lnp_mitigator_list: \", len(zx_lnp_mitigator_list))"
   ]
  },
  {
   "cell_type": "code",
   "execution_count": 8,
   "metadata": {},
   "outputs": [
    {
     "name": "stdout",
     "output_type": "stream",
     "text": [
      "2 qubits\n",
      "xz 6.521000000025978e-05 s\n",
      "zx 3.5975999999937613e-05 s\n",
      "\n",
      "3 qubits\n",
      "xz 4.717699999989833e-05 s\n",
      "zx 3.6672999999876055e-05 s\n",
      "\n",
      "4 qubits\n",
      "xz 6.764400000003334e-05 s\n",
      "zx 0.00014222500000027338 s\n",
      "\n",
      "5 qubits\n",
      "xz 0.00020853099999973423 s\n",
      "zx 0.0001788030000002827 s\n",
      "\n",
      "6 qubits\n",
      "xz 0.0004519109999998605 s\n",
      "zx 0.0002945659999999961 s\n",
      "\n",
      "7 qubits\n",
      "xz 0.0008825450000000679 s\n",
      "zx 0.0002511510000000605 s\n",
      "\n",
      "8 qubits\n",
      "xz 0.0015601450000000128 s\n",
      "zx 0.0002508930000000298 s\n",
      "\n",
      "9 qubits\n",
      "xz 0.006170918000000025 s\n",
      "zx 0.000507188999999908 s\n",
      "\n",
      "10 qubits\n",
      "xz 0.03907817199999997 s\n",
      "zx 0.0010371339999997176 s\n",
      "\n",
      "11 qubits\n",
      "xz 0.0812305969999998 s\n",
      "zx 0.0010979350000002164 s\n",
      "\n",
      "12 qubits\n",
      "xz 0.18752548199999985 s\n",
      "zx 0.0017177239999996985 s\n",
      "\n",
      "13 qubits\n",
      "xz 0.43683907300000024 s\n",
      "zx 0.0016587590000001207 s\n",
      "\n",
      "14 qubits\n",
      "xz 0.8818141859999997 s\n",
      "zx 0.002549818999999509 s\n",
      "\n",
      "15 qubits\n",
      "xz 1.126980338 s\n",
      "zx 0.0035142700000001525 s\n",
      "\n",
      "16 qubits\n",
      "xz 1.3391728819999997 s\n",
      "zx 0.004900634999999376 s\n",
      "\n",
      "17 qubits\n",
      "xz 1.4838471699999998 s\n",
      "zx 0.005813309000000544 s\n",
      "\n",
      "18 qubits\n",
      "xz 1.6279078499999997 s\n",
      "zx 0.01007002699999937 s\n",
      "\n",
      "19 qubits\n",
      "xz 1.819979952999999 s\n",
      "zx 0.00944270799999991 s\n",
      "\n",
      "20 qubits\n",
      "xz 1.9219136480000003 s\n",
      "zx 0.012872053999998911 s\n",
      "\n",
      "21 qubits\n",
      "xz 2.0938962419999996 s\n",
      "zx 0.015947580999998934 s\n",
      "\n",
      "22 qubits\n",
      "xz 2.2301479760000014 s\n",
      "zx 0.02382873799999885 s\n",
      "\n",
      "23 qubits\n",
      "xz 2.3632248959999984 s\n",
      "zx 0.031000275000000244 s\n",
      "\n",
      "24 qubits\n",
      "xz 2.384202493 s\n",
      "zx 0.03860153999999838 s\n",
      "\n",
      "25 qubits\n",
      "xz 2.4409166420000012 s\n",
      "zx 0.0475692369999976 s\n",
      "\n",
      "26 qubits\n",
      "xz 2.5731616669999973 s\n",
      "zx 0.061372121999998086 s\n",
      "\n",
      "27 qubits\n",
      "xz 2.4345621970000018 s\n",
      "zx 0.06993947500000175 s\n",
      "\n"
     ]
    }
   ],
   "source": [
    "lnp_hist_list = []\n",
    "xz_lnp_total_times = []\n",
    "zx_lnp_total_times = []\n",
    "for i in range(max_length):\n",
    "    print(i + 2, \"qubits\")\n",
    "    \n",
    "    t1 = time.perf_counter()\n",
    "    lnp_hist_list.append( xz_lnp_mitigator_list[i].apply(raw_hist_list[2 * i]) )\n",
    "    t2 = time.perf_counter()\n",
    "    xz_lnp_total_times.append(t2 - t1)\n",
    "    print(\"xz\", t2 - t1, \"s\")\n",
    "    \n",
    "    t3 = time.perf_counter()\n",
    "    lnp_hist_list.append( zx_lnp_mitigator_list[i].apply(raw_hist_list[2 * i + 1]) )\n",
    "    t4 = time.perf_counter()\n",
    "    zx_lnp_total_times.append(t4 - t3)\n",
    "    print(\"zx\", t4 - t3, \"s\")\n",
    "    \n",
    "    print()"
   ]
  },
  {
   "cell_type": "code",
   "execution_count": 9,
   "metadata": {},
   "outputs": [],
   "source": [
    "with open(\"./pkls/lnp_hist_list.pkl\", \"wb\") as f:\n",
    "    pickle.dump(lnp_hist_list, f)"
   ]
  },
  {
   "cell_type": "code",
   "execution_count": 10,
   "metadata": {},
   "outputs": [],
   "source": [
    "with open(\"./pkls/lnp_total_times.pkl\", \"wb\") as f:\n",
    "    pickle.dump({\"xz\": xz_lnp_total_times, \"zx\": zx_lnp_total_times}, f)"
   ]
  },
  {
   "cell_type": "code",
   "execution_count": 11,
   "metadata": {},
   "outputs": [],
   "source": [
    "xz_lnp_times = []\n",
    "zx_lnp_times = []\n",
    "for i in range(max_length):\n",
    "    xz_lnp_times.append( xz_lnp_mitigator_list[i].times() )\n",
    "    zx_lnp_times.append( zx_lnp_mitigator_list[i].times() )"
   ]
  },
  {
   "cell_type": "code",
   "execution_count": 12,
   "metadata": {},
   "outputs": [],
   "source": [
    "with open(\"./pkls/lnp_times.pkl\", \"wb\") as f:\n",
    "    pickle.dump({\"xz\": xz_lnp_times, \"zx\": zx_lnp_times}, f)"
   ]
  },
  {
   "cell_type": "code",
   "execution_count": 13,
   "metadata": {
    "scrolled": true
   },
   "outputs": [
    {
     "name": "stdout",
     "output_type": "stream",
     "text": [
      "0 finished\n",
      "1 finished\n",
      "2 finished\n",
      "3 finished\n",
      "4 finished\n",
      "5 finished\n",
      "6 finished\n",
      "7 finished\n",
      "8 finished\n",
      "9 finished\n",
      "10 finished\n",
      "11 finished\n",
      "12 finished\n",
      "13 finished\n",
      "14 finished\n",
      "15 finished\n",
      "16 finished\n",
      "17 finished\n",
      "18 finished\n",
      "19 finished\n",
      "20 finished\n",
      "21 finished\n",
      "22 finished\n",
      "23 finished\n",
      "24 finished\n",
      "25 finished\n"
     ]
    }
   ],
   "source": [
    "xz_lnp_mitigators = []\n",
    "for i in range(max_length):\n",
    "    xz_lnp_mitigators.append({\"indices_to_keys_vector\":xz_lnp_mitigator_list[i].indices_to_keys_vector(),\n",
    "                              # \"mitigated_hist\":xz_lnp_mitigator_list[i].mitigated_hist(),\n",
    "                              \"exact_one_norm_of_reduced_inv_A\":xz_lnp_mitigator_list[i].exact_one_norm_of_reduced_inv_A(),\n",
    "                              # \"reduced_inv_A\":xz_lnp_mitigator_list[i].reduced_inv_A(),\n",
    "                              \"sum_of_x\":xz_lnp_mitigator_list[i].sum_of_x(),\n",
    "                              \"sum_of_x_hat\":xz_lnp_mitigator_list[i].sum_of_x_hat(),\n",
    "                              \"sum_of_x_tilde\":xz_lnp_mitigator_list[i].sum_of_x_tilde(),\n",
    "                              # \"times\":xz_lnp_mitigator_list[i].times(),\n",
    "                              \"x_s\":xz_lnp_mitigator_list[i].x_s(),\n",
    "                              \"x_hat\":xz_lnp_mitigator_list[i].x_hat(),\n",
    "                              \"x_tilde\":xz_lnp_mitigator_list[i].x_tilde(),\n",
    "                              })\n",
    "    print(i, \"finished\")"
   ]
  },
  {
   "cell_type": "code",
   "execution_count": 14,
   "metadata": {
    "scrolled": true
   },
   "outputs": [
    {
     "name": "stdout",
     "output_type": "stream",
     "text": [
      "0 finished\n",
      "1 finished\n",
      "2 finished\n",
      "3 finished\n",
      "4 finished\n",
      "5 finished\n",
      "6 finished\n",
      "7 finished\n",
      "8 finished\n",
      "9 finished\n",
      "10 finished\n",
      "11 finished\n",
      "12 finished\n",
      "13 finished\n",
      "14 finished\n",
      "15 finished\n",
      "16 finished\n",
      "17 finished\n",
      "18 finished\n",
      "19 finished\n",
      "20 finished\n",
      "21 finished\n",
      "22 finished\n",
      "23 finished\n",
      "24 finished\n",
      "25 finished\n"
     ]
    }
   ],
   "source": [
    "zx_lnp_mitigators = []\n",
    "for i in range(max_length):\n",
    "    zx_lnp_mitigators.append({\"indices_to_keys_vector\":zx_lnp_mitigator_list[i].indices_to_keys_vector(),\n",
    "                              # \"mitigated_hist\":zx_lnp_mitigator_list[i].mitigated_hist(),\n",
    "                              \"exact_one_norm_of_reduced_inv_A\":zx_lnp_mitigator_list[i].exact_one_norm_of_reduced_inv_A(),\n",
    "                              # \"reduced_inv_A\":zx_lnp_mitigator_list[i].reduced_inv_A(),\n",
    "                              \"sum_of_x\":zx_lnp_mitigator_list[i].sum_of_x(),\n",
    "                              \"sum_of_x_hat\":zx_lnp_mitigator_list[i].sum_of_x_hat(),\n",
    "                              \"sum_of_x_tilde\":zx_lnp_mitigator_list[i].sum_of_x_tilde(),\n",
    "                              # \"times\":zx_lnp_mitigator_list[i].times(),\n",
    "                              \"x_s\":zx_lnp_mitigator_list[i].x_s(),\n",
    "                              \"x_hat\":zx_lnp_mitigator_list[i].x_hat(),\n",
    "                              \"x_tilde\":zx_lnp_mitigator_list[i].x_tilde(),\n",
    "                              })\n",
    "    print(i, \"finished\")"
   ]
  },
  {
   "cell_type": "code",
   "execution_count": 15,
   "metadata": {},
   "outputs": [],
   "source": [
    "with open(\"./pkls/lnp_mitigator_list.pkl\", \"wb\") as f:\n",
    "    pickle.dump({\"xz\": xz_lnp_mitigators, \"zx\": zx_lnp_mitigators}, f)"
   ]
  }
 ],
 "metadata": {
  "kernelspec": {
   "display_name": "Python 3 (ipykernel)",
   "language": "python",
   "name": "python3"
  },
  "language_info": {
   "codemirror_mode": {
    "name": "ipython",
    "version": 3
   },
   "file_extension": ".py",
   "mimetype": "text/x-python",
   "name": "python",
   "nbconvert_exporter": "python",
   "pygments_lexer": "ipython3",
   "version": "3.9.7"
  }
 },
 "nbformat": 4,
 "nbformat_minor": 4
}

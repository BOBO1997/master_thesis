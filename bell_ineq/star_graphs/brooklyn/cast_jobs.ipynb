{
 "cells": [
  {
   "cell_type": "code",
   "execution_count": 1,
   "id": "efce9d92",
   "metadata": {},
   "outputs": [],
   "source": [
    "import sys\n",
    "import pickle\n",
    "from pprint import pprint\n",
    "import time\n",
    "import datetime"
   ]
  },
  {
   "cell_type": "code",
   "execution_count": 2,
   "id": "b9d5b22f",
   "metadata": {},
   "outputs": [],
   "source": [
    "from qiskit import IBMQ"
   ]
  },
  {
   "cell_type": "code",
   "execution_count": 3,
   "id": "14983c70",
   "metadata": {},
   "outputs": [],
   "source": [
    "IBMQ.load_account()\n",
    "provider = IBMQ.get_provider(hub='ibm-q-utokyo', group='internal', project='hirashi-jst')\n",
    "backend = provider.get_backend(\"ibmq_brooklyn\")\n",
    "device = provider.backend.ibmq_brooklyn"
   ]
  },
  {
   "cell_type": "code",
   "execution_count": 4,
   "id": "6b032c28",
   "metadata": {},
   "outputs": [],
   "source": [
    "sys.path.append(\"../../libs_bell/\")\n",
    "from lib_graph_states import adjacency_list_for_star_graph, list_to_matrix"
   ]
  },
  {
   "cell_type": "code",
   "execution_count": 5,
   "id": "1f2c287f",
   "metadata": {},
   "outputs": [],
   "source": [
    "vertex_list =  [19, \n",
    "                25, \n",
    "                20, 33,\n",
    "                18, 21, 32,\n",
    "                34, 17, 12, 31,\n",
    "                22, 35, 16, 8, 39, \n",
    "                11, 30, 23, 36, 15, 7, 45,\n",
    "                40, 9, 4, 29, 26, 37, 24, 6, 46,\n",
    "                14, 44, 49, 3, 28, 5, 47] # qubit layout\n",
    "max_size = len(vertex_list) # largest graph size\n",
    "Fs = [[0] for n in range(1, max_size + 1)] # subsets of focused vertices of graph size 1 to max_size\n",
    "adj_lists = [adjacency_list_for_star_graph(n) for n in range(1, max_size + 1)] # adjacency list of graph size 1 to max_size\n",
    "graphs = [list_to_matrix(adj_list) for adj_list in adj_lists] # adjacency matrix of graph size 1 to max_size\n",
    "shots_per_circuit = 1 << 13 # shots per one execution"
   ]
  },
  {
   "cell_type": "code",
   "execution_count": 6,
   "id": "a78764b8",
   "metadata": {},
   "outputs": [
    {
     "name": "stdout",
     "output_type": "stream",
     "text": [
      "max_size: 39\n",
      "shots_per_circuit: 8192\n"
     ]
    }
   ],
   "source": [
    "print(\"max_size:\", max_size)\n",
    "print(\"shots_per_circuit:\", shots_per_circuit)"
   ]
  },
  {
   "cell_type": "code",
   "execution_count": 7,
   "id": "674b7e33",
   "metadata": {},
   "outputs": [],
   "source": [
    "# indicate how to connect qubits\n",
    "order = [[0,1],\n",
    "         [0,2],[1,3],\n",
    "         [0,4],[2,5],[3,6],\n",
    "         [3,7],[4,8],[5,9],[6,10],\n",
    "         [5,11],[7,12],[8,13],[9,14],[10,15],\n",
    "         [8,16],[10,17],[11,18],[12,19],[13,20],[14,21],[15,22],\n",
    "         [12,23],[14,24],[16,25],[17,26],[18,27],[19,28],[20,29],[21,30],[22,31],\n",
    "         [20,32],[22,33],[23,34],[25,35],[26,36],[30,37],[31,38]]"
   ]
  },
  {
   "cell_type": "code",
   "execution_count": 8,
   "id": "e18583ab",
   "metadata": {},
   "outputs": [
    {
     "name": "stdout",
     "output_type": "stream",
     "text": [
      "39 qcs\n"
     ]
    }
   ],
   "source": [
    "from lib_graph_states import star_graph_state\n",
    "qcs = [star_graph_state(size, order[:size-1]) for size in range(1, max_size+1)]\n",
    "print(len(qcs), \"qcs\")"
   ]
  },
  {
   "cell_type": "code",
   "execution_count": 11,
   "id": "8593dab4",
   "metadata": {},
   "outputs": [],
   "source": [
    "from lib_star_graphs import prepare_star_graph_qcs_list, execute_circuits"
   ]
  },
  {
   "cell_type": "code",
   "execution_count": 12,
   "id": "ba955fee",
   "metadata": {},
   "outputs": [
    {
     "name": "stderr",
     "output_type": "stream",
     "text": [
      "/Users/yangbo/opt/anaconda3/envs/qiskitenv/lib/python3.9/site-packages/qiskit/circuit/quantumcircuit.py:942: DeprecationWarning: The QuantumCircuit.extend() method is being deprecated. Use the compose() (potentially with the inplace=True argument) and tensor() methods which are more flexible w.r.t circuit register compatibility.\n",
      "  return self.extend(rhs)\n"
     ]
    },
    {
     "name": "stdout",
     "output_type": "stream",
     "text": [
      "the number of graph state circuits is:  152\n"
     ]
    }
   ],
   "source": [
    "qcs_list, nums_divide_list, nums_meas_cal_list, initial_layouts_list = \\\n",
    "    prepare_star_graph_qcs_list(qcs, \n",
    "                                backend,\n",
    "                                optimization_level=3,\n",
    "                                initial_layouts=[vertex_list[:qc.num_qubits] for qc in qcs])\n",
    "print(\"the number of graph state circuits is: \", len(qcs_list))"
   ]
  },
  {
   "cell_type": "code",
   "execution_count": null,
   "id": "957f8bcf",
   "metadata": {},
   "outputs": [],
   "source": [
    "jobs = execute_circuits(qcs_list,\n",
    "                        backend=backend,\n",
    "                        shots=shots_per_circuit,\n",
    "                        max_experiments=900,\n",
    "                        optimization_level=0)\n",
    "print(len(jobs), \"jobs\")\n",
    "print(\"job_id:\", jobs[0].job_id())"
   ]
  },
  {
   "cell_type": "code",
   "execution_count": null,
   "id": "7a229b05",
   "metadata": {},
   "outputs": [],
   "source": [
    "dt_now = datetime.datetime.now()\n",
    "job_ids_filename = \"job_ids_\" + dt_now.strftime('%Y%m%d_%H%M%S') + \".pkl\""
   ]
  },
  {
   "cell_type": "code",
   "execution_count": null,
   "id": "46665b97",
   "metadata": {},
   "outputs": [],
   "source": [
    "with open(\"./pkls/\" + job_ids_filename, \"wb\") as f:\n",
    "    pickle.dump([job.job_id() for job in jobs], f)"
   ]
  },
  {
   "cell_type": "code",
   "execution_count": null,
   "id": "075dc6f1",
   "metadata": {},
   "outputs": [],
   "source": [
    "with open(\"./pkls/\" + \"properties_\" + dt_now.strftime('%Y%m%d_%H%M%S') + \".pkl\", \"wb\") as f:\n",
    "    pickle.dump(device.properties(), f)"
   ]
  },
  {
   "cell_type": "code",
   "execution_count": 9,
   "id": "3994559f",
   "metadata": {},
   "outputs": [
    {
     "data": {
      "image/png": "[encoded data removed]",
      "text/plain": [
       "<Figure size 360x360 with 1 Axes>"
      ]
     },
     "execution_count": 9,
     "metadata": {},
     "output_type": "execute_result"
    }
   ],
   "source": [
    "from qiskit.visualization import plot_circuit_layout\n",
    "from qiskit import transpile\n",
    "qc_on_device = transpile(qcs[-1], backend=backend, optimization_level=1, initial_layout=vertex_list)\n",
    "plot_circuit_layout(qc_on_device, backend)"
   ]
  },
  {
   "cell_type": "code",
   "execution_count": null,
   "id": "eae9949d",
   "metadata": {},
   "outputs": [],
   "source": []
  }
 ],
 "metadata": {
  "kernelspec": {
   "display_name": "Python 3 (ipykernel)",
   "language": "python",
   "name": "python3"
  },
  "language_info": {
   "codemirror_mode": {
    "name": "ipython",
    "version": 3
   },
   "file_extension": ".py",
   "mimetype": "text/x-python",
   "name": "python",
   "nbconvert_exporter": "python",
   "pygments_lexer": "ipython3",
   "version": "3.9.7"
  }
 },
 "nbformat": 4,
 "nbformat_minor": 5
}

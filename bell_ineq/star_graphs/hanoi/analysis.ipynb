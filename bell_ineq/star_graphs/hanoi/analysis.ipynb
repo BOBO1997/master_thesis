{
 "cells": [
  {
   "cell_type": "markdown",
   "metadata": {},
   "source": [
    "# Violation of Baccari et al.'s Bell inequality for star graphs from size 2 to 57 on IBM Quantum hanoi"
   ]
  },
  {
   "cell_type": "code",
   "execution_count": 1,
   "metadata": {},
   "outputs": [],
   "source": [
    "import sys\n",
    "import time\n",
    "import numpy as np\n",
    "import pickle"
   ]
  },
  {
   "cell_type": "code",
   "execution_count": 2,
   "metadata": {},
   "outputs": [],
   "source": [
    "max_size = 27\n",
    "max_length = 26"
   ]
  },
  {
   "cell_type": "code",
   "execution_count": 3,
   "metadata": {},
   "outputs": [],
   "source": [
    "with open(\"./pkls/raw_hist_list.pkl\", \"rb\") as f:\n",
    "    raw_hist_list = pickle.load(f)\n",
    "# with open(\"./pkls/ignis_hist_list.pkl\", \"rb\") as f:\n",
    "#     ignis_hist_list = pickle.load(f)\n",
    "# with open(\"./pkls/delta_hist_list.pkl\", \"rb\") as f:\n",
    "#     delta_hist_list = pickle.load(f)\n",
    "with open(\"./pkls/lnp_hist_list.pkl\", \"rb\") as f:\n",
    "    lnp_hist_list = pickle.load(f)\n",
    "# with open(\"./pkls/mooney01_hist_list.pkl\", \"rb\") as f:\n",
    "#     mooney01_hist_list = pickle.load(f)\n",
    "# with open(\"./pkls/nation_hist_list.pkl\", \"rb\") as f:\n",
    "#     nation_hist_list = pickle.load(f)"
   ]
  },
  {
   "cell_type": "code",
   "execution_count": 4,
   "metadata": {},
   "outputs": [
    {
     "name": "stdout",
     "output_type": "stream",
     "text": [
      "max_size: 27\n",
      "F_list: [1, 4, 7, 10, 13, 16, 19, 22, 25]\n"
     ]
    }
   ],
   "source": [
    "sys.path.append(\"../../libs_bell/\")\n",
    "from lib_graph_states import adjacency_list_for_star_graph, list_to_matrix\n",
    "F_list = [3 * i + 1 for i in range(max_size // 3)] # subset of focused vertices of graph size max_size\n",
    "Fs = [F_list[:(n+1) // 3] for n in range(1, max_size + 1)] # subsets of focused vertices of graph size 1 to max_size\n",
    "adj_lists = [adjacency_list_for_star_graph(n) for n in range(1, max_size + 1)] # adjacency list of graph size 1 to max_size\n",
    "graphs = [list_to_matrix(adj_list) for adj_list in adj_lists] # adjacency matrix of graph size 1 to max_size\n",
    "print(\"max_size:\", max_size)\n",
    "print(\"F_list:\", F_list)"
   ]
  },
  {
   "cell_type": "code",
   "execution_count": 5,
   "metadata": {},
   "outputs": [],
   "source": [
    "from lib_star_graphs import correlations_of_star_graphs"
   ]
  },
  {
   "cell_type": "code",
   "execution_count": 6,
   "metadata": {
    "scrolled": true
   },
   "outputs": [
    {
     "name": "stdout",
     "output_type": "stream",
     "text": [
      "graph size: 1\n",
      "skipped\n",
      "\n",
      "graph size: 2\n",
      "first term\n",
      "second term\n",
      "total correlation: 2.6216122019284454 \n",
      "\n",
      "graph size: 3\n",
      "first term\n",
      "second term\n",
      "total correlation: 4.930757784240765 \n",
      "\n",
      "graph size: 4\n",
      "first term\n",
      "second term\n",
      "total correlation: 7.299289287629298 \n",
      "\n",
      "graph size: 5\n",
      "first term\n",
      "second term\n",
      "total correlation: 7.899708571068461 \n",
      "\n",
      "graph size: 6\n",
      "first term\n",
      "second term\n",
      "total correlation: 9.631913024785701 \n",
      "\n",
      "graph size: 7\n",
      "first term\n",
      "second term\n",
      "total correlation: 11.088939693050952 \n",
      "\n",
      "graph size: 8\n",
      "first term\n",
      "second term\n",
      "total correlation: 12.585326797378343 \n",
      "\n",
      "graph size: 9\n",
      "first term\n",
      "second term\n",
      "total correlation: 11.923104723981957 \n",
      "\n",
      "graph size: 10\n",
      "first term\n",
      "second term\n",
      "total correlation: 13.781676893477652 \n",
      "\n",
      "graph size: 11\n",
      "first term\n",
      "second term\n",
      "total correlation: 14.587184764819554 \n",
      "\n",
      "graph size: 12\n",
      "first term\n",
      "second term\n",
      "total correlation: 12.305660541147335 \n",
      "\n",
      "graph size: 13\n",
      "first term\n",
      "second term\n",
      "total correlation: 13.378059790349198 \n",
      "\n",
      "graph size: 14\n",
      "first term\n",
      "second term\n",
      "total correlation: 11.394500973007052 \n",
      "\n",
      "graph size: 15\n",
      "first term\n",
      "second term\n",
      "total correlation: 11.335460318913839 \n",
      "\n",
      "graph size: 16\n",
      "first term\n",
      "second term\n",
      "total correlation: 12.187924499943911 \n",
      "\n",
      "graph size: 17\n",
      "first term\n",
      "second term\n",
      "total correlation: 13.140861373027343 \n",
      "\n",
      "graph size: 18\n",
      "first term\n",
      "second term\n",
      "total correlation: 14.062724217640666 \n",
      "\n",
      "graph size: 19\n",
      "first term\n",
      "second term\n",
      "total correlation: 15.525275157633935 \n",
      "\n",
      "graph size: 20\n",
      "first term\n",
      "second term\n",
      "total correlation: 18.081631899775143 \n",
      "\n",
      "graph size: 21\n",
      "first term\n",
      "second term\n",
      "total correlation: 19.00798321516748 \n",
      "\n",
      "graph size: 22\n",
      "first term\n",
      "second term\n",
      "total correlation: 23.657348408262234 \n",
      "\n",
      "graph size: 23\n",
      "first term\n",
      "second term\n",
      "total correlation: 26.102529181877042 \n",
      "\n",
      "graph size: 24\n",
      "first term\n",
      "second term\n",
      "total correlation: 27.378981218032642 \n",
      "\n",
      "graph size: 25\n",
      "first term\n",
      "second term\n",
      "total correlation: 28.95236285956931 \n",
      "\n",
      "graph size: 26\n",
      "first term\n",
      "second term\n",
      "total correlation: 28.068134116103124 \n",
      "\n",
      "graph size: 27\n",
      "first term\n",
      "second term\n",
      "total correlation: 28.40511469151234 \n",
      "\n"
     ]
    }
   ],
   "source": [
    "corr_list, stddev_list, Es_list, Ds_list = correlations_of_star_graphs(adj_lists, raw_hist_list)"
   ]
  },
  {
   "cell_type": "code",
   "execution_count": 7,
   "metadata": {},
   "outputs": [],
   "source": [
    "# ignis_corr_list, ignis_stddev_list, ignis_Es_list, ignis_Ds_list = correlations_of_star_graphs(adj_lists, ignis_hist_list)"
   ]
  },
  {
   "cell_type": "code",
   "execution_count": 8,
   "metadata": {},
   "outputs": [],
   "source": [
    "# delta_corr_list, delta_stddev_list, delta_Es_list, delta_Ds_list = correlations_of_star_graphs(adj_lists, delta_hist_list)"
   ]
  },
  {
   "cell_type": "code",
   "execution_count": 9,
   "metadata": {},
   "outputs": [
    {
     "name": "stdout",
     "output_type": "stream",
     "text": [
      "graph size: 1\n",
      "skipped\n",
      "\n",
      "graph size: 2\n",
      "first term\n",
      "second term\n",
      "total correlation: 2.8284271247461903 \n",
      "\n",
      "graph size: 3\n",
      "first term\n",
      "second term\n",
      "total correlation: 5.4725370625042755 \n",
      "\n",
      "graph size: 4\n",
      "first term\n",
      "second term\n",
      "total correlation: 8.193957261471867 \n",
      "\n",
      "graph size: 5\n",
      "first term\n",
      "second term\n",
      "total correlation: 10.482624559582277 \n",
      "\n",
      "graph size: 6\n",
      "first term\n",
      "second term\n",
      "total correlation: 13.104829260995846 \n",
      "\n",
      "graph size: 7\n",
      "first term\n",
      "second term\n",
      "total correlation: 15.463931096385275 \n",
      "\n",
      "graph size: 8\n",
      "first term\n",
      "second term\n",
      "total correlation: 18.141715075701715 \n",
      "\n",
      "graph size: 9\n",
      "first term\n",
      "second term\n",
      "total correlation: 18.685250577038293 \n",
      "\n",
      "graph size: 10\n",
      "first term\n",
      "second term\n",
      "total correlation: 21.025446480378406 \n",
      "\n",
      "graph size: 11\n",
      "first term\n",
      "second term\n",
      "total correlation: 21.302883128725753 \n",
      "\n",
      "graph size: 12\n",
      "first term\n",
      "second term\n",
      "total correlation: 15.451983733617519 \n",
      "\n",
      "graph size: 13\n",
      "first term\n",
      "second term\n",
      "total correlation: 16.428760108083114 \n",
      "\n",
      "graph size: 14\n",
      "first term\n",
      "second term\n",
      "total correlation: 12.019587184463838 \n",
      "\n",
      "graph size: 15\n",
      "first term\n",
      "second term\n",
      "total correlation: 12.835240398327642 \n",
      "\n",
      "graph size: 16\n",
      "first term\n",
      "second term\n",
      "total correlation: 14.895410508775852 \n",
      "\n",
      "graph size: 17\n",
      "first term\n",
      "second term\n",
      "total correlation: 16.84790213783957 \n",
      "\n",
      "graph size: 18\n",
      "first term\n",
      "second term\n",
      "total correlation: 18.43571578436299 \n",
      "\n",
      "graph size: 19\n",
      "first term\n",
      "second term\n",
      "total correlation: 20.460301481090955 \n",
      "\n",
      "graph size: 20\n",
      "first term\n",
      "second term\n",
      "total correlation: 23.48180930705916 \n",
      "\n",
      "graph size: 21\n",
      "first term\n",
      "second term\n",
      "total correlation: 25.028221651263056 \n",
      "\n",
      "graph size: 22\n",
      "first term\n",
      "second term\n",
      "total correlation: 30.198864123239883 \n",
      "\n",
      "graph size: 23\n",
      "first term\n",
      "second term\n",
      "total correlation: 32.773095887551456 \n",
      "\n",
      "graph size: 24\n",
      "first term\n",
      "second term\n",
      "total correlation: 34.73005815261118 \n",
      "\n",
      "graph size: 25\n",
      "first term\n",
      "second term\n",
      "total correlation: 36.209561541752564 \n",
      "\n",
      "graph size: 26\n",
      "first term\n",
      "second term\n",
      "total correlation: 35.90347505138122 \n",
      "\n",
      "graph size: 27\n",
      "first term\n",
      "second term\n",
      "total correlation: 36.39431788920031 \n",
      "\n"
     ]
    }
   ],
   "source": [
    "lnp_corr_list, lnp_stddev_list, lnp_Es_list, lnp_Ds_list = correlations_of_star_graphs(adj_lists, lnp_hist_list)"
   ]
  },
  {
   "cell_type": "code",
   "execution_count": 10,
   "metadata": {
    "scrolled": true
   },
   "outputs": [],
   "source": [
    "# mooney01_corr_list, mooney01_stddev_list, mooney01_Es_list, mooney01_Ds_list = correlations_of_star_graphs(adj_lists, mooney01_hist_list)"
   ]
  },
  {
   "cell_type": "code",
   "execution_count": 11,
   "metadata": {
    "scrolled": true
   },
   "outputs": [],
   "source": [
    "# nation_corr_list, nation_stddev_list, nation_Es_list, nation_Ds_list = correlations_of_star_graphs(adj_lists, nation_hist_list)"
   ]
  },
  {
   "cell_type": "markdown",
   "metadata": {},
   "source": [
    "## plot correlations"
   ]
  },
  {
   "cell_type": "code",
   "execution_count": 12,
   "metadata": {},
   "outputs": [],
   "source": [
    "c_bounds = [2 * i for i in range(max_size)]\n",
    "q_bounds = [2 * np.sqrt(2) * i for i in range(max_size)]"
   ]
  },
  {
   "cell_type": "code",
   "execution_count": 13,
   "metadata": {},
   "outputs": [],
   "source": [
    "from lib_plots import plot_correlations_lines, cut_corrs_list"
   ]
  },
  {
   "cell_type": "code",
   "execution_count": 14,
   "metadata": {},
   "outputs": [],
   "source": [
    "corrs_list = [np.array(corr_list), \n",
    "              # np.array(ignis_corr_list),\n",
    "              # np.array(delta_corr_list),\n",
    "              np.array(lnp_corr_list),\n",
    "              # np.array(mooney01_corr_list),\n",
    "              # np.array(nation_corr_list),\n",
    "             ]\n",
    "stddevs_list = [np.array(stddev_list),\n",
    "                # np.array(ignis_stddev_list),\n",
    "                # np.array(delta_stddev_list),\n",
    "                np.array(lnp_stddev_list),\n",
    "                # np.array(mooney01_stddev_list),\n",
    "                # np.array(nation_stddev_list),\n",
    "               ]"
   ]
  },
  {
   "cell_type": "code",
   "execution_count": 15,
   "metadata": {},
   "outputs": [
    {
     "data": {
      "image/png": "[encoded data removed]",
      "text/plain": [
       "<Figure size 432x288 with 1 Axes>"
      ]
     },
     "metadata": {
      "needs_background": "light"
     },
     "output_type": "display_data"
    }
   ],
   "source": [
    "plot_correlations_lines(max_size, \n",
    "                        c_bounds, \n",
    "                        q_bounds, \n",
    "                        corrs_list,\n",
    "                        stddevs_list,\n",
    "                        [\"raw\", \n",
    "                         # \"mitigated (ignis)\", \n",
    "                         # \"mitigated (proposed, delta)\", \n",
    "                         \"mitigated (proposed, least norm)\", \n",
    "                         # \"mitigated (Mooney et al., threshold = 0.1)\",\n",
    "                         # \"mitigated (Nation et al., iterative)\",\n",
    "                        ], \n",
    "                        # [\"*\", \"*\", \"*\", \"*\", \"*\", \"*\"], \n",
    "                        \"Correlation of Star Graphs (ibm_hanoi)\")"
   ]
  },
  {
   "cell_type": "code",
   "execution_count": 16,
   "metadata": {},
   "outputs": [],
   "source": [
    "with open(\"./pkls/corrs_stddevs_list.pkl\", \"wb\") as f:\n",
    "    pickle.dump([corrs_list, stddevs_list], f)"
   ]
  },
  {
   "cell_type": "code",
   "execution_count": 17,
   "metadata": {},
   "outputs": [],
   "source": [
    "each_corr_list = [[0]] + [E_1 + Es_2 for E_1, Es_2 in Es_list[1:]]\n",
    "tp_each_corr_list = []\n",
    "for i in range(len(each_corr_list)):\n",
    "    tp_each_corr_list.append([each_corr_list[j][i] for j in range(i, len(each_corr_list))])\n",
    "# pprint.pprint(tp_each_corr_list)"
   ]
  },
  {
   "cell_type": "code",
   "execution_count": 18,
   "metadata": {},
   "outputs": [],
   "source": [
    "each_stddev_list = [[0]] + [D_1 + Ds_2 for D_1, Ds_2 in Ds_list[1:]]\n",
    "tp_each_stddev_list = []\n",
    "for i in range(len(each_stddev_list)):\n",
    "    tp_each_stddev_list.append([each_stddev_list[j][i] for j in range(i, len(each_stddev_list))])\n",
    "# pprint.pprint(tp_each_corr_list)"
   ]
  },
  {
   "cell_type": "code",
   "execution_count": 19,
   "metadata": {},
   "outputs": [
    {
     "data": {
      "image/png": "[encoded data removed]",
      "text/plain": [
       "<Figure size 432x288 with 1 Axes>"
      ]
     },
     "metadata": {},
     "output_type": "display_data"
    }
   ],
   "source": [
    "import matplotlib.pyplot as plt\n",
    "plt.style.use('ggplot')\n",
    "plt.clf()\n",
    "for i, (each_corr, each_stddev) in enumerate(zip(tp_each_corr_list, tp_each_stddev_list)):\n",
    "    if i == 0:\n",
    "        plt.plot(list(range(2, max_size + 1)), each_corr[1:], color=[min(1, 2*i/max_size), 0, min(1, 2*(1-i/max_size))])\n",
    "        plt.errorbar(list(range(2, max_size + 1)), each_corr[1:], label=str(i), color=[min(1, 2*i/max_size), 0, min(1, 2*(1-i/max_size))], fmt=\"x\", yerr=each_stddev[1:], capsize=3)\n",
    "    else:\n",
    "        plt.plot(list(range(i+1, max_size + 1)), each_corr, color=[min(1, 2*i/max_size), 0, min(1, 2*(1-i/max_size))])\n",
    "        plt.errorbar(list(range(i+1, max_size + 1)), each_corr, label=str(i), color=[min(1, 2*i/max_size), 0, min(1, 2*(1-i/max_size))], fmt=\"v\", yerr=each_stddev, capsize=3)\n",
    "#  plt.plot(list(range(1, max_size + 1)), damped_vibration, label=\"damped vibration\", color=[0, 0, 1])\n",
    "plt.legend(bbox_to_anchor=(1.05, 1), loc='upper left', borderaxespad=0)\n",
    "plt.xlabel(\"graph size\")\n",
    "plt.ylabel(\"correlation\")\n",
    "plt.xticks(list(range(max_size + 2)))\n",
    "plt.ylim([-1,1])\n",
    "plt.title(\"correlation of each term (ibm_hanoi)\")\n",
    "plt.show()"
   ]
  },
  {
   "cell_type": "code",
   "execution_count": null,
   "metadata": {},
   "outputs": [],
   "source": []
  }
 ],
 "metadata": {
  "kernelspec": {
   "display_name": "Python 3 (ipykernel)",
   "language": "python",
   "name": "python3"
  },
  "language_info": {
   "codemirror_mode": {
    "name": "ipython",
    "version": 3
   },
   "file_extension": ".py",
   "mimetype": "text/x-python",
   "name": "python",
   "nbconvert_exporter": "python",
   "pygments_lexer": "ipython3",
   "version": "3.9.7"
  }
 },
 "nbformat": 4,
 "nbformat_minor": 4
}

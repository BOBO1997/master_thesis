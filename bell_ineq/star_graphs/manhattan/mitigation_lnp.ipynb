{
 "cells": [
  {
   "cell_type": "code",
   "execution_count": 1,
   "metadata": {},
   "outputs": [],
   "source": [
    "import sys\n",
    "import time\n",
    "import numpy as np\n",
    "import pickle\n",
    "import importlib"
   ]
  },
  {
   "cell_type": "code",
   "execution_count": 2,
   "metadata": {},
   "outputs": [],
   "source": [
    "from qiskit import Aer, IBMQ\n",
    "from qiskit.ignis.mitigation.measurement import TensoredMeasFitter"
   ]
  },
  {
   "cell_type": "code",
   "execution_count": 3,
   "metadata": {},
   "outputs": [],
   "source": [
    "max_size = 39\n",
    "max_length = 38"
   ]
  },
  {
   "cell_type": "code",
   "execution_count": 4,
   "metadata": {},
   "outputs": [],
   "source": [
    "with open(\"pkls/raw_hist_list.pkl\", \"rb\") as f:\n",
    "    raw_hist_list = pickle.load(f)\n",
    "with open(\"pkls/results_meas_cal.pkl\", \"rb\") as f:\n",
    "    results_meas_cal = pickle.load(f)"
   ]
  },
  {
   "cell_type": "code",
   "execution_count": 5,
   "metadata": {},
   "outputs": [],
   "source": [
    "import libs_qrem\n",
    "importlib.reload(libs_qrem)\n",
    "from libs_qrem import LeastNormFilter"
   ]
  },
  {
   "cell_type": "code",
   "execution_count": 6,
   "metadata": {},
   "outputs": [
    {
     "name": "stdout",
     "output_type": "stream",
     "text": [
      "size 10 finished\n",
      "size 20 finished\n",
      "size 30 finished\n",
      "length of xz_lnp_mitigator_list:  38\n"
     ]
    }
   ],
   "source": [
    "xz_lnp_mitigator_list = []\n",
    "for n in range(2, max_size + 1): # [2, ..., 57]\n",
    "    mit_pattern = [[i] for i in range(n)]\n",
    "    meas_fitter = TensoredMeasFitter(results_meas_cal[n - 2], mit_pattern=mit_pattern)\n",
    "    xz_lnp_mitigator_list.append(LeastNormFilter(n, meas_fitter.cal_matrices))\n",
    "    if n % 10 == 0:\n",
    "        print(\"size\", n, \"finished\")\n",
    "print(\"length of xz_lnp_mitigator_list: \", len(xz_lnp_mitigator_list))"
   ]
  },
  {
   "cell_type": "code",
   "execution_count": 7,
   "metadata": {},
   "outputs": [
    {
     "name": "stdout",
     "output_type": "stream",
     "text": [
      "size 10 finished\n",
      "size 20 finished\n",
      "size 30 finished\n",
      "length of zx_lnp_mitigator_list:  38\n"
     ]
    }
   ],
   "source": [
    "zx_lnp_mitigator_list = []\n",
    "for n in range(2, max_size + 1): # [2, ..., 57]\n",
    "    mit_pattern = [[i] for i in range(n)]\n",
    "    meas_fitter = TensoredMeasFitter(results_meas_cal[n - 2], mit_pattern=mit_pattern)\n",
    "    zx_lnp_mitigator_list.append(LeastNormFilter(n, meas_fitter.cal_matrices))\n",
    "    if n % 10 == 0:\n",
    "        print(\"size\", n, \"finished\")\n",
    "print(\"length of zx_lnp_mitigator_list: \", len(zx_lnp_mitigator_list))"
   ]
  },
  {
   "cell_type": "code",
   "execution_count": 8,
   "metadata": {},
   "outputs": [
    {
     "name": "stdout",
     "output_type": "stream",
     "text": [
      "2 qubits\n",
      "xz 6.409899999937352e-05 s\n",
      "zx 4.343700000042361e-05 s\n",
      "\n",
      "3 qubits\n",
      "xz 3.869499999975545e-05 s\n",
      "zx 3.141800000072692e-05 s\n",
      "\n",
      "4 qubits\n",
      "xz 6.014299999979045e-05 s\n",
      "zx 5.2827000000199575e-05 s\n",
      "\n",
      "5 qubits\n",
      "xz 0.00011244600000015481 s\n",
      "zx 9.717799999986454e-05 s\n",
      "\n",
      "6 qubits\n",
      "xz 0.00031799500000051495 s\n",
      "zx 0.0003288640000000953 s\n",
      "\n",
      "7 qubits\n",
      "xz 0.000644503000000185 s\n",
      "zx 0.0003581999999999752 s\n",
      "\n",
      "8 qubits\n",
      "xz 0.001852130000000507 s\n",
      "zx 0.0006536050000001126 s\n",
      "\n",
      "9 qubits\n",
      "xz 0.00655813599999977 s\n",
      "zx 0.0013191770000000602 s\n",
      "\n",
      "10 qubits\n",
      "xz 0.020736059999999945 s\n",
      "zx 0.001353383000000541 s\n",
      "\n",
      "11 qubits\n",
      "xz 0.07354350600000004 s\n",
      "zx 0.0020975319999996245 s\n",
      "\n",
      "12 qubits\n",
      "xz 0.24012314100000065 s\n",
      "zx 0.0037136509999999845 s\n",
      "\n",
      "13 qubits\n",
      "xz 0.550543878 s\n",
      "zx 0.0043266529999996806 s\n",
      "\n",
      "14 qubits\n",
      "xz 0.8873607479999999 s\n",
      "zx 0.0066821970000008335 s\n",
      "\n",
      "15 qubits\n",
      "xz 1.1796731869999997 s\n",
      "zx 0.009131972999999682 s\n",
      "\n",
      "16 qubits\n",
      "xz 1.3816180970000005 s\n",
      "zx 0.012772680000001202 s\n",
      "\n",
      "17 qubits\n",
      "xz 1.5909579869999995 s\n",
      "zx 0.01590682199999982 s\n",
      "\n",
      "18 qubits\n",
      "xz 1.6464827510000006 s\n",
      "zx 0.021839728999999863 s\n",
      "\n",
      "19 qubits\n",
      "xz 1.8040377929999991 s\n",
      "zx 0.03022307500000032 s\n",
      "\n",
      "20 qubits\n",
      "xz 1.954893331000001 s\n",
      "zx 0.04043838000000122 s\n",
      "\n",
      "21 qubits\n",
      "xz 1.9606487040000005 s\n",
      "zx 0.05333539100000095 s\n",
      "\n",
      "22 qubits\n",
      "xz 2.1767784760000026 s\n",
      "zx 0.062141309999997674 s\n",
      "\n",
      "23 qubits\n",
      "xz 2.1956754650000008 s\n",
      "zx 0.08072586999999842 s\n",
      "\n",
      "24 qubits\n",
      "xz 2.4102858099999978 s\n",
      "zx 0.1144033130000004 s\n",
      "\n",
      "25 qubits\n",
      "xz 3.841345067999999 s\n",
      "zx 0.15602956799999745 s\n",
      "\n",
      "26 qubits\n",
      "xz 3.1411281800000026 s\n",
      "zx 0.1514260479999976 s\n",
      "\n",
      "27 qubits\n",
      "xz 3.009203793999994 s\n",
      "zx 0.21053136100000103 s\n",
      "\n",
      "28 qubits\n",
      "xz 2.746252903999995 s\n",
      "zx 0.23399519600000218 s\n",
      "\n",
      "29 qubits\n",
      "xz 3.069548862000005 s\n",
      "zx 0.26826007399999696 s\n",
      "\n",
      "30 qubits\n",
      "xz 3.187469383 s\n",
      "zx 0.28230545999999634 s\n",
      "\n",
      "31 qubits\n",
      "xz 4.448032241 s\n",
      "zx 0.3864076549999993 s\n",
      "\n",
      "32 qubits\n",
      "xz 3.6258315309999958 s\n",
      "zx 0.3963990060000029 s\n",
      "\n",
      "33 qubits\n",
      "xz 3.063004187000004 s\n",
      "zx 0.407121293000003 s\n",
      "\n",
      "34 qubits\n",
      "xz 3.2944176310000017 s\n",
      "zx 0.5657745159999976 s\n",
      "\n",
      "35 qubits\n",
      "xz 3.6308346230000055 s\n",
      "zx 0.5901029409999978 s\n",
      "\n",
      "36 qubits\n",
      "xz 3.345458143000002 s\n",
      "zx 0.6563236869999969 s\n",
      "\n",
      "37 qubits\n",
      "xz 4.023996666000002 s\n",
      "zx 0.7671061320000092 s\n",
      "\n",
      "38 qubits\n",
      "xz 3.6272938789999927 s\n",
      "zx 0.8558704409999933 s\n",
      "\n",
      "39 qubits\n",
      "xz 4.246217462999994 s\n",
      "zx 1.0101170279999963 s\n",
      "\n"
     ]
    }
   ],
   "source": [
    "lnp_hist_list = []\n",
    "xz_lnp_total_times = []\n",
    "zx_lnp_total_times = []\n",
    "for i in range(max_length):\n",
    "    print(i + 2, \"qubits\")\n",
    "    \n",
    "    t1 = time.perf_counter()\n",
    "    lnp_hist_list.append( xz_lnp_mitigator_list[i].apply(raw_hist_list[2 * i]) )\n",
    "    t2 = time.perf_counter()\n",
    "    xz_lnp_total_times.append(t2 - t1)\n",
    "    print(\"xz\", t2 - t1, \"s\")\n",
    "    \n",
    "    t3 = time.perf_counter()\n",
    "    lnp_hist_list.append( zx_lnp_mitigator_list[i].apply(raw_hist_list[2 * i + 1]) )\n",
    "    t4 = time.perf_counter()\n",
    "    zx_lnp_total_times.append(t4 - t3)\n",
    "    print(\"zx\", t4 - t3, \"s\")\n",
    "    \n",
    "    print()"
   ]
  },
  {
   "cell_type": "code",
   "execution_count": 9,
   "metadata": {},
   "outputs": [],
   "source": [
    "with open(\"./pkls/lnp_hist_list.pkl\", \"wb\") as f:\n",
    "    pickle.dump(lnp_hist_list, f)"
   ]
  },
  {
   "cell_type": "code",
   "execution_count": 10,
   "metadata": {},
   "outputs": [],
   "source": [
    "with open(\"./pkls/lnp_total_times.pkl\", \"wb\") as f:\n",
    "    pickle.dump({\"xz\": xz_lnp_total_times, \"zx\": zx_lnp_total_times}, f)"
   ]
  },
  {
   "cell_type": "code",
   "execution_count": 11,
   "metadata": {},
   "outputs": [],
   "source": [
    "xz_lnp_times = []\n",
    "zx_lnp_times = []\n",
    "for i in range(max_length):\n",
    "    xz_lnp_times.append( xz_lnp_mitigator_list[i].times() )\n",
    "    zx_lnp_times.append( zx_lnp_mitigator_list[i].times() )"
   ]
  },
  {
   "cell_type": "code",
   "execution_count": 12,
   "metadata": {},
   "outputs": [],
   "source": [
    "with open(\"./pkls/lnp_times.pkl\", \"wb\") as f:\n",
    "    pickle.dump({\"xz\": xz_lnp_times, \"zx\": zx_lnp_times}, f)"
   ]
  },
  {
   "cell_type": "code",
   "execution_count": 14,
   "metadata": {
    "scrolled": true
   },
   "outputs": [
    {
     "name": "stdout",
     "output_type": "stream",
     "text": [
      "0 finished\n",
      "1 finished\n",
      "2 finished\n",
      "3 finished\n",
      "4 finished\n",
      "5 finished\n",
      "6 finished\n",
      "7 finished\n",
      "8 finished\n",
      "9 finished\n",
      "10 finished\n",
      "11 finished\n",
      "12 finished\n",
      "13 finished\n",
      "14 finished\n",
      "15 finished\n",
      "16 finished\n",
      "17 finished\n",
      "18 finished\n",
      "19 finished\n",
      "20 finished\n",
      "21 finished\n",
      "22 finished\n",
      "23 finished\n",
      "24 finished\n",
      "25 finished\n",
      "26 finished\n",
      "27 finished\n",
      "28 finished\n",
      "29 finished\n",
      "30 finished\n",
      "31 finished\n",
      "32 finished\n",
      "33 finished\n",
      "34 finished\n",
      "35 finished\n",
      "36 finished\n",
      "37 finished\n"
     ]
    }
   ],
   "source": [
    "xz_lnp_mitigators = []\n",
    "for i in range(max_length):\n",
    "    xz_lnp_mitigators.append({\"indices_to_keys_vector\":xz_lnp_mitigator_list[i].indices_to_keys_vector(),\n",
    "                              # \"mitigated_hist\":xz_lnp_mitigator_list[i].mitigated_hist(),\n",
    "                              \"exact_one_norm_of_reduced_inv_A\":xz_lnp_mitigator_list[i].exact_one_norm_of_reduced_inv_A(),\n",
    "                              # \"reduced_inv_A\":xz_lnp_mitigator_list[i].reduced_inv_A(),\n",
    "                              \"sum_of_x\":xz_lnp_mitigator_list[i].sum_of_x(),\n",
    "                              \"sum_of_x_hat\":xz_lnp_mitigator_list[i].sum_of_x_hat(),\n",
    "                              \"sum_of_x_tilde\":xz_lnp_mitigator_list[i].sum_of_x_tilde(),\n",
    "                              # \"times\":xz_lnp_mitigator_list[i].times(),\n",
    "                              \"x_s\":xz_lnp_mitigator_list[i].x_s(),\n",
    "                              \"x_hat\":xz_lnp_mitigator_list[i].x_hat(),\n",
    "                              \"x_tilde\":xz_lnp_mitigator_list[i].x_tilde(),\n",
    "                              })\n",
    "    print(i, \"finished\")"
   ]
  },
  {
   "cell_type": "code",
   "execution_count": 15,
   "metadata": {
    "scrolled": true
   },
   "outputs": [
    {
     "name": "stdout",
     "output_type": "stream",
     "text": [
      "0 finished\n",
      "1 finished\n",
      "2 finished\n",
      "3 finished\n",
      "4 finished\n",
      "5 finished\n",
      "6 finished\n",
      "7 finished\n",
      "8 finished\n",
      "9 finished\n",
      "10 finished\n",
      "11 finished\n",
      "12 finished\n",
      "13 finished\n",
      "14 finished\n",
      "15 finished\n",
      "16 finished\n",
      "17 finished\n",
      "18 finished\n",
      "19 finished\n",
      "20 finished\n",
      "21 finished\n",
      "22 finished\n",
      "23 finished\n",
      "24 finished\n",
      "25 finished\n",
      "26 finished\n",
      "27 finished\n",
      "28 finished\n",
      "29 finished\n",
      "30 finished\n",
      "31 finished\n",
      "32 finished\n",
      "33 finished\n",
      "34 finished\n",
      "35 finished\n",
      "36 finished\n",
      "37 finished\n"
     ]
    }
   ],
   "source": [
    "zx_lnp_mitigators = []\n",
    "for i in range(max_length):\n",
    "    zx_lnp_mitigators.append({\"indices_to_keys_vector\":zx_lnp_mitigator_list[i].indices_to_keys_vector(),\n",
    "                              # \"mitigated_hist\":zx_lnp_mitigator_list[i].mitigated_hist(),\n",
    "                              \"exact_one_norm_of_reduced_inv_A\":zx_lnp_mitigator_list[i].exact_one_norm_of_reduced_inv_A(),\n",
    "                              # \"reduced_inv_A\":zx_lnp_mitigator_list[i].reduced_inv_A(),\n",
    "                              \"sum_of_x\":zx_lnp_mitigator_list[i].sum_of_x(),\n",
    "                              \"sum_of_x_hat\":zx_lnp_mitigator_list[i].sum_of_x_hat(),\n",
    "                              \"sum_of_x_tilde\":zx_lnp_mitigator_list[i].sum_of_x_tilde(),\n",
    "                              # \"times\":zx_lnp_mitigator_list[i].times(),\n",
    "                              \"x_s\":zx_lnp_mitigator_list[i].x_s(),\n",
    "                              \"x_hat\":zx_lnp_mitigator_list[i].x_hat(),\n",
    "                              \"x_tilde\":zx_lnp_mitigator_list[i].x_tilde(),\n",
    "                              })\n",
    "    print(i, \"finished\")"
   ]
  },
  {
   "cell_type": "code",
   "execution_count": 16,
   "metadata": {},
   "outputs": [],
   "source": [
    "with open(\"./pkls/lnp_mitigator_list.pkl\", \"wb\") as f:\n",
    "    pickle.dump({\"xz\": xz_lnp_mitigators, \"zx\": zx_lnp_mitigators}, f)"
   ]
  }
 ],
 "metadata": {
  "kernelspec": {
   "display_name": "Python 3 (ipykernel)",
   "language": "python",
   "name": "python3"
  },
  "language_info": {
   "codemirror_mode": {
    "name": "ipython",
    "version": 3
   },
   "file_extension": ".py",
   "mimetype": "text/x-python",
   "name": "python",
   "nbconvert_exporter": "python",
   "pygments_lexer": "ipython3",
   "version": "3.9.7"
  }
 },
 "nbformat": 4,
 "nbformat_minor": 4
}

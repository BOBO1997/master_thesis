{
 "cells": [
  {
   "cell_type": "code",
   "execution_count": 1,
   "metadata": {},
   "outputs": [],
   "source": [
    "import sys\n",
    "import time\n",
    "import numpy as np\n",
    "import pickle"
   ]
  },
  {
   "cell_type": "code",
   "execution_count": 2,
   "metadata": {},
   "outputs": [],
   "source": [
    "max_size = 21\n",
    "max_length = 21"
   ]
  },
  {
   "cell_type": "code",
   "execution_count": 3,
   "metadata": {},
   "outputs": [],
   "source": [
    "with open(\"./pkls/raw_hist_list.pkl\", \"rb\") as f:\n",
    "    raw_hist_list = pickle.load(f)\n",
    "# with open(\"./pkls/ignis_hist_list.pkl\", \"rb\") as f:\n",
    "#     ignis_hist_list = pickle.load(f)\n",
    "# with open(\"./pkls/delta_hist_list.pkl\", \"rb\") as f:\n",
    "#     delta_hist_list = pickle.load(f)\n",
    "with open(\"./pkls/lnp_hist_list.pkl\", \"rb\") as f:\n",
    "    lnp_hist_list = pickle.load(f)\n",
    "# with open(\"./pkls/mooney01_hist_list.pkl\", \"rb\") as f:\n",
    "#     mooney01_hist_list = pickle.load(f)\n",
    "# with open(\"./pkls/nation_hist_list.pkl\", \"rb\") as f:\n",
    "#     nation_hist_list = pickle.load(f)"
   ]
  },
  {
   "cell_type": "code",
   "execution_count": 4,
   "metadata": {},
   "outputs": [
    {
     "name": "stdout",
     "output_type": "stream",
     "text": [
      "max_size: 21\n",
      "F_list: [1, 4, 7, 10, 13, 16, 19]\n"
     ]
    }
   ],
   "source": [
    "sys.path.append(\"../../libs_bell/\")\n",
    "from lib_graph_states import adjacency_list_for_path_graph, list_to_matrix\n",
    "F_list = [3 * i + 1 for i in range(max_size // 3)] # subset of focused vertices of graph size max_size\n",
    "Fs = [F_list[:(n+1) // 3] for n in range(1, max_size + 1)] # subsets of focused vertices of graph size 1 to max_size\n",
    "adj_lists = [adjacency_list_for_path_graph(n) for n in range(1, max_size + 1)] # adjacency list of graph size 1 to max_size\n",
    "graphs = [list_to_matrix(adj_list) for adj_list in adj_lists] # adjacency matrix of graph size 1 to max_size\n",
    "print(\"max_size:\", max_size)\n",
    "print(\"F_list:\", F_list)"
   ]
  },
  {
   "cell_type": "code",
   "execution_count": 5,
   "metadata": {},
   "outputs": [],
   "source": [
    "from lib_path_graphs import correlations_of_path_graphs"
   ]
  },
  {
   "cell_type": "code",
   "execution_count": 6,
   "metadata": {
    "scrolled": true
   },
   "outputs": [
    {
     "name": "stdout",
     "output_type": "stream",
     "text": [
      "graph size: 1\n",
      "skipped\n",
      "\n",
      "graph size: 2\n",
      "total correlation: 2.0011674334752096 \n",
      "\n",
      "graph size: 3\n",
      "total correlation: 3.48063645563554 \n",
      "\n",
      "graph size: 4\n",
      "total correlation: 4.0192617045011385 \n",
      "\n",
      "graph size: 5\n",
      "total correlation: 5.4023924830204635 \n",
      "\n",
      "graph size: 6\n",
      "total correlation: 7.243701303366097 \n",
      "\n",
      "graph size: 7\n",
      "total correlation: 7.95136559270022 \n",
      "\n",
      "graph size: 8\n",
      "total correlation: 9.390916670650833 \n",
      "\n",
      "graph size: 9\n",
      "total correlation: 11.442147816661224 \n",
      "\n",
      "graph size: 10\n",
      "total correlation: 12.036141446534014 \n",
      "\n",
      "graph size: 11\n",
      "total correlation: 13.708135026098388 \n",
      "\n",
      "graph size: 12\n",
      "total correlation: 15.273230260043027 \n",
      "\n",
      "graph size: 13\n",
      "total correlation: 15.538867802252648 \n",
      "\n",
      "graph size: 14\n",
      "total correlation: 17.83062280313324 \n",
      "\n",
      "graph size: 15\n",
      "total correlation: 19.543837572785414 \n",
      "\n",
      "graph size: 16\n",
      "total correlation: 18.8872323023187 \n",
      "\n",
      "graph size: 17\n",
      "total correlation: 20.690814490315546 \n",
      "\n",
      "graph size: 18\n",
      "total correlation: 22.55491093153926 \n",
      "\n",
      "graph size: 19\n",
      "total correlation: 23.15141239294004 \n",
      "\n",
      "graph size: 20\n",
      "total correlation: 24.659658459914844 \n",
      "\n",
      "graph size: 21\n",
      "total correlation: 26.805492759267576 \n",
      "\n"
     ]
    }
   ],
   "source": [
    "corr_list, stddev_list, Es_list, Ds_list = correlations_of_path_graphs(adj_lists, Fs, raw_hist_list)"
   ]
  },
  {
   "cell_type": "code",
   "execution_count": 8,
   "metadata": {},
   "outputs": [],
   "source": [
    "# ignis_corr_list, ignis_stddev_list, ignis_Es_list, ignis_Ds_list = correlations_of_path_graphs(adj_lists, Fs, ignis_hist_list)"
   ]
  },
  {
   "cell_type": "code",
   "execution_count": 9,
   "metadata": {},
   "outputs": [],
   "source": [
    "# delta_corr_list, delta_stddev_list, delta_Es_list, delta_Ds_list = correlations_of_path_graphs(adj_lists, Fs, delta_hist_list)"
   ]
  },
  {
   "cell_type": "code",
   "execution_count": 7,
   "metadata": {
    "scrolled": true
   },
   "outputs": [
    {
     "name": "stdout",
     "output_type": "stream",
     "text": [
      "graph size: 1\n",
      "skipped\n",
      "\n",
      "graph size: 2\n",
      "total correlation: 2.622017304246024 \n",
      "\n",
      "graph size: 3\n",
      "total correlation: 5.106582972951706 \n",
      "\n",
      "graph size: 4\n",
      "total correlation: 5.45740649751552 \n",
      "\n",
      "graph size: 5\n",
      "total correlation: 6.734456113953165 \n",
      "\n",
      "graph size: 6\n",
      "total correlation: 9.323014771887193 \n",
      "\n",
      "graph size: 7\n",
      "total correlation: 9.953416991425085 \n",
      "\n",
      "graph size: 8\n",
      "total correlation: 11.427007479605443 \n",
      "\n",
      "graph size: 9\n",
      "total correlation: 14.018048216866683 \n",
      "\n",
      "graph size: 10\n",
      "total correlation: 14.421851511655046 \n",
      "\n",
      "graph size: 11\n",
      "total correlation: 16.131806809762068 \n",
      "\n",
      "graph size: 12\n",
      "total correlation: 18.181223391954777 \n",
      "\n",
      "graph size: 13\n",
      "total correlation: 18.471354114132165 \n",
      "\n",
      "graph size: 14\n",
      "total correlation: 20.706721159146635 \n",
      "\n",
      "graph size: 15\n",
      "total correlation: 22.807537543748545 \n",
      "\n",
      "graph size: 16\n",
      "total correlation: 21.72458469444363 \n",
      "\n",
      "graph size: 17\n",
      "total correlation: 23.567012399822808 \n",
      "\n",
      "graph size: 18\n",
      "total correlation: 25.35869024184485 \n",
      "\n",
      "graph size: 19\n",
      "total correlation: 25.7231768894737 \n",
      "\n",
      "graph size: 20\n",
      "total correlation: 26.885534428993218 \n",
      "\n",
      "graph size: 21\n",
      "total correlation: 28.7334708217734 \n",
      "\n"
     ]
    }
   ],
   "source": [
    "lnp_corr_list, lnp_stddev_list, lnp_Es_list, lnp_Ds_list = correlations_of_path_graphs(adj_lists, Fs, lnp_hist_list)"
   ]
  },
  {
   "cell_type": "code",
   "execution_count": 10,
   "metadata": {
    "scrolled": true
   },
   "outputs": [
    {
     "name": "stdout",
     "output_type": "stream",
     "text": [
      "graph size: 1\n",
      "skipped\n",
      "\n",
      "graph size: 2\n",
      "total correlation: 2.8284271247461903 \n",
      "\n",
      "graph size: 3\n",
      "total correlation: 5.656854249492381 \n",
      "\n",
      "graph size: 4\n",
      "total correlation: 6.656854249492381 \n",
      "\n",
      "graph size: 5\n",
      "total correlation: 8.485281374238571 \n",
      "\n",
      "graph size: 6\n",
      "total correlation: 11.313708498984761 \n",
      "\n",
      "graph size: 7\n",
      "total correlation: nan \n",
      "\n",
      "graph size: 8\n",
      "total correlation: nan \n",
      "\n",
      "graph size: 9\n",
      "total correlation: nan \n",
      "\n",
      "graph size: 10\n",
      "total correlation: nan \n",
      "\n",
      "graph size: 11\n",
      "total correlation: nan \n",
      "\n",
      "graph size: 12\n",
      "total correlation: nan \n",
      "\n",
      "graph size: 13\n",
      "total correlation: nan \n",
      "\n",
      "graph size: 14\n",
      "total correlation: nan \n",
      "\n",
      "graph size: 15\n",
      "total correlation: nan \n",
      "\n",
      "graph size: 16\n",
      "total correlation: nan \n",
      "\n",
      "graph size: 17\n",
      "total correlation: nan \n",
      "\n",
      "graph size: 18\n",
      "total correlation: nan \n",
      "\n",
      "graph size: 19\n",
      "total correlation: nan \n",
      "\n",
      "graph size: 20\n",
      "total correlation: nan \n",
      "\n",
      "graph size: 21\n",
      "total correlation: nan \n",
      "\n",
      "graph size: 22\n",
      "total correlation: nan \n",
      "\n",
      "graph size: 23\n",
      "total correlation: nan \n",
      "\n",
      "graph size: 24\n",
      "total correlation: nan \n",
      "\n",
      "graph size: 25\n",
      "total correlation: nan \n",
      "\n",
      "graph size: 26\n",
      "total correlation: nan \n",
      "\n",
      "graph size: 27\n",
      "total correlation: nan \n",
      "\n",
      "graph size: 28\n",
      "total correlation: nan \n",
      "\n",
      "graph size: 29\n",
      "total correlation: nan \n",
      "\n"
     ]
    },
    {
     "name": "stderr",
     "output_type": "stream",
     "text": [
      "/Users/yangbo/opt/anaconda3/envs/qiskitenv/lib/python3.9/site-packages/qiskit/ignis/mitigation/expval/utils.py:87: RuntimeWarning: invalid value encountered in true_divide\n",
      "  probs = probs / shots\n"
     ]
    }
   ],
   "source": [
    "# mooney01_corr_list, mooney01_stddev_list, mooney01_Es_list, mooney01_Ds_list = correlations_of_path_graphs(adj_lists, Fs, mooney01_hist_list)"
   ]
  },
  {
   "cell_type": "code",
   "execution_count": 11,
   "metadata": {
    "scrolled": true
   },
   "outputs": [
    {
     "name": "stderr",
     "output_type": "stream",
     "text": [
      "Encountered a negative variance in expectation value calculation.(-0.054524). Setting standard deviation of result to 0.\n",
      "Encountered a negative variance in expectation value calculation.(-0.005326). Setting standard deviation of result to 0.\n"
     ]
    },
    {
     "name": "stdout",
     "output_type": "stream",
     "text": [
      "graph size: 1\n",
      "skipped\n",
      "\n",
      "graph size: 2\n",
      "total correlation: 2.7446650897159297 \n",
      "\n",
      "graph size: 3\n",
      "total correlation: 5.193132717901264 \n",
      "\n",
      "graph size: 4\n",
      "total correlation: 5.963439656506868 \n",
      "\n",
      "graph size: 5\n",
      "total correlation: 7.808094874503153 \n",
      "\n",
      "graph size: 6\n",
      "total correlation: 10.826330889874852 \n",
      "\n",
      "graph size: 7\n",
      "total correlation: 11.685408940622969 \n",
      "\n",
      "graph size: 8\n",
      "total correlation: 13.12241414575702 \n",
      "\n",
      "graph size: 9\n",
      "total correlation: 15.895312285445849 \n",
      "\n",
      "graph size: 10\n",
      "total correlation: 16.983112538496027 \n",
      "\n",
      "graph size: 11\n",
      "total correlation: 18.16510639192634 \n",
      "\n",
      "graph size: 12\n",
      "total correlation: 20.408942296497358 \n",
      "\n",
      "graph size: 13\n",
      "total correlation: 21.39156917870947 \n",
      "\n",
      "graph size: 14\n",
      "total correlation: 22.73273580406025 \n",
      "\n",
      "graph size: 15\n",
      "total correlation: 25.025933475066868 \n",
      "\n",
      "graph size: 16\n",
      "total correlation: 25.667889490084185 \n",
      "\n",
      "graph size: 17\n",
      "total correlation: 26.93821113425244 \n",
      "\n",
      "graph size: 18\n",
      "total correlation: 28.83460645252922 \n",
      "\n",
      "graph size: 19\n",
      "total correlation: 29.452554243861087 \n",
      "\n",
      "graph size: 20\n",
      "total correlation: 30.692869174435778 \n",
      "\n",
      "graph size: 21\n",
      "total correlation: 32.6624339597125 \n",
      "\n",
      "graph size: 22\n",
      "total correlation: 33.30772343005049 \n",
      "\n",
      "graph size: 23\n",
      "total correlation: 34.958316271579314 \n",
      "\n",
      "graph size: 24\n",
      "total correlation: 37.371131539216734 \n",
      "\n",
      "graph size: 25\n",
      "total correlation: 37.98655365521642 \n",
      "\n",
      "graph size: 26\n",
      "total correlation: 39.565597044745104 \n",
      "\n",
      "graph size: 27\n",
      "total correlation: 41.515522717454274 \n",
      "\n",
      "graph size: 28\n",
      "total correlation: 42.32126927274537 \n",
      "\n",
      "graph size: 29\n",
      "total correlation: 44.10106008264372 \n",
      "\n"
     ]
    }
   ],
   "source": [
    "# nation_corr_list, nation_stddev_list, nation_Es_list, nation_Ds_list = correlations_of_path_graphs(adj_lists, Fs, nation_hist_list)"
   ]
  },
  {
   "cell_type": "markdown",
   "metadata": {},
   "source": [
    "## plot correlations"
   ]
  },
  {
   "cell_type": "code",
   "execution_count": 8,
   "metadata": {},
   "outputs": [],
   "source": [
    "c_bounds = [0] + [n + (n // 3) for n in range(2, max_size + 1)]\n",
    "q_bounds = [0]\n",
    "for n in range(2, max_size + 1):\n",
    "    q_bounds.append( 2 * (np.sqrt(2) * 2 - 1) * (n // 3) + n - ((n + 1) // 3))\n",
    "    if (n + 1) % 3 == 0:\n",
    "        q_bounds[-1] += (np.sqrt(2) * 2 - 1)"
   ]
  },
  {
   "cell_type": "code",
   "execution_count": 9,
   "metadata": {},
   "outputs": [],
   "source": [
    "from lib_plots import plot_correlations_lines, cut_corrs_list"
   ]
  },
  {
   "cell_type": "code",
   "execution_count": 10,
   "metadata": {},
   "outputs": [],
   "source": [
    "corrs_list = [np.array(corr_list), \n",
    "              # np.array(ignis_corr_list),\n",
    "              # np.array(delta_corr_list),\n",
    "              np.array(lnp_corr_list),\n",
    "              # np.array(mooney01_corr_list),\n",
    "              # np.array(nation_corr_list),\n",
    "             ]\n",
    "stddevs_list = [np.array(stddev_list),\n",
    "                # np.array(ignis_stddev_list),\n",
    "                # np.array(delta_stddev_list),\n",
    "                np.array(lnp_stddev_list),\n",
    "                # np.array(mooney01_stddev_list),\n",
    "                # np.array(nation_stddev_list),\n",
    "               ]"
   ]
  },
  {
   "cell_type": "code",
   "execution_count": 11,
   "metadata": {},
   "outputs": [
    {
     "data": {
      "image/png": "[encoded data removed]",
      "text/plain": [
       "<Figure size 432x288 with 1 Axes>"
      ]
     },
     "metadata": {
      "needs_background": "light"
     },
     "output_type": "display_data"
    }
   ],
   "source": [
    "plot_correlations_lines(max_size, \n",
    "                        c_bounds, \n",
    "                        q_bounds, \n",
    "                        corrs_list,\n",
    "                        stddevs_list,\n",
    "                        [\"raw\", \n",
    "                         # \"mitigated (ignis)\", \n",
    "                         # \"mitigated (proposed, delta)\", \n",
    "                         \"mitigated (proposed, least norm)\", \n",
    "                         # \"mitigated (Mooney et al., threshold = 0.1)\",\n",
    "                         # \"mitigated (Nation et al., iterative)\",\n",
    "                        ], \n",
    "                        # [\"*\", \"*\", \"*\", \"*\", \"*\", \"*\"], \n",
    "                        \"Correlation of Path Graphs (ibm_cairo)\")"
   ]
  },
  {
   "cell_type": "code",
   "execution_count": 18,
   "metadata": {},
   "outputs": [
    {
     "data": {
      "image/png": "[encoded data removed]",
      "text/plain": [
       "<Figure size 432x288 with 1 Axes>"
      ]
     },
     "metadata": {},
     "output_type": "display_data"
    }
   ],
   "source": [
    "plot_correlations_lines(15,\n",
    "                        c_bounds[:15],\n",
    "                        q_bounds[:15],\n",
    "                        cut_corrs_list(corrs_list, 15),\n",
    "                        cut_corrs_list(stddevs_list, 15),\n",
    "                        [\"raw\", \n",
    "                         \"mitigated (ignis)\", \n",
    "                         \"mitigated (proposed, delta)\", \n",
    "                         \"mitigated (proposed, least norm)\", \n",
    "                         \"mitigated (Mooney et al., threshold = 0.1)\",\n",
    "                         \"mitigated (Nation et al., iterative)\"], \n",
    "                        # [\"*\", \"*\", \"*\", \"*\", \"*\", \"*\"], \n",
    "                        \"Correlation of Path Graphs (ibmq_brooklyn)\")"
   ]
  },
  {
   "cell_type": "code",
   "execution_count": 20,
   "metadata": {},
   "outputs": [],
   "source": [
    "with open(\"./pkls/corrs_stddevs_list.pkl\", \"wb\") as f:\n",
    "    pickle.dump([corrs_list, stddevs_list], f)"
   ]
  }
 ],
 "metadata": {
  "kernelspec": {
   "display_name": "Python 3 (ipykernel)",
   "language": "python",
   "name": "python3"
  },
  "language_info": {
   "codemirror_mode": {
    "name": "ipython",
    "version": 3
   },
   "file_extension": ".py",
   "mimetype": "text/x-python",
   "name": "python",
   "nbconvert_exporter": "python",
   "pygments_lexer": "ipython3",
   "version": "3.9.7"
  }
 },
 "nbformat": 4,
 "nbformat_minor": 4
}

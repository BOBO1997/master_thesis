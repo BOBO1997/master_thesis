{
 "cells": [
  {
   "cell_type": "code",
   "execution_count": 1,
   "metadata": {},
   "outputs": [],
   "source": [
    "import sys\n",
    "import time\n",
    "import numpy as np\n",
    "import pickle"
   ]
  },
  {
   "cell_type": "code",
   "execution_count": 2,
   "metadata": {},
   "outputs": [],
   "source": [
    "max_size = 21\n",
    "max_length = 20"
   ]
  },
  {
   "cell_type": "code",
   "execution_count": 3,
   "metadata": {},
   "outputs": [],
   "source": [
    "with open(\"./pkls/raw_hist_list.pkl\", \"rb\") as f:\n",
    "    raw_hist_list = pickle.load(f)\n",
    "# with open(\"./pkls/ignis_hist_list.pkl\", \"rb\") as f:\n",
    "#     ignis_hist_list = pickle.load(f)\n",
    "# with open(\"./pkls/delta_hist_list.pkl\", \"rb\") as f:\n",
    "#     delta_hist_list = pickle.load(f)\n",
    "with open(\"./pkls/lnp_hist_list.pkl\", \"rb\") as f:\n",
    "    lnp_hist_list = pickle.load(f)\n",
    "# with open(\"./pkls/mooney01_hist_list.pkl\", \"rb\") as f:\n",
    "#     mooney01_hist_list = pickle.load(f)\n",
    "# with open(\"./pkls/nation_hist_list.pkl\", \"rb\") as f:\n",
    "#     nation_hist_list = pickle.load(f)"
   ]
  },
  {
   "cell_type": "code",
   "execution_count": 4,
   "metadata": {},
   "outputs": [
    {
     "name": "stdout",
     "output_type": "stream",
     "text": [
      "max_size: 21\n",
      "F_list: [1, 4, 7, 10, 13, 16, 19]\n"
     ]
    }
   ],
   "source": [
    "sys.path.append(\"../../libs_bell/\")\n",
    "from lib_graph_states import adjacency_list_for_path_graph, list_to_matrix\n",
    "F_list = [3 * i + 1 for i in range(max_size // 3)] # subset of focused vertices of graph size max_size\n",
    "Fs = [F_list[:(n+1) // 3] for n in range(1, max_size + 1)] # subsets of focused vertices of graph size 1 to max_size\n",
    "adj_lists = [adjacency_list_for_path_graph(n) for n in range(1, max_size + 1)] # adjacency list of graph size 1 to max_size\n",
    "graphs = [list_to_matrix(adj_list) for adj_list in adj_lists] # adjacency matrix of graph size 1 to max_size\n",
    "print(\"max_size:\", max_size)\n",
    "print(\"F_list:\", F_list)"
   ]
  },
  {
   "cell_type": "code",
   "execution_count": 5,
   "metadata": {},
   "outputs": [],
   "source": [
    "from lib_path_graphs import correlations_of_path_graphs"
   ]
  },
  {
   "cell_type": "code",
   "execution_count": 6,
   "metadata": {
    "scrolled": true
   },
   "outputs": [
    {
     "name": "stdout",
     "output_type": "stream",
     "text": [
      "graph size: 1\n",
      "skipped\n",
      "\n",
      "graph size: 2\n",
      "total correlation: 2.6986067391377224 \n",
      "\n",
      "graph size: 3\n",
      "total correlation: 5.235283263247862 \n",
      "\n",
      "graph size: 4\n",
      "total correlation: 6.196014300584911 \n",
      "\n",
      "graph size: 5\n",
      "total correlation: 7.839977383009246 \n",
      "\n",
      "graph size: 6\n",
      "total correlation: 10.051412409132213 \n",
      "\n",
      "graph size: 7\n",
      "total correlation: 11.006133870373278 \n",
      "\n",
      "graph size: 8\n",
      "total correlation: 12.748638080337932 \n",
      "\n",
      "graph size: 9\n",
      "total correlation: 15.3215676376632 \n",
      "\n",
      "graph size: 10\n",
      "total correlation: 16.19398691634094 \n",
      "\n",
      "graph size: 11\n",
      "total correlation: 17.95526418399669 \n",
      "\n",
      "graph size: 12\n",
      "total correlation: 20.23747894163491 \n",
      "\n",
      "graph size: 13\n",
      "total correlation: 21.068518233972522 \n",
      "\n",
      "graph size: 14\n",
      "total correlation: 22.484131200024006 \n",
      "\n",
      "graph size: 15\n",
      "total correlation: 24.862675445919574 \n",
      "\n",
      "graph size: 16\n",
      "total correlation: 25.660290266184052 \n",
      "\n",
      "graph size: 17\n",
      "total correlation: 27.258137773982206 \n",
      "\n",
      "graph size: 18\n",
      "total correlation: 29.54311466748444 \n",
      "\n",
      "graph size: 19\n",
      "total correlation: 30.297309623708752 \n",
      "\n",
      "graph size: 20\n",
      "total correlation: 32.01142832896033 \n",
      "\n",
      "graph size: 21\n",
      "total correlation: 34.42035606936001 \n",
      "\n"
     ]
    }
   ],
   "source": [
    "corr_list, stddev_list, Es_list, Ds_list = correlations_of_path_graphs(adj_lists, Fs, raw_hist_list)"
   ]
  },
  {
   "cell_type": "code",
   "execution_count": 7,
   "metadata": {},
   "outputs": [],
   "source": [
    "# ignis_corr_list, ignis_stddev_list, ignis_Es_list, ignis_Ds_list = correlations_of_path_graphs(adj_lists, Fs, ignis_hist_list)"
   ]
  },
  {
   "cell_type": "code",
   "execution_count": 8,
   "metadata": {},
   "outputs": [],
   "source": [
    "# delta_corr_list, delta_stddev_list, delta_Es_list, delta_Ds_list = correlations_of_path_graphs(adj_lists, Fs, delta_hist_list)"
   ]
  },
  {
   "cell_type": "code",
   "execution_count": 9,
   "metadata": {
    "scrolled": true
   },
   "outputs": [
    {
     "name": "stdout",
     "output_type": "stream",
     "text": [
      "graph size: 1\n",
      "skipped\n",
      "\n",
      "graph size: 2\n",
      "total correlation: 2.818417777827344 \n",
      "\n",
      "graph size: 3\n",
      "total correlation: 5.5746801670533115 \n",
      "\n",
      "graph size: 4\n",
      "total correlation: 6.647446283331291 \n",
      "\n",
      "graph size: 5\n",
      "total correlation: 8.430769417064196 \n",
      "\n",
      "graph size: 6\n",
      "total correlation: 10.991644083820727 \n",
      "\n",
      "graph size: 7\n",
      "total correlation: 12.122086625839671 \n",
      "\n",
      "graph size: 8\n",
      "total correlation: 14.014951976461118 \n",
      "\n",
      "graph size: 9\n",
      "total correlation: 16.804177120543834 \n",
      "\n",
      "graph size: 10\n",
      "total correlation: 17.812063684415897 \n",
      "\n",
      "graph size: 11\n",
      "total correlation: 19.44360244448922 \n",
      "\n",
      "graph size: 12\n",
      "total correlation: 22.242906424666927 \n",
      "\n",
      "graph size: 13\n",
      "total correlation: 23.267580540874455 \n",
      "\n",
      "graph size: 14\n",
      "total correlation: 24.835299024114185 \n",
      "\n",
      "graph size: 15\n",
      "total correlation: 27.291359196301734 \n",
      "\n",
      "graph size: 16\n",
      "total correlation: 28.31969191033004 \n",
      "\n",
      "graph size: 17\n",
      "total correlation: 29.506448192880807 \n",
      "\n",
      "graph size: 18\n",
      "total correlation: 31.682546852252187 \n",
      "\n",
      "graph size: 19\n",
      "total correlation: 32.39156045554215 \n",
      "\n",
      "graph size: 20\n",
      "total correlation: 33.56344896811165 \n",
      "\n",
      "graph size: 21\n",
      "total correlation: 35.791745048293315 \n",
      "\n"
     ]
    }
   ],
   "source": [
    "lnp_corr_list, lnp_stddev_list, lnp_Es_list, lnp_Ds_list = correlations_of_path_graphs(adj_lists, Fs, lnp_hist_list)"
   ]
  },
  {
   "cell_type": "code",
   "execution_count": 10,
   "metadata": {
    "scrolled": true
   },
   "outputs": [],
   "source": [
    "# mooney01_corr_list, mooney01_stddev_list, mooney01_Es_list, mooney01_Ds_list = correlations_of_path_graphs(adj_lists, Fs, mooney01_hist_list)"
   ]
  },
  {
   "cell_type": "code",
   "execution_count": 11,
   "metadata": {
    "scrolled": true
   },
   "outputs": [],
   "source": [
    "# nation_corr_list, nation_stddev_list, nation_Es_list, nation_Ds_list = correlations_of_path_graphs(adj_lists, Fs, nation_hist_list)"
   ]
  },
  {
   "cell_type": "markdown",
   "metadata": {},
   "source": [
    "## plot correlations"
   ]
  },
  {
   "cell_type": "code",
   "execution_count": 12,
   "metadata": {},
   "outputs": [],
   "source": [
    "c_bounds = [0] + [n + (n // 3) for n in range(2, max_size + 1)]\n",
    "q_bounds = [0]\n",
    "for n in range(2, max_size + 1):\n",
    "    q_bounds.append( 2 * (np.sqrt(2) * 2 - 1) * (n // 3) + n - ((n + 1) // 3))\n",
    "    if (n + 1) % 3 == 0:\n",
    "        q_bounds[-1] += (np.sqrt(2) * 2 - 1)"
   ]
  },
  {
   "cell_type": "code",
   "execution_count": 13,
   "metadata": {},
   "outputs": [],
   "source": [
    "from lib_plots import plot_correlations_lines, cut_corrs_list"
   ]
  },
  {
   "cell_type": "code",
   "execution_count": 14,
   "metadata": {},
   "outputs": [],
   "source": [
    "corrs_list = [np.array(corr_list), \n",
    "              # np.array(ignis_corr_list),\n",
    "              # np.array(delta_corr_list),\n",
    "              np.array(lnp_corr_list),\n",
    "              # np.array(mooney01_corr_list),\n",
    "              # np.array(nation_corr_list),\n",
    "             ]\n",
    "stddevs_list = [np.array(stddev_list),\n",
    "                # np.array(ignis_stddev_list),\n",
    "                # np.array(delta_stddev_list),\n",
    "                np.array(lnp_stddev_list),\n",
    "                # np.array(mooney01_stddev_list),\n",
    "                # np.array(nation_stddev_list),\n",
    "               ]"
   ]
  },
  {
   "cell_type": "code",
   "execution_count": 15,
   "metadata": {},
   "outputs": [
    {
     "data": {
      "image/png": "[encoded data removed]",
      "text/plain": [
       "<Figure size 432x288 with 1 Axes>"
      ]
     },
     "metadata": {
      "needs_background": "light"
     },
     "output_type": "display_data"
    }
   ],
   "source": [
    "plot_correlations_lines(max_size, \n",
    "                        c_bounds, \n",
    "                        q_bounds, \n",
    "                        corrs_list,\n",
    "                        stddevs_list,\n",
    "                        [\"raw\", \n",
    "                         # \"mitigated (ignis)\", \n",
    "                         # \"mitigated (proposed, delta)\", \n",
    "                         \"mitigated (proposed, least norm)\", \n",
    "                         # \"mitigated (Mooney et al., threshold = 0.1)\",\n",
    "                         # \"mitigated (Nation et al., iterative)\",\n",
    "                        ], \n",
    "                        # [\"*\", \"*\", \"*\", \"*\", \"*\", \"*\"], \n",
    "                        \"Correlation of Path Graphs (ibmq_montreal)\")"
   ]
  },
  {
   "cell_type": "code",
   "execution_count": 16,
   "metadata": {},
   "outputs": [],
   "source": [
    "with open(\"./pkls/corrs_stddevs_list.pkl\", \"wb\") as f:\n",
    "    pickle.dump([corrs_list, stddevs_list], f)"
   ]
  }
 ],
 "metadata": {
  "kernelspec": {
   "display_name": "Python 3 (ipykernel)",
   "language": "python",
   "name": "python3"
  },
  "language_info": {
   "codemirror_mode": {
    "name": "ipython",
    "version": 3
   },
   "file_extension": ".py",
   "mimetype": "text/x-python",
   "name": "python",
   "nbconvert_exporter": "python",
   "pygments_lexer": "ipython3",
   "version": "3.9.7"
  }
 },
 "nbformat": 4,
 "nbformat_minor": 4
}

{
 "cells": [
  {
   "cell_type": "code",
   "execution_count": 1,
   "id": "efce9d92",
   "metadata": {},
   "outputs": [],
   "source": [
    "import sys\n",
    "import pickle\n",
    "from pprint import pprint\n",
    "import time\n",
    "import datetime"
   ]
  },
  {
   "cell_type": "code",
   "execution_count": 2,
   "id": "b9d5b22f",
   "metadata": {},
   "outputs": [],
   "source": [
    "from qiskit import IBMQ"
   ]
  },
  {
   "cell_type": "code",
   "execution_count": 3,
   "id": "14983c70",
   "metadata": {},
   "outputs": [
    {
     "ename": "QiskitBackendNotFoundError",
     "evalue": "'No backend matches the criteria'",
     "output_type": "error",
     "traceback": [
      "\u001b[0;31m---------------------------------------------------------------------------\u001b[0m",
      "\u001b[0;31mQiskitBackendNotFoundError\u001b[0m                Traceback (most recent call last)",
      "\u001b[0;32m/var/folders/vr/d82vcp297v78vk4sb0_nzzdc0000gn/T/ipykernel_10976/2787777821.py\u001b[0m in \u001b[0;36m<module>\u001b[0;34m\u001b[0m\n\u001b[1;32m      1\u001b[0m \u001b[0mIBMQ\u001b[0m\u001b[0;34m.\u001b[0m\u001b[0mload_account\u001b[0m\u001b[0;34m(\u001b[0m\u001b[0;34m)\u001b[0m\u001b[0;34m\u001b[0m\u001b[0;34m\u001b[0m\u001b[0m\n\u001b[1;32m      2\u001b[0m \u001b[0mprovider\u001b[0m \u001b[0;34m=\u001b[0m \u001b[0mIBMQ\u001b[0m\u001b[0;34m.\u001b[0m\u001b[0mget_provider\u001b[0m\u001b[0;34m(\u001b[0m\u001b[0mhub\u001b[0m\u001b[0;34m=\u001b[0m\u001b[0;34m'ibm-q-utokyo'\u001b[0m\u001b[0;34m,\u001b[0m \u001b[0mgroup\u001b[0m\u001b[0;34m=\u001b[0m\u001b[0;34m'internal'\u001b[0m\u001b[0;34m,\u001b[0m \u001b[0mproject\u001b[0m\u001b[0;34m=\u001b[0m\u001b[0;34m'hirashi-jst'\u001b[0m\u001b[0;34m)\u001b[0m\u001b[0;34m\u001b[0m\u001b[0;34m\u001b[0m\u001b[0m\n\u001b[0;32m----> 3\u001b[0;31m \u001b[0mbackend\u001b[0m \u001b[0;34m=\u001b[0m \u001b[0mprovider\u001b[0m\u001b[0;34m.\u001b[0m\u001b[0mget_backend\u001b[0m\u001b[0;34m(\u001b[0m\u001b[0;34m\"ibmq_sydney\"\u001b[0m\u001b[0;34m)\u001b[0m\u001b[0;34m\u001b[0m\u001b[0;34m\u001b[0m\u001b[0m\n\u001b[0m\u001b[1;32m      4\u001b[0m \u001b[0mdevice\u001b[0m \u001b[0;34m=\u001b[0m \u001b[0mprovider\u001b[0m\u001b[0;34m.\u001b[0m\u001b[0mbackend\u001b[0m\u001b[0;34m.\u001b[0m\u001b[0mibmq_sydney\u001b[0m\u001b[0;34m\u001b[0m\u001b[0;34m\u001b[0m\u001b[0m\n",
      "\u001b[0;32m~/opt/anaconda3/envs/qiskitenv/lib/python3.9/site-packages/qiskit/providers/provider.py\u001b[0m in \u001b[0;36mget_backend\u001b[0;34m(self, name, **kwargs)\u001b[0m\n\u001b[1;32m     53\u001b[0m             \u001b[0;32mraise\u001b[0m \u001b[0mQiskitBackendNotFoundError\u001b[0m\u001b[0;34m(\u001b[0m\u001b[0;34m\"More than one backend matches the criteria\"\u001b[0m\u001b[0;34m)\u001b[0m\u001b[0;34m\u001b[0m\u001b[0;34m\u001b[0m\u001b[0m\n\u001b[1;32m     54\u001b[0m         \u001b[0;32mif\u001b[0m \u001b[0;32mnot\u001b[0m \u001b[0mbackends\u001b[0m\u001b[0;34m:\u001b[0m\u001b[0;34m\u001b[0m\u001b[0;34m\u001b[0m\u001b[0m\n\u001b[0;32m---> 55\u001b[0;31m             \u001b[0;32mraise\u001b[0m \u001b[0mQiskitBackendNotFoundError\u001b[0m\u001b[0;34m(\u001b[0m\u001b[0;34m\"No backend matches the criteria\"\u001b[0m\u001b[0;34m)\u001b[0m\u001b[0;34m\u001b[0m\u001b[0;34m\u001b[0m\u001b[0m\n\u001b[0m\u001b[1;32m     56\u001b[0m \u001b[0;34m\u001b[0m\u001b[0m\n\u001b[1;32m     57\u001b[0m         \u001b[0;32mreturn\u001b[0m \u001b[0mbackends\u001b[0m\u001b[0;34m[\u001b[0m\u001b[0;36m0\u001b[0m\u001b[0;34m]\u001b[0m\u001b[0;34m\u001b[0m\u001b[0;34m\u001b[0m\u001b[0m\n",
      "\u001b[0;31mQiskitBackendNotFoundError\u001b[0m: 'No backend matches the criteria'"
     ]
    }
   ],
   "source": [
    "IBMQ.load_account()\n",
    "provider = IBMQ.get_provider(hub='ibm-q-utokyo', group='internal', project='hirashi-jst')\n",
    "backend = provider.get_backend(\"ibmq_sydney\")\n",
    "device = provider.backend.ibmq_sydney"
   ]
  },
  {
   "cell_type": "code",
   "execution_count": null,
   "id": "6b032c28",
   "metadata": {},
   "outputs": [],
   "source": [
    "sys.path.append(\"../../libs_bell/\")\n",
    "from lib_graph_states import adjacency_list_for_path_graph, list_to_matrix, path_graph_state"
   ]
  },
  {
   "cell_type": "code",
   "execution_count": null,
   "id": "1f2c287f",
   "metadata": {},
   "outputs": [],
   "source": [
    "vertex_list = [20,19,16,14,11,8,5,3,2,1,4,7,10,12,15,18,21,23,24,25,26]\n",
    "max_size = len(vertex_list) # largest graph size\n",
    "# vertex_list += [9,16,20,30,34,44,53,55] # add extra qubits up to 65\n",
    "initial_layouts = [vertex_list[:n] for n in range(1, max_size + 1)] # initial_layouts\n",
    "F_list = [3 * i + 1 for i in range(max_size // 3)] # subset of focused vertices of graph size max_size\n",
    "Fs = [F_list[:(n+1) // 3] for n in range(1, max_size + 1)] # subsets of focused vertices of graph size 1 to max_size\n",
    "adj_lists = [adjacency_list_for_path_graph(n) for n in range(1, max_size + 1)] # adjacency list of graph size 1 to max_size\n",
    "graphs = [list_to_matrix(adj_list) for adj_list in adj_lists] # adjacency matrix of graph size 1 to max_size\n",
    "shots_per_circuit = 1 << 13 # shots per one execution"
   ]
  },
  {
   "cell_type": "code",
   "execution_count": null,
   "id": "a78764b8",
   "metadata": {},
   "outputs": [],
   "source": [
    "print(\"max_size:\", max_size)\n",
    "print(\"shots_per_circuit:\", shots_per_circuit)\n",
    "print(\"F_list:\", F_list)\n",
    "print(\"lengths of initial_layout:\", [len(i) for i in initial_layouts])\n",
    "pprint(initial_layouts[:10:2])"
   ]
  },
  {
   "cell_type": "code",
   "execution_count": null,
   "id": "e18583ab",
   "metadata": {},
   "outputs": [],
   "source": [
    "qcs = [path_graph_state(size) for size in range(1, max_size+1)]\n",
    "print(len(qcs), \"qcs\")"
   ]
  },
  {
   "cell_type": "code",
   "execution_count": null,
   "id": "8593dab4",
   "metadata": {},
   "outputs": [],
   "source": [
    "from lib_path_graphs import prepare_path_graph_qcs_list, execute_circuits"
   ]
  },
  {
   "cell_type": "code",
   "execution_count": null,
   "id": "ba955fee",
   "metadata": {},
   "outputs": [],
   "source": [
    "qcs_list, nums_divide_list, nums_meas_cal_list, initial_layouts_list = \\\n",
    "    prepare_path_graph_qcs_list(qcs, \n",
    "                                adj_lists, \n",
    "                                backend,\n",
    "                                optimization_level=3,\n",
    "                                initial_layouts=[vertex_list[:qc.num_qubits] for qc in qcs])\n",
    "print(\"the number of graph state circuits is: \", len(qcs_list))"
   ]
  },
  {
   "cell_type": "code",
   "execution_count": null,
   "id": "957f8bcf",
   "metadata": {},
   "outputs": [],
   "source": [
    "jobs = execute_circuits(qcs_list,\n",
    "                        backend=backend,\n",
    "                        shots=shots_per_circuit,\n",
    "                        max_experiments=900,\n",
    "                        optimization_level=0)\n",
    "print(len(jobs), \"jobs\")\n",
    "print(\"job_id:\", jobs[0].job_id())"
   ]
  },
  {
   "cell_type": "code",
   "execution_count": null,
   "id": "7a229b05",
   "metadata": {},
   "outputs": [],
   "source": [
    "dt_now = datetime.datetime.now()\n",
    "job_ids_filename = \"job_ids_\" + dt_now.strftime('%Y%m%d_%H%M%S') + \".pkl\""
   ]
  },
  {
   "cell_type": "code",
   "execution_count": null,
   "id": "46665b97",
   "metadata": {},
   "outputs": [],
   "source": [
    "with open(job_ids_filename, \"wb\") as f:\n",
    "    pickle.dump([job.job_id() for job in jobs], f)"
   ]
  },
  {
   "cell_type": "code",
   "execution_count": null,
   "id": "075dc6f1",
   "metadata": {},
   "outputs": [],
   "source": [
    "with open(\"properties_\" + dt_now.strftime('%Y%m%d_%H%M%S') + \".pkl\", \"wb\") as f:\n",
    "    pickle.dump(device.properties(), f)"
   ]
  },
  {
   "cell_type": "code",
   "execution_count": 4,
   "id": "59c3ac77",
   "metadata": {},
   "outputs": [
    {
     "ename": "QiskitBackendNotFoundError",
     "evalue": "'No backend matches the criteria'",
     "output_type": "error",
     "traceback": [
      "\u001b[0;31m---------------------------------------------------------------------------\u001b[0m",
      "\u001b[0;31mQiskitBackendNotFoundError\u001b[0m                Traceback (most recent call last)",
      "\u001b[0;32m/var/folders/vr/d82vcp297v78vk4sb0_nzzdc0000gn/T/ipykernel_10976/3080761444.py\u001b[0m in \u001b[0;36m<module>\u001b[0;34m\u001b[0m\n\u001b[1;32m      1\u001b[0m \u001b[0;32mfrom\u001b[0m \u001b[0mqiskit\u001b[0m\u001b[0;34m.\u001b[0m\u001b[0mvisualization\u001b[0m \u001b[0;32mimport\u001b[0m \u001b[0mplot_circuit_layout\u001b[0m\u001b[0;34m\u001b[0m\u001b[0;34m\u001b[0m\u001b[0m\n\u001b[1;32m      2\u001b[0m \u001b[0;32mfrom\u001b[0m \u001b[0mqiskit\u001b[0m \u001b[0;32mimport\u001b[0m \u001b[0mtranspile\u001b[0m\u001b[0;34m\u001b[0m\u001b[0;34m\u001b[0m\u001b[0m\n\u001b[0;32m----> 3\u001b[0;31m \u001b[0mbackend\u001b[0m \u001b[0;34m=\u001b[0m \u001b[0mprovider\u001b[0m\u001b[0;34m.\u001b[0m\u001b[0mget_backend\u001b[0m\u001b[0;34m(\u001b[0m\u001b[0;34m\"ibmq_sydney\"\u001b[0m\u001b[0;34m)\u001b[0m\u001b[0;34m\u001b[0m\u001b[0;34m\u001b[0m\u001b[0m\n\u001b[0m\u001b[1;32m      4\u001b[0m \u001b[0mqc_on_device\u001b[0m \u001b[0;34m=\u001b[0m \u001b[0mtranspile\u001b[0m\u001b[0;34m(\u001b[0m\u001b[0mqcs\u001b[0m\u001b[0;34m[\u001b[0m\u001b[0;34m-\u001b[0m\u001b[0;36m1\u001b[0m\u001b[0;34m]\u001b[0m\u001b[0;34m,\u001b[0m \u001b[0mbackend\u001b[0m\u001b[0;34m=\u001b[0m\u001b[0mbackend\u001b[0m\u001b[0;34m,\u001b[0m \u001b[0moptimization_level\u001b[0m\u001b[0;34m=\u001b[0m\u001b[0;36m1\u001b[0m\u001b[0;34m,\u001b[0m \u001b[0minitial_layout\u001b[0m\u001b[0;34m=\u001b[0m\u001b[0mvertex_list\u001b[0m\u001b[0;34m)\u001b[0m\u001b[0;34m\u001b[0m\u001b[0;34m\u001b[0m\u001b[0m\n\u001b[1;32m      5\u001b[0m \u001b[0mplot_circuit_layout\u001b[0m\u001b[0;34m(\u001b[0m\u001b[0mqc_on_device\u001b[0m\u001b[0;34m,\u001b[0m \u001b[0mbackend\u001b[0m\u001b[0;34m)\u001b[0m\u001b[0;34m\u001b[0m\u001b[0;34m\u001b[0m\u001b[0m\n",
      "\u001b[0;32m~/opt/anaconda3/envs/qiskitenv/lib/python3.9/site-packages/qiskit/providers/provider.py\u001b[0m in \u001b[0;36mget_backend\u001b[0;34m(self, name, **kwargs)\u001b[0m\n\u001b[1;32m     53\u001b[0m             \u001b[0;32mraise\u001b[0m \u001b[0mQiskitBackendNotFoundError\u001b[0m\u001b[0;34m(\u001b[0m\u001b[0;34m\"More than one backend matches the criteria\"\u001b[0m\u001b[0;34m)\u001b[0m\u001b[0;34m\u001b[0m\u001b[0;34m\u001b[0m\u001b[0m\n\u001b[1;32m     54\u001b[0m         \u001b[0;32mif\u001b[0m \u001b[0;32mnot\u001b[0m \u001b[0mbackends\u001b[0m\u001b[0;34m:\u001b[0m\u001b[0;34m\u001b[0m\u001b[0;34m\u001b[0m\u001b[0m\n\u001b[0;32m---> 55\u001b[0;31m             \u001b[0;32mraise\u001b[0m \u001b[0mQiskitBackendNotFoundError\u001b[0m\u001b[0;34m(\u001b[0m\u001b[0;34m\"No backend matches the criteria\"\u001b[0m\u001b[0;34m)\u001b[0m\u001b[0;34m\u001b[0m\u001b[0;34m\u001b[0m\u001b[0m\n\u001b[0m\u001b[1;32m     56\u001b[0m \u001b[0;34m\u001b[0m\u001b[0m\n\u001b[1;32m     57\u001b[0m         \u001b[0;32mreturn\u001b[0m \u001b[0mbackends\u001b[0m\u001b[0;34m[\u001b[0m\u001b[0;36m0\u001b[0m\u001b[0;34m]\u001b[0m\u001b[0;34m\u001b[0m\u001b[0;34m\u001b[0m\u001b[0m\n",
      "\u001b[0;31mQiskitBackendNotFoundError\u001b[0m: 'No backend matches the criteria'"
     ]
    }
   ],
   "source": [
    "from qiskit.visualization import plot_circuit_layout\n",
    "from qiskit import transpile\n",
    "backend = provider.get_backend(\"ibmq_sydney\")\n",
    "qc_on_device = transpile(qcs[-1], backend=backend, optimization_level=1, initial_layout=vertex_list)\n",
    "plot_circuit_layout(qc_on_device, backend)"
   ]
  },
  {
   "cell_type": "code",
   "execution_count": null,
   "id": "700ed030",
   "metadata": {},
   "outputs": [],
   "source": [
    "from qiskit.visualization import plot_error_map\n",
    "plot_error_map(device)"
   ]
  },
  {
   "cell_type": "code",
   "execution_count": null,
   "id": "24457b07",
   "metadata": {},
   "outputs": [],
   "source": []
  }
 ],
 "metadata": {
  "kernelspec": {
   "display_name": "Python 3 (ipykernel)",
   "language": "python",
   "name": "python3"
  },
  "language_info": {
   "codemirror_mode": {
    "name": "ipython",
    "version": 3
   },
   "file_extension": ".py",
   "mimetype": "text/x-python",
   "name": "python",
   "nbconvert_exporter": "python",
   "pygments_lexer": "ipython3",
   "version": "3.9.7"
  }
 },
 "nbformat": 4,
 "nbformat_minor": 5
}

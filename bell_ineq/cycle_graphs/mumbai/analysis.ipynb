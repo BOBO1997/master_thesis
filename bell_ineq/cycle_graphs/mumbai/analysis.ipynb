{
 "cells": [
  {
   "cell_type": "code",
   "execution_count": 1,
   "metadata": {},
   "outputs": [],
   "source": [
    "import sys\n",
    "import time\n",
    "import numpy as np\n",
    "import pickle"
   ]
  },
  {
   "cell_type": "code",
   "execution_count": 2,
   "metadata": {},
   "outputs": [],
   "source": [
    "max_size = 21\n",
    "max_length = 20"
   ]
  },
  {
   "cell_type": "code",
   "execution_count": 3,
   "metadata": {},
   "outputs": [],
   "source": [
    "with open(\"./pkls/raw_hist_list.pkl\", \"rb\") as f:\n",
    "    raw_hist_list = pickle.load(f)\n",
    "# with open(\"./pkls/ignis_hist_list.pkl\", \"rb\") as f:\n",
    "#     ignis_hist_list = pickle.load(f)\n",
    "# with open(\"./pkls/delta_hist_list.pkl\", \"rb\") as f:\n",
    "#     delta_hist_list = pickle.load(f)\n",
    "with open(\"./pkls/lnp_hist_list.pkl\", \"rb\") as f:\n",
    "    lnp_hist_list = pickle.load(f)\n",
    "# with open(\"./pkls/mooney01_hist_list.pkl\", \"rb\") as f:\n",
    "#     mooney01_hist_list = pickle.load(f)\n",
    "# with open(\"./pkls/nation_hist_list.pkl\", \"rb\") as f:\n",
    "#     nation_hist_list = pickle.load(f)"
   ]
  },
  {
   "cell_type": "code",
   "execution_count": 4,
   "metadata": {},
   "outputs": [
    {
     "name": "stdout",
     "output_type": "stream",
     "text": [
      "max_size: 21\n",
      "F_list: [1, 4, 7, 10, 13, 16, 19]\n"
     ]
    }
   ],
   "source": [
    "sys.path.append(\"../../libs_bell/\")\n",
    "from lib_graph_states import adjacency_list_for_path_graph, list_to_matrix\n",
    "F_list = [3 * i + 1 for i in range(max_size // 3)] # subset of focused vertices of graph size max_size\n",
    "Fs = [F_list[:(n+1) // 3] for n in range(1, max_size + 1)] # subsets of focused vertices of graph size 1 to max_size\n",
    "adj_lists = [adjacency_list_for_path_graph(n) for n in range(1, max_size + 1)] # adjacency list of graph size 1 to max_size\n",
    "graphs = [list_to_matrix(adj_list) for adj_list in adj_lists] # adjacency matrix of graph size 1 to max_size\n",
    "print(\"max_size:\", max_size)\n",
    "print(\"F_list:\", F_list)"
   ]
  },
  {
   "cell_type": "code",
   "execution_count": 5,
   "metadata": {},
   "outputs": [],
   "source": [
    "from lib_path_graphs import correlations_of_path_graphs"
   ]
  },
  {
   "cell_type": "code",
   "execution_count": 6,
   "metadata": {
    "scrolled": true
   },
   "outputs": [
    {
     "name": "stdout",
     "output_type": "stream",
     "text": [
      "graph size: 1\n",
      "skipped\n",
      "\n",
      "graph size: 2\n",
      "total correlation: 2.6471619586705373 \n",
      "\n",
      "graph size: 3\n",
      "total correlation: 5.099248071945372 \n",
      "\n",
      "graph size: 4\n",
      "total correlation: 5.995892811752377 \n",
      "\n",
      "graph size: 5\n",
      "total correlation: 7.495746200957006 \n",
      "\n",
      "graph size: 6\n",
      "total correlation: 9.397476743327857 \n",
      "\n",
      "graph size: 7\n",
      "total correlation: 10.267651425459738 \n",
      "\n",
      "graph size: 8\n",
      "total correlation: 11.910675112593912 \n",
      "\n",
      "graph size: 9\n",
      "total correlation: 14.276789747101436 \n",
      "\n",
      "graph size: 10\n",
      "total correlation: 15.136100787953273 \n",
      "\n",
      "graph size: 11\n",
      "total correlation: 16.594567003988786 \n",
      "\n",
      "graph size: 12\n",
      "total correlation: 19.044236248382614 \n",
      "\n",
      "graph size: 13\n",
      "total correlation: 19.762340280015927 \n",
      "\n",
      "graph size: 14\n",
      "total correlation: 21.468355736034347 \n",
      "\n",
      "graph size: 15\n",
      "total correlation: 23.829291365796852 \n",
      "\n",
      "graph size: 16\n",
      "total correlation: 24.807702165244113 \n",
      "\n",
      "graph size: 17\n",
      "total correlation: 26.43225915064323 \n",
      "\n",
      "graph size: 18\n",
      "total correlation: 28.482454495704616 \n",
      "\n",
      "graph size: 19\n",
      "total correlation: 29.410878171605706 \n",
      "\n",
      "graph size: 20\n",
      "total correlation: 30.985985389446636 \n",
      "\n",
      "graph size: 21\n",
      "total correlation: 33.46949079817458 \n",
      "\n"
     ]
    }
   ],
   "source": [
    "corr_list, stddev_list, Es_list, Ds_list = correlations_of_path_graphs(adj_lists, Fs, raw_hist_list)"
   ]
  },
  {
   "cell_type": "code",
   "execution_count": 7,
   "metadata": {},
   "outputs": [],
   "source": [
    "# ignis_corr_list, ignis_stddev_list, ignis_Es_list, ignis_Ds_list = correlations_of_path_graphs(adj_lists, Fs, ignis_hist_list)"
   ]
  },
  {
   "cell_type": "code",
   "execution_count": 8,
   "metadata": {},
   "outputs": [],
   "source": [
    "# delta_corr_list, delta_stddev_list, delta_Es_list, delta_Ds_list = correlations_of_path_graphs(adj_lists, Fs, delta_hist_list)"
   ]
  },
  {
   "cell_type": "code",
   "execution_count": 9,
   "metadata": {
    "scrolled": true
   },
   "outputs": [
    {
     "name": "stdout",
     "output_type": "stream",
     "text": [
      "graph size: 1\n",
      "skipped\n",
      "\n",
      "graph size: 2\n",
      "total correlation: 2.8067123075960816 \n",
      "\n",
      "graph size: 3\n",
      "total correlation: 5.542805965965255 \n",
      "\n",
      "graph size: 4\n",
      "total correlation: 6.65685424949238 \n",
      "\n",
      "graph size: 5\n",
      "total correlation: 8.402324323771325 \n",
      "\n",
      "graph size: 6\n",
      "total correlation: 10.62479459789408 \n",
      "\n",
      "graph size: 7\n",
      "total correlation: 11.649994651060286 \n",
      "\n",
      "graph size: 8\n",
      "total correlation: 13.671442892875975 \n",
      "\n",
      "graph size: 9\n",
      "total correlation: 16.289444184295775 \n",
      "\n",
      "graph size: 10\n",
      "total correlation: 17.31127328226931 \n",
      "\n",
      "graph size: 11\n",
      "total correlation: 18.949239788162703 \n",
      "\n",
      "graph size: 12\n",
      "total correlation: 21.55210454475897 \n",
      "\n",
      "graph size: 13\n",
      "total correlation: 22.53588647493619 \n",
      "\n",
      "graph size: 14\n",
      "total correlation: 24.31882271826959 \n",
      "\n",
      "graph size: 15\n",
      "total correlation: 26.880322628779773 \n",
      "\n",
      "graph size: 16\n",
      "total correlation: 27.798711595450055 \n",
      "\n",
      "graph size: 17\n",
      "total correlation: 29.538689782179766 \n",
      "\n",
      "graph size: 18\n",
      "total correlation: 32.062596360730645 \n",
      "\n",
      "graph size: 19\n",
      "total correlation: 32.456372681847355 \n",
      "\n",
      "graph size: 20\n",
      "total correlation: 33.38680071679456 \n",
      "\n",
      "graph size: 21\n",
      "total correlation: 35.54853423747735 \n",
      "\n"
     ]
    }
   ],
   "source": [
    "lnp_corr_list, lnp_stddev_list, lnp_Es_list, lnp_Ds_list = correlations_of_path_graphs(adj_lists, Fs, lnp_hist_list)"
   ]
  },
  {
   "cell_type": "code",
   "execution_count": 10,
   "metadata": {
    "scrolled": true
   },
   "outputs": [],
   "source": [
    "# mooney01_corr_list, mooney01_stddev_list, mooney01_Es_list, mooney01_Ds_list = correlations_of_path_graphs(adj_lists, Fs, mooney01_hist_list)"
   ]
  },
  {
   "cell_type": "code",
   "execution_count": 11,
   "metadata": {
    "scrolled": true
   },
   "outputs": [],
   "source": [
    "# nation_corr_list, nation_stddev_list, nation_Es_list, nation_Ds_list = correlations_of_path_graphs(adj_lists, Fs, nation_hist_list)"
   ]
  },
  {
   "cell_type": "markdown",
   "metadata": {},
   "source": [
    "## plot correlations"
   ]
  },
  {
   "cell_type": "code",
   "execution_count": 12,
   "metadata": {},
   "outputs": [],
   "source": [
    "c_bounds = [0] + [n + (n // 3) for n in range(2, max_size + 1)]\n",
    "q_bounds = [0]\n",
    "for n in range(2, max_size + 1):\n",
    "    q_bounds.append( 2 * (np.sqrt(2) * 2 - 1) * (n // 3) + n - ((n + 1) // 3))\n",
    "    if (n + 1) % 3 == 0:\n",
    "        q_bounds[-1] += (np.sqrt(2) * 2 - 1)"
   ]
  },
  {
   "cell_type": "code",
   "execution_count": 13,
   "metadata": {},
   "outputs": [],
   "source": [
    "from lib_plots import plot_correlations_lines, cut_corrs_list"
   ]
  },
  {
   "cell_type": "code",
   "execution_count": 14,
   "metadata": {},
   "outputs": [],
   "source": [
    "corrs_list = [np.array(corr_list), \n",
    "              # np.array(ignis_corr_list),\n",
    "              # np.array(delta_corr_list),\n",
    "              np.array(lnp_corr_list),\n",
    "              # np.array(mooney01_corr_list),\n",
    "              # np.array(nation_corr_list),\n",
    "             ]\n",
    "stddevs_list = [np.array(stddev_list),\n",
    "                # np.array(ignis_stddev_list),\n",
    "                # np.array(delta_stddev_list),\n",
    "                np.array(lnp_stddev_list),\n",
    "                # np.array(mooney01_stddev_list),\n",
    "                # np.array(nation_stddev_list),\n",
    "               ]"
   ]
  },
  {
   "cell_type": "code",
   "execution_count": 15,
   "metadata": {},
   "outputs": [
    {
     "data": {
      "image/png": "[encoded data removed]",
      "text/plain": [
       "<Figure size 432x288 with 1 Axes>"
      ]
     },
     "metadata": {
      "needs_background": "light"
     },
     "output_type": "display_data"
    }
   ],
   "source": [
    "plot_correlations_lines(max_size, \n",
    "                        c_bounds, \n",
    "                        q_bounds, \n",
    "                        corrs_list,\n",
    "                        stddevs_list,\n",
    "                        [\"raw\", \n",
    "                         # \"mitigated (ignis)\", \n",
    "                         # \"mitigated (proposed, delta)\", \n",
    "                         \"mitigated (proposed, least norm)\", \n",
    "                         # \"mitigated (Mooney et al., threshold = 0.1)\",\n",
    "                         # \"mitigated (Nation et al., iterative)\",\n",
    "                        ], \n",
    "                        # [\"*\", \"*\", \"*\", \"*\", \"*\", \"*\"], \n",
    "                        \"Correlation of Path Graphs (ibmq_mumbai)\")"
   ]
  },
  {
   "cell_type": "code",
   "execution_count": 16,
   "metadata": {},
   "outputs": [],
   "source": [
    "with open(\"./pkls/corrs_stddevs_list.pkl\", \"wb\") as f:\n",
    "    pickle.dump([corrs_list, stddevs_list], f)"
   ]
  }
 ],
 "metadata": {
  "kernelspec": {
   "display_name": "Python 3 (ipykernel)",
   "language": "python",
   "name": "python3"
  },
  "language_info": {
   "codemirror_mode": {
    "name": "ipython",
    "version": 3
   },
   "file_extension": ".py",
   "mimetype": "text/x-python",
   "name": "python",
   "nbconvert_exporter": "python",
   "pygments_lexer": "ipython3",
   "version": "3.9.7"
  }
 },
 "nbformat": 4,
 "nbformat_minor": 4
}

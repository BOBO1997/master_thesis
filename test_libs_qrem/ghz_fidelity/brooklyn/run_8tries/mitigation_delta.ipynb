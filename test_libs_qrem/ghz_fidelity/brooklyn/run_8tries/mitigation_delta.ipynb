{
 "cells": [
  {
   "cell_type": "code",
   "execution_count": 1,
   "id": "worst-austria",
   "metadata": {},
   "outputs": [],
   "source": [
    "import pickle\n",
    "import time\n",
    "import gc"
   ]
  },
  {
   "cell_type": "code",
   "execution_count": 2,
   "id": "be591052",
   "metadata": {},
   "outputs": [
    {
     "name": "stdout",
     "output_type": "stream",
     "text": [
      "max_size: 39\n",
      "number of try: 8\n"
     ]
    }
   ],
   "source": [
    "max_size = 65\n",
    "max_size = 39\n",
    "print(\"max_size:\", max_size)\n",
    "num_try = 8\n",
    "print(\"number of try:\", num_try)"
   ]
  },
  {
   "cell_type": "code",
   "execution_count": 3,
   "id": "6796d5f5",
   "metadata": {
    "scrolled": true
   },
   "outputs": [],
   "source": [
    "from libs_qrem import DeltaFilter\n",
    "from qiskit.ignis.mitigation.measurement import TensoredMeasFitter"
   ]
  },
  {
   "cell_type": "code",
   "execution_count": 4,
   "id": "d8317feb",
   "metadata": {},
   "outputs": [],
   "source": [
    "def get_info(mitigator):\n",
    "    return {\"exact_one_norm_of_reduced_inv_A\": mitigator.exact_one_norm_of_reduced_inv_A(),\n",
    "            \"mitigated_hist\": mitigator.mitigated_hist(),\n",
    "            \"times\": mitigator.times(),\n",
    "            \"mitigation_stddev\": mitigator.mitigation_stddev(norm_type = \"exact\"),\n",
    "            }"
   ]
  },
  {
   "cell_type": "code",
   "execution_count": 5,
   "id": "d0bc724a",
   "metadata": {},
   "outputs": [],
   "source": [
    "def results_to_info(n):\n",
    "    \n",
    "    with open(\"pkls/results/results_\" + str(n) + \"-qubit.pkl\", \"rb\") as f:\n",
    "        results_list = pickle.load(f)\n",
    "        f.close()\n",
    "    \n",
    "    delta_ghz_mqc_info_list = []\n",
    "    for j in range(num_try):\n",
    "        delta_ghz_mqc_info = {}\n",
    "        mitigator = DeltaFilter(n, TensoredMeasFitter(results_list[j][\"mit\"], mit_pattern=[[k] for k in range(n)]).cal_matrices)\n",
    "        _ = mitigator.apply(results_list[j][\"ghz\"].get_counts())\n",
    "        delta_ghz_mqc_info[\"ghz\"] = get_info(mitigator)\n",
    "        delta_ghz_mqc_info[\"mqc\"] = []\n",
    "        for i, mqc_hist in enumerate( results_list[j][\"mqc\"].get_counts() ):\n",
    "            _ = mitigator.apply(mqc_hist)\n",
    "            delta_ghz_mqc_info[\"mqc\"].append( get_info(mitigator) )\n",
    "        delta_ghz_mqc_info_list.append(delta_ghz_mqc_info)\n",
    "    with open(\"pkls/delta/info_list_\" + str(n) + \"-qubit.pkl\", \"wb\") as f:\n",
    "        pickle.dump(delta_ghz_mqc_info_list, f)\n",
    "        f.close()"
   ]
  },
  {
   "cell_type": "code",
   "execution_count": 6,
   "id": "b34a7b47",
   "metadata": {},
   "outputs": [
    {
     "name": "stdout",
     "output_type": "stream",
     "text": [
      "1 qubit finished ( time: 0.00997579800002768 s )\n",
      "2 qubit finished ( time: 0.010723108999968645 s )\n",
      "3 qubit finished ( time: 0.016539613999952962 s )\n",
      "4 qubit finished ( time: 0.020323349000022972 s )\n",
      "5 qubit finished ( time: 0.1894885950000571 s )\n",
      "6 qubit finished ( time: 0.06126224199999797 s )\n",
      "7 qubit finished ( time: 0.09870495599989226 s )\n",
      "8 qubit finished ( time: 0.1658008179999797 s )\n",
      "9 qubit finished ( time: 0.27785186399989925 s )\n",
      "10 qubit finished ( time: 0.4159346720000485 s )\n",
      "11 qubit finished ( time: 0.6159354609999355 s )\n",
      "12 qubit finished ( time: 0.9768914819999281 s )\n",
      "13 qubit finished ( time: 1.2937756739999031 s )\n",
      "14 qubit finished ( time: 2.1391590699998915 s )\n",
      "15 qubit finished ( time: 3.4181147660000306 s )\n",
      "16 qubit finished ( time: 4.516454395000096 s )\n",
      "17 qubit finished ( time: 7.446937227000035 s )\n",
      "18 qubit finished ( time: 12.876556271000027 s )\n",
      "19 qubit finished ( time: 16.052370936999978 s )\n",
      "20 qubit finished ( time: 20.864977598999985 s )\n",
      "21 qubit finished ( time: 22.53631651700016 s )\n",
      "22 qubit finished ( time: 26.13047739700005 s )\n",
      "23 qubit finished ( time: 34.081189242999926 s )\n",
      "24 qubit finished ( time: 47.0927571310001 s )\n",
      "25 qubit finished ( time: 56.99025021900002 s )\n",
      "26 qubit finished ( time: 84.40635180799995 s )\n",
      "27 qubit finished ( time: 99.56241330199987 s )\n",
      "28 qubit finished ( time: 118.31452148699987 s )\n",
      "29 qubit finished ( time: 148.33573254399994 s )\n",
      "30 qubit finished ( time: 171.32578567399992 s )\n",
      "31 qubit finished ( time: 229.42010235600014 s )\n",
      "32 qubit finished ( time: 257.0184461069998 s )\n",
      "33 qubit finished ( time: 286.3209252820002 s )\n",
      "34 qubit finished ( time: 364.8192234310004 s )\n",
      "35 qubit finished ( time: 452.2098996599998 s )\n",
      "36 qubit finished ( time: 536.285980437 s )\n",
      "37 qubit finished ( time: 608.2598258109997 s )\n",
      "38 qubit finished ( time: 638.2304906740001 s )\n",
      "39 qubit finished ( time: 749.3188892540002 s )\n"
     ]
    }
   ],
   "source": [
    "for n in range(1, max_size + 1):\n",
    "    t1 = time.perf_counter()\n",
    "    results_to_info(n)\n",
    "    t2 = time.perf_counter()\n",
    "    print(n, \"qubit finished ( time:\", t2 - t1, \"s )\")"
   ]
  },
  {
   "cell_type": "code",
   "execution_count": null,
   "id": "cb2f6b96",
   "metadata": {},
   "outputs": [],
   "source": []
  }
 ],
 "metadata": {
  "kernelspec": {
   "display_name": "Python 3 (ipykernel)",
   "language": "python",
   "name": "python3"
  },
  "language_info": {
   "codemirror_mode": {
    "name": "ipython",
    "version": 3
   },
   "file_extension": ".py",
   "mimetype": "text/x-python",
   "name": "python",
   "nbconvert_exporter": "python",
   "pygments_lexer": "ipython3",
   "version": "3.9.7"
  }
 },
 "nbformat": 4,
 "nbformat_minor": 5
}

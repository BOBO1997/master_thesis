{
 "cells": [
  {
   "cell_type": "code",
   "execution_count": 1,
   "id": "worst-austria",
   "metadata": {},
   "outputs": [],
   "source": [
    "import pickle\n",
    "import time\n",
    "import gc"
   ]
  },
  {
   "cell_type": "code",
   "execution_count": 2,
   "id": "be591052",
   "metadata": {},
   "outputs": [
    {
     "name": "stdout",
     "output_type": "stream",
     "text": [
      "max_size: 39\n",
      "number of try: 8\n"
     ]
    }
   ],
   "source": [
    "max_size = 65\n",
    "max_size = 39\n",
    "print(\"max_size:\", max_size)\n",
    "num_try = 8\n",
    "print(\"number of try:\", num_try)"
   ]
  },
  {
   "cell_type": "code",
   "execution_count": 3,
   "id": "6796d5f5",
   "metadata": {
    "scrolled": true
   },
   "outputs": [],
   "source": [
    "from libs_qrem import MooneyEtalFilter\n",
    "from qiskit.ignis.mitigation.measurement import TensoredMeasFitter"
   ]
  },
  {
   "cell_type": "code",
   "execution_count": 4,
   "id": "d8317feb",
   "metadata": {},
   "outputs": [],
   "source": [
    "def get_info(mitigator):\n",
    "    return {# \"exact_one_norm_of_reduced_inv_A\": mitigator.exact_one_norm_of_reduced_inv_A(),\n",
    "            \"mitigated_hist\": mitigator.mitigated_hist(),\n",
    "            \"times\": mitigator.times(),\n",
    "            # \"mitigation_stddev\": mitigator.mitigation_stddev(norm_type = \"exact\"),\n",
    "            }"
   ]
  },
  {
   "cell_type": "code",
   "execution_count": 5,
   "id": "d0bc724a",
   "metadata": {},
   "outputs": [],
   "source": [
    "def results_to_info(n):\n",
    "    \n",
    "    with open(\"pkls/results/results_\" + str(n) + \"-qubit.pkl\", \"rb\") as f:\n",
    "        results_list = pickle.load(f)\n",
    "        f.close()\n",
    "    \n",
    "    mooney001_ghz_mqc_info_list = []\n",
    "    for j in range(num_try):\n",
    "        mooney001_ghz_mqc_info = {}\n",
    "        mitigator = MooneyEtalFilter(n, TensoredMeasFitter(results_list[j][\"mit\"], mit_pattern=[[k] for k in range(n)]).cal_matrices)\n",
    "        _ = mitigator.apply(results_list[j][\"ghz\"].get_counts(), threshold=0.01)\n",
    "        mooney001_ghz_mqc_info[\"ghz\"] = get_info(mitigator)\n",
    "        mooney001_ghz_mqc_info[\"mqc\"] = []\n",
    "        for i, mqc_hist in enumerate( results_list[j][\"mqc\"].get_counts() ):\n",
    "            _ = mitigator.apply(mqc_hist)\n",
    "            mooney001_ghz_mqc_info[\"mqc\"].append( get_info(mitigator) )\n",
    "        mooney001_ghz_mqc_info_list.append(mooney001_ghz_mqc_info)\n",
    "    with open(\"pkls/mooney001/info_list_\" + str(n) + \"-qubit.pkl\", \"wb\") as f:\n",
    "        pickle.dump(mooney001_ghz_mqc_info_list, f)\n",
    "        f.close()"
   ]
  },
  {
   "cell_type": "code",
   "execution_count": 6,
   "id": "b34a7b47",
   "metadata": {},
   "outputs": [
    {
     "name": "stdout",
     "output_type": "stream",
     "text": [
      "1 qubit finished ( time: 0.010823408000000256 s )\n",
      "2 qubit finished ( time: 0.008020539999999965 s )\n",
      "3 qubit finished ( time: 0.011103212000000084 s )\n",
      "4 qubit finished ( time: 0.0161582349999998 s )\n",
      "5 qubit finished ( time: 0.02838327800000018 s )\n",
      "6 qubit finished ( time: 0.044044915000000184 s )\n",
      "7 qubit finished ( time: 0.07027350299999968 s )\n",
      "8 qubit finished ( time: 0.10839439800000017 s )\n",
      "9 qubit finished ( time: 0.2274653660000001 s )\n",
      "10 qubit finished ( time: 0.2246308199999998 s )\n",
      "11 qubit finished ( time: 0.31084482999999974 s )\n",
      "12 qubit finished ( time: 0.4207630849999999 s )\n",
      "13 qubit finished ( time: 0.5970304130000006 s )\n",
      "14 qubit finished ( time: 0.7847498310000001 s )\n",
      "15 qubit finished ( time: 1.1898330639999992 s )\n",
      "16 qubit finished ( time: 1.1955944829999998 s )\n",
      "17 qubit finished ( time: 1.6974446679999993 s )\n",
      "18 qubit finished ( time: 1.8122143709999996 s )\n",
      "19 qubit finished ( time: 2.22774613 s )\n",
      "20 qubit finished ( time: 2.5347452330000007 s )\n",
      "21 qubit finished ( time: 2.8748499129999985 s )\n",
      "22 qubit finished ( time: 3.2571932540000006 s )\n",
      "23 qubit finished ( time: 4.496612382999999 s )\n",
      "24 qubit finished ( time: 5.309501769000001 s )\n",
      "25 qubit finished ( time: 5.9502673590000015 s )\n",
      "26 qubit finished ( time: 7.894655809 s )\n",
      "27 qubit finished ( time: 8.333641886999999 s )\n",
      "28 qubit finished ( time: 9.476201096999993 s )\n",
      "29 qubit finished ( time: 11.00694810600001 s )\n",
      "30 qubit finished ( time: 11.778830296999999 s )\n",
      "31 qubit finished ( time: 13.137149652999994 s )\n",
      "32 qubit finished ( time: 12.693992104000003 s )\n",
      "33 qubit finished ( time: 13.881448230999993 s )\n",
      "34 qubit finished ( time: 14.735295666000013 s )\n",
      "35 qubit finished ( time: 17.674013588999998 s )\n",
      "36 qubit finished ( time: 25.367576227 s )\n",
      "37 qubit finished ( time: 18.884046151000007 s )\n",
      "38 qubit finished ( time: 21.006621636000006 s )\n",
      "39 qubit finished ( time: 25.00142678900002 s )\n"
     ]
    }
   ],
   "source": [
    "for n in range(1, max_size + 1):\n",
    "    t1 = time.perf_counter()\n",
    "    results_to_info(n)\n",
    "    t2 = time.perf_counter()\n",
    "    print(n, \"qubit finished ( time:\", t2 - t1, \"s )\")"
   ]
  },
  {
   "cell_type": "code",
   "execution_count": null,
   "id": "cb2f6b96",
   "metadata": {},
   "outputs": [],
   "source": []
  }
 ],
 "metadata": {
  "kernelspec": {
   "display_name": "Python 3 (ipykernel)",
   "language": "python",
   "name": "python3"
  },
  "language_info": {
   "codemirror_mode": {
    "name": "ipython",
    "version": 3
   },
   "file_extension": ".py",
   "mimetype": "text/x-python",
   "name": "python",
   "nbconvert_exporter": "python",
   "pygments_lexer": "ipython3",
   "version": "3.9.7"
  }
 },
 "nbformat": 4,
 "nbformat_minor": 5
}

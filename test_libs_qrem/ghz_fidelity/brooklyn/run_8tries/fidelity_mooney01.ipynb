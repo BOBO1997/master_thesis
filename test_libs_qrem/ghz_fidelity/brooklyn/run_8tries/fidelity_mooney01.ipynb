{
 "cells": [
  {
   "cell_type": "code",
   "execution_count": 1,
   "id": "5a0e59fb",
   "metadata": {},
   "outputs": [],
   "source": [
    "import numpy as np\n",
    "import cmath\n",
    "import matplotlib.pyplot as plt\n",
    "%matplotlib inline\n",
    "import pickle\n",
    "import importlib"
   ]
  },
  {
   "cell_type": "code",
   "execution_count": 2,
   "id": "a881de14",
   "metadata": {},
   "outputs": [],
   "source": [
    "def P(n, shots, hist):\n",
    "    # assert n == len(list(hist.keys())[0])\n",
    "    count = 0\n",
    "    count += hist.get(\"0\" * n, 0) / shots\n",
    "    count += hist.get(\"1\" * n, 0) / shots\n",
    "    return count"
   ]
  },
  {
   "cell_type": "code",
   "execution_count": 3,
   "id": "5a6b3e5d",
   "metadata": {},
   "outputs": [],
   "source": [
    "def S_phi(n, shots, hist):\n",
    "    # assert n == len(list(hist.keys())[0])\n",
    "    return hist.get(\"0\" * n, 0) / shots"
   ]
  },
  {
   "cell_type": "code",
   "execution_count": 4,
   "id": "566e5b1f",
   "metadata": {},
   "outputs": [],
   "source": [
    "def C(n, shots, hists):\n",
    "    # assert n == len(list(hists[0].keys())[0])\n",
    "    iq = 0\n",
    "    for i, hist in enumerate(hists):\n",
    "        phi = (np.pi * i) / (n + 1)\n",
    "        iq += cmath.exp(phi * n * 1j) * S_phi(n, shots, hist)\n",
    "    iq = abs(iq) / len(hists)\n",
    "    return 2 * np.sqrt(iq)"
   ]
  },
  {
   "cell_type": "code",
   "execution_count": 5,
   "id": "239b7e59",
   "metadata": {},
   "outputs": [
    {
     "name": "stdout",
     "output_type": "stream",
     "text": [
      "max_size: 39\n",
      "shots: 8192\n",
      "num_try: 8\n"
     ]
    }
   ],
   "source": [
    "max_size = 65\n",
    "max_size = 39\n",
    "shots = 8192\n",
    "num_try = 8\n",
    "print(\"max_size:\", max_size)\n",
    "print(\"shots:\", shots)\n",
    "print(\"num_try:\", num_try)"
   ]
  },
  {
   "cell_type": "code",
   "execution_count": 6,
   "id": "9b8760a1",
   "metadata": {
    "scrolled": true
   },
   "outputs": [
    {
     "name": "stdout",
     "output_type": "stream",
     "text": [
      "1 qubit finished (average fidelity:  0.9998840634587677 )\n",
      "2 qubit finished (average fidelity:  0.9563113986897807 )\n",
      "3 qubit finished (average fidelity:  0.9614413995761021 )\n",
      "4 qubit finished (average fidelity:  0.9375815383015091 )\n",
      "5 qubit finished (average fidelity:  0.9021301618040358 )\n",
      "6 qubit finished (average fidelity:  0.8830443600626524 )\n",
      "7 qubit finished (average fidelity:  0.8363209972400669 )\n",
      "8 qubit finished (average fidelity:  0.8544102161174497 )\n",
      "9 qubit finished (average fidelity:  0.8173502475733072 )\n",
      "10 qubit finished (average fidelity:  0.794257839096131 )\n",
      "11 qubit finished (average fidelity:  0.8033129592779492 )\n",
      "12 qubit finished (average fidelity:  0.7795353219897885 )\n",
      "13 qubit finished (average fidelity:  0.7552997723783936 )\n",
      "14 qubit finished (average fidelity:  0.7316778093998596 )\n",
      "15 qubit finished (average fidelity:  0.6911993911999603 )\n",
      "16 qubit finished (average fidelity:  0.6707150145552532 )\n",
      "17 qubit finished (average fidelity:  0.6630051571138091 )\n",
      "18 qubit finished (average fidelity:  0.6464567786542444 )\n",
      "19 qubit finished (average fidelity:  0.6544493053593102 )\n",
      "20 qubit finished (average fidelity:  0.6385388849720726 )\n",
      "21 qubit finished (average fidelity:  0.6282985054215684 )\n",
      "22 qubit finished (average fidelity:  0.638985714098501 )\n",
      "23 qubit finished (average fidelity:  0.662081932304601 )\n",
      "24 qubit finished (average fidelity:  0.6344187855016794 )\n",
      "25 qubit finished (average fidelity:  0.6245611612370778 )\n",
      "26 qubit finished (average fidelity:  0.5944934904297847 )\n",
      "27 qubit finished (average fidelity:  0.5801546969001512 )\n",
      "28 qubit finished (average fidelity:  0.5710371756978201 )\n",
      "29 qubit finished (average fidelity:  0.5608432036881004 )\n",
      "30 qubit finished (average fidelity:  0.5598422246500241 )\n",
      "31 qubit finished (average fidelity:  0.526043748670912 )\n",
      "32 qubit finished (average fidelity:  0.5167407574055973 )\n",
      "33 qubit finished (average fidelity:  0.5161467984695429 )\n",
      "34 qubit finished (average fidelity:  0.5146432096009084 )\n",
      "35 qubit finished (average fidelity:  0.4594503804818297 )\n",
      "36 qubit finished (average fidelity:  0.3990727313858427 )\n",
      "37 qubit finished (average fidelity:  0.3554186463420559 )\n",
      "38 qubit finished (average fidelity:  0.33967571423808285 )\n",
      "39 qubit finished (average fidelity:  0.2426173259815509 )\n"
     ]
    }
   ],
   "source": [
    "mooney01_fidelities_list = []\n",
    "for n in range(1, max_size + 1):\n",
    "    with open(\"./pkls/mooney01/info_list_\" + str(n) + \"-qubit.pkl\", \"rb\") as f:\n",
    "        mooney01_info_list = pickle.load(f)\n",
    "    ps, cs = [], []\n",
    "    fidelities = []\n",
    "    for j in range(num_try):\n",
    "        p = P(n, shots, mooney01_info_list[j][\"ghz\"][\"mitigated_hist\"])\n",
    "        c = C(n, shots, [info[\"mitigated_hist\"] for info in mooney01_info_list[j][\"mqc\"]])\n",
    "        ps.append( p )\n",
    "        cs.append( c )\n",
    "        fidelities.append( (p + c) / 2 )\n",
    "    mooney01_fidelities_list.append({\"ps\": ps, \"cs\": cs, \"fidelities\": fidelities })\n",
    "    print(n, \"qubit finished (average fidelity: \", np.mean(fidelities), \")\")"
   ]
  },
  {
   "cell_type": "code",
   "execution_count": 7,
   "id": "94e967b8",
   "metadata": {
    "scrolled": true
   },
   "outputs": [
    {
     "name": "stdout",
     "output_type": "stream",
     "text": [
      "1 qubit finished\n",
      "2 qubit finished\n",
      "3 qubit finished\n",
      "4 qubit finished\n",
      "5 qubit finished\n",
      "6 qubit finished\n",
      "7 qubit finished\n",
      "8 qubit finished\n",
      "9 qubit finished\n",
      "10 qubit finished\n",
      "11 qubit finished\n",
      "12 qubit finished\n",
      "13 qubit finished\n",
      "14 qubit finished\n",
      "15 qubit finished\n",
      "16 qubit finished\n",
      "17 qubit finished\n",
      "18 qubit finished\n",
      "19 qubit finished\n",
      "20 qubit finished\n",
      "21 qubit finished\n",
      "22 qubit finished\n",
      "23 qubit finished\n",
      "24 qubit finished\n",
      "25 qubit finished\n",
      "26 qubit finished\n",
      "27 qubit finished\n",
      "28 qubit finished\n",
      "29 qubit finished\n",
      "30 qubit finished\n",
      "31 qubit finished\n",
      "32 qubit finished\n",
      "33 qubit finished\n",
      "34 qubit finished\n",
      "35 qubit finished\n",
      "36 qubit finished\n",
      "37 qubit finished\n",
      "38 qubit finished\n",
      "39 qubit finished\n"
     ]
    }
   ],
   "source": [
    "mooney01_S_phis_list_list = []\n",
    "for n in range(1, max_size + 1):\n",
    "    with open(\"./pkls/mooney01/info_list_\" + str(n) + \"-qubit.pkl\", \"rb\") as f:\n",
    "        mooney01_info_list = pickle.load(f)\n",
    "    mooney01_S_phis_list = []\n",
    "    for j in range(num_try):\n",
    "        mooney01_S_phis = []\n",
    "        for i, hist in enumerate([info[\"mitigated_hist\"] for info in mooney01_info_list[j][\"mqc\"]]):\n",
    "            mooney01_S_phis.append(S_phi(n, shots, hist))\n",
    "        mooney01_S_phis_list.append(mooney01_S_phis)\n",
    "    mooney01_S_phis_list_list.append(mooney01_S_phis_list)\n",
    "    print(n, \"qubit finished\")"
   ]
  },
  {
   "cell_type": "code",
   "execution_count": 8,
   "id": "2e0a8617",
   "metadata": {},
   "outputs": [],
   "source": [
    "with open(\"./pkls/mooney01/fidelity_info.pkl\", \"wb\") as f:\n",
    "    pickle.dump({\"fidelities_list\": mooney01_fidelities_list, \"S_phis_list_list\": mooney01_S_phis_list_list}, f)"
   ]
  }
 ],
 "metadata": {
  "kernelspec": {
   "display_name": "Python 3 (ipykernel)",
   "language": "python",
   "name": "python3"
  },
  "language_info": {
   "codemirror_mode": {
    "name": "ipython",
    "version": 3
   },
   "file_extension": ".py",
   "mimetype": "text/x-python",
   "name": "python",
   "nbconvert_exporter": "python",
   "pygments_lexer": "ipython3",
   "version": "3.9.7"
  }
 },
 "nbformat": 4,
 "nbformat_minor": 5
}

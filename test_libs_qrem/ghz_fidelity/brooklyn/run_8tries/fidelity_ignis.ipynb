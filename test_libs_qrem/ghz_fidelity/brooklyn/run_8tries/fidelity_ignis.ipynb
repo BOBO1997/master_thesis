{
 "cells": [
  {
   "cell_type": "code",
   "execution_count": 1,
   "id": "5a0e59fb",
   "metadata": {},
   "outputs": [],
   "source": [
    "import numpy as np\n",
    "import cmath\n",
    "import matplotlib.pyplot as plt\n",
    "%matplotlib inline\n",
    "import pickle\n",
    "import importlib"
   ]
  },
  {
   "cell_type": "code",
   "execution_count": 2,
   "id": "a881de14",
   "metadata": {},
   "outputs": [],
   "source": [
    "def P(n, shots, hist):\n",
    "    assert n == len(list(hist.keys())[0])\n",
    "    count = 0\n",
    "    count += hist.get(\"0\" * n, 0) / shots\n",
    "    count += hist.get(\"1\" * n, 0) / shots\n",
    "    return count"
   ]
  },
  {
   "cell_type": "code",
   "execution_count": 3,
   "id": "5a6b3e5d",
   "metadata": {},
   "outputs": [],
   "source": [
    "def S_phi(n, shots, hist):\n",
    "    assert n == len(list(hist.keys())[0])\n",
    "    return hist.get(\"0\" * n, 0) / shots"
   ]
  },
  {
   "cell_type": "code",
   "execution_count": 4,
   "id": "566e5b1f",
   "metadata": {},
   "outputs": [],
   "source": [
    "def C(n, shots, hists):\n",
    "    assert n == len(list(hists[0].keys())[0])\n",
    "    iq = 0\n",
    "    for i, hist in enumerate(hists):\n",
    "        phi = (np.pi * i) / (n + 1)\n",
    "        iq += cmath.exp(phi * n * 1j) * S_phi(n, shots, hist)\n",
    "    iq = abs(iq) / len(hists)\n",
    "    return 2 * np.sqrt(iq)"
   ]
  },
  {
   "cell_type": "code",
   "execution_count": 5,
   "id": "239b7e59",
   "metadata": {},
   "outputs": [
    {
     "name": "stdout",
     "output_type": "stream",
     "text": [
      "max_size: 30\n",
      "shots: 8192\n",
      "num_try: 8\n"
     ]
    }
   ],
   "source": [
    "max_size = 65\n",
    "max_size = 30\n",
    "shots = 8192\n",
    "num_try = 8\n",
    "print(\"max_size:\", max_size)\n",
    "print(\"shots:\", shots)\n",
    "print(\"num_try:\", num_try)"
   ]
  },
  {
   "cell_type": "code",
   "execution_count": 6,
   "id": "9b8760a1",
   "metadata": {
    "scrolled": true
   },
   "outputs": [
    {
     "name": "stdout",
     "output_type": "stream",
     "text": [
      "1 qubit finished (average fidelity:  0.9988565461877769 )\n",
      "2 qubit finished (average fidelity:  0.9767059325313219 )\n",
      "3 qubit finished (average fidelity:  0.9650902964297348 )\n",
      "4 qubit finished (average fidelity:  0.96096810788733 )\n",
      "5 qubit finished (average fidelity:  0.9368929561775767 )\n",
      "6 qubit finished (average fidelity:  0.9127389103279121 )\n",
      "7 qubit finished (average fidelity:  0.859065669919994 )\n",
      "8 qubit finished (average fidelity:  0.8901516266711214 )\n",
      "9 qubit finished (average fidelity:  0.8202314270026365 )\n",
      "10 qubit finished (average fidelity:  0.8079227645048707 )\n",
      "11 qubit finished (average fidelity:  0.804875377322767 )\n",
      "12 qubit finished (average fidelity:  0.8480026400324617 )\n",
      "13 qubit finished (average fidelity:  0.7972553675608338 )\n",
      "14 qubit finished (average fidelity:  0.7626940315257575 )\n",
      "15 qubit finished (average fidelity:  0.7240966594028296 )\n",
      "16 qubit finished (average fidelity:  0.7134897716569988 )\n",
      "17 qubit finished (average fidelity:  0.6948922537886412 )\n",
      "18 qubit finished (average fidelity:  0.6716314611954587 )\n",
      "19 qubit finished (average fidelity:  0.679773081230851 )\n",
      "20 qubit finished (average fidelity:  0.6785343192068887 )\n",
      "21 qubit finished (average fidelity:  0.6605776079695107 )\n",
      "22 qubit finished (average fidelity:  0.660264150649454 )\n",
      "23 qubit finished (average fidelity:  0.6468787183689464 )\n",
      "24 qubit finished (average fidelity:  0.6069718421309392 )\n",
      "25 qubit finished (average fidelity:  0.6027475331594137 )\n",
      "26 qubit finished (average fidelity:  0.5465803427415575 )\n",
      "27 qubit finished (average fidelity:  0.5410285392218449 )\n",
      "28 qubit finished (average fidelity:  0.5270444489244027 )\n",
      "29 qubit finished (average fidelity:  0.5102241104473555 )\n",
      "30 qubit finished (average fidelity:  0.49118760778663784 )\n"
     ]
    }
   ],
   "source": [
    "ignis_fidelities_list = []\n",
    "for n in range(1, max_size + 1):\n",
    "    with open(\"./pkls/ignis_uno/info_list_\" + str(n) + \"-qubit.pkl\", \"rb\") as f:\n",
    "        ignis_info_list = pickle.load(f)\n",
    "    ps, cs = [], []\n",
    "    fidelities = []\n",
    "    for j in range(num_try):\n",
    "        p = P(n, shots, ignis_info_list[j][\"ghz\"][\"mitigated_hist\"])\n",
    "        c = C(n, shots, [info[\"mitigated_hist\"] for info in ignis_info_list[j][\"mqc\"]])\n",
    "        ps.append( p )\n",
    "        cs.append( c )\n",
    "        fidelities.append( (p + c) / 2 )\n",
    "    ignis_fidelities_list.append({\"ps\": ps, \"cs\": cs, \"fidelities\": fidelities })\n",
    "    print(n, \"qubit finished (average fidelity: \", np.mean(fidelities), \")\")"
   ]
  },
  {
   "cell_type": "code",
   "execution_count": 7,
   "id": "94e967b8",
   "metadata": {
    "scrolled": true
   },
   "outputs": [
    {
     "name": "stdout",
     "output_type": "stream",
     "text": [
      "1 qubit finished\n",
      "2 qubit finished\n",
      "3 qubit finished\n",
      "4 qubit finished\n",
      "5 qubit finished\n",
      "6 qubit finished\n",
      "7 qubit finished\n",
      "8 qubit finished\n",
      "9 qubit finished\n",
      "10 qubit finished\n",
      "11 qubit finished\n",
      "12 qubit finished\n",
      "13 qubit finished\n",
      "14 qubit finished\n",
      "15 qubit finished\n",
      "16 qubit finished\n",
      "17 qubit finished\n",
      "18 qubit finished\n",
      "19 qubit finished\n",
      "20 qubit finished\n",
      "21 qubit finished\n",
      "22 qubit finished\n",
      "23 qubit finished\n",
      "24 qubit finished\n",
      "25 qubit finished\n",
      "26 qubit finished\n",
      "27 qubit finished\n",
      "28 qubit finished\n",
      "29 qubit finished\n",
      "30 qubit finished\n"
     ]
    }
   ],
   "source": [
    "ignis_S_phis_list_list = []\n",
    "for n in range(1, max_size + 1):\n",
    "    with open(\"./pkls/ignis_uno/info_list_\" + str(n) + \"-qubit.pkl\", \"rb\") as f:\n",
    "        ignis_info_list = pickle.load(f)\n",
    "    ignis_S_phis_list = []\n",
    "    for j in range(num_try):\n",
    "        ignis_S_phis = []\n",
    "        for i, hist in enumerate([info[\"mitigated_hist\"] for info in ignis_info_list[j][\"mqc\"]]):\n",
    "            ignis_S_phis.append(S_phi(n, shots, hist))\n",
    "        ignis_S_phis_list.append(ignis_S_phis)\n",
    "    ignis_S_phis_list_list.append(ignis_S_phis_list)\n",
    "    print(n, \"qubit finished\")"
   ]
  },
  {
   "cell_type": "code",
   "execution_count": 8,
   "id": "2e0a8617",
   "metadata": {},
   "outputs": [],
   "source": [
    "with open(\"./pkls/ignis_uno/fidelity_info.pkl\", \"wb\") as f:\n",
    "    pickle.dump({\"fidelities_list\": ignis_fidelities_list, \"S_phis_list_list\": ignis_S_phis_list_list}, f)"
   ]
  },
  {
   "cell_type": "code",
   "execution_count": null,
   "id": "63ea5e07",
   "metadata": {},
   "outputs": [],
   "source": []
  }
 ],
 "metadata": {
  "kernelspec": {
   "display_name": "Python 3 (ipykernel)",
   "language": "python",
   "name": "python3"
  },
  "language_info": {
   "codemirror_mode": {
    "name": "ipython",
    "version": 3
   },
   "file_extension": ".py",
   "mimetype": "text/x-python",
   "name": "python",
   "nbconvert_exporter": "python",
   "pygments_lexer": "ipython3",
   "version": "3.9.7"
  }
 },
 "nbformat": 4,
 "nbformat_minor": 5
}

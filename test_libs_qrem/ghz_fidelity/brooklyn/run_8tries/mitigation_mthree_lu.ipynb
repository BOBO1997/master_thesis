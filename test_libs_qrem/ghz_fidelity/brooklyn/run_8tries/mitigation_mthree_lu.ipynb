{
 "cells": [
  {
   "cell_type": "code",
   "execution_count": 1,
   "id": "worst-austria",
   "metadata": {},
   "outputs": [],
   "source": [
    "import pickle\n",
    "import time\n",
    "import gc"
   ]
  },
  {
   "cell_type": "code",
   "execution_count": 2,
   "id": "be591052",
   "metadata": {},
   "outputs": [
    {
     "name": "stdout",
     "output_type": "stream",
     "text": [
      "max_size: 39\n",
      "number of try: 8\n"
     ]
    }
   ],
   "source": [
    "max_size = 65\n",
    "max_size = 39\n",
    "print(\"max_size:\", max_size)\n",
    "num_try = 8\n",
    "print(\"number of try:\", num_try)"
   ]
  },
  {
   "cell_type": "code",
   "execution_count": 3,
   "id": "6796d5f5",
   "metadata": {
    "scrolled": true
   },
   "outputs": [],
   "source": [
    "import mthree\n",
    "from qiskit.test.mock import FakeManhattan\n",
    "from libs_qrem import sgs_algorithm_py\n",
    "from qiskit.ignis.mitigation.measurement import TensoredMeasFitter"
   ]
  },
  {
   "cell_type": "code",
   "execution_count": 4,
   "id": "d8317feb",
   "metadata": {},
   "outputs": [],
   "source": [
    "def get_info(mit_hist, info):\n",
    "    return {# \"exact_one_norm_of_reduced_inv_A\": mitigator.exact_one_norm_of_reduced_inv_A(),\n",
    "            \"mitigated_hist\": mit_hist,\n",
    "            \"times\": info[\"time\"],\n",
    "            \"info\": info,\n",
    "            # \"mitigation_stddev\": mitigator.mitigation_stddev(norm_type = \"exact\"),\n",
    "            }"
   ]
  },
  {
   "cell_type": "code",
   "execution_count": 5,
   "id": "d0bc724a",
   "metadata": {},
   "outputs": [],
   "source": [
    "def results_to_info(n):\n",
    "    \n",
    "    with open(\"pkls/results/results_\" + str(n) + \"-qubit.pkl\", \"rb\") as f:\n",
    "        results_list = pickle.load(f)\n",
    "        f.close()\n",
    "    \n",
    "    mthree_lu_ghz_mqc_info_list = []\n",
    "    for j in range(num_try):\n",
    "        mthree_lu_ghz_mqc_info = {}\n",
    "        mitigator = mthree.M3Mitigation(FakeManhattan())\n",
    "        mitigator.single_qubit_cals = TensoredMeasFitter(results_list[j][\"mit\"], mit_pattern=[[k] for k in range(n)]).cal_matrices\n",
    "        meas_layout = [k for k in range(n)]\n",
    "        mit_hist, info = mitigator.apply_correction(results_list[j][\"ghz\"].get_counts(),\n",
    "                                                    meas_layout, \n",
    "                                                    distance=None,\n",
    "                                                    method='direct',\n",
    "                                                    max_iter=25, \n",
    "                                                    tol=1e-5,\n",
    "                                                    return_mitigation_overhead=True,\n",
    "                                                    details=True)\n",
    "        mthree_lu_ghz_mqc_info[\"ghz\"] = get_info(sgs_algorithm_py(mit_hist), info)\n",
    "        mthree_lu_ghz_mqc_info[\"mqc\"] = []\n",
    "        for i, mqc_hist in enumerate( results_list[j][\"mqc\"].get_counts() ):\n",
    "            mit_hist, info = mitigator.apply_correction(mqc_hist,\n",
    "                                                        meas_layout, \n",
    "                                                        distance=None,\n",
    "                                                        method='direct',\n",
    "                                                        max_iter=25, \n",
    "                                                        tol=1e-5,\n",
    "                                                        return_mitigation_overhead=True,\n",
    "                                                        details=True)\n",
    "            mthree_lu_ghz_mqc_info[\"mqc\"].append( get_info(sgs_algorithm_py(mit_hist), info) )\n",
    "        mthree_lu_ghz_mqc_info_list.append(mthree_lu_ghz_mqc_info)\n",
    "    with open(\"pkls/mthree_lu/info_list_\" + str(n) + \"-qubit.pkl\", \"wb\") as f:\n",
    "        pickle.dump(mthree_lu_ghz_mqc_info_list, f)\n",
    "        f.close()"
   ]
  },
  {
   "cell_type": "code",
   "execution_count": 6,
   "id": "b34a7b47",
   "metadata": {},
   "outputs": [
    {
     "name": "stdout",
     "output_type": "stream",
     "text": [
      "1 qubit finished ( time: 0.06421151800000002 s )\n",
      "2 qubit finished ( time: 0.13011862900000004 s )\n",
      "3 qubit finished ( time: 0.08553816299999983 s )\n",
      "4 qubit finished ( time: 0.15646028899999997 s )\n",
      "5 qubit finished ( time: 0.2179844710000003 s )\n",
      "6 qubit finished ( time: 0.205782283 s )\n",
      "7 qubit finished ( time: 0.37037092599999966 s )\n",
      "8 qubit finished ( time: 0.5153049299999997 s )\n",
      "9 qubit finished ( time: 0.6903922119999999 s )\n",
      "10 qubit finished ( time: 0.9667285059999999 s )\n",
      "11 qubit finished ( time: 1.4930758380000002 s )\n",
      "12 qubit finished ( time: 2.193777999000001 s )\n",
      "13 qubit finished ( time: 2.8612715580000003 s )\n",
      "14 qubit finished ( time: 5.281127078000003 s )\n",
      "15 qubit finished ( time: 8.445232434999998 s )\n",
      "16 qubit finished ( time: 12.396426098000003 s )\n",
      "17 qubit finished ( time: 18.546183528 s )\n",
      "18 qubit finished ( time: 29.354276181000003 s )\n",
      "19 qubit finished ( time: 37.390668987 s )\n",
      "20 qubit finished ( time: 48.548744298 s )\n",
      "21 qubit finished ( time: 63.77779085 s )\n",
      "22 qubit finished ( time: 80.51167029299998 s )\n",
      "23 qubit finished ( time: 105.463779692 s )\n",
      "24 qubit finished ( time: 149.469235277 s )\n",
      "25 qubit finished ( time: 166.5921014490001 s )\n",
      "26 qubit finished ( time: 241.229548884 s )\n",
      "27 qubit finished ( time: 281.073011373 s )\n",
      "28 qubit finished ( time: 349.5826707189999 s )\n",
      "29 qubit finished ( time: 433.94783531099984 s )\n",
      "30 qubit finished ( time: 501.84994935600025 s )\n",
      "31 qubit finished ( time: 741.0534101070002 s )\n"
     ]
    },
    {
     "ename": "KeyboardInterrupt",
     "evalue": "",
     "output_type": "error",
     "traceback": [
      "\u001b[0;31m---------------------------------------------------------------------------\u001b[0m",
      "\u001b[0;31mKeyboardInterrupt\u001b[0m                         Traceback (most recent call last)",
      "\u001b[0;32m/var/folders/vr/d82vcp297v78vk4sb0_nzzdc0000gn/T/ipykernel_41483/1962648867.py\u001b[0m in \u001b[0;36m<module>\u001b[0;34m\u001b[0m\n\u001b[1;32m      1\u001b[0m \u001b[0;32mfor\u001b[0m \u001b[0mn\u001b[0m \u001b[0;32min\u001b[0m \u001b[0mrange\u001b[0m\u001b[0;34m(\u001b[0m\u001b[0;36m1\u001b[0m\u001b[0;34m,\u001b[0m \u001b[0mmax_size\u001b[0m \u001b[0;34m+\u001b[0m \u001b[0;36m1\u001b[0m\u001b[0;34m)\u001b[0m\u001b[0;34m:\u001b[0m\u001b[0;34m\u001b[0m\u001b[0;34m\u001b[0m\u001b[0m\n\u001b[1;32m      2\u001b[0m     \u001b[0mt1\u001b[0m \u001b[0;34m=\u001b[0m \u001b[0mtime\u001b[0m\u001b[0;34m.\u001b[0m\u001b[0mperf_counter\u001b[0m\u001b[0;34m(\u001b[0m\u001b[0;34m)\u001b[0m\u001b[0;34m\u001b[0m\u001b[0;34m\u001b[0m\u001b[0m\n\u001b[0;32m----> 3\u001b[0;31m     \u001b[0mresults_to_info\u001b[0m\u001b[0;34m(\u001b[0m\u001b[0mn\u001b[0m\u001b[0;34m)\u001b[0m\u001b[0;34m\u001b[0m\u001b[0;34m\u001b[0m\u001b[0m\n\u001b[0m\u001b[1;32m      4\u001b[0m     \u001b[0mt2\u001b[0m \u001b[0;34m=\u001b[0m \u001b[0mtime\u001b[0m\u001b[0;34m.\u001b[0m\u001b[0mperf_counter\u001b[0m\u001b[0;34m(\u001b[0m\u001b[0;34m)\u001b[0m\u001b[0;34m\u001b[0m\u001b[0;34m\u001b[0m\u001b[0m\n\u001b[1;32m      5\u001b[0m     \u001b[0mprint\u001b[0m\u001b[0;34m(\u001b[0m\u001b[0mn\u001b[0m\u001b[0;34m,\u001b[0m \u001b[0;34m\"qubit finished ( time:\"\u001b[0m\u001b[0;34m,\u001b[0m \u001b[0mt2\u001b[0m \u001b[0;34m-\u001b[0m \u001b[0mt1\u001b[0m\u001b[0;34m,\u001b[0m \u001b[0;34m\"s )\"\u001b[0m\u001b[0;34m)\u001b[0m\u001b[0;34m\u001b[0m\u001b[0;34m\u001b[0m\u001b[0m\n",
      "\u001b[0;32m/var/folders/vr/d82vcp297v78vk4sb0_nzzdc0000gn/T/ipykernel_41483/4033467050.py\u001b[0m in \u001b[0;36mresults_to_info\u001b[0;34m(n)\u001b[0m\n\u001b[1;32m     22\u001b[0m         \u001b[0mmthree_lu_ghz_mqc_info\u001b[0m\u001b[0;34m[\u001b[0m\u001b[0;34m\"mqc\"\u001b[0m\u001b[0;34m]\u001b[0m \u001b[0;34m=\u001b[0m \u001b[0;34m[\u001b[0m\u001b[0;34m]\u001b[0m\u001b[0;34m\u001b[0m\u001b[0;34m\u001b[0m\u001b[0m\n\u001b[1;32m     23\u001b[0m         \u001b[0;32mfor\u001b[0m \u001b[0mi\u001b[0m\u001b[0;34m,\u001b[0m \u001b[0mmqc_hist\u001b[0m \u001b[0;32min\u001b[0m \u001b[0menumerate\u001b[0m\u001b[0;34m(\u001b[0m \u001b[0mresults_list\u001b[0m\u001b[0;34m[\u001b[0m\u001b[0mj\u001b[0m\u001b[0;34m]\u001b[0m\u001b[0;34m[\u001b[0m\u001b[0;34m\"mqc\"\u001b[0m\u001b[0;34m]\u001b[0m\u001b[0;34m.\u001b[0m\u001b[0mget_counts\u001b[0m\u001b[0;34m(\u001b[0m\u001b[0;34m)\u001b[0m \u001b[0;34m)\u001b[0m\u001b[0;34m:\u001b[0m\u001b[0;34m\u001b[0m\u001b[0;34m\u001b[0m\u001b[0m\n\u001b[0;32m---> 24\u001b[0;31m             mit_hist, info = mitigator.apply_correction(mqc_hist,\n\u001b[0m\u001b[1;32m     25\u001b[0m                                                         \u001b[0mmeas_layout\u001b[0m\u001b[0;34m,\u001b[0m\u001b[0;34m\u001b[0m\u001b[0;34m\u001b[0m\u001b[0m\n\u001b[1;32m     26\u001b[0m                                                         \u001b[0mdistance\u001b[0m\u001b[0;34m=\u001b[0m\u001b[0;32mNone\u001b[0m\u001b[0;34m,\u001b[0m\u001b[0;34m\u001b[0m\u001b[0;34m\u001b[0m\u001b[0m\n",
      "\u001b[0;32m~/opt/anaconda3/envs/qiskitenv/lib/python3.9/site-packages/mthree/mitigation.py\u001b[0m in \u001b[0;36mapply_correction\u001b[0;34m(self, counts, qubits, distance, method, max_iter, tol, return_mitigation_overhead, details)\u001b[0m\n\u001b[1;32m    422\u001b[0m \u001b[0;34m\u001b[0m\u001b[0m\n\u001b[1;32m    423\u001b[0m             quasi_out.append(\n\u001b[0;32m--> 424\u001b[0;31m                 self._apply_correction(cnts, qubits=qubits[idx],\n\u001b[0m\u001b[1;32m    425\u001b[0m                                        \u001b[0mdistance\u001b[0m\u001b[0;34m=\u001b[0m\u001b[0mdistance\u001b[0m\u001b[0;34m,\u001b[0m\u001b[0;34m\u001b[0m\u001b[0;34m\u001b[0m\u001b[0m\n\u001b[1;32m    426\u001b[0m                                        \u001b[0mmethod\u001b[0m\u001b[0;34m=\u001b[0m\u001b[0mmethod\u001b[0m\u001b[0;34m,\u001b[0m\u001b[0;34m\u001b[0m\u001b[0;34m\u001b[0m\u001b[0m\n",
      "\u001b[0;32m~/opt/anaconda3/envs/qiskitenv/lib/python3.9/site-packages/mthree/mitigation.py\u001b[0m in \u001b[0;36m_apply_correction\u001b[0;34m(self, counts, qubits, distance, method, max_iter, tol, return_mitigation_overhead, details)\u001b[0m\n\u001b[1;32m    495\u001b[0m         \u001b[0;32mif\u001b[0m \u001b[0mmethod\u001b[0m \u001b[0;34m==\u001b[0m \u001b[0;34m'direct'\u001b[0m\u001b[0;34m:\u001b[0m\u001b[0;34m\u001b[0m\u001b[0;34m\u001b[0m\u001b[0m\n\u001b[1;32m    496\u001b[0m             \u001b[0mst\u001b[0m \u001b[0;34m=\u001b[0m \u001b[0mperf_counter\u001b[0m\u001b[0;34m(\u001b[0m\u001b[0;34m)\u001b[0m\u001b[0;34m\u001b[0m\u001b[0;34m\u001b[0m\u001b[0m\n\u001b[0;32m--> 497\u001b[0;31m             mit_counts, col_norms, gamma = self._direct_solver(counts, qubits, distance,\n\u001b[0m\u001b[1;32m    498\u001b[0m                                                                return_mitigation_overhead)\n\u001b[1;32m    499\u001b[0m             \u001b[0mdur\u001b[0m \u001b[0;34m=\u001b[0m \u001b[0mperf_counter\u001b[0m\u001b[0;34m(\u001b[0m\u001b[0;34m)\u001b[0m\u001b[0;34m-\u001b[0m\u001b[0mst\u001b[0m\u001b[0;34m\u001b[0m\u001b[0;34m\u001b[0m\u001b[0m\n",
      "\u001b[0;32m~/opt/anaconda3/envs/qiskitenv/lib/python3.9/site-packages/mthree/mitigation.py\u001b[0m in \u001b[0;36m_direct_solver\u001b[0;34m(self, counts, qubits, distance, return_mitigation_overhead)\u001b[0m\n\u001b[1;32m    590\u001b[0m         \u001b[0mcals\u001b[0m \u001b[0;34m=\u001b[0m \u001b[0mself\u001b[0m\u001b[0;34m.\u001b[0m\u001b[0m_form_cals\u001b[0m\u001b[0;34m(\u001b[0m\u001b[0mqubits\u001b[0m\u001b[0;34m)\u001b[0m\u001b[0;34m\u001b[0m\u001b[0;34m\u001b[0m\u001b[0m\n\u001b[1;32m    591\u001b[0m         \u001b[0mnum_bits\u001b[0m \u001b[0;34m=\u001b[0m \u001b[0mlen\u001b[0m\u001b[0;34m(\u001b[0m\u001b[0mqubits\u001b[0m\u001b[0;34m)\u001b[0m\u001b[0;34m\u001b[0m\u001b[0;34m\u001b[0m\u001b[0m\n\u001b[0;32m--> 592\u001b[0;31m         \u001b[0mA\u001b[0m\u001b[0;34m,\u001b[0m \u001b[0msorted_counts\u001b[0m\u001b[0;34m,\u001b[0m \u001b[0mcol_norms\u001b[0m \u001b[0;34m=\u001b[0m \u001b[0m_reduced_cal_matrix\u001b[0m\u001b[0;34m(\u001b[0m\u001b[0mcounts\u001b[0m\u001b[0;34m,\u001b[0m \u001b[0mcals\u001b[0m\u001b[0;34m,\u001b[0m \u001b[0mnum_bits\u001b[0m\u001b[0;34m,\u001b[0m \u001b[0mdistance\u001b[0m\u001b[0;34m)\u001b[0m\u001b[0;34m\u001b[0m\u001b[0;34m\u001b[0m\u001b[0m\n\u001b[0m\u001b[1;32m    593\u001b[0m         \u001b[0mvec\u001b[0m \u001b[0;34m=\u001b[0m \u001b[0mcounts_to_vector\u001b[0m\u001b[0;34m(\u001b[0m\u001b[0msorted_counts\u001b[0m\u001b[0;34m)\u001b[0m\u001b[0;34m\u001b[0m\u001b[0;34m\u001b[0m\u001b[0m\n\u001b[1;32m    594\u001b[0m         \u001b[0mLU\u001b[0m \u001b[0;34m=\u001b[0m \u001b[0mla\u001b[0m\u001b[0;34m.\u001b[0m\u001b[0mlu_factor\u001b[0m\u001b[0;34m(\u001b[0m\u001b[0mA\u001b[0m\u001b[0;34m,\u001b[0m \u001b[0mcheck_finite\u001b[0m\u001b[0;34m=\u001b[0m\u001b[0;32mFalse\u001b[0m\u001b[0;34m)\u001b[0m\u001b[0;34m\u001b[0m\u001b[0;34m\u001b[0m\u001b[0m\n",
      "\u001b[0;31mKeyboardInterrupt\u001b[0m: "
     ]
    }
   ],
   "source": [
    "for n in range(1, max_size + 1):\n",
    "    t1 = time.perf_counter()\n",
    "    results_to_info(n)\n",
    "    t2 = time.perf_counter()\n",
    "    print(n, \"qubit finished ( time:\", t2 - t1, \"s )\")"
   ]
  },
  {
   "cell_type": "code",
   "execution_count": null,
   "id": "852290d5",
   "metadata": {},
   "outputs": [],
   "source": []
  }
 ],
 "metadata": {
  "kernelspec": {
   "display_name": "Python 3 (ipykernel)",
   "language": "python",
   "name": "python3"
  },
  "language_info": {
   "codemirror_mode": {
    "name": "ipython",
    "version": 3
   },
   "file_extension": ".py",
   "mimetype": "text/x-python",
   "name": "python",
   "nbconvert_exporter": "python",
   "pygments_lexer": "ipython3",
   "version": "3.9.7"
  }
 },
 "nbformat": 4,
 "nbformat_minor": 5
}

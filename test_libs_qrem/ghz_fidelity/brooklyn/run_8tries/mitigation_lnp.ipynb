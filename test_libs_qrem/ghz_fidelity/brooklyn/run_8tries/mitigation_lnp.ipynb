{
 "cells": [
  {
   "cell_type": "code",
   "execution_count": 1,
   "id": "worst-austria",
   "metadata": {},
   "outputs": [],
   "source": [
    "import pickle\n",
    "import time\n",
    "import gc"
   ]
  },
  {
   "cell_type": "code",
   "execution_count": 2,
   "id": "be591052",
   "metadata": {},
   "outputs": [
    {
     "name": "stdout",
     "output_type": "stream",
     "text": [
      "max_size: 39\n",
      "number of try: 8\n"
     ]
    }
   ],
   "source": [
    "max_size = 65\n",
    "max_size = 39\n",
    "print(\"max_size:\", max_size)\n",
    "num_try = 8\n",
    "print(\"number of try:\", num_try)"
   ]
  },
  {
   "cell_type": "code",
   "execution_count": 3,
   "id": "6796d5f5",
   "metadata": {
    "scrolled": true
   },
   "outputs": [],
   "source": [
    "from libs_qrem import LeastNormFilter\n",
    "from qiskit.ignis.mitigation.measurement import TensoredMeasFitter"
   ]
  },
  {
   "cell_type": "code",
   "execution_count": 4,
   "id": "d8317feb",
   "metadata": {},
   "outputs": [],
   "source": [
    "def get_info(mitigator):\n",
    "    return {\"exact_one_norm_of_reduced_inv_A\": mitigator.exact_one_norm_of_reduced_inv_A(),\n",
    "            \"mitigated_hist\": mitigator.mitigated_hist(),\n",
    "            \"times\": mitigator.times(),\n",
    "            \"mitigation_stddev\": mitigator.mitigation_stddev(norm_type = \"exact\"),\n",
    "            }"
   ]
  },
  {
   "cell_type": "code",
   "execution_count": 5,
   "id": "d0bc724a",
   "metadata": {},
   "outputs": [],
   "source": [
    "def results_to_info(n):\n",
    "    \n",
    "    with open(\"pkls/results/results_\" + str(n) + \"-qubit.pkl\", \"rb\") as f:\n",
    "        results_list = pickle.load(f)\n",
    "        f.close()\n",
    "    \n",
    "    lnp_ghz_mqc_info_list = []\n",
    "    for j in range(num_try):\n",
    "        lnp_ghz_mqc_info = {}\n",
    "        mitigator = LeastNormFilter(n, TensoredMeasFitter(results_list[j][\"mit\"], mit_pattern=[[k] for k in range(n)]).cal_matrices)\n",
    "        _ = mitigator.apply(results_list[j][\"ghz\"].get_counts())\n",
    "        lnp_ghz_mqc_info[\"ghz\"] = get_info(mitigator)\n",
    "        lnp_ghz_mqc_info[\"mqc\"] = []\n",
    "        for i, mqc_hist in enumerate( results_list[j][\"mqc\"].get_counts() ):\n",
    "            _ = mitigator.apply(mqc_hist)\n",
    "            lnp_ghz_mqc_info[\"mqc\"].append( get_info(mitigator) )\n",
    "        lnp_ghz_mqc_info_list.append(lnp_ghz_mqc_info)\n",
    "    with open(\"pkls/lnp/info_list_\" + str(n) + \"-qubit.pkl\", \"wb\") as f:\n",
    "        pickle.dump(lnp_ghz_mqc_info_list, f)\n",
    "        f.close()"
   ]
  },
  {
   "cell_type": "code",
   "execution_count": 6,
   "id": "b34a7b47",
   "metadata": {},
   "outputs": [
    {
     "name": "stdout",
     "output_type": "stream",
     "text": [
      "1 qubit finished ( time: 0.0068146780000000184 s )\n",
      "2 qubit finished ( time: 0.00957789199999981 s )\n",
      "3 qubit finished ( time: 0.012489881000000036 s )\n",
      "4 qubit finished ( time: 0.019311510999999726 s )\n",
      "5 qubit finished ( time: 0.03258556999999973 s )\n",
      "6 qubit finished ( time: 0.05334397600000029 s )\n",
      "7 qubit finished ( time: 0.09375527499999992 s )\n",
      "8 qubit finished ( time: 0.14656628000000005 s )\n",
      "9 qubit finished ( time: 0.3136502499999998 s )\n",
      "10 qubit finished ( time: 0.389581019 s )\n",
      "11 qubit finished ( time: 0.5675364000000003 s )\n",
      "12 qubit finished ( time: 0.8747284080000002 s )\n",
      "13 qubit finished ( time: 1.3577828800000002 s )\n",
      "14 qubit finished ( time: 2.305712884000001 s )\n",
      "15 qubit finished ( time: 3.368771350000001 s )\n",
      "16 qubit finished ( time: 4.283933285999998 s )\n",
      "17 qubit finished ( time: 7.074868959 s )\n",
      "18 qubit finished ( time: 9.98742936 s )\n",
      "19 qubit finished ( time: 13.782400068000001 s )\n",
      "20 qubit finished ( time: 18.200868630000002 s )\n",
      "21 qubit finished ( time: 21.579190229999995 s )\n",
      "22 qubit finished ( time: 24.495619380000008 s )\n",
      "23 qubit finished ( time: 32.221866089 s )\n",
      "24 qubit finished ( time: 44.95856873700001 s )\n",
      "25 qubit finished ( time: 54.842073016 s )\n",
      "26 qubit finished ( time: 80.95777728300001 s )\n",
      "27 qubit finished ( time: 94.608808898 s )\n",
      "28 qubit finished ( time: 112.92886947100004 s )\n",
      "29 qubit finished ( time: 141.63755745499998 s )\n",
      "30 qubit finished ( time: 163.14995008799997 s )\n",
      "31 qubit finished ( time: 219.72697963300004 s )\n",
      "32 qubit finished ( time: 248.8047437979999 s )\n",
      "33 qubit finished ( time: 274.3109821580001 s )\n",
      "34 qubit finished ( time: 343.319858116 s )\n",
      "35 qubit finished ( time: 431.799780348 s )\n",
      "36 qubit finished ( time: 515.0608682300003 s )\n",
      "37 qubit finished ( time: 551.228798651 s )\n",
      "38 qubit finished ( time: 648.9162096499999 s )\n",
      "39 qubit finished ( time: 725.9677801369994 s )\n"
     ]
    }
   ],
   "source": [
    "for n in range(1, max_size + 1):\n",
    "    t1 = time.perf_counter()\n",
    "    results_to_info(n)\n",
    "    t2 = time.perf_counter()\n",
    "    print(n, \"qubit finished ( time:\", t2 - t1, \"s )\")"
   ]
  }
 ],
 "metadata": {
  "kernelspec": {
   "display_name": "Python 3 (ipykernel)",
   "language": "python",
   "name": "python3"
  },
  "language_info": {
   "codemirror_mode": {
    "name": "ipython",
    "version": 3
   },
   "file_extension": ".py",
   "mimetype": "text/x-python",
   "name": "python",
   "nbconvert_exporter": "python",
   "pygments_lexer": "ipython3",
   "version": "3.9.7"
  }
 },
 "nbformat": 4,
 "nbformat_minor": 5
}

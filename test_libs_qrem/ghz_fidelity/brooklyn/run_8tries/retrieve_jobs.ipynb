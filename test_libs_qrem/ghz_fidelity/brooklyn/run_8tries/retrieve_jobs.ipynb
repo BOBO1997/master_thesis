{
 "cells": [
  {
   "cell_type": "code",
   "execution_count": 1,
   "metadata": {},
   "outputs": [],
   "source": [
    "import sys\n",
    "import time\n",
    "import numpy as np\n",
    "import pickle\n",
    "from pprint import pprint"
   ]
  },
  {
   "cell_type": "code",
   "execution_count": 2,
   "metadata": {},
   "outputs": [],
   "source": [
    "from qiskit import Aer, IBMQ"
   ]
  },
  {
   "cell_type": "code",
   "execution_count": 3,
   "metadata": {},
   "outputs": [],
   "source": [
    "IBMQ.load_account()\n",
    "provider = IBMQ.get_provider(hub='ibm-q-utokyo', group='internal', project='hirashi-jst')\n",
    "device = provider.backend.ibmq_brooklyn"
   ]
  },
  {
   "cell_type": "code",
   "execution_count": 4,
   "metadata": {},
   "outputs": [],
   "source": [
    "sys.path.append(\"../../\")\n",
    "import importlib\n",
    "import lib_preprocessing\n",
    "importlib.reload(lib_preprocessing)\n",
    "from lib_preprocessing import *"
   ]
  },
  {
   "cell_type": "code",
   "execution_count": 5,
   "metadata": {},
   "outputs": [
    {
     "name": "stdout",
     "output_type": "stream",
     "text": [
      "max_size: 39\n"
     ]
    }
   ],
   "source": [
    "max_size = 65\n",
    "max_size = 39\n",
    "print(\"max_size:\", max_size)\n",
    "with open(\"pkls/job_list_dict.pkl\", \"rb\") as f:\n",
    "    job_list_dict = pickle.load(f)"
   ]
  },
  {
   "cell_type": "code",
   "execution_count": 6,
   "metadata": {},
   "outputs": [
    {
     "name": "stdout",
     "output_type": "stream",
     "text": [
      "['1-qubit', '2-qubit', '3-qubit', '4-qubit', '5-qubit']\n"
     ]
    }
   ],
   "source": [
    "file_names = [str(i + 1) + \"-qubit\" for i in range(max_size)]\n",
    "pprint(file_names[:5])"
   ]
  },
  {
   "cell_type": "code",
   "execution_count": 7,
   "metadata": {},
   "outputs": [
    {
     "name": "stdout",
     "output_type": "stream",
     "text": [
      "number of try: 8\n"
     ]
    }
   ],
   "source": [
    "num_try = 8\n",
    "print(\"number of try:\", num_try)"
   ]
  },
  {
   "cell_type": "code",
   "execution_count": 8,
   "metadata": {},
   "outputs": [
    {
     "name": "stdout",
     "output_type": "stream",
     "text": [
      "1 qubit retrieved (time: 27.897290814999998 s)\n",
      "2 qubit retrieved (time: 23.780134941 s)\n",
      "3 qubit retrieved (time: 14.446233233999997 s)\n",
      "4 qubit retrieved (time: 10.622624535 s)\n",
      "5 qubit retrieved (time: 12.312696195000001 s)\n",
      "6 qubit retrieved (time: 11.871382541999992 s)\n",
      "7 qubit retrieved (time: 11.554715536999993 s)\n",
      "8 qubit retrieved (time: 10.657639637000017 s)\n",
      "9 qubit retrieved (time: 12.046613843000017 s)\n",
      "10 qubit retrieved (time: 17.41325362400002 s)\n",
      "11 qubit retrieved (time: 21.87886560199999 s)\n",
      "12 qubit retrieved (time: 31.14311849699999 s)\n",
      "13 qubit retrieved (time: 14.010554769999999 s)\n",
      "14 qubit retrieved (time: 12.647571614000015 s)\n",
      "15 qubit retrieved (time: 14.489175393000039 s)\n",
      "16 qubit retrieved (time: 14.679326497999966 s)\n",
      "17 qubit retrieved (time: 23.830318277999993 s)\n",
      "18 qubit retrieved (time: 17.783651144999965 s)\n",
      "19 qubit retrieved (time: 31.237035467999988 s)\n",
      "20 qubit retrieved (time: 35.371909648999974 s)\n",
      "21 qubit retrieved (time: 20.930948016000002 s)\n",
      "22 qubit retrieved (time: 23.98657873799999 s)\n",
      "23 qubit retrieved (time: 27.839931811999975 s)\n",
      "24 qubit retrieved (time: 28.207872381000016 s)\n",
      "25 qubit retrieved (time: 34.17684317800001 s)\n",
      "26 qubit retrieved (time: 36.312772206999966 s)\n",
      "27 qubit retrieved (time: 36.94005051600004 s)\n",
      "28 qubit retrieved (time: 32.37028338899995 s)\n",
      "29 qubit retrieved (time: 69.86157539400006 s)\n",
      "30 qubit retrieved (time: 147.38565309399996 s)\n",
      "31 qubit retrieved (time: 50.73045486199999 s)\n",
      "32 qubit retrieved (time: 40.114839070000016 s)\n",
      "33 qubit retrieved (time: 45.988039871999945 s)\n",
      "34 qubit retrieved (time: 54.466135771999916 s)\n",
      "35 qubit retrieved (time: 65.71916109299991 s)\n",
      "36 qubit retrieved (time: 71.231350067 s)\n",
      "37 qubit retrieved (time: 73.49903183099991 s)\n",
      "38 qubit retrieved (time: 64.7356203249999 s)\n",
      "39 qubit retrieved (time: 69.4517325490001 s)\n"
     ]
    }
   ],
   "source": [
    "for i in range(max_size):\n",
    "    file_name = \"results_\" + str(i + 1) + \"-qubit\"\n",
    "    results_dict_list = []\n",
    "    t1 = time.perf_counter()\n",
    "    for j in range(num_try):\n",
    "        ghz_mqc_mit_result = job_ids_to_result([job_list_dict[str(i + 1)+\"-qubit\"][j]], device)\n",
    "        result_list = separate_results(ghz_mqc_mit_result[0])\n",
    "        ghz_results = merge_results([result_list[0]])\n",
    "        mqc_results = merge_results(result_list[1:-2])\n",
    "        mit_results = merge_results(result_list[-2:])\n",
    "        results_dict_list.append({\"ghz\":ghz_results, \"mqc\": mqc_results,\"mit\":mit_results})\n",
    "    with open(\"pkls/raw_results/\" + file_name + \".pkl\", \"wb\") as f:\n",
    "        pickle.dump(results_dict_list, f)\n",
    "    t2 = time.perf_counter()\n",
    "    print(i + 1, \"qubit retrieved (time:\", t2 - t1, \"s)\")"
   ]
  },
  {
   "cell_type": "code",
   "execution_count": null,
   "metadata": {},
   "outputs": [],
   "source": [
    "max_size = 65\n",
    "print(\"max_size:\", max_size)"
   ]
  },
  {
   "cell_type": "code",
   "execution_count": null,
   "metadata": {},
   "outputs": [],
   "source": [
    "for i in range(max_size):\n",
    "    file_name = \"results_\" + str(i + 1) + \"-qubit\"\n",
    "    results_dict_list = []\n",
    "    t1 = time.perf_counter()\n",
    "    for j in range(num_try):\n",
    "        ghz_mqc_mit_result = job_ids_to_result([job_list_dict[str(i + 1)+\"-qubit\"][j]], device)\n",
    "        result_list = separate_results(ghz_mqc_mit_result[0])\n",
    "        ghz_results = merge_results([result_list[0]])\n",
    "        mqc_results = merge_results(result_list[1:-2])\n",
    "        mit_results = merge_results(result_list[-2:])\n",
    "        results_dict_list.append({\"ghz\":ghz_results, \"mqc\": mqc_results,\"mit\":mit_results})\n",
    "    with open(\"pkls/raw_results/\" + file_name + \".pkl\", \"wb\") as f:\n",
    "        pickle.dump(results_dict_list, f)\n",
    "    t2 = time.perf_counter()\n",
    "    print(i + 1, \"qubit retrieved (time:\", t2 - t1, \"s)\")"
   ]
  }
 ],
 "metadata": {
  "kernelspec": {
   "display_name": "Python 3 (ipykernel)",
   "language": "python",
   "name": "python3"
  },
  "language_info": {
   "codemirror_mode": {
    "name": "ipython",
    "version": 3
   },
   "file_extension": ".py",
   "mimetype": "text/x-python",
   "name": "python",
   "nbconvert_exporter": "python",
   "pygments_lexer": "ipython3",
   "version": "3.9.7"
  }
 },
 "nbformat": 4,
 "nbformat_minor": 4
}

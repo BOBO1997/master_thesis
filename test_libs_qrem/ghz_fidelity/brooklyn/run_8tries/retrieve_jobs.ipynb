{
 "cells": [
  {
   "cell_type": "code",
   "execution_count": 1,
   "metadata": {},
   "outputs": [],
   "source": [
    "import sys\n",
    "import numpy as np\n",
    "import pickle\n",
    "from pprint import pprint"
   ]
  },
  {
   "cell_type": "code",
   "execution_count": 2,
   "metadata": {},
   "outputs": [],
   "source": [
    "from qiskit import Aer, IBMQ"
   ]
  },
  {
   "cell_type": "code",
   "execution_count": 3,
   "metadata": {},
   "outputs": [],
   "source": [
    "IBMQ.load_account()\n",
    "provider = IBMQ.get_provider(hub='ibm-q-utokyo', group='internal', project='hirashi-jst')\n",
    "device = provider.backend.ibmq_brooklyn"
   ]
  },
  {
   "cell_type": "code",
   "execution_count": 4,
   "metadata": {},
   "outputs": [],
   "source": [
    "sys.path.append(\"../../\")\n",
    "import importlib\n",
    "import lib_preprocessing\n",
    "importlib.reload(lib_preprocessing)\n",
    "from lib_preprocessing import *"
   ]
  },
  {
   "cell_type": "code",
   "execution_count": 5,
   "metadata": {},
   "outputs": [],
   "source": [
    "max_size = 65\n",
    "max_size = 32\n",
    "with open(\"pkls/job_list_dict.pkl\", \"rb\") as f:\n",
    "    job_list_dict = pickle.load(f)"
   ]
  },
  {
   "cell_type": "code",
   "execution_count": 6,
   "metadata": {},
   "outputs": [
    {
     "name": "stdout",
     "output_type": "stream",
     "text": [
      "['1-qubit', '2-qubit', '3-qubit', '4-qubit', '5-qubit']\n"
     ]
    }
   ],
   "source": [
    "file_names = [str(i + 1) + \"-qubit\" for i in range(max_size)]\n",
    "pprint(file_names[:5])"
   ]
  },
  {
   "cell_type": "code",
   "execution_count": 7,
   "metadata": {},
   "outputs": [
    {
     "name": "stdout",
     "output_type": "stream",
     "text": [
      "number of try: 8\n"
     ]
    }
   ],
   "source": [
    "num_try = 8\n",
    "print(\"number of try:\", num_try)"
   ]
  },
  {
   "cell_type": "code",
   "execution_count": null,
   "metadata": {},
   "outputs": [],
   "source": [
    "for i in range(max_size):\n",
    "    file_name = \"results_\" + str(i + 1) + \"-qubit\"\n",
    "    results_list_dict = {\"ghz\": [], \"mqc\": [[] for _ in range(2 * (i + 1) + 2)], \"mit\": []} # 1d, 2d, 2d\n",
    "    for j in range(num_try):\n",
    "        ghz_mqc_mit_result = job_ids_to_result([job_list_dict[str(i + 1)+\"-qubit\"][j]], device)\n",
    "        result_list = separate_results(ghz_mqc_mit_result[0])\n",
    "        ghz_results_list.append(result_list[0]) # add ghz\n",
    "        ghz_results = merge_results([result_list[0]])\n",
    "        for k in range(2 * (i + 1) + 2):\n",
    "            mqc_results_list[k].append(result_list[1:-2][k])\n",
    "        mit_results = merge_results(result_list[-2:])\n",
    "        results_list_dict[\"ghz\"].append(ghz_results)\n",
    "        for k in range(2 * (i + 1) + 2):\n",
    "            results_list_dict[\"mqc\"][k].append(mqc_results)\n",
    "        results_list_dict[\"mit\"].append(mit_results)\n",
    "        {\"ghz\":ghz_results, \"mqc\": mqc_results,\"mit\":mit_results}\n",
    "    with open(\"pkls/raw_results/\" + file_name + \".pkl\", \"wb\") as f:\n",
    "        pickle.dump({\"ghz\":ghz_results, \"mqc\": mqc_results,\"mit\":mit_results}, f)\n",
    "    print(i + 1, \"qubit retrieved\")"
   ]
  },
  {
   "cell_type": "code",
   "execution_count": null,
   "metadata": {},
   "outputs": [],
   "source": [
    "for i in range(max_size):\n",
    "    file_name = \"results_\" + str(i + 1) + \"-qubit\"\n",
    "    results_dict_list = []\n",
    "    for j in range(num_try):\n",
    "        ghz_mqc_mit_result = job_ids_to_result(job_list_dict[str(i + 1)+\"-qubit\"][j], device)\n",
    "        result_list = separate_results(ghz_mqc_mit_result[0])\n",
    "        ghz_results = merge_results([result_list[0]])\n",
    "        mqc_results = merge_results(result_list[1:-2])\n",
    "        mit_results = merge_results(result_list[-2:])\n",
    "        results_dict_list.apend({\"ghz\":ghz_results, \"mqc\": mqc_results,\"mit\":mit_results})\n",
    "    with open(\"pkls/raw_results/\" + file_name + \".pkl\", \"wb\") as f:\n",
    "        pickle.dump(results_dict_list, f)\n",
    "    print(i + 1, \"qubit retrieved\")"
   ]
  },
  {
   "cell_type": "code",
   "execution_count": 7,
   "metadata": {
    "scrolled": true
   },
   "outputs": [
    {
     "name": "stdout",
     "output_type": "stream",
     "text": [
      "1 qubit retrieved\n",
      "2 qubit retrieved\n",
      "3 qubit retrieved\n",
      "4 qubit retrieved\n",
      "5 qubit retrieved\n",
      "6 qubit retrieved\n",
      "7 qubit retrieved\n",
      "8 qubit retrieved\n",
      "9 qubit retrieved\n",
      "10 qubit retrieved\n",
      "11 qubit retrieved\n",
      "12 qubit retrieved\n",
      "13 qubit retrieved\n",
      "14 qubit retrieved\n",
      "15 qubit retrieved\n",
      "16 qubit retrieved\n",
      "17 qubit retrieved\n",
      "18 qubit retrieved\n",
      "19 qubit retrieved\n",
      "20 qubit retrieved\n",
      "21 qubit retrieved\n",
      "22 qubit retrieved\n",
      "23 qubit retrieved\n",
      "24 qubit retrieved\n",
      "25 qubit retrieved\n",
      "26 qubit retrieved\n",
      "27 qubit retrieved\n",
      "28 qubit retrieved\n",
      "29 qubit retrieved\n",
      "30 qubit retrieved\n",
      "31 qubit retrieved\n",
      "32 qubit retrieved\n",
      "33 qubit retrieved\n",
      "34 qubit retrieved\n",
      "35 qubit retrieved\n",
      "36 qubit retrieved\n",
      "37 qubit retrieved\n",
      "38 qubit retrieved\n",
      "39 qubit retrieved\n",
      "40 qubit retrieved\n",
      "41 qubit retrieved\n",
      "42 qubit retrieved\n",
      "43 qubit retrieved\n",
      "44 qubit retrieved\n",
      "45 qubit retrieved\n",
      "46 qubit retrieved\n",
      "47 qubit retrieved\n",
      "48 qubit retrieved\n",
      "49 qubit retrieved\n",
      "50 qubit retrieved\n",
      "51 qubit retrieved\n",
      "52 qubit retrieved\n",
      "53 qubit retrieved\n",
      "54 qubit retrieved\n",
      "55 qubit retrieved\n",
      "56 qubit retrieved\n",
      "57 qubit retrieved\n",
      "58 qubit retrieved\n",
      "59 qubit retrieved\n",
      "60 qubit retrieved\n",
      "61 qubit retrieved\n",
      "62 qubit retrieved\n",
      "63 qubit retrieved\n",
      "64 qubit retrieved\n",
      "65 qubit retrieved\n"
     ]
    }
   ],
   "source": [
    "for i in range(max_size):\n",
    "    file_name = \"results_\" + str(i + 1) + \"-qubit\"\n",
    "    ghz_mqc_mit_result = job_ids_to_result([job_list[i]], device)\n",
    "    result_list = separate_results(ghz_mqc_mit_result[0])\n",
    "    ghz_results = merge_results([result_list[0]])\n",
    "    mqc_results = merge_results(result_list[1:-2])\n",
    "    mit_results = merge_results(result_list[-2:])\n",
    "    with open(\"pkls/raw_results/\" + file_name + \".pkl\", \"wb\") as f:\n",
    "        pickle.dump({\"ghz\":ghz_results, \"mqc\": mqc_results,\"mit\":mit_results}, f)\n",
    "    print(i + 1, \"qubit retrieved\")"
   ]
  },
  {
   "cell_type": "code",
   "execution_count": null,
   "metadata": {},
   "outputs": [],
   "source": []
  }
 ],
 "metadata": {
  "kernelspec": {
   "display_name": "Python 3 (ipykernel)",
   "language": "python",
   "name": "python3"
  },
  "language_info": {
   "codemirror_mode": {
    "name": "ipython",
    "version": 3
   },
   "file_extension": ".py",
   "mimetype": "text/x-python",
   "name": "python",
   "nbconvert_exporter": "python",
   "pygments_lexer": "ipython3",
   "version": "3.9.7"
  }
 },
 "nbformat": 4,
 "nbformat_minor": 4
}

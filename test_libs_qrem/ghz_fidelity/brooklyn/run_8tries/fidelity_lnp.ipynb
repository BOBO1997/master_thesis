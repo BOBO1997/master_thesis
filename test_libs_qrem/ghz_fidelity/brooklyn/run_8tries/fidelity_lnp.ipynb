{
 "cells": [
  {
   "cell_type": "code",
   "execution_count": 1,
   "id": "5a0e59fb",
   "metadata": {},
   "outputs": [],
   "source": [
    "import numpy as np\n",
    "import cmath\n",
    "import matplotlib.pyplot as plt\n",
    "%matplotlib inline\n",
    "import pickle\n",
    "import importlib"
   ]
  },
  {
   "cell_type": "code",
   "execution_count": 2,
   "id": "a881de14",
   "metadata": {},
   "outputs": [],
   "source": [
    "def P(n, shots, hist):\n",
    "    assert n == len(list(hist.keys())[0])\n",
    "    count = 0\n",
    "    count += hist.get(\"0\" * n, 0) / shots\n",
    "    count += hist.get(\"1\" * n, 0) / shots\n",
    "    return count"
   ]
  },
  {
   "cell_type": "code",
   "execution_count": 3,
   "id": "5a6b3e5d",
   "metadata": {},
   "outputs": [],
   "source": [
    "def S_phi(n, shots, hist):\n",
    "    assert n == len(list(hist.keys())[0])\n",
    "    return hist.get(\"0\" * n, 0) / shots"
   ]
  },
  {
   "cell_type": "code",
   "execution_count": 4,
   "id": "566e5b1f",
   "metadata": {},
   "outputs": [],
   "source": [
    "def C(n, shots, hists):\n",
    "    assert n == len(list(hists[0].keys())[0])\n",
    "    iq = 0\n",
    "    for i, hist in enumerate(hists):\n",
    "        phi = (np.pi * i) / (n + 1)\n",
    "        iq += cmath.exp(phi * n * 1j) * S_phi(n, shots, hist)\n",
    "    iq = abs(iq) / len(hists)\n",
    "    return 2 * np.sqrt(iq)"
   ]
  },
  {
   "cell_type": "code",
   "execution_count": 5,
   "id": "239b7e59",
   "metadata": {},
   "outputs": [
    {
     "name": "stdout",
     "output_type": "stream",
     "text": [
      "max_size: 39\n",
      "shots: 8192\n",
      "num_try: 8\n"
     ]
    }
   ],
   "source": [
    "max_size = 65\n",
    "max_size = 39\n",
    "shots = 8192\n",
    "num_try = 8\n",
    "print(\"max_size:\", max_size)\n",
    "print(\"shots:\", shots)\n",
    "print(\"num_try:\", num_try)"
   ]
  },
  {
   "cell_type": "code",
   "execution_count": 6,
   "id": "9b8760a1",
   "metadata": {
    "scrolled": true
   },
   "outputs": [
    {
     "name": "stdout",
     "output_type": "stream",
     "text": [
      "1 qubit finished (average fidelity:  0.9988565461877769 )\n",
      "2 qubit finished (average fidelity:  0.9852501089141154 )\n",
      "3 qubit finished (average fidelity:  0.9744049223373864 )\n",
      "4 qubit finished (average fidelity:  0.9706941973284731 )\n",
      "5 qubit finished (average fidelity:  0.9346840990497616 )\n",
      "6 qubit finished (average fidelity:  0.9260417026275838 )\n",
      "7 qubit finished (average fidelity:  0.8700192474140638 )\n",
      "8 qubit finished (average fidelity:  0.8997875612283268 )\n",
      "9 qubit finished (average fidelity:  0.8279871214725718 )\n",
      "10 qubit finished (average fidelity:  0.8157523593607447 )\n",
      "11 qubit finished (average fidelity:  0.8110429186844689 )\n",
      "12 qubit finished (average fidelity:  0.8281314467852203 )\n",
      "13 qubit finished (average fidelity:  0.8059569886051942 )\n",
      "14 qubit finished (average fidelity:  0.7652419119261458 )\n",
      "15 qubit finished (average fidelity:  0.7306468425715911 )\n",
      "16 qubit finished (average fidelity:  0.7208388182388747 )\n",
      "17 qubit finished (average fidelity:  0.69628779705705 )\n",
      "18 qubit finished (average fidelity:  0.6742929340528375 )\n",
      "19 qubit finished (average fidelity:  0.6794196050497598 )\n",
      "20 qubit finished (average fidelity:  0.6747196270187885 )\n",
      "21 qubit finished (average fidelity:  0.6642449726602396 )\n",
      "22 qubit finished (average fidelity:  0.6647961241270669 )\n",
      "23 qubit finished (average fidelity:  0.6507454982916476 )\n",
      "24 qubit finished (average fidelity:  0.612403427848252 )\n",
      "25 qubit finished (average fidelity:  0.6052083655280993 )\n",
      "26 qubit finished (average fidelity:  0.5503421248248075 )\n",
      "27 qubit finished (average fidelity:  0.5433459009715942 )\n",
      "28 qubit finished (average fidelity:  0.5272536482294403 )\n",
      "29 qubit finished (average fidelity:  0.506321146005501 )\n",
      "30 qubit finished (average fidelity:  0.4939610942420899 )\n",
      "31 qubit finished (average fidelity:  0.4707809722904882 )\n",
      "32 qubit finished (average fidelity:  0.4503340045349681 )\n",
      "33 qubit finished (average fidelity:  0.45807351493236426 )\n",
      "34 qubit finished (average fidelity:  0.44777651596184553 )\n",
      "35 qubit finished (average fidelity:  0.4173331045953482 )\n",
      "36 qubit finished (average fidelity:  0.41153250131043595 )\n",
      "37 qubit finished (average fidelity:  0.40430659397565355 )\n",
      "38 qubit finished (average fidelity:  0.4060853725230593 )\n",
      "39 qubit finished (average fidelity:  0.39242464253072196 )\n"
     ]
    }
   ],
   "source": [
    "lnp_fidelities_list = []\n",
    "for n in range(1, max_size + 1):\n",
    "    with open(\"./pkls/lnp/info_list_\" + str(n) + \"-qubit.pkl\", \"rb\") as f:\n",
    "        lnp_info_list = pickle.load(f)\n",
    "    ps, cs = [], []\n",
    "    fidelities = []\n",
    "    for j in range(num_try):\n",
    "        p = P(n, shots, lnp_info_list[j][\"ghz\"][\"mitigated_hist\"])\n",
    "        c = C(n, shots, [info[\"mitigated_hist\"] for info in lnp_info_list[j][\"mqc\"]])\n",
    "        ps.append( p )\n",
    "        cs.append( c )\n",
    "        fidelities.append( (p + c) / 2 )\n",
    "    lnp_fidelities_list.append({\"ps\": ps, \"cs\": cs, \"fidelities\": fidelities })\n",
    "    print(n, \"qubit finished (average fidelity: \", np.mean(fidelities), \")\")"
   ]
  },
  {
   "cell_type": "code",
   "execution_count": 7,
   "id": "94e967b8",
   "metadata": {
    "scrolled": true
   },
   "outputs": [
    {
     "name": "stdout",
     "output_type": "stream",
     "text": [
      "1 qubit finished\n",
      "2 qubit finished\n",
      "3 qubit finished\n",
      "4 qubit finished\n",
      "5 qubit finished\n",
      "6 qubit finished\n",
      "7 qubit finished\n",
      "8 qubit finished\n",
      "9 qubit finished\n",
      "10 qubit finished\n",
      "11 qubit finished\n",
      "12 qubit finished\n",
      "13 qubit finished\n",
      "14 qubit finished\n",
      "15 qubit finished\n",
      "16 qubit finished\n",
      "17 qubit finished\n",
      "18 qubit finished\n",
      "19 qubit finished\n",
      "20 qubit finished\n",
      "21 qubit finished\n",
      "22 qubit finished\n",
      "23 qubit finished\n",
      "24 qubit finished\n",
      "25 qubit finished\n",
      "26 qubit finished\n",
      "27 qubit finished\n",
      "28 qubit finished\n",
      "29 qubit finished\n",
      "30 qubit finished\n",
      "31 qubit finished\n",
      "32 qubit finished\n",
      "33 qubit finished\n",
      "34 qubit finished\n",
      "35 qubit finished\n",
      "36 qubit finished\n",
      "37 qubit finished\n",
      "38 qubit finished\n",
      "39 qubit finished\n"
     ]
    }
   ],
   "source": [
    "lnp_S_phis_list_list = []\n",
    "for n in range(1, max_size + 1):\n",
    "    with open(\"./pkls/lnp/info_list_\" + str(n) + \"-qubit.pkl\", \"rb\") as f:\n",
    "        lnp_info_list = pickle.load(f)\n",
    "    lnp_S_phis_list = []\n",
    "    for j in range(num_try):\n",
    "        lnp_S_phis = []\n",
    "        for i, hist in enumerate([info[\"mitigated_hist\"] for info in lnp_info_list[j][\"mqc\"]]):\n",
    "            lnp_S_phis.append(S_phi(n, shots, hist))\n",
    "        lnp_S_phis_list.append(lnp_S_phis)\n",
    "    lnp_S_phis_list_list.append(lnp_S_phis_list)\n",
    "    print(n, \"qubit finished\")"
   ]
  },
  {
   "cell_type": "code",
   "execution_count": 8,
   "id": "2e0a8617",
   "metadata": {},
   "outputs": [],
   "source": [
    "with open(\"./pkls/lnp/fidelity_info.pkl\", \"wb\") as f:\n",
    "    pickle.dump({\"fidelities_list\": lnp_fidelities_list, \"S_phis_list_list\": lnp_S_phis_list_list}, f)"
   ]
  }
 ],
 "metadata": {
  "kernelspec": {
   "display_name": "Python 3 (ipykernel)",
   "language": "python",
   "name": "python3"
  },
  "language_info": {
   "codemirror_mode": {
    "name": "ipython",
    "version": 3
   },
   "file_extension": ".py",
   "mimetype": "text/x-python",
   "name": "python",
   "nbconvert_exporter": "python",
   "pygments_lexer": "ipython3",
   "version": "3.9.7"
  }
 },
 "nbformat": 4,
 "nbformat_minor": 5
}

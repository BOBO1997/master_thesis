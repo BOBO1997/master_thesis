{
 "cells": [
  {
   "cell_type": "code",
   "execution_count": 1,
   "id": "worst-austria",
   "metadata": {},
   "outputs": [],
   "source": [
    "import pickle\n",
    "import time\n",
    "import gc"
   ]
  },
  {
   "cell_type": "code",
   "execution_count": 2,
   "id": "be591052",
   "metadata": {},
   "outputs": [
    {
     "name": "stdout",
     "output_type": "stream",
     "text": [
      "max_size: 39\n",
      "number of try: 8\n"
     ]
    }
   ],
   "source": [
    "max_size = 65\n",
    "max_size = 39\n",
    "print(\"max_size:\", max_size)\n",
    "num_try = 8\n",
    "print(\"number of try:\", num_try)"
   ]
  },
  {
   "cell_type": "code",
   "execution_count": 3,
   "id": "d0bc724a",
   "metadata": {},
   "outputs": [],
   "source": [
    "def results_to_info(n):\n",
    "    \n",
    "    with open(\"pkls/results/results_\" + str(n) + \"-qubit.pkl\", \"rb\") as f:\n",
    "        results_list = pickle.load(f)\n",
    "        f.close()\n",
    "    \n",
    "    raw_ghz_mqc_info_list = []\n",
    "    for j in range(num_try):\n",
    "        raw_ghz_mqc_info = {}\n",
    "        raw_ghz_mqc_info[\"ghz\"] = {\"mitigated_hist\": results_list[j][\"ghz\"].get_counts()}\n",
    "        raw_ghz_mqc_info[\"mqc\"] = []\n",
    "        for i, mqc_hist in enumerate( results_list[j][\"mqc\"].get_counts() ):\n",
    "            raw_ghz_mqc_info[\"mqc\"].append( {\"mitigated_hist\": mqc_hist} )\n",
    "        raw_ghz_mqc_info_list.append(raw_ghz_mqc_info)\n",
    "    with open(\"pkls/raw/info_list_\" + str(n) + \"-qubit.pkl\", \"wb\") as f:\n",
    "        pickle.dump(raw_ghz_mqc_info_list, f)\n",
    "        f.close()"
   ]
  },
  {
   "cell_type": "code",
   "execution_count": 4,
   "id": "b34a7b47",
   "metadata": {},
   "outputs": [
    {
     "name": "stdout",
     "output_type": "stream",
     "text": [
      "1 qubit finished ( time: 0.8850747330000001 s )\n",
      "2 qubit finished ( time: 0.005830518000000007 s )\n",
      "3 qubit finished ( time: 0.005466835999999864 s )\n",
      "4 qubit finished ( time: 0.009469591 s )\n",
      "5 qubit finished ( time: 0.01497266900000005 s )\n",
      "6 qubit finished ( time: 0.02413087699999994 s )\n",
      "7 qubit finished ( time: 0.08928865399999997 s )\n",
      "8 qubit finished ( time: 0.06030492100000018 s )\n",
      "9 qubit finished ( time: 0.09309124300000016 s )\n",
      "10 qubit finished ( time: 0.1272270470000001 s )\n",
      "11 qubit finished ( time: 0.16527691399999966 s )\n",
      "12 qubit finished ( time: 0.26646163199999995 s )\n",
      "13 qubit finished ( time: 0.2922083950000003 s )\n",
      "14 qubit finished ( time: 0.468035644 s )\n",
      "15 qubit finished ( time: 0.558713435 s )\n",
      "16 qubit finished ( time: 0.7188399390000004 s )\n",
      "17 qubit finished ( time: 0.9365500190000002 s )\n",
      "18 qubit finished ( time: 1.1417697689999997 s )\n",
      "19 qubit finished ( time: 1.2138862249999995 s )\n",
      "20 qubit finished ( time: 1.450790467000001 s )\n",
      "21 qubit finished ( time: 1.6994464010000012 s )\n",
      "22 qubit finished ( time: 2.3571759320000005 s )\n",
      "23 qubit finished ( time: 2.63467681 s )\n",
      "24 qubit finished ( time: 2.586891903999998 s )\n",
      "25 qubit finished ( time: 2.7412479949999984 s )\n",
      "26 qubit finished ( time: 3.322972250000003 s )\n",
      "27 qubit finished ( time: 3.7490612500000005 s )\n",
      "28 qubit finished ( time: 4.118845693999997 s )\n",
      "29 qubit finished ( time: 4.645850868000004 s )\n",
      "30 qubit finished ( time: 5.472136456000001 s )\n",
      "31 qubit finished ( time: 6.553518944000004 s )\n",
      "32 qubit finished ( time: 7.826149956999998 s )\n",
      "33 qubit finished ( time: 6.947952715 s )\n",
      "34 qubit finished ( time: 9.470838817000008 s )\n",
      "35 qubit finished ( time: 9.361397842000002 s )\n",
      "36 qubit finished ( time: 10.060982718999995 s )\n",
      "37 qubit finished ( time: 10.122611007000003 s )\n",
      "38 qubit finished ( time: 10.748009054999997 s )\n",
      "39 qubit finished ( time: 12.190413602999996 s )\n"
     ]
    }
   ],
   "source": [
    "for n in range(1, max_size + 1):\n",
    "    t1 = time.perf_counter()\n",
    "    results_to_info(n)\n",
    "    t2 = time.perf_counter()\n",
    "    print(n, \"qubit finished ( time:\", t2 - t1, \"s )\")"
   ]
  }
 ],
 "metadata": {
  "kernelspec": {
   "display_name": "Python 3 (ipykernel)",
   "language": "python",
   "name": "python3"
  },
  "language_info": {
   "codemirror_mode": {
    "name": "ipython",
    "version": 3
   },
   "file_extension": ".py",
   "mimetype": "text/x-python",
   "name": "python",
   "nbconvert_exporter": "python",
   "pygments_lexer": "ipython3",
   "version": "3.9.7"
  }
 },
 "nbformat": 4,
 "nbformat_minor": 5
}

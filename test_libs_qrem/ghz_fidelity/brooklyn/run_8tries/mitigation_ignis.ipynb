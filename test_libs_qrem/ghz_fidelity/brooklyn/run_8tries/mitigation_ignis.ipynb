{
 "cells": [
  {
   "cell_type": "code",
   "execution_count": 1,
   "id": "worst-austria",
   "metadata": {},
   "outputs": [],
   "source": [
    "import pickle\n",
    "import time\n",
    "import gc"
   ]
  },
  {
   "cell_type": "code",
   "execution_count": 2,
   "id": "be591052",
   "metadata": {},
   "outputs": [
    {
     "name": "stdout",
     "output_type": "stream",
     "text": [
      "max_size: 26\n",
      "number of try: 8\n"
     ]
    }
   ],
   "source": [
    "max_size = 65\n",
    "max_size = 26\n",
    "print(\"max_size:\", max_size)\n",
    "num_try = 8\n",
    "print(\"number of try:\", num_try)"
   ]
  },
  {
   "cell_type": "code",
   "execution_count": 3,
   "id": "6796d5f5",
   "metadata": {
    "scrolled": true
   },
   "outputs": [],
   "source": [
    "from libs_qrem import IgnisFilter\n",
    "from qiskit.ignis.mitigation.measurement import TensoredMeasFitter"
   ]
  },
  {
   "cell_type": "code",
   "execution_count": 4,
   "id": "d8317feb",
   "metadata": {},
   "outputs": [],
   "source": [
    "def get_info(mitigator):\n",
    "    return {\"exact_one_norm_of_reduced_inv_A\": mitigator.exact_one_norm_of_reduced_inv_A(),\n",
    "            \"mitigated_hist\": mitigator.mitigated_hist(),\n",
    "            \"times\": mitigator.times(),\n",
    "            \"mitigation_stddev\": mitigator.mitigation_stddev(norm_type = \"exact\"),\n",
    "            }"
   ]
  },
  {
   "cell_type": "code",
   "execution_count": 5,
   "id": "d0bc724a",
   "metadata": {},
   "outputs": [],
   "source": [
    "def results_to_info(n):\n",
    "    \n",
    "    with open(\"pkls/results/results_\" + str(n) + \"-qubit.pkl\", \"rb\") as f:\n",
    "        results_list = pickle.load(f)\n",
    "        f.close()\n",
    "    \n",
    "    ignis_ghz_mqc_info_list = []\n",
    "    for j in range(num_try):\n",
    "        ignis_ghz_mqc_info = {}\n",
    "        mitigator = IgnisFilter(n, TensoredMeasFitter(results_list[j][\"mit\"], mit_pattern=[[k] for k in range(n)]).cal_matrices)\n",
    "        _ = mitigator.apply(results_list[j][\"ghz\"].get_counts())\n",
    "        ignis_ghz_mqc_info[\"ghz\"] = get_info(mitigator)\n",
    "        ignis_ghz_mqc_info[\"mqc\"] = []\n",
    "        for i, mqc_hist in enumerate( results_list[j][\"mqc\"].get_counts() ):\n",
    "            _ = mitigator.apply(mqc_hist)\n",
    "            ignis_ghz_mqc_info[\"mqc\"].append( get_info(mitigator) )\n",
    "        ignis_ghz_mqc_info_list.append(ignis_ghz_mqc_info)\n",
    "    with open(\"pkls/ignis/info_list_\" + str(n) + \"-qubit.pkl\", \"wb\") as f:\n",
    "        pickle.dump(ignis_ghz_mqc_info_list, f)\n",
    "        f.close()"
   ]
  },
  {
   "cell_type": "code",
   "execution_count": 6,
   "id": "b34a7b47",
   "metadata": {},
   "outputs": [
    {
     "name": "stdout",
     "output_type": "stream",
     "text": [
      "1 qubit finished ( time: 0.007463927999999953 s )\n",
      "2 qubit finished ( time: 0.009319926000000311 s )\n",
      "3 qubit finished ( time: 0.012344729000000054 s )\n",
      "4 qubit finished ( time: 0.018039867000000154 s )\n",
      "5 qubit finished ( time: 0.03089319200000018 s )\n",
      "6 qubit finished ( time: 0.04485521199999987 s )\n",
      "7 qubit finished ( time: 0.09460501999999993 s )\n",
      "8 qubit finished ( time: 0.11129052999999978 s )\n",
      "9 qubit finished ( time: 0.22446770100000002 s )\n",
      "10 qubit finished ( time: 0.223237036 s )\n",
      "11 qubit finished ( time: 0.3412635669999995 s )\n",
      "12 qubit finished ( time: 0.49784098599999993 s )\n",
      "13 qubit finished ( time: 0.8005596320000006 s )\n",
      "14 qubit finished ( time: 1.354531798 s )\n",
      "15 qubit finished ( time: 2.381173885999999 s )\n",
      "16 qubit finished ( time: 4.633320749000001 s )\n",
      "17 qubit finished ( time: 10.056511328 s )\n",
      "18 qubit finished ( time: 21.498459863 s )\n",
      "19 qubit finished ( time: 48.43354453999999 s )\n",
      "20 qubit finished ( time: 115.859416275 s )\n",
      "21 qubit finished ( time: 289.437223488 s )\n",
      "22 qubit finished ( time: 669.5089695860001 s )\n",
      "23 qubit finished ( time: 1605.9741587820001 s )\n",
      "24 qubit finished ( time: 4051.0988511520004 s )\n"
     ]
    },
    {
     "ename": "KeyboardInterrupt",
     "evalue": "",
     "output_type": "error",
     "traceback": [
      "\u001b[0;31m---------------------------------------------------------------------------\u001b[0m",
      "\u001b[0;31mKeyboardInterrupt\u001b[0m                         Traceback (most recent call last)",
      "\u001b[0;32m/var/folders/vr/d82vcp297v78vk4sb0_nzzdc0000gn/T/ipykernel_32468/1962648867.py\u001b[0m in \u001b[0;36m<module>\u001b[0;34m\u001b[0m\n\u001b[1;32m      1\u001b[0m \u001b[0;32mfor\u001b[0m \u001b[0mn\u001b[0m \u001b[0;32min\u001b[0m \u001b[0mrange\u001b[0m\u001b[0;34m(\u001b[0m\u001b[0;36m1\u001b[0m\u001b[0;34m,\u001b[0m \u001b[0mmax_size\u001b[0m \u001b[0;34m+\u001b[0m \u001b[0;36m1\u001b[0m\u001b[0;34m)\u001b[0m\u001b[0;34m:\u001b[0m\u001b[0;34m\u001b[0m\u001b[0;34m\u001b[0m\u001b[0m\n\u001b[1;32m      2\u001b[0m     \u001b[0mt1\u001b[0m \u001b[0;34m=\u001b[0m \u001b[0mtime\u001b[0m\u001b[0;34m.\u001b[0m\u001b[0mperf_counter\u001b[0m\u001b[0;34m(\u001b[0m\u001b[0;34m)\u001b[0m\u001b[0;34m\u001b[0m\u001b[0;34m\u001b[0m\u001b[0m\n\u001b[0;32m----> 3\u001b[0;31m     \u001b[0mresults_to_info\u001b[0m\u001b[0;34m(\u001b[0m\u001b[0mn\u001b[0m\u001b[0;34m)\u001b[0m\u001b[0;34m\u001b[0m\u001b[0;34m\u001b[0m\u001b[0m\n\u001b[0m\u001b[1;32m      4\u001b[0m     \u001b[0mt2\u001b[0m \u001b[0;34m=\u001b[0m \u001b[0mtime\u001b[0m\u001b[0;34m.\u001b[0m\u001b[0mperf_counter\u001b[0m\u001b[0;34m(\u001b[0m\u001b[0;34m)\u001b[0m\u001b[0;34m\u001b[0m\u001b[0;34m\u001b[0m\u001b[0m\n\u001b[1;32m      5\u001b[0m     \u001b[0mprint\u001b[0m\u001b[0;34m(\u001b[0m\u001b[0mn\u001b[0m\u001b[0;34m,\u001b[0m \u001b[0;34m\"qubit finished ( time:\"\u001b[0m\u001b[0;34m,\u001b[0m \u001b[0mt2\u001b[0m \u001b[0;34m-\u001b[0m \u001b[0mt1\u001b[0m\u001b[0;34m,\u001b[0m \u001b[0;34m\"s )\"\u001b[0m\u001b[0;34m)\u001b[0m\u001b[0;34m\u001b[0m\u001b[0;34m\u001b[0m\u001b[0m\n",
      "\u001b[0;32m/var/folders/vr/d82vcp297v78vk4sb0_nzzdc0000gn/T/ipykernel_32468/1506483608.py\u001b[0m in \u001b[0;36mresults_to_info\u001b[0;34m(n)\u001b[0m\n\u001b[1;32m     13\u001b[0m         \u001b[0mignis_ghz_mqc_info\u001b[0m\u001b[0;34m[\u001b[0m\u001b[0;34m\"mqc\"\u001b[0m\u001b[0;34m]\u001b[0m \u001b[0;34m=\u001b[0m \u001b[0;34m[\u001b[0m\u001b[0;34m]\u001b[0m\u001b[0;34m\u001b[0m\u001b[0;34m\u001b[0m\u001b[0m\n\u001b[1;32m     14\u001b[0m         \u001b[0;32mfor\u001b[0m \u001b[0mi\u001b[0m\u001b[0;34m,\u001b[0m \u001b[0mmqc_hist\u001b[0m \u001b[0;32min\u001b[0m \u001b[0menumerate\u001b[0m\u001b[0;34m(\u001b[0m \u001b[0mresults_list\u001b[0m\u001b[0;34m[\u001b[0m\u001b[0mj\u001b[0m\u001b[0;34m]\u001b[0m\u001b[0;34m[\u001b[0m\u001b[0;34m\"mqc\"\u001b[0m\u001b[0;34m]\u001b[0m\u001b[0;34m.\u001b[0m\u001b[0mget_counts\u001b[0m\u001b[0;34m(\u001b[0m\u001b[0;34m)\u001b[0m \u001b[0;34m)\u001b[0m\u001b[0;34m:\u001b[0m\u001b[0;34m\u001b[0m\u001b[0;34m\u001b[0m\u001b[0m\n\u001b[0;32m---> 15\u001b[0;31m             \u001b[0m_\u001b[0m \u001b[0;34m=\u001b[0m \u001b[0mmitigator\u001b[0m\u001b[0;34m.\u001b[0m\u001b[0mapply\u001b[0m\u001b[0;34m(\u001b[0m\u001b[0mmqc_hist\u001b[0m\u001b[0;34m)\u001b[0m\u001b[0;34m\u001b[0m\u001b[0;34m\u001b[0m\u001b[0m\n\u001b[0m\u001b[1;32m     16\u001b[0m             \u001b[0mignis_ghz_mqc_info\u001b[0m\u001b[0;34m[\u001b[0m\u001b[0;34m\"mqc\"\u001b[0m\u001b[0;34m]\u001b[0m\u001b[0;34m.\u001b[0m\u001b[0mappend\u001b[0m\u001b[0;34m(\u001b[0m \u001b[0mget_info\u001b[0m\u001b[0;34m(\u001b[0m\u001b[0mmitigator\u001b[0m\u001b[0;34m)\u001b[0m \u001b[0;34m)\u001b[0m\u001b[0;34m\u001b[0m\u001b[0;34m\u001b[0m\u001b[0m\n\u001b[1;32m     17\u001b[0m         \u001b[0mignis_ghz_mqc_info_list\u001b[0m\u001b[0;34m.\u001b[0m\u001b[0mappend\u001b[0m\u001b[0;34m(\u001b[0m\u001b[0mignis_ghz_mqc_info\u001b[0m\u001b[0;34m)\u001b[0m\u001b[0;34m\u001b[0m\u001b[0;34m\u001b[0m\u001b[0m\n",
      "\u001b[0;31mKeyboardInterrupt\u001b[0m: "
     ]
    }
   ],
   "source": [
    "for n in range(1, max_size + 1):\n",
    "    t1 = time.perf_counter()\n",
    "    results_to_info(n)\n",
    "    t2 = time.perf_counter()\n",
    "    print(n, \"qubit finished ( time:\", t2 - t1, \"s )\")"
   ]
  }
 ],
 "metadata": {
  "kernelspec": {
   "display_name": "Python 3 (ipykernel)",
   "language": "python",
   "name": "python3"
  },
  "language_info": {
   "codemirror_mode": {
    "name": "ipython",
    "version": 3
   },
   "file_extension": ".py",
   "mimetype": "text/x-python",
   "name": "python",
   "nbconvert_exporter": "python",
   "pygments_lexer": "ipython3",
   "version": "3.9.7"
  }
 },
 "nbformat": 4,
 "nbformat_minor": 5
}

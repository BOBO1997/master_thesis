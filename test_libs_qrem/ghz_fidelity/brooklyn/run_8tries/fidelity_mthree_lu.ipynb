{
 "cells": [
  {
   "cell_type": "code",
   "execution_count": 1,
   "id": "5a0e59fb",
   "metadata": {},
   "outputs": [],
   "source": [
    "import numpy as np\n",
    "import cmath\n",
    "import matplotlib.pyplot as plt\n",
    "%matplotlib inline\n",
    "import pickle\n",
    "import importlib"
   ]
  },
  {
   "cell_type": "code",
   "execution_count": 2,
   "id": "a881de14",
   "metadata": {},
   "outputs": [],
   "source": [
    "def P(n, shots, hist):\n",
    "    assert n == len(list(hist.keys())[0])\n",
    "    count = 0\n",
    "    count += hist.get(\"0\" * n, 0) / shots\n",
    "    count += hist.get(\"1\" * n, 0) / shots\n",
    "    return count"
   ]
  },
  {
   "cell_type": "code",
   "execution_count": 3,
   "id": "5a6b3e5d",
   "metadata": {},
   "outputs": [],
   "source": [
    "def S_phi(n, shots, hist):\n",
    "    assert n == len(list(hist.keys())[0])\n",
    "    return hist.get(\"0\" * n, 0) / shots"
   ]
  },
  {
   "cell_type": "code",
   "execution_count": 4,
   "id": "566e5b1f",
   "metadata": {},
   "outputs": [],
   "source": [
    "def C(n, shots, hists):\n",
    "    assert n == len(list(hists[0].keys())[0])\n",
    "    iq = 0\n",
    "    for i, hist in enumerate(hists):\n",
    "        phi = (np.pi * i) / (n + 1)\n",
    "        iq += cmath.exp(phi * n * 1j) * S_phi(n, shots, hist)\n",
    "    iq = abs(iq) / len(hists)\n",
    "    return 2 * np.sqrt(iq)"
   ]
  },
  {
   "cell_type": "code",
   "execution_count": 5,
   "id": "239b7e59",
   "metadata": {},
   "outputs": [
    {
     "name": "stdout",
     "output_type": "stream",
     "text": [
      "max_size: 31\n",
      "shots: 1\n",
      "num_try: 8\n"
     ]
    }
   ],
   "source": [
    "max_size = 65\n",
    "max_size = 31\n",
    "shots = 1\n",
    "num_try = 8\n",
    "print(\"max_size:\", max_size)\n",
    "print(\"shots:\", shots)\n",
    "print(\"num_try:\", num_try)"
   ]
  },
  {
   "cell_type": "code",
   "execution_count": 6,
   "id": "9b8760a1",
   "metadata": {
    "scrolled": true
   },
   "outputs": [
    {
     "name": "stdout",
     "output_type": "stream",
     "text": [
      "1 qubit finished (average fidelity:  0.9988565461877769 )\n",
      "2 qubit finished (average fidelity:  0.9852501089141154 )\n",
      "3 qubit finished (average fidelity:  0.9744049223373863 )\n",
      "4 qubit finished (average fidelity:  0.9706889500876963 )\n",
      "5 qubit finished (average fidelity:  0.9345987790941026 )\n",
      "6 qubit finished (average fidelity:  0.925789074128382 )\n",
      "7 qubit finished (average fidelity:  0.8696582120242412 )\n",
      "8 qubit finished (average fidelity:  0.8990674326995209 )\n",
      "9 qubit finished (average fidelity:  0.8271427904242573 )\n",
      "10 qubit finished (average fidelity:  0.8145184408114325 )\n",
      "11 qubit finished (average fidelity:  0.8090203267231849 )\n",
      "12 qubit finished (average fidelity:  0.8249485640696301 )\n",
      "13 qubit finished (average fidelity:  0.8021184107655603 )\n",
      "14 qubit finished (average fidelity:  0.7604820825259208 )\n",
      "15 qubit finished (average fidelity:  0.7249260603199554 )\n",
      "16 qubit finished (average fidelity:  0.7139190971037124 )\n",
      "17 qubit finished (average fidelity:  0.6881033267621596 )\n",
      "18 qubit finished (average fidelity:  0.6645476589341712 )\n",
      "19 qubit finished (average fidelity:  0.6677342082239006 )\n",
      "20 qubit finished (average fidelity:  0.660452570571819 )\n",
      "21 qubit finished (average fidelity:  0.6479731423428687 )\n",
      "22 qubit finished (average fidelity:  0.6473691567829714 )\n",
      "23 qubit finished (average fidelity:  0.6314841399207124 )\n",
      "24 qubit finished (average fidelity:  0.59210882800479 )\n",
      "25 qubit finished (average fidelity:  0.5841647065944371 )\n",
      "26 qubit finished (average fidelity:  0.5285856511057055 )\n",
      "27 qubit finished (average fidelity:  0.5201077214057321 )\n",
      "28 qubit finished (average fidelity:  0.5018695153773083 )\n",
      "29 qubit finished (average fidelity:  0.47777813075880105 )\n",
      "30 qubit finished (average fidelity:  0.4636701094986594 )\n",
      "31 qubit finished (average fidelity:  0.4379481049567764 )\n"
     ]
    }
   ],
   "source": [
    "mthree_lu_fidelities_list = []\n",
    "for n in range(1, max_size + 1):\n",
    "    with open(\"./pkls/mthree_lu/info_list_\" + str(n) + \"-qubit.pkl\", \"rb\") as f:\n",
    "        mthree_lu_info_list = pickle.load(f)\n",
    "    ps, cs = [], []\n",
    "    fidelities = []\n",
    "    for j in range(num_try):\n",
    "        p = P(n, shots, mthree_lu_info_list[j][\"ghz\"][\"mitigated_hist\"])\n",
    "        c = C(n, shots, [info[\"mitigated_hist\"] for info in mthree_lu_info_list[j][\"mqc\"]])\n",
    "        ps.append( p )\n",
    "        cs.append( c )\n",
    "        fidelities.append( (p + c) / 2 )\n",
    "    mthree_lu_fidelities_list.append({\"ps\": ps, \"cs\": cs, \"fidelities\": fidelities })\n",
    "    print(n, \"qubit finished (average fidelity: \", np.mean(fidelities), \")\")"
   ]
  },
  {
   "cell_type": "code",
   "execution_count": 7,
   "id": "94e967b8",
   "metadata": {
    "scrolled": true
   },
   "outputs": [
    {
     "name": "stdout",
     "output_type": "stream",
     "text": [
      "1 qubit finished\n",
      "2 qubit finished\n",
      "3 qubit finished\n",
      "4 qubit finished\n",
      "5 qubit finished\n",
      "6 qubit finished\n",
      "7 qubit finished\n",
      "8 qubit finished\n",
      "9 qubit finished\n",
      "10 qubit finished\n",
      "11 qubit finished\n",
      "12 qubit finished\n",
      "13 qubit finished\n",
      "14 qubit finished\n",
      "15 qubit finished\n",
      "16 qubit finished\n",
      "17 qubit finished\n",
      "18 qubit finished\n",
      "19 qubit finished\n",
      "20 qubit finished\n",
      "21 qubit finished\n",
      "22 qubit finished\n",
      "23 qubit finished\n",
      "24 qubit finished\n",
      "25 qubit finished\n",
      "26 qubit finished\n",
      "27 qubit finished\n",
      "28 qubit finished\n",
      "29 qubit finished\n",
      "30 qubit finished\n",
      "31 qubit finished\n"
     ]
    }
   ],
   "source": [
    "mthree_lu_S_phis_list_list = []\n",
    "for n in range(1, max_size + 1):\n",
    "    with open(\"./pkls/mthree_lu/info_list_\" + str(n) + \"-qubit.pkl\", \"rb\") as f:\n",
    "        mthree_lu_info_list = pickle.load(f)\n",
    "    mthree_lu_S_phis_list = []\n",
    "    for j in range(num_try):\n",
    "        mthree_lu_S_phis = []\n",
    "        for i, hist in enumerate([info[\"mitigated_hist\"] for info in mthree_lu_info_list[j][\"mqc\"]]):\n",
    "            mthree_lu_S_phis.append(S_phi(n, shots, hist))\n",
    "        mthree_lu_S_phis_list.append(mthree_lu_S_phis)\n",
    "    mthree_lu_S_phis_list_list.append(mthree_lu_S_phis_list)\n",
    "    print(n, \"qubit finished\")"
   ]
  },
  {
   "cell_type": "code",
   "execution_count": 8,
   "id": "2e0a8617",
   "metadata": {},
   "outputs": [],
   "source": [
    "with open(\"./pkls/mthree_lu/fidelity_info.pkl\", \"wb\") as f:\n",
    "    pickle.dump({\"fidelities_list\": mthree_lu_fidelities_list, \"S_phis_list_list\": mthree_lu_S_phis_list_list}, f)"
   ]
  }
 ],
 "metadata": {
  "kernelspec": {
   "display_name": "Python 3 (ipykernel)",
   "language": "python",
   "name": "python3"
  },
  "language_info": {
   "codemirror_mode": {
    "name": "ipython",
    "version": 3
   },
   "file_extension": ".py",
   "mimetype": "text/x-python",
   "name": "python",
   "nbconvert_exporter": "python",
   "pygments_lexer": "ipython3",
   "version": "3.9.7"
  }
 },
 "nbformat": 4,
 "nbformat_minor": 5
}

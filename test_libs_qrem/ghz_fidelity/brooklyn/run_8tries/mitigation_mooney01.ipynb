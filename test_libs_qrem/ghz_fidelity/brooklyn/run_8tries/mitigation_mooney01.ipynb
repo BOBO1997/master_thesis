{
 "cells": [
  {
   "cell_type": "code",
   "execution_count": 1,
   "id": "worst-austria",
   "metadata": {},
   "outputs": [],
   "source": [
    "import pickle\n",
    "import time\n",
    "import gc"
   ]
  },
  {
   "cell_type": "code",
   "execution_count": 2,
   "id": "be591052",
   "metadata": {},
   "outputs": [
    {
     "name": "stdout",
     "output_type": "stream",
     "text": [
      "max_size: 39\n",
      "number of try: 8\n"
     ]
    }
   ],
   "source": [
    "max_size = 65\n",
    "max_size = 39\n",
    "print(\"max_size:\", max_size)\n",
    "num_try = 8\n",
    "print(\"number of try:\", num_try)"
   ]
  },
  {
   "cell_type": "code",
   "execution_count": 3,
   "id": "6796d5f5",
   "metadata": {
    "scrolled": true
   },
   "outputs": [],
   "source": [
    "from libs_qrem import MooneyEtalFilter\n",
    "from qiskit.ignis.mitigation.measurement import TensoredMeasFitter"
   ]
  },
  {
   "cell_type": "code",
   "execution_count": 4,
   "id": "d8317feb",
   "metadata": {},
   "outputs": [],
   "source": [
    "def get_info(mitigator):\n",
    "    return {# \"exact_one_norm_of_reduced_inv_A\": mitigator.exact_one_norm_of_reduced_inv_A(),\n",
    "            \"mitigated_hist\": mitigator.mitigated_hist(),\n",
    "            \"times\": mitigator.times(),\n",
    "            # \"mitigation_stddev\": mitigator.mitigation_stddev(norm_type = \"exact\"),\n",
    "            }"
   ]
  },
  {
   "cell_type": "code",
   "execution_count": 5,
   "id": "d0bc724a",
   "metadata": {},
   "outputs": [],
   "source": [
    "def results_to_info(n):\n",
    "    \n",
    "    with open(\"pkls/results/results_\" + str(n) + \"-qubit.pkl\", \"rb\") as f:\n",
    "        results_list = pickle.load(f)\n",
    "        f.close()\n",
    "    \n",
    "    mooney01_ghz_mqc_info_list = []\n",
    "    for j in range(num_try):\n",
    "        mooney01_ghz_mqc_info = {}\n",
    "        mitigator = MooneyEtalFilter(n, TensoredMeasFitter(results_list[j][\"mit\"], mit_pattern=[[k] for k in range(n)]).cal_matrices)\n",
    "        _ = mitigator.apply(results_list[j][\"ghz\"].get_counts(), threshold=0.1)\n",
    "        mooney01_ghz_mqc_info[\"ghz\"] = get_info(mitigator)\n",
    "        mooney01_ghz_mqc_info[\"mqc\"] = []\n",
    "        for i, mqc_hist in enumerate( results_list[j][\"mqc\"].get_counts() ):\n",
    "            _ = mitigator.apply(mqc_hist)\n",
    "            mooney01_ghz_mqc_info[\"mqc\"].append( get_info(mitigator) )\n",
    "        mooney01_ghz_mqc_info_list.append(mooney01_ghz_mqc_info)\n",
    "    with open(\"pkls/mooney01/info_list_\" + str(n) + \"-qubit.pkl\", \"wb\") as f:\n",
    "        pickle.dump(mooney01_ghz_mqc_info_list, f)\n",
    "        f.close()"
   ]
  },
  {
   "cell_type": "markdown",
   "id": "d7a0a533",
   "metadata": {},
   "source": [
    "# for n in range(1, max_size + 1):\n",
    "    t1 = time.perf_counter()\n",
    "    results_to_info(n)\n",
    "    t2 = time.perf_counter()\n",
    "    print(n, \"qubit finished ( time:\", t2 - t1, \"s )\")"
   ]
  },
  {
   "cell_type": "code",
   "execution_count": null,
   "id": "cb2f6b96",
   "metadata": {},
   "outputs": [],
   "source": []
  }
 ],
 "metadata": {
  "kernelspec": {
   "display_name": "Python 3 (ipykernel)",
   "language": "python",
   "name": "python3"
  },
  "language_info": {
   "codemirror_mode": {
    "name": "ipython",
    "version": 3
   },
   "file_extension": ".py",
   "mimetype": "text/x-python",
   "name": "python",
   "nbconvert_exporter": "python",
   "pygments_lexer": "ipython3",
   "version": "3.9.7"
  }
 },
 "nbformat": 4,
 "nbformat_minor": 5
}

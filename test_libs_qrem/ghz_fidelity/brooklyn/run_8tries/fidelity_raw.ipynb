{
 "cells": [
  {
   "cell_type": "code",
   "execution_count": 1,
   "id": "5a0e59fb",
   "metadata": {},
   "outputs": [],
   "source": [
    "import numpy as np\n",
    "import cmath\n",
    "import matplotlib.pyplot as plt\n",
    "%matplotlib inline\n",
    "import pickle\n",
    "import importlib"
   ]
  },
  {
   "cell_type": "code",
   "execution_count": 2,
   "id": "a881de14",
   "metadata": {},
   "outputs": [],
   "source": [
    "def P(n, shots, hist):\n",
    "    assert n == len(list(hist.keys())[0])\n",
    "    count = 0\n",
    "    count += hist.get(\"0\" * n, 0) / shots\n",
    "    count += hist.get(\"1\" * n, 0) / shots\n",
    "    return count"
   ]
  },
  {
   "cell_type": "code",
   "execution_count": 3,
   "id": "5a6b3e5d",
   "metadata": {},
   "outputs": [],
   "source": [
    "def S_phi(n, shots, hist):\n",
    "    assert n == len(list(hist.keys())[0])\n",
    "    return hist.get(\"0\" * n, 0) / shots"
   ]
  },
  {
   "cell_type": "code",
   "execution_count": 4,
   "id": "566e5b1f",
   "metadata": {},
   "outputs": [],
   "source": [
    "def C(n, shots, hists):\n",
    "    assert n == len(list(hists[0].keys())[0])\n",
    "    iq = 0\n",
    "    for i, hist in enumerate(hists):\n",
    "        phi = (np.pi * i) / (n + 1)\n",
    "        iq += cmath.exp(phi * n * 1j) * S_phi(n, shots, hist)\n",
    "    iq = abs(iq) / len(hists)\n",
    "    return 2 * np.sqrt(iq)"
   ]
  },
  {
   "cell_type": "code",
   "execution_count": 5,
   "id": "239b7e59",
   "metadata": {},
   "outputs": [
    {
     "name": "stdout",
     "output_type": "stream",
     "text": [
      "max_size: 39\n",
      "shots: 8192\n",
      "num_try: 8\n"
     ]
    }
   ],
   "source": [
    "max_size = 65\n",
    "max_size = 39\n",
    "shots = 8192\n",
    "num_try = 8\n",
    "print(\"max_size:\", max_size)\n",
    "print(\"shots:\", shots)\n",
    "print(\"num_try:\", num_try)"
   ]
  },
  {
   "cell_type": "code",
   "execution_count": 6,
   "id": "9b8760a1",
   "metadata": {
    "scrolled": true
   },
   "outputs": [
    {
     "name": "stdout",
     "output_type": "stream",
     "text": [
      "1 qubit finished (average fidelity:  0.9755595731728627 )\n",
      "2 qubit finished (average fidelity:  0.9240953169658348 )\n",
      "3 qubit finished (average fidelity:  0.8965994493383077 )\n",
      "4 qubit finished (average fidelity:  0.8839420654410599 )\n",
      "5 qubit finished (average fidelity:  0.8167328424558324 )\n",
      "6 qubit finished (average fidelity:  0.800672637075045 )\n",
      "7 qubit finished (average fidelity:  0.7447722123622733 )\n",
      "8 qubit finished (average fidelity:  0.7570644316134353 )\n",
      "9 qubit finished (average fidelity:  0.688816647591395 )\n",
      "10 qubit finished (average fidelity:  0.6711466252428813 )\n",
      "11 qubit finished (average fidelity:  0.6622179835209907 )\n",
      "12 qubit finished (average fidelity:  0.6327166376340032 )\n",
      "13 qubit finished (average fidelity:  0.6135013661872921 )\n",
      "14 qubit finished (average fidelity:  0.57877498528515 )\n",
      "15 qubit finished (average fidelity:  0.5449628208123553 )\n",
      "16 qubit finished (average fidelity:  0.5293859973677408 )\n",
      "17 qubit finished (average fidelity:  0.5028632217850324 )\n",
      "18 qubit finished (average fidelity:  0.47745203016672266 )\n",
      "19 qubit finished (average fidelity:  0.4690418891779286 )\n",
      "20 qubit finished (average fidelity:  0.4496407238363084 )\n",
      "21 qubit finished (average fidelity:  0.43798864135360926 )\n",
      "22 qubit finished (average fidelity:  0.4348872024575108 )\n",
      "23 qubit finished (average fidelity:  0.42385390065964135 )\n",
      "24 qubit finished (average fidelity:  0.3937251384783397 )\n",
      "25 qubit finished (average fidelity:  0.3878879388570836 )\n",
      "26 qubit finished (average fidelity:  0.3514743620156359 )\n",
      "27 qubit finished (average fidelity:  0.3437779795353113 )\n",
      "28 qubit finished (average fidelity:  0.32951458705555914 )\n",
      "29 qubit finished (average fidelity:  0.30847456549388097 )\n",
      "30 qubit finished (average fidelity:  0.29948825495385706 )\n",
      "31 qubit finished (average fidelity:  0.27717182001279045 )\n",
      "32 qubit finished (average fidelity:  0.26432935147647457 )\n",
      "33 qubit finished (average fidelity:  0.2574656037358052 )\n",
      "34 qubit finished (average fidelity:  0.25117223359179747 )\n",
      "35 qubit finished (average fidelity:  0.22640718804256887 )\n",
      "36 qubit finished (average fidelity:  0.21859028389976876 )\n",
      "37 qubit finished (average fidelity:  0.21510135704421135 )\n",
      "38 qubit finished (average fidelity:  0.21594490860880283 )\n",
      "39 qubit finished (average fidelity:  0.20622065917078203 )\n"
     ]
    }
   ],
   "source": [
    "raw_fidelities_list = []\n",
    "for n in range(1, max_size + 1):\n",
    "    with open(\"./pkls/raw/info_list_\" + str(n) + \"-qubit.pkl\", \"rb\") as f:\n",
    "        raw_info_list = pickle.load(f)\n",
    "    ps, cs = [], []\n",
    "    fidelities = []\n",
    "    for j in range(num_try):\n",
    "        p = P(n, shots, raw_info_list[j][\"ghz\"][\"mitigated_hist\"])\n",
    "        c = C(n, shots, [info[\"mitigated_hist\"] for info in raw_info_list[j][\"mqc\"]])\n",
    "        ps.append( p )\n",
    "        cs.append( c )\n",
    "        fidelities.append( (p + c) / 2 )\n",
    "    raw_fidelities_list.append({\"ps\": ps, \"cs\": cs, \"fidelities\": fidelities })\n",
    "    print(n, \"qubit finished (average fidelity: \", np.mean(fidelities), \")\")"
   ]
  },
  {
   "cell_type": "code",
   "execution_count": 7,
   "id": "94e967b8",
   "metadata": {
    "scrolled": true
   },
   "outputs": [
    {
     "name": "stdout",
     "output_type": "stream",
     "text": [
      "1 qubit finished\n",
      "2 qubit finished\n",
      "3 qubit finished\n",
      "4 qubit finished\n",
      "5 qubit finished\n",
      "6 qubit finished\n",
      "7 qubit finished\n",
      "8 qubit finished\n",
      "9 qubit finished\n",
      "10 qubit finished\n",
      "11 qubit finished\n",
      "12 qubit finished\n",
      "13 qubit finished\n",
      "14 qubit finished\n",
      "15 qubit finished\n",
      "16 qubit finished\n",
      "17 qubit finished\n",
      "18 qubit finished\n",
      "19 qubit finished\n",
      "20 qubit finished\n",
      "21 qubit finished\n",
      "22 qubit finished\n",
      "23 qubit finished\n",
      "24 qubit finished\n",
      "25 qubit finished\n",
      "26 qubit finished\n",
      "27 qubit finished\n",
      "28 qubit finished\n",
      "29 qubit finished\n",
      "30 qubit finished\n",
      "31 qubit finished\n",
      "32 qubit finished\n",
      "33 qubit finished\n",
      "34 qubit finished\n",
      "35 qubit finished\n",
      "36 qubit finished\n",
      "37 qubit finished\n",
      "38 qubit finished\n",
      "39 qubit finished\n"
     ]
    }
   ],
   "source": [
    "raw_S_phis_list_list = []\n",
    "for n in range(1, max_size + 1):\n",
    "    with open(\"./pkls/raw/info_list_\" + str(n) + \"-qubit.pkl\", \"rb\") as f:\n",
    "        raw_info_list = pickle.load(f)\n",
    "    raw_S_phis_list = []\n",
    "    for j in range(num_try):\n",
    "        raw_S_phis = []\n",
    "        for i, hist in enumerate([info[\"mitigated_hist\"] for info in raw_info_list[j][\"mqc\"]]):\n",
    "            raw_S_phis.append(S_phi(n, shots, hist))\n",
    "        raw_S_phis_list.append(raw_S_phis)\n",
    "    raw_S_phis_list_list.append(raw_S_phis_list)\n",
    "    print(n, \"qubit finished\")"
   ]
  },
  {
   "cell_type": "code",
   "execution_count": 8,
   "id": "2e0a8617",
   "metadata": {},
   "outputs": [],
   "source": [
    "with open(\"./pkls/raw/fidelity_info.pkl\", \"wb\") as f:\n",
    "    pickle.dump({\"fidelities_list\": raw_fidelities_list, \"S_phis_list_list\": raw_S_phis_list_list}, f)"
   ]
  }
 ],
 "metadata": {
  "kernelspec": {
   "display_name": "Python 3 (ipykernel)",
   "language": "python",
   "name": "python3"
  },
  "language_info": {
   "codemirror_mode": {
    "name": "ipython",
    "version": 3
   },
   "file_extension": ".py",
   "mimetype": "text/x-python",
   "name": "python",
   "nbconvert_exporter": "python",
   "pygments_lexer": "ipython3",
   "version": "3.9.7"
  }
 },
 "nbformat": 4,
 "nbformat_minor": 5
}

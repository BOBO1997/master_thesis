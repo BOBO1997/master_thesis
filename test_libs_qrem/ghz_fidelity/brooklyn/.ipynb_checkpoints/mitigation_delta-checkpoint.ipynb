{
 "cells": [
  {
   "cell_type": "code",
   "execution_count": 1,
   "id": "worst-austria",
   "metadata": {},
   "outputs": [],
   "source": [
    "import pickle\n",
    "import time\n",
    "import gc"
   ]
  },
  {
   "cell_type": "code",
   "execution_count": 2,
   "id": "be591052",
   "metadata": {},
   "outputs": [],
   "source": [
    "max_size = 65"
   ]
  },
  {
   "cell_type": "code",
   "execution_count": 3,
   "id": "6796d5f5",
   "metadata": {
    "scrolled": true
   },
   "outputs": [],
   "source": [
    "from libs_qrem import DeltaFilter\n",
    "from qiskit.ignis.mitigation.measurement import TensoredMeasFitter"
   ]
  },
  {
   "cell_type": "code",
   "execution_count": 4,
   "id": "d8317feb",
   "metadata": {},
   "outputs": [],
   "source": [
    "def get_info(mitigator):\n",
    "    return {\"exact_one_norm_of_reduced_inv_A\": mitigator.exact_one_norm_of_reduced_inv_A(),\n",
    "             \"mitigated_hist\": mitigator.mitigated_hist(),\n",
    "             \"times\": mitigator.times(),\n",
    "             \"mitigation_stddev\": mitigator.mitigation_stddev(norm_type = \"exact\"),\n",
    "             }"
   ]
  },
  {
   "cell_type": "code",
   "execution_count": 5,
   "id": "d0bc724a",
   "metadata": {},
   "outputs": [],
   "source": [
    "def results_to_info(n):\n",
    "    print(\"start\", n, \"qubits\")\n",
    "    delta_ghz_mqc_info = {}\n",
    "\n",
    "    with open(\"pkls/raw_results/results_\" + str(n) + \"-qubit.pkl\", \"rb\") as f:\n",
    "        results = pickle.load(f)\n",
    "        f.close()\n",
    "\n",
    "    mitigator = DeltaFilter(n, TensoredMeasFitter(results[\"mit\"], mit_pattern=[[j] for j in range(n)]).cal_matrices)\n",
    "    delta_ghz_mqc_info[\"ghz\"] = get_info(mitigator)\n",
    "    print(\"mitigated ghz hist\")\n",
    "    \n",
    "    delta_ghz_mqc_info[\"mqc\"] = []\n",
    "    for i, mqc_hist in enumerate( results[\"mqc\"].get_counts() ):\n",
    "        print(i + 1, \"th mqc\")\n",
    "        delta_ghz_mqc_info[\"mqc\"].append( get_info(mitigator) )\n",
    "    print(\"mitigated mqc hists\")\n",
    "\n",
    "    with open(\"pkls/delta/info_\" + str(n) + \"-qubit.pkl\", \"wb\") as f:\n",
    "        pickle.dump(delta_ghz_mqc_info, f)\n",
    "        f.close()\n",
    "\n",
    "    print(\"finished\", n, \"qubits\")\n",
    "    print()\n",
    "    del delta_ghz_mqc_info, results, mitigator\n",
    "    gc.collect()"
   ]
  },
  {
   "cell_type": "code",
   "execution_count": null,
   "id": "743cd964",
   "metadata": {},
   "outputs": [],
   "source": [
    "results_to_info(1)"
   ]
  },
  {
   "cell_type": "code",
   "execution_count": null,
   "id": "b34a7b47",
   "metadata": {},
   "outputs": [],
   "source": [
    "for n in range(1, 1 + 1):\n",
    "    results_to_info(n)"
   ]
  },
  {
   "cell_type": "code",
   "execution_count": null,
   "id": "2fe51189",
   "metadata": {},
   "outputs": [],
   "source": [
    "for n in range(1, 1 + 1):\n",
    "    print(\"start\", n, \"qubits\")\n",
    "    delta_ghz_mqc_info = {}\n",
    "\n",
    "    with open(\"pkls/raw_results/results_\" + str(n) + \"-qubit.pkl\", \"rb\") as f:\n",
    "        results = pickle.load(f)\n",
    "        f.close()\n",
    "\n",
    "    mitigator = DeltaFilter(n, TensoredMeasFitter(results[\"mit\"], mit_pattern=[[j] for j in range(n)]).cal_matrices)\n",
    "    delta_ghz_mqc_info[\"ghz\"] = get_info(mitigator)\n",
    "    print(\"mitigated ghz hist\")\n",
    "\n",
    "    delta_ghz_mqc_info[\"mqc\"] = []\n",
    "    for i, mqc_hist in enumerate( results[\"mqc\"].get_counts() ):\n",
    "        print(i + 1, \"th mqc\")\n",
    "        delta_ghz_mqc_info[\"mqc\"].append( get_info(mitigator) )\n",
    "    print(\"mitigated mqc hists\")\n",
    "\n",
    "    with open(\"pkls/delta/info_\" + str(n) + \"-qubit.pkl\", \"wb\") as f:\n",
    "        pickle.dump(delta_ghz_mqc_info, f)\n",
    "        f.close()\n",
    "\n",
    "    print(\"finished\", n, \"qubits\")\n",
    "    print()\n",
    "    del delta_ghz_mqc_info, results, mitigator\n",
    "    gc.collect()"
   ]
  },
  {
   "cell_type": "code",
   "execution_count": null,
   "id": "e2ae2ba1",
   "metadata": {},
   "outputs": [],
   "source": [
    "for n in range(1, max_size + 1):\n",
    "    print(\"start\", n, \"qubits\")\n",
    "    delta_ghz_mqc_info = {}\n",
    "\n",
    "    with open(\"pkls/raw_results/results_\" + str(n) + \"-qubit.pkl\", \"rb\") as f:\n",
    "        results = pickle.load(f)\n",
    "        f.close()\n",
    "\n",
    "    mitigator = DeltaFilter(n, TensoredMeasFitter(results[\"mit\"], mit_pattern=[[j] for j in range(n)]).cal_matrices)\n",
    "    delta_ghz_mqc_info[\"ghz\"] = get_info(mitigator)\n",
    "    print(\"mitigated ghz hist\")\n",
    "\n",
    "    delta_ghz_mqc_info[\"mqc\"] = []\n",
    "    for i, mqc_hist in enumerate( results[\"mqc\"].get_counts() ):\n",
    "        print(i + 1, \"th mqc\")\n",
    "        delta_ghz_mqc_info[\"mqc\"].append( get_info(mitigator) )\n",
    "    print(\"mitigated mqc hists\")\n",
    "\n",
    "    with open(\"pkls/delta/info_\" + str(n) + \"-qubit.pkl\", \"wb\") as f:\n",
    "        pickle.dump(delta_ghz_mqc_info, f)\n",
    "        f.close()\n",
    "\n",
    "    print(\"finished\", n, \"qubits\")\n",
    "    del delta_ghz_mqc_info, results, mitigator\n",
    "    print()"
   ]
  }
 ],
 "metadata": {
  "kernelspec": {
   "display_name": "Python 3 (ipykernel)",
   "language": "python",
   "name": "python3"
  },
  "language_info": {
   "codemirror_mode": {
    "name": "ipython",
    "version": 3
   },
   "file_extension": ".py",
   "mimetype": "text/x-python",
   "name": "python",
   "nbconvert_exporter": "python",
   "pygments_lexer": "ipython3",
   "version": "3.9.7"
  }
 },
 "nbformat": 4,
 "nbformat_minor": 5
}

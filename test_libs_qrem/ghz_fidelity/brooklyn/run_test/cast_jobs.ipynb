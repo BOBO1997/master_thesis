{
 "cells": [
  {
   "cell_type": "code",
   "execution_count": 1,
   "id": "worst-austria",
   "metadata": {},
   "outputs": [],
   "source": [
    "import numpy as np\n",
    "import matplotlib.pyplot as plt\n",
    "%matplotlib inline\n",
    "import pickle\n",
    "import time\n",
    "import importlib\n",
    "from pprint import pprint"
   ]
  },
  {
   "cell_type": "code",
   "execution_count": 2,
   "id": "temporal-trigger",
   "metadata": {},
   "outputs": [],
   "source": [
    "import qiskit\n",
    "from qiskit import QuantumCircuit, QuantumRegister, ClassicalRegister, Aer, execute, IBMQ\n",
    "from qiskit.tools.visualization import plot_histogram"
   ]
  },
  {
   "cell_type": "code",
   "execution_count": 3,
   "id": "marine-nightlife",
   "metadata": {},
   "outputs": [],
   "source": [
    "import qiskit.ignis.mitigation as mit\n",
    "from qiskit.ignis.mitigation.measurement import tensored_meas_cal, TensoredMeasFitter"
   ]
  },
  {
   "cell_type": "code",
   "execution_count": 4,
   "id": "selected-delaware",
   "metadata": {},
   "outputs": [
    {
     "name": "stdout",
     "output_type": "stream",
     "text": [
      "<AccountProvider for IBMQ(hub='ibm-q-utokyo', group='internal', project='hirashi-jst')>\n"
     ]
    }
   ],
   "source": [
    "IBMQ.load_account()\n",
    "provider = IBMQ.get_provider(hub='ibm-q-utokyo', group='internal', project='hirashi-jst')\n",
    "print(provider)\n",
    "device = provider.backend.ibmq_brooklyn\n",
    "backend = provider.get_backend('ibmq_brooklyn')"
   ]
  },
  {
   "cell_type": "code",
   "execution_count": 5,
   "id": "identical-michael",
   "metadata": {},
   "outputs": [
    {
     "name": "stdout",
     "output_type": "stream",
     "text": [
      "max_size: 65\n",
      "shots_per_circuit: 8192\n"
     ]
    }
   ],
   "source": [
    "# qubit layout\n",
    "vertex_list =  [33, # 0\n",
    "                32, # 1\n",
    "                25, 31, # 2, 3\n",
    "                34, 19, 39, # 4, 5, 6\n",
    "                30, 35, 18, 45, # 7, 8, 9, 10\n",
    "                20, 29, 40, 17, 46, # 11, 12, 13, 14, 15\n",
    "                36, 44, 21, 28, 49, 16, 47, # 16, 17, 18, 19, 20, 21, 22\n",
    "                24, 11, 37, 43, 12, 27, 50, 15, 53, # 23, 24, 25, 26, 27, 28, 29, 30, 31\n",
    "                22, 48,  4, 26, 52,  8, 38, 51, 14, 60, # 32, 33, 34, 35, 36, 37, 38, 39, 40, 41\n",
    "                42, 23,  3, 56,  7, 41, 54, 13, 59, # 42, 43, 44, 45, 46, 47, 48, 49, 50\n",
    "                 5,  9, 61,  2, 55,  6, 64, 10, 58, # 51, 52, 53, 54, 55, 56, 57, 58, 59\n",
    "                57, 62,  1, 63,  0] # 60, 61, 62, 63, 64\n",
    "assert len(vertex_list) == len(set(vertex_list))\n",
    "max_size = len(vertex_list) # largest graph size\n",
    "shots_per_circuit = 1 << 13 # shots per one execution\n",
    "print(\"max_size:\", max_size)\n",
    "print(\"shots_per_circuit:\", shots_per_circuit)"
   ]
  },
  {
   "cell_type": "code",
   "execution_count": 6,
   "id": "challenging-smile",
   "metadata": {},
   "outputs": [
    {
     "name": "stdout",
     "output_type": "stream",
     "text": [
      "64\n"
     ]
    }
   ],
   "source": [
    "# indicate how to connect qubits\n",
    "order = [[0,1], # 2\n",
    "         [0,2],  [1,3], # 3\n",
    "         [0,4],  [2,5],  [3,6], # 4\n",
    "         [3,7],  [4,8],  [5,9],  [6,10], # 5\n",
    "         [5,11], [7,12], [8,13], [9,14], [10,15], # 6\n",
    "         [8,16], [10,17],[11,18],[12,19],[13,20],[14,21],[15,22], # 7\n",
    "         [12,23],[14,24],[16,25],[17,26],[18,27],[19,28],[20,29],[21,30],[22,31], # 8\n",
    "         [18,32],[20,33],[24,34],[25,35],[26,36],[27,37],[28,38],[29,39],[30,40],[31,41], # 9\n",
    "         [26,42],[32,43],[34,44],[36,45],[37,46],[38,47],[39,48],[40,49],[41,50], # 10\n",
    "         [34,51],[37,52],[41,53],[44,54],[45,55],[46,56],[48,57],[49,58],[50,59], # 11\n",
    "         [45,60],[53,61],[54,62],[57,63],[58,64]] # 12\n",
    "print(len(order))"
   ]
  },
  {
   "cell_type": "code",
   "execution_count": 7,
   "id": "interstate-telephone",
   "metadata": {},
   "outputs": [
    {
     "name": "stdout",
     "output_type": "stream",
     "text": [
      "65\n"
     ]
    }
   ],
   "source": [
    "qubit_depths = [0, \n",
    "                1, \n",
    "                2, 2,\n",
    "                3, 3, 3, \n",
    "                4, 4, 4, 4, \n",
    "                5, 5, 5, 5, 5, \n",
    "                6, 6, 6, 6, 6, 6, 6, \n",
    "                7, 7, 7, 7, 7, 7, 7, 7, 7,\n",
    "                8, 8, 8, 8, 8, 8, 8, 8, 8, 8,\n",
    "                9, 9, 9, 9, 9, 9, 9, 9, 9,\n",
    "                10,10,10,10,10,10,10,10,10,\n",
    "                11,11,11,11,11]\n",
    "print(len(qubit_depths))"
   ]
  },
  {
   "cell_type": "markdown",
   "id": "12a02ad7",
   "metadata": {},
   "source": [
    "# ghz circuits"
   ]
  },
  {
   "cell_type": "code",
   "execution_count": 8,
   "id": "eafff319",
   "metadata": {},
   "outputs": [],
   "source": [
    "def ghz_state(size, order, qubit_depths):\n",
    "    qc = QuantumCircuit(size)\n",
    "    qc.h(0)\n",
    "    if size <= 1:\n",
    "        return qc\n",
    "    depth = 0\n",
    "    for i, j in order:\n",
    "        if depth != qubit_depths[j]:\n",
    "            # qc.barrier()\n",
    "            depth += 1\n",
    "        qc.cx(i, j)\n",
    "    return qc"
   ]
  },
  {
   "cell_type": "code",
   "execution_count": 9,
   "id": "likely-snowboard",
   "metadata": {},
   "outputs": [],
   "source": [
    "def ghz_state_with_measurement(size, order, qubit_depths):\n",
    "    qc = QuantumCircuit(size)\n",
    "    qc.compose(ghz_state(size, order, qubit_depths), qubits = range(size), inplace = True)\n",
    "    qc.measure_all()\n",
    "    return qc"
   ]
  },
  {
   "cell_type": "code",
   "execution_count": 10,
   "id": "a77c8b2f",
   "metadata": {},
   "outputs": [],
   "source": [
    "ghz_qc_list = [ghz_state_with_measurement(size, order[:size-1], qubit_depths[:size]) for size in range(1, max_size+1)]"
   ]
  },
  {
   "cell_type": "markdown",
   "id": "be5eb005",
   "metadata": {},
   "source": [
    "# mqc circuits"
   ]
  },
  {
   "cell_type": "code",
   "execution_count": 11,
   "id": "90fc7bee",
   "metadata": {},
   "outputs": [],
   "source": [
    "def mqc_state_with_measurement(size, order, qubit_depths, phi):\n",
    "    qc = QuantumCircuit(size, name=\"mqc_\" + str(size) + str(phi))\n",
    "    qc.compose(ghz_state(size, order, qubit_depths), qubits = range(size), inplace = True)\n",
    "    qc.barrier()\n",
    "    qc.x(range(size))\n",
    "    qc.rz(phi, range(size))\n",
    "    qc.barrier()\n",
    "    qc.compose(ghz_state(size, order, qubit_depths).inverse(), qubits = range(size), inplace = True)\n",
    "    qc.measure_all()\n",
    "    return qc"
   ]
  },
  {
   "cell_type": "code",
   "execution_count": 12,
   "id": "controlled-muslim",
   "metadata": {},
   "outputs": [],
   "source": [
    "mqc_qcs_list = []\n",
    "for size in range(1, max_size+1):\n",
    "    mqc_qcs = []\n",
    "    for j in range(size * 2 + 2):\n",
    "        phi = (np.pi * j) / (size + 1)\n",
    "        mqc = mqc_state_with_measurement(size, order[:size-1], qubit_depths[:size], phi)\n",
    "        mqc_qcs.append(mqc)\n",
    "    mqc_qcs_list.append(mqc_qcs)"
   ]
  },
  {
   "cell_type": "code",
   "execution_count": 13,
   "id": "1481326d",
   "metadata": {},
   "outputs": [],
   "source": [
    "ghz_mqc_mit_qcs_list = []\n",
    "for i, size in enumerate(range(1, max_size+1)):\n",
    "    meas_calibs, _ = tensored_meas_cal(mit_pattern=[[j] for j in range(size)], qr=QuantumRegister(size), circlabel='mcal')\n",
    "    ghz_mqc_mit_qcs = [ghz_qc_list[i]] + mqc_qcs_list[i] + meas_calibs\n",
    "    ghz_mqc_mit_qcs_list.append(ghz_mqc_mit_qcs)"
   ]
  },
  {
   "cell_type": "code",
   "execution_count": 14,
   "id": "441d882b",
   "metadata": {},
   "outputs": [],
   "source": [
    "initial_layouts_list = []\n",
    "for i, size in enumerate(range(1, max_size+1)):\n",
    "    initial_layouts = [vertex_list[:size] for _ in range(len(ghz_mqc_mit_qcs_list[i]))]\n",
    "    initial_layouts_list.append(initial_layouts)"
   ]
  },
  {
   "cell_type": "code",
   "execution_count": 15,
   "id": "b012c943",
   "metadata": {},
   "outputs": [
    {
     "name": "stdout",
     "output_type": "stream",
     "text": [
      "the job for 1 qubit circuits are casted... ( job id: 61c8a8b420e2c4e45ceaf74b )\n",
      "the job for 2 qubit circuits are casted... ( job id: 61c8a8b7a81fcf727dd1d7cc )\n",
      "the job for 3 qubit circuits are casted... ( job id: 61c8a8b9fa27f609b637cdfa )\n",
      "the job for 4 qubit circuits are casted... ( job id: 61c8a8ba20e2c4d99aeaf74c )\n",
      "the job for 5 qubit circuits are casted... ( job id: 61c8a8bce2b9d10d099138e9 )\n",
      "the job for 6 qubit circuits are casted... ( job id: 61c8a8bdfa27f645ad37cdfb )\n",
      "the job for 7 qubit circuits are casted... ( job id: 61c8a8bf06d47f3309c41ee5 )\n",
      "the job for 8 qubit circuits are casted... ( job id: 61c8a8c120e2c4e0f0eaf74d )\n",
      "the job for 9 qubit circuits are casted... ( job id: 61c8a8c2e2b9d198c59138ea )\n",
      "the job for 10 qubit circuits are casted... ( job id: 61c8a8c4fa27f6b9df37cdfc )\n",
      "the job for 11 qubit circuits are casted... ( job id: 61c8a8c5255d4e7631d65de3 )\n",
      "the job for 12 qubit circuits are casted... ( job id: 61c8a8c73b6df9692073e255 )\n",
      "the job for 13 qubit circuits are casted... ( job id: 61c8a8c920e2c4723deaf74e )\n",
      "the job for 14 qubit circuits are casted... ( job id: 61c8a8cb255d4e9801d65de4 )\n",
      "the job for 15 qubit circuits are casted... ( job id: 61c8a8cc576354b6bcf51011 )\n",
      "the job for 16 qubit circuits are casted... ( job id: 61c8a8cefa27f6aa7537cdfd )\n",
      "the job for 17 qubit circuits are casted... ( job id: 61c8a8d0a81fcf9c5cd1d7ce )\n",
      "the job for 18 qubit circuits are casted... ( job id: 61c8a8d25763547d0ef51012 )\n",
      "the job for 19 qubit circuits are casted... ( job id: 61c8a8d4525f9e5b12396d7e )\n",
      "the job for 20 qubit circuits are casted... ( job id: 61c8a8d620e2c4847ceaf74f )\n",
      "the job for 21 qubit circuits are casted... ( job id: 61c8a8da3b6df9950973e256 )\n",
      "the job for 22 qubit circuits are casted... ( job id: 61c8a8dd525f9e522b396d7f )\n",
      "the job for 23 qubit circuits are casted... ( job id: 61c8a8e33b6df9ee8273e257 )\n",
      "the job for 24 qubit circuits are casted... ( job id: 61c8a8e720e2c4e7b9eaf750 )\n",
      "the job for 25 qubit circuits are casted... ( job id: 61c8a8ea06d47fed22c41ee6 )\n",
      "the job for 26 qubit circuits are casted... ( job id: 61c8a8ecfa27f63ddc37cdfe )\n",
      "the job for 27 qubit circuits are casted... ( job id: 61c8a8f006d47f8411c41ee7 )\n",
      "the job for 28 qubit circuits are casted... ( job id: 61c8a8f33b6df9c36073e258 )\n",
      "the job for 29 qubit circuits are casted... ( job id: 61c8a8f606d47f446cc41ee8 )\n",
      "the job for 30 qubit circuits are casted... ( job id: 61c8a8faa81fcf5c5ed1d7cf )\n",
      "the job for 31 qubit circuits are casted... ( job id: 61c8a8fee2b9d1c97f9138ec )\n",
      "the job for 32 qubit circuits are casted... ( job id: 61c8a901fa27f6985437cdff )\n",
      "the job for 33 qubit circuits are casted... ( job id: 61c8a906e2b9d1fb839138ed )\n",
      "the job for 34 qubit circuits are casted... ( job id: 61c8a90a255d4e955dd65de7 )\n",
      "the job for 35 qubit circuits are casted... ( job id: 61c8a90e20e2c4b884eaf751 )\n",
      "the job for 36 qubit circuits are casted... ( job id: 61c8a91306d47fd37bc41ee9 )\n",
      "the job for 37 qubit circuits are casted... ( job id: 61c8a91ce2b9d1422c9138ee )\n",
      "the job for 38 qubit circuits are casted... ( job id: 61c8a921fa27f644b537ce02 )\n",
      "the job for 39 qubit circuits are casted... ( job id: 61c8a928e2b9d1aa139138f0 )\n",
      "the job for 40 qubit circuits are casted... ( job id: 61c8a931a81fcf4ef8d1d7d1 )\n",
      "the job for 41 qubit circuits are casted... ( job id: 61c8a9365763543fb6f51016 )\n",
      "the job for 42 qubit circuits are casted... ( job id: 61c8a93b5763544035f51017 )\n",
      "the job for 43 qubit circuits are casted... ( job id: 61c8a940fa27f6452737ce04 )\n",
      "the job for 44 qubit circuits are casted... ( job id: 61c8a94c576354bff1f51019 )\n",
      "the job for 45 qubit circuits are casted... ( job id: 61c8a95206d47f7cf0c41eec )\n",
      "the job for 46 qubit circuits are casted... ( job id: 61c8a95720e2c40ce7eaf755 )\n",
      "the job for 47 qubit circuits are casted... ( job id: 61c8a95d525f9ef5b9396d80 )\n",
      "the job for 48 qubit circuits are casted... ( job id: 61c8a965e2b9d11a789138f2 )\n",
      "the job for 49 qubit circuits are casted... ( job id: 61c8a96b255d4e61d2d65dec )\n",
      "the job for 50 qubit circuits are casted... ( job id: 61c8a9713b6df9341c73e25a )\n",
      "the job for 51 qubit circuits are casted... ( job id: 61c8a978a81fcf7e36d1d7d2 )\n",
      "the job for 52 qubit circuits are casted... ( job id: 61c8a98181db3e5b9685073c )\n",
      "the job for 53 qubit circuits are casted... ( job id: 61c8a98820e2c468cbeaf757 )\n",
      "the job for 54 qubit circuits are casted... ( job id: 61c8a98e525f9ea98d396d82 )\n",
      "the job for 55 qubit circuits are casted... ( job id: 61c8a996fa27f6748d37ce06 )\n",
      "the job for 56 qubit circuits are casted... ( job id: 61c8a99dfa27f654a337ce07 )\n",
      "the job for 57 qubit circuits are casted... ( job id: 61c8a9a4e2b9d11dc99138f5 )\n",
      "the job for 58 qubit circuits are casted... ( job id: 61c8a9ac576354e8c0f5101d )\n",
      "the job for 59 qubit circuits are casted... ( job id: 61c8a9b481db3e11c685073e )\n",
      "the job for 60 qubit circuits are casted... ( job id: 61c8a9bd57635444c2f5101e )\n",
      "the job for 61 qubit circuits are casted... ( job id: 61c8a9c606d47f7080c41ef1 )\n",
      "the job for 62 qubit circuits are casted... ( job id: 61c8a9cf81db3e099a85073f )\n",
      "the job for 63 qubit circuits are casted... ( job id: 61c8a9d83b6df979b773e25e )\n",
      "the job for 64 qubit circuits are casted... ( job id: 61c8a9e3576354073df51020 )\n",
      "the job for 65 qubit circuits are casted... ( job id: 61c8a9ec576354814df51021 )\n"
     ]
    }
   ],
   "source": [
    "job_list = []\n",
    "for i, (ghz_mqc_mit_qcs, initial_layouts) in enumerate(zip(ghz_mqc_mit_qcs_list, initial_layouts_list)):\n",
    "    job = execute(ghz_mqc_mit_qcs,\n",
    "                  backend=backend, \n",
    "                  shots=shots_per_circuit,\n",
    "                  optimization_level=1,\n",
    "                  initial_layout=initial_layouts)\n",
    "    print(\"the job for\", i + 1, \"qubit circuits are casted... ( job id:\", job.job_id(), \")\")\n",
    "    job_list.append(job.job_id())"
   ]
  },
  {
   "cell_type": "code",
   "execution_count": 16,
   "id": "ce84586e",
   "metadata": {},
   "outputs": [],
   "source": [
    "with open(\"pkls/job_list.pkl\", \"wb\") as f:\n",
    "    pickle.dump(job_list, f)"
   ]
  },
  {
   "cell_type": "code",
   "execution_count": 17,
   "id": "c7a992fe",
   "metadata": {},
   "outputs": [
    {
     "name": "stdout",
     "output_type": "stream",
     "text": [
      "['61c8a8b420e2c4e45ceaf74b', '61c8a8b7a81fcf727dd1d7cc', '61c8a8b9fa27f609b637cdfa', '61c8a8ba20e2c4d99aeaf74c', '61c8a8bce2b9d10d099138e9', '61c8a8bdfa27f645ad37cdfb', '61c8a8bf06d47f3309c41ee5', '61c8a8c120e2c4e0f0eaf74d', '61c8a8c2e2b9d198c59138ea', '61c8a8c4fa27f6b9df37cdfc', '61c8a8c5255d4e7631d65de3', '61c8a8c73b6df9692073e255', '61c8a8c920e2c4723deaf74e', '61c8a8cb255d4e9801d65de4', '61c8a8cc576354b6bcf51011', '61c8a8cefa27f6aa7537cdfd', '61c8a8d0a81fcf9c5cd1d7ce', '61c8a8d25763547d0ef51012', '61c8a8d4525f9e5b12396d7e', '61c8a8d620e2c4847ceaf74f', '61c8a8da3b6df9950973e256', '61c8a8dd525f9e522b396d7f', '61c8a8e33b6df9ee8273e257', '61c8a8e720e2c4e7b9eaf750', '61c8a8ea06d47fed22c41ee6', '61c8a8ecfa27f63ddc37cdfe', '61c8a8f006d47f8411c41ee7', '61c8a8f33b6df9c36073e258', '61c8a8f606d47f446cc41ee8', '61c8a8faa81fcf5c5ed1d7cf', '61c8a8fee2b9d1c97f9138ec', '61c8a901fa27f6985437cdff', '61c8a906e2b9d1fb839138ed', '61c8a90a255d4e955dd65de7', '61c8a90e20e2c4b884eaf751', '61c8a91306d47fd37bc41ee9', '61c8a91ce2b9d1422c9138ee', '61c8a921fa27f644b537ce02', '61c8a928e2b9d1aa139138f0', '61c8a931a81fcf4ef8d1d7d1', '61c8a9365763543fb6f51016', '61c8a93b5763544035f51017', '61c8a940fa27f6452737ce04', '61c8a94c576354bff1f51019', '61c8a95206d47f7cf0c41eec', '61c8a95720e2c40ce7eaf755', '61c8a95d525f9ef5b9396d80', '61c8a965e2b9d11a789138f2', '61c8a96b255d4e61d2d65dec', '61c8a9713b6df9341c73e25a', '61c8a978a81fcf7e36d1d7d2', '61c8a98181db3e5b9685073c', '61c8a98820e2c468cbeaf757', '61c8a98e525f9ea98d396d82', '61c8a996fa27f6748d37ce06', '61c8a99dfa27f654a337ce07', '61c8a9a4e2b9d11dc99138f5', '61c8a9ac576354e8c0f5101d', '61c8a9b481db3e11c685073e', '61c8a9bd57635444c2f5101e', '61c8a9c606d47f7080c41ef1', '61c8a9cf81db3e099a85073f', '61c8a9d83b6df979b773e25e', '61c8a9e3576354073df51020', '61c8a9ec576354814df51021']\n"
     ]
    }
   ],
   "source": [
    "with open(\"pkls/job_list.pkl\", \"rb\") as f:\n",
    "    pprint(pickle.load(f))"
   ]
  },
  {
   "cell_type": "markdown",
   "id": "be05ed5e",
   "metadata": {},
   "source": [
    "# device properties"
   ]
  },
  {
   "cell_type": "code",
   "execution_count": 5,
   "id": "3bfc710b",
   "metadata": {},
   "outputs": [],
   "source": [
    "with open(\"pkls/properties_20211226.pkl\", \"wb\") as f:\n",
    "    pickle.dump(device.properties(), f)"
   ]
  }
 ],
 "metadata": {
  "kernelspec": {
   "display_name": "Python 3 (ipykernel)",
   "language": "python",
   "name": "python3"
  },
  "language_info": {
   "codemirror_mode": {
    "name": "ipython",
    "version": 3
   },
   "file_extension": ".py",
   "mimetype": "text/x-python",
   "name": "python",
   "nbconvert_exporter": "python",
   "pygments_lexer": "ipython3",
   "version": "3.9.7"
  }
 },
 "nbformat": 4,
 "nbformat_minor": 5
}

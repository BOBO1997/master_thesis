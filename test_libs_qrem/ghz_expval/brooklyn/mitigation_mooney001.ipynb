{
 "cells": [
  {
   "cell_type": "code",
   "execution_count": 1,
   "id": "worst-austria",
   "metadata": {},
   "outputs": [],
   "source": [
    "import numpy as np\n",
    "import matplotlib.pyplot as plt\n",
    "%matplotlib inline\n",
    "import pickle\n",
    "import time\n",
    "import importlib"
   ]
  },
  {
   "cell_type": "code",
   "execution_count": 2,
   "id": "43f90bc8",
   "metadata": {},
   "outputs": [],
   "source": [
    "import sys\n",
    "sys.path.append(\"../../../libs_bell\")\n",
    "from lib_preprocessing import job_ids_to_result, flatten_results_jobs_list, arrange_results_list_tensored3, results_list_to_hist_list"
   ]
  },
  {
   "cell_type": "code",
   "execution_count": 3,
   "id": "e2ae2ba1",
   "metadata": {},
   "outputs": [],
   "source": [
    "with open(\"pkls/raw_hist_list.pkl\", \"rb\") as f:\n",
    "    raw_hist_list = pickle.load(f)\n",
    "with open(\"pkls/results_meas_cal.pkl\", \"rb\") as f:\n",
    "    results_meas_cal = pickle.load(f)"
   ]
  },
  {
   "cell_type": "code",
   "execution_count": 4,
   "id": "6796d5f5",
   "metadata": {
    "scrolled": true
   },
   "outputs": [],
   "source": [
    "from libs_qrem import MooneyEtalFilter\n",
    "from qiskit.ignis.mitigation.measurement import TensoredMeasFitter"
   ]
  },
  {
   "cell_type": "code",
   "execution_count": 5,
   "id": "1fee9429",
   "metadata": {},
   "outputs": [
    {
     "name": "stdout",
     "output_type": "stream",
     "text": [
      "size 10 finished\n",
      "size 20 finished\n",
      "size 30 finished\n",
      "size 40 finished\n",
      "size 50 finished\n",
      "size 60 finished\n",
      "length of mooney001_mitigator_list:  64\n"
     ]
    }
   ],
   "source": [
    "max_size = 65\n",
    "max_length = 64\n",
    "mooney001_mitigator_list = []\n",
    "for n in range(2, max_size + 1):\n",
    "    mit_pattern = [[i] for i in range(n)]\n",
    "    meas_fitter = TensoredMeasFitter(results_meas_cal[n - 1], mit_pattern=mit_pattern)\n",
    "    mooney001_mitigator_list.append(MooneyEtalFilter(n, meas_fitter.cal_matrices))\n",
    "    if n % 10 == 0:\n",
    "        print(\"size\", n, \"finished\")\n",
    "print(\"length of mooney001_mitigator_list: \", len(mooney001_mitigator_list))"
   ]
  },
  {
   "cell_type": "code",
   "execution_count": 6,
   "id": "fd336980",
   "metadata": {
    "scrolled": true
   },
   "outputs": [
    {
     "name": "stdout",
     "output_type": "stream",
     "text": [
      "1 th finished ( 2 qubits, 8.930399999940164e-05 s )\n",
      "2 th finished ( 3 qubits, 7.83359999996236e-05 s )\n",
      "3 th finished ( 4 qubits, 8.614300000076014e-05 s )\n",
      "4 th finished ( 5 qubits, 0.00015905000000060454 s )\n",
      "5 th finished ( 6 qubits, 0.00023510699999995666 s )\n",
      "6 th finished ( 7 qubits, 0.00022843700000052536 s )\n",
      "7 th finished ( 8 qubits, 0.0003038429999993042 s )\n",
      "8 th finished ( 9 qubits, 0.00038469599999935156 s )\n",
      "9 th finished ( 10 qubits, 0.0004713450000011221 s )\n",
      "10 th finished ( 11 qubits, 0.0006876540000000375 s )\n",
      "11 th finished ( 12 qubits, 0.0010533920000010966 s )\n",
      "12 th finished ( 13 qubits, 0.0010701429999997458 s )\n",
      "13 th finished ( 14 qubits, 0.0011005330000006808 s )\n",
      "14 th finished ( 15 qubits, 0.0014189259999994874 s )\n",
      "15 th finished ( 16 qubits, 0.0016820489999993526 s )\n",
      "16 th finished ( 17 qubits, 0.0024140970000008366 s )\n",
      "17 th finished ( 18 qubits, 0.002503306999999566 s )\n",
      "18 th finished ( 19 qubits, 0.0028410779999994418 s )\n",
      "19 th finished ( 20 qubits, 0.003157690999998408 s )\n",
      "20 th finished ( 21 qubits, 0.0032950700000000666 s )\n",
      "21 th finished ( 22 qubits, 0.0034093899999998456 s )\n",
      "22 th finished ( 23 qubits, 0.0056491940000000795 s )\n",
      "23 th finished ( 24 qubits, 0.006516930000000087 s )\n",
      "24 th finished ( 25 qubits, 0.007304932000000264 s )\n",
      "25 th finished ( 26 qubits, 0.0077980410000009215 s )\n",
      "26 th finished ( 27 qubits, 0.007778795000000116 s )\n",
      "27 th finished ( 28 qubits, 0.008346752999999651 s )\n",
      "28 th finished ( 29 qubits, 0.008872306000000663 s )\n",
      "29 th finished ( 30 qubits, 0.010127683999998638 s )\n",
      "30 th finished ( 31 qubits, 0.010209701000000848 s )\n",
      "31 th finished ( 32 qubits, 0.009341307000001464 s )\n",
      "32 th finished ( 33 qubits, 0.009868331999999924 s )\n",
      "33 th finished ( 34 qubits, 0.009916231000000053 s )\n",
      "34 th finished ( 35 qubits, 0.010481686000000323 s )\n",
      "35 th finished ( 36 qubits, 0.011692572000001178 s )\n",
      "36 th finished ( 37 qubits, 0.011269457999999233 s )\n",
      "37 th finished ( 38 qubits, 0.011559016999999727 s )\n",
      "38 th finished ( 39 qubits, 0.012878342000000487 s )\n",
      "39 th finished ( 40 qubits, 0.014479595000000955 s )\n",
      "40 th finished ( 41 qubits, 0.014697718000000748 s )\n",
      "41 th finished ( 42 qubits, 0.014469220000000504 s )\n",
      "42 th finished ( 43 qubits, 0.018426487999999352 s )\n",
      "43 th finished ( 44 qubits, 0.017461211999998838 s )\n",
      "44 th finished ( 45 qubits, 0.016620195999999865 s )\n",
      "45 th finished ( 46 qubits, 0.017285540999999682 s )\n",
      "46 th finished ( 47 qubits, 0.017549239999999244 s )\n",
      "47 th finished ( 48 qubits, 0.018510119000000103 s )\n",
      "48 th finished ( 49 qubits, 0.017730932999999283 s )\n",
      "49 th finished ( 50 qubits, 0.019358906999999093 s )\n",
      "50 th finished ( 51 qubits, 0.019771544999999335 s )\n",
      "51 th finished ( 52 qubits, 0.019863194000000917 s )\n",
      "52 th finished ( 53 qubits, 0.019988356000000707 s )\n",
      "53 th finished ( 54 qubits, 0.021434108999999424 s )\n",
      "54 th finished ( 55 qubits, 0.01993504600000051 s )\n",
      "55 th finished ( 56 qubits, 0.022550545999999727 s )\n",
      "56 th finished ( 57 qubits, 0.020329697999999397 s )\n",
      "57 th finished ( 58 qubits, 0.020795524000000398 s )\n",
      "58 th finished ( 59 qubits, 0.02185916800000065 s )\n",
      "59 th finished ( 60 qubits, 0.021645558999999537 s )\n",
      "60 th finished ( 61 qubits, 0.022370065000000494 s )\n",
      "61 th finished ( 62 qubits, 0.022422705999998627 s )\n",
      "62 th finished ( 63 qubits, 0.022670033999999006 s )\n",
      "63 th finished ( 64 qubits, 0.022757304000000644 s )\n",
      "64 th finished ( 65 qubits, 0.025611502000000286 s )\n"
     ]
    }
   ],
   "source": [
    "for i in range(max_length):\n",
    "    t1 = time.perf_counter()\n",
    "    _ = mooney001_mitigator_list[i].apply(raw_hist_list[i + 1], threshold = 0.01)\n",
    "    t2 = time.perf_counter()\n",
    "    print(i + 1, \"th finished (\", i + 2, \"qubits,\", t2 - t1, \"s )\")"
   ]
  },
  {
   "cell_type": "code",
   "execution_count": 7,
   "id": "ca9e4afd",
   "metadata": {
    "scrolled": true
   },
   "outputs": [
    {
     "name": "stdout",
     "output_type": "stream",
     "text": [
      "1 th finished ( 2 qubits, 2.132200000026785e-05 s )\n",
      "2 th finished ( 3 qubits, 1.0650000000111959e-05 s )\n",
      "3 th finished ( 4 qubits, 6.454999999405686e-06 s )\n",
      "4 th finished ( 5 qubits, 7.888000000733086e-06 s )\n",
      "5 th finished ( 6 qubits, 7.1300000001883745e-06 s )\n",
      "6 th finished ( 7 qubits, 6.752999999193321e-06 s )\n",
      "7 th finished ( 8 qubits, 5.754000000024462e-06 s )\n",
      "8 th finished ( 9 qubits, 5.715000000350301e-06 s )\n",
      "9 th finished ( 10 qubits, 5.911000000580202e-06 s )\n",
      "10 th finished ( 11 qubits, 6.164000000197234e-06 s )\n",
      "11 th finished ( 12 qubits, 7.408000000097559e-06 s )\n",
      "12 th finished ( 13 qubits, 6.199999999623174e-06 s )\n",
      "13 th finished ( 14 qubits, 7.2860000006613745e-06 s )\n",
      "14 th finished ( 15 qubits, 6.654999999966549e-06 s )\n",
      "15 th finished ( 16 qubits, 1.32339999989739e-05 s )\n",
      "16 th finished ( 17 qubits, 9.28500000085819e-06 s )\n",
      "17 th finished ( 18 qubits, 8.11999999861257e-06 s )\n",
      "18 th finished ( 19 qubits, 7.321000000004574e-06 s )\n",
      "19 th finished ( 20 qubits, 7.289999999215979e-06 s )\n",
      "20 th finished ( 21 qubits, 1.1466000000126542e-05 s )\n",
      "21 th finished ( 22 qubits, 1.113800000140941e-05 s )\n",
      "22 th finished ( 23 qubits, 1.7571000000771164e-05 s )\n",
      "23 th finished ( 24 qubits, 1.0222000000226217e-05 s )\n",
      "24 th finished ( 25 qubits, 1.3577999999014878e-05 s )\n",
      "25 th finished ( 26 qubits, 1.4304999998770995e-05 s )\n",
      "26 th finished ( 27 qubits, 8.648999999749662e-06 s )\n",
      "27 th finished ( 28 qubits, 1.2754000000114729e-05 s )\n",
      "28 th finished ( 29 qubits, 2.0971000001424045e-05 s )\n",
      "29 th finished ( 30 qubits, 9.425000000007344e-06 s )\n",
      "30 th finished ( 31 qubits, 8.939999998958115e-06 s )\n",
      "31 th finished ( 32 qubits, 8.180000000024279e-06 s )\n",
      "32 th finished ( 33 qubits, 1.8202999999772373e-05 s )\n",
      "33 th finished ( 34 qubits, 1.1446000000248091e-05 s )\n",
      "34 th finished ( 35 qubits, 7.618999999792209e-06 s )\n",
      "35 th finished ( 36 qubits, 7.147999999901344e-06 s )\n",
      "36 th finished ( 37 qubits, 6.449000000685601e-06 s )\n",
      "37 th finished ( 38 qubits, 8.529000000478959e-06 s )\n",
      "38 th finished ( 39 qubits, 7.100999999565261e-06 s )\n",
      "39 th finished ( 40 qubits, 7.413000000511261e-06 s )\n",
      "40 th finished ( 41 qubits, 6.98900000095648e-06 s )\n",
      "41 th finished ( 42 qubits, 6.754999999358802e-06 s )\n",
      "42 th finished ( 43 qubits, 1.056000000154711e-05 s )\n",
      "43 th finished ( 44 qubits, 8.251000000569775e-06 s )\n",
      "44 th finished ( 45 qubits, 8.278000001027408e-06 s )\n",
      "45 th finished ( 46 qubits, 1.6051000001127136e-05 s )\n",
      "46 th finished ( 47 qubits, 9.76199999946914e-06 s )\n",
      "47 th finished ( 48 qubits, 9.43900000116571e-06 s )\n",
      "48 th finished ( 49 qubits, 8.746000000670051e-06 s )\n",
      "49 th finished ( 50 qubits, 9.60699999907888e-06 s )\n",
      "50 th finished ( 51 qubits, 1.5112999999900012e-05 s )\n",
      "51 th finished ( 52 qubits, 8.55100000052289e-06 s )\n",
      "52 th finished ( 53 qubits, 8.224000000112142e-06 s )\n",
      "53 th finished ( 54 qubits, 7.663999999962812e-06 s )\n",
      "54 th finished ( 55 qubits, 6.7020000003026325e-06 s )\n",
      "55 th finished ( 56 qubits, 1.1527999999927374e-05 s )\n",
      "56 th finished ( 57 qubits, 7.568999999207904e-06 s )\n",
      "57 th finished ( 58 qubits, 1.084500000025912e-05 s )\n",
      "58 th finished ( 59 qubits, 1.0585999998369289e-05 s )\n",
      "59 th finished ( 60 qubits, 7.359999999678735e-06 s )\n",
      "60 th finished ( 61 qubits, 7.894999999535912e-06 s )\n",
      "61 th finished ( 62 qubits, 6.898000000532534e-06 s )\n",
      "62 th finished ( 63 qubits, 5.937000000955095e-06 s )\n",
      "63 th finished ( 64 qubits, 8.317000000701569e-06 s )\n",
      "64 th finished ( 65 qubits, 6.288999999881639e-06 s )\n"
     ]
    }
   ],
   "source": [
    "mooney001_mitigator_info = []\n",
    "for i in range(max_length):\n",
    "    t1 = time.perf_counter()\n",
    "    mooney001_mitigator_info.append({# \"exact_one_norm_of_reduced_inv_A\": mooney001_mitigator_list[i].exact_one_norm_of_reduced_inv_A(),\n",
    "                                 \"mitigated_hist\": mooney001_mitigator_list[i].mitigated_hist(),\n",
    "                                 \"x_s\": mooney001_mitigator_list[i].x_s(),\n",
    "                                 # \"x_hat\": mooney001_mitigator_list[i].x_hat(),\n",
    "                                 \"x_tilde\": mooney001_mitigator_list[i].x_tilde(),\n",
    "                                 \"sum_of_x\": mooney001_mitigator_list[i].sum_of_x(),\n",
    "                                 # \"sum_of_x_hat\": mooney001_mitigator_list[i].sum_of_x_hat(),\n",
    "                                 \"sum_of_x_tilde\": mooney001_mitigator_list[i].sum_of_x_tilde(),\n",
    "                                 \"indices_to_keys_vector\": mooney001_mitigator_list[i].indices_to_keys_vector(),\n",
    "                                 \"times\": mooney001_mitigator_list[i].times(),\n",
    "                                 \"expval\": mooney001_mitigator_list[i].expval(),\n",
    "                                 # \"mitigation_stddev\": mooney001_mitigator_list[i].mitigation_stddev(norm_type = \"exact\"),\n",
    "                                 })\n",
    "    t2 = time.perf_counter()\n",
    "    print(i + 1, \"th finished (\", i + 2, \"qubits,\", t2 - t1, \"s )\")"
   ]
  },
  {
   "cell_type": "code",
   "execution_count": 8,
   "id": "95549737",
   "metadata": {},
   "outputs": [],
   "source": [
    "with open(\"./pkls/mooney001_mitigator_info.pkl\", \"wb\") as f:\n",
    "    pickle.dump(mooney001_mitigator_info, f)"
   ]
  }
 ],
 "metadata": {
  "kernelspec": {
   "display_name": "Python 3 (ipykernel)",
   "language": "python",
   "name": "python3"
  },
  "language_info": {
   "codemirror_mode": {
    "name": "ipython",
    "version": 3
   },
   "file_extension": ".py",
   "mimetype": "text/x-python",
   "name": "python",
   "nbconvert_exporter": "python",
   "pygments_lexer": "ipython3",
   "version": "3.9.7"
  }
 },
 "nbformat": 4,
 "nbformat_minor": 5
}

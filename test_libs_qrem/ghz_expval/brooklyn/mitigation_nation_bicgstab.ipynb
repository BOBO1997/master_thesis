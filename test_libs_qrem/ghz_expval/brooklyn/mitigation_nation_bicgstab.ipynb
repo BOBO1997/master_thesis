{
 "cells": [
  {
   "cell_type": "code",
   "execution_count": 1,
   "id": "worst-austria",
   "metadata": {},
   "outputs": [],
   "source": [
    "import numpy as np\n",
    "import matplotlib.pyplot as plt\n",
    "%matplotlib inline\n",
    "import pickle\n",
    "import time\n",
    "import importlib"
   ]
  },
  {
   "cell_type": "code",
   "execution_count": 2,
   "id": "43f90bc8",
   "metadata": {},
   "outputs": [],
   "source": [
    "import sys\n",
    "sys.path.append(\"../../../libs_bell\")\n",
    "from lib_preprocessing import job_ids_to_result, flatten_results_jobs_list, arrange_results_list_tensored3, results_list_to_hist_list"
   ]
  },
  {
   "cell_type": "code",
   "execution_count": 3,
   "id": "e2ae2ba1",
   "metadata": {},
   "outputs": [],
   "source": [
    "with open(\"pkls/raw_hist_list.pkl\", \"rb\") as f:\n",
    "    raw_hist_list = pickle.load(f)\n",
    "with open(\"pkls/results_meas_cal.pkl\", \"rb\") as f:\n",
    "    results_meas_cal = pickle.load(f)"
   ]
  },
  {
   "cell_type": "code",
   "execution_count": 4,
   "id": "6796d5f5",
   "metadata": {
    "scrolled": true
   },
   "outputs": [],
   "source": [
    "from libs_qrem import NationEtalFilter\n",
    "from qiskit.ignis.mitigation.measurement import TensoredMeasFitter"
   ]
  },
  {
   "cell_type": "code",
   "execution_count": 5,
   "id": "1fee9429",
   "metadata": {},
   "outputs": [
    {
     "name": "stdout",
     "output_type": "stream",
     "text": [
      "size 10 finished\n",
      "size 20 finished\n",
      "size 30 finished\n",
      "size 40 finished\n",
      "size 50 finished\n",
      "size 60 finished\n",
      "length of nation_bicgstab_mitigator_list:  64\n"
     ]
    }
   ],
   "source": [
    "max_size = 65\n",
    "max_length = 64\n",
    "nation_bicgstab_mitigator_list = []\n",
    "for n in range(2, max_size + 1):\n",
    "    mit_pattern = [[i] for i in range(n)]\n",
    "    meas_fitter = TensoredMeasFitter(results_meas_cal[n - 1], mit_pattern=mit_pattern)\n",
    "    nation_bicgstab_mitigator_list.append(NationEtalFilter(n, meas_fitter.cal_matrices))\n",
    "    if n % 10 == 0:\n",
    "        print(\"size\", n, \"finished\")\n",
    "print(\"length of nation_bicgstab_mitigator_list: \", len(nation_bicgstab_mitigator_list))"
   ]
  },
  {
   "cell_type": "code",
   "execution_count": 6,
   "id": "fd336980",
   "metadata": {},
   "outputs": [
    {
     "name": "stdout",
     "output_type": "stream",
     "text": [
      "1 th finished ( 2 qubits, 0.00011026499999999828 s )\n",
      "2 th finished ( 3 qubits, 7.00909999977739e-05 s )\n",
      "3 th finished ( 4 qubits, 0.00011798399999918274 s )\n",
      "4 th finished ( 5 qubits, 0.00022338599999827125 s )\n",
      "5 th finished ( 6 qubits, 0.0003467579999991699 s )\n",
      "6 th finished ( 7 qubits, 0.0004601090000022623 s )\n",
      "7 th finished ( 8 qubits, 0.0008984239999989541 s )\n",
      "8 th finished ( 9 qubits, 0.0013518790000013325 s )\n",
      "9 th finished ( 10 qubits, 0.002010057999999759 s )\n",
      "10 th finished ( 11 qubits, 0.0031639420000004748 s )\n",
      "11 th finished ( 12 qubits, 0.004759128999999973 s )\n",
      "12 th finished ( 13 qubits, 0.007806352999999433 s )\n",
      "13 th finished ( 14 qubits, 0.00960659500000105 s )\n",
      "14 th finished ( 15 qubits, 0.014837438000000702 s )\n",
      "15 th finished ( 16 qubits, 0.017233514000000838 s )\n",
      "16 th finished ( 17 qubits, 0.03085317899999751 s )\n",
      "17 th finished ( 18 qubits, 0.04425443099999882 s )\n",
      "18 th finished ( 19 qubits, 0.05502222299999815 s )\n",
      "19 th finished ( 20 qubits, 0.07207738500000005 s )\n",
      "20 th finished ( 21 qubits, 0.10166756299999946 s )\n",
      "21 th finished ( 22 qubits, 0.11766410699999952 s )\n",
      "22 th finished ( 23 qubits, 0.14186581499999917 s )\n",
      "23 th finished ( 24 qubits, 0.1860725049999985 s )\n",
      "24 th finished ( 25 qubits, 0.27526469499999706 s )\n",
      "25 th finished ( 26 qubits, 0.3001565779999993 s )\n",
      "26 th finished ( 27 qubits, 0.3190894859999993 s )\n",
      "27 th finished ( 28 qubits, 0.348192258000001 s )\n",
      "28 th finished ( 29 qubits, 0.41976361900000114 s )\n",
      "29 th finished ( 30 qubits, 0.49967974600000176 s )\n",
      "30 th finished ( 31 qubits, 0.5353236989999992 s )\n",
      "31 th finished ( 32 qubits, 0.5845380539999994 s )\n",
      "32 th finished ( 33 qubits, 0.7919935100000011 s )\n",
      "33 th finished ( 34 qubits, 0.8390213320000015 s )\n",
      "34 th finished ( 35 qubits, 0.9537642989999995 s )\n",
      "35 th finished ( 36 qubits, 1.0102484380000014 s )\n",
      "36 th finished ( 37 qubits, 1.055885858 s )\n",
      "37 th finished ( 38 qubits, 1.156753423999998 s )\n",
      "38 th finished ( 39 qubits, 1.2771721320000005 s )\n",
      "39 th finished ( 40 qubits, 1.4049493240000004 s )\n",
      "40 th finished ( 41 qubits, 1.4847097790000028 s )\n",
      "41 th finished ( 42 qubits, 1.776783463000001 s )\n",
      "42 th finished ( 43 qubits, 2.181710188000004 s )\n",
      "43 th finished ( 44 qubits, 2.3441163709999984 s )\n",
      "44 th finished ( 45 qubits, 2.581950857999999 s )\n",
      "45 th finished ( 46 qubits, 2.598526489000001 s )\n",
      "46 th finished ( 47 qubits, 2.685841103999998 s )\n",
      "47 th finished ( 48 qubits, 2.8405218820000044 s )\n",
      "48 th finished ( 49 qubits, 3.061256364000002 s )\n",
      "49 th finished ( 50 qubits, 3.2509246219999994 s )\n",
      "50 th finished ( 51 qubits, 3.353961335000001 s )\n",
      "51 th finished ( 52 qubits, 3.8299268120000036 s )\n",
      "52 th finished ( 53 qubits, 4.004859807999999 s )\n",
      "53 th finished ( 54 qubits, 5.617324334999992 s )\n",
      "54 th finished ( 55 qubits, 4.277271205000005 s )\n",
      "55 th finished ( 56 qubits, 4.471967513999999 s )\n",
      "56 th finished ( 57 qubits, 4.506981738999997 s )\n",
      "57 th finished ( 58 qubits, 4.696664225999996 s )\n",
      "58 th finished ( 59 qubits, 4.880671223999997 s )\n",
      "59 th finished ( 60 qubits, 5.077812023999996 s )\n",
      "60 th finished ( 61 qubits, 5.421755443999999 s )\n",
      "61 th finished ( 62 qubits, 5.201227777 s )\n",
      "62 th finished ( 63 qubits, 5.575105901000001 s )\n",
      "63 th finished ( 64 qubits, 6.808700994000006 s )\n",
      "64 th finished ( 65 qubits, 6.1418744679999975 s )\n"
     ]
    }
   ],
   "source": [
    "for i in range(max_length):\n",
    "    t1 = time.perf_counter()\n",
    "    _ = nation_bicgstab_mitigator_list[i].apply(raw_hist_list[i + 1], method=\"bicgstab\")\n",
    "    t2 = time.perf_counter()\n",
    "    print(i + 1, \"th finished (\", i + 2, \"qubits,\", t2 - t1, \"s )\")"
   ]
  },
  {
   "cell_type": "code",
   "execution_count": 7,
   "id": "ca9e4afd",
   "metadata": {},
   "outputs": [
    {
     "name": "stdout",
     "output_type": "stream",
     "text": [
      "1 th finished ( 2 qubits, 0.000518336999988378 s )\n",
      "2 th finished ( 3 qubits, 0.00013942500001462577 s )\n",
      "3 th finished ( 4 qubits, 0.00019624799998041453 s )\n",
      "4 th finished ( 5 qubits, 0.00024461300000666597 s )\n",
      "5 th finished ( 6 qubits, 0.0004937840000138749 s )\n",
      "6 th finished ( 7 qubits, 0.0008645100000137518 s )\n",
      "7 th finished ( 8 qubits, 0.002107129000023633 s )\n",
      "8 th finished ( 9 qubits, 0.0038158829999872523 s )\n",
      "9 th finished ( 10 qubits, 0.0076958029999900646 s )\n",
      "10 th finished ( 11 qubits, 0.019729624000007107 s )\n",
      "11 th finished ( 12 qubits, 0.020351990999984082 s )\n",
      "12 th finished ( 13 qubits, 0.031057971999985057 s )\n",
      "13 th finished ( 14 qubits, 0.05236958699998695 s )\n",
      "14 th finished ( 15 qubits, 0.07722169900000608 s )\n",
      "15 th finished ( 16 qubits, 0.11500561300002232 s )\n",
      "16 th finished ( 17 qubits, 0.23378267399999686 s )\n",
      "17 th finished ( 18 qubits, 0.31363547899999844 s )\n",
      "18 th finished ( 19 qubits, 0.4298393130000022 s )\n",
      "19 th finished ( 20 qubits, 0.5786155669999857 s )\n",
      "20 th finished ( 21 qubits, 0.7745098609999843 s )\n",
      "21 th finished ( 22 qubits, 1.0150355330000025 s )\n",
      "22 th finished ( 23 qubits, 1.1515223899999967 s )\n",
      "23 th finished ( 24 qubits, 1.6237628040000232 s )\n",
      "24 th finished ( 25 qubits, 2.4579421770000067 s )\n",
      "25 th finished ( 26 qubits, 2.8081655450000085 s )\n",
      "26 th finished ( 27 qubits, 3.0587751469999773 s )\n",
      "27 th finished ( 28 qubits, 3.9001595780000002 s )\n",
      "28 th finished ( 29 qubits, 4.322942846000018 s )\n",
      "29 th finished ( 30 qubits, 5.1522555139999895 s )\n",
      "30 th finished ( 31 qubits, 5.847025986999995 s )\n",
      "31 th finished ( 32 qubits, 6.5531591079999885 s )\n",
      "32 th finished ( 33 qubits, 11.422890195000008 s )\n",
      "33 th finished ( 34 qubits, 12.069052658999993 s )\n",
      "34 th finished ( 35 qubits, 11.705482862999986 s )\n",
      "35 th finished ( 36 qubits, 11.919620444000003 s )\n",
      "36 th finished ( 37 qubits, 13.260489772 s )\n",
      "37 th finished ( 38 qubits, 14.675448012999993 s )\n",
      "38 th finished ( 39 qubits, 16.069731854999986 s )\n",
      "39 th finished ( 40 qubits, 17.717131284000004 s )\n",
      "40 th finished ( 41 qubits, 19.31499630000002 s )\n",
      "41 th finished ( 42 qubits, 20.744267331999993 s )\n",
      "42 th finished ( 43 qubits, 31.924727469000004 s )\n",
      "43 th finished ( 44 qubits, 31.342758606000018 s )\n",
      "44 th finished ( 45 qubits, 35.435139230000004 s )\n",
      "45 th finished ( 46 qubits, 35.06420541600005 s )\n",
      "46 th finished ( 47 qubits, 36.559187586000064 s )\n",
      "47 th finished ( 48 qubits, 40.56279423899991 s )\n",
      "48 th finished ( 49 qubits, 40.711487965999936 s )\n",
      "49 th finished ( 50 qubits, 38.64061398199999 s )\n",
      "50 th finished ( 51 qubits, 41.67607826899996 s )\n",
      "51 th finished ( 52 qubits, 46.951301984 s )\n",
      "52 th finished ( 53 qubits, 49.94197158199995 s )\n",
      "53 th finished ( 54 qubits, 54.28249533299993 s )\n",
      "54 th finished ( 55 qubits, 53.477117338000085 s )\n",
      "55 th finished ( 56 qubits, 62.893675144999975 s )\n",
      "56 th finished ( 57 qubits, 58.29070634000004 s )\n",
      "57 th finished ( 58 qubits, 66.17814831499993 s )\n",
      "58 th finished ( 59 qubits, 70.76627392 s )\n",
      "59 th finished ( 60 qubits, 71.54981192100013 s )\n",
      "60 th finished ( 61 qubits, 82.57318901000008 s )\n",
      "61 th finished ( 62 qubits, 75.37178100400001 s )\n",
      "62 th finished ( 63 qubits, 92.32328393900002 s )\n",
      "63 th finished ( 64 qubits, 80.97999834500001 s )\n",
      "64 th finished ( 65 qubits, 83.26908146400001 s )\n"
     ]
    }
   ],
   "source": [
    "nation_bicgstab_mitigator_info = []\n",
    "for i in range(max_length):\n",
    "    t1 = time.perf_counter()\n",
    "    nation_bicgstab_mitigator_info.append({\"exact_one_norm_of_inv_reduced_A\": nation_bicgstab_mitigator_list[i].exact_one_norm_of_inv_reduced_A(),\n",
    "                                           \"iterative_one_norm_of_inv_reduced_A\": nation_bicgstab_mitigator_list[i].iterative_one_norm_of_inv_reduced_A(method=\"iterative\"),\n",
    "                                           \"mitigated_hist\": nation_bicgstab_mitigator_list[i].mitigated_hist(),\n",
    "                                           \"x_s\": nation_bicgstab_mitigator_list[i].x_s(),\n",
    "                                           \"x_hat\": nation_bicgstab_mitigator_list[i].x_hat(),\n",
    "                                           \"x_tilde\": nation_bicgstab_mitigator_list[i].x_tilde(),\n",
    "                                           \"sum_of_x\": nation_bicgstab_mitigator_list[i].sum_of_x(),\n",
    "                                           \"sum_of_x_hat\": nation_bicgstab_mitigator_list[i].sum_of_x_hat(),\n",
    "                                           \"sum_of_x_tilde\": nation_bicgstab_mitigator_list[i].sum_of_x_tilde(),\n",
    "                                           \"indices_to_keys_vector\": nation_bicgstab_mitigator_list[i].indices_to_keys_vector(),\n",
    "                                           \"times\": nation_bicgstab_mitigator_list[i].times(),\n",
    "                                           \"expval\": nation_bicgstab_mitigator_list[i].expval(),\n",
    "                                           \"mitigation_stddev\": nation_bicgstab_mitigator_list[i].mitigation_stddev(norm_type = \"exact\"),\n",
    "                                 })\n",
    "    t2 = time.perf_counter()\n",
    "    print(i + 1, \"th finished (\", i + 2, \"qubits,\", t2 - t1, \"s )\")"
   ]
  },
  {
   "cell_type": "code",
   "execution_count": 8,
   "id": "95549737",
   "metadata": {},
   "outputs": [],
   "source": [
    "with open(\"./pkls/nation_bicgstab_mitigator_info.pkl\", \"wb\") as f:\n",
    "    pickle.dump(nation_bicgstab_mitigator_info, f)"
   ]
  },
  {
   "cell_type": "code",
   "execution_count": 9,
   "id": "ac0f0eb8",
   "metadata": {},
   "outputs": [
    {
     "name": "stdout",
     "output_type": "stream",
     "text": [
      "1 th finished ( 2 expval:  0.9620350462980118  )\n",
      "2 th finished ( 3 expval:  -0.011305336912500241  )\n",
      "3 th finished ( 4 expval:  0.9914300253935047  )\n",
      "4 th finished ( 5 expval:  0.035281613524738124  )\n",
      "5 th finished ( 6 expval:  0.950483248673519  )\n",
      "6 th finished ( 7 expval:  -0.031747031139105215  )\n",
      "7 th finished ( 8 expval:  0.9044120873563479  )\n",
      "8 th finished ( 9 expval:  0.032329743221295774  )\n",
      "9 th finished ( 10 expval:  0.8976905672131609  )\n",
      "10 th finished ( 11 expval:  0.0488716851698396  )\n",
      "11 th finished ( 12 expval:  0.8141058047649238  )\n",
      "12 th finished ( 13 expval:  0.09651456811701478  )\n",
      "13 th finished ( 14 expval:  0.8312073104394081  )\n",
      "14 th finished ( 15 expval:  0.04862301261667661  )\n",
      "15 th finished ( 16 expval:  0.7423309019963942  )\n",
      "16 th finished ( 17 expval:  0.09911045899527791  )\n",
      "17 th finished ( 18 expval:  0.6860260019905794  )\n",
      "18 th finished ( 19 expval:  0.08688731172624645  )\n",
      "19 th finished ( 20 expval:  0.6271082006686896  )\n",
      "20 th finished ( 21 expval:  0.1059392640170816  )\n",
      "21 th finished ( 22 expval:  0.5902734366518007  )\n",
      "22 th finished ( 23 expval:  0.08406660402845795  )\n",
      "23 th finished ( 24 expval:  0.5703743375202232  )\n",
      "24 th finished ( 25 expval:  0.16042814058345603  )\n",
      "25 th finished ( 26 expval:  0.5109669398891411  )\n",
      "26 th finished ( 27 expval:  0.18580452030668054  )\n",
      "27 th finished ( 28 expval:  0.49953795902361264  )\n",
      "28 th finished ( 29 expval:  0.10442045582044061  )\n",
      "29 th finished ( 30 expval:  0.513628887688033  )\n",
      "30 th finished ( 31 expval:  0.13870703845875804  )\n",
      "31 th finished ( 32 expval:  0.4756049614687134  )\n",
      "32 th finished ( 33 expval:  0.22648421860452905  )\n",
      "33 th finished ( 34 expval:  0.42417331955032106  )\n",
      "34 th finished ( 35 expval:  0.20112891196791488  )\n",
      "35 th finished ( 36 expval:  0.4628829823082389  )\n",
      "36 th finished ( 37 expval:  0.18189508265771523  )\n",
      "37 th finished ( 38 expval:  0.3928903693679222  )\n",
      "38 th finished ( 39 expval:  0.18629654371498447  )\n",
      "39 th finished ( 40 expval:  0.40023184446709703  )\n",
      "40 th finished ( 41 expval:  0.1763013797623486  )\n",
      "41 th finished ( 42 expval:  0.29896127822082624  )\n",
      "42 th finished ( 43 expval:  0.22491736549824934  )\n",
      "43 th finished ( 44 expval:  0.27684956126040117  )\n",
      "44 th finished ( 45 expval:  0.21184936717248712  )\n",
      "45 th finished ( 46 expval:  0.26925085261157067  )\n",
      "46 th finished ( 47 expval:  0.19189032772434342  )\n",
      "47 th finished ( 48 expval:  0.301853050100814  )\n",
      "48 th finished ( 49 expval:  0.1752428858691766  )\n",
      "49 th finished ( 50 expval:  0.2559473311125512  )\n",
      "50 th finished ( 51 expval:  0.19923309055039728  )\n",
      "51 th finished ( 52 expval:  0.2341415287595252  )\n",
      "52 th finished ( 53 expval:  0.19812644991717676  )\n",
      "53 th finished ( 54 expval:  0.2634259240666901  )\n",
      "54 th finished ( 55 expval:  0.18336215095842523  )\n",
      "55 th finished ( 56 expval:  0.24523958748318347  )\n",
      "56 th finished ( 57 expval:  0.1816655557703437  )\n",
      "57 th finished ( 58 expval:  0.24469811474836511  )\n",
      "58 th finished ( 59 expval:  0.19761669314068983  )\n",
      "59 th finished ( 60 expval:  0.20355635583096482  )\n",
      "60 th finished ( 61 expval:  0.16828228977310628  )\n",
      "61 th finished ( 62 expval:  0.19124092722878114  )\n",
      "62 th finished ( 63 expval:  0.18755792152634995  )\n",
      "63 th finished ( 64 expval:  0.1771394846999647  )\n",
      "64 th finished ( 65 expval:  0.16653465225166247  )\n"
     ]
    }
   ],
   "source": [
    "for i in range(max_length):\n",
    "    print(i + 1, \"th finished (\", i + 2, \"expval: \", nation_bicgstab_mitigator_list[i].expval(), \" )\")"
   ]
  },
  {
   "cell_type": "code",
   "execution_count": 10,
   "id": "2968b54c",
   "metadata": {},
   "outputs": [
    {
     "data": {
      "text/plain": [
       "[<matplotlib.lines.Line2D at 0x7fa865491490>]"
      ]
     },
     "execution_count": 10,
     "metadata": {},
     "output_type": "execute_result"
    },
    {
     "data": {
      "image/png": "[encoded data removed]",
      "text/plain": [
       "<Figure size 432x288 with 1 Axes>"
      ]
     },
     "metadata": {
      "needs_background": "light"
     },
     "output_type": "display_data"
    }
   ],
   "source": [
    "plt.plot([nation_bicgstab_mitigator_list[i].expval() for i in range(max_length)])"
   ]
  },
  {
   "cell_type": "code",
   "execution_count": 11,
   "id": "bdf4c71a",
   "metadata": {
    "scrolled": true
   },
   "outputs": [
    {
     "name": "stdout",
     "output_type": "stream",
     "text": [
      "1 th finished ( 2 qubits, 4.294000063964631e-06 s )\n",
      "2 th finished ( 3 qubits, 2.533000042603817e-06 s )\n",
      "3 th finished ( 4 qubits, 2.210999809904024e-06 s )\n",
      "4 th finished ( 5 qubits, 1.5410000742122065e-06 s )\n",
      "5 th finished ( 6 qubits, 2.3380000584438676e-06 s )\n",
      "6 th finished ( 7 qubits, 2.286999915668275e-06 s )\n",
      "7 th finished ( 8 qubits, 1.1919998996745562e-06 s )\n",
      "8 th finished ( 9 qubits, 8.265000133178546e-06 s )\n",
      "9 th finished ( 10 qubits, 7.820000064384658e-06 s )\n",
      "10 th finished ( 11 qubits, 1.0822000149346422e-05 s )\n",
      "11 th finished ( 12 qubits, 8.826999874145258e-06 s )\n",
      "12 th finished ( 13 qubits, 2.924999989772914e-06 s )\n",
      "13 th finished ( 14 qubits, 8.139000101436977e-06 s )\n",
      "14 th finished ( 15 qubits, 4.872000090472284e-06 s )\n",
      "15 th finished ( 16 qubits, 3.166999931636383e-06 s )\n",
      "16 th finished ( 17 qubits, 2.386999994996586e-06 s )\n",
      "17 th finished ( 18 qubits, 1.3589999525720486e-06 s )\n",
      "18 th finished ( 19 qubits, 1.092000047719921e-06 s )\n",
      "19 th finished ( 20 qubits, 2.2739998257748084e-06 s )\n",
      "20 th finished ( 21 qubits, 1.5830000847927295e-06 s )\n",
      "21 th finished ( 22 qubits, 2.2140000055514975e-06 s )\n",
      "22 th finished ( 23 qubits, 1.8460000319464598e-06 s )\n",
      "23 th finished ( 24 qubits, 1.306000058320933e-06 s )\n",
      "24 th finished ( 25 qubits, 2.165999831049703e-06 s )\n",
      "25 th finished ( 26 qubits, 1.638999947317643e-06 s )\n",
      "26 th finished ( 27 qubits, 1.06199991023459e-06 s )\n",
      "27 th finished ( 28 qubits, 1.2319999314058805e-06 s )\n",
      "28 th finished ( 29 qubits, 2.0840000161115313e-06 s )\n",
      "29 th finished ( 30 qubits, 1.083000142898527e-06 s )\n",
      "30 th finished ( 31 qubits, 1.8129999261873309e-06 s )\n",
      "31 th finished ( 32 qubits, 1.3460000900522573e-06 s )\n",
      "32 th finished ( 33 qubits, 1.2460000107239466e-06 s )\n",
      "33 th finished ( 34 qubits, 2.2599999738304177e-06 s )\n",
      "34 th finished ( 35 qubits, 1.9980000161012867e-06 s )\n",
      "35 th finished ( 36 qubits, 2.6249999791616574e-06 s )\n",
      "36 th finished ( 37 qubits, 1.3100000160193304e-06 s )\n",
      "37 th finished ( 38 qubits, 1.0769999789772555e-06 s )\n",
      "38 th finished ( 39 qubits, 1.5660000372008653e-06 s )\n",
      "39 th finished ( 40 qubits, 2.435999931549304e-06 s )\n",
      "40 th finished ( 41 qubits, 2.0940001377312e-06 s )\n",
      "41 th finished ( 42 qubits, 1.3200001376389991e-06 s )\n",
      "42 th finished ( 43 qubits, 1.1709998943842947e-06 s )\n",
      "43 th finished ( 44 qubits, 1.3639998996950453e-06 s )\n",
      "44 th finished ( 45 qubits, 1.0969999948429177e-06 s )\n",
      "45 th finished ( 46 qubits, 1.2840000636060722e-06 s )\n",
      "46 th finished ( 47 qubits, 1.2430000424501486e-06 s )\n",
      "47 th finished ( 48 qubits, 9.810000847210176e-07 s )\n",
      "48 th finished ( 49 qubits, 1.005000058285077e-06 s )\n",
      "49 th finished ( 50 qubits, 9.539999155094847e-07 s )\n",
      "50 th finished ( 51 qubits, 1.0280000424245372e-06 s )\n",
      "51 th finished ( 52 qubits, 1.1110000741609838e-06 s )\n",
      "52 th finished ( 53 qubits, 9.40000063565094e-07 s )\n",
      "53 th finished ( 54 qubits, 1.055999973686994e-06 s )\n",
      "54 th finished ( 55 qubits, 2.7599999157246202e-06 s )\n",
      "55 th finished ( 56 qubits, 1.9740000425372273e-06 s )\n",
      "56 th finished ( 57 qubits, 1.1120000635855831e-06 s )\n",
      "57 th finished ( 58 qubits, 2.0249999579391442e-06 s )\n",
      "58 th finished ( 59 qubits, 2.1890000425628386e-06 s )\n",
      "59 th finished ( 60 qubits, 1.8810001165547874e-06 s )\n",
      "60 th finished ( 61 qubits, 1.2890000107290689e-06 s )\n",
      "61 th finished ( 62 qubits, 1.1349998203513678e-06 s )\n",
      "62 th finished ( 63 qubits, 1.219999830937013e-06 s )\n",
      "63 th finished ( 64 qubits, 1.0569999631115934e-06 s )\n",
      "64 th finished ( 65 qubits, 1.6930000583670335e-06 s )\n"
     ]
    }
   ],
   "source": [
    "for i in range(max_length):\n",
    "    t1 = time.perf_counter()\n",
    "    nation_bicgstab_mitigator_info[i][\"iterations\"] = nation_bicgstab_mitigator_list[i].iterations()\n",
    "    nation_bicgstab_mitigator_info[i][\"error\"] = nation_bicgstab_mitigator_list[i].error()\n",
    "    t2 = time.perf_counter()\n",
    "    print(i + 1, \"th finished (\", i + 2, \"qubits,\", t2 - t1, \"s )\")"
   ]
  },
  {
   "cell_type": "code",
   "execution_count": 14,
   "id": "291f4595",
   "metadata": {},
   "outputs": [],
   "source": [
    "with open(\"./pkls/nation_bicgstab_mitigator_info.pkl\", \"wb\") as f:\n",
    "    pickle.dump(nation_bicgstab_mitigator_info, f)"
   ]
  }
 ],
 "metadata": {
  "kernelspec": {
   "display_name": "Python 3 (ipykernel)",
   "language": "python",
   "name": "python3"
  },
  "language_info": {
   "codemirror_mode": {
    "name": "ipython",
    "version": 3
   },
   "file_extension": ".py",
   "mimetype": "text/x-python",
   "name": "python",
   "nbconvert_exporter": "python",
   "pygments_lexer": "ipython3",
   "version": "3.9.7"
  }
 },
 "nbformat": 4,
 "nbformat_minor": 5
}

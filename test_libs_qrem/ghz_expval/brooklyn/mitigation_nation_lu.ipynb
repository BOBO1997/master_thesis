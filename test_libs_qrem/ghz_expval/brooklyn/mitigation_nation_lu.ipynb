{
 "cells": [
  {
   "cell_type": "code",
   "execution_count": 1,
   "id": "worst-austria",
   "metadata": {},
   "outputs": [],
   "source": [
    "import numpy as np\n",
    "import matplotlib.pyplot as plt\n",
    "%matplotlib inline\n",
    "import pickle\n",
    "import time\n",
    "import importlib"
   ]
  },
  {
   "cell_type": "code",
   "execution_count": 2,
   "id": "43f90bc8",
   "metadata": {},
   "outputs": [],
   "source": [
    "import sys\n",
    "sys.path.append(\"../../../libs_bell\")\n",
    "from lib_preprocessing import job_ids_to_result, flatten_results_jobs_list, arrange_results_list_tensored3, results_list_to_hist_list"
   ]
  },
  {
   "cell_type": "code",
   "execution_count": 3,
   "id": "e2ae2ba1",
   "metadata": {},
   "outputs": [],
   "source": [
    "with open(\"pkls/raw_hist_list.pkl\", \"rb\") as f:\n",
    "    raw_hist_list = pickle.load(f)\n",
    "with open(\"pkls/results_meas_cal.pkl\", \"rb\") as f:\n",
    "    results_meas_cal = pickle.load(f)"
   ]
  },
  {
   "cell_type": "code",
   "execution_count": 4,
   "id": "6796d5f5",
   "metadata": {
    "scrolled": true
   },
   "outputs": [],
   "source": [
    "from libs_qrem import NationEtalFilter\n",
    "from qiskit.ignis.mitigation.measurement import TensoredMeasFitter"
   ]
  },
  {
   "cell_type": "code",
   "execution_count": 5,
   "id": "1fee9429",
   "metadata": {},
   "outputs": [
    {
     "name": "stdout",
     "output_type": "stream",
     "text": [
      "size 10 finished\n",
      "size 20 finished\n",
      "size 30 finished\n",
      "size 40 finished\n",
      "size 50 finished\n",
      "size 60 finished\n",
      "length of nation_lu_mitigator_list:  64\n"
     ]
    }
   ],
   "source": [
    "max_size = 65\n",
    "max_length = 64\n",
    "nation_lu_mitigator_list = []\n",
    "for n in range(2, max_size + 1):\n",
    "    mit_pattern = [[i] for i in range(n)]\n",
    "    meas_fitter = TensoredMeasFitter(results_meas_cal[n - 1], mit_pattern=mit_pattern)\n",
    "    nation_lu_mitigator_list.append(NationEtalFilter(n, meas_fitter.cal_matrices))\n",
    "    if n % 10 == 0:\n",
    "        print(\"size\", n, \"finished\")\n",
    "print(\"length of nation_lu_mitigator_list: \", len(nation_lu_mitigator_list))"
   ]
  },
  {
   "cell_type": "code",
   "execution_count": 6,
   "id": "fd336980",
   "metadata": {},
   "outputs": [
    {
     "name": "stdout",
     "output_type": "stream",
     "text": [
      "1 th finished ( 2 qubits, 8.581500000026665e-05 s )\n",
      "2 th finished ( 3 qubits, 0.00011695100000075342 s )\n",
      "3 th finished ( 4 qubits, 0.00010507300000028863 s )\n",
      "4 th finished ( 5 qubits, 0.00029467699999941033 s )\n",
      "5 th finished ( 6 qubits, 0.0004426380000008834 s )\n",
      "6 th finished ( 7 qubits, 0.0005695160000005473 s )\n",
      "7 th finished ( 8 qubits, 0.0009800740000009966 s )\n",
      "8 th finished ( 9 qubits, 0.0015343360000006356 s )\n",
      "9 th finished ( 10 qubits, 0.0033011799999993485 s )\n",
      "10 th finished ( 11 qubits, 0.003920071999999664 s )\n",
      "11 th finished ( 12 qubits, 0.007609794000000392 s )\n",
      "12 th finished ( 13 qubits, 0.011371948999999049 s )\n",
      "13 th finished ( 14 qubits, 0.01797575500000015 s )\n",
      "14 th finished ( 15 qubits, 0.027667455999999646 s )\n",
      "15 th finished ( 16 qubits, 0.0360354309999984 s )\n",
      "16 th finished ( 17 qubits, 0.07269906900000045 s )\n",
      "17 th finished ( 18 qubits, 0.09825280000000092 s )\n",
      "18 th finished ( 19 qubits, 0.12660187800000067 s )\n",
      "19 th finished ( 20 qubits, 0.16889354399999945 s )\n",
      "20 th finished ( 21 qubits, 0.2395096169999995 s )\n",
      "21 th finished ( 22 qubits, 0.3175243519999995 s )\n",
      "22 th finished ( 23 qubits, 0.3674669760000011 s )\n",
      "23 th finished ( 24 qubits, 0.4849207799999995 s )\n",
      "24 th finished ( 25 qubits, 0.7462801770000009 s )\n",
      "25 th finished ( 26 qubits, 0.8516603749999998 s )\n",
      "26 th finished ( 27 qubits, 0.9054133360000005 s )\n",
      "27 th finished ( 28 qubits, 1.0248310959999998 s )\n",
      "28 th finished ( 29 qubits, 1.3469219209999999 s )\n",
      "29 th finished ( 30 qubits, 1.5015757310000026 s )\n",
      "30 th finished ( 31 qubits, 1.8196652419999992 s )\n",
      "31 th finished ( 32 qubits, 1.972593388 s )\n",
      "32 th finished ( 33 qubits, 2.995666861 s )\n",
      "33 th finished ( 34 qubits, 2.862126110000002 s )\n",
      "34 th finished ( 35 qubits, 3.4428931110000036 s )\n",
      "35 th finished ( 36 qubits, 3.526489930000004 s )\n",
      "36 th finished ( 37 qubits, 3.6365330769999957 s )\n",
      "37 th finished ( 38 qubits, 3.898788713000002 s )\n",
      "38 th finished ( 39 qubits, 4.248592484 s )\n",
      "39 th finished ( 40 qubits, 4.5337492479999995 s )\n",
      "40 th finished ( 41 qubits, 4.887288254999994 s )\n",
      "41 th finished ( 42 qubits, 5.719480302999997 s )\n",
      "42 th finished ( 43 qubits, 8.08500901099999 s )\n",
      "43 th finished ( 44 qubits, 8.150927857 s )\n",
      "44 th finished ( 45 qubits, 8.731787702000005 s )\n",
      "45 th finished ( 46 qubits, 8.910937556999997 s )\n",
      "46 th finished ( 47 qubits, 9.418546062000004 s )\n",
      "47 th finished ( 48 qubits, 9.766795321000004 s )\n",
      "48 th finished ( 49 qubits, 10.322103204000001 s )\n",
      "49 th finished ( 50 qubits, 10.945360355999995 s )\n",
      "50 th finished ( 51 qubits, 11.324264647999996 s )\n",
      "51 th finished ( 52 qubits, 12.720799937999999 s )\n",
      "52 th finished ( 53 qubits, 13.515646892000007 s )\n",
      "53 th finished ( 54 qubits, 15.310516428 s )\n",
      "54 th finished ( 55 qubits, 15.09401159699999 s )\n",
      "55 th finished ( 56 qubits, 16.239766924999998 s )\n",
      "56 th finished ( 57 qubits, 16.445145300999997 s )\n",
      "57 th finished ( 58 qubits, 17.062533524999992 s )\n",
      "58 th finished ( 59 qubits, 16.829546882000017 s )\n",
      "59 th finished ( 60 qubits, 15.866460082999993 s )\n",
      "60 th finished ( 61 qubits, 17.881625233999955 s )\n",
      "61 th finished ( 62 qubits, 18.586205326000027 s )\n",
      "62 th finished ( 63 qubits, 20.659787221999977 s )\n",
      "63 th finished ( 64 qubits, 20.55055164700002 s )\n",
      "64 th finished ( 65 qubits, 22.013582583000016 s )\n"
     ]
    }
   ],
   "source": [
    "for i in range(max_length):\n",
    "    t1 = time.perf_counter()\n",
    "    _ = nation_lu_mitigator_list[i].apply(raw_hist_list[i + 1], method=\"lu\")\n",
    "    t2 = time.perf_counter()\n",
    "    print(i + 1, \"th finished (\", i + 2, \"qubits,\", t2 - t1, \"s )\")"
   ]
  },
  {
   "cell_type": "code",
   "execution_count": 7,
   "id": "ca9e4afd",
   "metadata": {},
   "outputs": [
    {
     "name": "stdout",
     "output_type": "stream",
     "text": [
      "1 th finished ( 2 qubits, 0.0005926420000150756 s )\n",
      "2 th finished ( 3 qubits, 4.622000000154003e-05 s )\n",
      "3 th finished ( 4 qubits, 9.005100002923427e-05 s )\n",
      "4 th finished ( 5 qubits, 0.0002503900000192516 s )\n",
      "5 th finished ( 6 qubits, 0.0007111180000265449 s )\n",
      "6 th finished ( 7 qubits, 0.0007684049999738818 s )\n",
      "7 th finished ( 8 qubits, 0.0021253449999676377 s )\n",
      "8 th finished ( 9 qubits, 0.004092045999982474 s )\n",
      "9 th finished ( 10 qubits, 0.006846039999970799 s )\n",
      "10 th finished ( 11 qubits, 0.011334871999963525 s )\n",
      "11 th finished ( 12 qubits, 0.018019696999999724 s )\n",
      "12 th finished ( 13 qubits, 0.03154450800002451 s )\n",
      "13 th finished ( 14 qubits, 0.053954051000005165 s )\n",
      "14 th finished ( 15 qubits, 0.09060153399997262 s )\n",
      "15 th finished ( 16 qubits, 0.10804784400005474 s )\n",
      "16 th finished ( 17 qubits, 0.24848643000001402 s )\n",
      "17 th finished ( 18 qubits, 0.34225173800001585 s )\n",
      "18 th finished ( 19 qubits, 0.5126225700000191 s )\n",
      "19 th finished ( 20 qubits, 0.7494827560000203 s )\n",
      "20 th finished ( 21 qubits, 0.9539132310000014 s )\n",
      "21 th finished ( 22 qubits, 1.2253556380000532 s )\n",
      "22 th finished ( 23 qubits, 1.4142373189999944 s )\n",
      "23 th finished ( 24 qubits, 2.039163214000041 s )\n",
      "24 th finished ( 25 qubits, 3.0349554850000118 s )\n",
      "25 th finished ( 26 qubits, 3.4868434619999675 s )\n",
      "26 th finished ( 27 qubits, 3.9922433769999657 s )\n",
      "27 th finished ( 28 qubits, 4.668751250000014 s )\n",
      "28 th finished ( 29 qubits, 5.7065356340000335 s )\n",
      "29 th finished ( 30 qubits, 6.636048113000015 s )\n",
      "30 th finished ( 31 qubits, 8.460307345000047 s )\n",
      "31 th finished ( 32 qubits, 11.452718889000039 s )\n",
      "32 th finished ( 33 qubits, 12.19998005299999 s )\n",
      "33 th finished ( 34 qubits, 13.287171021000006 s )\n",
      "34 th finished ( 35 qubits, 15.514929141000039 s )\n",
      "35 th finished ( 36 qubits, 16.362420526999983 s )\n",
      "36 th finished ( 37 qubits, 16.383496341999944 s )\n",
      "37 th finished ( 38 qubits, 18.482213234999904 s )\n",
      "38 th finished ( 39 qubits, 21.06669143099998 s )\n",
      "39 th finished ( 40 qubits, 23.045600457999967 s )\n",
      "40 th finished ( 41 qubits, 23.628469797000093 s )\n",
      "41 th finished ( 42 qubits, 26.358315061999974 s )\n",
      "42 th finished ( 43 qubits, 38.67724771899998 s )\n",
      "43 th finished ( 44 qubits, 38.459268705 s )\n",
      "44 th finished ( 45 qubits, 42.57207512899993 s )\n",
      "45 th finished ( 46 qubits, 42.73425409399999 s )\n",
      "46 th finished ( 47 qubits, 46.81182964099992 s )\n",
      "47 th finished ( 48 qubits, 48.220421350999914 s )\n",
      "48 th finished ( 49 qubits, 51.605634068000086 s )\n",
      "49 th finished ( 50 qubits, 52.35109443099998 s )\n",
      "50 th finished ( 51 qubits, 54.892767286000094 s )\n",
      "51 th finished ( 52 qubits, 59.40508831600005 s )\n",
      "52 th finished ( 53 qubits, 70.3406432459999 s )\n",
      "53 th finished ( 54 qubits, 68.77684012299983 s )\n",
      "54 th finished ( 55 qubits, 68.93262560699986 s )\n",
      "55 th finished ( 56 qubits, 76.55872714599991 s )\n",
      "56 th finished ( 57 qubits, 77.6190379310001 s )\n",
      "57 th finished ( 58 qubits, 78.64801174200011 s )\n",
      "58 th finished ( 59 qubits, 81.521055101 s )\n",
      "59 th finished ( 60 qubits, 83.58643014800009 s )\n",
      "60 th finished ( 61 qubits, 89.30053403200009 s )\n",
      "61 th finished ( 62 qubits, 84.28446140799997 s )\n",
      "62 th finished ( 63 qubits, 93.8858329950001 s )\n",
      "63 th finished ( 64 qubits, 94.17689905300017 s )\n",
      "64 th finished ( 65 qubits, 96.4285343839997 s )\n"
     ]
    }
   ],
   "source": [
    "nation_lu_mitigator_info = []\n",
    "for i in range(max_length):\n",
    "    t1 = time.perf_counter()\n",
    "    nation_lu_mitigator_info.append({\"exact_one_norm_of_inv_reduced_A\": nation_lu_mitigator_list[i].exact_one_norm_of_inv_reduced_A(),\n",
    "                                     \"iterative_one_norm_of_inv_reduced_A\": nation_lu_mitigator_list[i].iterative_one_norm_of_inv_reduced_A(method=\"lu\"),\n",
    "                                     \"mitigated_hist\": nation_lu_mitigator_list[i].mitigated_hist(),\n",
    "                                     \"x_s\": nation_lu_mitigator_list[i].x_s(),\n",
    "                                     \"x_hat\": nation_lu_mitigator_list[i].x_hat(),\n",
    "                                     \"x_tilde\": nation_lu_mitigator_list[i].x_tilde(),\n",
    "                                     \"sum_of_x\": nation_lu_mitigator_list[i].sum_of_x(),\n",
    "                                     \"sum_of_x_hat\": nation_lu_mitigator_list[i].sum_of_x_hat(),\n",
    "                                     \"sum_of_x_tilde\": nation_lu_mitigator_list[i].sum_of_x_tilde(),\n",
    "                                     \"indices_to_keys_vector\": nation_lu_mitigator_list[i].indices_to_keys_vector(),\n",
    "                                     \"times\": nation_lu_mitigator_list[i].times(),\n",
    "                                     \"expval\": nation_lu_mitigator_list[i].expval(),\n",
    "                                     \"mitigation_stddev\": nation_lu_mitigator_list[i].mitigation_stddev(norm_type = \"exact\"),\n",
    "                                     })\n",
    "    t2 = time.perf_counter()\n",
    "    print(i + 1, \"th finished (\", i + 2, \"qubits,\", t2 - t1, \"s )\")"
   ]
  },
  {
   "cell_type": "code",
   "execution_count": 8,
   "id": "95549737",
   "metadata": {},
   "outputs": [],
   "source": [
    "with open(\"./pkls/nation_lu_mitigator_info.pkl\", \"wb\") as f:\n",
    "    pickle.dump(nation_lu_mitigator_info, f)"
   ]
  },
  {
   "cell_type": "code",
   "execution_count": 9,
   "id": "4c694b73",
   "metadata": {},
   "outputs": [
    {
     "data": {
      "text/plain": [
       "[<matplotlib.lines.Line2D at 0x7f85129592e0>]"
      ]
     },
     "execution_count": 9,
     "metadata": {},
     "output_type": "execute_result"
    },
    {
     "data": {
      "image/png": "[encoded data removed]",
      "text/plain": [
       "<Figure size 432x288 with 1 Axes>"
      ]
     },
     "metadata": {
      "needs_background": "light"
     },
     "output_type": "display_data"
    }
   ],
   "source": [
    "plt.plot([nation_lu_mitigator_list[i].times()[\"total\"] for i in range(max_length)])"
   ]
  }
 ],
 "metadata": {
  "kernelspec": {
   "display_name": "Python 3 (ipykernel)",
   "language": "python",
   "name": "python3"
  },
  "language_info": {
   "codemirror_mode": {
    "name": "ipython",
    "version": 3
   },
   "file_extension": ".py",
   "mimetype": "text/x-python",
   "name": "python",
   "nbconvert_exporter": "python",
   "pygments_lexer": "ipython3",
   "version": "3.9.7"
  }
 },
 "nbformat": 4,
 "nbformat_minor": 5
}

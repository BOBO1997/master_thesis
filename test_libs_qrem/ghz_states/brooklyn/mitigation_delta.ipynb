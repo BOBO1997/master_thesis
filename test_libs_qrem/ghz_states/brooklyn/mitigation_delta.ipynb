{
 "cells": [
  {
   "cell_type": "code",
   "execution_count": 1,
   "id": "worst-austria",
   "metadata": {},
   "outputs": [],
   "source": [
    "import numpy as np\n",
    "import matplotlib.pyplot as plt\n",
    "%matplotlib inline\n",
    "import pickle\n",
    "import time\n",
    "import importlib"
   ]
  },
  {
   "cell_type": "code",
   "execution_count": 2,
   "id": "43f90bc8",
   "metadata": {},
   "outputs": [],
   "source": [
    "import sys\n",
    "sys.path.append(\"../../../libs_bell\")\n",
    "from lib_preprocessing import job_ids_to_result, flatten_results_jobs_list, arrange_results_list_tensored3, results_list_to_hist_list"
   ]
  },
  {
   "cell_type": "code",
   "execution_count": 3,
   "id": "e2ae2ba1",
   "metadata": {},
   "outputs": [],
   "source": [
    "with open(\"pkls/raw_hist_list.pkl\", \"rb\") as f:\n",
    "    raw_hist_list = pickle.load(f)\n",
    "with open(\"pkls/results_meas_cal.pkl\", \"rb\") as f:\n",
    "    results_meas_cal = pickle.load(f)"
   ]
  },
  {
   "cell_type": "code",
   "execution_count": 4,
   "id": "6796d5f5",
   "metadata": {
    "scrolled": true
   },
   "outputs": [],
   "source": [
    "from libs_qrem import DeltaFilter\n",
    "from qiskit.ignis.mitigation.measurement import TensoredMeasFitter"
   ]
  },
  {
   "cell_type": "code",
   "execution_count": 5,
   "id": "1fee9429",
   "metadata": {},
   "outputs": [
    {
     "name": "stdout",
     "output_type": "stream",
     "text": [
      "size 10 finished\n",
      "size 20 finished\n",
      "size 30 finished\n",
      "size 40 finished\n",
      "size 50 finished\n",
      "size 60 finished\n",
      "length of delta_mitigator_list:  64\n"
     ]
    }
   ],
   "source": [
    "max_size = 65\n",
    "max_length = 64\n",
    "delta_mitigator_list = []\n",
    "for n in range(2, max_size + 1):\n",
    "    mit_pattern = [[i] for i in range(n)]\n",
    "    meas_fitter = TensoredMeasFitter(results_meas_cal[n - 1], mit_pattern=mit_pattern)\n",
    "    delta_mitigator_list.append(DeltaFilter(n, meas_fitter.cal_matrices))\n",
    "    if n % 10 == 0:\n",
    "        print(\"size\", n, \"finished\")\n",
    "print(\"length of delta_mitigator_list: \", len(delta_mitigator_list))"
   ]
  },
  {
   "cell_type": "code",
   "execution_count": 6,
   "id": "fd336980",
   "metadata": {},
   "outputs": [
    {
     "name": "stdout",
     "output_type": "stream",
     "text": [
      "1 th finished ( 2 qubits, 7.171099999858654e-05 s )\n",
      "2 th finished ( 3 qubits, 6.227899999977637e-05 s )\n",
      "3 th finished ( 4 qubits, 0.00011096199999904854 s )\n",
      "4 th finished ( 5 qubits, 0.00020284700000061662 s )\n",
      "5 th finished ( 6 qubits, 0.0002829729999991315 s )\n",
      "6 th finished ( 7 qubits, 0.0004664329999997108 s )\n",
      "7 th finished ( 8 qubits, 0.0008479230000002502 s )\n",
      "8 th finished ( 9 qubits, 0.0009349419999988839 s )\n",
      "9 th finished ( 10 qubits, 0.0014427520000008798 s )\n",
      "10 th finished ( 11 qubits, 0.001774237000001122 s )\n",
      "11 th finished ( 12 qubits, 0.0024321720000006763 s )\n",
      "12 th finished ( 13 qubits, 0.005103704999999792 s )\n",
      "13 th finished ( 14 qubits, 0.006526345000001044 s )\n",
      "14 th finished ( 15 qubits, 0.010133948000000004 s )\n",
      "15 th finished ( 16 qubits, 0.011417444000000998 s )\n",
      "16 th finished ( 17 qubits, 0.01953271400000034 s )\n",
      "17 th finished ( 18 qubits, 0.023622174999999856 s )\n",
      "18 th finished ( 19 qubits, 0.03208419799999973 s )\n",
      "19 th finished ( 20 qubits, 0.04017053099999934 s )\n",
      "20 th finished ( 21 qubits, 0.05618653500000015 s )\n",
      "21 th finished ( 22 qubits, 0.06697086999999868 s )\n",
      "22 th finished ( 23 qubits, 0.08450590400000024 s )\n",
      "23 th finished ( 24 qubits, 0.10608686999999861 s )\n",
      "24 th finished ( 25 qubits, 0.14610691099999862 s )\n",
      "25 th finished ( 26 qubits, 0.16669344699999833 s )\n",
      "26 th finished ( 27 qubits, 0.19451331700000019 s )\n",
      "27 th finished ( 28 qubits, 0.21936846900000084 s )\n",
      "28 th finished ( 29 qubits, 0.26198498099999945 s )\n",
      "29 th finished ( 30 qubits, 0.2918571979999989 s )\n",
      "30 th finished ( 31 qubits, 0.3133366249999998 s )\n",
      "31 th finished ( 32 qubits, 0.3618357400000001 s )\n",
      "32 th finished ( 33 qubits, 0.462019347 s )\n",
      "33 th finished ( 34 qubits, 0.499387939 s )\n",
      "34 th finished ( 35 qubits, 0.590063207 s )\n",
      "35 th finished ( 36 qubits, 0.5912292860000008 s )\n",
      "36 th finished ( 37 qubits, 0.6625348009999996 s )\n",
      "37 th finished ( 38 qubits, 0.7422023310000014 s )\n",
      "38 th finished ( 39 qubits, 0.9648861340000003 s )\n",
      "39 th finished ( 40 qubits, 0.8657482660000007 s )\n",
      "40 th finished ( 41 qubits, 0.8982836410000026 s )\n",
      "41 th finished ( 42 qubits, 1.0509954720000003 s )\n",
      "42 th finished ( 43 qubits, 1.350849959999998 s )\n",
      "43 th finished ( 44 qubits, 1.447887382000001 s )\n",
      "44 th finished ( 45 qubits, 1.5105667989999993 s )\n",
      "45 th finished ( 46 qubits, 1.6020271120000018 s )\n",
      "46 th finished ( 47 qubits, 1.6924639259999985 s )\n",
      "47 th finished ( 48 qubits, 1.7768966949999978 s )\n",
      "48 th finished ( 49 qubits, 1.9090785330000024 s )\n",
      "49 th finished ( 50 qubits, 2.011719821 s )\n",
      "50 th finished ( 51 qubits, 2.058181337999997 s )\n",
      "51 th finished ( 52 qubits, 2.281249486 s )\n",
      "52 th finished ( 53 qubits, 2.5103261779999997 s )\n",
      "53 th finished ( 54 qubits, 2.6083211199999994 s )\n",
      "54 th finished ( 55 qubits, 2.7256495540000003 s )\n",
      "55 th finished ( 56 qubits, 3.0169077430000044 s )\n",
      "56 th finished ( 57 qubits, 3.1352247149999997 s )\n",
      "57 th finished ( 58 qubits, 3.023562315999996 s )\n",
      "58 th finished ( 59 qubits, 3.209685598 s )\n",
      "59 th finished ( 60 qubits, 3.218541805000001 s )\n",
      "60 th finished ( 61 qubits, 3.544853971000002 s )\n",
      "61 th finished ( 62 qubits, 3.4985237030000036 s )\n",
      "62 th finished ( 63 qubits, 3.9558161599999977 s )\n",
      "63 th finished ( 64 qubits, 4.186485298000008 s )\n",
      "64 th finished ( 65 qubits, 4.310931619999991 s )\n"
     ]
    }
   ],
   "source": [
    "for i in range(max_length):\n",
    "    t1 = time.perf_counter()\n",
    "    _ = delta_mitigator_list[i].apply(raw_hist_list[i + 1])\n",
    "    t2 = time.perf_counter()\n",
    "    print(i + 1, \"th finished (\", i + 2, \"qubits,\", t2 - t1, \"s )\")"
   ]
  },
  {
   "cell_type": "code",
   "execution_count": 7,
   "id": "ca9e4afd",
   "metadata": {},
   "outputs": [
    {
     "name": "stdout",
     "output_type": "stream",
     "text": [
      "1 th finished ( 2 qubits, 0.00027375400000551053 s )\n",
      "2 th finished ( 3 qubits, 0.0001514140000011821 s )\n",
      "3 th finished ( 4 qubits, 8.429999999748361e-05 s )\n",
      "4 th finished ( 5 qubits, 0.00017816300000106366 s )\n",
      "5 th finished ( 6 qubits, 0.00011572900000089703 s )\n",
      "6 th finished ( 7 qubits, 0.00024142899999901601 s )\n",
      "7 th finished ( 8 qubits, 0.0018336060000052612 s )\n",
      "8 th finished ( 9 qubits, 0.0017309209999893937 s )\n",
      "9 th finished ( 10 qubits, 0.00030384800000149426 s )\n",
      "10 th finished ( 11 qubits, 0.00020035600000767317 s )\n",
      "11 th finished ( 12 qubits, 0.0003631910000052585 s )\n",
      "12 th finished ( 13 qubits, 0.0005376439999906779 s )\n",
      "13 th finished ( 14 qubits, 0.00045288500000140175 s )\n",
      "14 th finished ( 15 qubits, 0.0005624190000048657 s )\n",
      "15 th finished ( 16 qubits, 0.0006524319999954287 s )\n",
      "16 th finished ( 17 qubits, 0.0008927389999939805 s )\n",
      "17 th finished ( 18 qubits, 0.003266511999996169 s )\n",
      "18 th finished ( 19 qubits, 0.0008867850000058297 s )\n",
      "19 th finished ( 20 qubits, 0.0011989860000056751 s )\n",
      "20 th finished ( 21 qubits, 0.0014663369999965425 s )\n",
      "21 th finished ( 22 qubits, 0.002104576999997221 s )\n",
      "22 th finished ( 23 qubits, 0.00254942000000824 s )\n",
      "23 th finished ( 24 qubits, 0.0037762820000040165 s )\n",
      "24 th finished ( 25 qubits, 0.006918026999997551 s )\n",
      "25 th finished ( 26 qubits, 0.004562733999989632 s )\n",
      "26 th finished ( 27 qubits, 0.004533066999997004 s )\n",
      "27 th finished ( 28 qubits, 0.004732872000005273 s )\n",
      "28 th finished ( 29 qubits, 0.003754748999995172 s )\n",
      "29 th finished ( 30 qubits, 0.004867336999993199 s )\n",
      "30 th finished ( 31 qubits, 0.005200905999998895 s )\n",
      "31 th finished ( 32 qubits, 0.0046173949999968045 s )\n",
      "32 th finished ( 33 qubits, 0.004541815999999699 s )\n",
      "33 th finished ( 34 qubits, 0.005009246000000189 s )\n",
      "34 th finished ( 35 qubits, 0.004896870000010267 s )\n",
      "35 th finished ( 36 qubits, 0.006005178999998861 s )\n",
      "36 th finished ( 37 qubits, 0.005086026000000743 s )\n",
      "37 th finished ( 38 qubits, 0.006336527000001979 s )\n",
      "38 th finished ( 39 qubits, 0.006217252000013218 s )\n",
      "39 th finished ( 40 qubits, 0.006205313999998907 s )\n",
      "40 th finished ( 41 qubits, 0.006466548999995325 s )\n",
      "41 th finished ( 42 qubits, 0.006855993000002059 s )\n",
      "42 th finished ( 43 qubits, 0.007457197999997334 s )\n",
      "43 th finished ( 44 qubits, 0.0068203179999954955 s )\n",
      "44 th finished ( 45 qubits, 0.006472531000000004 s )\n",
      "45 th finished ( 46 qubits, 0.007292135000000144 s )\n",
      "46 th finished ( 47 qubits, 0.0074594369999942955 s )\n",
      "47 th finished ( 48 qubits, 0.007388328999994087 s )\n",
      "48 th finished ( 49 qubits, 0.007694391000001133 s )\n",
      "49 th finished ( 50 qubits, 0.007418009000005554 s )\n",
      "50 th finished ( 51 qubits, 0.010749192999995216 s )\n",
      "51 th finished ( 52 qubits, 0.012707096999989176 s )\n",
      "52 th finished ( 53 qubits, 0.010088265000007368 s )\n",
      "53 th finished ( 54 qubits, 0.009228245000002744 s )\n",
      "54 th finished ( 55 qubits, 0.010649488999987966 s )\n",
      "55 th finished ( 56 qubits, 0.009834131000005186 s )\n",
      "56 th finished ( 57 qubits, 0.015407922999997936 s )\n",
      "57 th finished ( 58 qubits, 0.00923335000000236 s )\n",
      "58 th finished ( 59 qubits, 0.009671342000004302 s )\n",
      "59 th finished ( 60 qubits, 0.009364970000007133 s )\n",
      "60 th finished ( 61 qubits, 0.009020895000006135 s )\n",
      "61 th finished ( 62 qubits, 0.01057930400000373 s )\n",
      "62 th finished ( 63 qubits, 0.008970337999997469 s )\n",
      "63 th finished ( 64 qubits, 0.00950597500001038 s )\n",
      "64 th finished ( 65 qubits, 0.009460607999997706 s )\n"
     ]
    }
   ],
   "source": [
    "delta_mitigator_info = []\n",
    "for i in range(max_length):\n",
    "    t1 = time.perf_counter()\n",
    "    delta_mitigator_info.append({\"exact_one_norm_of_reduced_inv_A\": delta_mitigator_list[i].exact_one_norm_of_reduced_inv_A(),\n",
    "                                 \"mitigated_hist\": delta_mitigator_list[i].mitigated_hist(),\n",
    "                                 \"x_s\": delta_mitigator_list[i].x_s(),\n",
    "                                 \"x_hat\": delta_mitigator_list[i].x_hat(),\n",
    "                                 \"x_tilde\": delta_mitigator_list[i].x_tilde(),\n",
    "                                 \"sum_of_x\": delta_mitigator_list[i].sum_of_x(),\n",
    "                                 \"sum_of_x_hat\": delta_mitigator_list[i].sum_of_x_hat(),\n",
    "                                 \"sum_of_x_tilde\": delta_mitigator_list[i].sum_of_x_tilde(),\n",
    "                                 \"indices_to_keys_vector\": delta_mitigator_list[i].indices_to_keys_vector(),\n",
    "                                 \"times\": delta_mitigator_list[i].times(),\n",
    "                                 \"expval\": delta_mitigator_list[i].expval(),\n",
    "                                 \"mitigation_stddev\": delta_mitigator_list[i].mitigation_stddev(norm_type = \"exact\"),\n",
    "                                 })\n",
    "    t2 = time.perf_counter()\n",
    "    print(i + 1, \"th finished (\", i + 2, \"qubits,\", t2 - t1, \"s )\")"
   ]
  },
  {
   "cell_type": "code",
   "execution_count": 8,
   "id": "95549737",
   "metadata": {},
   "outputs": [],
   "source": [
    "with open(\"./pkls/delta_mitigator_info.pkl\", \"wb\") as f:\n",
    "    pickle.dump(delta_mitigator_info, f)"
   ]
  }
 ],
 "metadata": {
  "kernelspec": {
   "display_name": "Python 3 (ipykernel)",
   "language": "python",
   "name": "python3"
  },
  "language_info": {
   "codemirror_mode": {
    "name": "ipython",
    "version": 3
   },
   "file_extension": ".py",
   "mimetype": "text/x-python",
   "name": "python",
   "nbconvert_exporter": "python",
   "pygments_lexer": "ipython3",
   "version": "3.9.7"
  }
 },
 "nbformat": 4,
 "nbformat_minor": 5
}

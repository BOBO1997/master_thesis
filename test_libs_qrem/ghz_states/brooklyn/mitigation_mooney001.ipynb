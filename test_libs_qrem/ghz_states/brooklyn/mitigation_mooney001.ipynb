{
 "cells": [
  {
   "cell_type": "code",
   "execution_count": 1,
   "id": "worst-austria",
   "metadata": {},
   "outputs": [],
   "source": [
    "import numpy as np\n",
    "import matplotlib.pyplot as plt\n",
    "%matplotlib inline\n",
    "import pickle\n",
    "import time\n",
    "import importlib"
   ]
  },
  {
   "cell_type": "code",
   "execution_count": 2,
   "id": "43f90bc8",
   "metadata": {},
   "outputs": [],
   "source": [
    "import sys\n",
    "sys.path.append(\"../../../libs_bell\")\n",
    "from lib_preprocessing import job_ids_to_result, flatten_results_jobs_list, arrange_results_list_tensored3, results_list_to_hist_list"
   ]
  },
  {
   "cell_type": "code",
   "execution_count": 3,
   "id": "e2ae2ba1",
   "metadata": {},
   "outputs": [],
   "source": [
    "with open(\"pkls/raw_hist_list.pkl\", \"rb\") as f:\n",
    "    raw_hist_list = pickle.load(f)\n",
    "with open(\"pkls/results_meas_cal.pkl\", \"rb\") as f:\n",
    "    results_meas_cal = pickle.load(f)"
   ]
  },
  {
   "cell_type": "code",
   "execution_count": 4,
   "id": "6796d5f5",
   "metadata": {
    "scrolled": true
   },
   "outputs": [],
   "source": [
    "from libs_qrem import MooneyEtalFilter\n",
    "from qiskit.ignis.mitigation.measurement import TensoredMeasFitter"
   ]
  },
  {
   "cell_type": "code",
   "execution_count": 5,
   "id": "1fee9429",
   "metadata": {},
   "outputs": [
    {
     "name": "stdout",
     "output_type": "stream",
     "text": [
      "size 10 finished\n",
      "size 20 finished\n",
      "size 30 finished\n",
      "size 40 finished\n",
      "size 50 finished\n",
      "size 60 finished\n",
      "length of mooney001_mitigator_list:  64\n"
     ]
    }
   ],
   "source": [
    "max_size = 65\n",
    "max_length = 30\n",
    "mooney001_mitigator_list = []\n",
    "for n in range(2, max_size + 1):\n",
    "    mit_pattern = [[i] for i in range(n)]\n",
    "    meas_fitter = TensoredMeasFitter(results_meas_cal[n - 1], mit_pattern=mit_pattern)\n",
    "    mooney001_mitigator_list.append(MooneyEtalFilter(n, meas_fitter.cal_matrices))\n",
    "    if n % 10 == 0:\n",
    "        print(\"size\", n, \"finished\")\n",
    "print(\"length of mooney001_mitigator_list: \", len(mooney001_mitigator_list))"
   ]
  },
  {
   "cell_type": "code",
   "execution_count": 6,
   "id": "fd336980",
   "metadata": {
    "scrolled": true
   },
   "outputs": [
    {
     "name": "stdout",
     "output_type": "stream",
     "text": [
      "1 th finished ( 2 qubits, 7.708300000075496e-05 s )\n",
      "2 th finished ( 3 qubits, 0.00010199399999955006 s )\n",
      "3 th finished ( 4 qubits, 0.00016348099999952126 s )\n",
      "4 th finished ( 5 qubits, 0.0002477340000002215 s )\n",
      "5 th finished ( 6 qubits, 0.00029066199999938647 s )\n",
      "6 th finished ( 7 qubits, 0.0005282439999998445 s )\n",
      "7 th finished ( 8 qubits, 0.0008106300000001454 s )\n",
      "8 th finished ( 9 qubits, 0.0013656379999993362 s )\n",
      "9 th finished ( 10 qubits, 0.0018931660000003347 s )\n",
      "10 th finished ( 11 qubits, 0.0022654630000005227 s )\n",
      "11 th finished ( 12 qubits, 0.003359564000000148 s )\n",
      "12 th finished ( 13 qubits, 0.004283639000000505 s )\n",
      "13 th finished ( 14 qubits, 0.006300589000000301 s )\n",
      "14 th finished ( 15 qubits, 0.008022056000001498 s )\n",
      "15 th finished ( 16 qubits, 0.009287386000000453 s )\n",
      "16 th finished ( 17 qubits, 0.01321792700000124 s )\n",
      "17 th finished ( 18 qubits, 0.01537779300000075 s )\n",
      "18 th finished ( 19 qubits, 0.018456416999999448 s )\n",
      "19 th finished ( 20 qubits, 0.022559669000001392 s )\n",
      "20 th finished ( 21 qubits, 0.02691960399999971 s )\n",
      "21 th finished ( 22 qubits, 0.031018856000001094 s )\n",
      "22 th finished ( 23 qubits, 0.05486370600000079 s )\n",
      "23 th finished ( 24 qubits, 0.06501651299999978 s )\n",
      "24 th finished ( 25 qubits, 0.08052973100000038 s )\n",
      "25 th finished ( 26 qubits, 0.08927951199999917 s )\n",
      "26 th finished ( 27 qubits, 0.09547344399999957 s )\n",
      "27 th finished ( 28 qubits, 0.10883743000000123 s )\n",
      "28 th finished ( 29 qubits, 0.12289690999999969 s )\n",
      "29 th finished ( 30 qubits, 0.1383121979999995 s )\n",
      "30 th finished ( 31 qubits, 0.15725079599999958 s )\n"
     ]
    }
   ],
   "source": [
    "for i in range(max_length):\n",
    "    t1 = time.perf_counter()\n",
    "    _ = mooney001_mitigator_list[i].apply(raw_hist_list[i + 1], threshold = 0.01)\n",
    "    t2 = time.perf_counter()\n",
    "    print(i + 1, \"th finished (\", i + 2, \"qubits,\", t2 - t1, \"s )\")"
   ]
  },
  {
   "cell_type": "code",
   "execution_count": 7,
   "id": "ca9e4afd",
   "metadata": {
    "scrolled": true
   },
   "outputs": [
    {
     "name": "stdout",
     "output_type": "stream",
     "text": [
      "1 th finished ( 2 qubits, 2.058900000001529e-05 s )\n",
      "2 th finished ( 3 qubits, 1.1950999999399414e-05 s )\n",
      "3 th finished ( 4 qubits, 1.2181000000666131e-05 s )\n",
      "4 th finished ( 5 qubits, 1.4274999999841498e-05 s )\n",
      "5 th finished ( 6 qubits, 9.350000000907244e-06 s )\n",
      "6 th finished ( 7 qubits, 1.6122999999979015e-05 s )\n",
      "7 th finished ( 8 qubits, 1.3512999998965824e-05 s )\n",
      "8 th finished ( 9 qubits, 1.242699999970398e-05 s )\n",
      "9 th finished ( 10 qubits, 1.2837999999959493e-05 s )\n",
      "10 th finished ( 11 qubits, 1.2513999999796965e-05 s )\n",
      "11 th finished ( 12 qubits, 1.2726999999657096e-05 s )\n",
      "12 th finished ( 13 qubits, 9.601000000358795e-06 s )\n",
      "13 th finished ( 14 qubits, 1.1685999998789498e-05 s )\n",
      "14 th finished ( 15 qubits, 1.358199999934584e-05 s )\n",
      "15 th finished ( 16 qubits, 1.0916000000804615e-05 s )\n",
      "16 th finished ( 17 qubits, 1.3616000000382655e-05 s )\n",
      "17 th finished ( 18 qubits, 8.771000000962204e-06 s )\n",
      "18 th finished ( 19 qubits, 1.3113999999703196e-05 s )\n",
      "19 th finished ( 20 qubits, 1.8267999999821427e-05 s )\n",
      "20 th finished ( 21 qubits, 1.296599999989212e-05 s )\n",
      "21 th finished ( 22 qubits, 7.860000000192713e-06 s )\n",
      "22 th finished ( 23 qubits, 1.3524999999958709e-05 s )\n",
      "23 th finished ( 24 qubits, 9.535999998533384e-06 s )\n",
      "24 th finished ( 25 qubits, 1.2404000001353666e-05 s )\n",
      "25 th finished ( 26 qubits, 1.1853000000172642e-05 s )\n",
      "26 th finished ( 27 qubits, 9.686000000286299e-06 s )\n",
      "27 th finished ( 28 qubits, 7.682999999758522e-06 s )\n",
      "28 th finished ( 29 qubits, 9.572999999818421e-06 s )\n",
      "29 th finished ( 30 qubits, 9.34100000016258e-06 s )\n",
      "30 th finished ( 31 qubits, 8.894000000481128e-06 s )\n"
     ]
    }
   ],
   "source": [
    "mooney001_mitigator_info = []\n",
    "for i in range(max_length):\n",
    "    t1 = time.perf_counter()\n",
    "    mooney001_mitigator_info.append({# \"exact_one_norm_of_reduced_inv_A\": mooney001_mitigator_list[i].exact_one_norm_of_reduced_inv_A(),\n",
    "                                 \"mitigated_hist\": mooney001_mitigator_list[i].mitigated_hist(),\n",
    "                                 \"x_s\": mooney001_mitigator_list[i].x_s(),\n",
    "                                 # \"x_hat\": mooney001_mitigator_list[i].x_hat(),\n",
    "                                 \"x_tilde\": mooney001_mitigator_list[i].x_tilde(),\n",
    "                                 \"sum_of_x\": mooney001_mitigator_list[i].sum_of_x(),\n",
    "                                 # \"sum_of_x_hat\": mooney001_mitigator_list[i].sum_of_x_hat(),\n",
    "                                 \"sum_of_x_tilde\": mooney001_mitigator_list[i].sum_of_x_tilde(),\n",
    "                                 \"indices_to_keys_vector\": mooney001_mitigator_list[i].indices_to_keys_vector(),\n",
    "                                 \"times\": mooney001_mitigator_list[i].times(),\n",
    "                                 \"expval\": mooney001_mitigator_list[i].expval(),\n",
    "                                 # \"mitigation_stddev\": mooney001_mitigator_list[i].mitigation_stddev(norm_type = \"exact\"),\n",
    "                                 })\n",
    "    t2 = time.perf_counter()\n",
    "    print(i + 1, \"th finished (\", i + 2, \"qubits,\", t2 - t1, \"s )\")"
   ]
  },
  {
   "cell_type": "code",
   "execution_count": 8,
   "id": "95549737",
   "metadata": {},
   "outputs": [],
   "source": [
    "with open(\"./pkls/mooney001_mitigator_info.pkl\", \"wb\") as f:\n",
    "    pickle.dump(mooney001_mitigator_info, f)"
   ]
  }
 ],
 "metadata": {
  "kernelspec": {
   "display_name": "Python 3 (ipykernel)",
   "language": "python",
   "name": "python3"
  },
  "language_info": {
   "codemirror_mode": {
    "name": "ipython",
    "version": 3
   },
   "file_extension": ".py",
   "mimetype": "text/x-python",
   "name": "python",
   "nbconvert_exporter": "python",
   "pygments_lexer": "ipython3",
   "version": "3.9.7"
  }
 },
 "nbformat": 4,
 "nbformat_minor": 5
}

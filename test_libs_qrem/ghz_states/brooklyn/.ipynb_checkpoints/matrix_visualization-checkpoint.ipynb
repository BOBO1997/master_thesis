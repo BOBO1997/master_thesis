{
 "cells": [
  {
   "cell_type": "code",
   "execution_count": 1,
   "id": "worst-austria",
   "metadata": {},
   "outputs": [],
   "source": [
    "import numpy as np\n",
    "import matplotlib.pyplot as plt\n",
    "%matplotlib inline\n",
    "import pickle\n",
    "import time\n",
    "import importlib"
   ]
  },
  {
   "cell_type": "code",
   "execution_count": 2,
   "id": "temporal-trigger",
   "metadata": {},
   "outputs": [
    {
     "name": "stdout",
     "output_type": "stream",
     "text": [
      "<AccountProvider for IBMQ(hub='ibm-q-utokyo', group='internal', project='hirashi-jst')>\n"
     ]
    }
   ],
   "source": [
    "import qiskit\n",
    "from qiskit import IBMQ\n",
    "from qiskit.tools.visualization import plot_histogram\n",
    "from qiskit.ignis.mitigation.measurement import TensoredMeasFitter\n",
    "IBMQ.load_account()\n",
    "provider = IBMQ.get_provider(hub='ibm-q-utokyo', group='internal', project='hirashi-jst')\n",
    "print(provider)\n",
    "device = provider.backend.ibmq_brooklyn\n",
    "backend = provider.get_backend('ibmq_brooklyn')"
   ]
  },
  {
   "cell_type": "code",
   "execution_count": 3,
   "id": "43f90bc8",
   "metadata": {},
   "outputs": [],
   "source": [
    "import sys\n",
    "sys.path.append(\"../../../libs_bell\")\n",
    "import importlib\n",
    "import lib_preprocessing\n",
    "importlib.reload(lib_preprocessing)\n",
    "from lib_preprocessing import job_ids_to_result, flatten_results_jobs_list, arrange_results_list_tensored3, results_list_to_hist_list"
   ]
  },
  {
   "cell_type": "code",
   "execution_count": 4,
   "id": "political-shanghai",
   "metadata": {
    "scrolled": true
   },
   "outputs": [
    {
     "name": "stdout",
     "output_type": "stream",
     "text": [
      "max_size: 65\n",
      "length of results_jobs_list:  1\n"
     ]
    }
   ],
   "source": [
    "max_size = 65 # largest graph size\n",
    "print(\"max_size:\", max_size)\n",
    "job_ids = [\"612236919d8e994b6ff37708\"]\n",
    "results_jobs_list = job_ids_to_result(job_ids, device)\n",
    "print(\"length of results_jobs_list: \", len(results_jobs_list))"
   ]
  },
  {
   "cell_type": "code",
   "execution_count": 5,
   "id": "marked-chaos",
   "metadata": {},
   "outputs": [
    {
     "name": "stdout",
     "output_type": "stream",
     "text": [
      "length of results_list:  195\n",
      "length of results_meas_cal:  65\n",
      "length of hists_list:  65\n"
     ]
    }
   ],
   "source": [
    "results_list = flatten_results_jobs_list(results_jobs_list)\n",
    "print(\"length of results_list: \", len(results_list))\n",
    "results_graph_states, results_meas_cal = arrange_results_list_tensored3(results_list)\n",
    "print(\"length of results_meas_cal: \", len(results_meas_cal))\n",
    "hists_list = results_list_to_hist_list(results_graph_states)\n",
    "print(\"length of hists_list: \", len(hists_list))"
   ]
  },
  {
   "cell_type": "code",
   "execution_count": 6,
   "id": "6796d5f5",
   "metadata": {
    "scrolled": true
   },
   "outputs": [],
   "source": [
    "import libs_qrem\n",
    "importlib.reload(libs_qrem)\n",
    "from libs_qrem import QREM_Filter_4\n",
    "import mthree\n",
    "from qiskit.test.mock import FakeManhattan"
   ]
  },
  {
   "cell_type": "code",
   "execution_count": 7,
   "id": "1fee9429",
   "metadata": {},
   "outputs": [
    {
     "name": "stdout",
     "output_type": "stream",
     "text": [
      "size 10 finished\n",
      "size 20 finished\n",
      "size 30 finished\n",
      "size 40 finished\n",
      "size 50 finished\n",
      "size 60 finished\n",
      "length of lnp_mitigator_list:  64\n"
     ]
    }
   ],
   "source": [
    "lnp_mitigator_list = []\n",
    "for n in range(2, max_size + 1):\n",
    "    mit_pattern = [[i] for i in range(n)]\n",
    "    meas_fitter = TensoredMeasFitter(results_meas_cal[n - 1], mit_pattern=mit_pattern)\n",
    "    lnp_mitigator_list.append(QREM_Filter_4(n, meas_fitter.cal_matrices))\n",
    "    if n % 10 == 0:\n",
    "        print(\"size\", n, \"finished\")\n",
    "print(\"length of lnp_mitigator_list: \", len(lnp_mitigator_list))"
   ]
  },
  {
   "cell_type": "code",
   "execution_count": 8,
   "id": "0b7e1b3c",
   "metadata": {
    "scrolled": true
   },
   "outputs": [
    {
     "name": "stdout",
     "output_type": "stream",
     "text": [
      "2 qubits\n",
      "\n",
      "accumulator is positive, we might even ignoring the necessal positive values.\n",
      "3 qubits\n",
      "\n",
      "4 qubits\n",
      "\n",
      "5 qubits\n",
      "\n",
      "6 qubits\n",
      "\n",
      "7 qubits\n",
      "\n",
      "8 qubits\n",
      "\n",
      "9 qubits\n",
      "\n",
      "10 qubits\n",
      "\n",
      "11 qubits\n",
      "\n",
      "12 qubits\n",
      "\n",
      "13 qubits\n",
      "\n",
      "14 qubits\n",
      "\n",
      "15 qubits\n",
      "\n",
      "16 qubits\n",
      "\n",
      "17 qubits\n",
      "\n",
      "18 qubits\n",
      "\n",
      "19 qubits\n",
      "\n",
      "20 qubits\n",
      "\n",
      "21 qubits\n",
      "\n",
      "22 qubits\n",
      "\n",
      "23 qubits\n",
      "\n",
      "24 qubits\n",
      "\n",
      "25 qubits\n",
      "\n",
      "26 qubits\n",
      "\n",
      "27 qubits\n",
      "\n",
      "28 qubits\n",
      "\n",
      "29 qubits\n",
      "\n",
      "30 qubits\n",
      "\n",
      "31 qubits\n",
      "\n",
      "32 qubits\n",
      "\n",
      "33 qubits\n",
      "\n",
      "34 qubits\n",
      "\n",
      "35 qubits\n",
      "\n",
      "36 qubits\n",
      "\n",
      "37 qubits\n",
      "\n",
      "38 qubits\n",
      "\n",
      "39 qubits\n",
      "\n",
      "40 qubits\n",
      "\n",
      "41 qubits\n",
      "\n",
      "42 qubits\n",
      "\n",
      "43 qubits\n",
      "\n",
      "44 qubits\n",
      "\n",
      "45 qubits\n",
      "\n",
      "46 qubits\n",
      "\n",
      "47 qubits\n",
      "\n",
      "48 qubits\n",
      "\n",
      "49 qubits\n",
      "\n",
      "50 qubits\n",
      "\n",
      "51 qubits\n",
      "\n",
      "52 qubits\n",
      "\n",
      "53 qubits\n",
      "\n",
      "54 qubits\n",
      "\n",
      "55 qubits\n",
      "\n",
      "56 qubits\n",
      "\n",
      "57 qubits\n",
      "\n",
      "58 qubits\n",
      "\n",
      "59 qubits\n",
      "\n",
      "60 qubits\n",
      "\n",
      "61 qubits\n",
      "\n",
      "62 qubits\n",
      "\n",
      "63 qubits\n",
      "\n",
      "64 qubits\n",
      "\n",
      "65 qubits\n",
      "\n"
     ]
    }
   ],
   "source": [
    "lnp_hist_list = []\n",
    "for i in range(len(results_meas_cal) - 1):\n",
    "    print(i + 2, \"qubits\")\n",
    "    lnp_hist_list.append( lnp_mitigator_list[i].apply(hists_list[i + 1]) )\n",
    "    print()"
   ]
  },
  {
   "cell_type": "code",
   "execution_count": 9,
   "id": "868e17b6",
   "metadata": {},
   "outputs": [
    {
     "name": "stdout",
     "output_type": "stream",
     "text": [
      "0\n",
      "1\n",
      "2\n",
      "3\n",
      "4\n",
      "5\n",
      "6\n",
      "7\n",
      "8\n",
      "9\n",
      "10\n",
      "11\n",
      "12\n",
      "13\n",
      "14\n",
      "15\n",
      "16\n",
      "17\n",
      "18\n",
      "19\n",
      "20\n",
      "21\n",
      "22\n",
      "23\n",
      "24\n",
      "25\n",
      "26\n",
      "27\n",
      "28\n",
      "29\n",
      "30\n",
      "31\n",
      "32\n",
      "33\n",
      "34\n",
      "35\n",
      "36\n",
      "37\n",
      "38\n",
      "39\n",
      "40\n",
      "41\n",
      "42\n",
      "43\n",
      "44\n",
      "45\n",
      "46\n",
      "47\n",
      "48\n",
      "49\n",
      "50\n",
      "51\n",
      "52\n",
      "53\n",
      "54\n",
      "55\n",
      "56\n",
      "57\n",
      "58\n",
      "59\n",
      "60\n",
      "61\n",
      "62\n",
      "63\n"
     ]
    }
   ],
   "source": [
    "one_norms = []\n",
    "for i in range(max_size - 1):\n",
    "    print(i)\n",
    "    one_norms.append(lnp_mitigator_list[i].one_norm())"
   ]
  },
  {
   "cell_type": "code",
   "execution_count": 10,
   "id": "4592387a",
   "metadata": {},
   "outputs": [],
   "source": [
    "with open(\"./pkls/one_norms.pkl\", \"wb\") as f:\n",
    "    pickle.dump(one_norms, f)"
   ]
  },
  {
   "cell_type": "code",
   "execution_count": 14,
   "id": "e0ee3198",
   "metadata": {},
   "outputs": [
    {
     "data": {
      "text/plain": [
       "Text(0.5, 1.0, 'Reduced Inverse Calibration Matrix \\n for 8-qubit measurement results')"
      ]
     },
     "execution_count": 14,
     "metadata": {},
     "output_type": "execute_result"
    },
    {
     "data": {
      "image/png": "[encoded data removed]",
      "text/plain": [
       "<Figure size 432x288 with 2 Axes>"
      ]
     },
     "metadata": {
      "needs_background": "light"
     },
     "output_type": "display_data"
    }
   ],
   "source": [
    "import seaborn as sns\n",
    "import pandas as pd\n",
    "cm = pd.DataFrame(data=lnp_mitigator_list[8 - 2].reduced_inv_A() ) # , \n",
    "                  # index=lnp_mitigator_list[8 - 2].indices_to_keys_vector(), \n",
    "                  # columns=lnp_mitigator_list[8 - 2].indices_to_keys_vector())\n",
    "sns.heatmap(cm, \n",
    "            square=True, \n",
    "            cbar=True, \n",
    "            # annot=True, \n",
    "            cmap='RdBu',\n",
    "            vmin=-1.5, vmax=1.5)\n",
    "plt.yticks(rotation=0)\n",
    "plt.xlabel(\"state labels\", fontsize=13, rotation=0)\n",
    "plt.ylabel(\"state labels\", fontsize=13)\n",
    "plt.title(\"Reduced Inverse Calibration Matrix \\n for 8-qubit measurement results\")"
   ]
  },
  {
   "cell_type": "code",
   "execution_count": 15,
   "id": "18cbc367",
   "metadata": {
    "scrolled": true
   },
   "outputs": [
    {
     "data": {
      "text/plain": [
       "Text(0.5, 1.0, 'Reduced Inverse Calibration Matrix \\n for 4-qubit measurement results')"
      ]
     },
     "execution_count": 15,
     "metadata": {},
     "output_type": "execute_result"
    },
    {
     "data": {
      "image/png": "[encoded data removed]",
      "text/plain": [
       "<Figure size 432x288 with 2 Axes>"
      ]
     },
     "metadata": {
      "needs_background": "light"
     },
     "output_type": "display_data"
    }
   ],
   "source": [
    "cm = pd.DataFrame(data=lnp_mitigator_list[4 - 2].reduced_inv_A(), \n",
    "                  index=lnp_mitigator_list[4 - 2].indices_to_keys_vector(), \n",
    "                  columns=lnp_mitigator_list[4 - 2].indices_to_keys_vector())\n",
    "sns.heatmap(cm, \n",
    "            square=True, \n",
    "            cbar=True, \n",
    "            # annot=True, \n",
    "            cmap='RdBu',\n",
    "            vmin=-1.5, vmax=1.5)\n",
    "plt.yticks(rotation=0)\n",
    "plt.xlabel(\"states labels\", fontsize=13, rotation=0)\n",
    "plt.ylabel(\"states labels\", fontsize=13)\n",
    "plt.title(\"Reduced Inverse Calibration Matrix \\n for 4-qubit measurement results\")"
   ]
  },
  {
   "cell_type": "code",
   "execution_count": 16,
   "id": "06a995e3",
   "metadata": {},
   "outputs": [
    {
     "data": {
      "text/plain": [
       "Text(0.5, 1.0, 'Reduced Calibration Matrix \\n for 4-qubit measurement results')"
      ]
     },
     "execution_count": 16,
     "metadata": {},
     "output_type": "execute_result"
    },
    {
     "data": {
      "image/png": "[encoded data removed]",
      "text/plain": [
       "<Figure size 432x288 with 2 Axes>"
      ]
     },
     "metadata": {
      "needs_background": "light"
     },
     "output_type": "display_data"
    }
   ],
   "source": [
    "cm = pd.DataFrame(data=lnp_mitigator_list[4 - 2].reduced_A(), \n",
    "                  index=lnp_mitigator_list[4 - 2].indices_to_keys_vector(), \n",
    "                  columns=lnp_mitigator_list[4 - 2].indices_to_keys_vector())\n",
    "sns.heatmap(cm, \n",
    "            square=True, \n",
    "            cbar=True, \n",
    "            # annot=True, \n",
    "            cmap='RdBu',\n",
    "            vmin=-1.5, vmax=1.5)\n",
    "plt.yticks(rotation=0)\n",
    "plt.xlabel(\"states labels\", fontsize=13, rotation=0)\n",
    "plt.ylabel(\"states labels\", fontsize=13)\n",
    "plt.title(\"Reduced Calibration Matrix \\n for 4-qubit measurement results\")"
   ]
  },
  {
   "cell_type": "code",
   "execution_count": 17,
   "id": "6062390f",
   "metadata": {},
   "outputs": [],
   "source": [
    "vector_sizes = []\n",
    "for i in range(max_size - 1):\n",
    "    vector_sizes.append(len(lnp_mitigator_list[i].indices_to_keys_vector()))"
   ]
  },
  {
   "cell_type": "code",
   "execution_count": 18,
   "id": "8c699b34",
   "metadata": {},
   "outputs": [
    {
     "data": {
      "text/plain": [
       "Text(0, 0.5, 'size')"
      ]
     },
     "execution_count": 18,
     "metadata": {},
     "output_type": "execute_result"
    },
    {
     "data": {
      "image/png": "[encoded data removed]",
      "text/plain": [
       "<Figure size 432x288 with 1 Axes>"
      ]
     },
     "metadata": {},
     "output_type": "display_data"
    }
   ],
   "source": [
    "plt.style.use('ggplot')\n",
    "plt.plot(range(2, 65 + 1), vector_sizes)\n",
    "plt.title(\"The Size of Reduced Calibration Matrix\")\n",
    "plt.xlabel(\"number of qubits\")\n",
    "plt.ylabel(\"size\")"
   ]
  },
  {
   "cell_type": "code",
   "execution_count": 19,
   "id": "dbdf99ca",
   "metadata": {},
   "outputs": [],
   "source": [
    "reduced_A = lnp_mitigator_list[4 - 2].reduced_A()\n",
    "reduced_A = np.asarray(reduced_A)"
   ]
  },
  {
   "cell_type": "code",
   "execution_count": 21,
   "id": "a0c5c1bd",
   "metadata": {},
   "outputs": [],
   "source": [
    "for col_idx in range(len(reduced_A)):\n",
    "    sum_val = sum(reduced_A[:,col_idx])\n",
    "    for row_idx in range(len(reduced_A)):\n",
    "        reduced_A[row_idx][col_idx] /= sum_val"
   ]
  },
  {
   "cell_type": "code",
   "execution_count": 22,
   "id": "a2787305",
   "metadata": {},
   "outputs": [],
   "source": [
    "inv_reduced_A = np.linalg.inv(reduced_A)"
   ]
  },
  {
   "cell_type": "code",
   "execution_count": 23,
   "id": "1fbecab4",
   "metadata": {},
   "outputs": [
    {
     "data": {
      "text/plain": [
       "Text(0.5, 1.0, 'Inverse of Reduced Calibration Matrix \\n for 4-qubit measurement results')"
      ]
     },
     "execution_count": 23,
     "metadata": {},
     "output_type": "execute_result"
    },
    {
     "data": {
      "image/png": "[encoded data removed]",
      "text/plain": [
       "<Figure size 432x288 with 2 Axes>"
      ]
     },
     "metadata": {},
     "output_type": "display_data"
    }
   ],
   "source": [
    "cm = pd.DataFrame(data=inv_reduced_A, \n",
    "                  index=lnp_mitigator_list[4 - 2].indices_to_keys_vector(), \n",
    "                  columns=lnp_mitigator_list[4 - 2].indices_to_keys_vector())\n",
    "sns.heatmap(cm, \n",
    "            square=True, \n",
    "            cbar=True, \n",
    "            # annot=True, \n",
    "            cmap='RdBu',\n",
    "            vmin=-1.5, vmax=1.5)\n",
    "plt.yticks(rotation=0)\n",
    "plt.xlabel(\"states labels\", fontsize=13, rotation=0)\n",
    "plt.ylabel(\"states labels\", fontsize=13)\n",
    "plt.title(\"Inverse of Reduced Calibration Matrix \\n for 4-qubit measurement results\")"
   ]
  },
  {
   "cell_type": "code",
   "execution_count": 24,
   "id": "2e788a9a",
   "metadata": {},
   "outputs": [],
   "source": [
    "reduced_inv_A = np.asarray(lnp_mitigator_list[4 - 2].reduced_inv_A())"
   ]
  },
  {
   "cell_type": "code",
   "execution_count": 25,
   "id": "6586f0ff",
   "metadata": {},
   "outputs": [],
   "source": [
    "diff = reduced_inv_A - inv_reduced_A"
   ]
  },
  {
   "cell_type": "code",
   "execution_count": 29,
   "id": "2679c0f4",
   "metadata": {},
   "outputs": [
    {
     "data": {
      "text/plain": [
       "Text(83.40000000000006, 0.5, 'states labels')"
      ]
     },
     "execution_count": 29,
     "metadata": {},
     "output_type": "execute_result"
    },
    {
     "data": {
      "image/png": "[encoded data removed]",
      "text/plain": [
       "<Figure size 432x288 with 2 Axes>"
      ]
     },
     "metadata": {},
     "output_type": "display_data"
    }
   ],
   "source": [
    "cm = pd.DataFrame(data=diff, \n",
    "                  index=lnp_mitigator_list[4 - 2].indices_to_keys_vector(), \n",
    "                  columns=lnp_mitigator_list[4 - 2].indices_to_keys_vector())\n",
    "sns.heatmap(cm, \n",
    "            square=True, \n",
    "            cbar=True, \n",
    "            # annot=True, \n",
    "            cmap='RdBu',\n",
    "            center=0)\n",
    "plt.yticks(rotation=0)\n",
    "plt.xlabel(\"states labels\", fontsize=13, rotation=0)\n",
    "plt.ylabel(\"states labels\", fontsize=13)"
   ]
  },
  {
   "cell_type": "code",
   "execution_count": 33,
   "id": "0333a97e",
   "metadata": {},
   "outputs": [
    {
     "data": {
      "text/plain": [
       "1.3769424420117535"
      ]
     },
     "execution_count": 33,
     "metadata": {},
     "output_type": "execute_result"
    }
   ],
   "source": [
    "np.linalg.norm(inv_reduced_A, ord=1)"
   ]
  },
  {
   "cell_type": "code",
   "execution_count": 34,
   "id": "6ef3e64b",
   "metadata": {},
   "outputs": [
    {
     "data": {
      "text/plain": [
       "1.376942442011754"
      ]
     },
     "execution_count": 34,
     "metadata": {},
     "output_type": "execute_result"
    }
   ],
   "source": [
    "np.linalg.norm(reduced_inv_A, ord=1)"
   ]
  },
  {
   "cell_type": "code",
   "execution_count": 47,
   "id": "ba91f550",
   "metadata": {
    "scrolled": true
   },
   "outputs": [
    {
     "ename": "KeyboardInterrupt",
     "evalue": "",
     "output_type": "error",
     "traceback": [
      "\u001b[0;31m---------------------------------------------------------------------------\u001b[0m",
      "\u001b[0;31mKeyboardInterrupt\u001b[0m                         Traceback (most recent call last)",
      "\u001b[0;32m/var/folders/vr/d82vcp297v78vk4sb0_nzzdc0000gn/T/ipykernel_91533/4092954269.py\u001b[0m in \u001b[0;36m<module>\u001b[0;34m\u001b[0m\n\u001b[0;32m----> 1\u001b[0;31m \u001b[0mreduced_As\u001b[0m \u001b[0;34m=\u001b[0m \u001b[0;34m[\u001b[0m\u001b[0;34m]\u001b[0m\u001b[0;34m\u001b[0m\u001b[0;34m\u001b[0m\u001b[0m\n\u001b[0m\u001b[1;32m      2\u001b[0m \u001b[0;32mfor\u001b[0m \u001b[0mi\u001b[0m \u001b[0;32min\u001b[0m \u001b[0mrange\u001b[0m\u001b[0;34m(\u001b[0m\u001b[0;36m40\u001b[0m \u001b[0;34m-\u001b[0m \u001b[0;36m1\u001b[0m\u001b[0;34m)\u001b[0m\u001b[0;34m:\u001b[0m\u001b[0;34m\u001b[0m\u001b[0;34m\u001b[0m\u001b[0m\n\u001b[1;32m      3\u001b[0m     \u001b[0mprint\u001b[0m\u001b[0;34m(\u001b[0m\u001b[0mi\u001b[0m\u001b[0;34m)\u001b[0m\u001b[0;34m\u001b[0m\u001b[0;34m\u001b[0m\u001b[0m\n\u001b[1;32m      4\u001b[0m     \u001b[0mreduced_As\u001b[0m\u001b[0;34m.\u001b[0m\u001b[0mappend\u001b[0m\u001b[0;34m(\u001b[0m \u001b[0mlnp_mitigator_list\u001b[0m\u001b[0;34m[\u001b[0m\u001b[0;36m30\u001b[0m \u001b[0;34m-\u001b[0m \u001b[0;36m2\u001b[0m\u001b[0;34m]\u001b[0m\u001b[0;34m.\u001b[0m\u001b[0mreduced_A\u001b[0m\u001b[0;34m(\u001b[0m\u001b[0;34m)\u001b[0m \u001b[0;34m)\u001b[0m\u001b[0;34m\u001b[0m\u001b[0;34m\u001b[0m\u001b[0m\n",
      "\u001b[0;31mKeyboardInterrupt\u001b[0m: "
     ]
    }
   ],
   "source": [
    "nation_one_norms = []\n",
    "for i in range(30 - 1):\n",
    "    print(i)\n",
    "    reduced_A = lnp_mitigator_list[i].reduced_A()\n",
    "    for col_idx in range(len(reduced_A)):\n",
    "        sum_val = sum(reduced_A[:,col_idx])\n",
    "        for row_idx in range(len(reduced_A)):\n",
    "            reduced_A[row_idx][col_idx] /= sum_val\n",
    "    reduced_As.append( lnp_mitigator_list[i].reduced_A() )"
   ]
  },
  {
   "cell_type": "code",
   "execution_count": null,
   "id": "d77cdb50",
   "metadata": {},
   "outputs": [],
   "source": [
    "reduced_As = []\n",
    "for i in range(max_size - 1):\n",
    "    print(i)\n",
    "    reduced_As.append( lnp_mitigator_list[30 - 2].reduced_A() )"
   ]
  },
  {
   "cell_type": "code",
   "execution_count": 40,
   "id": "20f803bf",
   "metadata": {},
   "outputs": [],
   "source": [
    "reduced_A = lnp_mitigator_list[30 - 2].reduced_A()\n",
    "reduced_A = np.asarray(reduced_A)"
   ]
  },
  {
   "cell_type": "code",
   "execution_count": 41,
   "id": "658e0186",
   "metadata": {},
   "outputs": [],
   "source": [
    "for col_idx in range(len(reduced_A)):\n",
    "    sum_val = sum(reduced_A[:,col_idx])\n",
    "    for row_idx in range(len(reduced_A)):\n",
    "        reduced_A[row_idx][col_idx] /= sum_val"
   ]
  },
  {
   "cell_type": "code",
   "execution_count": 42,
   "id": "d8fb6d2e",
   "metadata": {},
   "outputs": [],
   "source": [
    "inv_reduced_A = np.linalg.inv(reduced_A)"
   ]
  },
  {
   "cell_type": "code",
   "execution_count": 43,
   "id": "b833cc54",
   "metadata": {},
   "outputs": [],
   "source": [
    "reduced_inv_A = np.asarray(lnp_mitigator_list[30 - 2].reduced_inv_A())"
   ]
  },
  {
   "cell_type": "code",
   "execution_count": 44,
   "id": "e4a6601c",
   "metadata": {},
   "outputs": [
    {
     "name": "stdout",
     "output_type": "stream",
     "text": [
      "nation 6.112374969167725\n",
      "proposed 9.042614201891723\n"
     ]
    }
   ],
   "source": [
    "print(\"nation\", np.linalg.norm(inv_reduced_A, ord=1))\n",
    "print(\"proposed\", np.linalg.norm(reduced_inv_A, ord=1))"
   ]
  },
  {
   "cell_type": "code",
   "execution_count": null,
   "id": "b313dd32",
   "metadata": {},
   "outputs": [],
   "source": []
  }
 ],
 "metadata": {
  "kernelspec": {
   "display_name": "Python 3 (ipykernel)",
   "language": "python",
   "name": "python3"
  },
  "language_info": {
   "codemirror_mode": {
    "name": "ipython",
    "version": 3
   },
   "file_extension": ".py",
   "mimetype": "text/x-python",
   "name": "python",
   "nbconvert_exporter": "python",
   "pygments_lexer": "ipython3",
   "version": "3.9.7"
  }
 },
 "nbformat": 4,
 "nbformat_minor": 5
}

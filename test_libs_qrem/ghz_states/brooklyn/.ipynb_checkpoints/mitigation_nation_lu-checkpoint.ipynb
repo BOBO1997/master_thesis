{
 "cells": [
  {
   "cell_type": "code",
   "execution_count": 1,
   "id": "worst-austria",
   "metadata": {},
   "outputs": [],
   "source": [
    "import numpy as np\n",
    "import matplotlib.pyplot as plt\n",
    "%matplotlib inline\n",
    "import pickle\n",
    "import time\n",
    "import importlib"
   ]
  },
  {
   "cell_type": "code",
   "execution_count": 2,
   "id": "43f90bc8",
   "metadata": {},
   "outputs": [],
   "source": [
    "import sys\n",
    "sys.path.append(\"../../../libs_bell\")\n",
    "from lib_preprocessing import job_ids_to_result, flatten_results_jobs_list, arrange_results_list_tensored3, results_list_to_hist_list"
   ]
  },
  {
   "cell_type": "code",
   "execution_count": 3,
   "id": "e2ae2ba1",
   "metadata": {},
   "outputs": [],
   "source": [
    "with open(\"pkls/raw_hist_list.pkl\", \"rb\") as f:\n",
    "    raw_hist_list = pickle.load(f)\n",
    "with open(\"pkls/results_meas_cal.pkl\", \"rb\") as f:\n",
    "    results_meas_cal = pickle.load(f)"
   ]
  },
  {
   "cell_type": "code",
   "execution_count": 4,
   "id": "6796d5f5",
   "metadata": {
    "scrolled": true
   },
   "outputs": [],
   "source": [
    "from libs_qrem import NationEtalFilter\n",
    "from qiskit.ignis.mitigation.measurement import TensoredMeasFitter"
   ]
  },
  {
   "cell_type": "code",
   "execution_count": 5,
   "id": "1fee9429",
   "metadata": {},
   "outputs": [
    {
     "name": "stdout",
     "output_type": "stream",
     "text": [
      "size 10 finished\n",
      "size 20 finished\n",
      "size 30 finished\n",
      "size 40 finished\n",
      "size 50 finished\n",
      "size 60 finished\n",
      "length of nation_lu_mitigator_list:  64\n"
     ]
    }
   ],
   "source": [
    "max_size = 65\n",
    "max_length = 64\n",
    "nation_lu_mitigator_list = []\n",
    "for n in range(2, max_size + 1):\n",
    "    mit_pattern = [[i] for i in range(n)]\n",
    "    meas_fitter = TensoredMeasFitter(results_meas_cal[n - 1], mit_pattern=mit_pattern)\n",
    "    nation_lu_mitigator_list.append(NationEtalFilter(n, meas_fitter.cal_matrices))\n",
    "    if n % 10 == 0:\n",
    "        print(\"size\", n, \"finished\")\n",
    "print(\"length of nation_lu_mitigator_list: \", len(nation_lu_mitigator_list))"
   ]
  },
  {
   "cell_type": "code",
   "execution_count": 6,
   "id": "fd336980",
   "metadata": {},
   "outputs": [
    {
     "name": "stdout",
     "output_type": "stream",
     "text": [
      "1 th finished ( 2 qubits, 0.00016558400000121765 s )\n",
      "2 th finished ( 3 qubits, 9.577099999980021e-05 s )\n",
      "3 th finished ( 4 qubits, 0.00020277499999998838 s )\n",
      "4 th finished ( 5 qubits, 0.00024290100000001758 s )\n",
      "5 th finished ( 6 qubits, 0.0004660999999988036 s )\n",
      "6 th finished ( 7 qubits, 0.0007432930000010884 s )\n",
      "7 th finished ( 8 qubits, 0.0009859959999989343 s )\n",
      "8 th finished ( 9 qubits, 0.0016763459999999952 s )\n",
      "9 th finished ( 10 qubits, 0.0030197810000007763 s )\n",
      "10 th finished ( 11 qubits, 0.004230689999999981 s )\n",
      "11 th finished ( 12 qubits, 0.008338373999999149 s )\n",
      "12 th finished ( 13 qubits, 0.011298234999999934 s )\n",
      "13 th finished ( 14 qubits, 0.01710608399999991 s )\n",
      "14 th finished ( 15 qubits, 0.024189971999998505 s )\n",
      "15 th finished ( 16 qubits, 0.030253312999999338 s )\n",
      "16 th finished ( 17 qubits, 0.06343812200000087 s )\n",
      "17 th finished ( 18 qubits, 0.09300851699999946 s )\n",
      "18 th finished ( 19 qubits, 0.12156247899999961 s )\n",
      "19 th finished ( 20 qubits, 0.16045801099999935 s )\n",
      "20 th finished ( 21 qubits, 0.22938294299999917 s )\n",
      "21 th finished ( 22 qubits, 0.27687565999999997 s )\n",
      "22 th finished ( 23 qubits, 0.3388869139999997 s )\n",
      "23 th finished ( 24 qubits, 0.4607322870000008 s )\n",
      "24 th finished ( 25 qubits, 0.6939179170000003 s )\n",
      "25 th finished ( 26 qubits, 0.789469897 s )\n",
      "26 th finished ( 27 qubits, 0.8691837590000002 s )\n",
      "27 th finished ( 28 qubits, 1.006194205 s )\n",
      "28 th finished ( 29 qubits, 1.260335842 s )\n",
      "29 th finished ( 30 qubits, 1.4174670999999996 s )\n",
      "30 th finished ( 31 qubits, 1.5974330559999999 s )\n",
      "31 th finished ( 32 qubits, 1.8393767580000002 s )\n",
      "32 th finished ( 33 qubits, 2.5681909639999994 s )\n",
      "33 th finished ( 34 qubits, 2.697400625 s )\n",
      "34 th finished ( 35 qubits, 3.1601622569999996 s )\n",
      "35 th finished ( 36 qubits, 3.3668550409999973 s )\n",
      "36 th finished ( 37 qubits, 3.478328746999999 s )\n",
      "37 th finished ( 38 qubits, 3.773863654000003 s )\n",
      "38 th finished ( 39 qubits, 4.088574252000001 s )\n",
      "39 th finished ( 40 qubits, 4.422568585999997 s )\n",
      "40 th finished ( 41 qubits, 4.839811079 s )\n",
      "41 th finished ( 42 qubits, 5.462077199999996 s )\n",
      "42 th finished ( 43 qubits, 7.754240145000004 s )\n",
      "43 th finished ( 44 qubits, 7.671237679000001 s )\n",
      "44 th finished ( 45 qubits, 8.534628734000009 s )\n",
      "45 th finished ( 46 qubits, 8.853408525999996 s )\n",
      "46 th finished ( 47 qubits, 9.152875867000006 s )\n",
      "47 th finished ( 48 qubits, 9.610174505000003 s )\n",
      "48 th finished ( 49 qubits, 10.096470107000002 s )\n",
      "49 th finished ( 50 qubits, 10.677786275000017 s )\n",
      "50 th finished ( 51 qubits, 10.913904343999974 s )\n",
      "51 th finished ( 52 qubits, 12.267639155000012 s )\n",
      "52 th finished ( 53 qubits, 13.246488310000018 s )\n",
      "53 th finished ( 54 qubits, 13.693170410000022 s )\n",
      "54 th finished ( 55 qubits, 13.847178528 s )\n",
      "55 th finished ( 56 qubits, 15.230400408000008 s )\n",
      "56 th finished ( 57 qubits, 14.931565234000004 s )\n",
      "57 th finished ( 58 qubits, 15.714781149999993 s )\n",
      "58 th finished ( 59 qubits, 16.338836902999986 s )\n",
      "59 th finished ( 60 qubits, 16.323604322999984 s )\n",
      "60 th finished ( 61 qubits, 17.846964479000007 s )\n",
      "61 th finished ( 62 qubits, 17.329208903999984 s )\n",
      "62 th finished ( 63 qubits, 18.71155010199999 s )\n",
      "63 th finished ( 64 qubits, 19.886473728999988 s )\n",
      "64 th finished ( 65 qubits, 21.05214258799998 s )\n"
     ]
    }
   ],
   "source": [
    "for i in range(max_length):\n",
    "    t1 = time.perf_counter()\n",
    "    _ = nation_lu_mitigator_list[i].apply(raw_hist_list[i + 1], method=\"lu\")\n",
    "    t2 = time.perf_counter()\n",
    "    print(i + 1, \"th finished (\", i + 2, \"qubits,\", t2 - t1, \"s )\")"
   ]
  },
  {
   "cell_type": "code",
   "execution_count": 7,
   "id": "ca9e4afd",
   "metadata": {},
   "outputs": [
    {
     "name": "stdout",
     "output_type": "stream",
     "text": [
      "1 th finished ( 2 qubits, 0.00011759799997435039 s )\n",
      "2 th finished ( 3 qubits, 0.00011032999998406012 s )\n",
      "3 th finished ( 4 qubits, 0.00011874900002339928 s )\n",
      "4 th finished ( 5 qubits, 0.00012925099997573852 s )\n",
      "5 th finished ( 6 qubits, 0.0002858020000076067 s )\n",
      "6 th finished ( 7 qubits, 0.0007926920000045357 s )\n",
      "7 th finished ( 8 qubits, 0.0015964529999905608 s )\n",
      "8 th finished ( 9 qubits, 0.0031659459999673345 s )\n",
      "9 th finished ( 10 qubits, 0.006959999000002881 s )\n",
      "10 th finished ( 11 qubits, 0.01075081399994815 s )\n",
      "11 th finished ( 12 qubits, 0.01831756100000348 s )\n",
      "12 th finished ( 13 qubits, 0.029356756000026962 s )\n",
      "13 th finished ( 14 qubits, 0.051737602999992305 s )\n",
      "14 th finished ( 15 qubits, 0.08394943000001831 s )\n",
      "15 th finished ( 16 qubits, 0.10823817900001131 s )\n",
      "16 th finished ( 17 qubits, 0.24731713300002411 s )\n",
      "17 th finished ( 18 qubits, 0.3447545369999716 s )\n",
      "18 th finished ( 19 qubits, 0.4905249859999685 s )\n",
      "19 th finished ( 20 qubits, 0.655486719999999 s )\n",
      "20 th finished ( 21 qubits, 0.9212612229999877 s )\n",
      "21 th finished ( 22 qubits, 1.1724710329999652 s )\n",
      "22 th finished ( 23 qubits, 1.3718599370000106 s )\n",
      "23 th finished ( 24 qubits, 1.9541614420000428 s )\n",
      "24 th finished ( 25 qubits, 2.9491201339999975 s )\n",
      "25 th finished ( 26 qubits, 3.44473231500001 s )\n",
      "26 th finished ( 27 qubits, 3.7670138629999883 s )\n",
      "27 th finished ( 28 qubits, 4.381160410000007 s )\n",
      "28 th finished ( 29 qubits, 5.497252290000006 s )\n",
      "29 th finished ( 30 qubits, 6.337736746000019 s )\n",
      "30 th finished ( 31 qubits, 7.312529714999982 s )\n",
      "31 th finished ( 32 qubits, 8.44537389200002 s )\n",
      "32 th finished ( 33 qubits, 11.78661036699998 s )\n",
      "33 th finished ( 34 qubits, 12.62982231999996 s )\n",
      "34 th finished ( 35 qubits, 14.756321547000027 s )\n",
      "35 th finished ( 36 qubits, 15.654708631000005 s )\n",
      "36 th finished ( 37 qubits, 16.400328728000034 s )\n",
      "37 th finished ( 38 qubits, 18.110428348000028 s )\n",
      "38 th finished ( 39 qubits, 19.171616845000017 s )\n",
      "39 th finished ( 40 qubits, 20.549479729999916 s )\n",
      "40 th finished ( 41 qubits, 22.482975370999952 s )\n",
      "41 th finished ( 42 qubits, 25.173378595999907 s )\n",
      "42 th finished ( 43 qubits, 36.690489215999946 s )\n",
      "43 th finished ( 44 qubits, 36.669311332999996 s )\n",
      "44 th finished ( 45 qubits, 40.78953561399999 s )\n",
      "45 th finished ( 46 qubits, 42.04905191700004 s )\n",
      "46 th finished ( 47 qubits, 43.80970261699997 s )\n",
      "47 th finished ( 48 qubits, 45.07980714099995 s )\n",
      "48 th finished ( 49 qubits, 48.11378847800006 s )\n",
      "49 th finished ( 50 qubits, 50.80839347299991 s )\n",
      "50 th finished ( 51 qubits, 50.66773117599996 s )\n",
      "51 th finished ( 52 qubits, 57.50159304900001 s )\n",
      "52 th finished ( 53 qubits, 61.54146332899995 s )\n",
      "53 th finished ( 54 qubits, 63.53852083900006 s )\n",
      "54 th finished ( 55 qubits, 63.621576057000084 s )\n",
      "55 th finished ( 56 qubits, 70.84897687600005 s )\n",
      "56 th finished ( 57 qubits, 68.65102834200002 s )\n",
      "57 th finished ( 58 qubits, 71.98514570399993 s )\n",
      "58 th finished ( 59 qubits, 75.42321023400018 s )\n",
      "59 th finished ( 60 qubits, 74.454047145 s )\n",
      "60 th finished ( 61 qubits, 81.62425936599993 s )\n",
      "61 th finished ( 62 qubits, 79.65455220400008 s )\n",
      "62 th finished ( 63 qubits, 84.29860278000001 s )\n",
      "63 th finished ( 64 qubits, 99.39650510000001 s )\n",
      "64 th finished ( 65 qubits, 95.57282899199981 s )\n"
     ]
    }
   ],
   "source": [
    "nation_lu_mitigator_info = []\n",
    "for i in range(max_length):\n",
    "    t1 = time.perf_counter()\n",
    "    # _ = nation_lu_mitigator_list[i].apply(raw_hist_list[i + 1])\n",
    "    nation_lu_mitigator_info.append({\"exact_one_norm_of_inv_reduced_A\": nation_lu_mitigator_list[i].exact_one_norm_of_inv_reduced_A(),\n",
    "                                     \"iterative_one_norm_of_inv_reduced_A\": nation_lu_mitigator_list[i].iterative_one_norm_of_inv_reduced_A(method=\"lu\"),\n",
    "                                     \"mitigated_hist\": nation_lu_mitigator_list[i].mitigated_hist(),\n",
    "                                     \"x_s\": nation_lu_mitigator_list[i].x_s(),\n",
    "                                     \"x_hat\": nation_lu_mitigator_list[i].x_hat(),\n",
    "                                     \"x_tilde\": nation_lu_mitigator_list[i].x_tilde(),\n",
    "                                     \"sum_of_x\": nation_lu_mitigator_list[i].sum_of_x(),\n",
    "                                     \"sum_of_x_hat\": nation_lu_mitigator_list[i].sum_of_x_hat(),\n",
    "                                     \"sum_of_x_tilde\": nation_lu_mitigator_list[i].sum_of_x_tilde(),\n",
    "                                     \"indices_to_keys_vector\": nation_lu_mitigator_list[i].indices_to_keys_vector(),\n",
    "                                     \"times\": nation_lu_mitigator_list[i].times(),\n",
    "                                     \"expval\": nation_lu_mitigator_list[i].expval(),\n",
    "                                     \"mitigation_stddev\": nation_lu_mitigator_list[i].mitigation_stddev(norm_type = \"exact\"),\n",
    "                                     })\n",
    "    t2 = time.perf_counter()\n",
    "    print(i + 1, \"th finished (\", i + 2, \"qubits,\", t2 - t1, \"s )\")"
   ]
  },
  {
   "cell_type": "code",
   "execution_count": 8,
   "id": "95549737",
   "metadata": {},
   "outputs": [],
   "source": [
    "with open(\"./pkls/nation_lu_mitigator_info.pkl\", \"wb\") as f:\n",
    "    pickle.dump(nation_lu_mitigator_info, f)"
   ]
  },
  {
   "cell_type": "code",
   "execution_count": 9,
   "id": "4c694b73",
   "metadata": {},
   "outputs": [
    {
     "data": {
      "text/plain": [
       "[<matplotlib.lines.Line2D at 0x7fee48a1b6d0>]"
      ]
     },
     "execution_count": 9,
     "metadata": {},
     "output_type": "execute_result"
    },
    {
     "data": {
      "image/png": "[encoded data removed]",
      "text/plain": [
       "<Figure size 432x288 with 1 Axes>"
      ]
     },
     "metadata": {
      "needs_background": "light"
     },
     "output_type": "display_data"
    }
   ],
   "source": [
    "plt.plot([nation_lu_mitigator_list[i].times()[\"total\"] for i in range(max_length)])"
   ]
  }
 ],
 "metadata": {
  "kernelspec": {
   "display_name": "Python 3 (ipykernel)",
   "language": "python",
   "name": "python3"
  },
  "language_info": {
   "codemirror_mode": {
    "name": "ipython",
    "version": 3
   },
   "file_extension": ".py",
   "mimetype": "text/x-python",
   "name": "python",
   "nbconvert_exporter": "python",
   "pygments_lexer": "ipython3",
   "version": "3.9.7"
  }
 },
 "nbformat": 4,
 "nbformat_minor": 5
}

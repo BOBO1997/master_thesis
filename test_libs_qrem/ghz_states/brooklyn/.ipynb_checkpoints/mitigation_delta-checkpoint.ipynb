{
 "cells": [
  {
   "cell_type": "code",
   "execution_count": 1,
   "id": "worst-austria",
   "metadata": {},
   "outputs": [],
   "source": [
    "import numpy as np\n",
    "import matplotlib.pyplot as plt\n",
    "%matplotlib inline\n",
    "import pickle\n",
    "import time\n",
    "import importlib"
   ]
  },
  {
   "cell_type": "code",
   "execution_count": 2,
   "id": "43f90bc8",
   "metadata": {},
   "outputs": [],
   "source": [
    "import sys\n",
    "sys.path.append(\"../../../libs_bell\")\n",
    "from lib_preprocessing import job_ids_to_result, flatten_results_jobs_list, arrange_results_list_tensored3, results_list_to_hist_list"
   ]
  },
  {
   "cell_type": "code",
   "execution_count": 3,
   "id": "e2ae2ba1",
   "metadata": {},
   "outputs": [],
   "source": [
    "with open(\"pkls/raw_hist_list.pkl\", \"rb\") as f:\n",
    "    raw_hist_list = pickle.load(f)\n",
    "with open(\"pkls/results_meas_cal.pkl\", \"rb\") as f:\n",
    "    results_meas_cal = pickle.load(f)"
   ]
  },
  {
   "cell_type": "code",
   "execution_count": 4,
   "id": "6796d5f5",
   "metadata": {
    "scrolled": true
   },
   "outputs": [],
   "source": [
    "from libs_qrem import DeltaFilter\n",
    "from qiskit.ignis.mitigation.measurement import TensoredMeasFitter"
   ]
  },
  {
   "cell_type": "code",
   "execution_count": 5,
   "id": "1fee9429",
   "metadata": {},
   "outputs": [
    {
     "name": "stdout",
     "output_type": "stream",
     "text": [
      "size 10 finished\n",
      "size 20 finished\n",
      "size 30 finished\n",
      "size 40 finished\n",
      "size 50 finished\n",
      "size 60 finished\n",
      "length of delta_mitigator_list:  64\n"
     ]
    }
   ],
   "source": [
    "max_size = 65\n",
    "max_length = 64\n",
    "delta_mitigator_list = []\n",
    "for n in range(2, max_size + 1):\n",
    "    mit_pattern = [[i] for i in range(n)]\n",
    "    meas_fitter = TensoredMeasFitter(results_meas_cal[n - 1], mit_pattern=mit_pattern)\n",
    "    delta_mitigator_list.append(DeltaFilter(n, meas_fitter.cal_matrices))\n",
    "    if n % 10 == 0:\n",
    "        print(\"size\", n, \"finished\")\n",
    "print(\"length of delta_mitigator_list: \", len(delta_mitigator_list))"
   ]
  },
  {
   "cell_type": "code",
   "execution_count": 6,
   "id": "fd336980",
   "metadata": {},
   "outputs": [
    {
     "name": "stdout",
     "output_type": "stream",
     "text": [
      "1 th finished ( 2 qubits )\n",
      "2 th finished ( 3 qubits )\n",
      "3 th finished ( 4 qubits )\n",
      "4 th finished ( 5 qubits )\n",
      "5 th finished ( 6 qubits )\n",
      "6 th finished ( 7 qubits )\n",
      "7 th finished ( 8 qubits )\n",
      "8 th finished ( 9 qubits )\n",
      "9 th finished ( 10 qubits )\n",
      "10 th finished ( 11 qubits )\n",
      "11 th finished ( 12 qubits )\n",
      "12 th finished ( 13 qubits )\n",
      "13 th finished ( 14 qubits )\n",
      "14 th finished ( 15 qubits )\n",
      "15 th finished ( 16 qubits )\n",
      "16 th finished ( 17 qubits )\n",
      "17 th finished ( 18 qubits )\n",
      "18 th finished ( 19 qubits )\n",
      "19 th finished ( 20 qubits )\n",
      "20 th finished ( 21 qubits )\n",
      "21 th finished ( 22 qubits )\n",
      "22 th finished ( 23 qubits )\n",
      "23 th finished ( 24 qubits )\n",
      "24 th finished ( 25 qubits )\n",
      "25 th finished ( 26 qubits )\n",
      "26 th finished ( 27 qubits )\n",
      "27 th finished ( 28 qubits )\n",
      "28 th finished ( 29 qubits )\n",
      "29 th finished ( 30 qubits )\n",
      "30 th finished ( 31 qubits )\n",
      "31 th finished ( 32 qubits )\n",
      "32 th finished ( 33 qubits )\n",
      "33 th finished ( 34 qubits )\n",
      "34 th finished ( 35 qubits )\n",
      "35 th finished ( 36 qubits )\n",
      "36 th finished ( 37 qubits )\n",
      "37 th finished ( 38 qubits )\n",
      "38 th finished ( 39 qubits )\n",
      "39 th finished ( 40 qubits )\n",
      "40 th finished ( 41 qubits )\n",
      "41 th finished ( 42 qubits )\n",
      "42 th finished ( 43 qubits )\n",
      "43 th finished ( 44 qubits )\n",
      "44 th finished ( 45 qubits )\n",
      "45 th finished ( 46 qubits )\n",
      "46 th finished ( 47 qubits )\n",
      "47 th finished ( 48 qubits )\n",
      "48 th finished ( 49 qubits )\n",
      "49 th finished ( 50 qubits )\n",
      "50 th finished ( 51 qubits )\n",
      "51 th finished ( 52 qubits )\n",
      "52 th finished ( 53 qubits )\n",
      "53 th finished ( 54 qubits )\n",
      "54 th finished ( 55 qubits )\n",
      "55 th finished ( 56 qubits )\n",
      "56 th finished ( 57 qubits )\n",
      "57 th finished ( 58 qubits )\n",
      "58 th finished ( 59 qubits )\n",
      "59 th finished ( 60 qubits )\n",
      "60 th finished ( 61 qubits )\n",
      "61 th finished ( 62 qubits )\n",
      "62 th finished ( 63 qubits )\n",
      "63 th finished ( 64 qubits )\n",
      "64 th finished ( 65 qubits )\n"
     ]
    }
   ],
   "source": [
    "for i in range(max_length):\n",
    "    _ = delta_mitigator_list[i].apply(raw_hist_list[i + 1])\n",
    "    print(i + 1, \"th finished (\", i + 2, \"qubits )\")"
   ]
  },
  {
   "cell_type": "code",
   "execution_count": 7,
   "id": "ca9e4afd",
   "metadata": {},
   "outputs": [
    {
     "name": "stdout",
     "output_type": "stream",
     "text": [
      "1 th finished ( 2 qubits )\n",
      "2 th finished ( 3 qubits )\n",
      "3 th finished ( 4 qubits )\n",
      "4 th finished ( 5 qubits )\n",
      "5 th finished ( 6 qubits )\n",
      "6 th finished ( 7 qubits )\n",
      "7 th finished ( 8 qubits )\n",
      "8 th finished ( 9 qubits )\n",
      "9 th finished ( 10 qubits )\n",
      "10 th finished ( 11 qubits )\n",
      "11 th finished ( 12 qubits )\n",
      "12 th finished ( 13 qubits )\n",
      "13 th finished ( 14 qubits )\n",
      "14 th finished ( 15 qubits )\n",
      "15 th finished ( 16 qubits )\n",
      "16 th finished ( 17 qubits )\n",
      "17 th finished ( 18 qubits )\n",
      "18 th finished ( 19 qubits )\n",
      "19 th finished ( 20 qubits )\n",
      "20 th finished ( 21 qubits )\n",
      "21 th finished ( 22 qubits )\n",
      "22 th finished ( 23 qubits )\n",
      "23 th finished ( 24 qubits )\n",
      "24 th finished ( 25 qubits )\n",
      "25 th finished ( 26 qubits )\n",
      "26 th finished ( 27 qubits )\n",
      "27 th finished ( 28 qubits )\n",
      "28 th finished ( 29 qubits )\n",
      "29 th finished ( 30 qubits )\n",
      "30 th finished ( 31 qubits )\n",
      "31 th finished ( 32 qubits )\n",
      "32 th finished ( 33 qubits )\n",
      "33 th finished ( 34 qubits )\n",
      "34 th finished ( 35 qubits )\n",
      "35 th finished ( 36 qubits )\n",
      "36 th finished ( 37 qubits )\n",
      "37 th finished ( 38 qubits )\n",
      "38 th finished ( 39 qubits )\n",
      "39 th finished ( 40 qubits )\n",
      "40 th finished ( 41 qubits )\n",
      "41 th finished ( 42 qubits )\n",
      "42 th finished ( 43 qubits )\n",
      "43 th finished ( 44 qubits )\n",
      "44 th finished ( 45 qubits )\n",
      "45 th finished ( 46 qubits )\n",
      "46 th finished ( 47 qubits )\n",
      "47 th finished ( 48 qubits )\n",
      "48 th finished ( 49 qubits )\n",
      "49 th finished ( 50 qubits )\n",
      "50 th finished ( 51 qubits )\n",
      "51 th finished ( 52 qubits )\n",
      "52 th finished ( 53 qubits )\n",
      "53 th finished ( 54 qubits )\n",
      "54 th finished ( 55 qubits )\n",
      "55 th finished ( 56 qubits )\n",
      "56 th finished ( 57 qubits )\n",
      "57 th finished ( 58 qubits )\n",
      "58 th finished ( 59 qubits )\n",
      "59 th finished ( 60 qubits )\n",
      "60 th finished ( 61 qubits )\n",
      "61 th finished ( 62 qubits )\n",
      "62 th finished ( 63 qubits )\n",
      "63 th finished ( 64 qubits )\n",
      "64 th finished ( 65 qubits )\n"
     ]
    }
   ],
   "source": [
    "delta_mitigator_info = []\n",
    "for i in range(max_length):\n",
    "    # _ = delta_mitigator_list[i].apply(raw_hist_list[i + 1])\n",
    "    delta_mitigator_info.append({\"exact_one_norm_of_reduced_inv_A\": delta_mitigator_list[i].exact_one_norm_of_reduced_inv_A(),\n",
    "                                 \"mitigated_hist\": delta_mitigator_list[i].mitigated_hist(),\n",
    "                                 \"x_s\": delta_mitigator_list[i].x_s(),\n",
    "                                 \"x_hat\": delta_mitigator_list[i].x_hat(),\n",
    "                                 \"x_tilde\": delta_mitigator_list[i].x_tilde(),\n",
    "                                 \"sum_of_x\": delta_mitigator_list[i].sum_of_x(),\n",
    "                                 \"sum_of_x_hat\": delta_mitigator_list[i].sum_of_x_hat(),\n",
    "                                 \"sum_of_x_tilde\": delta_mitigator_list[i].sum_of_x_tilde(),\n",
    "                                 \"indices_to_keys_vector\": delta_mitigator_list[i].indices_to_keys_vector(),\n",
    "                                 \"times\": delta_mitigator_list[i].times(),\n",
    "                                 \"expval\": delta_mitigator_list[i].expval(),\n",
    "                                 \"mitigation_stddev\": delta_mitigator_list[i].mitigation_stddev(norm_type = \"exact\"),\n",
    "                                 })\n",
    "    print(i + 1, \"th finished (\", i + 2, \"qubits )\")"
   ]
  },
  {
   "cell_type": "code",
   "execution_count": 8,
   "id": "95549737",
   "metadata": {},
   "outputs": [],
   "source": [
    "with open(\"./pkls/delta_mitigator_info.pkl\", \"wb\") as f:\n",
    "    pickle.dump(delta_mitigator_info, f)"
   ]
  }
 ],
 "metadata": {
  "kernelspec": {
   "display_name": "Python 3 (ipykernel)",
   "language": "python",
   "name": "python3"
  },
  "language_info": {
   "codemirror_mode": {
    "name": "ipython",
    "version": 3
   },
   "file_extension": ".py",
   "mimetype": "text/x-python",
   "name": "python",
   "nbconvert_exporter": "python",
   "pygments_lexer": "ipython3",
   "version": "3.9.7"
  }
 },
 "nbformat": 4,
 "nbformat_minor": 5
}

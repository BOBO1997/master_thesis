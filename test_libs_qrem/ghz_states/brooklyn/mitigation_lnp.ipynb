{
 "cells": [
  {
   "cell_type": "code",
   "execution_count": 1,
   "id": "worst-austria",
   "metadata": {},
   "outputs": [],
   "source": [
    "import numpy as np\n",
    "import matplotlib.pyplot as plt\n",
    "%matplotlib inline\n",
    "import pickle\n",
    "import time\n",
    "import importlib"
   ]
  },
  {
   "cell_type": "code",
   "execution_count": 2,
   "id": "43f90bc8",
   "metadata": {},
   "outputs": [],
   "source": [
    "import sys\n",
    "sys.path.append(\"../../../libs_bell\")\n",
    "from lib_preprocessing import job_ids_to_result, flatten_results_jobs_list, arrange_results_list_tensored3, results_list_to_hist_list"
   ]
  },
  {
   "cell_type": "code",
   "execution_count": 3,
   "id": "e2ae2ba1",
   "metadata": {},
   "outputs": [],
   "source": [
    "with open(\"pkls/raw_hist_list.pkl\", \"rb\") as f:\n",
    "    raw_hist_list = pickle.load(f)\n",
    "with open(\"pkls/results_meas_cal.pkl\", \"rb\") as f:\n",
    "    results_meas_cal = pickle.load(f)"
   ]
  },
  {
   "cell_type": "code",
   "execution_count": 4,
   "id": "6796d5f5",
   "metadata": {
    "scrolled": true
   },
   "outputs": [],
   "source": [
    "from libs_qrem import LeastNormFilter\n",
    "from qiskit.ignis.mitigation.measurement import TensoredMeasFitter"
   ]
  },
  {
   "cell_type": "code",
   "execution_count": 5,
   "id": "1fee9429",
   "metadata": {},
   "outputs": [
    {
     "name": "stdout",
     "output_type": "stream",
     "text": [
      "size 10 finished\n",
      "size 20 finished\n",
      "size 30 finished\n",
      "size 40 finished\n",
      "size 50 finished\n",
      "size 60 finished\n",
      "length of lnp_mitigator_list:  64\n"
     ]
    }
   ],
   "source": [
    "max_size = 65\n",
    "max_length = 64\n",
    "lnp_mitigator_list = []\n",
    "for n in range(2, max_size + 1):\n",
    "    mit_pattern = [[i] for i in range(n)]\n",
    "    meas_fitter = TensoredMeasFitter(results_meas_cal[n - 1], mit_pattern=mit_pattern)\n",
    "    lnp_mitigator_list.append(LeastNormFilter(n, meas_fitter.cal_matrices))\n",
    "    if n % 10 == 0:\n",
    "        print(\"size\", n, \"finished\")\n",
    "print(\"length of lnp_mitigator_list: \", len(lnp_mitigator_list))"
   ]
  },
  {
   "cell_type": "code",
   "execution_count": 6,
   "id": "fd336980",
   "metadata": {
    "scrolled": true
   },
   "outputs": [
    {
     "name": "stdout",
     "output_type": "stream",
     "text": [
      "1 th finished ( 2 qubits, 8.322500000090827e-05 s )\n",
      "2 th finished ( 3 qubits, 5.1782999999971935e-05 s )\n",
      "3 th finished ( 4 qubits, 0.00010149399999903608 s )\n",
      "4 th finished ( 5 qubits, 0.00019168299999883232 s )\n",
      "5 th finished ( 6 qubits, 0.0002912169999991221 s )\n",
      "6 th finished ( 7 qubits, 0.0004783599999989008 s )\n",
      "7 th finished ( 8 qubits, 0.0007170789999992877 s )\n",
      "8 th finished ( 9 qubits, 0.0011064810000007697 s )\n",
      "9 th finished ( 10 qubits, 0.0014991860000002077 s )\n",
      "10 th finished ( 11 qubits, 0.0020104740000004284 s )\n",
      "11 th finished ( 12 qubits, 0.0026016260000005786 s )\n",
      "12 th finished ( 13 qubits, 0.004299616000000839 s )\n",
      "13 th finished ( 14 qubits, 0.008765189000000007 s )\n",
      "14 th finished ( 15 qubits, 0.022455458999999678 s )\n",
      "15 th finished ( 16 qubits, 0.016189802999999614 s )\n",
      "16 th finished ( 17 qubits, 0.027348886000000405 s )\n",
      "17 th finished ( 18 qubits, 0.033326135000001145 s )\n",
      "18 th finished ( 19 qubits, 0.04665454999999952 s )\n",
      "19 th finished ( 20 qubits, 0.05418881100000128 s )\n",
      "20 th finished ( 21 qubits, 0.25422320900000095 s )\n",
      "21 th finished ( 22 qubits, 0.10746520799999892 s )\n",
      "22 th finished ( 23 qubits, 0.2642362709999997 s )\n",
      "23 th finished ( 24 qubits, 0.20418508900000099 s )\n",
      "24 th finished ( 25 qubits, 0.27280995299999944 s )\n",
      "25 th finished ( 26 qubits, 0.17123193199999953 s )\n",
      "26 th finished ( 27 qubits, 0.17941861800000147 s )\n",
      "27 th finished ( 28 qubits, 0.207804286 s )\n",
      "28 th finished ( 29 qubits, 0.24422124700000047 s )\n",
      "29 th finished ( 30 qubits, 0.2848467050000014 s )\n",
      "30 th finished ( 31 qubits, 0.3338107910000012 s )\n",
      "31 th finished ( 32 qubits, 0.5963063020000003 s )\n",
      "32 th finished ( 33 qubits, 0.7310539250000012 s )\n",
      "33 th finished ( 34 qubits, 0.8097536019999989 s )\n",
      "34 th finished ( 35 qubits, 0.7901021429999986 s )\n",
      "35 th finished ( 36 qubits, 0.6246755699999973 s )\n",
      "36 th finished ( 37 qubits, 1.1620551829999997 s )\n",
      "37 th finished ( 38 qubits, 0.9023105250000008 s )\n",
      "38 th finished ( 39 qubits, 1.0697674270000022 s )\n",
      "39 th finished ( 40 qubits, 0.9638189050000001 s )\n",
      "40 th finished ( 41 qubits, 1.1969141069999978 s )\n",
      "41 th finished ( 42 qubits, 1.0805392840000003 s )\n",
      "42 th finished ( 43 qubits, 1.4376817290000012 s )\n",
      "43 th finished ( 44 qubits, 1.4850972589999998 s )\n",
      "44 th finished ( 45 qubits, 1.5069508680000006 s )\n",
      "45 th finished ( 46 qubits, 1.5534284279999966 s )\n",
      "46 th finished ( 47 qubits, 1.6995072820000026 s )\n",
      "47 th finished ( 48 qubits, 1.7290755069999975 s )\n",
      "48 th finished ( 49 qubits, 1.9615508619999957 s )\n",
      "49 th finished ( 50 qubits, 2.2569158940000023 s )\n",
      "50 th finished ( 51 qubits, 2.4463691659999967 s )\n",
      "51 th finished ( 52 qubits, 2.609299179000004 s )\n",
      "52 th finished ( 53 qubits, 2.557549483999999 s )\n",
      "53 th finished ( 54 qubits, 2.5600028890000033 s )\n",
      "54 th finished ( 55 qubits, 2.605958831999999 s )\n",
      "55 th finished ( 56 qubits, 3.4638754590000005 s )\n",
      "56 th finished ( 57 qubits, 3.5968607410000004 s )\n",
      "57 th finished ( 58 qubits, 3.123901853999996 s )\n",
      "58 th finished ( 59 qubits, 3.8747678890000046 s )\n",
      "59 th finished ( 60 qubits, 3.3385817289999977 s )\n",
      "60 th finished ( 61 qubits, 3.9487974980000047 s )\n",
      "61 th finished ( 62 qubits, 3.763892526999996 s )\n",
      "62 th finished ( 63 qubits, 4.03832560699999 s )\n",
      "63 th finished ( 64 qubits, 4.03912966 s )\n",
      "64 th finished ( 65 qubits, 4.111444689999999 s )\n"
     ]
    }
   ],
   "source": [
    "for i in range(max_length):\n",
    "    t1 = time.perf_counter()\n",
    "    _ = lnp_mitigator_list[i].apply(raw_hist_list[i + 1])\n",
    "    t2 = time.perf_counter()\n",
    "    print(i + 1, \"th finished (\", i + 2, \"qubits,\", t2 - t1, \"s )\")"
   ]
  },
  {
   "cell_type": "code",
   "execution_count": 7,
   "id": "ca9e4afd",
   "metadata": {
    "scrolled": true
   },
   "outputs": [
    {
     "name": "stdout",
     "output_type": "stream",
     "text": [
      "1 th finished ( 2 qubits, 0.0003635080000066182 s )\n",
      "2 th finished ( 3 qubits, 9.25419999902033e-05 s )\n",
      "3 th finished ( 4 qubits, 5.0324000000046e-05 s )\n",
      "4 th finished ( 5 qubits, 6.053799999961029e-05 s )\n",
      "5 th finished ( 6 qubits, 6.990099998915866e-05 s )\n",
      "6 th finished ( 7 qubits, 9.726800000464664e-05 s )\n",
      "7 th finished ( 8 qubits, 0.00011822100000813407 s )\n",
      "8 th finished ( 9 qubits, 0.0010481609999999364 s )\n",
      "9 th finished ( 10 qubits, 0.0017735640000040576 s )\n",
      "10 th finished ( 11 qubits, 0.0009929249999913736 s )\n",
      "11 th finished ( 12 qubits, 0.00022097400000120615 s )\n",
      "12 th finished ( 13 qubits, 0.0008382060000116098 s )\n",
      "13 th finished ( 14 qubits, 0.0003225049999997509 s )\n",
      "14 th finished ( 15 qubits, 0.0003447800000060397 s )\n",
      "15 th finished ( 16 qubits, 0.00242269800000372 s )\n",
      "16 th finished ( 17 qubits, 0.0011131280000000743 s )\n",
      "17 th finished ( 18 qubits, 0.0018205469999941215 s )\n",
      "18 th finished ( 19 qubits, 0.0022618490000070324 s )\n",
      "19 th finished ( 20 qubits, 0.0013043390000007093 s )\n",
      "20 th finished ( 21 qubits, 0.00117955199999642 s )\n",
      "21 th finished ( 22 qubits, 0.0007061040000024832 s )\n",
      "22 th finished ( 23 qubits, 0.002103368000007322 s )\n",
      "23 th finished ( 24 qubits, 0.001727400000007151 s )\n",
      "24 th finished ( 25 qubits, 0.0023883270000055745 s )\n",
      "25 th finished ( 26 qubits, 0.002083233000007567 s )\n",
      "26 th finished ( 27 qubits, 0.0018509309999927837 s )\n",
      "27 th finished ( 28 qubits, 0.002655701000009003 s )\n",
      "28 th finished ( 29 qubits, 0.002129919000012137 s )\n",
      "29 th finished ( 30 qubits, 0.003408077000003118 s )\n",
      "30 th finished ( 31 qubits, 0.0017658759999932272 s )\n",
      "31 th finished ( 32 qubits, 0.002218411000001197 s )\n",
      "32 th finished ( 33 qubits, 0.0030911260000010543 s )\n",
      "33 th finished ( 34 qubits, 0.003155378000002429 s )\n",
      "34 th finished ( 35 qubits, 0.0029706239999995887 s )\n",
      "35 th finished ( 36 qubits, 0.0032122949999973116 s )\n",
      "36 th finished ( 37 qubits, 0.003823936000003414 s )\n",
      "37 th finished ( 38 qubits, 0.0032948820000058276 s )\n",
      "38 th finished ( 39 qubits, 0.003755454999989638 s )\n",
      "39 th finished ( 40 qubits, 0.004250932999994461 s )\n",
      "40 th finished ( 41 qubits, 0.00371833100000174 s )\n",
      "41 th finished ( 42 qubits, 0.004482764000002248 s )\n",
      "42 th finished ( 43 qubits, 0.004520811999995544 s )\n",
      "43 th finished ( 44 qubits, 0.005883333999989304 s )\n",
      "44 th finished ( 45 qubits, 0.005301633999991395 s )\n",
      "45 th finished ( 46 qubits, 0.008765901999993275 s )\n",
      "46 th finished ( 47 qubits, 0.010869647999996346 s )\n",
      "47 th finished ( 48 qubits, 0.013124761000000262 s )\n",
      "48 th finished ( 49 qubits, 0.008234763999993788 s )\n",
      "49 th finished ( 50 qubits, 0.006008565999991333 s )\n",
      "50 th finished ( 51 qubits, 0.005784810999998058 s )\n",
      "51 th finished ( 52 qubits, 0.006786085000001663 s )\n",
      "52 th finished ( 53 qubits, 0.008414765000011926 s )\n",
      "53 th finished ( 54 qubits, 0.008727859000003946 s )\n",
      "54 th finished ( 55 qubits, 0.014327227999999081 s )\n",
      "55 th finished ( 56 qubits, 0.017288028999999483 s )\n",
      "56 th finished ( 57 qubits, 0.02891056999999364 s )\n",
      "57 th finished ( 58 qubits, 0.019003456999996615 s )\n",
      "58 th finished ( 59 qubits, 0.008118375999998761 s )\n",
      "59 th finished ( 60 qubits, 0.004976801000012188 s )\n",
      "60 th finished ( 61 qubits, 0.009859843000000978 s )\n",
      "61 th finished ( 62 qubits, 0.009560132999993698 s )\n",
      "62 th finished ( 63 qubits, 0.0059534749999983205 s )\n",
      "63 th finished ( 64 qubits, 0.006302750000003243 s )\n",
      "64 th finished ( 65 qubits, 0.00767727999999579 s )\n"
     ]
    }
   ],
   "source": [
    "lnp_mitigator_info = []\n",
    "for i in range(max_length):\n",
    "    t1 = time.perf_counter()\n",
    "    lnp_mitigator_info.append({\"exact_one_norm_of_reduced_inv_A\": lnp_mitigator_list[i].exact_one_norm_of_reduced_inv_A(),\n",
    "                                 \"mitigated_hist\": lnp_mitigator_list[i].mitigated_hist(),\n",
    "                                 \"x_s\": lnp_mitigator_list[i].x_s(),\n",
    "                                 \"x_hat\": lnp_mitigator_list[i].x_hat(),\n",
    "                                 \"x_tilde\": lnp_mitigator_list[i].x_tilde(),\n",
    "                                 \"sum_of_x\": lnp_mitigator_list[i].sum_of_x(),\n",
    "                                 \"sum_of_x_hat\": lnp_mitigator_list[i].sum_of_x_hat(),\n",
    "                                 \"sum_of_x_tilde\": lnp_mitigator_list[i].sum_of_x_tilde(),\n",
    "                                 \"indices_to_keys_vector\": lnp_mitigator_list[i].indices_to_keys_vector(),\n",
    "                                 \"times\": lnp_mitigator_list[i].times(),\n",
    "                                 \"expval\": lnp_mitigator_list[i].expval(),\n",
    "                                 \"mitigation_stddev\": lnp_mitigator_list[i].mitigation_stddev(norm_type = \"exact\"),\n",
    "                                 })\n",
    "    t2 = time.perf_counter()\n",
    "    print(i + 1, \"th finished (\", i + 2, \"qubits,\", t2 - t1, \"s )\")"
   ]
  },
  {
   "cell_type": "code",
   "execution_count": 8,
   "id": "95549737",
   "metadata": {},
   "outputs": [],
   "source": [
    "with open(\"./pkls/lnp_mitigator_info.pkl\", \"wb\") as f:\n",
    "    pickle.dump(lnp_mitigator_info, f)"
   ]
  }
 ],
 "metadata": {
  "kernelspec": {
   "display_name": "Python 3 (ipykernel)",
   "language": "python",
   "name": "python3"
  },
  "language_info": {
   "codemirror_mode": {
    "name": "ipython",
    "version": 3
   },
   "file_extension": ".py",
   "mimetype": "text/x-python",
   "name": "python",
   "nbconvert_exporter": "python",
   "pygments_lexer": "ipython3",
   "version": "3.9.7"
  }
 },
 "nbformat": 4,
 "nbformat_minor": 5
}

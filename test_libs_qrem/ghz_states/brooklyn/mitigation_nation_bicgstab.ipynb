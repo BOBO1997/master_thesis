{
 "cells": [
  {
   "cell_type": "code",
   "execution_count": 1,
   "id": "worst-austria",
   "metadata": {},
   "outputs": [],
   "source": [
    "import numpy as np\n",
    "import matplotlib.pyplot as plt\n",
    "%matplotlib inline\n",
    "import pickle\n",
    "import time\n",
    "import importlib"
   ]
  },
  {
   "cell_type": "code",
   "execution_count": 2,
   "id": "43f90bc8",
   "metadata": {},
   "outputs": [],
   "source": [
    "import sys\n",
    "sys.path.append(\"../../../libs_bell\")\n",
    "from lib_preprocessing import job_ids_to_result, flatten_results_jobs_list, arrange_results_list_tensored3, results_list_to_hist_list"
   ]
  },
  {
   "cell_type": "code",
   "execution_count": 3,
   "id": "e2ae2ba1",
   "metadata": {},
   "outputs": [],
   "source": [
    "with open(\"pkls/raw_hist_list.pkl\", \"rb\") as f:\n",
    "    raw_hist_list = pickle.load(f)\n",
    "with open(\"pkls/results_meas_cal.pkl\", \"rb\") as f:\n",
    "    results_meas_cal = pickle.load(f)"
   ]
  },
  {
   "cell_type": "code",
   "execution_count": 4,
   "id": "6796d5f5",
   "metadata": {
    "scrolled": true
   },
   "outputs": [],
   "source": [
    "from libs_qrem import NationEtalFilter\n",
    "from qiskit.ignis.mitigation.measurement import TensoredMeasFitter"
   ]
  },
  {
   "cell_type": "code",
   "execution_count": 5,
   "id": "1fee9429",
   "metadata": {},
   "outputs": [
    {
     "name": "stdout",
     "output_type": "stream",
     "text": [
      "size 10 finished\n",
      "size 20 finished\n",
      "size 30 finished\n",
      "size 40 finished\n",
      "size 50 finished\n",
      "size 60 finished\n",
      "length of nation_bicgstab_mitigator_list:  64\n"
     ]
    }
   ],
   "source": [
    "max_size = 65\n",
    "max_length = 40\n",
    "nation_bicgstab_mitigator_list = []\n",
    "for n in range(2, max_size + 1):\n",
    "    mit_pattern = [[i] for i in range(n)]\n",
    "    meas_fitter = TensoredMeasFitter(results_meas_cal[n - 1], mit_pattern=mit_pattern)\n",
    "    nation_bicgstab_mitigator_list.append(NationEtalFilter(n, meas_fitter.cal_matrices))\n",
    "    if n % 10 == 0:\n",
    "        print(\"size\", n, \"finished\")\n",
    "print(\"length of nation_bicgstab_mitigator_list: \", len(nation_bicgstab_mitigator_list))"
   ]
  },
  {
   "cell_type": "code",
   "execution_count": 6,
   "id": "fd336980",
   "metadata": {},
   "outputs": [
    {
     "name": "stdout",
     "output_type": "stream",
     "text": [
      "1 th finished ( 2 qubits, 0.00012096200000044632 s )\n",
      "2 th finished ( 3 qubits, 6.786799999858317e-05 s )\n",
      "3 th finished ( 4 qubits, 0.00013827700000135223 s )\n",
      "4 th finished ( 5 qubits, 0.00016341000000075212 s )\n",
      "5 th finished ( 6 qubits, 0.00023577900000049112 s )\n",
      "6 th finished ( 7 qubits, 0.0005955310000000935 s )\n",
      "7 th finished ( 8 qubits, 0.0008617150000009843 s )\n",
      "8 th finished ( 9 qubits, 0.0011908610000013198 s )\n",
      "9 th finished ( 10 qubits, 0.0018940950000008172 s )\n",
      "10 th finished ( 11 qubits, 0.003024479999998775 s )\n",
      "11 th finished ( 12 qubits, 0.004627670999999722 s )\n",
      "12 th finished ( 13 qubits, 0.006675297000001024 s )\n",
      "13 th finished ( 14 qubits, 0.012035790999998852 s )\n",
      "14 th finished ( 15 qubits, 0.014991860999998607 s )\n",
      "15 th finished ( 16 qubits, 0.017592040000000253 s )\n",
      "16 th finished ( 17 qubits, 0.03254321300000029 s )\n",
      "17 th finished ( 18 qubits, 0.04149354800000005 s )\n",
      "18 th finished ( 19 qubits, 0.054358676999999744 s )\n",
      "19 th finished ( 20 qubits, 0.0708390320000003 s )\n",
      "20 th finished ( 21 qubits, 0.09606643799999937 s )\n",
      "21 th finished ( 22 qubits, 0.11437280500000035 s )\n",
      "22 th finished ( 23 qubits, 0.13757393100000037 s )\n",
      "23 th finished ( 24 qubits, 0.18264620000000065 s )\n",
      "24 th finished ( 25 qubits, 0.24905695599999866 s )\n",
      "25 th finished ( 26 qubits, 0.28809531899999996 s )\n",
      "26 th finished ( 27 qubits, 0.30667923400000063 s )\n",
      "27 th finished ( 28 qubits, 0.3514334720000001 s )\n",
      "28 th finished ( 29 qubits, 0.41453245900000013 s )\n",
      "29 th finished ( 30 qubits, 0.5285760830000008 s )\n",
      "30 th finished ( 31 qubits, 0.5696424970000002 s )\n",
      "31 th finished ( 32 qubits, 0.7593734740000002 s )\n",
      "32 th finished ( 33 qubits, 0.8664802359999992 s )\n",
      "33 th finished ( 34 qubits, 0.8336579610000001 s )\n",
      "34 th finished ( 35 qubits, 0.9330578799999998 s )\n",
      "35 th finished ( 36 qubits, 0.9749695440000004 s )\n",
      "36 th finished ( 37 qubits, 1.1169376570000011 s )\n",
      "37 th finished ( 38 qubits, 1.2149616379999983 s )\n",
      "38 th finished ( 39 qubits, 1.2498131320000034 s )\n",
      "39 th finished ( 40 qubits, 1.3201897460000005 s )\n",
      "40 th finished ( 41 qubits, 1.468838483999999 s )\n"
     ]
    }
   ],
   "source": [
    "for i in range(max_length):\n",
    "    t1 = time.perf_counter()\n",
    "    _ = nation_bicgstab_mitigator_list[i].apply(raw_hist_list[i + 1], method=\"bicgstab\")\n",
    "    t2 = time.perf_counter()\n",
    "    print(i + 1, \"th finished (\", i + 2, \"qubits,\", t2 - t1, \"s )\")"
   ]
  },
  {
   "cell_type": "code",
   "execution_count": 7,
   "id": "ca9e4afd",
   "metadata": {},
   "outputs": [
    {
     "name": "stdout",
     "output_type": "stream",
     "text": [
      "1 th finished ( 2 qubits, 0.00011351099999856729 s )\n",
      "2 th finished ( 3 qubits, 6.801800000033609e-05 s )\n",
      "3 th finished ( 4 qubits, 8.707399999963172e-05 s )\n",
      "4 th finished ( 5 qubits, 0.00018844899999947984 s )\n",
      "5 th finished ( 6 qubits, 0.0002841449999984036 s )\n",
      "6 th finished ( 7 qubits, 0.0006261830000013902 s )\n",
      "7 th finished ( 8 qubits, 0.02954214900000096 s )\n",
      "8 th finished ( 9 qubits, 0.03492746799999935 s )\n",
      "9 th finished ( 10 qubits, 0.01951608899999968 s )\n",
      "10 th finished ( 11 qubits, 0.010997933999998821 s )\n",
      "11 th finished ( 12 qubits, 0.01746639000000272 s )\n",
      "12 th finished ( 13 qubits, 0.034395161000002616 s )\n",
      "13 th finished ( 14 qubits, 0.051231581999999776 s )\n",
      "14 th finished ( 15 qubits, 0.07327964500000306 s )\n",
      "15 th finished ( 16 qubits, 0.09355030500000083 s )\n",
      "16 th finished ( 17 qubits, 0.22797198199999968 s )\n",
      "17 th finished ( 18 qubits, 0.3132018439999982 s )\n",
      "18 th finished ( 19 qubits, 0.4565514680000007 s )\n",
      "19 th finished ( 20 qubits, 0.5813698639999991 s )\n",
      "20 th finished ( 21 qubits, 0.7913982869999998 s )\n",
      "21 th finished ( 22 qubits, 0.9840061490000025 s )\n",
      "22 th finished ( 23 qubits, 1.106861489 s )\n",
      "23 th finished ( 24 qubits, 1.6172075499999998 s )\n",
      "24 th finished ( 25 qubits, 2.500734672 s )\n",
      "25 th finished ( 26 qubits, 2.7334964889999966 s )\n",
      "26 th finished ( 27 qubits, 2.935532830999996 s )\n",
      "27 th finished ( 28 qubits, 3.4898892450000005 s )\n",
      "28 th finished ( 29 qubits, 4.217488241000005 s )\n",
      "29 th finished ( 30 qubits, 5.366698284000002 s )\n",
      "30 th finished ( 31 qubits, 6.033585588999998 s )\n",
      "31 th finished ( 32 qubits, 6.881935967000004 s )\n",
      "32 th finished ( 33 qubits, 11.492392897999991 s )\n",
      "33 th finished ( 34 qubits, 10.724671604999997 s )\n",
      "34 th finished ( 35 qubits, 10.902441203999999 s )\n",
      "35 th finished ( 36 qubits, 11.814173016999987 s )\n",
      "36 th finished ( 37 qubits, 11.499522853999991 s )\n",
      "37 th finished ( 38 qubits, 14.53495629999999 s )\n",
      "38 th finished ( 39 qubits, 14.833723372000009 s )\n",
      "39 th finished ( 40 qubits, 16.521064835000004 s )\n",
      "40 th finished ( 41 qubits, 18.107779652000005 s )\n"
     ]
    }
   ],
   "source": [
    "nation_bicgstab_mitigator_info = []\n",
    "for i in range(max_length):\n",
    "    t1 = time.perf_counter()\n",
    "    nation_bicgstab_mitigator_info.append({\"exact_one_norm_of_inv_reduced_A\": nation_bicgstab_mitigator_list[i].exact_one_norm_of_inv_reduced_A(),\n",
    "                                           \"iterative_one_norm_of_inv_reduced_A\": nation_bicgstab_mitigator_list[i].iterative_one_norm_of_inv_reduced_A(method=\"iterative\"),\n",
    "                                           \"mitigated_hist\": nation_bicgstab_mitigator_list[i].mitigated_hist(),\n",
    "                                           \"x_s\": nation_bicgstab_mitigator_list[i].x_s(),\n",
    "                                           \"x_hat\": nation_bicgstab_mitigator_list[i].x_hat(),\n",
    "                                           \"x_tilde\": nation_bicgstab_mitigator_list[i].x_tilde(),\n",
    "                                           \"sum_of_x\": nation_bicgstab_mitigator_list[i].sum_of_x(),\n",
    "                                           \"sum_of_x_hat\": nation_bicgstab_mitigator_list[i].sum_of_x_hat(),\n",
    "                                           \"sum_of_x_tilde\": nation_bicgstab_mitigator_list[i].sum_of_x_tilde(),\n",
    "                                           \"indices_to_keys_vector\": nation_bicgstab_mitigator_list[i].indices_to_keys_vector(),\n",
    "                                           \"times\": nation_bicgstab_mitigator_list[i].times(),\n",
    "                                           \"expval\": nation_bicgstab_mitigator_list[i].expval(),\n",
    "                                           \"mitigation_stddev\": nation_bicgstab_mitigator_list[i].mitigation_stddev(norm_type = \"exact\"),\n",
    "                                 })\n",
    "    t2 = time.perf_counter()\n",
    "    print(i + 1, \"th finished (\", i + 2, \"qubits,\", t2 - t1, \"s )\")"
   ]
  },
  {
   "cell_type": "code",
   "execution_count": 8,
   "id": "95549737",
   "metadata": {},
   "outputs": [],
   "source": [
    "with open(\"./pkls/nation_bicgstab_mitigator_info.pkl\", \"wb\") as f:\n",
    "    pickle.dump(nation_bicgstab_mitigator_info, f)"
   ]
  }
 ],
 "metadata": {
  "kernelspec": {
   "display_name": "Python 3 (ipykernel)",
   "language": "python",
   "name": "python3"
  },
  "language_info": {
   "codemirror_mode": {
    "name": "ipython",
    "version": 3
   },
   "file_extension": ".py",
   "mimetype": "text/x-python",
   "name": "python",
   "nbconvert_exporter": "python",
   "pygments_lexer": "ipython3",
   "version": "3.9.7"
  }
 },
 "nbformat": 4,
 "nbformat_minor": 5
}

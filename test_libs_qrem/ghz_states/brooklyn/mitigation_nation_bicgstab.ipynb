{
 "cells": [
  {
   "cell_type": "code",
   "execution_count": 1,
   "id": "worst-austria",
   "metadata": {},
   "outputs": [],
   "source": [
    "import numpy as np\n",
    "import matplotlib.pyplot as plt\n",
    "%matplotlib inline\n",
    "import pickle\n",
    "import time\n",
    "import importlib"
   ]
  },
  {
   "cell_type": "code",
   "execution_count": 2,
   "id": "43f90bc8",
   "metadata": {},
   "outputs": [],
   "source": [
    "import sys\n",
    "sys.path.append(\"../../../libs_bell\")\n",
    "from lib_preprocessing import job_ids_to_result, flatten_results_jobs_list, arrange_results_list_tensored3, results_list_to_hist_list"
   ]
  },
  {
   "cell_type": "code",
   "execution_count": 3,
   "id": "e2ae2ba1",
   "metadata": {},
   "outputs": [],
   "source": [
    "with open(\"pkls/raw_hist_list.pkl\", \"rb\") as f:\n",
    "    raw_hist_list = pickle.load(f)\n",
    "with open(\"pkls/results_meas_cal.pkl\", \"rb\") as f:\n",
    "    results_meas_cal = pickle.load(f)"
   ]
  },
  {
   "cell_type": "code",
   "execution_count": 4,
   "id": "6796d5f5",
   "metadata": {
    "scrolled": true
   },
   "outputs": [],
   "source": [
    "from libs_qrem import NationEtalFilter\n",
    "from qiskit.ignis.mitigation.measurement import TensoredMeasFitter"
   ]
  },
  {
   "cell_type": "code",
   "execution_count": 5,
   "id": "1fee9429",
   "metadata": {},
   "outputs": [
    {
     "name": "stdout",
     "output_type": "stream",
     "text": [
      "size 10 finished\n",
      "size 20 finished\n",
      "size 30 finished\n",
      "size 40 finished\n",
      "size 50 finished\n",
      "size 60 finished\n",
      "length of nation_bicgstab_mitigator_list:  64\n"
     ]
    }
   ],
   "source": [
    "max_size = 65\n",
    "max_length = 40\n",
    "nation_bicgstab_mitigator_list = []\n",
    "for n in range(2, max_size + 1):\n",
    "    mit_pattern = [[i] for i in range(n)]\n",
    "    meas_fitter = TensoredMeasFitter(results_meas_cal[n - 1], mit_pattern=mit_pattern)\n",
    "    nation_bicgstab_mitigator_list.append(NationEtalFilter(n, meas_fitter.cal_matrices))\n",
    "    if n % 10 == 0:\n",
    "        print(\"size\", n, \"finished\")\n",
    "print(\"length of nation_bicgstab_mitigator_list: \", len(nation_bicgstab_mitigator_list))"
   ]
  },
  {
   "cell_type": "code",
   "execution_count": 6,
   "id": "fd336980",
   "metadata": {},
   "outputs": [
    {
     "name": "stdout",
     "output_type": "stream",
     "text": [
      "1 th finished ( 2 qubits, 8.678500000058875e-05 s )\n",
      "2 th finished ( 3 qubits, 6.404999999887195e-05 s )\n",
      "3 th finished ( 4 qubits, 0.0001638700000015092 s )\n",
      "4 th finished ( 5 qubits, 0.00023305000000561904 s )\n",
      "5 th finished ( 6 qubits, 0.00042015500000047723 s )\n",
      "6 th finished ( 7 qubits, 0.00048626899999959505 s )\n",
      "7 th finished ( 8 qubits, 0.0010323119999995356 s )\n",
      "8 th finished ( 9 qubits, 0.0013155500000010534 s )\n",
      "9 th finished ( 10 qubits, 0.00235330599999628 s )\n",
      "10 th finished ( 11 qubits, 0.00305446600000181 s )\n",
      "11 th finished ( 12 qubits, 0.004498927000000208 s )\n",
      "12 th finished ( 13 qubits, 0.006974918000004493 s )\n",
      "13 th finished ( 14 qubits, 0.010747704999999996 s )\n",
      "14 th finished ( 15 qubits, 0.01383298900000085 s )\n",
      "15 th finished ( 16 qubits, 0.016022694999996645 s )\n",
      "16 th finished ( 17 qubits, 0.030935849000002236 s )\n",
      "17 th finished ( 18 qubits, 0.04148714800000164 s )\n",
      "18 th finished ( 19 qubits, 0.05328166500000009 s )\n",
      "19 th finished ( 20 qubits, 0.0683351440000024 s )\n",
      "20 th finished ( 21 qubits, 0.096624539000004 s )\n",
      "21 th finished ( 22 qubits, 0.10881950400000306 s )\n",
      "22 th finished ( 23 qubits, 0.13173861399999964 s )\n",
      "23 th finished ( 24 qubits, 0.1727073580000038 s )\n",
      "24 th finished ( 25 qubits, 0.24279956200000186 s )\n",
      "25 th finished ( 26 qubits, 0.2835262220000061 s )\n",
      "26 th finished ( 27 qubits, 0.3209923260000025 s )\n",
      "27 th finished ( 28 qubits, 0.34819414699999385 s )\n",
      "28 th finished ( 29 qubits, 0.43597268100000264 s )\n",
      "29 th finished ( 30 qubits, 0.4755255590000047 s )\n",
      "30 th finished ( 31 qubits, 0.5264926790000004 s )\n",
      "31 th finished ( 32 qubits, 0.5899462 s )\n",
      "32 th finished ( 33 qubits, 0.7675972600000023 s )\n",
      "33 th finished ( 34 qubits, 0.8094486189999941 s )\n",
      "34 th finished ( 35 qubits, 0.929509975000002 s )\n",
      "35 th finished ( 36 qubits, 1.024072775999997 s )\n",
      "36 th finished ( 37 qubits, 0.9851173199999934 s )\n",
      "37 th finished ( 38 qubits, 1.124336513000003 s )\n",
      "38 th finished ( 39 qubits, 1.1803949820000028 s )\n",
      "39 th finished ( 40 qubits, 1.2199613060000019 s )\n",
      "40 th finished ( 41 qubits, 1.3495050309999996 s )\n"
     ]
    }
   ],
   "source": [
    "for i in range(max_length):\n",
    "    t1 = time.perf_counter()\n",
    "    _ = nation_bicgstab_mitigator_list[i].apply(raw_hist_list[i + 1], method=\"bicgstab\")\n",
    "    t2 = time.perf_counter()\n",
    "    print(i + 1, \"th finished (\", i + 2, \"qubits,\", t2 - t1, \"s )\")"
   ]
  },
  {
   "cell_type": "code",
   "execution_count": null,
   "id": "8036857d",
   "metadata": {},
   "outputs": [],
   "source": [
    "for i in range(40, 41):\n",
    "    t1 = time.perf_counter()\n",
    "    _ = nation_bicgstab_mitigator_list[i].apply(raw_hist_list[i + 1], method=\"bicgstab\")\n",
    "    t2 = time.perf_counter()\n",
    "    print(i + 1, \"th finished (\", i + 2, \"qubits,\", t2 - t1, \"s )\")"
   ]
  },
  {
   "cell_type": "code",
   "execution_count": 7,
   "id": "ca9e4afd",
   "metadata": {},
   "outputs": [
    {
     "name": "stdout",
     "output_type": "stream",
     "text": [
      "1 th finished ( 2 qubits )\n",
      "2 th finished ( 3 qubits )\n",
      "3 th finished ( 4 qubits )\n",
      "4 th finished ( 5 qubits )\n",
      "5 th finished ( 6 qubits )\n",
      "6 th finished ( 7 qubits )\n",
      "7 th finished ( 8 qubits )\n",
      "8 th finished ( 9 qubits )\n",
      "9 th finished ( 10 qubits )\n",
      "10 th finished ( 11 qubits )\n",
      "11 th finished ( 12 qubits )\n",
      "12 th finished ( 13 qubits )\n",
      "13 th finished ( 14 qubits )\n",
      "14 th finished ( 15 qubits )\n",
      "15 th finished ( 16 qubits )\n",
      "16 th finished ( 17 qubits )\n",
      "17 th finished ( 18 qubits )\n",
      "18 th finished ( 19 qubits )\n",
      "19 th finished ( 20 qubits )\n",
      "20 th finished ( 21 qubits )\n",
      "21 th finished ( 22 qubits )\n",
      "22 th finished ( 23 qubits )\n",
      "23 th finished ( 24 qubits )\n",
      "24 th finished ( 25 qubits )\n",
      "25 th finished ( 26 qubits )\n",
      "26 th finished ( 27 qubits )\n",
      "27 th finished ( 28 qubits )\n",
      "28 th finished ( 29 qubits )\n",
      "29 th finished ( 30 qubits )\n",
      "30 th finished ( 31 qubits )\n",
      "31 th finished ( 32 qubits )\n",
      "32 th finished ( 33 qubits )\n",
      "33 th finished ( 34 qubits )\n",
      "34 th finished ( 35 qubits )\n",
      "35 th finished ( 36 qubits )\n"
     ]
    }
   ],
   "source": [
    "nation_bicgstab_mitigator_info = []\n",
    "for i in range(max_length):\n",
    "    # _ = nation_bicgstab_mitigator_list[i].apply(raw_hist_list[i + 1])\n",
    "    nation_bicgstab_mitigator_info.append({\"exact_one_norm_of_inv_reduced_A\": nation_bicgstab_mitigator_list[i].exact_one_norm_of_inv_reduced_A(),\n",
    "                                           \"iterative_one_norm_of_inv_reduced_A\": nation_bicgstab_mitigator_list[i].iterative_one_norm_of_inv_reduced_A(method=\"iterative\"),\n",
    "                                           \"mitigated_hist\": nation_bicgstab_mitigator_list[i].mitigated_hist(),\n",
    "                                           \"x_s\": nation_bicgstab_mitigator_list[i].x_s(),\n",
    "                                           \"x_hat\": nation_bicgstab_mitigator_list[i].x_hat(),\n",
    "                                           \"x_tilde\": nation_bicgstab_mitigator_list[i].x_tilde(),\n",
    "                                           \"sum_of_x\": nation_bicgstab_mitigator_list[i].sum_of_x(),\n",
    "                                           \"sum_of_x_hat\": nation_bicgstab_mitigator_list[i].sum_of_x_hat(),\n",
    "                                           \"sum_of_x_tilde\": nation_bicgstab_mitigator_list[i].sum_of_x_tilde(),\n",
    "                                           \"indices_to_keys_vector\": nation_bicgstab_mitigator_list[i].indices_to_keys_vector(),\n",
    "                                           \"times\": nation_bicgstab_mitigator_list[i].times(),\n",
    "                                           \"expval\": nation_bicgstab_mitigator_list[i].expval(),\n",
    "                                           \"mitigation_stddev\": nation_bicgstab_mitigator_list[i].mitigation_stddev(norm_type = \"exact\"),\n",
    "                                 })\n",
    "    print(i + 1, \"th finished (\", i + 2, \"qubits,\", t2 - t1, \"s )\")"
   ]
  },
  {
   "cell_type": "code",
   "execution_count": 8,
   "id": "95549737",
   "metadata": {},
   "outputs": [],
   "source": [
    "with open(\"./pkls/nation_bicgstab_mitigator_info.pkl\", \"wb\") as f:\n",
    "    pickle.dump(nation_bicgstab_mitigator_info, f)"
   ]
  }
 ],
 "metadata": {
  "kernelspec": {
   "display_name": "Python 3 (ipykernel)",
   "language": "python",
   "name": "python3"
  },
  "language_info": {
   "codemirror_mode": {
    "name": "ipython",
    "version": 3
   },
   "file_extension": ".py",
   "mimetype": "text/x-python",
   "name": "python",
   "nbconvert_exporter": "python",
   "pygments_lexer": "ipython3",
   "version": "3.9.7"
  }
 },
 "nbformat": 4,
 "nbformat_minor": 5
}

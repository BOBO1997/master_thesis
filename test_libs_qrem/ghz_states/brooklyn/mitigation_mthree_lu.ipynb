{
 "cells": [
  {
   "cell_type": "code",
   "execution_count": 1,
   "id": "worst-austria",
   "metadata": {},
   "outputs": [],
   "source": [
    "import numpy as np\n",
    "import matplotlib.pyplot as plt\n",
    "%matplotlib inline\n",
    "import pickle\n",
    "import time\n",
    "import importlib"
   ]
  },
  {
   "cell_type": "code",
   "execution_count": 2,
   "id": "43f90bc8",
   "metadata": {},
   "outputs": [],
   "source": [
    "import sys\n",
    "sys.path.append(\"../../../libs_bell\")\n",
    "from lib_preprocessing import job_ids_to_result, flatten_results_jobs_list, arrange_results_list_tensored3, results_list_to_hist_list"
   ]
  },
  {
   "cell_type": "code",
   "execution_count": 3,
   "id": "e2ae2ba1",
   "metadata": {},
   "outputs": [],
   "source": [
    "with open(\"pkls/raw_hist_list.pkl\", \"rb\") as f:\n",
    "    raw_hist_list = pickle.load(f)\n",
    "with open(\"pkls/results_meas_cal.pkl\", \"rb\") as f:\n",
    "    results_meas_cal = pickle.load(f)"
   ]
  },
  {
   "cell_type": "code",
   "execution_count": 4,
   "id": "6796d5f5",
   "metadata": {
    "scrolled": true
   },
   "outputs": [],
   "source": [
    "import mthree\n",
    "from qiskit.test.mock import FakeManhattan\n",
    "from qiskit.ignis.mitigation.measurement import TensoredMeasFitter\n",
    "from libs_qrem import sgs_algorithm_py"
   ]
  },
  {
   "cell_type": "code",
   "execution_count": 5,
   "id": "1fee9429",
   "metadata": {},
   "outputs": [
    {
     "name": "stdout",
     "output_type": "stream",
     "text": [
      "size 10 finished\n",
      "size 20 finished\n",
      "size 30 finished\n",
      "size 40 finished\n",
      "size 50 finished\n",
      "size 60 finished\n",
      "length of mthree_lu_mitigator_list:  64\n"
     ]
    }
   ],
   "source": [
    "shots = 8192\n",
    "max_size = 65\n",
    "max_length = 64\n",
    "mthree_lu_mitigator_list = []\n",
    "for n in range(2, max_size + 1):\n",
    "    meas_fitter = TensoredMeasFitter(results_meas_cal[n - 1], mit_pattern=[[i] for i in range(n)])\n",
    "    mit = mthree.M3Mitigation(FakeManhattan())\n",
    "    mit.single_qubit_cals = meas_fitter.cal_matrices\n",
    "    mthree_lu_mitigator_list.append(mit)\n",
    "    if n % 10 == 0:\n",
    "        print(\"size\", n, \"finished\")\n",
    "print(\"length of mthree_lu_mitigator_list: \", len(mthree_lu_mitigator_list))"
   ]
  },
  {
   "cell_type": "code",
   "execution_count": 6,
   "id": "5b7da02d",
   "metadata": {
    "scrolled": true
   },
   "outputs": [
    {
     "name": "stdout",
     "output_type": "stream",
     "text": [
      "1 th finished ( 2 qubits ) total time: 0.0011116659999999001 s\n",
      "2 th finished ( 3 qubits ) total time: 0.0005872039999985645 s\n",
      "3 th finished ( 4 qubits ) total time: 0.0006511739999979227 s\n",
      "4 th finished ( 5 qubits ) total time: 0.005980110999999511 s\n",
      "5 th finished ( 6 qubits ) total time: 0.0032234410000029357 s\n",
      "6 th finished ( 7 qubits ) total time: 0.003643530999994482 s\n",
      "7 th finished ( 8 qubits ) total time: 0.0038080500000035045 s\n",
      "8 th finished ( 9 qubits ) total time: 0.004294081999987043 s\n",
      "9 th finished ( 10 qubits ) total time: 0.00422161499999163 s\n",
      "10 th finished ( 11 qubits ) total time: 0.006154934999997863 s\n",
      "11 th finished ( 12 qubits ) total time: 0.0061173109999970166 s\n",
      "12 th finished ( 13 qubits ) total time: 0.008508497999997644 s\n",
      "13 th finished ( 14 qubits ) total time: 0.012846588000002157 s\n",
      "14 th finished ( 15 qubits ) total time: 0.01844370099999537 s\n",
      "15 th finished ( 16 qubits ) total time: 0.021836223000008204 s\n",
      "16 th finished ( 17 qubits ) total time: 0.038541354000003025 s\n",
      "17 th finished ( 18 qubits ) total time: 0.05165051599999515 s\n",
      "18 th finished ( 19 qubits ) total time: 0.07543567700000153 s\n",
      "19 th finished ( 20 qubits ) total time: 0.08873573099999987 s\n",
      "20 th finished ( 21 qubits ) total time: 0.12807690900000068 s\n",
      "21 th finished ( 22 qubits ) total time: 0.13993503399998986 s\n",
      "22 th finished ( 23 qubits ) total time: 0.1654202730000094 s\n",
      "23 th finished ( 24 qubits ) total time: 0.21657998800000655 s\n",
      "24 th finished ( 25 qubits ) total time: 0.31188825600000314 s\n",
      "25 th finished ( 26 qubits ) total time: 0.3965231889999927 s\n",
      "26 th finished ( 27 qubits ) total time: 0.4155915399999941 s\n",
      "27 th finished ( 28 qubits ) total time: 0.4745755449999933 s\n",
      "28 th finished ( 29 qubits ) total time: 0.530470428000001 s\n",
      "29 th finished ( 30 qubits ) total time: 0.6223458569999991 s\n",
      "30 th finished ( 31 qubits ) total time: 0.6765208939999923 s\n",
      "31 th finished ( 32 qubits ) total time: 0.8128957700000115 s\n",
      "32 th finished ( 33 qubits ) total time: 1.007752360000012 s\n",
      "33 th finished ( 34 qubits ) total time: 1.104603921000006 s\n",
      "34 th finished ( 35 qubits ) total time: 1.3772848739999972 s\n",
      "35 th finished ( 36 qubits ) total time: 1.5569960649999928 s\n",
      "36 th finished ( 37 qubits ) total time: 1.5111048310000115 s\n",
      "37 th finished ( 38 qubits ) total time: 1.6433717810000132 s\n",
      "38 th finished ( 39 qubits ) total time: 1.6971012619999897 s\n",
      "39 th finished ( 40 qubits ) total time: 1.8009559989999957 s\n",
      "40 th finished ( 41 qubits ) total time: 1.9274867959999824 s\n",
      "41 th finished ( 42 qubits ) total time: 2.125060222000002 s\n",
      "42 th finished ( 43 qubits ) total time: 2.948153572999985 s\n",
      "43 th finished ( 44 qubits ) total time: 3.3958517089999987 s\n",
      "44 th finished ( 45 qubits ) total time: 3.685152924999983 s\n",
      "45 th finished ( 46 qubits ) total time: 3.1052985000000035 s\n",
      "46 th finished ( 47 qubits ) total time: 3.291986296999994 s\n",
      "47 th finished ( 48 qubits ) total time: 3.3746821230000137 s\n",
      "48 th finished ( 49 qubits ) total time: 3.567997657999996 s\n",
      "49 th finished ( 50 qubits ) total time: 3.851073604999982 s\n",
      "50 th finished ( 51 qubits ) total time: 3.8310979280000197 s\n",
      "51 th finished ( 52 qubits ) total time: 4.631644736999988 s\n",
      "52 th finished ( 53 qubits ) total time: 5.119273614999997 s\n",
      "53 th finished ( 54 qubits ) total time: 5.338716500999993 s\n",
      "54 th finished ( 55 qubits ) total time: 5.331289649000013 s\n",
      "55 th finished ( 56 qubits ) total time: 5.969615040999997 s\n",
      "56 th finished ( 57 qubits ) total time: 5.707870603999993 s\n",
      "57 th finished ( 58 qubits ) total time: 5.699196975999996 s\n",
      "58 th finished ( 59 qubits ) total time: 5.921659083000009 s\n",
      "59 th finished ( 60 qubits ) total time: 6.0343061970000065 s\n",
      "60 th finished ( 61 qubits ) total time: 6.20327451 s\n",
      "61 th finished ( 62 qubits ) total time: 6.518857607000001 s\n",
      "62 th finished ( 63 qubits ) total time: 6.887766044999978 s\n",
      "63 th finished ( 64 qubits ) total time: 7.240999213000009 s\n",
      "64 th finished ( 65 qubits ) total time: 7.836504319000028 s\n"
     ]
    }
   ],
   "source": [
    "mthree_lu_hist_list = []\n",
    "for i in range(max_length):\n",
    "    meas_layout = [j for j in range(i + 2)]\n",
    "    t1 = time.perf_counter()\n",
    "    mthree_lu_hist_list.append( mthree_lu_mitigator_list[i].apply_correction(raw_hist_list[i + 1], \n",
    "                                                                       meas_layout, \n",
    "                                                                       distance=None,\n",
    "                                                                       method='direct',\n",
    "                                                                       max_iter=25, \n",
    "                                                                       tol=1e-5,\n",
    "                                                                       return_mitigation_overhead=True,\n",
    "                                                                       details=True) )\n",
    "    t2 = time.perf_counter()\n",
    "    print(i + 1, \"th finished (\", i + 2, \"qubits )\", \"total time:\", t2 - t1, \"s\")"
   ]
  },
  {
   "cell_type": "code",
   "execution_count": 7,
   "id": "9e975a7b",
   "metadata": {},
   "outputs": [],
   "source": [
    "def expval(hist):\n",
    "    expval = 0\n",
    "    shots = 0\n",
    "    for key, count in hist.items():\n",
    "        shots += count\n",
    "        sigma_z = 1\n",
    "        for s in key:\n",
    "            if s == \"1\":\n",
    "                sigma_z *= -1\n",
    "        expval += sigma_z * count\n",
    "    expval /= shots\n",
    "    return expval"
   ]
  },
  {
   "cell_type": "code",
   "execution_count": 8,
   "id": "ca9e4afd",
   "metadata": {
    "scrolled": true
   },
   "outputs": [
    {
     "name": "stdout",
     "output_type": "stream",
     "text": [
      "1 th finished ( 2 qubits )\n",
      "2 th finished ( 3 qubits )\n",
      "3 th finished ( 4 qubits )\n",
      "4 th finished ( 5 qubits )\n",
      "5 th finished ( 6 qubits )\n",
      "6 th finished ( 7 qubits )\n",
      "7 th finished ( 8 qubits )\n",
      "8 th finished ( 9 qubits )\n",
      "9 th finished ( 10 qubits )\n",
      "10 th finished ( 11 qubits )\n",
      "11 th finished ( 12 qubits )\n",
      "12 th finished ( 13 qubits )\n",
      "13 th finished ( 14 qubits )\n",
      "14 th finished ( 15 qubits )\n",
      "15 th finished ( 16 qubits )\n",
      "16 th finished ( 17 qubits )\n",
      "17 th finished ( 18 qubits )\n",
      "18 th finished ( 19 qubits )\n",
      "19 th finished ( 20 qubits )\n",
      "20 th finished ( 21 qubits )\n",
      "21 th finished ( 22 qubits )\n",
      "22 th finished ( 23 qubits )\n",
      "23 th finished ( 24 qubits )\n",
      "24 th finished ( 25 qubits )\n",
      "25 th finished ( 26 qubits )\n",
      "26 th finished ( 27 qubits )\n",
      "27 th finished ( 28 qubits )\n",
      "28 th finished ( 29 qubits )\n",
      "29 th finished ( 30 qubits )\n",
      "30 th finished ( 31 qubits )\n",
      "31 th finished ( 32 qubits )\n",
      "32 th finished ( 33 qubits )\n",
      "33 th finished ( 34 qubits )\n",
      "34 th finished ( 35 qubits )\n",
      "35 th finished ( 36 qubits )\n",
      "36 th finished ( 37 qubits )\n",
      "37 th finished ( 38 qubits )\n",
      "38 th finished ( 39 qubits )\n",
      "39 th finished ( 40 qubits )\n",
      "40 th finished ( 41 qubits )\n",
      "41 th finished ( 42 qubits )\n",
      "42 th finished ( 43 qubits )\n",
      "43 th finished ( 44 qubits )\n",
      "44 th finished ( 45 qubits )\n",
      "45 th finished ( 46 qubits )\n",
      "46 th finished ( 47 qubits )\n",
      "47 th finished ( 48 qubits )\n",
      "48 th finished ( 49 qubits )\n",
      "49 th finished ( 50 qubits )\n",
      "50 th finished ( 51 qubits )\n",
      "51 th finished ( 52 qubits )\n",
      "52 th finished ( 53 qubits )\n",
      "53 th finished ( 54 qubits )\n",
      "54 th finished ( 55 qubits )\n",
      "55 th finished ( 56 qubits )\n",
      "56 th finished ( 57 qubits )\n",
      "57 th finished ( 58 qubits )\n",
      "58 th finished ( 59 qubits )\n",
      "59 th finished ( 60 qubits )\n",
      "60 th finished ( 61 qubits )\n",
      "61 th finished ( 62 qubits )\n",
      "62 th finished ( 63 qubits )\n",
      "63 th finished ( 64 qubits )\n",
      "64 th finished ( 65 qubits )\n"
     ]
    }
   ],
   "source": [
    "mthree_lu_mitigator_info = []\n",
    "for i in range(max_length):\n",
    "    # _ = mthree_lu_mitigator_list[i].apply(raw_hist_list[i + 1])\n",
    "    prob_dist = sgs_algorithm_py(mthree_lu_hist_list[i][0])\n",
    "    mthree_lu_mitigator_info.append({# \"exact_one_norm_of_reduced_inv_A\": mthree_lu_mitigator_list[i].exact_one_norm_of_reduced_inv_A(),\n",
    "                                 \"col_norms\": mthree_lu_hist_list[i][1][\"col_norms\"],\n",
    "                                 \"mitigated_hist\": {key: value * shots for key, value in prob_dist.items()},\n",
    "                                 \"x_s\": mthree_lu_hist_list[i][0],\n",
    "                                 # \"x_hat\": mthree_lu_mitigator_list[i].x_hat(),\n",
    "                                 \"x_tilde\": prob_dist,\n",
    "                                 \"sum_of_x\": sum(list(mthree_lu_hist_list[i][0].values())),\n",
    "                                 # \"sum_of_x_hat\": mthree_lu_mitigator_list[i].sum_of_x_hat(),\n",
    "                                 \"sum_of_x_tilde\": sum(list(prob_dist.values())),\n",
    "                                 # \"indices_to_keys_vector\": mthree_lu_mitigator_list[i].indices_to_keys_vector(),\n",
    "                                 \"times\": {\"total\": mthree_lu_hist_list[i][1][\"time\"]},\n",
    "                                 \"expval\": expval(prob_dist),\n",
    "                                 \"mitigation_stddev\": mthree_lu_hist_list[i][0].stddev(),\n",
    "                                 })\n",
    "    print(i + 1, \"th finished (\", i + 2, \"qubits )\")"
   ]
  },
  {
   "cell_type": "code",
   "execution_count": 9,
   "id": "95549737",
   "metadata": {},
   "outputs": [],
   "source": [
    "with open(\"./pkls/mthree_lu_mitigator_info.pkl\", \"wb\") as f:\n",
    "    pickle.dump(mthree_lu_mitigator_info, f)"
   ]
  }
 ],
 "metadata": {
  "kernelspec": {
   "display_name": "Python 3 (ipykernel)",
   "language": "python",
   "name": "python3"
  },
  "language_info": {
   "codemirror_mode": {
    "name": "ipython",
    "version": 3
   },
   "file_extension": ".py",
   "mimetype": "text/x-python",
   "name": "python",
   "nbconvert_exporter": "python",
   "pygments_lexer": "ipython3",
   "version": "3.9.7"
  }
 },
 "nbformat": 4,
 "nbformat_minor": 5
}

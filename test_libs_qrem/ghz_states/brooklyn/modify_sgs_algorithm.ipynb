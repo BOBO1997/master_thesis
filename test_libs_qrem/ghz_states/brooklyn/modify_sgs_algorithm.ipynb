{
 "cells": [
  {
   "cell_type": "code",
   "execution_count": 1,
   "id": "50ae41f2",
   "metadata": {},
   "outputs": [],
   "source": [
    "import numpy as np\n",
    "import matplotlib.pyplot as plt\n",
    "%matplotlib inline\n",
    "import pickle\n",
    "import time\n",
    "import importlib"
   ]
  },
  {
   "cell_type": "code",
   "execution_count": 2,
   "id": "a1d30533",
   "metadata": {},
   "outputs": [],
   "source": [
    "with open(\"./pkls/mthree_gmres_mitigator_info.pkl\", \"rb\") as f:\n",
    "    mthree_gmres_mitigator_info = pickle.load(f)"
   ]
  },
  {
   "cell_type": "code",
   "execution_count": 3,
   "id": "04a3b928",
   "metadata": {},
   "outputs": [],
   "source": [
    "modified_mthree_gmres_mitigator_info = []\n",
    "shots = 8192\n",
    "max_length = 64\n",
    "from libs_qrem import sgs_algorithm_py"
   ]
  },
  {
   "cell_type": "code",
   "execution_count": 4,
   "id": "7591331d",
   "metadata": {},
   "outputs": [],
   "source": [
    "def expval(hist):\n",
    "    expval = 0\n",
    "    shots = 0\n",
    "    for key, count in hist.items():\n",
    "        shots += count\n",
    "        sigma_z = 1\n",
    "        for s in key:\n",
    "            if s == \"1\":\n",
    "                sigma_z *= -1\n",
    "        expval += sigma_z * count\n",
    "    expval /= shots\n",
    "    return expval"
   ]
  },
  {
   "cell_type": "code",
   "execution_count": 5,
   "id": "c0cbd9cf",
   "metadata": {},
   "outputs": [
    {
     "name": "stdout",
     "output_type": "stream",
     "text": [
      "1 th finished ( 2 qubits, 5.689199999991956e-05 s )\n",
      "2 th finished ( 3 qubits, 5.4174000000184463e-05 s )\n",
      "3 th finished ( 4 qubits, 6.0777999999928056e-05 s )\n",
      "4 th finished ( 5 qubits, 0.0001317129999995892 s )\n",
      "5 th finished ( 6 qubits, 0.0003588510000001044 s )\n",
      "6 th finished ( 7 qubits, 0.0002567540000000257 s )\n",
      "7 th finished ( 8 qubits, 0.00031090000000011386 s )\n",
      "8 th finished ( 9 qubits, 0.000441787999999832 s )\n",
      "9 th finished ( 10 qubits, 0.0007516749999996186 s )\n",
      "10 th finished ( 11 qubits, 0.0006823680000000998 s )\n",
      "11 th finished ( 12 qubits, 0.0009248879999996795 s )\n",
      "12 th finished ( 13 qubits, 0.0011003899999999511 s )\n",
      "13 th finished ( 14 qubits, 0.0014866249999996306 s )\n",
      "14 th finished ( 15 qubits, 0.0018111029999996475 s )\n",
      "15 th finished ( 16 qubits, 0.0022137849999999126 s )\n",
      "16 th finished ( 17 qubits, 0.0037430839999998966 s )\n",
      "17 th finished ( 18 qubits, 0.0033890569999996956 s )\n",
      "18 th finished ( 19 qubits, 0.0038823900000002354 s )\n",
      "19 th finished ( 20 qubits, 0.004260804999999923 s )\n",
      "20 th finished ( 21 qubits, 0.005215886000000225 s )\n",
      "21 th finished ( 22 qubits, 0.005237473999999853 s )\n",
      "22 th finished ( 23 qubits, 0.00595208100000022 s )\n",
      "23 th finished ( 24 qubits, 0.00723636999999977 s )\n",
      "24 th finished ( 25 qubits, 0.009594147000000053 s )\n",
      "25 th finished ( 26 qubits, 0.009444506999999991 s )\n",
      "26 th finished ( 27 qubits, 0.009623157000000049 s )\n",
      "27 th finished ( 28 qubits, 0.010166464000000097 s )\n",
      "28 th finished ( 29 qubits, 0.010858387999999941 s )\n",
      "29 th finished ( 30 qubits, 0.011679132999999897 s )\n",
      "30 th finished ( 31 qubits, 0.012434274999999939 s )\n",
      "31 th finished ( 32 qubits, 0.013416219000000229 s )\n",
      "32 th finished ( 33 qubits, 0.015858745000000063 s )\n",
      "33 th finished ( 34 qubits, 0.02058872200000028 s )\n",
      "34 th finished ( 35 qubits, 0.01847003700000016 s )\n",
      "35 th finished ( 36 qubits, 0.019926432999999744 s )\n",
      "36 th finished ( 37 qubits, 0.02173002299999993 s )\n",
      "37 th finished ( 38 qubits, 0.020233564000000204 s )\n",
      "38 th finished ( 39 qubits, 0.021059736999999856 s )\n",
      "39 th finished ( 40 qubits, 0.022136657000000337 s )\n",
      "40 th finished ( 41 qubits, 0.02491853200000005 s )\n",
      "41 th finished ( 42 qubits, 0.02408131899999999 s )\n",
      "42 th finished ( 43 qubits, 0.028390611999999926 s )\n",
      "43 th finished ( 44 qubits, 0.02970131800000031 s )\n",
      "44 th finished ( 45 qubits, 0.03304796500000018 s )\n",
      "45 th finished ( 46 qubits, 0.03025778300000015 s )\n",
      "46 th finished ( 47 qubits, 0.032621982000000216 s )\n",
      "47 th finished ( 48 qubits, 0.03265977700000011 s )\n",
      "48 th finished ( 49 qubits, 0.03366851400000037 s )\n",
      "49 th finished ( 50 qubits, 0.034031906999999695 s )\n",
      "50 th finished ( 51 qubits, 0.03473513199999978 s )\n",
      "51 th finished ( 52 qubits, 0.038432815000000176 s )\n",
      "52 th finished ( 53 qubits, 0.03985661500000015 s )\n",
      "53 th finished ( 54 qubits, 0.04054386999999959 s )\n",
      "54 th finished ( 55 qubits, 0.0412788230000003 s )\n",
      "55 th finished ( 56 qubits, 0.04199734800000021 s )\n",
      "56 th finished ( 57 qubits, 0.04355108699999999 s )\n",
      "57 th finished ( 58 qubits, 0.043387576999999844 s )\n",
      "58 th finished ( 59 qubits, 0.04679235700000017 s )\n",
      "59 th finished ( 60 qubits, 0.045899996000000165 s )\n",
      "60 th finished ( 61 qubits, 0.048473887000000104 s )\n",
      "61 th finished ( 62 qubits, 0.05222437599999985 s )\n",
      "62 th finished ( 63 qubits, 0.05055672099999997 s )\n",
      "63 th finished ( 64 qubits, 0.053607492999999895 s )\n",
      "64 th finished ( 65 qubits, 0.0528906349999998 s )\n"
     ]
    }
   ],
   "source": [
    "for i in range(max_length):\n",
    "    t1 = time.perf_counter()\n",
    "    prob_dist = sgs_algorithm_py(mthree_gmres_mitigator_info[i][\"x_s\"])\n",
    "    modified_mthree_gmres_mitigator_info.append({# \"exact_one_norm_of_inv_reduced_A\": mthree_gmres_mitigator_info[i].exact_one_norm_of_inv_reduced_A(),\n",
    "                                                 \"col_norms\": mthree_gmres_mitigator_info[i][\"col_norms\"],\n",
    "                                                 \"mitigated_hist\": {key: value * shots for key, value in prob_dist.items()},\n",
    "                                                 \"x_s\": mthree_gmres_mitigator_info[i][\"x_s\"],\n",
    "                                                 # \"x_hat\": mthree_gmres_mitigator_info[i].x_hat(),\n",
    "                                                 \"x_tilde\": prob_dist,\n",
    "                                                 \"sum_of_x\": mthree_gmres_mitigator_info[i][\"sum_of_x\"],\n",
    "                                                 # \"sum_of_x_hat\": mthree_gmres_mitigator_info[i].sum_of_x_hat(),\n",
    "                                                 \"sum_of_x_tilde\": sum(list(prob_dist.values())),\n",
    "                                                 # \"indices_to_keys_vector\": mthree_gmres_mitigator_info[i].indices_to_keys_vector(),\n",
    "                                                 \"times\": mthree_gmres_mitigator_info[i][\"times\"],\n",
    "                                                 \"expval\": expval(prob_dist),\n",
    "                                                 \"mitigation_stddev\": mthree_gmres_mitigator_info[i][\"mitigation_stddev\"],\n",
    "                                                 })\n",
    "    t2 = time.perf_counter()\n",
    "    print(i + 1, \"th finished (\", i + 2, \"qubits,\", t2 - t1, \"s )\")"
   ]
  },
  {
   "cell_type": "code",
   "execution_count": 6,
   "id": "432c3173",
   "metadata": {},
   "outputs": [],
   "source": [
    "with open(\"./pkls/mthree_gmres_mitigator_info.pkl\", \"wb\") as f:\n",
    "    pickle.dump(modified_mthree_gmres_mitigator_info, f)"
   ]
  },
  {
   "cell_type": "code",
   "execution_count": 7,
   "id": "99f0f764",
   "metadata": {},
   "outputs": [],
   "source": [
    "with open(\"./pkls/mthree_lu_mitigator_info.pkl\", \"rb\") as f:\n",
    "    mthree_lu_mitigator_info = pickle.load(f)"
   ]
  },
  {
   "cell_type": "code",
   "execution_count": 8,
   "id": "2154630a",
   "metadata": {},
   "outputs": [],
   "source": [
    "modified_mthree_lu_mitigator_info = []\n",
    "shots = 8192"
   ]
  },
  {
   "cell_type": "code",
   "execution_count": 9,
   "id": "513c3abf",
   "metadata": {},
   "outputs": [
    {
     "name": "stdout",
     "output_type": "stream",
     "text": [
      "1 th finished ( 2 qubits, 4.506500000012181e-05 s )\n",
      "2 th finished ( 3 qubits, 4.6168999999984806e-05 s )\n",
      "3 th finished ( 4 qubits, 8.616700000008137e-05 s )\n",
      "4 th finished ( 5 qubits, 0.00018921599999988103 s )\n",
      "5 th finished ( 6 qubits, 0.00023510499999979118 s )\n",
      "6 th finished ( 7 qubits, 0.000253633000000697 s )\n",
      "7 th finished ( 8 qubits, 0.0003168979999994548 s )\n",
      "8 th finished ( 9 qubits, 0.00042681399999988656 s )\n",
      "9 th finished ( 10 qubits, 0.0006167670000003511 s )\n",
      "10 th finished ( 11 qubits, 0.0007482650000003588 s )\n",
      "11 th finished ( 12 qubits, 0.0010770529999994949 s )\n",
      "12 th finished ( 13 qubits, 0.001131542999999624 s )\n",
      "13 th finished ( 14 qubits, 0.0016832249999998439 s )\n",
      "14 th finished ( 15 qubits, 0.0018322800000003525 s )\n",
      "15 th finished ( 16 qubits, 0.0020832229999996343 s )\n",
      "16 th finished ( 17 qubits, 0.0035538959999996678 s )\n",
      "17 th finished ( 18 qubits, 0.0035921559999998465 s )\n",
      "18 th finished ( 19 qubits, 0.004032936999999848 s )\n",
      "19 th finished ( 20 qubits, 0.004341999999999402 s )\n",
      "20 th finished ( 21 qubits, 0.005423258999999625 s )\n",
      "21 th finished ( 22 qubits, 0.0054957860000000025 s )\n",
      "22 th finished ( 23 qubits, 0.006252297999999712 s )\n",
      "23 th finished ( 24 qubits, 0.00714269699999992 s )\n",
      "24 th finished ( 25 qubits, 0.008400398000000031 s )\n",
      "25 th finished ( 26 qubits, 0.009201821999999638 s )\n",
      "26 th finished ( 27 qubits, 0.009385078999999408 s )\n",
      "27 th finished ( 28 qubits, 0.010371845999999962 s )\n",
      "28 th finished ( 29 qubits, 0.01090684700000022 s )\n",
      "29 th finished ( 30 qubits, 0.011853840999999754 s )\n",
      "30 th finished ( 31 qubits, 0.012354292000000378 s )\n",
      "31 th finished ( 32 qubits, 0.013396903999999488 s )\n",
      "32 th finished ( 33 qubits, 0.01554270599999974 s )\n",
      "33 th finished ( 34 qubits, 0.01608739500000045 s )\n",
      "34 th finished ( 35 qubits, 0.01892808399999968 s )\n",
      "35 th finished ( 36 qubits, 0.02051155499999968 s )\n",
      "36 th finished ( 37 qubits, 0.020610362000000215 s )\n",
      "37 th finished ( 38 qubits, 0.021119644999999743 s )\n",
      "38 th finished ( 39 qubits, 0.024000597999999762 s )\n",
      "39 th finished ( 40 qubits, 0.022519889999999876 s )\n",
      "40 th finished ( 41 qubits, 0.024449682000000195 s )\n",
      "41 th finished ( 42 qubits, 0.028095525000000343 s )\n",
      "42 th finished ( 43 qubits, 0.03291646600000053 s )\n",
      "43 th finished ( 44 qubits, 0.02997020399999961 s )\n",
      "44 th finished ( 45 qubits, 0.03063284200000016 s )\n",
      "45 th finished ( 46 qubits, 0.03134223200000008 s )\n",
      "46 th finished ( 47 qubits, 0.03360832500000033 s )\n",
      "47 th finished ( 48 qubits, 0.03309386000000014 s )\n",
      "48 th finished ( 49 qubits, 0.03911462200000049 s )\n",
      "49 th finished ( 50 qubits, 0.03585640899999998 s )\n",
      "50 th finished ( 51 qubits, 0.03578429399999994 s )\n",
      "51 th finished ( 52 qubits, 0.03771557399999992 s )\n",
      "52 th finished ( 53 qubits, 0.042132042000000425 s )\n",
      "53 th finished ( 54 qubits, 0.04069381700000019 s )\n",
      "54 th finished ( 55 qubits, 0.04106399399999994 s )\n",
      "55 th finished ( 56 qubits, 0.0446404789999999 s )\n",
      "56 th finished ( 57 qubits, 0.04539820699999986 s )\n",
      "57 th finished ( 58 qubits, 0.044406717000000206 s )\n",
      "58 th finished ( 59 qubits, 0.045390716 s )\n",
      "59 th finished ( 60 qubits, 0.04443170399999996 s )\n",
      "60 th finished ( 61 qubits, 0.04851820100000026 s )\n",
      "61 th finished ( 62 qubits, 0.11420949599999997 s )\n",
      "62 th finished ( 63 qubits, 0.05508729300000059 s )\n",
      "63 th finished ( 64 qubits, 0.06016359200000032 s )\n",
      "64 th finished ( 65 qubits, 0.05345404400000042 s )\n"
     ]
    }
   ],
   "source": [
    "for i in range(max_length):\n",
    "    t1 = time.perf_counter()\n",
    "    prob_dist = sgs_algorithm_py(mthree_lu_mitigator_info[i][\"x_s\"])\n",
    "    modified_mthree_lu_mitigator_info.append({# \"exact_one_norm_of_inv_reduced_A\": mthree_lu_mitigator_info[i].exact_one_norm_of_inv_reduced_A(),\n",
    "                                                 \"col_norms\": mthree_lu_mitigator_info[i][\"col_norms\"],\n",
    "                                                 \"mitigated_hist\": {key: value * shots for key, value in prob_dist.items()},\n",
    "                                                 \"x_s\": mthree_lu_mitigator_info[i][\"x_s\"],\n",
    "                                                 # \"x_hat\": mthree_lu_mitigator_info[i].x_hat(),\n",
    "                                                 \"x_tilde\": prob_dist,\n",
    "                                                 \"sum_of_x\": mthree_lu_mitigator_info[i][\"sum_of_x\"],\n",
    "                                                 # \"sum_of_x_hat\": mthree_lu_mitigator_info[i].sum_of_x_hat(),\n",
    "                                                 \"sum_of_x_tilde\": sum(list(prob_dist.values())),\n",
    "                                                 # \"indices_to_keys_vector\": mthree_lu_mitigator_info[i].indices_to_keys_vector(),\n",
    "                                                 \"times\": mthree_lu_mitigator_info[i][\"times\"],\n",
    "                                                 \"expval\": expval(prob_dist),\n",
    "                                                 \"mitigation_stddev\": mthree_lu_mitigator_info[i][\"mitigation_stddev\"],\n",
    "                                                 })\n",
    "    t2 = time.perf_counter()\n",
    "    print(i + 1, \"th finished (\", i + 2, \"qubits,\", t2 - t1, \"s )\")"
   ]
  },
  {
   "cell_type": "code",
   "execution_count": 10,
   "id": "26837460",
   "metadata": {},
   "outputs": [],
   "source": [
    "with open(\"./pkls/mthree_lu_mitigator_info.pkl\", \"wb\") as f:\n",
    "    pickle.dump(modified_mthree_lu_mitigator_info, f)"
   ]
  }
 ],
 "metadata": {
  "kernelspec": {
   "display_name": "Python 3 (ipykernel)",
   "language": "python",
   "name": "python3"
  },
  "language_info": {
   "codemirror_mode": {
    "name": "ipython",
    "version": 3
   },
   "file_extension": ".py",
   "mimetype": "text/x-python",
   "name": "python",
   "nbconvert_exporter": "python",
   "pygments_lexer": "ipython3",
   "version": "3.9.7"
  }
 },
 "nbformat": 4,
 "nbformat_minor": 5
}

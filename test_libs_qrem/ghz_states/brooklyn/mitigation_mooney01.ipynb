{
 "cells": [
  {
   "cell_type": "code",
   "execution_count": 1,
   "id": "worst-austria",
   "metadata": {},
   "outputs": [],
   "source": [
    "import numpy as np\n",
    "import matplotlib.pyplot as plt\n",
    "%matplotlib inline\n",
    "import pickle\n",
    "import time\n",
    "import importlib"
   ]
  },
  {
   "cell_type": "code",
   "execution_count": 2,
   "id": "43f90bc8",
   "metadata": {},
   "outputs": [],
   "source": [
    "import sys\n",
    "sys.path.append(\"../../../libs_bell\")\n",
    "from lib_preprocessing import job_ids_to_result, flatten_results_jobs_list, arrange_results_list_tensored3, results_list_to_hist_list"
   ]
  },
  {
   "cell_type": "code",
   "execution_count": 3,
   "id": "e2ae2ba1",
   "metadata": {},
   "outputs": [],
   "source": [
    "with open(\"pkls/raw_hist_list.pkl\", \"rb\") as f:\n",
    "    raw_hist_list = pickle.load(f)\n",
    "with open(\"pkls/results_meas_cal.pkl\", \"rb\") as f:\n",
    "    results_meas_cal = pickle.load(f)"
   ]
  },
  {
   "cell_type": "code",
   "execution_count": 4,
   "id": "6796d5f5",
   "metadata": {
    "scrolled": true
   },
   "outputs": [],
   "source": [
    "from libs_qrem import MooneyEtalFilter\n",
    "from qiskit.ignis.mitigation.measurement import TensoredMeasFitter"
   ]
  },
  {
   "cell_type": "code",
   "execution_count": 5,
   "id": "1fee9429",
   "metadata": {},
   "outputs": [
    {
     "name": "stdout",
     "output_type": "stream",
     "text": [
      "size 10 finished\n",
      "size 20 finished\n",
      "size 30 finished\n",
      "size 40 finished\n",
      "size 50 finished\n",
      "size 60 finished\n",
      "length of mooney01_mitigator_list:  64\n"
     ]
    }
   ],
   "source": [
    "max_size = 65\n",
    "max_length = 30\n",
    "mooney01_mitigator_list = []\n",
    "for n in range(2, max_size + 1):\n",
    "    mit_pattern = [[i] for i in range(n)]\n",
    "    meas_fitter = TensoredMeasFitter(results_meas_cal[n - 1], mit_pattern=mit_pattern)\n",
    "    mooney01_mitigator_list.append(MooneyEtalFilter(n, meas_fitter.cal_matrices))\n",
    "    if n % 10 == 0:\n",
    "        print(\"size\", n, \"finished\")\n",
    "print(\"length of mooney01_mitigator_list: \", len(mooney01_mitigator_list))"
   ]
  },
  {
   "cell_type": "code",
   "execution_count": 6,
   "id": "fd336980",
   "metadata": {
    "scrolled": true
   },
   "outputs": [
    {
     "name": "stdout",
     "output_type": "stream",
     "text": [
      "1 th finished ( 2 qubits, 0.00011339699999979302 s )\n",
      "2 th finished ( 3 qubits, 7.88840000005564e-05 s )\n",
      "3 th finished ( 4 qubits, 8.86950000005271e-05 s )\n",
      "4 th finished ( 5 qubits, 0.0002563269999988904 s )\n",
      "5 th finished ( 6 qubits, 0.00038315799999999456 s )\n",
      "6 th finished ( 7 qubits, 0.00047869699999836257 s )\n",
      "7 th finished ( 8 qubits, 0.0007879220000006626 s )\n",
      "8 th finished ( 9 qubits, 0.0015147380000009036 s )\n",
      "9 th finished ( 10 qubits, 0.0018772129999984344 s )\n",
      "10 th finished ( 11 qubits, 0.0022402270000014823 s )\n",
      "11 th finished ( 12 qubits, 0.0034755759999995917 s )\n",
      "12 th finished ( 13 qubits, 0.004334146999999788 s )\n",
      "13 th finished ( 14 qubits, 0.005728810000000806 s )\n",
      "14 th finished ( 15 qubits, 0.007472589999999002 s )\n",
      "15 th finished ( 16 qubits, 0.008999015000000554 s )\n",
      "16 th finished ( 17 qubits, 0.012679257000000277 s )\n",
      "17 th finished ( 18 qubits, 0.014744441000001274 s )\n",
      "18 th finished ( 19 qubits, 0.017919949999999574 s )\n",
      "19 th finished ( 20 qubits, 0.021703432999998995 s )\n",
      "20 th finished ( 21 qubits, 0.026167990999999446 s )\n",
      "21 th finished ( 22 qubits, 0.030275320999999522 s )\n",
      "22 th finished ( 23 qubits, 0.054269207999999125 s )\n",
      "23 th finished ( 24 qubits, 0.06320221400000037 s )\n",
      "24 th finished ( 25 qubits, 0.08809167100000082 s )\n",
      "25 th finished ( 26 qubits, 0.08639362300000109 s )\n",
      "26 th finished ( 27 qubits, 0.09586909200000093 s )\n",
      "27 th finished ( 28 qubits, 0.11652686400000078 s )\n",
      "28 th finished ( 29 qubits, 0.12193869599999907 s )\n",
      "29 th finished ( 30 qubits, 0.13607137700000038 s )\n",
      "30 th finished ( 31 qubits, 0.14844485199999902 s )\n"
     ]
    }
   ],
   "source": [
    "for i in range(max_length):\n",
    "    t1 = time.perf_counter()\n",
    "    _ = mooney01_mitigator_list[i].apply(raw_hist_list[i + 1])\n",
    "    t2 = time.perf_counter()\n",
    "    print(i + 1, \"th finished (\", i + 2, \"qubits,\", t2 - t1, \"s )\")"
   ]
  },
  {
   "cell_type": "code",
   "execution_count": 7,
   "id": "ca9e4afd",
   "metadata": {
    "scrolled": true
   },
   "outputs": [
    {
     "name": "stdout",
     "output_type": "stream",
     "text": [
      "1 th finished ( 2 qubits, 2.2429999999573624e-05 s )\n",
      "2 th finished ( 3 qubits, 9.270000001393441e-06 s )\n",
      "3 th finished ( 4 qubits, 7.257000000038261e-06 s )\n",
      "4 th finished ( 5 qubits, 6.3209999989766175e-06 s )\n",
      "5 th finished ( 6 qubits, 5.9409999995097e-06 s )\n",
      "6 th finished ( 7 qubits, 5.527999999088706e-06 s )\n",
      "7 th finished ( 8 qubits, 6.190000000572127e-06 s )\n",
      "8 th finished ( 9 qubits, 5.193999999875132e-06 s )\n",
      "9 th finished ( 10 qubits, 6.2179999993361434e-06 s )\n",
      "10 th finished ( 11 qubits, 6.8500000001137096e-06 s )\n",
      "11 th finished ( 12 qubits, 6.641999998890924e-06 s )\n",
      "12 th finished ( 13 qubits, 6.776999999402733e-06 s )\n",
      "13 th finished ( 14 qubits, 1.146099999971284e-05 s )\n",
      "14 th finished ( 15 qubits, 7.429999998365133e-06 s )\n",
      "15 th finished ( 16 qubits, 7.021000000051458e-06 s )\n",
      "16 th finished ( 17 qubits, 6.660000000380251e-06 s )\n",
      "17 th finished ( 18 qubits, 6.216999999253403e-06 s )\n",
      "18 th finished ( 19 qubits, 6.0360000002646075e-06 s )\n",
      "19 th finished ( 20 qubits, 6.407000000763219e-06 s )\n",
      "20 th finished ( 21 qubits, 6.705000000550854e-06 s )\n",
      "21 th finished ( 22 qubits, 6.347999999434251e-06 s )\n",
      "22 th finished ( 23 qubits, 1.0835000001208073e-05 s )\n",
      "23 th finished ( 24 qubits, 1.4352000000883436e-05 s )\n",
      "24 th finished ( 25 qubits, 1.2051000000568024e-05 s )\n",
      "25 th finished ( 26 qubits, 7.920999999910805e-06 s )\n",
      "26 th finished ( 27 qubits, 6.777999999485473e-06 s )\n",
      "27 th finished ( 28 qubits, 1.2398000000857223e-05 s )\n",
      "28 th finished ( 29 qubits, 9.525999999482337e-06 s )\n",
      "29 th finished ( 30 qubits, 8.984000000822334e-06 s )\n",
      "30 th finished ( 31 qubits, 7.614999999461247e-06 s )\n"
     ]
    }
   ],
   "source": [
    "mooney01_mitigator_info = []\n",
    "for i in range(max_length):\n",
    "    t1 = time.perf_counter()\n",
    "    # _ = mooney01_mitigator_list[i].apply(raw_hist_list[i + 1])\n",
    "    mooney01_mitigator_info.append({# \"exact_one_norm_of_reduced_inv_A\": mooney01_mitigator_list[i].exact_one_norm_of_reduced_inv_A(),\n",
    "                                 \"mitigated_hist\": mooney01_mitigator_list[i].mitigated_hist(),\n",
    "                                 \"x_s\": mooney01_mitigator_list[i].x_s(),\n",
    "                                 # \"x_hat\": mooney01_mitigator_list[i].x_hat(),\n",
    "                                 \"x_tilde\": mooney01_mitigator_list[i].x_tilde(),\n",
    "                                 \"sum_of_x\": mooney01_mitigator_list[i].sum_of_x(),\n",
    "                                 # \"sum_of_x_hat\": mooney01_mitigator_list[i].sum_of_x_hat(),\n",
    "                                 \"sum_of_x_tilde\": mooney01_mitigator_list[i].sum_of_x_tilde(),\n",
    "                                 \"indices_to_keys_vector\": mooney01_mitigator_list[i].indices_to_keys_vector(),\n",
    "                                 \"times\": mooney01_mitigator_list[i].times(),\n",
    "                                 \"expval\": mooney01_mitigator_list[i].expval(),\n",
    "                                 # \"mitigation_stddev\": mooney01_mitigator_list[i].mitigation_stddev(norm_type = \"exact\"),\n",
    "                                 })\n",
    "    t2 = time.perf_counter()\n",
    "    print(i + 1, \"th finished (\", i + 2, \"qubits,\", t2 - t1, \"s )\")"
   ]
  },
  {
   "cell_type": "code",
   "execution_count": 8,
   "id": "95549737",
   "metadata": {},
   "outputs": [],
   "source": [
    "with open(\"./pkls/mooney01_mitigator_info.pkl\", \"wb\") as f:\n",
    "    pickle.dump(mooney01_mitigator_info, f)"
   ]
  }
 ],
 "metadata": {
  "kernelspec": {
   "display_name": "Python 3 (ipykernel)",
   "language": "python",
   "name": "python3"
  },
  "language_info": {
   "codemirror_mode": {
    "name": "ipython",
    "version": 3
   },
   "file_extension": ".py",
   "mimetype": "text/x-python",
   "name": "python",
   "nbconvert_exporter": "python",
   "pygments_lexer": "ipython3",
   "version": "3.9.7"
  }
 },
 "nbformat": 4,
 "nbformat_minor": 5
}

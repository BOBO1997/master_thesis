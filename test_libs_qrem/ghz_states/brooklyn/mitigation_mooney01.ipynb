{
 "cells": [
  {
   "cell_type": "code",
   "execution_count": 1,
   "id": "worst-austria",
   "metadata": {},
   "outputs": [],
   "source": [
    "import numpy as np\n",
    "import matplotlib.pyplot as plt\n",
    "%matplotlib inline\n",
    "import pickle\n",
    "import time\n",
    "import importlib"
   ]
  },
  {
   "cell_type": "code",
   "execution_count": 2,
   "id": "43f90bc8",
   "metadata": {},
   "outputs": [],
   "source": [
    "import sys\n",
    "sys.path.append(\"../../../libs_bell\")\n",
    "from lib_preprocessing import job_ids_to_result, flatten_results_jobs_list, arrange_results_list_tensored3, results_list_to_hist_list"
   ]
  },
  {
   "cell_type": "code",
   "execution_count": 3,
   "id": "e2ae2ba1",
   "metadata": {},
   "outputs": [],
   "source": [
    "with open(\"pkls/raw_hist_list.pkl\", \"rb\") as f:\n",
    "    raw_hist_list = pickle.load(f)\n",
    "with open(\"pkls/results_meas_cal.pkl\", \"rb\") as f:\n",
    "    results_meas_cal = pickle.load(f)"
   ]
  },
  {
   "cell_type": "code",
   "execution_count": 4,
   "id": "6796d5f5",
   "metadata": {
    "scrolled": true
   },
   "outputs": [],
   "source": [
    "from libs_qrem import MooneyEtalFilter\n",
    "from qiskit.ignis.mitigation.measurement import TensoredMeasFitter"
   ]
  },
  {
   "cell_type": "code",
   "execution_count": 5,
   "id": "1fee9429",
   "metadata": {},
   "outputs": [
    {
     "name": "stdout",
     "output_type": "stream",
     "text": [
      "size 10 finished\n",
      "size 20 finished\n",
      "size 30 finished\n",
      "size 40 finished\n",
      "size 50 finished\n",
      "size 60 finished\n",
      "length of mooney01_mitigator_list:  64\n"
     ]
    }
   ],
   "source": [
    "max_size = 65\n",
    "max_length = 64\n",
    "mooney01_mitigator_list = []\n",
    "for n in range(2, max_size + 1):\n",
    "    mit_pattern = [[i] for i in range(n)]\n",
    "    meas_fitter = TensoredMeasFitter(results_meas_cal[n - 1], mit_pattern=mit_pattern)\n",
    "    mooney01_mitigator_list.append(MooneyEtalFilter(n, meas_fitter.cal_matrices))\n",
    "    if n % 10 == 0:\n",
    "        print(\"size\", n, \"finished\")\n",
    "print(\"length of mooney01_mitigator_list: \", len(mooney01_mitigator_list))"
   ]
  },
  {
   "cell_type": "code",
   "execution_count": 6,
   "id": "fd336980",
   "metadata": {
    "scrolled": true
   },
   "outputs": [
    {
     "name": "stdout",
     "output_type": "stream",
     "text": [
      "1 th finished ( 2 qubits, 6.562599999959673e-05 s )\n",
      "2 th finished ( 3 qubits, 6.95000000003887e-05 s )\n",
      "3 th finished ( 4 qubits, 0.00010884400000144012 s )\n",
      "4 th finished ( 5 qubits, 0.00014434799999918368 s )\n",
      "5 th finished ( 6 qubits, 0.00018870699999951057 s )\n",
      "6 th finished ( 7 qubits, 0.00020456800000090425 s )\n",
      "7 th finished ( 8 qubits, 0.0004056510000012281 s )\n",
      "8 th finished ( 9 qubits, 0.0005424210000004592 s )\n",
      "9 th finished ( 10 qubits, 0.0006639219999993173 s )\n",
      "10 th finished ( 11 qubits, 0.00070647899999976 s )\n",
      "11 th finished ( 12 qubits, 0.0007696289999987727 s )\n",
      "12 th finished ( 13 qubits, 0.0010577059999992144 s )\n",
      "13 th finished ( 14 qubits, 0.0012545860000017228 s )\n",
      "14 th finished ( 15 qubits, 0.0014498449999997831 s )\n",
      "15 th finished ( 16 qubits, 0.0014449449999993647 s )\n",
      "16 th finished ( 17 qubits, 0.002044172999999816 s )\n",
      "17 th finished ( 18 qubits, 0.0021847719999996684 s )\n",
      "18 th finished ( 19 qubits, 0.003214828999999142 s )\n",
      "19 th finished ( 20 qubits, 0.002865414000000399 s )\n",
      "20 th finished ( 21 qubits, 0.003086318999999449 s )\n",
      "21 th finished ( 22 qubits, 0.0034692070000001962 s )\n",
      "22 th finished ( 23 qubits, 0.00681745700000036 s )\n",
      "23 th finished ( 24 qubits, 0.006884314999998864 s )\n",
      "24 th finished ( 25 qubits, 0.009581499999999465 s )\n",
      "25 th finished ( 26 qubits, 0.008211922000000982 s )\n",
      "26 th finished ( 27 qubits, 0.008295985000000172 s )\n",
      "27 th finished ( 28 qubits, 0.008442922000000408 s )\n",
      "28 th finished ( 29 qubits, 0.009561950000000152 s )\n",
      "29 th finished ( 30 qubits, 0.009968861999999135 s )\n",
      "30 th finished ( 31 qubits, 0.010506652000000116 s )\n",
      "31 th finished ( 32 qubits, 0.009789878999999502 s )\n",
      "32 th finished ( 33 qubits, 0.01055844899999947 s )\n",
      "33 th finished ( 34 qubits, 0.011098009999999547 s )\n",
      "34 th finished ( 35 qubits, 0.011055288999999746 s )\n",
      "35 th finished ( 36 qubits, 0.011695240999999967 s )\n",
      "36 th finished ( 37 qubits, 0.011377071000000072 s )\n",
      "37 th finished ( 38 qubits, 0.011653816000000816 s )\n",
      "38 th finished ( 39 qubits, 0.01314895900000046 s )\n",
      "39 th finished ( 40 qubits, 0.014199218999999985 s )\n",
      "40 th finished ( 41 qubits, 0.014044176999998825 s )\n",
      "41 th finished ( 42 qubits, 0.014854679000000814 s )\n",
      "42 th finished ( 43 qubits, 0.015894485999998764 s )\n",
      "43 th finished ( 44 qubits, 0.016898336999998875 s )\n",
      "44 th finished ( 45 qubits, 0.01628309200000011 s )\n",
      "45 th finished ( 46 qubits, 0.016263504999999512 s )\n",
      "46 th finished ( 47 qubits, 0.016285592000000904 s )\n",
      "47 th finished ( 48 qubits, 0.01898901900000105 s )\n",
      "48 th finished ( 49 qubits, 0.017714344000001603 s )\n",
      "49 th finished ( 50 qubits, 0.018785505000000313 s )\n",
      "50 th finished ( 51 qubits, 0.018787363999999585 s )\n",
      "51 th finished ( 52 qubits, 0.019330165999999593 s )\n",
      "52 th finished ( 53 qubits, 0.019511961000000966 s )\n",
      "53 th finished ( 54 qubits, 0.02327458000000071 s )\n",
      "54 th finished ( 55 qubits, 0.020254095000000305 s )\n",
      "55 th finished ( 56 qubits, 0.02313608699999925 s )\n",
      "56 th finished ( 57 qubits, 0.022524951999999487 s )\n",
      "57 th finished ( 58 qubits, 0.022129942999999486 s )\n",
      "58 th finished ( 59 qubits, 0.02366827900000068 s )\n",
      "59 th finished ( 60 qubits, 0.024510134999999877 s )\n",
      "60 th finished ( 61 qubits, 0.02410739599999978 s )\n",
      "61 th finished ( 62 qubits, 0.023059876000001367 s )\n",
      "62 th finished ( 63 qubits, 0.023205265999999725 s )\n",
      "63 th finished ( 64 qubits, 0.023917137999999838 s )\n",
      "64 th finished ( 65 qubits, 0.024360930999998587 s )\n"
     ]
    }
   ],
   "source": [
    "for i in range(max_length):\n",
    "    t1 = time.perf_counter()\n",
    "    _ = mooney01_mitigator_list[i].apply(raw_hist_list[i + 1])\n",
    "    t2 = time.perf_counter()\n",
    "    print(i + 1, \"th finished (\", i + 2, \"qubits,\", t2 - t1, \"s )\")"
   ]
  },
  {
   "cell_type": "code",
   "execution_count": 7,
   "id": "ca9e4afd",
   "metadata": {
    "scrolled": true
   },
   "outputs": [
    {
     "name": "stdout",
     "output_type": "stream",
     "text": [
      "1 th finished ( 2 qubits, 2.197999999964395e-05 s )\n",
      "2 th finished ( 3 qubits, 1.5859000001228196e-05 s )\n",
      "3 th finished ( 4 qubits, 1.4555999999998903e-05 s )\n",
      "4 th finished ( 5 qubits, 1.2670000000269965e-05 s )\n",
      "5 th finished ( 6 qubits, 1.2342999999859217e-05 s )\n",
      "6 th finished ( 7 qubits, 7.109000000227184e-06 s )\n",
      "7 th finished ( 8 qubits, 5.6900000000581485e-06 s )\n",
      "8 th finished ( 9 qubits, 9.256000000235076e-06 s )\n",
      "9 th finished ( 10 qubits, 7.0930000006796945e-06 s )\n",
      "10 th finished ( 11 qubits, 5.966999999884592e-06 s )\n",
      "11 th finished ( 12 qubits, 5.795999999946844e-06 s )\n",
      "12 th finished ( 13 qubits, 1.4719000001051086e-05 s )\n",
      "13 th finished ( 14 qubits, 1.1871999999968352e-05 s )\n",
      "14 th finished ( 15 qubits, 8.655000000246105e-06 s )\n",
      "15 th finished ( 16 qubits, 9.671999999127934e-06 s )\n",
      "16 th finished ( 17 qubits, 1.3961999998812757e-05 s )\n",
      "17 th finished ( 18 qubits, 9.615999999823543e-06 s )\n",
      "18 th finished ( 19 qubits, 7.384999999970887e-06 s )\n",
      "19 th finished ( 20 qubits, 6.550000000160594e-06 s )\n",
      "20 th finished ( 21 qubits, 7.720999999349942e-06 s )\n",
      "21 th finished ( 22 qubits, 7.809000001302024e-06 s )\n",
      "22 th finished ( 23 qubits, 1.281299999966734e-05 s )\n",
      "23 th finished ( 24 qubits, 1.663299999954404e-05 s )\n",
      "24 th finished ( 25 qubits, 1.5949999999875786e-05 s )\n",
      "25 th finished ( 26 qubits, 1.0712999999995532e-05 s )\n",
      "26 th finished ( 27 qubits, 9.219000000726396e-06 s )\n",
      "27 th finished ( 28 qubits, 6.963000000581587e-06 s )\n",
      "28 th finished ( 29 qubits, 6.811000000439549e-06 s )\n",
      "29 th finished ( 30 qubits, 7.878999999988423e-06 s )\n",
      "30 th finished ( 31 qubits, 8.223000000029401e-06 s )\n",
      "31 th finished ( 32 qubits, 1.6728000000298948e-05 s )\n",
      "32 th finished ( 33 qubits, 1.146199999979558e-05 s )\n",
      "33 th finished ( 34 qubits, 6.859000000858373e-06 s )\n",
      "34 th finished ( 35 qubits, 1.3728000000767793e-05 s )\n",
      "35 th finished ( 36 qubits, 7.648000000415323e-06 s )\n",
      "36 th finished ( 37 qubits, 1.2243000000466964e-05 s )\n",
      "37 th finished ( 38 qubits, 1.2138000000661009e-05 s )\n",
      "38 th finished ( 39 qubits, 1.498999999860473e-05 s )\n",
      "39 th finished ( 40 qubits, 1.0159000000342644e-05 s )\n",
      "40 th finished ( 41 qubits, 1.0329000000197652e-05 s )\n",
      "41 th finished ( 42 qubits, 8.427000000921225e-06 s )\n",
      "42 th finished ( 43 qubits, 6.640999998808184e-06 s )\n",
      "43 th finished ( 44 qubits, 1.2569000000794972e-05 s )\n",
      "44 th finished ( 45 qubits, 1.2092000000407666e-05 s )\n",
      "45 th finished ( 46 qubits, 8.307999999956905e-06 s )\n",
      "46 th finished ( 47 qubits, 9.603999998830659e-06 s )\n",
      "47 th finished ( 48 qubits, 8.735999999842647e-06 s )\n",
      "48 th finished ( 49 qubits, 6.4929999989971066e-06 s )\n",
      "49 th finished ( 50 qubits, 7.297999999877902e-06 s )\n",
      "50 th finished ( 51 qubits, 6.423000000310708e-06 s )\n",
      "51 th finished ( 52 qubits, 6.46500000023309e-06 s )\n",
      "52 th finished ( 53 qubits, 1.1293000000023312e-05 s )\n",
      "53 th finished ( 54 qubits, 1.2312000000846979e-05 s )\n",
      "54 th finished ( 55 qubits, 7.804999999194706e-06 s )\n",
      "55 th finished ( 56 qubits, 3.914999998855251e-06 s )\n",
      "56 th finished ( 57 qubits, 6.959999998557009e-06 s )\n",
      "57 th finished ( 58 qubits, 4.322999998862542e-06 s )\n",
      "58 th finished ( 59 qubits, 3.5359999994710734e-06 s )\n",
      "59 th finished ( 60 qubits, 3.152000001449551e-06 s )\n",
      "60 th finished ( 61 qubits, 2.9660000002706965e-06 s )\n",
      "61 th finished ( 62 qubits, 3.3219999995282024e-06 s )\n",
      "62 th finished ( 63 qubits, 3.206999998894844e-06 s )\n",
      "63 th finished ( 64 qubits, 2.961999999939735e-06 s )\n",
      "64 th finished ( 65 qubits, 2.795000000332948e-06 s )\n"
     ]
    }
   ],
   "source": [
    "mooney01_mitigator_info = []\n",
    "for i in range(max_length):\n",
    "    t1 = time.perf_counter()\n",
    "    # _ = mooney01_mitigator_list[i].apply(raw_hist_list[i + 1])\n",
    "    mooney01_mitigator_info.append({# \"exact_one_norm_of_reduced_inv_A\": mooney01_mitigator_list[i].exact_one_norm_of_reduced_inv_A(),\n",
    "                                 \"mitigated_hist\": mooney01_mitigator_list[i].mitigated_hist(),\n",
    "                                 \"x_s\": mooney01_mitigator_list[i].x_s(),\n",
    "                                 # \"x_hat\": mooney01_mitigator_list[i].x_hat(),\n",
    "                                 \"x_tilde\": mooney01_mitigator_list[i].x_tilde(),\n",
    "                                 \"sum_of_x\": mooney01_mitigator_list[i].sum_of_x(),\n",
    "                                 # \"sum_of_x_hat\": mooney01_mitigator_list[i].sum_of_x_hat(),\n",
    "                                 \"sum_of_x_tilde\": mooney01_mitigator_list[i].sum_of_x_tilde(),\n",
    "                                 \"indices_to_keys_vector\": mooney01_mitigator_list[i].indices_to_keys_vector(),\n",
    "                                 \"times\": mooney01_mitigator_list[i].times(),\n",
    "                                 \"expval\": mooney01_mitigator_list[i].expval(),\n",
    "                                 # \"mitigation_stddev\": mooney01_mitigator_list[i].mitigation_stddev(norm_type = \"exact\"),\n",
    "                                 })\n",
    "    t2 = time.perf_counter()\n",
    "    print(i + 1, \"th finished (\", i + 2, \"qubits,\", t2 - t1, \"s )\")"
   ]
  },
  {
   "cell_type": "code",
   "execution_count": 8,
   "id": "95549737",
   "metadata": {},
   "outputs": [],
   "source": [
    "with open(\"./pkls/mooney01_mitigator_info.pkl\", \"wb\") as f:\n",
    "    pickle.dump(mooney01_mitigator_info, f)"
   ]
  }
 ],
 "metadata": {
  "kernelspec": {
   "display_name": "Python 3 (ipykernel)",
   "language": "python",
   "name": "python3"
  },
  "language_info": {
   "codemirror_mode": {
    "name": "ipython",
    "version": 3
   },
   "file_extension": ".py",
   "mimetype": "text/x-python",
   "name": "python",
   "nbconvert_exporter": "python",
   "pygments_lexer": "ipython3",
   "version": "3.9.7"
  }
 },
 "nbformat": 4,
 "nbformat_minor": 5
}

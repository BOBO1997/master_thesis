{
 "cells": [
  {
   "cell_type": "code",
   "execution_count": 1,
   "id": "worst-austria",
   "metadata": {},
   "outputs": [],
   "source": [
    "import numpy as np\n",
    "import matplotlib.pyplot as plt\n",
    "%matplotlib inline\n",
    "import pickle\n",
    "import time\n",
    "import importlib"
   ]
  },
  {
   "cell_type": "code",
   "execution_count": 2,
   "id": "43f90bc8",
   "metadata": {},
   "outputs": [],
   "source": [
    "import sys\n",
    "sys.path.append(\"../../../libs_bell\")\n",
    "from lib_preprocessing import job_ids_to_result, flatten_results_jobs_list, arrange_results_list_tensored3, results_list_to_hist_list"
   ]
  },
  {
   "cell_type": "code",
   "execution_count": 3,
   "id": "e2ae2ba1",
   "metadata": {},
   "outputs": [],
   "source": [
    "with open(\"pkls/raw_hist_list.pkl\", \"rb\") as f:\n",
    "    raw_hist_list = pickle.load(f)\n",
    "with open(\"pkls/results_meas_cal.pkl\", \"rb\") as f:\n",
    "    results_meas_cal = pickle.load(f)"
   ]
  },
  {
   "cell_type": "code",
   "execution_count": 4,
   "id": "6796d5f5",
   "metadata": {
    "scrolled": true
   },
   "outputs": [],
   "source": [
    "from libs_qrem import MooneyEtalFilter\n",
    "from qiskit.ignis.mitigation.measurement import TensoredMeasFitter"
   ]
  },
  {
   "cell_type": "code",
   "execution_count": 5,
   "id": "1fee9429",
   "metadata": {},
   "outputs": [
    {
     "name": "stdout",
     "output_type": "stream",
     "text": [
      "size 10 finished\n",
      "size 20 finished\n",
      "size 30 finished\n",
      "size 40 finished\n",
      "size 50 finished\n",
      "size 60 finished\n",
      "length of mooney01_mitigator_list:  64\n"
     ]
    }
   ],
   "source": [
    "max_size = 65\n",
    "max_length = 30\n",
    "mooney01_mitigator_list = []\n",
    "for n in range(2, max_size + 1):\n",
    "    mit_pattern = [[i] for i in range(n)]\n",
    "    meas_fitter = TensoredMeasFitter(results_meas_cal[n - 1], mit_pattern=mit_pattern)\n",
    "    mooney01_mitigator_list.append(MooneyEtalFilter(n, meas_fitter.cal_matrices))\n",
    "    if n % 10 == 0:\n",
    "        print(\"size\", n, \"finished\")\n",
    "print(\"length of mooney01_mitigator_list: \", len(mooney01_mitigator_list))"
   ]
  },
  {
   "cell_type": "code",
   "execution_count": 6,
   "id": "fd336980",
   "metadata": {
    "scrolled": true
   },
   "outputs": [
    {
     "name": "stdout",
     "output_type": "stream",
     "text": [
      "1 th finished ( 2 qubits, 7.966900000155874e-05 s )\n",
      "2 th finished ( 3 qubits, 6.220399999889992e-05 s )\n",
      "3 th finished ( 4 qubits, 0.0001460139999984733 s )\n",
      "4 th finished ( 5 qubits, 0.0001575410000000943 s )\n",
      "5 th finished ( 6 qubits, 0.0002919719999994186 s )\n",
      "6 th finished ( 7 qubits, 0.0005335689999981241 s )\n",
      "7 th finished ( 8 qubits, 0.0007983080000002474 s )\n",
      "8 th finished ( 9 qubits, 0.0010212669999987156 s )\n",
      "9 th finished ( 10 qubits, 0.0014660059999975772 s )\n",
      "10 th finished ( 11 qubits, 0.00201128300000164 s )\n",
      "11 th finished ( 12 qubits, 0.003262023999997865 s )\n",
      "12 th finished ( 13 qubits, 0.00407438299999896 s )\n",
      "13 th finished ( 14 qubits, 0.006206596999998482 s )\n",
      "14 th finished ( 15 qubits, 0.0077625539999992554 s )\n",
      "15 th finished ( 16 qubits, 0.00853513999999933 s )\n",
      "16 th finished ( 17 qubits, 0.012274107999999728 s )\n",
      "17 th finished ( 18 qubits, 0.014268877999999319 s )\n",
      "18 th finished ( 19 qubits, 0.017712043999999594 s )\n",
      "19 th finished ( 20 qubits, 0.021062518000000807 s )\n",
      "20 th finished ( 21 qubits, 0.025708693999998644 s )\n",
      "21 th finished ( 22 qubits, 0.029690098000003218 s )\n",
      "22 th finished ( 23 qubits, 0.05256814299999846 s )\n",
      "23 th finished ( 24 qubits, 0.06331396399999889 s )\n",
      "24 th finished ( 25 qubits, 0.07833170199999984 s )\n",
      "25 th finished ( 26 qubits, 0.08544940499999854 s )\n",
      "26 th finished ( 27 qubits, 0.09165825400000216 s )\n",
      "27 th finished ( 28 qubits, 0.10425946100000161 s )\n",
      "28 th finished ( 29 qubits, 0.12050953600000014 s )\n",
      "29 th finished ( 30 qubits, 0.13483627399999776 s )\n",
      "30 th finished ( 31 qubits, 0.14552528499999795 s )\n"
     ]
    }
   ],
   "source": [
    "for i in range(max_length):\n",
    "    t1 = time.perf_counter()\n",
    "    _ = mooney01_mitigator_list[i].apply(raw_hist_list[i + 1])\n",
    "    t2 = time.perf_counter()\n",
    "    print(i + 1, \"th finished (\", i + 2, \"qubits,\", t2 - t1, \"s )\")"
   ]
  },
  {
   "cell_type": "code",
   "execution_count": null,
   "id": "ca9e4afd",
   "metadata": {
    "scrolled": true
   },
   "outputs": [],
   "source": [
    "mooney01_mitigator_info = []\n",
    "for i in range(max_length):\n",
    "    t1 = time.perf_counter()\n",
    "    # _ = mooney01_mitigator_list[i].apply(raw_hist_list[i + 1])\n",
    "    mooney01_mitigator_info.append({# \"exact_one_norm_of_reduced_inv_A\": mooney01_mitigator_list[i].exact_one_norm_of_reduced_inv_A(),\n",
    "                                 \"mitigated_hist\": mooney01_mitigator_list[i].mitigated_hist(),\n",
    "                                 \"x_s\": mooney01_mitigator_list[i].x_s(),\n",
    "                                 # \"x_hat\": mooney01_mitigator_list[i].x_hat(),\n",
    "                                 \"x_tilde\": mooney01_mitigator_list[i].x_tilde(),\n",
    "                                 \"sum_of_x\": mooney01_mitigator_list[i].sum_of_x(),\n",
    "                                 # \"sum_of_x_hat\": mooney01_mitigator_list[i].sum_of_x_hat(),\n",
    "                                 \"sum_of_x_tilde\": mooney01_mitigator_list[i].sum_of_x_tilde(),\n",
    "                                 \"indices_to_keys_vector\": mooney01_mitigator_list[i].indices_to_keys_vector(),\n",
    "                                 \"times\": mooney01_mitigator_list[i].times(),\n",
    "                                 \"expval\": mooney01_mitigator_list[i].expval(),\n",
    "                                 # \"mitigation_stddev\": mooney01_mitigator_list[i].mitigation_stddev(norm_type = \"exact\"),\n",
    "                                 })\n",
    "    t2 = time.perf_counter()\n",
    "    print(i + 1, \"th finished (\", i + 2, \"qubits,\", t2 - t1, \"s )\")"
   ]
  },
  {
   "cell_type": "code",
   "execution_count": null,
   "id": "95549737",
   "metadata": {},
   "outputs": [],
   "source": [
    "with open(\"./pkls/mooney01_mitigator_info.pkl\", \"wb\") as f:\n",
    "    pickle.dump(mooney01_mitigator_info, f)"
   ]
  }
 ],
 "metadata": {
  "kernelspec": {
   "display_name": "Python 3 (ipykernel)",
   "language": "python",
   "name": "python3"
  },
  "language_info": {
   "codemirror_mode": {
    "name": "ipython",
    "version": 3
   },
   "file_extension": ".py",
   "mimetype": "text/x-python",
   "name": "python",
   "nbconvert_exporter": "python",
   "pygments_lexer": "ipython3",
   "version": "3.9.7"
  }
 },
 "nbformat": 4,
 "nbformat_minor": 5
}

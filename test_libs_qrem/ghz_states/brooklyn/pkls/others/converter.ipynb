{
 "cells": [
  {
   "cell_type": "code",
   "execution_count": 1,
   "id": "18c483c8",
   "metadata": {},
   "outputs": [],
   "source": [
    "import pickle"
   ]
  },
  {
   "cell_type": "code",
   "execution_count": 3,
   "id": "104ee5ab",
   "metadata": {},
   "outputs": [],
   "source": [
    "with open(\"hist_list.pkl\", \"rb\") as f:\n",
    "    hist_list = pickle.load(f)"
   ]
  },
  {
   "cell_type": "code",
   "execution_count": 5,
   "id": "67cb2588",
   "metadata": {},
   "outputs": [
    {
     "data": {
      "text/plain": [
       "dict_keys(['raw', 'ignis', 'proposed_delta', 'proposed_lnp', 'mooney_etal', 'nation_etal'])"
      ]
     },
     "execution_count": 5,
     "metadata": {},
     "output_type": "execute_result"
    }
   ],
   "source": [
    "hist_list.keys()"
   ]
  },
  {
   "cell_type": "code",
   "execution_count": 10,
   "id": "622900f6",
   "metadata": {},
   "outputs": [],
   "source": [
    "mthree_iterative_hist_list_pair = hist_list[\"nation_etal\"]"
   ]
  },
  {
   "cell_type": "code",
   "execution_count": 11,
   "id": "79b94e51",
   "metadata": {},
   "outputs": [
    {
     "data": {
      "text/plain": [
       "({'00': 0.4856707532359838,\n",
       "  '01': 0.011572483076363917,\n",
       "  '10': 0.007409993774630185,\n",
       "  '11': 0.49534676991302207},\n",
       " {'method': 'iterative',\n",
       "  'time': 0.0036684210001567408,\n",
       "  'dimension': 4,\n",
       "  'iterations': 4,\n",
       "  'col_norms': array([1., 1., 1., 1.])})"
      ]
     },
     "execution_count": 11,
     "metadata": {},
     "output_type": "execute_result"
    }
   ],
   "source": [
    "mthree_iterative_hist_list_pair[0]"
   ]
  },
  {
   "cell_type": "code",
   "execution_count": 12,
   "id": "1a2ba291",
   "metadata": {},
   "outputs": [],
   "source": [
    "mthree_iterative_mitigator_list = []\n",
    "for hist, info in mthree_iterative_hist_list_pair:\n",
    "    mthree_iterative_mitigator_list.append({\"mitigated_hist\": hist,\n",
    "                                            \"times\": {\"total\": info[\"time\"]},\n",
    "                                            \"col_norms\": info[\"col_norms\"],\n",
    "                                            \"iterations\": info[\"iterations\"],\n",
    "                                            \"expval\": hist.expval(),\n",
    "                                            \"mitigation_stddev\": hist.stddev()})"
   ]
  },
  {
   "cell_type": "code",
   "execution_count": 13,
   "id": "5cb09f81",
   "metadata": {},
   "outputs": [],
   "source": [
    "with open(\"../mthree_iterative_mitigator_info.pkl\", \"wb\") as f:\n",
    "    pickle.dump(mthree_iterative_mitigator_list, f)"
   ]
  },
  {
   "cell_type": "code",
   "execution_count": 6,
   "id": "2abd7de6",
   "metadata": {},
   "outputs": [],
   "source": [
    "ignis_hist_list = hist_list[\"ignis\"]"
   ]
  },
  {
   "cell_type": "code",
   "execution_count": 16,
   "id": "b5b2e00f",
   "metadata": {},
   "outputs": [],
   "source": [
    "with open(\"times.pkl\", \"rb\") as f:\n",
    "    time_list = pickle.load(f)"
   ]
  },
  {
   "cell_type": "code",
   "execution_count": 17,
   "id": "9715fa21",
   "metadata": {},
   "outputs": [
    {
     "data": {
      "text/plain": [
       "dict_keys(['ignis', 'proposed_delta', 'proposed_lnp', 'mooney_etal', 'nation_etal'])"
      ]
     },
     "execution_count": 17,
     "metadata": {},
     "output_type": "execute_result"
    }
   ],
   "source": [
    "time_list.keys()"
   ]
  },
  {
   "cell_type": "code",
   "execution_count": 18,
   "id": "7acbabaf",
   "metadata": {},
   "outputs": [],
   "source": [
    "ignis_time_list = time_list[\"ignis\"]"
   ]
  },
  {
   "cell_type": "code",
   "execution_count": 20,
   "id": "83df0fe5",
   "metadata": {},
   "outputs": [],
   "source": [
    "ignis_mitigator_list = []\n",
    "for hist, time in zip(ignis_hist_list, ignis_time_list):\n",
    "    ignis_mitigator_list.append({\"mitigated_hist\": hist,\n",
    "                                 \"times\": {\"total\": time}})"
   ]
  },
  {
   "cell_type": "code",
   "execution_count": 21,
   "id": "4076d41f",
   "metadata": {},
   "outputs": [],
   "source": [
    "with open(\"../ignis_mitigator_info.pkl\", \"wb\") as f:\n",
    "    pickle.dump(ignis_mitigator_list, f)"
   ]
  }
 ],
 "metadata": {
  "kernelspec": {
   "display_name": "Python 3 (ipykernel)",
   "language": "python",
   "name": "python3"
  },
  "language_info": {
   "codemirror_mode": {
    "name": "ipython",
    "version": 3
   },
   "file_extension": ".py",
   "mimetype": "text/x-python",
   "name": "python",
   "nbconvert_exporter": "python",
   "pygments_lexer": "ipython3",
   "version": "3.9.7"
  }
 },
 "nbformat": 4,
 "nbformat_minor": 5
}

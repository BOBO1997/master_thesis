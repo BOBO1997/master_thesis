{
 "cells": [
  {
   "cell_type": "code",
   "execution_count": 1,
   "id": "worst-austria",
   "metadata": {},
   "outputs": [],
   "source": [
    "import numpy as np\n",
    "import matplotlib.pyplot as plt\n",
    "%matplotlib inline\n",
    "import pickle\n",
    "import time\n",
    "import importlib"
   ]
  },
  {
   "cell_type": "code",
   "execution_count": 2,
   "id": "temporal-trigger",
   "metadata": {},
   "outputs": [],
   "source": [
    "import qiskit\n",
    "from qiskit import QuantumCircuit, QuantumRegister, ClassicalRegister, Aer, execute, IBMQ\n",
    "from qiskit.tools.visualization import plot_histogram"
   ]
  },
  {
   "cell_type": "code",
   "execution_count": 3,
   "id": "marine-nightlife",
   "metadata": {},
   "outputs": [],
   "source": [
    "import qiskit.ignis.mitigation as mit\n",
    "from qiskit.ignis.mitigation.measurement import tensored_meas_cal, TensoredMeasFitter"
   ]
  },
  {
   "cell_type": "code",
   "execution_count": 4,
   "id": "selected-delaware",
   "metadata": {},
   "outputs": [
    {
     "name": "stdout",
     "output_type": "stream",
     "text": [
      "<AccountProvider for IBMQ(hub='ibm-q-utokyo', group='internal', project='hirashi-jst')>\n"
     ]
    }
   ],
   "source": [
    "IBMQ.load_account()\n",
    "provider = IBMQ.get_provider(hub='ibm-q-utokyo', group='internal', project='hirashi-jst')\n",
    "print(provider)"
   ]
  },
  {
   "cell_type": "code",
   "execution_count": 5,
   "id": "identical-michael",
   "metadata": {},
   "outputs": [],
   "source": [
    "# qubit layout\n",
    "vertex_list =  [33, # 0\n",
    "                32, # 1\n",
    "                25, 31, # 2, 3\n",
    "                34, 19, 39, # 4, 5, 6\n",
    "                30, 35, 18, 45, # 7, 8, 9, 10\n",
    "                20, 29, 40, 17, 46, # 11, 12, 13, 14, 15\n",
    "                36, 44, 21, 28, 49, 16, 47, # 16, 17, 18, 19, 20, 21, 22\n",
    "                24, 11, 37, 43, 12, 27, 50, 15, 53, # 23, 24, 25, 26, 27, 28, 29, 30, 31\n",
    "                22, 48,  4, 26, 52,  8, 38, 51, 14, 60, # 32, 33, 34, 35, 36, 37, 38, 39, 40, 41\n",
    "                42, 23,  3, 56,  7, 41, 54, 13, 59, # 42, 43, 44, 45, 46, 47, 48, 49, 50\n",
    "                 5,  9, 61,  2, 55,  6, 64, 10, 58, # 51, 52, 53, 54, 55, 56, 57, 58, 59\n",
    "                57, 62,  1, 63,  0] # 60, 61, 62, 63, 64\n",
    "def is_permutation(seq):\n",
    "    return len(seq) == len(set(seq))\n",
    "assert is_permutation(vertex_list)\n",
    "max_size = len(vertex_list) # largest graph size\n",
    "shots_per_circuit = 1 << 13 # shots per one execution\n",
    "system_size = len(vertex_list)"
   ]
  },
  {
   "cell_type": "code",
   "execution_count": 6,
   "id": "popular-guarantee",
   "metadata": {},
   "outputs": [
    {
     "name": "stdout",
     "output_type": "stream",
     "text": [
      "max_size: 65\n",
      "system_size: 65\n",
      "shots_per_circuit: 8192\n"
     ]
    }
   ],
   "source": [
    "print(\"max_size:\", max_size)\n",
    "print(\"system_size:\", system_size)\n",
    "print(\"shots_per_circuit:\", shots_per_circuit)"
   ]
  },
  {
   "cell_type": "code",
   "execution_count": 7,
   "id": "challenging-smile",
   "metadata": {},
   "outputs": [],
   "source": [
    "# indicate how to connect qubits\n",
    "order = [[0,1], # 2\n",
    "         [0,2],  [1,3], # 3\n",
    "         [0,4],  [2,5],  [3,6], # 4\n",
    "         [3,7],  [4,8],  [5,9],  [6,10], # 5\n",
    "         [5,11], [7,12], [8,13], [9,14], [10,15], # 6\n",
    "         [8,16], [10,17],[11,18],[12,19],[13,20],[14,21],[15,22], # 7\n",
    "         [12,23],[14,24],[16,25],[17,26],[18,27],[19,28],[20,29],[21,30],[22,31], # 8\n",
    "         [18,32],[20,33],[24,34],[25,35],[26,36],[27,37],[28,38],[29,39],[30,40],[31,41], # 9\n",
    "         [26,42],[32,43],[34,44],[36,45],[37,46],[38,47],[39,48],[40,49],[41,50], # 10\n",
    "         [34,51],[37,52],[41,53],[44,54],[45,55],[46,56],[48,57],[49,58],[50,59], # 11\n",
    "         [45,60],[53,61],[54,62],[57,63],[58,64]] # 12"
   ]
  },
  {
   "cell_type": "code",
   "execution_count": 8,
   "id": "interstate-telephone",
   "metadata": {},
   "outputs": [
    {
     "name": "stdout",
     "output_type": "stream",
     "text": [
      "[0, 1, 2, 2, 3, 3, 3, 4, 4, 4, 4, 5, 5, 5, 5, 5, 6, 6, 6, 6, 6, 6, 6, 7, 7, 7, 7, 7, 7, 7, 7, 7, 8, 8, 8, 8, 8, 8, 8, 8, 8, 8, 9, 9, 9, 9, 9, 9, 9, 9, 9, 10, 10, 10, 10, 10, 10, 10, 10, 10, 11, 11, 11, 11, 11]\n",
      "65\n"
     ]
    }
   ],
   "source": [
    "qubit_depths = [0, \n",
    "                1, \n",
    "                2, 2,\n",
    "                3, 3, 3, \n",
    "                4, 4, 4, 4, \n",
    "                5, 5, 5, 5, 5, \n",
    "                6, 6, 6, 6, 6, 6, 6, \n",
    "                7, 7, 7, 7, 7, 7, 7, 7, 7,\n",
    "                8, 8, 8, 8, 8, 8, 8, 8, 8, 8,\n",
    "                9, 9, 9, 9, 9, 9, 9, 9, 9,\n",
    "                10,10,10,10,10,10,10,10,10,\n",
    "                11,11,11,11,11]\n",
    "print(qubit_depths)\n",
    "print(len(qubit_depths))"
   ]
  },
  {
   "cell_type": "code",
   "execution_count": 9,
   "id": "likely-snowboard",
   "metadata": {},
   "outputs": [],
   "source": [
    "def ghz_state(size, order, qubit_depths):\n",
    "    qc = QuantumCircuit(size)\n",
    "    if size <= 1:\n",
    "        qc.measure_all()\n",
    "        return qc\n",
    "    qc.h(0)\n",
    "    depth = 0\n",
    "    for i, j in order:\n",
    "        if depth != qubit_depths[j]:\n",
    "            qc.barrier()\n",
    "            depth += 1\n",
    "        qc.cx(i, j)\n",
    "    qc.barrier()\n",
    "    qc.measure_all()\n",
    "    return qc"
   ]
  },
  {
   "cell_type": "code",
   "execution_count": 10,
   "id": "controlled-muslim",
   "metadata": {},
   "outputs": [],
   "source": [
    "qcs = [ghz_state(size, order[:size-1], qubit_depths[:size]) for size in range(1, max_size+1)]"
   ]
  },
  {
   "cell_type": "code",
   "execution_count": 11,
   "id": "amino-ballet",
   "metadata": {},
   "outputs": [],
   "source": [
    "def make_qcs_list(qcs):\n",
    "    qcs_list = []\n",
    "    mit_patterns = []\n",
    "    for i in range(len(qcs)):\n",
    "        qr = QuantumRegister(qcs[i].num_qubits)\n",
    "        mit_pattern = [[i] for i in range(qcs[i].num_qubits)]\n",
    "        meas_calibs, state_labels = tensored_meas_cal(mit_pattern=mit_pattern, qr=qr, circlabel='mcal')\n",
    "        qcs_list.append(qcs[i])\n",
    "        qcs_list += meas_calibs\n",
    "        mit_patterns.append(mit_pattern)\n",
    "    return qcs_list, mit_patterns"
   ]
  },
  {
   "cell_type": "code",
   "execution_count": 12,
   "id": "smooth-blake",
   "metadata": {},
   "outputs": [
    {
     "name": "stdout",
     "output_type": "stream",
     "text": [
      "195 65\n"
     ]
    }
   ],
   "source": [
    "qcs_list, mit_patterns = make_qcs_list(qcs)\n",
    "print(len(qcs_list), len(mit_patterns))"
   ]
  },
  {
   "cell_type": "code",
   "execution_count": null,
   "id": "difficult-obligation",
   "metadata": {},
   "outputs": [],
   "source": [
    "initial_layouts = []\n",
    "for i in range(len(qcs_list)):\n",
    "    initial_layouts.append( vertex_list[:qcs_list[i].num_qubits] )"
   ]
  },
  {
   "cell_type": "code",
   "execution_count": 7,
   "id": "blessed-festival",
   "metadata": {},
   "outputs": [],
   "source": [
    "device = provider.backend.ibmq_brooklyn\n",
    "backend = provider.get_backend('ibmq_brooklyn')"
   ]
  },
  {
   "cell_type": "code",
   "execution_count": 15,
   "id": "dense-turtle",
   "metadata": {
    "scrolled": true
   },
   "outputs": [
    {
     "data": {
      "text/plain": [
       "'\\njob = execute(qcs_list,\\n               backend=backend, \\n               shots=shots_per_circuit,\\n               optimization_level=1,\\n               initial_layout=initial_layouts)\\nprint(\"job id:\", job.job_id())\\n'"
      ]
     },
     "execution_count": 15,
     "metadata": {},
     "output_type": "execute_result"
    }
   ],
   "source": [
    "job = execute(qcs_list,\n",
    "               backend=backend, \n",
    "               shots=shots_per_circuit,\n",
    "               optimization_level=1,\n",
    "               initial_layout=initial_layouts)\n",
    "print(\"job id:\", job.job_id())\n",
    "# job id: 612236919d8e994b6ff37708"
   ]
  },
  {
   "cell_type": "code",
   "execution_count": null,
   "id": "697fbb29",
   "metadata": {},
   "outputs": [],
   "source": [
    "import pickle\n",
    "job_ids = [\"612236919d8e994b6ff37708\"]\n",
    "with open(\"pkls/jobs.pkl\", \"wb\") as f:\n",
    "    pickle.dump(job_ids, f)"
   ]
  },
  {
   "cell_type": "code",
   "execution_count": 17,
   "id": "a874b206",
   "metadata": {},
   "outputs": [
    {
     "data": {
      "image/png": "[encoded data removed]",
      "text/plain": [
       "<Figure size 360x360 with 1 Axes>"
      ]
     },
     "execution_count": 17,
     "metadata": {},
     "output_type": "execute_result"
    }
   ],
   "source": [
    "from qiskit.visualization import plot_circuit_layout\n",
    "from qiskit import transpile\n",
    "backend = provider.get_backend('ibmq_brooklyn')\n",
    "qc_on_device = transpile(qcs[-1], backend=backend, optimization_level=1, initial_layout=vertex_list)\n",
    "plot_circuit_layout(qc_on_device, backend)"
   ]
  },
  {
   "cell_type": "code",
   "execution_count": null,
   "id": "9106a693",
   "metadata": {},
   "outputs": [],
   "source": []
  }
 ],
 "metadata": {
  "kernelspec": {
   "display_name": "Python 3 (ipykernel)",
   "language": "python",
   "name": "python3"
  },
  "language_info": {
   "codemirror_mode": {
    "name": "ipython",
    "version": 3
   },
   "file_extension": ".py",
   "mimetype": "text/x-python",
   "name": "python",
   "nbconvert_exporter": "python",
   "pygments_lexer": "ipython3",
   "version": "3.9.7"
  }
 },
 "nbformat": 4,
 "nbformat_minor": 5
}

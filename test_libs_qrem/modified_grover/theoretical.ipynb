{
 "cells": [
  {
   "cell_type": "code",
   "execution_count": 1,
   "id": "5dda94fe",
   "metadata": {},
   "outputs": [],
   "source": [
    "import sympy as sym"
   ]
  },
  {
   "cell_type": "code",
   "execution_count": 2,
   "id": "fe7fd96c",
   "metadata": {},
   "outputs": [],
   "source": [
    "p = sym.symbols(\"p\")"
   ]
  },
  {
   "cell_type": "code",
   "execution_count": 5,
   "id": "66886a67",
   "metadata": {},
   "outputs": [],
   "source": [
    "A = sym.Matrix([[(1-p)**2, p*(1-p), p*(1-p), p**2], \n",
    "                [p*(1-p), (1-p)**2, p**2, p*(1-p)],\n",
    "                [p*(1-p), (1-p)**2, (1-p)**2, p*(1-p)],\n",
    "                [p**2, p*(1-p), p*(1-p), (1-p)**2]])"
   ]
  },
  {
   "cell_type": "code",
   "execution_count": 6,
   "id": "c34c48d2",
   "metadata": {},
   "outputs": [
    {
     "data": {
      "text/latex": [
       "$\\displaystyle \\left[\\begin{matrix}\\left(1 - p\\right)^{2} & p \\left(1 - p\\right) & p \\left(1 - p\\right) & p^{2}\\\\p \\left(1 - p\\right) & \\left(1 - p\\right)^{2} & p^{2} & p \\left(1 - p\\right)\\\\p \\left(1 - p\\right) & \\left(1 - p\\right)^{2} & \\left(1 - p\\right)^{2} & p \\left(1 - p\\right)\\\\p^{2} & p \\left(1 - p\\right) & p \\left(1 - p\\right) & \\left(1 - p\\right)^{2}\\end{matrix}\\right]$"
      ],
      "text/plain": [
       "Matrix([\n",
       "[(1 - p)**2,  p*(1 - p),  p*(1 - p),       p**2],\n",
       "[ p*(1 - p), (1 - p)**2,       p**2,  p*(1 - p)],\n",
       "[ p*(1 - p), (1 - p)**2, (1 - p)**2,  p*(1 - p)],\n",
       "[      p**2,  p*(1 - p),  p*(1 - p), (1 - p)**2]])"
      ]
     },
     "execution_count": 6,
     "metadata": {},
     "output_type": "execute_result"
    }
   ],
   "source": [
    "A"
   ]
  },
  {
   "cell_type": "code",
   "execution_count": 7,
   "id": "739dfdfd",
   "metadata": {},
   "outputs": [
    {
     "data": {
      "text/latex": [
       "$\\displaystyle \\left[\\begin{matrix}- \\frac{1}{2 p - 1} & 0 & - \\frac{p}{2 p^{2} - 3 p + 1} & 0\\\\- \\frac{p}{2 p^{2} - 3 p + 1} & - \\frac{1}{2 p - 1} & - \\frac{p^{2}}{2 p^{3} - 5 p^{2} + 4 p - 1} & - \\frac{p}{2 p^{2} - 3 p + 1}\\\\0 & \\frac{1}{2 p - 1} & - \\frac{1}{2 p - 1} & 0\\\\0 & 0 & - \\frac{p}{2 p^{2} - 3 p + 1} & - \\frac{1}{2 p - 1}\\end{matrix}\\right]$"
      ],
      "text/plain": [
       "Matrix([\n",
       "[         -1/(2*p - 1),            0,             -p/(2*p**2 - 3*p + 1),                     0],\n",
       "[-p/(2*p**2 - 3*p + 1), -1/(2*p - 1), -p**2/(2*p**3 - 5*p**2 + 4*p - 1), -p/(2*p**2 - 3*p + 1)],\n",
       "[                    0,  1/(2*p - 1),                      -1/(2*p - 1),                     0],\n",
       "[                    0,            0,             -p/(2*p**2 - 3*p + 1),          -1/(2*p - 1)]])"
      ]
     },
     "execution_count": 7,
     "metadata": {},
     "output_type": "execute_result"
    }
   ],
   "source": [
    "A.inv()"
   ]
  },
  {
   "cell_type": "code",
   "execution_count": 8,
   "id": "4c033e2d",
   "metadata": {},
   "outputs": [],
   "source": [
    "A_S = sym.Matrix([[(1-p)**2, p*(1-p), p**2], \n",
    "                [p*(1-p), (1-p)**2, p*(1-p)],\n",
    "                [p**2, p*(1-p), (1-p)**2]])"
   ]
  },
  {
   "cell_type": "code",
   "execution_count": 9,
   "id": "181da6c8",
   "metadata": {},
   "outputs": [
    {
     "data": {
      "text/latex": [
       "$\\displaystyle \\left[\\begin{matrix}\\left(1 - p\\right)^{2} & p \\left(1 - p\\right) & p^{2}\\\\p \\left(1 - p\\right) & \\left(1 - p\\right)^{2} & p \\left(1 - p\\right)\\\\p^{2} & p \\left(1 - p\\right) & \\left(1 - p\\right)^{2}\\end{matrix}\\right]$"
      ],
      "text/plain": [
       "Matrix([\n",
       "[(1 - p)**2,  p*(1 - p),       p**2],\n",
       "[ p*(1 - p), (1 - p)**2,  p*(1 - p)],\n",
       "[      p**2,  p*(1 - p), (1 - p)**2]])"
      ]
     },
     "execution_count": 9,
     "metadata": {},
     "output_type": "execute_result"
    }
   ],
   "source": [
    "A_S"
   ]
  },
  {
   "cell_type": "code",
   "execution_count": 10,
   "id": "34c6f868",
   "metadata": {},
   "outputs": [],
   "source": [
    "import copy"
   ]
  },
  {
   "cell_type": "code",
   "execution_count": 18,
   "id": "325539fe",
   "metadata": {},
   "outputs": [],
   "source": [
    "sums = []\n",
    "for j in range(3):\n",
    "    col_sum = 0\n",
    "    for i in range(3):\n",
    "        col_sum += A_S[i,j]\n",
    "    sums.append(col_sum)"
   ]
  },
  {
   "cell_type": "code",
   "execution_count": 26,
   "id": "b680761d",
   "metadata": {},
   "outputs": [],
   "source": [
    "A_S_reg = copy.deepcopy(A_S)\n",
    "for j in range(3):\n",
    "    for i in range(3):\n",
    "        A_S_reg[i,j] /= sums[j]"
   ]
  },
  {
   "cell_type": "code",
   "execution_count": 27,
   "id": "6f9392a5",
   "metadata": {},
   "outputs": [
    {
     "data": {
      "text/latex": [
       "$\\displaystyle \\left[\\begin{matrix}\\frac{\\left(1 - p\\right)^{2}}{p^{2} + p \\left(1 - p\\right) + \\left(1 - p\\right)^{2}} & \\frac{p \\left(1 - p\\right)}{2 p \\left(1 - p\\right) + \\left(1 - p\\right)^{2}} & \\frac{p^{2}}{p^{2} + p \\left(1 - p\\right) + \\left(1 - p\\right)^{2}}\\\\\\frac{p \\left(1 - p\\right)}{p^{2} + p \\left(1 - p\\right) + \\left(1 - p\\right)^{2}} & \\frac{\\left(1 - p\\right)^{2}}{2 p \\left(1 - p\\right) + \\left(1 - p\\right)^{2}} & \\frac{p \\left(1 - p\\right)}{p^{2} + p \\left(1 - p\\right) + \\left(1 - p\\right)^{2}}\\\\\\frac{p^{2}}{p^{2} + p \\left(1 - p\\right) + \\left(1 - p\\right)^{2}} & \\frac{p \\left(1 - p\\right)}{2 p \\left(1 - p\\right) + \\left(1 - p\\right)^{2}} & \\frac{\\left(1 - p\\right)^{2}}{p^{2} + p \\left(1 - p\\right) + \\left(1 - p\\right)^{2}}\\end{matrix}\\right]$"
      ],
      "text/plain": [
       "Matrix([\n",
       "[(1 - p)**2/(p**2 + p*(1 - p) + (1 - p)**2),  p*(1 - p)/(2*p*(1 - p) + (1 - p)**2),       p**2/(p**2 + p*(1 - p) + (1 - p)**2)],\n",
       "[ p*(1 - p)/(p**2 + p*(1 - p) + (1 - p)**2), (1 - p)**2/(2*p*(1 - p) + (1 - p)**2),  p*(1 - p)/(p**2 + p*(1 - p) + (1 - p)**2)],\n",
       "[      p**2/(p**2 + p*(1 - p) + (1 - p)**2),  p*(1 - p)/(2*p*(1 - p) + (1 - p)**2), (1 - p)**2/(p**2 + p*(1 - p) + (1 - p)**2)]])"
      ]
     },
     "execution_count": 27,
     "metadata": {},
     "output_type": "execute_result"
    }
   ],
   "source": [
    "A_S_reg"
   ]
  },
  {
   "cell_type": "code",
   "execution_count": 28,
   "id": "9c5949fd",
   "metadata": {},
   "outputs": [
    {
     "data": {
      "text/latex": [
       "$\\displaystyle \\left[\\begin{matrix}\\frac{- p^{2} + p - 1}{2 p - 1} & \\frac{- p^{3} + p^{2} - p}{2 p^{2} - 3 p + 1} & 0\\\\\\frac{p^{2} + p}{2 p - 1} & \\frac{2 p^{3} - p + 1}{2 p^{2} - 3 p + 1} & \\frac{p^{2} + p}{2 p - 1}\\\\0 & \\frac{- p^{3} + p^{2} - p}{2 p^{2} - 3 p + 1} & \\frac{- p^{2} + p - 1}{2 p - 1}\\end{matrix}\\right]$"
      ],
      "text/plain": [
       "Matrix([\n",
       "[(-p**2 + p - 1)/(2*p - 1), (-p**3 + p**2 - p)/(2*p**2 - 3*p + 1),                         0],\n",
       "[     (p**2 + p)/(2*p - 1),   (2*p**3 - p + 1)/(2*p**2 - 3*p + 1),      (p**2 + p)/(2*p - 1)],\n",
       "[                        0, (-p**3 + p**2 - p)/(2*p**2 - 3*p + 1), (-p**2 + p - 1)/(2*p - 1)]])"
      ]
     },
     "execution_count": 28,
     "metadata": {},
     "output_type": "execute_result"
    }
   ],
   "source": [
    "A_S_reg.inv()"
   ]
  },
  {
   "cell_type": "code",
   "execution_count": null,
   "id": "4da03f14",
   "metadata": {},
   "outputs": [],
   "source": []
  }
 ],
 "metadata": {
  "kernelspec": {
   "display_name": "Python 3 (ipykernel)",
   "language": "python",
   "name": "python3"
  },
  "language_info": {
   "codemirror_mode": {
    "name": "ipython",
    "version": 3
   },
   "file_extension": ".py",
   "mimetype": "text/x-python",
   "name": "python",
   "nbconvert_exporter": "python",
   "pygments_lexer": "ipython3",
   "version": "3.9.7"
  }
 },
 "nbformat": 4,
 "nbformat_minor": 5
}

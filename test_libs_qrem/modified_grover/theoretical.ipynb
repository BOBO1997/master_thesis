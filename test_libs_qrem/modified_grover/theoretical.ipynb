{
 "cells": [
  {
   "cell_type": "code",
   "execution_count": 1,
   "id": "a7b9057b",
   "metadata": {},
   "outputs": [],
   "source": [
    "import sympy as sym"
   ]
  },
  {
   "cell_type": "code",
   "execution_count": 2,
   "id": "deef1289",
   "metadata": {},
   "outputs": [],
   "source": [
    "p = sym.symbols(\"p\")"
   ]
  },
  {
   "cell_type": "code",
   "execution_count": 5,
   "id": "693be549",
   "metadata": {},
   "outputs": [],
   "source": [
    "A = sym.Matrix([[(1-p)**2, p*(1-p), p*(1-p), p**2], \n",
    "                [p*(1-p), (1-p)**2, p**2, p*(1-p)],\n",
    "                [p*(1-p), (1-p)**2, (1-p)**2, p*(1-p)],\n",
    "                [p**2, p*(1-p), p*(1-p), (1-p)**2]])"
   ]
  },
  {
   "cell_type": "code",
   "execution_count": 6,
   "id": "c30ed345",
   "metadata": {},
   "outputs": [
    {
     "data": {
      "text/latex": [
       "$\\displaystyle \\left[\\begin{matrix}\\left(1 - p\\right)^{2} & p \\left(1 - p\\right) & p \\left(1 - p\\right) & p^{2}\\\\p \\left(1 - p\\right) & \\left(1 - p\\right)^{2} & p^{2} & p \\left(1 - p\\right)\\\\p \\left(1 - p\\right) & \\left(1 - p\\right)^{2} & \\left(1 - p\\right)^{2} & p \\left(1 - p\\right)\\\\p^{2} & p \\left(1 - p\\right) & p \\left(1 - p\\right) & \\left(1 - p\\right)^{2}\\end{matrix}\\right]$"
      ],
      "text/plain": [
       "Matrix([\n",
       "[(1 - p)**2,  p*(1 - p),  p*(1 - p),       p**2],\n",
       "[ p*(1 - p), (1 - p)**2,       p**2,  p*(1 - p)],\n",
       "[ p*(1 - p), (1 - p)**2, (1 - p)**2,  p*(1 - p)],\n",
       "[      p**2,  p*(1 - p),  p*(1 - p), (1 - p)**2]])"
      ]
     },
     "execution_count": 6,
     "metadata": {},
     "output_type": "execute_result"
    }
   ],
   "source": [
    "A"
   ]
  },
  {
   "cell_type": "code",
   "execution_count": 7,
   "id": "eab7e9b9",
   "metadata": {},
   "outputs": [
    {
     "data": {
      "text/latex": [
       "$\\displaystyle \\left[\\begin{matrix}- \\frac{1}{2 p - 1} & 0 & - \\frac{p}{2 p^{2} - 3 p + 1} & 0\\\\- \\frac{p}{2 p^{2} - 3 p + 1} & - \\frac{1}{2 p - 1} & - \\frac{p^{2}}{2 p^{3} - 5 p^{2} + 4 p - 1} & - \\frac{p}{2 p^{2} - 3 p + 1}\\\\0 & \\frac{1}{2 p - 1} & - \\frac{1}{2 p - 1} & 0\\\\0 & 0 & - \\frac{p}{2 p^{2} - 3 p + 1} & - \\frac{1}{2 p - 1}\\end{matrix}\\right]$"
      ],
      "text/plain": [
       "Matrix([\n",
       "[         -1/(2*p - 1),            0,             -p/(2*p**2 - 3*p + 1),                     0],\n",
       "[-p/(2*p**2 - 3*p + 1), -1/(2*p - 1), -p**2/(2*p**3 - 5*p**2 + 4*p - 1), -p/(2*p**2 - 3*p + 1)],\n",
       "[                    0,  1/(2*p - 1),                      -1/(2*p - 1),                     0],\n",
       "[                    0,            0,             -p/(2*p**2 - 3*p + 1),          -1/(2*p - 1)]])"
      ]
     },
     "execution_count": 7,
     "metadata": {},
     "output_type": "execute_result"
    }
   ],
   "source": [
    "A.inv()"
   ]
  },
  {
   "cell_type": "code",
   "execution_count": 8,
   "id": "3eae4807",
   "metadata": {},
   "outputs": [],
   "source": [
    "A_S = sym.Matrix([[(1-p)**2, p*(1-p), p**2], \n",
    "                [p*(1-p), (1-p)**2, p*(1-p)],\n",
    "                [p**2, p*(1-p), (1-p)**2]])"
   ]
  },
  {
   "cell_type": "code",
   "execution_count": 9,
   "id": "59fbae24",
   "metadata": {},
   "outputs": [
    {
     "data": {
      "text/latex": [
       "$\\displaystyle \\left[\\begin{matrix}\\left(1 - p\\right)^{2} & p \\left(1 - p\\right) & p^{2}\\\\p \\left(1 - p\\right) & \\left(1 - p\\right)^{2} & p \\left(1 - p\\right)\\\\p^{2} & p \\left(1 - p\\right) & \\left(1 - p\\right)^{2}\\end{matrix}\\right]$"
      ],
      "text/plain": [
       "Matrix([\n",
       "[(1 - p)**2,  p*(1 - p),       p**2],\n",
       "[ p*(1 - p), (1 - p)**2,  p*(1 - p)],\n",
       "[      p**2,  p*(1 - p), (1 - p)**2]])"
      ]
     },
     "execution_count": 9,
     "metadata": {},
     "output_type": "execute_result"
    }
   ],
   "source": [
    "A_S"
   ]
  },
  {
   "cell_type": "code",
   "execution_count": 10,
   "id": "f4b696ce",
   "metadata": {},
   "outputs": [],
   "source": [
    "import copy"
   ]
  },
  {
   "cell_type": "code",
   "execution_count": 18,
   "id": "7c20dca1",
   "metadata": {},
   "outputs": [],
   "source": [
    "sums = []\n",
    "for j in range(3):\n",
    "    col_sum = 0\n",
    "    for i in range(3):\n",
    "        col_sum += A_S[i,j]\n",
    "    sums.append(col_sum)"
   ]
  },
  {
   "cell_type": "code",
   "execution_count": 26,
   "id": "93b3fa43",
   "metadata": {},
   "outputs": [],
   "source": [
    "A_S_reg = copy.deepcopy(A_S)\n",
    "for j in range(3):\n",
    "    for i in range(3):\n",
    "        A_S_reg[i,j] /= sums[j]"
   ]
  },
  {
   "cell_type": "code",
   "execution_count": 27,
   "id": "abf50cf2",
   "metadata": {},
   "outputs": [
    {
     "data": {
      "text/latex": [
       "$\\displaystyle \\left[\\begin{matrix}\\frac{\\left(1 - p\\right)^{2}}{p^{2} + p \\left(1 - p\\right) + \\left(1 - p\\right)^{2}} & \\frac{p \\left(1 - p\\right)}{2 p \\left(1 - p\\right) + \\left(1 - p\\right)^{2}} & \\frac{p^{2}}{p^{2} + p \\left(1 - p\\right) + \\left(1 - p\\right)^{2}}\\\\\\frac{p \\left(1 - p\\right)}{p^{2} + p \\left(1 - p\\right) + \\left(1 - p\\right)^{2}} & \\frac{\\left(1 - p\\right)^{2}}{2 p \\left(1 - p\\right) + \\left(1 - p\\right)^{2}} & \\frac{p \\left(1 - p\\right)}{p^{2} + p \\left(1 - p\\right) + \\left(1 - p\\right)^{2}}\\\\\\frac{p^{2}}{p^{2} + p \\left(1 - p\\right) + \\left(1 - p\\right)^{2}} & \\frac{p \\left(1 - p\\right)}{2 p \\left(1 - p\\right) + \\left(1 - p\\right)^{2}} & \\frac{\\left(1 - p\\right)^{2}}{p^{2} + p \\left(1 - p\\right) + \\left(1 - p\\right)^{2}}\\end{matrix}\\right]$"
      ],
      "text/plain": [
       "Matrix([\n",
       "[(1 - p)**2/(p**2 + p*(1 - p) + (1 - p)**2),  p*(1 - p)/(2*p*(1 - p) + (1 - p)**2),       p**2/(p**2 + p*(1 - p) + (1 - p)**2)],\n",
       "[ p*(1 - p)/(p**2 + p*(1 - p) + (1 - p)**2), (1 - p)**2/(2*p*(1 - p) + (1 - p)**2),  p*(1 - p)/(p**2 + p*(1 - p) + (1 - p)**2)],\n",
       "[      p**2/(p**2 + p*(1 - p) + (1 - p)**2),  p*(1 - p)/(2*p*(1 - p) + (1 - p)**2), (1 - p)**2/(p**2 + p*(1 - p) + (1 - p)**2)]])"
      ]
     },
     "execution_count": 27,
     "metadata": {},
     "output_type": "execute_result"
    }
   ],
   "source": [
    "A_S_reg"
   ]
  },
  {
   "cell_type": "code",
   "execution_count": 34,
   "id": "fd5d32d1",
   "metadata": {},
   "outputs": [],
   "source": [
    "A_S_reg_inv = A_S_reg.inv()"
   ]
  },
  {
   "cell_type": "code",
   "execution_count": 29,
   "id": "3db93b0c",
   "metadata": {},
   "outputs": [],
   "source": [
    "A_inv = A.inv()"
   ]
  },
  {
   "cell_type": "code",
   "execution_count": 31,
   "id": "bcbd5a67",
   "metadata": {},
   "outputs": [],
   "source": [
    "A_S_reg_expand = copy.deepcopy(A)"
   ]
  },
  {
   "cell_type": "code",
   "execution_count": 35,
   "id": "e894ee79",
   "metadata": {},
   "outputs": [],
   "source": [
    "A_S_reg_expand[0,0] = A_S_reg_inv[0,0]\n",
    "A_S_reg_expand[0,1] = A_S_reg_inv[0,1]\n",
    "A_S_reg_expand[0,2] = 0\n",
    "A_S_reg_expand[0,3] = A_S_reg_inv[0,2]\n",
    "A_S_reg_expand[1,0] = A_S_reg_inv[1,0]\n",
    "A_S_reg_expand[1,1] = A_S_reg_inv[1,1]\n",
    "A_S_reg_expand[1,2] = 0\n",
    "A_S_reg_expand[1,3] = A_S_reg_inv[1,2]\n",
    "A_S_reg_expand[2,0] = 0\n",
    "A_S_reg_expand[2,1] = 0\n",
    "A_S_reg_expand[2,2] = 0\n",
    "A_S_reg_expand[2,3] = 0\n",
    "A_S_reg_expand[3,0] = A_S_reg_inv[2,0]\n",
    "A_S_reg_expand[3,1] = A_S_reg_inv[2,1]\n",
    "A_S_reg_expand[3,2] = 0\n",
    "A_S_reg_expand[3,3] = A_S_reg_inv[2,2]"
   ]
  },
  {
   "cell_type": "code",
   "execution_count": 36,
   "id": "8fc7e4ff",
   "metadata": {},
   "outputs": [
    {
     "data": {
      "text/latex": [
       "$\\displaystyle \\left[\\begin{matrix}\\frac{- p^{2} + p - 1}{2 p - 1} & \\frac{- p^{3} + p^{2} - p}{2 p^{2} - 3 p + 1} & 0 & 0\\\\\\frac{p^{2} + p}{2 p - 1} & \\frac{2 p^{3} - p + 1}{2 p^{2} - 3 p + 1} & 0 & \\frac{p^{2} + p}{2 p - 1}\\\\0 & 0 & 0 & 0\\\\0 & \\frac{- p^{3} + p^{2} - p}{2 p^{2} - 3 p + 1} & 0 & \\frac{- p^{2} + p - 1}{2 p - 1}\\end{matrix}\\right]$"
      ],
      "text/plain": [
       "Matrix([\n",
       "[(-p**2 + p - 1)/(2*p - 1), (-p**3 + p**2 - p)/(2*p**2 - 3*p + 1), 0,                         0],\n",
       "[     (p**2 + p)/(2*p - 1),   (2*p**3 - p + 1)/(2*p**2 - 3*p + 1), 0,      (p**2 + p)/(2*p - 1)],\n",
       "[                        0,                                     0, 0,                         0],\n",
       "[                        0, (-p**3 + p**2 - p)/(2*p**2 - 3*p + 1), 0, (-p**2 + p - 1)/(2*p - 1)]])"
      ]
     },
     "execution_count": 36,
     "metadata": {},
     "output_type": "execute_result"
    }
   ],
   "source": [
    "A_S_reg_expand"
   ]
  },
  {
   "cell_type": "code",
   "execution_count": 37,
   "id": "08a1d15a",
   "metadata": {},
   "outputs": [
    {
     "data": {
      "text/latex": [
       "$\\displaystyle \\left[\\begin{matrix}- \\frac{1}{2 p - 1} & 0 & - \\frac{p}{2 p^{2} - 3 p + 1} & 0\\\\- \\frac{p}{2 p^{2} - 3 p + 1} & - \\frac{1}{2 p - 1} & - \\frac{p^{2}}{2 p^{3} - 5 p^{2} + 4 p - 1} & - \\frac{p}{2 p^{2} - 3 p + 1}\\\\0 & \\frac{1}{2 p - 1} & - \\frac{1}{2 p - 1} & 0\\\\0 & 0 & - \\frac{p}{2 p^{2} - 3 p + 1} & - \\frac{1}{2 p - 1}\\end{matrix}\\right]$"
      ],
      "text/plain": [
       "Matrix([\n",
       "[         -1/(2*p - 1),            0,             -p/(2*p**2 - 3*p + 1),                     0],\n",
       "[-p/(2*p**2 - 3*p + 1), -1/(2*p - 1), -p**2/(2*p**3 - 5*p**2 + 4*p - 1), -p/(2*p**2 - 3*p + 1)],\n",
       "[                    0,  1/(2*p - 1),                      -1/(2*p - 1),                     0],\n",
       "[                    0,            0,             -p/(2*p**2 - 3*p + 1),          -1/(2*p - 1)]])"
      ]
     },
     "execution_count": 37,
     "metadata": {},
     "output_type": "execute_result"
    }
   ],
   "source": [
    "A_inv"
   ]
  },
  {
   "cell_type": "code",
   "execution_count": 39,
   "id": "a7d289d8",
   "metadata": {},
   "outputs": [],
   "source": [
    "A_inv_S = copy.deepcopy(A_inv)"
   ]
  },
  {
   "cell_type": "code",
   "execution_count": 40,
   "id": "bbfd2f89",
   "metadata": {},
   "outputs": [],
   "source": [
    "A_inv_S[0,2] = 0\n",
    "A_inv_S[1,2] = 0\n",
    "A_inv_S[3,2] = 0\n",
    "A_inv_S[2,0] = 0\n",
    "A_inv_S[2,1] = 0\n",
    "A_inv_S[2,2] = 0\n",
    "A_inv_S[2,3] = 0"
   ]
  },
  {
   "cell_type": "code",
   "execution_count": 41,
   "id": "dfa1d3d8",
   "metadata": {},
   "outputs": [
    {
     "data": {
      "text/latex": [
       "$\\displaystyle \\left[\\begin{matrix}- \\frac{1}{2 p - 1} & 0 & 0 & 0\\\\- \\frac{p}{2 p^{2} - 3 p + 1} & - \\frac{1}{2 p - 1} & 0 & - \\frac{p}{2 p^{2} - 3 p + 1}\\\\0 & 0 & 0 & 0\\\\0 & 0 & 0 & - \\frac{1}{2 p - 1}\\end{matrix}\\right]$"
      ],
      "text/plain": [
       "Matrix([\n",
       "[         -1/(2*p - 1),            0, 0,                     0],\n",
       "[-p/(2*p**2 - 3*p + 1), -1/(2*p - 1), 0, -p/(2*p**2 - 3*p + 1)],\n",
       "[                    0,            0, 0,                     0],\n",
       "[                    0,            0, 0,          -1/(2*p - 1)]])"
      ]
     },
     "execution_count": 41,
     "metadata": {},
     "output_type": "execute_result"
    }
   ],
   "source": [
    "A_inv_S"
   ]
  },
  {
   "cell_type": "code",
   "execution_count": 38,
   "id": "e2a1cabf",
   "metadata": {},
   "outputs": [
    {
     "data": {
      "text/latex": [
       "$\\displaystyle \\left[\\begin{matrix}\\frac{- p^{2} + p - 1}{2 p - 1} + \\frac{1}{2 p - 1} & \\frac{- p^{3} + p^{2} - p}{2 p^{2} - 3 p + 1} & \\frac{p}{2 p^{2} - 3 p + 1} & 0\\\\\\frac{p}{2 p^{2} - 3 p + 1} + \\frac{p^{2} + p}{2 p - 1} & \\frac{2 p^{3} - p + 1}{2 p^{2} - 3 p + 1} + \\frac{1}{2 p - 1} & \\frac{p^{2}}{2 p^{3} - 5 p^{2} + 4 p - 1} & \\frac{p}{2 p^{2} - 3 p + 1} + \\frac{p^{2} + p}{2 p - 1}\\\\0 & - \\frac{1}{2 p - 1} & \\frac{1}{2 p - 1} & 0\\\\0 & \\frac{- p^{3} + p^{2} - p}{2 p^{2} - 3 p + 1} & \\frac{p}{2 p^{2} - 3 p + 1} & \\frac{- p^{2} + p - 1}{2 p - 1} + \\frac{1}{2 p - 1}\\end{matrix}\\right]$"
      ],
      "text/plain": [
       "Matrix([\n",
       "[    (-p**2 + p - 1)/(2*p - 1) + 1/(2*p - 1),             (-p**3 + p**2 - p)/(2*p**2 - 3*p + 1),             p/(2*p**2 - 3*p + 1),                                           0],\n",
       "[p/(2*p**2 - 3*p + 1) + (p**2 + p)/(2*p - 1), (2*p**3 - p + 1)/(2*p**2 - 3*p + 1) + 1/(2*p - 1), p**2/(2*p**3 - 5*p**2 + 4*p - 1), p/(2*p**2 - 3*p + 1) + (p**2 + p)/(2*p - 1)],\n",
       "[                                          0,                                      -1/(2*p - 1),                      1/(2*p - 1),                                           0],\n",
       "[                                          0,             (-p**3 + p**2 - p)/(2*p**2 - 3*p + 1),             p/(2*p**2 - 3*p + 1),     (-p**2 + p - 1)/(2*p - 1) + 1/(2*p - 1)]])"
      ]
     },
     "execution_count": 38,
     "metadata": {},
     "output_type": "execute_result"
    }
   ],
   "source": [
    "A_S_reg_expand - A_inv"
   ]
  },
  {
   "cell_type": "code",
   "execution_count": 42,
   "id": "dd76951e",
   "metadata": {},
   "outputs": [
    {
     "data": {
      "text/latex": [
       "$\\displaystyle \\left[\\begin{matrix}0 & 0 & \\frac{p}{2 p^{2} - 3 p + 1} & 0\\\\0 & 0 & \\frac{p^{2}}{2 p^{3} - 5 p^{2} + 4 p - 1} & 0\\\\0 & - \\frac{1}{2 p - 1} & \\frac{1}{2 p - 1} & 0\\\\0 & 0 & \\frac{p}{2 p^{2} - 3 p + 1} & 0\\end{matrix}\\right]$"
      ],
      "text/plain": [
       "Matrix([\n",
       "[0,            0,             p/(2*p**2 - 3*p + 1), 0],\n",
       "[0,            0, p**2/(2*p**3 - 5*p**2 + 4*p - 1), 0],\n",
       "[0, -1/(2*p - 1),                      1/(2*p - 1), 0],\n",
       "[0,            0,             p/(2*p**2 - 3*p + 1), 0]])"
      ]
     },
     "execution_count": 42,
     "metadata": {},
     "output_type": "execute_result"
    }
   ],
   "source": [
    "A_inv_S - A_inv"
   ]
  },
  {
   "cell_type": "code",
   "execution_count": null,
   "id": "4b2fed4b",
   "metadata": {},
   "outputs": [],
   "source": []
  }
 ],
 "metadata": {
  "kernelspec": {
   "display_name": "Python 3 (ipykernel)",
   "language": "python",
   "name": "python3"
  },
  "language_info": {
   "codemirror_mode": {
    "name": "ipython",
    "version": 3
   },
   "file_extension": ".py",
   "mimetype": "text/x-python",
   "name": "python",
   "nbconvert_exporter": "python",
   "pygments_lexer": "ipython3",
   "version": "3.9.7"
  }
 },
 "nbformat": 4,
 "nbformat_minor": 5
}

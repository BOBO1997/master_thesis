{
 "cells": [
  {
   "cell_type": "code",
   "execution_count": 1,
   "metadata": {},
   "outputs": [],
   "source": [
    "import sys\n",
    "sys.path.append('../../../')\n",
    "import pickle"
   ]
  },
  {
   "cell_type": "code",
   "execution_count": 2,
   "metadata": {},
   "outputs": [],
   "source": [
    "from qiskit.ignis.mitigation.measurement import TensoredMeasFitter\n",
    "from lib_grover import make_hit_list"
   ]
  },
  {
   "cell_type": "code",
   "execution_count": 3,
   "metadata": {},
   "outputs": [],
   "source": [
    "nbit = 10 # change this value to get discretized result closer to analytical results # 3\n",
    "#setting the number of shots and Grover operators.\n",
    "max_iter = 10\n",
    "number_grover_list = [1, 2, 4, 8, 16, 32, 64]  # list of number of Grover operators\n",
    "shots = 8192\n",
    "shots_list = [shots] * len(number_grover_list) # list of number of shots\n",
    "if len(shots_list) != len(number_grover_list):\n",
    "    raise Exception('The length of shots_list should be equal to the length eof number_grover_list.')"
   ]
  },
  {
   "cell_type": "code",
   "execution_count": 4,
   "metadata": {},
   "outputs": [],
   "source": [
    "with open(\"pkls/raw_hist_list_list.pkl\", \"rb\") as f:\n",
    "    hist_list_list = pickle.load(f)\n",
    "with open(\"pkls/meas_fitters.pkl\", \"rb\") as f:\n",
    "    meas_fitters = pickle.load(f)"
   ]
  },
  {
   "cell_type": "code",
   "execution_count": 5,
   "metadata": {},
   "outputs": [
    {
     "name": "stdout",
     "output_type": "stream",
     "text": [
      "iter 0 finished\n",
      "iter 1 finished\n",
      "iter 2 finished\n",
      "iter 3 finished\n",
      "iter 4 finished\n",
      "iter 5 finished\n",
      "iter 6 finished\n",
      "iter 7 finished\n",
      "iter 8 finished\n",
      "iter 9 finished\n"
     ]
    }
   ],
   "source": [
    "raw_hit_list_list = []\n",
    "for i in range(max_iter):\n",
    "    raw_hit_list_list.append( make_hit_list(hist_list_list[i]) )\n",
    "    print(\"iter\", i, \"finished\")"
   ]
  },
  {
   "cell_type": "code",
   "execution_count": 6,
   "metadata": {},
   "outputs": [],
   "source": [
    "with open(\"pkls/raw_hit_list_list.pkl\", \"wb\") as f:\n",
    "    pickle.dump(raw_hit_list_list, f)"
   ]
  }
 ],
 "metadata": {
  "kernelspec": {
   "display_name": "Python 3 (ipykernel)",
   "language": "python",
   "name": "python3"
  },
  "language_info": {
   "codemirror_mode": {
    "name": "ipython",
    "version": 3
   },
   "file_extension": ".py",
   "mimetype": "text/x-python",
   "name": "python",
   "nbconvert_exporter": "python",
   "pygments_lexer": "ipython3",
   "version": "3.9.7"
  }
 },
 "nbformat": 4,
 "nbformat_minor": 2
}

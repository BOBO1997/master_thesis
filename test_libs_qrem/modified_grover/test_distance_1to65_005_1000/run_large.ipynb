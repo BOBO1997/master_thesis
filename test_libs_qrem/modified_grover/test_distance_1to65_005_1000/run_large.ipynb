{
 "cells": [
  {
   "cell_type": "code",
   "execution_count": 1,
   "id": "2020ce9e",
   "metadata": {},
   "outputs": [],
   "source": [
    "import random\n",
    "import numpy as np\n",
    "import time"
   ]
  },
  {
   "cell_type": "code",
   "execution_count": 2,
   "id": "eb3ce731",
   "metadata": {},
   "outputs": [],
   "source": [
    "def sim_all_zero(n, shots = 8192, p = 0.05):\n",
    "    hist = dict()\n",
    "    for _ in range(shots):\n",
    "        all_zero = [\"0\" for _ in range(n)]\n",
    "        for i in range(n):\n",
    "            if random.uniform(0, 1) < p:\n",
    "                all_zero[n - 1 - i] = \"1\"\n",
    "        state = \"\".join(all_zero)\n",
    "        if state in hist:\n",
    "            hist[state] += 1\n",
    "        else:\n",
    "            hist[state] = 1\n",
    "    return hist"
   ]
  },
  {
   "cell_type": "code",
   "execution_count": 3,
   "id": "db81c5b9",
   "metadata": {},
   "outputs": [],
   "source": [
    "def sim_all_one(n, shots = 8192, p = 0.05):\n",
    "    hist = dict()\n",
    "    for _ in range(shots):\n",
    "        all_one = [\"1\" for _ in range(n)]\n",
    "        for i in range(n):\n",
    "            if random.uniform(0, 1) < p:\n",
    "                all_one[n - 1 - i] = \"0\"\n",
    "        state = \"\".join(all_one)\n",
    "        if state in hist:\n",
    "            hist[state] += 1\n",
    "        else:\n",
    "            hist[state] = 1\n",
    "    return hist"
   ]
  },
  {
   "cell_type": "code",
   "execution_count": 4,
   "id": "d505efe3",
   "metadata": {},
   "outputs": [],
   "source": [
    "def reduce_hist(hist, poses):\n",
    "    n = len(poses)\n",
    "    ret_hist = {format(i, \"0\" + str(n) + \"b\"): 0 for i in range(1 << n)}\n",
    "    for k, v in hist.items():\n",
    "        pos = \"\"\n",
    "        for i in range(n):\n",
    "            pos += k[poses[i]]\n",
    "        ret_hist[pos] += v\n",
    "    return ret_hist"
   ]
  },
  {
   "cell_type": "code",
   "execution_count": 5,
   "id": "623e3716",
   "metadata": {},
   "outputs": [],
   "source": [
    "def make_cal_matrices(n, zero_hist, one_hist, shots = 8192):\n",
    "    cal_matrices = []\n",
    "    for i in range(n)[::-1]:\n",
    "        cal_matrix = [[0,0],[0,0]]\n",
    "        reduced_zero_hist = reduce_hist(zero_hist, [i])\n",
    "        reduced_one_hist = reduce_hist(one_hist, [i])\n",
    "        cal_matrix[0][0] = reduced_zero_hist[\"0\"] / shots\n",
    "        cal_matrix[0][1] = reduced_one_hist[\"0\"] / shots\n",
    "        cal_matrix[1][0] = reduced_zero_hist[\"1\"] / shots\n",
    "        cal_matrix[1][1] = reduced_one_hist[\"1\"] / shots\n",
    "        cal_matrices.append(cal_matrix)\n",
    "    return np.array(cal_matrices)"
   ]
  },
  {
   "cell_type": "code",
   "execution_count": 6,
   "id": "16a98645",
   "metadata": {},
   "outputs": [],
   "source": [
    "shots = 1 << 10\n",
    "max_iter = 10\n",
    "min_size = 1\n",
    "max_size = 65"
   ]
  },
  {
   "cell_type": "code",
   "execution_count": 7,
   "id": "1c42a27a",
   "metadata": {},
   "outputs": [
    {
     "name": "stdout",
     "output_type": "stream",
     "text": [
      "size 1 finished (t =  0.034481334999998836 s)\n",
      "size 2 finished (t =  0.04985326999999984 s)\n",
      "size 3 finished (t =  0.056131533000002065 s)\n",
      "size 4 finished (t =  0.07259599799999705 s)\n",
      "size 5 finished (t =  0.0856654110000008 s)\n",
      "size 6 finished (t =  0.09620860100000073 s)\n",
      "size 7 finished (t =  0.1082703510000016 s)\n",
      "size 8 finished (t =  0.11628293700000114 s)\n",
      "size 9 finished (t =  0.12635189100000233 s)\n",
      "size 10 finished (t =  0.1432778980000009 s)\n",
      "size 11 finished (t =  0.15359566100000066 s)\n",
      "size 12 finished (t =  0.17568594399999782 s)\n",
      "size 13 finished (t =  0.17280379900000042 s)\n",
      "size 14 finished (t =  0.1878377649999976 s)\n",
      "size 15 finished (t =  0.2083159909999992 s)\n",
      "size 16 finished (t =  0.20668289299999998 s)\n",
      "size 17 finished (t =  0.23200891600000162 s)\n",
      "size 18 finished (t =  0.24670776299999986 s)\n",
      "size 19 finished (t =  0.2580926639999994 s)\n",
      "size 20 finished (t =  0.27749564800000215 s)\n",
      "size 21 finished (t =  0.29332727899999966 s)\n",
      "size 22 finished (t =  0.30966453699999974 s)\n",
      "size 23 finished (t =  0.32222696699999887 s)\n",
      "size 24 finished (t =  0.3267927230000005 s)\n",
      "size 25 finished (t =  0.3555551250000022 s)\n",
      "size 26 finished (t =  0.37250959600000044 s)\n",
      "size 27 finished (t =  0.3892157179999991 s)\n",
      "size 28 finished (t =  0.4053295569999982 s)\n",
      "size 29 finished (t =  0.413897532 s)\n",
      "size 30 finished (t =  0.4434897289999995 s)\n",
      "size 31 finished (t =  0.46213283400000194 s)\n",
      "size 32 finished (t =  0.4808768309999998 s)\n",
      "size 33 finished (t =  0.4921211009999986 s)\n",
      "size 34 finished (t =  0.5086384029999991 s)\n",
      "size 35 finished (t =  0.5302970170000023 s)\n",
      "size 36 finished (t =  0.5435758250000013 s)\n",
      "size 37 finished (t =  0.5769820320000001 s)\n",
      "size 38 finished (t =  0.5957694680000003 s)\n",
      "size 39 finished (t =  0.6105904209999977 s)\n",
      "size 40 finished (t =  0.6182575059999991 s)\n",
      "size 41 finished (t =  0.6283987080000024 s)\n",
      "size 42 finished (t =  0.6572219220000015 s)\n",
      "size 43 finished (t =  0.6743371039999992 s)\n",
      "size 44 finished (t =  0.6927384910000001 s)\n",
      "size 45 finished (t =  0.7254727519999982 s)\n",
      "size 46 finished (t =  0.724969943000005 s)\n",
      "size 47 finished (t =  0.7597660990000037 s)\n",
      "size 48 finished (t =  0.7765718890000031 s)\n",
      "size 49 finished (t =  0.7857955819999987 s)\n",
      "size 50 finished (t =  0.8233951039999994 s)\n",
      "size 51 finished (t =  0.8331534100000013 s)\n",
      "size 52 finished (t =  0.8577772410000009 s)\n",
      "size 53 finished (t =  0.8746656510000008 s)\n",
      "size 54 finished (t =  0.9069626870000036 s)\n",
      "size 55 finished (t =  0.9235633839999977 s)\n",
      "size 56 finished (t =  0.9410130469999984 s)\n",
      "size 57 finished (t =  0.9723817239999946 s)\n",
      "size 58 finished (t =  0.9727273479999994 s)\n",
      "size 59 finished (t =  1.0318503750000048 s)\n",
      "size 60 finished (t =  1.0242423350000038 s)\n",
      "size 61 finished (t =  1.0391429889999984 s)\n",
      "size 62 finished (t =  1.0414066660000003 s)\n",
      "size 63 finished (t =  1.088885789999999 s)\n",
      "size 64 finished (t =  1.0823718090000014 s)\n",
      "size 65 finished (t =  1.1195976740000049 s)\n"
     ]
    }
   ],
   "source": [
    "raw_hist_list_list = []\n",
    "cal_matrices_list_list = []\n",
    "for num_qubits in range(min_size, max_size + 1):\n",
    "    \n",
    "    t1 = time.perf_counter()\n",
    "            \n",
    "    raw_hist_list = []\n",
    "    cal_matrices_list = []\n",
    "    for i in range(max_iter):\n",
    "        raw_hist_list.append(sim_all_zero(num_qubits, shots = shots, p = 0.05))\n",
    "\n",
    "        zero_hist = sim_all_zero(num_qubits, shots = shots, p = 0.05)\n",
    "        one_hist = sim_all_one(num_qubits, shots = shots, p = 0.05)\n",
    "        cal_matrices_list.append(make_cal_matrices(num_qubits, zero_hist, one_hist, shots))\n",
    "    \n",
    "    raw_hist_list_list.append(raw_hist_list)\n",
    "    cal_matrices_list_list.append(cal_matrices_list)\n",
    "    \n",
    "    t2 = time.perf_counter()\n",
    "    \n",
    "    print(\"size\", num_qubits, \"finished (t = \", t2 - t1, \"s)\")"
   ]
  },
  {
   "cell_type": "code",
   "execution_count": 8,
   "id": "849a85ff",
   "metadata": {
    "scrolled": true
   },
   "outputs": [],
   "source": [
    "import pickle\n",
    "with open(\"pkls/raw_hist_list_list.pkl\", \"wb\") as f:\n",
    "    pickle.dump(raw_hist_list_list, f)\n",
    "with open(\"pkls/cal_matrices_list_list.pkl\", \"wb\") as f:\n",
    "    pickle.dump(cal_matrices_list_list, f)"
   ]
  }
 ],
 "metadata": {
  "kernelspec": {
   "display_name": "Python 3 (ipykernel)",
   "language": "python",
   "name": "python3"
  },
  "language_info": {
   "codemirror_mode": {
    "name": "ipython",
    "version": 3
   },
   "file_extension": ".py",
   "mimetype": "text/x-python",
   "name": "python",
   "nbconvert_exporter": "python",
   "pygments_lexer": "ipython3",
   "version": "3.9.7"
  }
 },
 "nbformat": 4,
 "nbformat_minor": 5
}

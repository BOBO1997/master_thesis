{
 "cells": [
  {
   "cell_type": "markdown",
   "metadata": {},
   "source": [
    "https://github.com/qiskit-community/qiskit-community-tutorials/blob/master/algorithms/SimpleIntegral_AEwoPE.ipynb"
   ]
  },
  {
   "cell_type": "markdown",
   "metadata": {},
   "source": [
    "# Amplitude Estimation without Quantum Fourier Transform and Controlled Grover Operators\n",
    "\n",
    "\n",
    "## Contributors\n",
    "\n",
    "Based on the paper [Amplitude Estimation without Phase Estimation](https://arxiv.org/abs/1904.10246). \n",
    "\n",
    "Written by Tomoki Tanaka (MUFG Bank), Shumpei Uno (Mizuho Information and Research Institute), Yohichi Suzuki (Keio University), and Rudy Raymond (IBM). \n",
    "\n",
    "\n",
    "## Summary\n",
    "\n",
    "This notebook contains experiments for performing amplitude estimation without inverse Quantum Fourier Transform (QFT) and controlled Q-operators (aka., Grover operators). It is known that without QFT and such controlled operators, the number of two-qubit gates (e.g., CNOT gates) required for running amplitude estimation can be reduced, and hence may be more appropriate to run quantum algorithms on Noisy Intermediate Scale Quantum (NISQ) devices. "
   ]
  },
  {
   "cell_type": "markdown",
   "metadata": {},
   "source": [
    "## Introduction\n",
    "\n",
    "We consider applying amplitude estimation, one of the most popular quantum algorithms, for Monte Carlo integration, a problem which is essential for financial applications. The purpose of Monte Carlo integration is to compute the expected value of a real-valued function $f$. Here, for simplicity we assume $f$ takes an $n$-bit input $x \\in \\{0,1\\}^n$, $0 \\le f(x) \\le 1$, and the probability of $f(x)$ is $p(x)$. Then, the expected value is \n",
    "$$\n",
    "\\mathbb{E}[f(x)] = \\sum_{x=0}^{2^n-1} p(x) f(x)\n",
    "$$\n",
    "\n",
    "To compute the Monte Carlo integration of $f$, let us assume that quantum circuits $\\mathcal{P}$ and $\\mathcal{R}$, that perform the following transformation, are given. \n",
    "\\begin{eqnarray}\n",
    "\\mathcal{P} \\left|0\\right>_n &=& \\sum_{x} \\sqrt{p(x)} \\left|x\\right>_n\\\\\n",
    "\\mathcal{R} \\left|x\\right>_n\\left|0\\right> &=& \\left|x\\right>_n \\left( \\sqrt{f(x)} \\left|1\\right> + \\sqrt{1-f(x)} \\left|0\\right>\\right) \n",
    "\\end{eqnarray}\n",
    "The former is for creating probability distribution $p(\\cdot)$, and the latter for computing $f(\\cdot)$. \n"
   ]
  },
  {
   "cell_type": "markdown",
   "metadata": {},
   "source": [
    "## Integral of sine functions\n",
    "\n",
    "Following Section 4.2 of [\"Amplitude Estimation without Phase Estimation\", by Suzuki et al.](https://arxiv.org/abs/1904.10246), we consider the following integral \n",
    "$$\n",
    "\\mathcal{I} = \\frac{1}{b_\\mbox{max}}\\int_{0}^{b_\\mbox{max}} \\sin^2{x}~dx,\n",
    "$$\n",
    "which is approximated with the following summation\n",
    "\n",
    "$$\n",
    "\\mathcal{S} = \\sum_{x=0}^{2^n-1} \\frac{1}{2^n} \\sin^2{\\left(  \\frac{\\left(x+1/2\\right)b_{\\mbox{max}}}{2^n}  \\right)}.\n",
    "$$\n",
    "\n",
    "This means, we the quantum circuits $\\mathcal{P}$ and $\\mathcal{R}$ are\n",
    "\\begin{eqnarray}\n",
    "\\mathcal{P} \\left|0\\right>_n \\left|0\\right> &=& \\frac{1}{\\sqrt{2^n}} \\sum_{x} \\left|x\\right>_n \\left|0\\right>\\\\\n",
    "\\mathcal{R} \\left|x\\right>_n\\left|0\\right> &=& \\left|x\\right>_n \\left(    \\sin{\\left(  \\frac{\\left(x+1/2\\right)b_{\\mbox{max}}}{2^n}  \\right)} \\left|1\\right> +   \\cos{\\left(  \\frac{\\left(x+1/2\\right)b_{\\mbox{max}}}{2^n}  \\right)} \\left|0\\right>\\right).\n",
    "\\end{eqnarray}\n",
    "\n",
    "$\\mathcal{P}$ can be realized with Hadamard gates, and $\\mathcal{R}$ with controlled-$Y$ rotation gates. "
   ]
  },
  {
   "cell_type": "markdown",
   "metadata": {},
   "source": [
    "### Approximating the integral\n",
    "\n",
    "It is easy to see that as we use large $n$ (i.e., more qubits) and thus larger $b_{\\mbox{max}}$, we can approximate the integral better as illustrated below. "
   ]
  },
  {
   "cell_type": "code",
   "execution_count": 1,
   "metadata": {},
   "outputs": [
    {
     "name": "stdout",
     "output_type": "stream",
     "text": [
      "Analytical Result: 0.12158663567967151\n",
      "Discretized Result: 0.1211973148745352\n"
     ]
    }
   ],
   "source": [
    "import math\n",
    "\n",
    "b_max = math.pi / 5  # upper limit of integral\n",
    "nbit = 3  # change this value to get discretized result closer to analytical results\n",
    "\n",
    "analyticResult = (b_max / 2.0 - math.sin(2 * b_max) / 4.0 ) / b_max  # the target integral can be analytically solved\n",
    "print(\"Analytical Result:\", analyticResult)\n",
    "\n",
    "ndiv = 2**nbit  #number of discretization \n",
    "discretizedResult = 0.0\n",
    "for i in range(ndiv):\n",
    "    discretizedResult += math.sin(b_max / ndiv * (i + 0.5))**2\n",
    "discretizedResult = discretizedResult / ndiv\n",
    "print(\"Discretized Result:\", discretizedResult)"
   ]
  },
  {
   "cell_type": "markdown",
   "metadata": {},
   "source": [
    "### Implementing circuits for Monte Carlo integration of sine functions\n",
    "\n",
    "Below are the functions to compute $\\mathcal{P}$, $\\mathcal{R}$, and their inverses."
   ]
  },
  {
   "cell_type": "code",
   "execution_count": 2,
   "metadata": {},
   "outputs": [],
   "source": [
    "def P(qc, qx, nbit):\n",
    "    \"\"\"\n",
    "        Generating uniform probability distribution\n",
    "            qc: quantum circuit\n",
    "            qx: quantum register\n",
    "            nbit: number of qubits\n",
    "        The inverse of P = P\n",
    "    \"\"\"\n",
    "    qc.h(qx)\n",
    "\n",
    "def R(qc, qx, qx_measure, nbit, b_max):\n",
    "    \"\"\"\n",
    "        Computing the integral function f()\n",
    "            qc: quantum circuit\n",
    "            qx: quantum register\n",
    "            qx_measure: quantum register for measurement\n",
    "            nbit: number of qubits\n",
    "            b_max: upper limit of integral            \n",
    "    \"\"\"\n",
    "    qc.ry(b_max / 2**nbit * 2 * 0.5, qx_measure)\n",
    "    for i in range(nbit):\n",
    "        qc.cu3(2**i * b_max / 2**nbit * 2, 0, 0, qx[i], qx_measure[0])\n",
    "\n",
    "def Rinv(qc, qx, qx_measure, nbit, b_max):\n",
    "    \"\"\"\n",
    "        The inverse of R\n",
    "            qc: quantum circuit\n",
    "            qx: quantum register\n",
    "            qx_measure : quantum register for measurement\n",
    "            nbit: number of qubits\n",
    "            b_max: upper limit of integral\n",
    "    \"\"\"\n",
    "    for i in range(nbit)[::-1]:\n",
    "        qc.cu3(-2**i * b_max / 2**nbit * 2, 0, 0, qx[i], qx_measure[0])\n",
    "    qc.ry(-b_max / 2**nbit * 2 * 0.5, qx_measure)"
   ]
  },
  {
   "cell_type": "markdown",
   "metadata": {},
   "source": [
    "### Grover Operators for Amplitude Estimation\n",
    "\n",
    "We can easily build quantum circuits for fast computation of the Monte Carlo integration as below. Here, we show functions to construct quantum circuits running with simulators. Running them on real devices should be easy by adjusting the parameters of the functions.  "
   ]
  },
  {
   "cell_type": "code",
   "execution_count": 3,
   "metadata": {},
   "outputs": [],
   "source": [
    "#Preparing qiskit environment\n",
    "from qiskit import ClassicalRegister, QuantumRegister, QuantumCircuit\n",
    "from qiskit import execute\n",
    "from qiskit import IBMQ\n",
    "from qiskit import Aer\n",
    "from scipy import optimize\n",
    "import sys, time\n",
    "import mpmath as mp\n",
    "import numpy as np\n",
    "import matplotlib.pyplot as plt"
   ]
  },
  {
   "cell_type": "code",
   "execution_count": 4,
   "metadata": {},
   "outputs": [],
   "source": [
    "# Functions to construct circuits for Grover operators\n",
    "def multi_control_NOT(qc, qx, qx_measure, qx_ancilla, nbit, b_max):\n",
    "    \"\"\"\n",
    "        Computing multi controlled NOT gate\n",
    "            qc: quantum circuit\n",
    "            qx: quantum register\n",
    "            qx_measure: quantum register for measurement\n",
    "            qx_ancilla: temporal quantum register for decomposing multi controlled NOT gate\n",
    "            nbit: number of qubits\n",
    "            b_max: upper limit of integral\n",
    "    \"\"\"\n",
    "\n",
    "    if nbit == 1:\n",
    "        qc.cz(qx[0], qx_measure[0])\n",
    "    elif nbit == 2:\n",
    "        qc.h(qx_measure[0])\n",
    "        qc.ccx(qx[0], qx[1], qx_measure[0])\n",
    "        qc.h(qx_measure[0])\n",
    "    elif nbit > 2.0:\n",
    "        qc.ccx(qx[0], qx[1], qx_ancilla[0])\n",
    "        for i in range(nbit - 3):\n",
    "            qc.ccx(qx[i + 2], qx_ancilla[i], qx_ancilla[i + 1])\n",
    "        qc.h(qx_measure[0])\n",
    "        qc.ccx(qx[nbit - 1], qx_ancilla[nbit - 3], qx_measure[0])\n",
    "        qc.h(qx_measure[0])\n",
    "        for i in range(nbit - 3)[::-1]:\n",
    "            qc.ccx(qx[i + 2], qx_ancilla[i], qx_ancilla[i + 1])\n",
    "        qc.ccx(qx[0], qx[1], qx_ancilla[0])\n",
    "\n",
    "\n",
    "def reflect(qc, qx, qx_measure, qx_ancilla, nbit, b_max):\n",
    "    \"\"\"\n",
    "        Computing reflection operator (I - 2|0><0|)\n",
    "            qc: quantum circuit\n",
    "            qx: quantum register\n",
    "            qx_measure: quantum register for measurement\n",
    "            qx_ancilla: temporal quantum register for decomposing multi controlled NOT gate\n",
    "            nbit: number of qubits\n",
    "            b_max: upper limit of integral\n",
    "    \"\"\"\n",
    "    for i in range(nbit):\n",
    "        qc.x(qx[i])\n",
    "    qc.x(qx_measure[0])\n",
    "    qc.barrier()    #format the circuits visualization\n",
    "    multi_control_NOT(qc, qx, qx_measure, qx_ancilla, nbit, b_max)\n",
    "    qc.barrier()    #format the circuits visualization\n",
    "    qc.x(qx_measure[0])\n",
    "    for i in range(nbit):\n",
    "        qc.x(qx[i])\n",
    "\n",
    "\n",
    "# This is to implement Grover Operator\n",
    "def Q_grover(qc, qx, qx_measure, qx_ancilla, nbit, b_max):\n",
    "    \"\"\"\n",
    "        The Grover operator: R P (I - 2|0><0|) P^+ R^+ U_psi_0 \n",
    "            qc: quantum circuit\n",
    "            qx: quantum register\n",
    "            qx_measure: quantum register for measurement\n",
    "            qx_ancilla: temporal quantum register for decomposing multi controlled NOT gate\n",
    "            nbit: number of qubits\n",
    "            b_max: upper limit of integral\n",
    "    \"\"\"\n",
    "    qc.z(qx_measure[0])\n",
    "    Rinv(qc, qx, qx_measure, nbit, b_max)\n",
    "    qc.barrier()    #format the circuits visualization\n",
    "    P(qc, qx, nbit)\n",
    "    reflect(qc, qx, qx_measure, qx_ancilla, nbit, b_max)\n",
    "    P(qc, qx, nbit)\n",
    "    qc.barrier()    #format the circuits visualization\n",
    "    R(qc, qx, qx_measure, nbit, b_max)"
   ]
  },
  {
   "cell_type": "markdown",
   "metadata": {},
   "source": [
    "## Amplitude Estimation without Phase Estimation\n",
    "\n",
    "To run the amplitude estimation without phase estimation of [Suzuki et al.](https://arxiv.org/abs/1904.10246), we must create quantum circuits that run Grover operators with various number of iterations. The function for creating such circuits is as the following."
   ]
  },
  {
   "cell_type": "code",
   "execution_count": 5,
   "metadata": {},
   "outputs": [],
   "source": [
    "def create_grover_circuit(numebr_grover_list, nbit, b_max):\n",
    "    \"\"\"\n",
    "        To generate quantum circuits running Grover operators with number of iterations in number_grover_list\n",
    "            numebr_grover_list: list of number of Grover operators\n",
    "            nbit: number of qubits (2**nbit = ndiv is the number of discretization in the Monte Carlo integration)\n",
    "            b_max: upper limit of integral\n",
    "        Return:\n",
    "            qc_list: quantum circuits with Grover operators as in number_grover_list\n",
    "    \"\"\"\n",
    "    qc_list = []\n",
    "    for igrover in range(len(numebr_grover_list)):\n",
    "        qx = QuantumRegister(nbit)\n",
    "        qx_measure = QuantumRegister(1)\n",
    "        cr = ClassicalRegister(1)\n",
    "        if (nbit > 2):\n",
    "            qx_ancilla = QuantumRegister(nbit - 2)\n",
    "            qc = QuantumCircuit(qx, qx_ancilla, qx_measure, cr)\n",
    "        else:\n",
    "            qx_ancilla = 0\n",
    "            qc = QuantumCircuit(qx, qx_measure, cr)\n",
    "        P(qc, qx, nbit)\n",
    "        R(qc, qx, qx_measure, nbit, b_max)\n",
    "        for ikAA in range(numebr_grover_list[igrover]):\n",
    "            Q_grover(qc, qx, qx_measure, qx_ancilla, nbit, b_max)\n",
    "        qc.measure(qx_measure[0], cr[0])\n",
    "        qc_list.append(qc)\n",
    "    return qc_list"
   ]
  },
  {
   "cell_type": "markdown",
   "metadata": {},
   "source": [
    "For example, quantum circuit with two Grover operators is shown below."
   ]
  },
  {
   "cell_type": "code",
   "execution_count": 6,
   "metadata": {},
   "outputs": [
    {
     "name": "stderr",
     "output_type": "stream",
     "text": [
      "/var/folders/vr/d82vcp297v78vk4sb0_nzzdc0000gn/T/ipykernel_17126/1138436192.py:22: DeprecationWarning: The QuantumCircuit.cu3 method is deprecated as of 0.16.0. It will be removed no earlier than 3 months after the release date. You should use the QuantumCircuit.cu method instead, where cu3(ϴ,φ,λ) = cu(ϴ,φ,λ,0).\n",
      "  qc.cu3(2**i * b_max / 2**nbit * 2, 0, 0, qx[i], qx_measure[0])\n",
      "/Users/yangbo/opt/anaconda3/envs/qiskitenv/lib/python3.9/site-packages/qiskit/visualization/qcstyle.py:340: UserWarning: style option/s (usepiformat, compress, cregbundle) is/are not supported\n",
      "  set_style(current_style, style)\n"
     ]
    },
    {
     "data": {
      "image/png": "[encoded data removed]",
      "text/plain": [
       "<Figure size 1604.58x806.68 with 1 Axes>"
      ]
     },
     "execution_count": 6,
     "metadata": {},
     "output_type": "execute_result"
    }
   ],
   "source": [
    "qc_list = create_grover_circuit([2], nbit, b_max)\n",
    "my_style = {'usepiformat': True, 'cregbundle': True,'compress': True }\n",
    "qc_list[0].draw(output=\"mpl\", style=my_style, plot_barriers=False )"
   ]
  },
  {
   "cell_type": "markdown",
   "metadata": {},
   "source": [
    "We also need a helper function to simultaneously run the quantum circuits that are returned by the above functions, as below. "
   ]
  },
  {
   "cell_type": "code",
   "execution_count": 7,
   "metadata": {},
   "outputs": [],
   "source": [
    "def run_grover(qc_list, number_grover_list, shots_list, backend):\n",
    "    \"\"\"\n",
    "        Run the quantum circuits returned by create_grover_circuit()\n",
    "            qc_list: list of quantum circuits\n",
    "            numebr_grover_list: list of number of Grover operators\n",
    "            shots_list:  list of number of shots\n",
    "            backend: name of backends\n",
    "        \n",
    "        Return:\n",
    "            hit_list: list of count of obserbving \"1\" for qc_list\n",
    "    \"\"\"\n",
    "    hit_list = []\n",
    "    for k in range(len(number_grover_list)):\n",
    "        job = execute(qc_list[k], backend=backend, shots=shots_list[k])\n",
    "        lapse = 0\n",
    "        interval = 0.00001\n",
    "        time.sleep(interval)\n",
    "        while job.status().name != 'DONE':\n",
    "            time.sleep(interval)\n",
    "            lapse += 1\n",
    "        counts = job.result().get_counts(qc_list[k]).get(\"1\", 0)\n",
    "        hit_list.append(counts)\n",
    "    return hit_list"
   ]
  },
  {
   "cell_type": "markdown",
   "metadata": {},
   "source": [
    "### Post processing to estimate the amplitude from results of various Grover Circuits\n",
    "\n",
    "At the heart of the techniques to estimate the amplitude without QFT and controlled Grover operators is a post processing function that combines the results of running Grover circuits with various number of iterations. Suppose we run Grover operators for $\\{m_0, m_1, \\ldots, m_M\\}$ times and for each of the $m_k$ run, we repeat it for $N_k$ times (i.e., the number of shots) of which we observe $h_k$ times of \"good\" states. Because the probability of observing \"good\" states is $\\sin^2((2m_k + 1)\\theta_a)$, the likelihood of observing $h_k$ times of \"good\" states is \n",
    "$$\n",
    "L_k(h_k;\\theta_a) = \\left( \\sin^2((2m_k + 1)\\theta_a) \\right)^{h_k} \\left( \\cos^2((2m_k + 1)\\theta_a) \\right)^{N_k - h_k}. \n",
    "$$\n",
    "\n",
    "When we have observation of good states as $\\mathbf{h} = \\{h_0, h_1, \\ldots, h_M\\}$, the likelihood function becomes\n",
    "$$\n",
    "L(\\mathbf{h};\\theta_a) = \\prod_{k=0}^M L_k(h_k;\\theta_a). \n",
    "$$\n",
    "\n",
    "From this, we can find an optimal value of $\\tilde{\\theta}_a$  that maximizes the above likelihood function, namely, \n",
    "$$\n",
    "\\tilde{\\theta}_a = \\mbox{arg}~\\mbox{max}_{\\theta} L(\\mathbf{h};\\theta_a).\n",
    "$$\n",
    "\n",
    "\n",
    "The function below is to compute such an optimal $\\tilde{\\theta}_a$. "
   ]
  },
  {
   "cell_type": "code",
   "execution_count": 8,
   "metadata": {
    "run_control": {
     "marked": true
    }
   },
   "outputs": [],
   "source": [
    "def calculate_theta(hit_list, number_grover_list, shots_list):\n",
    "    \"\"\"\n",
    "        calculate optimal theta values\n",
    "            hit_list: list of count of obserbving \"1\" for qc_list\n",
    "            numebr_grover_list: list of number of Grover operators        \n",
    "            shots_list: list of number of shots\n",
    "\n",
    "        Return:\n",
    "            thetaCandidate_list: list of optimal theta\n",
    "    \"\"\"\n",
    "\n",
    "    small = 1.e-15  # small valued parameter to avoid zero division\n",
    "    confidenceLevel = 5  # confidence level to determine the search range\n",
    "\n",
    "    thetaCandidate_list = []\n",
    "    rangeMin = 0.0 + small\n",
    "    rangeMax = 1.0 - small\n",
    "    for igrover in range(len(number_grover_list)):\n",
    "\n",
    "        def loglikelihood(p):\n",
    "            ret = np.zeros_like(p)\n",
    "            theta = np.arcsin(np.sqrt(p))\n",
    "            for n in range(igrover + 1):\n",
    "                ihit = hit_list[n]\n",
    "                arg = (2 * number_grover_list[n] + 1) * theta\n",
    "                ret = ret + 2 * ihit * np.log(np.abs(np.sin(arg))) + 2 * (\n",
    "                    shots_list[n] - ihit) * np.log(np.abs(np.cos(arg)))\n",
    "            return -ret\n",
    "\n",
    "        searchRange = (rangeMin, rangeMax)\n",
    "        searchResult = optimize.brute(loglikelihood, [searchRange])\n",
    "        pCandidate = searchResult[0]\n",
    "        thetaCandidate_list.append(np.arcsin(np.sqrt(pCandidate)))\n",
    "        perror = CalcErrorCramérRao(igrover, shots_list, pCandidate, number_grover_list)\n",
    "        rangeMax = min(pCandidate+confidenceLevel*perror,1.0 - small)\n",
    "        rangeMin = max(pCandidate-confidenceLevel*perror,0.0 + small)\n",
    "    return thetaCandidate_list"
   ]
  },
  {
   "cell_type": "markdown",
   "metadata": {},
   "source": [
    "### Remark about the Cramér-Rao bound\n",
    "\n",
    "The advantages offered by Amplitude Amplification without QFT and Controlled Grover operators depend on the design of sequences of number of Grover iterations $\\{m_k\\}$ and number of shots $\\{N_k\\}$ for each run of iteration. The Cramér-Rao inequality provides the lower bound of the error of estimating the amplitude by the following\n",
    "\n",
    "$$\n",
    "\\mbox{var}(\\tilde{a}) = \\mathbb{E}[(\\tilde{a} - \\mathbb{E}[\\tilde{a}])^2] \\ge \\frac{\\|1 + b'(a)\\|^2}{\\mathcal{I}(a)},\n",
    "$$\n",
    "where $b'(a)$ is the derivative of $b(a) \\equiv \\mathbb{E}[\\tilde{a} - a]$ with respect to $a$, and $\\mathcal{I}(a)$ is the so-called *Fisher information* defined as \n",
    "\n",
    "$$\n",
    "\\mathcal{I}(a) = \\mathbb{E}\\left[ \\left( \\frac{\\partial \\ln{L(x;a)} }{\\partial a} \\right)^2\\right].\n",
    "$$\n",
    "\n",
    "With regards to $\\{m_k\\}$ and $\\{N_k\\}$, the total number of oracle calls is given as \n",
    "$$\n",
    "N_{\\mbox{orac}} = \\sum_{k=0}^{M} N_k (2 m_k + 1),\n",
    "$$\n",
    "and the Fisher information is given as\n",
    "$$\n",
    "\\mathcal{I}(a) = \\frac{1}{a(1-a)} \\sum_{k=0}^{M} N_k(2m_k + 1)^2 \\le \\frac{1}{a(1-a)} N^2_{\\mbox{orac}}.\n",
    "$$\n",
    "\n",
    "Thus, the error $\\tilde{\\epsilon} = \\mathbb{E}[(\\tilde{a} - a)^2]$ satisfies \n",
    "$$\n",
    "\\tilde{\\epsilon} \\approx \\frac{1}{\\mathcal{I}(a)^{1/2}} \\ge \\frac{\\sqrt{a(1-a)}}{N_{\\mbox{orac}}}\n",
    "$$\n",
    "\n",
    "The bound above gives the lower bound of approximation error with regards to the approximated value $a$ and the total number of quantum oracle calls. Note that $\\tilde{\\epsilon} \\approx \\sqrt{a(1-a)}N_{\\mbox{orac}}^{1/2}$ for classical case, which is quadratically worse than the quantum case. "
   ]
  },
  {
   "cell_type": "markdown",
   "metadata": {},
   "source": [
    "## Testing the algorithm with simulators\n",
    "\n",
    "Let us run the algorithm with simulators"
   ]
  },
  {
   "cell_type": "code",
   "execution_count": 9,
   "metadata": {},
   "outputs": [],
   "source": [
    "#setting the number of shots and Grover operators.\n",
    "\n",
    "shots_list = [100, 100, 100, 100, 100, 100, 100]  # list of number of shots\n",
    "number_grover_list = [0, 1, 2, 4, 8, 16, 32]  # list of number of Grover operators\n",
    "if len(shots_list) != len(number_grover_list):\n",
    "    raise Exception(\n",
    "        'The length of shots_list should be equal to the length of number_grover_list.'\n",
    "    )\n",
    "\n",
    "backend = Aer.get_backend('qasm_simulator')"
   ]
  },
  {
   "cell_type": "markdown",
   "metadata": {},
   "source": [
    "We also need functions to evaluate the accuracy against the true value. "
   ]
  },
  {
   "cell_type": "code",
   "execution_count": 10,
   "metadata": {},
   "outputs": [],
   "source": [
    "def CalcErrorCramérRao(M, shot_list, p0, number_grover_list):\n",
    "    \"\"\"\n",
    "        calculate Cramér-Rao lower bound\n",
    "            M: upper limit of the sum in Fisher information \n",
    "            shots_list:  list of number of shots\n",
    "            p0: the true parameter value to be estimated\n",
    "            numebr_grover_list: list of number of Grover operators        \n",
    "\n",
    "        Return:\n",
    "            square root of Cramér-Rao lower bound:  lower bound on the standard deviation of unbiased estimators\n",
    "    \"\"\"\n",
    "    FisherInfo = 0\n",
    "    for k in range(M + 1):\n",
    "        Nk = shot_list[k]\n",
    "        mk = number_grover_list[k]\n",
    "        FisherInfo += Nk / (p0 * (1 - p0)) * (2 * mk + 1)**2\n",
    "    return np.sqrt(1 / FisherInfo)\n",
    "\n",
    "\n",
    "def CalcNumberOracleCalls(M, shot_list, number_grover_list):\n",
    "    \"\"\"\n",
    "        calculate the total number of oracle calls\n",
    "            M: upper limit of the sum in Fisher information \n",
    "            shots_list:  list of number of shots\n",
    "            numebr_grover_list: list of number of Grover operators        \n",
    "\n",
    "        Return:\n",
    "            Norac: the total number of oracle calls\n",
    "    \"\"\"\n",
    "    Norac = 0\n",
    "    for k in range(M + 1):\n",
    "        Nk = shots_list[k]\n",
    "        mk = number_grover_list[k]\n",
    "        Norac += Nk * (2 * mk + 1)\n",
    "    return Norac"
   ]
  },
  {
   "cell_type": "markdown",
   "metadata": {},
   "source": [
    "Finally, we can run the algorithm as below: "
   ]
  },
  {
   "cell_type": "code",
   "execution_count": 11,
   "metadata": {},
   "outputs": [],
   "source": [
    "qc_list = create_grover_circuit(number_grover_list, nbit,\n",
    "                                b_max)  # list of Grover circuits\n",
    "hit_list = run_grover(qc_list, number_grover_list, shots_list,\n",
    "                      backend)  # list of number of grover operators\n",
    "thetaCandidate_list = calculate_theta(\n",
    "    hit_list, number_grover_list, shots_list)  # list of estimated theta values"
   ]
  },
  {
   "cell_type": "markdown",
   "metadata": {},
   "source": [
    "We can now plot to find the correlation between the number of oracle calls and the approximation error of $\\theta_a$, as well as the lower bound of such error provided by the Cramér-Rao. "
   ]
  },
  {
   "cell_type": "code",
   "execution_count": 12,
   "metadata": {},
   "outputs": [
    {
     "data": {
      "image/png": "[encoded data removed]",
      "text/plain": [
       "<Figure size 432x288 with 1 Axes>"
      ]
     },
     "metadata": {
      "needs_background": "light"
     },
     "output_type": "display_data"
    }
   ],
   "source": [
    "error_list = np.abs(np.sin(thetaCandidate_list)**2 - discretizedResult)  # list of estimation errors\n",
    "OracleCall_list = []  # list of number of oracle calls\n",
    "ErrorCramérRao_list = []  # list of Cramér-Rao lower bound\n",
    "for i in range(len(number_grover_list)):\n",
    "    OracleCall_list.append(\n",
    "        CalcNumberOracleCalls(i, shots_list, number_grover_list))\n",
    "    ErrorCramérRao_list.append(\n",
    "        CalcErrorCramérRao(i, shots_list, discretizedResult, number_grover_list))\n",
    "\n",
    "p1 = plt.plot(OracleCall_list, error_list, 'o')\n",
    "p2 = plt.plot( OracleCall_list, ErrorCramérRao_list)\n",
    "plt.xscale('log')\n",
    "plt.xlabel(\"Number of oracle calls\")\n",
    "plt.yscale('log')\n",
    "plt.ylabel(\"Estimation Error\")\n",
    "plt.legend((p1[0], p2[0]), (\"Estimated Value\", \"Cramér-Rao\"))\n",
    "plt.show()"
   ]
  },
  {
   "cell_type": "markdown",
   "metadata": {},
   "source": [
    "From the above graph, we can see that the estimation error tends to decrease with the increase of the number oracle calls but has deviates from Cramér-Rao lower bound. Because Cramér-Rao lower bound express a bound for statistical mean of estimation errors, we now repeat the above algorithm $n_{trial}=100$ times to estimate the statisitical mean of errors."
   ]
  },
  {
   "cell_type": "code",
   "execution_count": 13,
   "metadata": {
    "scrolled": false
   },
   "outputs": [
    {
     "name": "stdout",
     "output_type": "stream",
     "text": [
      "n_trial=(100/100)\r"
     ]
    }
   ],
   "source": [
    "n_trial = 100\n",
    "error_list= np.zeros_like(number_grover_list,dtype=float)\n",
    "qc_list = create_grover_circuit(number_grover_list, nbit, b_max)\n",
    "for i in range(n_trial):\n",
    "    sys.stdout.write(\"n_trial=(%d/%d)\\r\" % ((i + 1), n_trial))\n",
    "    sys.stdout.flush()\n",
    "    hit_list = run_grover(qc_list, number_grover_list, shots_list, backend)\n",
    "    thetaCandidate_list = calculate_theta(hit_list, number_grover_list, shots_list)\n",
    "    error_list += (np.sin(thetaCandidate_list)**2 - discretizedResult)**2  # list of estimation errors\n",
    "\n",
    "error_list = (error_list / (n_trial-1))**(1/2)"
   ]
  },
  {
   "cell_type": "code",
   "execution_count": 14,
   "metadata": {},
   "outputs": [
    {
     "data": {
      "image/png": "[encoded data removed]",
      "text/plain": [
       "<Figure size 432x288 with 1 Axes>"
      ]
     },
     "metadata": {
      "needs_background": "light"
     },
     "output_type": "display_data"
    }
   ],
   "source": [
    "p1 = plt.plot(OracleCall_list, error_list, 'o')\n",
    "p2 = plt.plot(OracleCall_list, ErrorCramérRao_list)\n",
    "plt.xscale('log')\n",
    "plt.xlabel(\"Number of oracle calls\")\n",
    "plt.yscale('log')\n",
    "plt.ylabel(\"Estimation Error\")\n",
    "plt.legend((p1[0], p2[0]), (\"Estimated Value\", \"Cramér-Rao\"))\n",
    "plt.show()"
   ]
  },
  {
   "cell_type": "markdown",
   "metadata": {},
   "source": [
    "We can see that the above algorithm achieved almost as good as the lower bound provided by the Cramér-Rao bound. "
   ]
  }
 ],
 "metadata": {
  "kernelspec": {
   "display_name": "Python 3 (ipykernel)",
   "language": "python",
   "name": "python3"
  },
  "language_info": {
   "codemirror_mode": {
    "name": "ipython",
    "version": 3
   },
   "file_extension": ".py",
   "mimetype": "text/x-python",
   "name": "python",
   "nbconvert_exporter": "python",
   "pygments_lexer": "ipython3",
   "version": "3.9.7"
  }
 },
 "nbformat": 4,
 "nbformat_minor": 2
}

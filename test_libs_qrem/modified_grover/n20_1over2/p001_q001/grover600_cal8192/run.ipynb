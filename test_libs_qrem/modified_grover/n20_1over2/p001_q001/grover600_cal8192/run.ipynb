{
 "cells": [
  {
   "cell_type": "markdown",
   "metadata": {},
   "source": [
    "### Approximating the integral\n",
    "\n",
    "It is easy to see that as we use large $n$ (i.e., more qubits) and thus larger $b_{\\mbox{max}}$, we can approximate the integral better as illustrated below. "
   ]
  },
  {
   "cell_type": "code",
   "execution_count": 1,
   "metadata": {},
   "outputs": [],
   "source": [
    "import math\n",
    "import sys\n",
    "sys.path.append('../../../')\n",
    "from pprint import pprint\n",
    "import time\n",
    "import numpy as np\n",
    "import matplotlib.pyplot as plt\n",
    "plt.style.use('ggplot')\n",
    "import pickle\n",
    "seed = 42\n",
    "np.random.seed(seed)"
   ]
  },
  {
   "cell_type": "code",
   "execution_count": 2,
   "metadata": {},
   "outputs": [
    {
     "name": "stdout",
     "output_type": "stream",
     "text": [
      "Analytical Result: 0.07926450759605175\n",
      "Discretized Result: 0.07926450759603829\n",
      "theoretical theta:  0.2853981633974483\n"
     ]
    }
   ],
   "source": [
    "# analyticalResult = sin^2(θ)\n",
    "# θ = arcsin(sqrt(analyticalResult))\n",
    "b_max = 1 / 2  # upper limit of integral # 5\n",
    "nbit = 20  # change this value to get discretized result closer to analytical results # 3\n",
    "\n",
    "analyticResult = (b_max / 2.0 - math.sin(2 * b_max) / 4.0 ) / b_max  # the target integral can be analytically solved\n",
    "print(\"Analytical Result:\", analyticResult)\n",
    "\n",
    "ndiv = 2 ** nbit  #number of discretization \n",
    "discretizedResult = 0.0\n",
    "for i in range(ndiv):\n",
    "    discretizedResult += math.sin(b_max / ndiv * (i + 0.5)) ** 2\n",
    "discretizedResult = discretizedResult / ndiv\n",
    "print(\"Discretized Result:\", discretizedResult)\n",
    "\n",
    "print(\"theoretical theta: \", np.arcsin(np.sqrt(analyticResult)))"
   ]
  },
  {
   "cell_type": "code",
   "execution_count": 3,
   "metadata": {},
   "outputs": [],
   "source": [
    "from qiskit import QuantumRegister\n",
    "from qiskit import execute\n",
    "from qiskit import Aer\n",
    "from scipy import optimize\n",
    "from lib_grover import *"
   ]
  },
  {
   "cell_type": "code",
   "execution_count": 4,
   "metadata": {},
   "outputs": [],
   "source": [
    "#setting the number of shots and Grover operators.\n",
    "max_iter = 10\n",
    "number_grover_list = [1, 2, 4, 8, 16, 32, 64]  # list of number of Grover operators\n",
    "shots = 600\n",
    "shots_list = [shots] * len(number_grover_list) # list of number of shots\n",
    "if len(shots_list) != len(number_grover_list):\n",
    "    raise Exception('The length of shots_list should be equal to the length eof number_grover_list.')\n",
    "\n",
    "backend = Aer.get_backend('qasm_simulator')"
   ]
  },
  {
   "cell_type": "code",
   "execution_count": 5,
   "metadata": {},
   "outputs": [],
   "source": [
    "qc_list = create_grover_circuit(number_grover_list, nbit,b_max)  # list of Grover circuits"
   ]
  },
  {
   "cell_type": "code",
   "execution_count": 6,
   "metadata": {},
   "outputs": [
    {
     "name": "stderr",
     "output_type": "stream",
     "text": [
      "/var/folders/vr/d82vcp297v78vk4sb0_nzzdc0000gn/T/ipykernel_13814/1606680049.py:4: DeprecationWarning: The qiskit.ignis package is deprecated and has been supersceded by the qiskit-experiments project. Refer to the migration guide: https://github.com/Qiskit/qiskit-ignis#migration-guide on how to migrate to the new project.\n",
      "  import qiskit.ignis.mitigation as mit\n"
     ]
    }
   ],
   "source": [
    "from qiskit.providers.aer.noise import NoiseModel\n",
    "from qiskit.providers.aer.noise import QuantumError, ReadoutError\n",
    "from qiskit.providers.aer.noise import depolarizing_error\n",
    "import qiskit.ignis.mitigation as mit\n",
    "from qiskit.ignis.mitigation.measurement import tensored_meas_cal, TensoredMeasFitter\n",
    "from lib_grover import *\n",
    "noise_model = None"
   ]
  },
  {
   "cell_type": "code",
   "execution_count": 7,
   "metadata": {},
   "outputs": [],
   "source": [
    "noise_model = NoiseModel()\n",
    "for qi in range(nbit+1):\n",
    "    if qi >= 0:\n",
    "        read_err = ReadoutError([[0.990, 0.010],[0.010,0.990]])\n",
    "        noise_model.add_readout_error(read_err, [qi])"
   ]
  },
  {
   "cell_type": "code",
   "execution_count": 8,
   "metadata": {},
   "outputs": [
    {
     "name": "stdout",
     "output_type": "stream",
     "text": [
      "\n",
      "iter=(7/7)\n",
      "iter=(7/7)\n",
      "iter=(7/7)\n",
      "iter=(7/7)\n",
      "iter=(7/7)\n",
      "iter=(7/7)\n",
      "iter=(7/7)\n",
      "iter=(7/7)\n",
      "iter=(7/7)\n",
      "iter=(7/7))\n",
      "\n",
      " 254.07009792000002 s\n"
     ]
    }
   ],
   "source": [
    "t1 = time.perf_counter()\n",
    "raw_hist_list_list = []\n",
    "for i in range(max_iter): # set the seed as index i\n",
    "    sys.stdout.write(\"\\ntry=(%d/%d)\\r\" % ((i + 1), max_iter))\n",
    "    raw_hist_list = run_grover(qc_list, number_grover_list, shots_list, backend, noise_model=noise_model, seed_transpiler=i, seed_simulator=i)  # list of number of grover operators\n",
    "    raw_hist_list_list.append(raw_hist_list)\n",
    "    sys.stdout.flush()\n",
    "t2 = time.perf_counter()\n",
    "print(\"\\n\\n\", t2 - t1, \"s\")"
   ]
  },
  {
   "cell_type": "code",
   "execution_count": 9,
   "metadata": {},
   "outputs": [
    {
     "name": "stdout",
     "output_type": "stream",
     "text": [
      "iter 0 finished\n",
      "iter 1 finished\n",
      "iter 2 finished\n",
      "iter 3 finished\n",
      "iter 4 finished\n",
      "iter 5 finished\n",
      "iter 6 finished\n",
      "iter 7 finished\n",
      "iter 8 finished\n",
      "iter 9 finished\n"
     ]
    }
   ],
   "source": [
    "shots = 8192\n",
    "qr = QuantumRegister(nbit+1)\n",
    "mit_pattern = [[i] for i in range(nbit+1)]\n",
    "meas_calibs, state_labels = tensored_meas_cal(mit_pattern=mit_pattern, qr=qr, circlabel='mcal')\n",
    "meas_fitters = []\n",
    "for i in range(max_iter):\n",
    "    job = execute(meas_calibs, backend=Aer.get_backend('qasm_simulator'), shots=shots, noise_model=noise_model, seed_transpiler=100 * i, seed_simulator=100 * i)\n",
    "    cal_results = job.result()\n",
    "    meas_fitter = TensoredMeasFitter(cal_results, mit_pattern=mit_pattern)\n",
    "    meas_fitters.append(meas_fitter)\n",
    "    print(\"iter\", i, \"finished\")"
   ]
  },
  {
   "cell_type": "code",
   "execution_count": 10,
   "metadata": {},
   "outputs": [],
   "source": [
    "with open(\"pkls/raw_hist_list_list.pkl\", \"wb\") as f:\n",
    "    pickle.dump(raw_hist_list_list, f)"
   ]
  },
  {
   "cell_type": "code",
   "execution_count": 11,
   "metadata": {},
   "outputs": [],
   "source": [
    "with open(\"pkls/meas_fitters.pkl\", \"wb\") as f:\n",
    "    pickle.dump(meas_fitters, f)"
   ]
  }
 ],
 "metadata": {
  "kernelspec": {
   "display_name": "Python 3 (ipykernel)",
   "language": "python",
   "name": "python3"
  },
  "language_info": {
   "codemirror_mode": {
    "name": "ipython",
    "version": 3
   },
   "file_extension": ".py",
   "mimetype": "text/x-python",
   "name": "python",
   "nbconvert_exporter": "python",
   "pygments_lexer": "ipython3",
   "version": "3.9.7"
  }
 },
 "nbformat": 4,
 "nbformat_minor": 2
}

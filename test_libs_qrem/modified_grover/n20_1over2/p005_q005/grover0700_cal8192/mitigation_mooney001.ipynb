{
 "cells": [
  {
   "cell_type": "code",
   "execution_count": 1,
   "metadata": {},
   "outputs": [],
   "source": [
    "import sys\n",
    "sys.path.append('../../../')\n",
    "from pprint import pprint\n",
    "import time\n",
    "import pickle\n",
    "import importlib\n",
    "import numpy as np"
   ]
  },
  {
   "cell_type": "code",
   "execution_count": 2,
   "metadata": {},
   "outputs": [
    {
     "name": "stderr",
     "output_type": "stream",
     "text": [
      "/var/folders/vr/d82vcp297v78vk4sb0_nzzdc0000gn/T/ipykernel_17632/3778613500.py:1: DeprecationWarning: The qiskit.ignis package is deprecated and has been supersceded by the qiskit-experiments project. Refer to the migration guide: https://github.com/Qiskit/qiskit-ignis#migration-guide on how to migrate to the new project.\n",
      "  from qiskit.ignis.mitigation.measurement import TensoredMeasFitter\n"
     ]
    }
   ],
   "source": [
    "from qiskit.ignis.mitigation.measurement import TensoredMeasFitter\n",
    "from lib_grover import make_hit_list\n",
    "from libs_qrem import MooneyEtalFilter"
   ]
  },
  {
   "cell_type": "code",
   "execution_count": 3,
   "metadata": {},
   "outputs": [],
   "source": [
    "nbit = 20 # change this value to get discretized result closer to analytical results # 3\n",
    "max_iter = 10"
   ]
  },
  {
   "cell_type": "code",
   "execution_count": 4,
   "metadata": {},
   "outputs": [],
   "source": [
    "with open(\"pkls/raw_hist_list_list.pkl\", \"rb\") as f:\n",
    "    raw_hist_list_list = pickle.load(f)\n",
    "with open(\"pkls/meas_fitters.pkl\", \"rb\") as f:\n",
    "    meas_fitters = pickle.load(f)"
   ]
  },
  {
   "cell_type": "code",
   "execution_count": 5,
   "metadata": {},
   "outputs": [
    {
     "name": "stdout",
     "output_type": "stream",
     "text": [
      "size 0 finished\n",
      "length of mooney001_mitigator_list:  10\n"
     ]
    }
   ],
   "source": [
    "mooney001_mitigator_list = []\n",
    "for i in range(0, max_iter):\n",
    "    mooney001_mitigator_list.append(MooneyEtalFilter(nbit + 1, meas_fitters[i].cal_matrices))\n",
    "    if i % 10 == 0:\n",
    "        print(\"size\", i, \"finished\")\n",
    "print(\"length of mooney001_mitigator_list: \", len(mooney001_mitigator_list))"
   ]
  },
  {
   "cell_type": "code",
   "execution_count": 6,
   "metadata": {},
   "outputs": [],
   "source": [
    "def get_info(mitigator):\n",
    "    return {# \"exact_one_norm_of_reduced_inv_A\": mitigator.exact_one_norm_of_reduced_inv_A(),\n",
    "            \"mitigated_hist\": mitigator.mitigated_hist(),\n",
    "            \"times\": mitigator.times(),\n",
    "            \"mitigation_stddev\": mitigator.mitigation_stddev(norm_type = \"exact\"),\n",
    "            }"
   ]
  },
  {
   "cell_type": "code",
   "execution_count": 7,
   "metadata": {
    "scrolled": true
   },
   "outputs": [
    {
     "name": "stdout",
     "output_type": "stream",
     "text": [
      "Cannot compute the standard deviation of mitigation.\n",
      "Cannot compute the standard deviation of mitigation.\n",
      "Cannot compute the standard deviation of mitigation.\n",
      "Cannot compute the standard deviation of mitigation.\n",
      "Cannot compute the standard deviation of mitigation.\n",
      "Cannot compute the standard deviation of mitigation.\n",
      "Cannot compute the standard deviation of mitigation.\n",
      "iter 0 finished\n",
      "Cannot compute the standard deviation of mitigation.\n",
      "Cannot compute the standard deviation of mitigation.\n",
      "Cannot compute the standard deviation of mitigation.\n",
      "Cannot compute the standard deviation of mitigation.\n",
      "Cannot compute the standard deviation of mitigation.\n",
      "Cannot compute the standard deviation of mitigation.\n",
      "Cannot compute the standard deviation of mitigation.\n",
      "iter 1 finished\n",
      "Cannot compute the standard deviation of mitigation.\n",
      "Cannot compute the standard deviation of mitigation.\n",
      "Cannot compute the standard deviation of mitigation.\n",
      "Cannot compute the standard deviation of mitigation.\n",
      "Cannot compute the standard deviation of mitigation.\n",
      "Cannot compute the standard deviation of mitigation.\n",
      "Cannot compute the standard deviation of mitigation.\n",
      "iter 2 finished\n",
      "Cannot compute the standard deviation of mitigation.\n",
      "Cannot compute the standard deviation of mitigation.\n",
      "Cannot compute the standard deviation of mitigation.\n",
      "Cannot compute the standard deviation of mitigation.\n",
      "Cannot compute the standard deviation of mitigation.\n",
      "Cannot compute the standard deviation of mitigation.\n",
      "Cannot compute the standard deviation of mitigation.\n",
      "iter 3 finished\n",
      "Cannot compute the standard deviation of mitigation.\n",
      "Cannot compute the standard deviation of mitigation.\n",
      "Cannot compute the standard deviation of mitigation.\n",
      "Cannot compute the standard deviation of mitigation.\n",
      "Cannot compute the standard deviation of mitigation.\n",
      "Cannot compute the standard deviation of mitigation.\n",
      "Cannot compute the standard deviation of mitigation.\n",
      "iter 4 finished\n",
      "Cannot compute the standard deviation of mitigation.\n",
      "Cannot compute the standard deviation of mitigation.\n",
      "Cannot compute the standard deviation of mitigation.\n",
      "Cannot compute the standard deviation of mitigation.\n",
      "Cannot compute the standard deviation of mitigation.\n",
      "Cannot compute the standard deviation of mitigation.\n",
      "Cannot compute the standard deviation of mitigation.\n",
      "iter 5 finished\n",
      "Cannot compute the standard deviation of mitigation.\n",
      "Cannot compute the standard deviation of mitigation.\n",
      "Cannot compute the standard deviation of mitigation.\n",
      "Cannot compute the standard deviation of mitigation.\n",
      "Cannot compute the standard deviation of mitigation.\n",
      "Cannot compute the standard deviation of mitigation.\n",
      "Cannot compute the standard deviation of mitigation.\n",
      "iter 6 finished\n",
      "Cannot compute the standard deviation of mitigation.\n",
      "Cannot compute the standard deviation of mitigation.\n",
      "Cannot compute the standard deviation of mitigation.\n",
      "Cannot compute the standard deviation of mitigation.\n",
      "Cannot compute the standard deviation of mitigation.\n",
      "Cannot compute the standard deviation of mitigation.\n",
      "Cannot compute the standard deviation of mitigation.\n",
      "iter 7 finished\n",
      "Cannot compute the standard deviation of mitigation.\n",
      "Cannot compute the standard deviation of mitigation.\n",
      "Cannot compute the standard deviation of mitigation.\n",
      "Cannot compute the standard deviation of mitigation.\n",
      "Cannot compute the standard deviation of mitigation.\n",
      "Cannot compute the standard deviation of mitigation.\n",
      "Cannot compute the standard deviation of mitigation.\n",
      "iter 8 finished\n",
      "Cannot compute the standard deviation of mitigation.\n",
      "Cannot compute the standard deviation of mitigation.\n",
      "Cannot compute the standard deviation of mitigation.\n",
      "Cannot compute the standard deviation of mitigation.\n",
      "Cannot compute the standard deviation of mitigation.\n",
      "Cannot compute the standard deviation of mitigation.\n",
      "Cannot compute the standard deviation of mitigation.\n",
      "iter 9 finished\n"
     ]
    }
   ],
   "source": [
    "mooney001_info_list_list = []\n",
    "mooney001_hit_list_list = []\n",
    "for i, raw_hist_list in enumerate(raw_hist_list_list):\n",
    "    mooney001_info_list = []\n",
    "    mooney001_hist_list = []\n",
    "    for raw_hist in raw_hist_list:\n",
    "        mooney001_hist_list.append( mooney001_mitigator_list[i].apply(raw_hist) )\n",
    "        mooney001_info_list.append( get_info(mooney001_mitigator_list[i]) )\n",
    "    mooney001_hit_list_list.append( make_hit_list(mooney001_hist_list) )\n",
    "    mooney001_info_list_list.append( mooney001_info_list )\n",
    "    print(\"iter\", i, \"finished\")"
   ]
  },
  {
   "cell_type": "code",
   "execution_count": 8,
   "metadata": {},
   "outputs": [],
   "source": [
    "with open(\"pkls/mooney001_info_list_list.pkl\", \"wb\") as f:\n",
    "    pickle.dump(mooney001_info_list_list, f)\n",
    "with open(\"pkls/mooney001_hit_list_list.pkl\", \"wb\") as f:\n",
    "    pickle.dump(mooney001_hit_list_list, f)"
   ]
  }
 ],
 "metadata": {
  "kernelspec": {
   "display_name": "Python 3 (ipykernel)",
   "language": "python",
   "name": "python3"
  },
  "language_info": {
   "codemirror_mode": {
    "name": "ipython",
    "version": 3
   },
   "file_extension": ".py",
   "mimetype": "text/x-python",
   "name": "python",
   "nbconvert_exporter": "python",
   "pygments_lexer": "ipython3",
   "version": "3.9.7"
  }
 },
 "nbformat": 4,
 "nbformat_minor": 2
}

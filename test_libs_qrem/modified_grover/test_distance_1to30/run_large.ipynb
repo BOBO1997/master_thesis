{
 "cells": [
  {
   "cell_type": "code",
   "execution_count": 1,
   "id": "2020ce9e",
   "metadata": {},
   "outputs": [],
   "source": [
    "import random\n",
    "import numpy as np\n",
    "import time"
   ]
  },
  {
   "cell_type": "code",
   "execution_count": 2,
   "id": "eb3ce731",
   "metadata": {},
   "outputs": [],
   "source": [
    "def sim_all_zero(n, shots = 8192, p = 0.05):\n",
    "    hist = dict()\n",
    "    for _ in range(shots):\n",
    "        all_zero = [\"0\" for _ in range(n)]\n",
    "        for i in range(n):\n",
    "            if random.uniform(0, 1) < p:\n",
    "                all_zero[n - 1 - i] = \"1\"\n",
    "        state = \"\".join(all_zero)\n",
    "        if state in hist:\n",
    "            hist[state] += 1\n",
    "        else:\n",
    "            hist[state] = 1\n",
    "    return hist"
   ]
  },
  {
   "cell_type": "code",
   "execution_count": 3,
   "id": "db81c5b9",
   "metadata": {},
   "outputs": [],
   "source": [
    "def sim_all_one(n, shots = 8192, p = 0.05):\n",
    "    hist = dict()\n",
    "    for _ in range(shots):\n",
    "        all_one = [\"1\" for _ in range(n)]\n",
    "        for i in range(n):\n",
    "            if random.uniform(0, 1) < p:\n",
    "                all_one[n - 1 - i] = \"0\"\n",
    "        state = \"\".join(all_one)\n",
    "        if state in hist:\n",
    "            hist[state] += 1\n",
    "        else:\n",
    "            hist[state] = 1\n",
    "    return hist"
   ]
  },
  {
   "cell_type": "code",
   "execution_count": 4,
   "id": "d505efe3",
   "metadata": {},
   "outputs": [],
   "source": [
    "def reduce_hist(hist, poses):\n",
    "    n = len(poses)\n",
    "    ret_hist = {format(i, \"0\" + str(n) + \"b\"): 0 for i in range(1 << n)}\n",
    "    for k, v in hist.items():\n",
    "        pos = \"\"\n",
    "        for i in range(n):\n",
    "            pos += k[poses[i]]\n",
    "        ret_hist[pos] += v\n",
    "    return ret_hist"
   ]
  },
  {
   "cell_type": "code",
   "execution_count": 5,
   "id": "623e3716",
   "metadata": {},
   "outputs": [],
   "source": [
    "def make_cal_matrices(n, zero_hist, one_hist, shots = 8192):\n",
    "    cal_matrices = []\n",
    "    for i in range(n)[::-1]:\n",
    "        cal_matrix = [[0,0],[0,0]]\n",
    "        reduced_zero_hist = reduce_hist(zero_hist, [i])\n",
    "        reduced_one_hist = reduce_hist(one_hist, [i])\n",
    "        cal_matrix[0][0] = reduced_zero_hist[\"0\"] / shots\n",
    "        cal_matrix[0][1] = reduced_one_hist[\"0\"] / shots\n",
    "        cal_matrix[1][0] = reduced_zero_hist[\"1\"] / shots\n",
    "        cal_matrix[1][1] = reduced_one_hist[\"1\"] / shots\n",
    "        cal_matrices.append(cal_matrix)\n",
    "    return np.array(cal_matrices)"
   ]
  },
  {
   "cell_type": "code",
   "execution_count": 6,
   "id": "16a98645",
   "metadata": {},
   "outputs": [],
   "source": [
    "shots = 1 << 13\n",
    "max_iter = 10\n",
    "min_size = 1\n",
    "max_size = 65"
   ]
  },
  {
   "cell_type": "code",
   "execution_count": 7,
   "id": "1c42a27a",
   "metadata": {},
   "outputs": [
    {
     "name": "stdout",
     "output_type": "stream",
     "text": [
      "size 1 finished (t =  0.2688300909999999 s)\n",
      "size 2 finished (t =  0.3736372489999997 s)\n",
      "size 3 finished (t =  0.47618951400000054 s)\n",
      "size 4 finished (t =  0.5596016869999998 s)\n",
      "size 5 finished (t =  0.6250846569999995 s)\n",
      "size 6 finished (t =  0.7120821339999992 s)\n",
      "size 7 finished (t =  0.7927393830000007 s)\n",
      "size 8 finished (t =  0.8826248690000007 s)\n",
      "size 9 finished (t =  0.9910822560000003 s)\n",
      "size 10 finished (t =  1.0648109420000011 s)\n",
      "size 11 finished (t =  1.1743601449999996 s)\n",
      "size 12 finished (t =  1.2101397760000001 s)\n",
      "size 13 finished (t =  1.2890651070000008 s)\n",
      "size 14 finished (t =  1.3828004520000015 s)\n",
      "size 15 finished (t =  1.4774444459999998 s)\n",
      "size 16 finished (t =  1.5512748459999983 s)\n",
      "size 17 finished (t =  1.6613170100000012 s)\n",
      "size 18 finished (t =  1.7573542009999983 s)\n",
      "size 19 finished (t =  1.857994252000001 s)\n",
      "size 20 finished (t =  1.9439984550000027 s)\n",
      "size 21 finished (t =  2.0390685459999993 s)\n",
      "size 22 finished (t =  2.1293902950000003 s)\n",
      "size 23 finished (t =  2.244885656000001 s)\n",
      "size 24 finished (t =  2.5320958379999965 s)\n",
      "size 25 finished (t =  2.4945004719999986 s)\n",
      "size 26 finished (t =  2.757396060000005 s)\n",
      "size 27 finished (t =  2.728795548000001 s)\n",
      "size 28 finished (t =  2.8202068900000015 s)\n",
      "size 29 finished (t =  2.933584940000003 s)\n",
      "size 30 finished (t =  3.0598836209999973 s)\n",
      "size 31 finished (t =  3.170192680999996 s)\n",
      "size 32 finished (t =  3.363169820000003 s)\n",
      "size 33 finished (t =  3.4354761069999995 s)\n",
      "size 34 finished (t =  3.558458211999998 s)\n",
      "size 35 finished (t =  3.745236171000002 s)\n",
      "size 36 finished (t =  3.8593759070000004 s)\n",
      "size 37 finished (t =  3.9755402290000035 s)\n",
      "size 38 finished (t =  4.378560753000002 s)\n",
      "size 39 finished (t =  4.263643814999995 s)\n",
      "size 40 finished (t =  4.609116212999993 s)\n",
      "size 41 finished (t =  4.689954626999992 s)\n",
      "size 42 finished (t =  5.117250632000008 s)\n",
      "size 43 finished (t =  5.181535857 s)\n",
      "size 44 finished (t =  5.182085060999995 s)\n",
      "size 45 finished (t =  5.319466041999988 s)\n",
      "size 46 finished (t =  5.471831862999991 s)\n",
      "size 47 finished (t =  5.685765836000016 s)\n",
      "size 48 finished (t =  5.944419184999987 s)\n",
      "size 49 finished (t =  6.023854311999997 s)\n",
      "size 50 finished (t =  6.275129238999995 s)\n",
      "size 51 finished (t =  6.422587510999989 s)\n",
      "size 52 finished (t =  6.331124404999997 s)\n",
      "size 53 finished (t =  6.526237416000015 s)\n",
      "size 54 finished (t =  6.664714594999992 s)\n",
      "size 55 finished (t =  6.995577617999999 s)\n",
      "size 56 finished (t =  7.153169896999998 s)\n",
      "size 57 finished (t =  7.4076906679999865 s)\n",
      "size 58 finished (t =  7.759129887 s)\n",
      "size 59 finished (t =  7.693578166000009 s)\n",
      "size 60 finished (t =  7.733164139999985 s)\n",
      "size 61 finished (t =  8.003552538000008 s)\n",
      "size 62 finished (t =  8.254958802000004 s)\n",
      "size 63 finished (t =  8.284337386999994 s)\n",
      "size 64 finished (t =  8.649606683000002 s)\n",
      "size 65 finished (t =  8.555235430999971 s)\n"
     ]
    }
   ],
   "source": [
    "raw_hist_list_list = []\n",
    "cal_matrices_list_list = []\n",
    "for num_qubits in range(min_size, max_size + 1):\n",
    "    \n",
    "    t1 = time.perf_counter()\n",
    "            \n",
    "    raw_hist_list = []\n",
    "    cal_matrices_list = []\n",
    "    for i in range(max_iter):\n",
    "        raw_hist_list.append(sim_all_zero(num_qubits, shots = shots, p = 0.05))\n",
    "\n",
    "        zero_hist = sim_all_zero(num_qubits, shots = shots, p = 0.05)\n",
    "        one_hist = sim_all_one(num_qubits, shots = shots, p = 0.05)\n",
    "        cal_matrices_list.append(make_cal_matrices(num_qubits, zero_hist, one_hist, shots))\n",
    "    \n",
    "    raw_hist_list_list.append(raw_hist_list)\n",
    "    cal_matrices_list_list.append(cal_matrices_list)\n",
    "    \n",
    "    t2 = time.perf_counter()\n",
    "    \n",
    "    print(\"size\", num_qubits, \"finished (t = \", t2 - t1, \"s)\")"
   ]
  },
  {
   "cell_type": "code",
   "execution_count": 10,
   "id": "849a85ff",
   "metadata": {
    "scrolled": true
   },
   "outputs": [],
   "source": [
    "import pickle\n",
    "with open(\"pkls/raw_hist_list_list_65.pkl\", \"wb\") as f:\n",
    "    pickle.dump(raw_hist_list_list, f)\n",
    "with open(\"pkls/cal_matrices_list_list.pkl\", \"wb\") as f:\n",
    "    pickle.dump(cal_matrices_list_list, f)"
   ]
  }
 ],
 "metadata": {
  "kernelspec": {
   "display_name": "Python 3 (ipykernel)",
   "language": "python",
   "name": "python3"
  },
  "language_info": {
   "codemirror_mode": {
    "name": "ipython",
    "version": 3
   },
   "file_extension": ".py",
   "mimetype": "text/x-python",
   "name": "python",
   "nbconvert_exporter": "python",
   "pygments_lexer": "ipython3",
   "version": "3.9.7"
  }
 },
 "nbformat": 4,
 "nbformat_minor": 5
}

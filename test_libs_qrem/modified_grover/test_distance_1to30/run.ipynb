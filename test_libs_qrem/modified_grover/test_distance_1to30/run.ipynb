{
 "cells": [
  {
   "cell_type": "code",
   "execution_count": 1,
   "id": "7e74e6f6",
   "metadata": {},
   "outputs": [],
   "source": [
    "from typing import *\n",
    "import sys\n",
    "import importlib\n",
    "import inspect\n",
    "import math\n",
    "import numpy as np\n",
    "np.set_printoptions(threshold=sys.maxsize)\n",
    "%matplotlib inline\n",
    "import matplotlib.pyplot as plt\n",
    "plt.style.use('ggplot')\n",
    "import pickle\n",
    "import time"
   ]
  },
  {
   "cell_type": "code",
   "execution_count": 2,
   "id": "e0055872",
   "metadata": {},
   "outputs": [
    {
     "name": "stderr",
     "output_type": "stream",
     "text": [
      "/var/folders/vr/d82vcp297v78vk4sb0_nzzdc0000gn/T/ipykernel_14668/1908178760.py:7: DeprecationWarning: The qiskit.ignis package is deprecated and has been supersceded by the qiskit-experiments project. Refer to the migration guide: https://github.com/Qiskit/qiskit-ignis#migration-guide on how to migrate to the new project.\n",
      "  import qiskit.ignis.mitigation as mit\n"
     ]
    }
   ],
   "source": [
    "from pprint import pprint\n",
    "from qiskit import QuantumCircuit, QuantumRegister, ClassicalRegister\n",
    "from qiskit import Aer, IBMQ, execute\n",
    "from qiskit.transpiler.passes import RemoveBarriers\n",
    "from qiskit.circuit import Parameter\n",
    "from qiskit.compiler import transpile\n",
    "import qiskit.ignis.mitigation as mit\n",
    "from qiskit.providers.aer.noise import NoiseModel\n",
    "from qiskit.providers.aer.noise import QuantumError, ReadoutError\n",
    "from qiskit.ignis.mitigation.measurement import tensored_meas_cal, TensoredMeasFitter"
   ]
  },
  {
   "cell_type": "code",
   "execution_count": 3,
   "id": "1819ee5f",
   "metadata": {},
   "outputs": [],
   "source": [
    "shots = 1 << 13\n",
    "max_iter = 10\n",
    "min_size = 1\n",
    "max_size = 30"
   ]
  },
  {
   "cell_type": "code",
   "execution_count": 4,
   "id": "faf3a37d",
   "metadata": {},
   "outputs": [
    {
     "name": "stdout",
     "output_type": "stream",
     "text": [
      "size 1 finished (t =  0.80654033 s)\n",
      "size 2 finished (t =  0.7537445119999999 s)\n",
      "size 3 finished (t =  0.9774438499999998 s)\n",
      "size 4 finished (t =  1.1721098950000002 s)\n",
      "size 5 finished (t =  1.4013362010000003 s)\n",
      "size 6 finished (t =  1.6234314240000005 s)\n",
      "size 7 finished (t =  1.8523673079999998 s)\n",
      "size 8 finished (t =  2.1205825469999997 s)\n",
      "size 9 finished (t =  2.506936908 s)\n",
      "size 10 finished (t =  2.734710570999999 s)\n",
      "size 11 finished (t =  2.833866202000003 s)\n",
      "size 12 finished (t =  3.156479138999998 s)\n",
      "size 13 finished (t =  3.4264305519999994 s)\n",
      "size 14 finished (t =  3.6987422320000007 s)\n",
      "size 15 finished (t =  3.894418292000001 s)\n",
      "size 16 finished (t =  4.177113133000006 s)\n",
      "size 17 finished (t =  4.499878734999996 s)\n",
      "size 18 finished (t =  4.871092001000001 s)\n",
      "size 19 finished (t =  5.100744525000003 s)\n",
      "size 20 finished (t =  5.410287621000002 s)\n",
      "size 21 finished (t =  5.756722938000003 s)\n",
      "size 22 finished (t =  6.112885437000003 s)\n",
      "size 23 finished (t =  6.449070592999988 s)\n",
      "size 24 finished (t =  6.869145618999994 s)\n",
      "size 25 finished (t =  7.538435930000006 s)\n",
      "size 26 finished (t =  7.991778307000004 s)\n",
      "size 27 finished (t =  8.481708071 s)\n",
      "size 28 finished (t =  8.476594770000005 s)\n",
      "size 29 finished (t =  8.809694449999995 s)\n",
      "size 30 finished (t =  9.530096940000007 s)\n"
     ]
    }
   ],
   "source": [
    "raw_hist_list_list = []\n",
    "meas_fitter_list_list = []\n",
    "for num_qubits in range(min_size, max_size + 1):\n",
    "    \n",
    "    t1 = time.perf_counter()\n",
    "    \n",
    "    noise_model = NoiseModel()\n",
    "    for qi in range(num_qubits):\n",
    "        if qi >= 0:\n",
    "            read_err = ReadoutError([[0.950, 0.050],[0.050,0.950]])\n",
    "            noise_model.add_readout_error(read_err, [qi])\n",
    "            \n",
    "    raw_hist_list = []\n",
    "    meas_fitter_list = []\n",
    "    for i in range(max_iter):\n",
    "        qc_y = QuantumCircuit(num_qubits)\n",
    "        qc_y.measure_all()\n",
    "        job = execute(qc_y, backend=Aer.get_backend('qasm_simulator'), shots=shots, noise_model=noise_model, seed_transpiler=i, seed_simulator=i)\n",
    "        raw_hist_list.append(job.result().get_counts())\n",
    "        \n",
    "        qr = QuantumRegister(num_qubits)\n",
    "        mit_pattern = [[i] for i in range(num_qubits)]\n",
    "        meas_calibs, state_labels = tensored_meas_cal(mit_pattern=mit_pattern, qr=qr, circlabel='mcal')\n",
    "        job = execute(meas_calibs, backend=Aer.get_backend('qasm_simulator'), shots=shots, noise_model=noise_model, seed_transpiler=100 * i, seed_simulator=100 * i)\n",
    "        cal_results = job.result()\n",
    "        meas_fitter = TensoredMeasFitter(cal_results, mit_pattern=mit_pattern)\n",
    "        meas_fitter_list.append(meas_fitter)\n",
    "    \n",
    "    raw_hist_list_list.append(raw_hist_list)\n",
    "    meas_fitter_list_list.append(meas_fitter_list)\n",
    "    \n",
    "    t2 = time.perf_counter()\n",
    "    \n",
    "    print(\"size\", num_qubits, \"finished (t = \", t2 - t1, \"s)\")"
   ]
  },
  {
   "cell_type": "code",
   "execution_count": 6,
   "id": "32a6ec8c",
   "metadata": {},
   "outputs": [],
   "source": [
    "with open(\"pkls/raw_hist_list_list.pkl\", \"wb\") as f:\n",
    "    pickle.dump(raw_hist_list_list, f)\n",
    "with open(\"pkls/meas_fitter_list_list.pkl\", \"wb\") as f:\n",
    "    pickle.dump(meas_fitter_list_list, f)"
   ]
  }
 ],
 "metadata": {
  "kernelspec": {
   "display_name": "Python 3 (ipykernel)",
   "language": "python",
   "name": "python3"
  },
  "language_info": {
   "codemirror_mode": {
    "name": "ipython",
    "version": 3
   },
   "file_extension": ".py",
   "mimetype": "text/x-python",
   "name": "python",
   "nbconvert_exporter": "python",
   "pygments_lexer": "ipython3",
   "version": "3.9.7"
  }
 },
 "nbformat": 4,
 "nbformat_minor": 5
}

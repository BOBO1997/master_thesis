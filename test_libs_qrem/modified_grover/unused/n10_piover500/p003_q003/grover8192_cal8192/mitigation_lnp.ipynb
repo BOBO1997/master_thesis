{
 "cells": [
  {
   "cell_type": "code",
   "execution_count": 1,
   "metadata": {},
   "outputs": [],
   "source": [
    "import sys\n",
    "sys.path.append('../../')\n",
    "from pprint import pprint\n",
    "import time\n",
    "import pickle\n",
    "import importlib\n",
    "import numpy as np"
   ]
  },
  {
   "cell_type": "code",
   "execution_count": 2,
   "metadata": {},
   "outputs": [],
   "source": [
    "from qiskit.ignis.mitigation.measurement import TensoredMeasFitter\n",
    "from lib_grover import make_hit_list\n",
    "from libs_qrem import LeastNormFilter"
   ]
  },
  {
   "cell_type": "code",
   "execution_count": 3,
   "metadata": {},
   "outputs": [],
   "source": [
    "nbit = 10 # change this value to get discretized result closer to analytical results # 3\n",
    "#setting the number of shots and Grover operators.\n",
    "max_iter = 10\n",
    "number_grover_list = [1, 2, 4, 8, 16, 32, 64]  # list of number of Grover operators\n",
    "shots = 8192\n",
    "shots_list = [shots] * len(number_grover_list) # list of number of shots\n",
    "if len(shots_list) != len(number_grover_list):\n",
    "    raise Exception('The length of shots_list should be equal to the length eof number_grover_list.')"
   ]
  },
  {
   "cell_type": "code",
   "execution_count": 4,
   "metadata": {},
   "outputs": [],
   "source": [
    "with open(\"pkls/raw_hist_list_list.pkl\", \"rb\") as f:\n",
    "    raw_hist_list_list = pickle.load(f)\n",
    "with open(\"pkls/meas_fitters.pkl\", \"rb\") as f:\n",
    "    meas_fitters = pickle.load(f)"
   ]
  },
  {
   "cell_type": "code",
   "execution_count": 5,
   "metadata": {},
   "outputs": [
    {
     "name": "stdout",
     "output_type": "stream",
     "text": [
      "size 0 finished\n",
      "length of lnp_mitigator_list:  10\n"
     ]
    }
   ],
   "source": [
    "lnp_mitigator_list = []\n",
    "for i in range(0, max_iter):\n",
    "    lnp_mitigator_list.append(LeastNormFilter(nbit + 1, meas_fitters[i].cal_matrices))\n",
    "    if i % 10 == 0:\n",
    "        print(\"size\", i, \"finished\")\n",
    "print(\"length of lnp_mitigator_list: \", len(lnp_mitigator_list))"
   ]
  },
  {
   "cell_type": "code",
   "execution_count": 6,
   "metadata": {},
   "outputs": [],
   "source": [
    "def get_info(mitigator):\n",
    "    return {\"exact_one_norm_of_reduced_inv_A\": mitigator.exact_one_norm_of_reduced_inv_A(),\n",
    "            \"mitigated_hist\": mitigator.mitigated_hist(),\n",
    "            \"times\": mitigator.times(),\n",
    "            \"mitigation_stddev\": mitigator.mitigation_stddev(norm_type = \"exact\"),\n",
    "            }"
   ]
  },
  {
   "cell_type": "code",
   "execution_count": 7,
   "metadata": {
    "scrolled": true
   },
   "outputs": [
    {
     "name": "stdout",
     "output_type": "stream",
     "text": [
      "iter 0 finished\n",
      "iter 1 finished\n",
      "iter 2 finished\n",
      "iter 3 finished\n",
      "iter 4 finished\n",
      "iter 5 finished\n",
      "iter 6 finished\n",
      "iter 7 finished\n",
      "iter 8 finished\n",
      "iter 9 finished\n"
     ]
    }
   ],
   "source": [
    "lnp_info_list_list = []\n",
    "lnp_hit_list_list = []\n",
    "for i, raw_hist_list in enumerate(raw_hist_list_list):\n",
    "    lnp_info_list = []\n",
    "    lnp_hist_list = []\n",
    "    for raw_hist in raw_hist_list:\n",
    "        lnp_hist_list.append( lnp_mitigator_list[i].apply(raw_hist) )\n",
    "        lnp_info_list.append( get_info(lnp_mitigator_list[i]) )\n",
    "    lnp_hit_list_list.append( make_hit_list(lnp_hist_list) )\n",
    "    lnp_info_list_list.append( lnp_info_list )\n",
    "    print(\"iter\", i, \"finished\")"
   ]
  },
  {
   "cell_type": "code",
   "execution_count": 8,
   "metadata": {},
   "outputs": [],
   "source": [
    "with open(\"pkls/lnp_info_list_list.pkl\", \"wb\") as f:\n",
    "    pickle.dump(lnp_info_list_list, f)\n",
    "with open(\"pkls/lnp_hit_list_list.pkl\", \"wb\") as f:\n",
    "    pickle.dump(lnp_hit_list_list, f)"
   ]
  }
 ],
 "metadata": {
  "kernelspec": {
   "display_name": "Python 3 (ipykernel)",
   "language": "python",
   "name": "python3"
  },
  "language_info": {
   "codemirror_mode": {
    "name": "ipython",
    "version": 3
   },
   "file_extension": ".py",
   "mimetype": "text/x-python",
   "name": "python",
   "nbconvert_exporter": "python",
   "pygments_lexer": "ipython3",
   "version": "3.9.7"
  }
 },
 "nbformat": 4,
 "nbformat_minor": 2
}

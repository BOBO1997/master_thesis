{
 "cells": [
  {
   "cell_type": "code",
   "execution_count": 1,
   "id": "2020ce9e",
   "metadata": {},
   "outputs": [],
   "source": [
    "import random\n",
    "import numpy as np\n",
    "import time"
   ]
  },
  {
   "cell_type": "code",
   "execution_count": 2,
   "id": "eb3ce731",
   "metadata": {},
   "outputs": [],
   "source": [
    "def sim_all_zero(n, shots = 8192, p = 0.05):\n",
    "    hist = dict()\n",
    "    for _ in range(shots):\n",
    "        all_zero = [\"0\" for _ in range(n)]\n",
    "        for i in range(n):\n",
    "            if random.uniform(0, 1) < p:\n",
    "                all_zero[n - 1 - i] = \"1\"\n",
    "        state = \"\".join(all_zero)\n",
    "        if state in hist:\n",
    "            hist[state] += 1\n",
    "        else:\n",
    "            hist[state] = 1\n",
    "    return hist"
   ]
  },
  {
   "cell_type": "code",
   "execution_count": 3,
   "id": "db81c5b9",
   "metadata": {},
   "outputs": [],
   "source": [
    "def sim_all_one(n, shots = 8192, p = 0.05):\n",
    "    hist = dict()\n",
    "    for _ in range(shots):\n",
    "        all_one = [\"1\" for _ in range(n)]\n",
    "        for i in range(n):\n",
    "            if random.uniform(0, 1) < p:\n",
    "                all_one[n - 1 - i] = \"0\"\n",
    "        state = \"\".join(all_one)\n",
    "        if state in hist:\n",
    "            hist[state] += 1\n",
    "        else:\n",
    "            hist[state] = 1\n",
    "    return hist"
   ]
  },
  {
   "cell_type": "code",
   "execution_count": 4,
   "id": "d505efe3",
   "metadata": {},
   "outputs": [],
   "source": [
    "def reduce_hist(hist, poses):\n",
    "    n = len(poses)\n",
    "    ret_hist = {format(i, \"0\" + str(n) + \"b\"): 0 for i in range(1 << n)}\n",
    "    for k, v in hist.items():\n",
    "        pos = \"\"\n",
    "        for i in range(n):\n",
    "            pos += k[poses[i]]\n",
    "        ret_hist[pos] += v\n",
    "    return ret_hist"
   ]
  },
  {
   "cell_type": "code",
   "execution_count": 5,
   "id": "623e3716",
   "metadata": {},
   "outputs": [],
   "source": [
    "def make_cal_matrices(n, zero_hist, one_hist, shots = 8192):\n",
    "    cal_matrices = []\n",
    "    for i in range(n)[::-1]:\n",
    "        cal_matrix = [[0,0],[0,0]]\n",
    "        reduced_zero_hist = reduce_hist(zero_hist, [i])\n",
    "        reduced_one_hist = reduce_hist(one_hist, [i])\n",
    "        cal_matrix[0][0] = reduced_zero_hist[\"0\"] / shots\n",
    "        cal_matrix[0][1] = reduced_one_hist[\"0\"] / shots\n",
    "        cal_matrix[1][0] = reduced_zero_hist[\"1\"] / shots\n",
    "        cal_matrix[1][1] = reduced_one_hist[\"1\"] / shots\n",
    "        cal_matrices.append(cal_matrix)\n",
    "    return np.array(cal_matrices)"
   ]
  },
  {
   "cell_type": "code",
   "execution_count": 6,
   "id": "16a98645",
   "metadata": {},
   "outputs": [],
   "source": [
    "shots = 1 << 13\n",
    "max_iter = 10\n",
    "min_size = 1\n",
    "max_size = 65"
   ]
  },
  {
   "cell_type": "code",
   "execution_count": 7,
   "id": "1c42a27a",
   "metadata": {},
   "outputs": [
    {
     "name": "stdout",
     "output_type": "stream",
     "text": [
      "size 1 finished (t =  0.29222283799999893 s)\n",
      "size 2 finished (t =  0.37257834600000095 s)\n",
      "size 3 finished (t =  0.4738609320000009 s)\n",
      "size 4 finished (t =  0.5460079449999995 s)\n",
      "size 5 finished (t =  0.6066710579999999 s)\n",
      "size 6 finished (t =  0.6889044569999996 s)\n",
      "size 7 finished (t =  0.8120216599999992 s)\n",
      "size 8 finished (t =  0.9394990099999987 s)\n",
      "size 9 finished (t =  0.9741433309999987 s)\n",
      "size 10 finished (t =  1.0944687330000011 s)\n",
      "size 11 finished (t =  1.1505142750000026 s)\n",
      "size 12 finished (t =  1.2402031409999985 s)\n",
      "size 13 finished (t =  1.2524518849999993 s)\n",
      "size 14 finished (t =  1.34969392 s)\n",
      "size 15 finished (t =  1.4138325760000008 s)\n",
      "size 16 finished (t =  1.4934003889999978 s)\n",
      "size 17 finished (t =  1.5750052220000015 s)\n",
      "size 18 finished (t =  1.668191022000002 s)\n",
      "size 19 finished (t =  1.7357950649999978 s)\n",
      "size 20 finished (t =  1.8159780259999998 s)\n",
      "size 21 finished (t =  1.8975725979999964 s)\n",
      "size 22 finished (t =  1.9770665449999996 s)\n",
      "size 23 finished (t =  2.072779442000005 s)\n",
      "size 24 finished (t =  2.289206565999997 s)\n",
      "size 25 finished (t =  2.3439171979999998 s)\n",
      "size 26 finished (t =  2.4608368390000024 s)\n",
      "size 27 finished (t =  2.4665134870000003 s)\n",
      "size 28 finished (t =  2.813444447000002 s)\n",
      "size 29 finished (t =  2.7412301370000023 s)\n",
      "size 30 finished (t =  2.7826702350000048 s)\n",
      "size 31 finished (t =  2.757067949000003 s)\n",
      "size 32 finished (t =  2.9460834110000036 s)\n",
      "size 33 finished (t =  2.9816691319999933 s)\n",
      "size 34 finished (t =  3.047629178000008 s)\n",
      "size 35 finished (t =  3.2255278300000043 s)\n",
      "size 36 finished (t =  3.240293666999989 s)\n",
      "size 37 finished (t =  3.2729734899999983 s)\n",
      "size 38 finished (t =  3.5589746200000008 s)\n",
      "size 39 finished (t =  4.490049990999992 s)\n",
      "size 40 finished (t =  4.570822671999991 s)\n",
      "size 41 finished (t =  4.492049148999996 s)\n",
      "size 42 finished (t =  4.082576347 s)\n",
      "size 43 finished (t =  4.757361298999996 s)\n",
      "size 44 finished (t =  4.6014969099999945 s)\n",
      "size 45 finished (t =  4.737859632999999 s)\n",
      "size 46 finished (t =  4.580057573999994 s)\n",
      "size 47 finished (t =  4.7016501129999995 s)\n",
      "size 48 finished (t =  4.766456302999998 s)\n",
      "size 49 finished (t =  4.481456868999999 s)\n",
      "size 50 finished (t =  4.988407381000002 s)\n",
      "size 51 finished (t =  5.612031841000004 s)\n",
      "size 52 finished (t =  5.79258355799999 s)\n",
      "size 53 finished (t =  5.545695466000012 s)\n",
      "size 54 finished (t =  5.638429871 s)\n",
      "size 55 finished (t =  5.6265495389999955 s)\n",
      "size 56 finished (t =  6.149210670000002 s)\n",
      "size 57 finished (t =  6.036203048000004 s)\n",
      "size 58 finished (t =  6.304653262000016 s)\n",
      "size 59 finished (t =  6.080445077000007 s)\n",
      "size 60 finished (t =  6.444362686999995 s)\n",
      "size 61 finished (t =  6.190698360999988 s)\n",
      "size 62 finished (t =  6.778164006999987 s)\n",
      "size 63 finished (t =  6.584458232000003 s)\n",
      "size 64 finished (t =  6.466724989999989 s)\n",
      "size 65 finished (t =  7.008968101000022 s)\n"
     ]
    }
   ],
   "source": [
    "raw_hist_list_list = []\n",
    "cal_matrices_list_list = []\n",
    "for num_qubits in range(min_size, max_size + 1):\n",
    "    \n",
    "    t1 = time.perf_counter()\n",
    "            \n",
    "    raw_hist_list = []\n",
    "    cal_matrices_list = []\n",
    "    for i in range(max_iter):\n",
    "        raw_hist_list.append(sim_all_zero(num_qubits, shots = shots, p = 0.01))\n",
    "\n",
    "        zero_hist = sim_all_zero(num_qubits, shots = shots, p = 0.01)\n",
    "        one_hist = sim_all_one(num_qubits, shots = shots, p = 0.01)\n",
    "        cal_matrices_list.append(make_cal_matrices(num_qubits, zero_hist, one_hist, shots))\n",
    "    \n",
    "    raw_hist_list_list.append(raw_hist_list)\n",
    "    cal_matrices_list_list.append(cal_matrices_list)\n",
    "    \n",
    "    t2 = time.perf_counter()\n",
    "    \n",
    "    print(\"size\", num_qubits, \"finished (t = \", t2 - t1, \"s)\")"
   ]
  },
  {
   "cell_type": "code",
   "execution_count": 8,
   "id": "849a85ff",
   "metadata": {
    "scrolled": true
   },
   "outputs": [],
   "source": [
    "import pickle\n",
    "with open(\"pkls/raw_hist_list_list.pkl\", \"wb\") as f:\n",
    "    pickle.dump(raw_hist_list_list, f)\n",
    "with open(\"pkls/cal_matrices_list_list.pkl\", \"wb\") as f:\n",
    "    pickle.dump(cal_matrices_list_list, f)"
   ]
  }
 ],
 "metadata": {
  "kernelspec": {
   "display_name": "Python 3 (ipykernel)",
   "language": "python",
   "name": "python3"
  },
  "language_info": {
   "codemirror_mode": {
    "name": "ipython",
    "version": 3
   },
   "file_extension": ".py",
   "mimetype": "text/x-python",
   "name": "python",
   "nbconvert_exporter": "python",
   "pygments_lexer": "ipython3",
   "version": "3.9.7"
  }
 },
 "nbformat": 4,
 "nbformat_minor": 5
}

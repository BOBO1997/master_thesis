{
 "cells": [
  {
   "cell_type": "code",
   "execution_count": 1,
   "metadata": {},
   "outputs": [],
   "source": [
    "import sys\n",
    "sys.path.append('../../../')\n",
    "from pprint import pprint\n",
    "import time\n",
    "import pickle\n",
    "import importlib\n",
    "import numpy as np"
   ]
  },
  {
   "cell_type": "code",
   "execution_count": 2,
   "metadata": {},
   "outputs": [],
   "source": [
    "from qiskit.ignis.mitigation.measurement import TensoredMeasFitter\n",
    "from lib_grover import make_hit_list\n",
    "from libs_qrem import IgnisFilter"
   ]
  },
  {
   "cell_type": "code",
   "execution_count": 3,
   "metadata": {},
   "outputs": [],
   "source": [
    "nbit = 20 # change this value to get discretized result closer to analytical results # 3\n",
    "#setting the number of shots and Grover operators.\n",
    "max_iter = 10"
   ]
  },
  {
   "cell_type": "code",
   "execution_count": 4,
   "metadata": {},
   "outputs": [],
   "source": [
    "with open(\"pkls/raw_hist_list_list.pkl\", \"rb\") as f:\n",
    "    raw_hist_list_list = pickle.load(f)\n",
    "with open(\"pkls/meas_fitters.pkl\", \"rb\") as f:\n",
    "    meas_fitters = pickle.load(f)"
   ]
  },
  {
   "cell_type": "code",
   "execution_count": 5,
   "metadata": {},
   "outputs": [
    {
     "name": "stdout",
     "output_type": "stream",
     "text": [
      "size 0 finished\n",
      "length of ignis_mitigator_list:  10\n"
     ]
    }
   ],
   "source": [
    "ignis_mitigator_list = []\n",
    "for i in range(0, max_iter):\n",
    "    ignis_mitigator_list.append(IgnisFilter(nbit + 1, meas_fitters[i].cal_matrices))\n",
    "    if i % 10 == 0:\n",
    "        print(\"size\", i, \"finished\")\n",
    "print(\"length of ignis_mitigator_list: \", len(ignis_mitigator_list))"
   ]
  },
  {
   "cell_type": "code",
   "execution_count": 6,
   "metadata": {},
   "outputs": [],
   "source": [
    "def get_info(mitigator):\n",
    "    return {# \"exact_one_norm_of_reduced_inv_A\": mitigator.exact_one_norm_of_reduced_inv_A(),\n",
    "            \"mitigated_hist\": mitigator.mitigated_hist(),\n",
    "            \"times\": mitigator.times(),\n",
    "            # \"mitigation_stddev\": mitigator.mitigation_stddev(norm_type = \"exact\"),\n",
    "            }"
   ]
  },
  {
   "cell_type": "code",
   "execution_count": 7,
   "metadata": {
    "scrolled": true
   },
   "outputs": [
    {
     "name": "stdout",
     "output_type": "stream",
     "text": [
      "iter 0 finished 5.431459689 s\n",
      "iter 1 finished 5.2022705049999995 s\n",
      "iter 2 finished 5.460440358000001 s\n",
      "iter 3 finished 5.761974042999999 s\n",
      "iter 4 finished 5.574863606000001 s\n",
      "iter 5 finished 5.944979193999998 s\n",
      "iter 6 finished 5.662670511000002 s\n",
      "iter 7 finished 6.0855555229999965 s\n",
      "iter 8 finished 5.694048081999995 s\n",
      "iter 9 finished 5.595568053000001 s\n"
     ]
    }
   ],
   "source": [
    "ignis_info_list_list = []\n",
    "ignis_hit_list_list = []\n",
    "for i, raw_hist_list in enumerate(raw_hist_list_list):\n",
    "    ignis_info_list = []\n",
    "    ignis_hist_list = []\n",
    "    t1 = time.perf_counter()\n",
    "    for raw_hist in raw_hist_list:\n",
    "        ignis_hist_list.append( ignis_mitigator_list[i].apply(raw_hist) )\n",
    "        ignis_info_list.append( get_info(ignis_mitigator_list[i]) )\n",
    "    ignis_hit_list_list.append( make_hit_list(ignis_hist_list) )\n",
    "    ignis_info_list_list.append( ignis_info_list )\n",
    "    t2 = time.perf_counter()\n",
    "    print(\"iter\", i, \"finished\", t2 - t1, \"s\")"
   ]
  },
  {
   "cell_type": "code",
   "execution_count": 8,
   "metadata": {},
   "outputs": [],
   "source": [
    "with open(\"pkls/ignis_info_list_list.pkl\", \"wb\") as f:\n",
    "    pickle.dump(ignis_info_list_list, f)\n",
    "with open(\"pkls/ignis_hit_list_list.pkl\", \"wb\") as f:\n",
    "    pickle.dump(ignis_hit_list_list, f)"
   ]
  }
 ],
 "metadata": {
  "kernelspec": {
   "display_name": "Python 3 (ipykernel)",
   "language": "python",
   "name": "python3"
  },
  "language_info": {
   "codemirror_mode": {
    "name": "ipython",
    "version": 3
   },
   "file_extension": ".py",
   "mimetype": "text/x-python",
   "name": "python",
   "nbconvert_exporter": "python",
   "pygments_lexer": "ipython3",
   "version": "3.9.7"
  }
 },
 "nbformat": 4,
 "nbformat_minor": 2
}

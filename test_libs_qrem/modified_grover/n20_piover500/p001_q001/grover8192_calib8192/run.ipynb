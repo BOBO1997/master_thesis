{
 "cells": [
  {
   "cell_type": "markdown",
   "metadata": {},
   "source": [
    "### Approximating the integral\n",
    "\n",
    "It is easy to see that as we use large $n$ (i.e., more qubits) and thus larger $b_{\\mbox{max}}$, we can approximate the integral better as illustrated below. "
   ]
  },
  {
   "cell_type": "code",
   "execution_count": 1,
   "metadata": {},
   "outputs": [],
   "source": [
    "import math\n",
    "import sys\n",
    "sys.path.append('../../')\n",
    "from pprint import pprint\n",
    "import time\n",
    "import numpy as np\n",
    "import matplotlib.pyplot as plt\n",
    "plt.style.use('ggplot')\n",
    "import pickle\n",
    "seed = 42\n",
    "np.random.seed(seed)"
   ]
  },
  {
   "cell_type": "code",
   "execution_count": 2,
   "metadata": {},
   "outputs": [
    {
     "name": "stdout",
     "output_type": "stream",
     "text": [
      "Analytical Result: 1.315936863217701e-05\n",
      "Discretized Result: 1.3159368632142957e-05\n",
      "theoretical theta:  0.0036275923634797222\n"
     ]
    }
   ],
   "source": [
    "# analyticalResult = sin^2(θ)\n",
    "# θ = arcsin(sqrt(analyticalResult))\n",
    "b_max = math.pi / 500  # upper limit of integral # 5\n",
    "nbit = 20  # change this value to get discretized result closer to analytical results # 3\n",
    "\n",
    "analyticResult = (b_max / 2.0 - math.sin(2 * b_max) / 4.0 ) / b_max  # the target integral can be analytically solved\n",
    "print(\"Analytical Result:\", analyticResult)\n",
    "\n",
    "ndiv = 2 ** nbit  #number of discretization \n",
    "discretizedResult = 0.0\n",
    "for i in range(ndiv):\n",
    "    discretizedResult += math.sin(b_max / ndiv * (i + 0.5)) ** 2\n",
    "discretizedResult = discretizedResult / ndiv\n",
    "print(\"Discretized Result:\", discretizedResult)\n",
    "\n",
    "print(\"theoretical theta: \", np.arcsin(np.sqrt(analyticResult)))"
   ]
  },
  {
   "cell_type": "code",
   "execution_count": 3,
   "metadata": {},
   "outputs": [],
   "source": [
    "from qiskit import QuantumRegister\n",
    "from qiskit import execute\n",
    "from qiskit import Aer\n",
    "from scipy import optimize\n",
    "from lib_grover import *"
   ]
  },
  {
   "cell_type": "code",
   "execution_count": 4,
   "metadata": {},
   "outputs": [],
   "source": [
    "#setting the number of shots and Grover operators.\n",
    "max_iter = 10\n",
    "number_grover_list = [1, 2, 4, 8, 16, 32, 64]  # list of number of Grover operators\n",
    "shots = 8192\n",
    "shots_list = [shots] * len(number_grover_list) # list of number of shots\n",
    "if len(shots_list) != len(number_grover_list):\n",
    "    raise Exception('The length of shots_list should be equal to the length eof number_grover_list.')\n",
    "\n",
    "backend = Aer.get_backend('qasm_simulator')"
   ]
  },
  {
   "cell_type": "code",
   "execution_count": 5,
   "metadata": {},
   "outputs": [],
   "source": [
    "qc_list = create_grover_circuit(number_grover_list, nbit,b_max)  # list of Grover circuits"
   ]
  },
  {
   "cell_type": "code",
   "execution_count": 6,
   "metadata": {},
   "outputs": [],
   "source": [
    "from qiskit.providers.aer.noise import NoiseModel\n",
    "from qiskit.providers.aer.noise import QuantumError, ReadoutError\n",
    "from qiskit.providers.aer.noise import depolarizing_error\n",
    "import qiskit.ignis.mitigation as mit\n",
    "from qiskit.ignis.mitigation.measurement import tensored_meas_cal, TensoredMeasFitter\n",
    "from lib_grover import *\n",
    "noise_model = None"
   ]
  },
  {
   "cell_type": "code",
   "execution_count": 7,
   "metadata": {},
   "outputs": [],
   "source": [
    "noise_model = NoiseModel()\n",
    "for qi in range(nbit+1):\n",
    "    if qi >= 0:\n",
    "        read_err = ReadoutError([[0.990, 0.010],[0.010,0.990]])\n",
    "        noise_model.add_readout_error(read_err, [qi])"
   ]
  },
  {
   "cell_type": "code",
   "execution_count": 8,
   "metadata": {},
   "outputs": [
    {
     "name": "stdout",
     "output_type": "stream",
     "text": [
      "\n",
      "iter=(7/7)\n",
      "iter=(7/7)\n",
      "iter=(7/7)\n",
      "iter=(7/7)\n",
      "iter=(7/7)\n",
      "iter=(7/7)\n",
      "iter=(7/7)\n",
      "iter=(7/7)\n",
      "iter=(7/7)\n",
      "iter=(7/7))\n",
      "\n",
      " 288.18751489 s\n"
     ]
    }
   ],
   "source": [
    "t1 = time.perf_counter()\n",
    "raw_hist_list_list = []\n",
    "for i in range(max_iter): # set the seed as index i\n",
    "    sys.stdout.write(\"\\ntry=(%d/%d)\\r\" % ((i + 1), max_iter))\n",
    "    raw_hist_list = run_grover(qc_list, number_grover_list, shots_list, backend, noise_model=noise_model, seed_transpiler=i, seed_simulator=i)  # list of number of grover operators\n",
    "    raw_hist_list_list.append(raw_hist_list)\n",
    "    sys.stdout.flush()\n",
    "t2 = time.perf_counter()\n",
    "print(\"\\n\\n\", t2 - t1, \"s\")"
   ]
  },
  {
   "cell_type": "code",
   "execution_count": 9,
   "metadata": {},
   "outputs": [
    {
     "name": "stdout",
     "output_type": "stream",
     "text": [
      "iter 0 finished\n",
      "iter 1 finished\n",
      "iter 2 finished\n",
      "iter 3 finished\n",
      "iter 4 finished\n",
      "iter 5 finished\n",
      "iter 6 finished\n",
      "iter 7 finished\n",
      "iter 8 finished\n",
      "iter 9 finished\n"
     ]
    }
   ],
   "source": [
    "shots = 8192\n",
    "qr = QuantumRegister(nbit+1)\n",
    "mit_pattern = [[i] for i in range(nbit+1)]\n",
    "meas_calibs, state_labels = tensored_meas_cal(mit_pattern=mit_pattern, qr=qr, circlabel='mcal')\n",
    "meas_fitters = []\n",
    "for i in range(max_iter):\n",
    "    job = execute(meas_calibs, backend=Aer.get_backend('qasm_simulator'), shots=shots, noise_model=noise_model, seed_transpiler=i, seed_simulator=i)\n",
    "    cal_results = job.result()\n",
    "    meas_fitter = TensoredMeasFitter(cal_results, mit_pattern=mit_pattern)\n",
    "    meas_fitters.append(meas_fitter)\n",
    "    print(\"iter\", i, \"finished\")"
   ]
  },
  {
   "cell_type": "code",
   "execution_count": 10,
   "metadata": {},
   "outputs": [],
   "source": [
    "with open(\"pkls/raw_hist_list_list.pkl\", \"wb\") as f:\n",
    "    pickle.dump(raw_hist_list_list, f)"
   ]
  },
  {
   "cell_type": "code",
   "execution_count": 11,
   "metadata": {},
   "outputs": [],
   "source": [
    "with open(\"pkls/meas_fitters.pkl\", \"wb\") as f:\n",
    "    pickle.dump(meas_fitters, f)"
   ]
  },
  {
   "cell_type": "markdown",
   "metadata": {},
   "source": [
    "# test"
   ]
  },
  {
   "cell_type": "code",
   "execution_count": 12,
   "metadata": {},
   "outputs": [
    {
     "name": "stdout",
     "output_type": "stream",
     "text": [
      "iter 1 finished\n",
      "iter 2 finished\n",
      "iter 3 finished\n",
      "iter 4 finished\n",
      "iter 5 finished\n",
      "iter 6 finished\n",
      "iter 7 finished\n",
      "iter 8 finished\n",
      "iter 9 finished\n",
      "iter 10 finished\n"
     ]
    }
   ],
   "source": [
    "raw_hit_list_list = []\n",
    "for i in range(max_iter):\n",
    "    raw_hit_list_list.append( make_hit_list(raw_hist_list_list[i]) )\n",
    "    print(\"iter\", i + 1, \"finished\")"
   ]
  },
  {
   "cell_type": "code",
   "execution_count": 13,
   "metadata": {},
   "outputs": [
    {
     "data": {
      "text/plain": [
       "Text(0, 0.5, 'number of shots for $|00...0>$')"
      ]
     },
     "execution_count": 13,
     "metadata": {},
     "output_type": "execute_result"
    },
    {
     "data": {
      "image/png": "[encoded data removed]",
      "text/plain": [
       "<Figure size 432x288 with 1 Axes>"
      ]
     },
     "metadata": {},
     "output_type": "display_data"
    }
   ],
   "source": [
    "divide = len(number_grover_list)\n",
    "plt.plot(np.linspace(number_grover_list[0], number_grover_list[-1], 100), \n",
    "         shots * np.cos(2 * np.linspace(number_grover_list[0], number_grover_list[-1], 100) * np.arcsin(np.sqrt(discretizedResult))) ** 2, \n",
    "         label=\"theoretical curve\", color=\"C0\") # resolved, 2021.12.27\n",
    "plt.scatter(number_grover_list, raw_hit_list_list[-1], marker=\"o\", label=\"raw results\", color=\"C1\")\n",
    "plt.legend(bbox_to_anchor=(1.05, 1), loc='upper left', borderaxespad=0, fontsize=18)\n",
    "plt.title(\"10-qubit, p(0->1): 0.01, p(1->0): 0.01\")\n",
    "plt.xlabel(\"number of grover iterations $m$\")\n",
    "plt.ylabel(\"number of shots for $|00...0>$\")"
   ]
  },
  {
   "cell_type": "code",
   "execution_count": 14,
   "metadata": {},
   "outputs": [
    {
     "name": "stderr",
     "output_type": "stream",
     "text": [
      "/Users/yangbo/Documents/projects/master_thesis/test_libs_qrem/modified_grover/n20_piover500/p001_q001/../../lib_grover.py:224: RuntimeWarning: invalid value encountered in sqrt\n",
      "  theta = np.arcsin(np.sqrt(p))\n"
     ]
    },
    {
     "name": "stdout",
     "output_type": "stream",
     "text": [
      "iter 1 finished\n",
      "iter 2 finished\n",
      "iter 3 finished\n",
      "iter 4 finished\n",
      "iter 5 finished\n",
      "iter 6 finished\n",
      "iter 7 finished\n",
      "iter 8 finished\n",
      "iter 9 finished\n",
      "iter 10 finished\n"
     ]
    }
   ],
   "source": [
    "thetaCandidate_raw_list_list = []\n",
    "for iter_count, raw_hit_list in enumerate(raw_hit_list_list):\n",
    "    thetaCandidate_raw_list_list.append( calculate_theta(raw_hit_list, number_grover_list, shots_list) )\n",
    "    print(\"iter\", iter_count + 1, \"finished\")"
   ]
  },
  {
   "cell_type": "code",
   "execution_count": 15,
   "metadata": {},
   "outputs": [],
   "source": [
    "error_raw_list = np.zeros_like(number_grover_list,dtype=float)\n",
    "error_raw_list_list = [np.zeros_like(number_grover_list,dtype=float)]\n",
    "for thetaCandidate_raw_list in thetaCandidate_raw_list_list:\n",
    "    error_raw_list += (np.sin(thetaCandidate_raw_list)**2 - discretizedResult)**2  # list of estimation errors\n",
    "    error_raw_list_list.append(np.sin(thetaCandidate_raw_list)**2 - discretizedResult)\n",
    "error_raw_list = ( error_raw_list / (max_iter - 1) ) ** (1 / 2)"
   ]
  },
  {
   "cell_type": "code",
   "execution_count": 16,
   "metadata": {},
   "outputs": [],
   "source": [
    "OracleCall_list = []  # list of number of oracle calls\n",
    "ErrorCramérRao_list = []  # list of Cramér-Rao lower bound\n",
    "for i in range(len(number_grover_list)):\n",
    "    OracleCall_list.append( CalcNumberOracleCalls(i, shots_list, number_grover_list) )\n",
    "    ErrorCramérRao_list.append( CalcErrorCramérRao(i, shots_list, discretizedResult, number_grover_list) )"
   ]
  },
  {
   "cell_type": "code",
   "execution_count": 17,
   "metadata": {},
   "outputs": [
    {
     "data": {
      "text/plain": [
       "<matplotlib.legend.Legend at 0x7fdb75bf0670>"
      ]
     },
     "execution_count": 17,
     "metadata": {},
     "output_type": "execute_result"
    },
    {
     "data": {
      "image/png": "[encoded data removed]",
      "text/plain": [
       "<Figure size 432x288 with 1 Axes>"
      ]
     },
     "metadata": {},
     "output_type": "display_data"
    }
   ],
   "source": [
    "plt.clf()\n",
    "plt.style.use('ggplot')\n",
    "p_theoretical = plt.loglog( OracleCall_list, ErrorCramérRao_list, color='C0')\n",
    "p_raw = plt.loglog( OracleCall_list, error_raw_list, 'o', color='C1', markersize=6)\n",
    "\n",
    "plt.title(\"10-qubit, p(0|1)=p(1|0)=0.01, b_max=π/500\")\n",
    "plt.xlim(OracleCall_list[0]*0.9, OracleCall_list[-1]*1.5)\n",
    "plt.xlabel(\"number of oracle calls\")\n",
    "plt.ylim(0.00000001, 1)\n",
    "plt.ylabel(\"estimation error\")\n",
    "plt.grid(True, which=\"both\", ls=\"dotted\")\n",
    "plt.legend((p_theoretical[0], p_raw[0]), \n",
    "           (\"theoretical lower bound\", \"raw\"),\n",
    "           bbox_to_anchor=(1.05, 1), loc='upper left', borderaxespad=0)"
   ]
  },
  {
   "cell_type": "code",
   "execution_count": null,
   "metadata": {},
   "outputs": [],
   "source": []
  }
 ],
 "metadata": {
  "kernelspec": {
   "display_name": "Python 3 (ipykernel)",
   "language": "python",
   "name": "python3"
  },
  "language_info": {
   "codemirror_mode": {
    "name": "ipython",
    "version": 3
   },
   "file_extension": ".py",
   "mimetype": "text/x-python",
   "name": "python",
   "nbconvert_exporter": "python",
   "pygments_lexer": "ipython3",
   "version": "3.9.7"
  }
 },
 "nbformat": 4,
 "nbformat_minor": 2
}

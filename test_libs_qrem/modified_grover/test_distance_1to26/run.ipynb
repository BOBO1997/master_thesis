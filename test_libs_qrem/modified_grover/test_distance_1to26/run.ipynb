{
 "cells": [
  {
   "cell_type": "code",
   "execution_count": 1,
   "id": "7e74e6f6",
   "metadata": {},
   "outputs": [],
   "source": [
    "from typing import *\n",
    "import sys\n",
    "import importlib\n",
    "import inspect\n",
    "import math\n",
    "import numpy as np\n",
    "np.set_printoptions(threshold=sys.maxsize)\n",
    "%matplotlib inline\n",
    "import matplotlib.pyplot as plt\n",
    "plt.style.use('ggplot')\n",
    "import pickle"
   ]
  },
  {
   "cell_type": "code",
   "execution_count": 2,
   "id": "e0055872",
   "metadata": {},
   "outputs": [
    {
     "name": "stderr",
     "output_type": "stream",
     "text": [
      "/var/folders/vr/d82vcp297v78vk4sb0_nzzdc0000gn/T/ipykernel_28930/1908178760.py:7: DeprecationWarning: The qiskit.ignis package is deprecated and has been supersceded by the qiskit-experiments project. Refer to the migration guide: https://github.com/Qiskit/qiskit-ignis#migration-guide on how to migrate to the new project.\n",
      "  import qiskit.ignis.mitigation as mit\n"
     ]
    }
   ],
   "source": [
    "from pprint import pprint\n",
    "from qiskit import QuantumCircuit, QuantumRegister, ClassicalRegister\n",
    "from qiskit import Aer, IBMQ, execute\n",
    "from qiskit.transpiler.passes import RemoveBarriers\n",
    "from qiskit.circuit import Parameter\n",
    "from qiskit.compiler import transpile\n",
    "import qiskit.ignis.mitigation as mit\n",
    "from qiskit.providers.aer.noise import NoiseModel\n",
    "from qiskit.providers.aer.noise import QuantumError, ReadoutError\n",
    "from qiskit.ignis.mitigation.measurement import tensored_meas_cal, TensoredMeasFitter"
   ]
  },
  {
   "cell_type": "code",
   "execution_count": 3,
   "id": "1819ee5f",
   "metadata": {},
   "outputs": [],
   "source": [
    "shots = 1 << 13\n",
    "max_iter = 10"
   ]
  },
  {
   "cell_type": "code",
   "execution_count": 4,
   "id": "faf3a37d",
   "metadata": {},
   "outputs": [
    {
     "name": "stdout",
     "output_type": "stream",
     "text": [
      "size 21 finished\n",
      "size 22 finished\n",
      "size 23 finished\n",
      "size 24 finished\n",
      "size 25 finished\n"
     ]
    }
   ],
   "source": [
    "raw_hist_list_list = []\n",
    "meas_fitter_list_list = []\n",
    "for num_qubits in range(21, 26):\n",
    "    \n",
    "    noise_model = NoiseModel()\n",
    "    for qi in range(num_qubits):\n",
    "        if qi >= 0:\n",
    "            read_err = ReadoutError([[0.950, 0.050],[0.050,0.950]])\n",
    "            noise_model.add_readout_error(read_err, [qi])\n",
    "            \n",
    "    raw_hist_list = []\n",
    "    meas_fitter_list = []\n",
    "    for i in range(max_iter):\n",
    "        qc_y = QuantumCircuit(num_qubits)\n",
    "        qc_y.measure_all()\n",
    "        job = execute(qc_y, backend=Aer.get_backend('qasm_simulator'), shots=shots, noise_model=noise_model, seed_transpiler=i, seed_simulator=i)\n",
    "        raw_hist_list.append(job.result().get_counts())\n",
    "        \n",
    "        qr = QuantumRegister(num_qubits)\n",
    "        mit_pattern = [[i] for i in range(num_qubits)]\n",
    "        meas_calibs, state_labels = tensored_meas_cal(mit_pattern=mit_pattern, qr=qr, circlabel='mcal')\n",
    "        job = execute(meas_calibs, backend=Aer.get_backend('qasm_simulator'), shots=shots, noise_model=noise_model, seed_transpiler=100 * i, seed_simulator=100 * i)\n",
    "        cal_results = job.result()\n",
    "        meas_fitter = TensoredMeasFitter(cal_results, mit_pattern=mit_pattern)\n",
    "        meas_fitter_list.append(meas_fitter)\n",
    "    \n",
    "    raw_hist_list_list.append(raw_hist_list)\n",
    "    meas_fitter_list_list.append(meas_fitter_list)\n",
    "    print(\"size\", num_qubits, \"finished\")"
   ]
  },
  {
   "cell_type": "code",
   "execution_count": 5,
   "id": "32a6ec8c",
   "metadata": {},
   "outputs": [],
   "source": [
    "with open(\"pkls/raw_hist_list_list.pkl\", \"wb\") as f:\n",
    "    pickle.dump(raw_hist_list_list, f)\n",
    "with open(\"pkls/meas_fitter_list_list.pkl\", \"wb\") as f:\n",
    "    pickle.dump(meas_fitter_list_list, f)"
   ]
  },
  {
   "cell_type": "code",
   "execution_count": null,
   "id": "141a2975",
   "metadata": {},
   "outputs": [],
   "source": []
  }
 ],
 "metadata": {
  "kernelspec": {
   "display_name": "Python 3 (ipykernel)",
   "language": "python",
   "name": "python3"
  },
  "language_info": {
   "codemirror_mode": {
    "name": "ipython",
    "version": 3
   },
   "file_extension": ".py",
   "mimetype": "text/x-python",
   "name": "python",
   "nbconvert_exporter": "python",
   "pygments_lexer": "ipython3",
   "version": "3.9.7"
  }
 },
 "nbformat": 4,
 "nbformat_minor": 5
}
